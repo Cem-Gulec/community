{
 "cells": [
  {
   "cell_type": "markdown",
   "id": "f3d59636",
   "metadata": {},
   "source": [
    "# Building the `community` Database\n",
    "\n",
    "In this notebook, you'll find explanations of essential functions for constructing the 'community' database. These functions provide users with the flexibility to auto update the database or perform manual interventions during preprocessing. You can also customize the database by providing your own annotations or specifying lists of ligands and receptors to align it with your specific research requirements."
   ]
  },
  {
   "cell_type": "markdown",
   "id": "853bf818",
   "metadata": {},
   "source": [
    "**For users looking to quickly update the database, simply run the following command:**\n",
    "\n",
    "If you are using the community `conda environment`, the necessary libraries should be installed. However, if you are using a different virtual environment, and do not have the dependencies for [mygene](https://mygene.info/) and [OmniPathR](https://omnipathdb.org/), please install."
   ]
  },
  {
   "cell_type": "code",
   "execution_count": 1,
   "id": "f1490b11",
   "metadata": {},
   "outputs": [],
   "source": [
    "library(community) # load community package"
   ]
  },
  {
   "cell_type": "code",
   "execution_count": 2,
   "id": "7204bf8a",
   "metadata": {},
   "outputs": [
    {
     "data": {
      "text/plain": [
       "R version 4.1.2 (2021-11-01)\n",
       "Platform: x86_64-pc-linux-gnu (64-bit)\n",
       "Running under: Ubuntu 22.04.3 LTS\n",
       "\n",
       "Matrix products: default\n",
       "BLAS:   /usr/lib/x86_64-linux-gnu/openblas-pthread/libblas.so.3\n",
       "LAPACK: /usr/lib/x86_64-linux-gnu/openblas-pthread/libopenblasp-r0.3.20.so\n",
       "\n",
       "locale:\n",
       " [1] LC_CTYPE=en_US.UTF-8       LC_NUMERIC=C              \n",
       " [3] LC_TIME=de_DE.UTF-8        LC_COLLATE=en_US.UTF-8    \n",
       " [5] LC_MONETARY=de_DE.UTF-8    LC_MESSAGES=en_US.UTF-8   \n",
       " [7] LC_PAPER=de_DE.UTF-8       LC_NAME=C                 \n",
       " [9] LC_ADDRESS=C               LC_TELEPHONE=C            \n",
       "[11] LC_MEASUREMENT=de_DE.UTF-8 LC_IDENTIFICATION=C       \n",
       "\n",
       "attached base packages:\n",
       "[1] stats     graphics  grDevices utils     datasets  methods   base     \n",
       "\n",
       "other attached packages:\n",
       "[1] community_1.4.1\n",
       "\n",
       "loaded via a namespace (and not attached):\n",
       "  [1] readxl_1.4.1                uuid_1.1-0                 \n",
       "  [3] backports_1.4.1             Hmisc_4.7-2                \n",
       "  [5] BiocFileCache_2.2.1         plyr_1.8.8                 \n",
       "  [7] igraph_1.4.2                repr_1.1.4                 \n",
       "  [9] splines_4.1.2               BiocParallel_1.28.3        \n",
       " [11] GenomeInfoDb_1.30.1         ggplot2_3.4.4              \n",
       " [13] digest_0.6.31               htmltools_0.5.4            \n",
       " [15] OmnipathR_3.7.0             fansi_1.0.6                \n",
       " [17] magrittr_2.0.3              checkmate_2.1.0            \n",
       " [19] memoise_2.0.1               googlesheets4_1.0.1        \n",
       " [21] cluster_2.1.4               tzdb_0.3.0                 \n",
       " [23] Biostrings_2.62.0           readr_2.1.3                \n",
       " [25] modelr_0.1.9                matrixStats_0.63.0         \n",
       " [27] timechange_0.1.1            prettyunits_1.1.1          \n",
       " [29] jpeg_0.1-9                  colorspace_2.1-0           \n",
       " [31] blob_1.2.3                  rvest_1.0.3                \n",
       " [33] rappdirs_0.3.3              haven_2.5.1                \n",
       " [35] xfun_0.35                   dplyr_1.0.10               \n",
       " [37] crayon_1.5.2                RCurl_1.98-1.8             \n",
       " [39] jsonlite_1.8.4              survival_3.4-0             \n",
       " [41] glue_1.7.0.9000             gtable_0.3.4               \n",
       " [43] gargle_1.2.1                zlibbioc_1.40.0            \n",
       " [45] XVector_0.34.0              DelayedArray_0.20.0        \n",
       " [47] BiocGenerics_0.40.0         scales_1.3.0               \n",
       " [49] DBI_1.1.3                   Rcpp_1.0.9                 \n",
       " [51] progress_1.2.2              htmlTable_2.4.1            \n",
       " [53] foreign_0.8-82              bit_4.0.5                  \n",
       " [55] Formula_1.2-4               sqldf_0.4-11               \n",
       " [57] stats4_4.1.2                htmlwidgets_1.5.4          \n",
       " [59] httr_1.4.4                  RColorBrewer_1.1-3         \n",
       " [61] ellipsis_0.3.2              pkgconfig_2.0.3            \n",
       " [63] XML_3.99-0.12               nnet_7.3-17                \n",
       " [65] dbplyr_2.2.1                deldir_1.0-6               \n",
       " [67] utf8_1.2.4                  tidyselect_1.2.0           \n",
       " [69] rlang_1.1.3                 later_1.3.0                \n",
       " [71] AnnotationDbi_1.56.2        munsell_0.5.0              \n",
       " [73] cellranger_1.1.0            tools_4.1.2                \n",
       " [75] cachem_1.0.6                cli_3.6.2                  \n",
       " [77] gsubfn_0.7                  generics_0.1.3             \n",
       " [79] RSQLite_2.2.17              mygene_1.30.0              \n",
       " [81] broom_1.0.1                 evaluate_0.19              \n",
       " [83] stringr_1.5.1               fastmap_1.1.0              \n",
       " [85] yaml_2.3.6                  knitr_1.41                 \n",
       " [87] bit64_4.0.5                 fs_1.5.2                   \n",
       " [89] purrr_0.3.5                 KEGGREST_1.34.0            \n",
       " [91] xml2_1.3.3                  biomaRt_2.50.3             \n",
       " [93] compiler_4.1.2              rstudioapi_0.14            \n",
       " [95] filelock_1.0.2              curl_4.3.3                 \n",
       " [97] png_0.1-8                   reprex_2.0.2               \n",
       " [99] tibble_3.2.1                stringi_1.8.3              \n",
       "[101] GenomicFeatures_1.46.5      forcats_0.5.2              \n",
       "[103] logger_0.2.2                lattice_0.20-45            \n",
       "[105] IRdisplay_1.1               Matrix_1.5-1               \n",
       "[107] vctrs_0.6.5                 pillar_1.9.0               \n",
       "[109] lifecycle_1.0.4             data.table_1.14.8          \n",
       "[111] bitops_1.0-7                rtracklayer_1.54.0         \n",
       "[113] GenomicRanges_1.46.1        R6_2.5.1                   \n",
       "[115] BiocIO_1.4.0                latticeExtra_0.6-30        \n",
       "[117] gridExtra_2.3               IRanges_2.28.0             \n",
       "[119] assertthat_0.2.1            chron_2.3-57               \n",
       "[121] proto_1.0.0                 SummarizedExperiment_1.24.0\n",
       "[123] rjson_0.2.21                withr_3.0.0                \n",
       "[125] GenomicAlignments_1.30.0    Rsamtools_2.10.0           \n",
       "[127] S4Vectors_0.32.4            GenomeInfoDbData_1.2.7     \n",
       "[129] parallel_4.1.2              hms_1.1.2                  \n",
       "[131] grid_4.1.2                  rpart_4.1.16               \n",
       "[133] tidyverse_1.3.2             IRkernel_1.3               \n",
       "[135] tidyr_1.2.1                 rmarkdown_2.19             \n",
       "[137] MatrixGenerics_1.6.0        googledrive_2.0.0          \n",
       "[139] pbdZMQ_0.3-7                Biobase_2.54.0             \n",
       "[141] lubridate_1.9.0             base64enc_0.1-3            \n",
       "[143] interp_1.1-3                restfulr_0.0.15            "
      ]
     },
     "metadata": {},
     "output_type": "display_data"
    }
   ],
   "source": [
    "sessionInfo()"
   ]
  },
  {
   "cell_type": "code",
   "execution_count": 3,
   "id": "7d2c5bf1",
   "metadata": {},
   "outputs": [
    {
     "name": "stdout",
     "output_type": "stream",
     "text": [
      "[1] \"Retrieved interactions from both DB\"\n",
      "[1] \"2109 Number of complex pairs detected\"\n",
      "[1] \"13582 Number of non-redundant binary pairs produced\"\n",
      "[1] \"1262 Number of binary pairs detected through PPI\"\n",
      "[1] \"Number of PPI network interactions found:\"\n",
      "[1] 1262\n",
      "[1] \"7415 Non-redundant number of pairs in the DB\"\n"
     ]
    },
    {
     "name": "stderr",
     "output_type": "stream",
     "text": [
      "Warning message in map_gene_data(complete_data):\n",
      "“If this function fails, it may be due to internet connectivity issues. Try running it again.”\n",
      "Querying chunk 1\n",
      "\n",
      "Querying chunk 2\n",
      "\n",
      "Querying chunk 3\n",
      "\n"
     ]
    },
    {
     "name": "stdout",
     "output_type": "stream",
     "text": [
      "Finished\n",
      "Pass returnall=TRUE to return lists of duplicate or missing query terms.\n"
     ]
    }
   ],
   "source": [
    "LR_database <- auto_update_db(\"both\") "
   ]
  },
  {
   "cell_type": "markdown",
   "id": "28c92682",
   "metadata": {},
   "source": [
    "If you do not have `mygene` and `OmniPathR` libraries installed please uncomment the block by removing the dash symbol, #, and run the following."
   ]
  },
  {
   "cell_type": "code",
   "execution_count": 4,
   "id": "0da59418",
   "metadata": {},
   "outputs": [],
   "source": [
    "# if (!require(\"BiocManager\", quietly = TRUE))\n",
    "#     install.packages(\"BiocManager\")\n",
    "\n",
    "# BiocManager::install(\"mygene\")"
   ]
  },
  {
   "cell_type": "code",
   "execution_count": 5,
   "id": "1307b8ed",
   "metadata": {},
   "outputs": [],
   "source": [
    "# if (!require(\"BiocManager\", quietly = TRUE))\n",
    "#     install.packages(\"BiocManager\")\n",
    "\n",
    "# BiocManager::install(\"OmnipathR\")"
   ]
  },
  {
   "cell_type": "markdown",
   "id": "4f15098e",
   "metadata": {},
   "source": [
    "# Building step by step\n",
    "\n"
   ]
  },
  {
   "cell_type": "markdown",
   "id": "62b57299",
   "metadata": {},
   "source": [
    "### Import the database of interest from OmniPath"
   ]
  },
  {
   "cell_type": "markdown",
   "id": "3ffe78d0",
   "metadata": {},
   "source": [
    "This function imports ligand-receptor interaction data based on the specified database type. It allows for the selection of `noncurated`, `curated`, or `both` types of databases."
   ]
  },
  {
   "cell_type": "code",
   "execution_count": 6,
   "id": "d9126c13",
   "metadata": {},
   "outputs": [
    {
     "name": "stdout",
     "output_type": "stream",
     "text": [
      "[1] \"Retrieved interactions from both DB\"\n"
     ]
    }
   ],
   "source": [
    "db <- import_db(\"both\")\n",
    "# db <- import_db(\"curated\")\n",
    "# db <- import_db(\"noncurated\")"
   ]
  },
  {
   "cell_type": "markdown",
   "id": "bd9c86da",
   "metadata": {},
   "source": [
    "### Break down complex interactions"
   ]
  },
  {
   "cell_type": "markdown",
   "id": "afe312a8",
   "metadata": {},
   "source": [
    "Next, we processes the database to handle complex rows where either the target or the source is a complex. It splits such complex interactions into pairwise binary interactions."
   ]
  },
  {
   "cell_type": "code",
   "execution_count": 7,
   "id": "29d8eeb5",
   "metadata": {},
   "outputs": [
    {
     "name": "stdout",
     "output_type": "stream",
     "text": [
      "[1] \"2109 Number of complex pairs detected\"\n",
      "[1] \"13582 Number of non-redundant binary pairs produced\"\n"
     ]
    }
   ],
   "source": [
    "pairwise_pairs <- create_pairwise_pairs(db)"
   ]
  },
  {
   "cell_type": "code",
   "execution_count": 8,
   "id": "a8f50e93",
   "metadata": {},
   "outputs": [
    {
     "data": {
      "text/html": [
       "<table class=\"dataframe\">\n",
       "<caption>A data.frame: 6 × 20</caption>\n",
       "<thead>\n",
       "\t<tr><th></th><th scope=col>Pair.Name</th><th scope=col>Ligand</th><th scope=col>Receptor</th><th scope=col>complex_pair</th><th scope=col>source</th><th scope=col>target</th><th scope=col>source_genesymbol</th><th scope=col>target_genesymbol</th><th scope=col>is_directed</th><th scope=col>is_stimulation</th><th scope=col>is_inhibition</th><th scope=col>consensus_direction</th><th scope=col>consensus_stimulation</th><th scope=col>consensus_inhibition</th><th scope=col>sources</th><th scope=col>references</th><th scope=col>curation_effort</th><th scope=col>n_references</th><th scope=col>n_resources</th><th scope=col>annotation_strategy</th></tr>\n",
       "\t<tr><th></th><th scope=col>&lt;chr&gt;</th><th scope=col>&lt;chr&gt;</th><th scope=col>&lt;chr&gt;</th><th scope=col>&lt;chr&gt;</th><th scope=col>&lt;chr&gt;</th><th scope=col>&lt;chr&gt;</th><th scope=col>&lt;chr&gt;</th><th scope=col>&lt;chr&gt;</th><th scope=col>&lt;dbl&gt;</th><th scope=col>&lt;dbl&gt;</th><th scope=col>&lt;dbl&gt;</th><th scope=col>&lt;dbl&gt;</th><th scope=col>&lt;dbl&gt;</th><th scope=col>&lt;dbl&gt;</th><th scope=col>&lt;chr&gt;</th><th scope=col>&lt;chr&gt;</th><th scope=col>&lt;dbl&gt;</th><th scope=col>&lt;dbl&gt;</th><th scope=col>&lt;int&gt;</th><th scope=col>&lt;chr&gt;</th></tr>\n",
       "</thead>\n",
       "<tbody>\n",
       "\t<tr><th scope=row>1</th><td>IL17A_IL17RA </td><td>IL17A </td><td>IL17RA</td><td>IL17A_IL17RA_IL17RC</td><td>Q16552</td><td>COMPLEX:Q8NAC3_Q96F46</td><td>IL17A</td><td>IL17RA_IL17RC</td><td>1</td><td>1</td><td>0</td><td>1</td><td>1</td><td>0</td><td>CellChatDB;CellPhoneDB;Cellinker;ICELLNET;SIGNOR</td><td>Cellinker:19838198;Cellinker:25204502;Cellinker:9367539;ICELLNET:24011563;SIGNOR:32024054</td><td>5</td><td>5</td><td>5</td><td>both</td></tr>\n",
       "\t<tr><th scope=row>2</th><td>IL17A_IL17RC </td><td>IL17A </td><td>IL17RC</td><td>IL17A_IL17RA_IL17RC</td><td>Q16552</td><td>COMPLEX:Q8NAC3_Q96F46</td><td>IL17A</td><td>IL17RA_IL17RC</td><td>1</td><td>1</td><td>0</td><td>1</td><td>1</td><td>0</td><td>CellChatDB;CellPhoneDB;Cellinker;ICELLNET;SIGNOR</td><td>Cellinker:19838198;Cellinker:25204502;Cellinker:9367539;ICELLNET:24011563;SIGNOR:32024054</td><td>5</td><td>5</td><td>5</td><td>both</td></tr>\n",
       "\t<tr><th scope=row>3</th><td>IL17RA_IL17RC</td><td>IL17RA</td><td>IL17RC</td><td>IL17A_IL17RA_IL17RC</td><td>Q16552</td><td>COMPLEX:Q8NAC3_Q96F46</td><td>IL17A</td><td>IL17RA_IL17RC</td><td>1</td><td>1</td><td>0</td><td>1</td><td>1</td><td>0</td><td>CellChatDB;CellPhoneDB;Cellinker;ICELLNET;SIGNOR</td><td>Cellinker:19838198;Cellinker:25204502;Cellinker:9367539;ICELLNET:24011563;SIGNOR:32024054</td><td>5</td><td>5</td><td>5</td><td>both</td></tr>\n",
       "\t<tr><th scope=row>4</th><td>IL17RA_IL17A </td><td>IL17RA</td><td>IL17A </td><td>IL17A_IL17RA_IL17RC</td><td>Q16552</td><td>COMPLEX:Q8NAC3_Q96F46</td><td>IL17A</td><td>IL17RA_IL17RC</td><td>1</td><td>1</td><td>0</td><td>1</td><td>1</td><td>0</td><td>CellChatDB;CellPhoneDB;Cellinker;ICELLNET;SIGNOR</td><td>Cellinker:19838198;Cellinker:25204502;Cellinker:9367539;ICELLNET:24011563;SIGNOR:32024054</td><td>5</td><td>5</td><td>5</td><td>both</td></tr>\n",
       "\t<tr><th scope=row>5</th><td>IL17RC_IL17A </td><td>IL17RC</td><td>IL17A </td><td>IL17A_IL17RA_IL17RC</td><td>Q16552</td><td>COMPLEX:Q8NAC3_Q96F46</td><td>IL17A</td><td>IL17RA_IL17RC</td><td>1</td><td>1</td><td>0</td><td>1</td><td>1</td><td>0</td><td>CellChatDB;CellPhoneDB;Cellinker;ICELLNET;SIGNOR</td><td>Cellinker:19838198;Cellinker:25204502;Cellinker:9367539;ICELLNET:24011563;SIGNOR:32024054</td><td>5</td><td>5</td><td>5</td><td>both</td></tr>\n",
       "\t<tr><th scope=row>6</th><td>IL17RC_IL17RA</td><td>IL17RC</td><td>IL17RA</td><td>IL17A_IL17RA_IL17RC</td><td>Q16552</td><td>COMPLEX:Q8NAC3_Q96F46</td><td>IL17A</td><td>IL17RA_IL17RC</td><td>1</td><td>1</td><td>0</td><td>1</td><td>1</td><td>0</td><td>CellChatDB;CellPhoneDB;Cellinker;ICELLNET;SIGNOR</td><td>Cellinker:19838198;Cellinker:25204502;Cellinker:9367539;ICELLNET:24011563;SIGNOR:32024054</td><td>5</td><td>5</td><td>5</td><td>both</td></tr>\n",
       "</tbody>\n",
       "</table>\n"
      ],
      "text/latex": [
       "A data.frame: 6 × 20\n",
       "\\begin{tabular}{r|llllllllllllllllllll}\n",
       "  & Pair.Name & Ligand & Receptor & complex\\_pair & source & target & source\\_genesymbol & target\\_genesymbol & is\\_directed & is\\_stimulation & is\\_inhibition & consensus\\_direction & consensus\\_stimulation & consensus\\_inhibition & sources & references & curation\\_effort & n\\_references & n\\_resources & annotation\\_strategy\\\\\n",
       "  & <chr> & <chr> & <chr> & <chr> & <chr> & <chr> & <chr> & <chr> & <dbl> & <dbl> & <dbl> & <dbl> & <dbl> & <dbl> & <chr> & <chr> & <dbl> & <dbl> & <int> & <chr>\\\\\n",
       "\\hline\n",
       "\t1 & IL17A\\_IL17RA  & IL17A  & IL17RA & IL17A\\_IL17RA\\_IL17RC & Q16552 & COMPLEX:Q8NAC3\\_Q96F46 & IL17A & IL17RA\\_IL17RC & 1 & 1 & 0 & 1 & 1 & 0 & CellChatDB;CellPhoneDB;Cellinker;ICELLNET;SIGNOR & Cellinker:19838198;Cellinker:25204502;Cellinker:9367539;ICELLNET:24011563;SIGNOR:32024054 & 5 & 5 & 5 & both\\\\\n",
       "\t2 & IL17A\\_IL17RC  & IL17A  & IL17RC & IL17A\\_IL17RA\\_IL17RC & Q16552 & COMPLEX:Q8NAC3\\_Q96F46 & IL17A & IL17RA\\_IL17RC & 1 & 1 & 0 & 1 & 1 & 0 & CellChatDB;CellPhoneDB;Cellinker;ICELLNET;SIGNOR & Cellinker:19838198;Cellinker:25204502;Cellinker:9367539;ICELLNET:24011563;SIGNOR:32024054 & 5 & 5 & 5 & both\\\\\n",
       "\t3 & IL17RA\\_IL17RC & IL17RA & IL17RC & IL17A\\_IL17RA\\_IL17RC & Q16552 & COMPLEX:Q8NAC3\\_Q96F46 & IL17A & IL17RA\\_IL17RC & 1 & 1 & 0 & 1 & 1 & 0 & CellChatDB;CellPhoneDB;Cellinker;ICELLNET;SIGNOR & Cellinker:19838198;Cellinker:25204502;Cellinker:9367539;ICELLNET:24011563;SIGNOR:32024054 & 5 & 5 & 5 & both\\\\\n",
       "\t4 & IL17RA\\_IL17A  & IL17RA & IL17A  & IL17A\\_IL17RA\\_IL17RC & Q16552 & COMPLEX:Q8NAC3\\_Q96F46 & IL17A & IL17RA\\_IL17RC & 1 & 1 & 0 & 1 & 1 & 0 & CellChatDB;CellPhoneDB;Cellinker;ICELLNET;SIGNOR & Cellinker:19838198;Cellinker:25204502;Cellinker:9367539;ICELLNET:24011563;SIGNOR:32024054 & 5 & 5 & 5 & both\\\\\n",
       "\t5 & IL17RC\\_IL17A  & IL17RC & IL17A  & IL17A\\_IL17RA\\_IL17RC & Q16552 & COMPLEX:Q8NAC3\\_Q96F46 & IL17A & IL17RA\\_IL17RC & 1 & 1 & 0 & 1 & 1 & 0 & CellChatDB;CellPhoneDB;Cellinker;ICELLNET;SIGNOR & Cellinker:19838198;Cellinker:25204502;Cellinker:9367539;ICELLNET:24011563;SIGNOR:32024054 & 5 & 5 & 5 & both\\\\\n",
       "\t6 & IL17RC\\_IL17RA & IL17RC & IL17RA & IL17A\\_IL17RA\\_IL17RC & Q16552 & COMPLEX:Q8NAC3\\_Q96F46 & IL17A & IL17RA\\_IL17RC & 1 & 1 & 0 & 1 & 1 & 0 & CellChatDB;CellPhoneDB;Cellinker;ICELLNET;SIGNOR & Cellinker:19838198;Cellinker:25204502;Cellinker:9367539;ICELLNET:24011563;SIGNOR:32024054 & 5 & 5 & 5 & both\\\\\n",
       "\\end{tabular}\n"
      ],
      "text/markdown": [
       "\n",
       "A data.frame: 6 × 20\n",
       "\n",
       "| <!--/--> | Pair.Name &lt;chr&gt; | Ligand &lt;chr&gt; | Receptor &lt;chr&gt; | complex_pair &lt;chr&gt; | source &lt;chr&gt; | target &lt;chr&gt; | source_genesymbol &lt;chr&gt; | target_genesymbol &lt;chr&gt; | is_directed &lt;dbl&gt; | is_stimulation &lt;dbl&gt; | is_inhibition &lt;dbl&gt; | consensus_direction &lt;dbl&gt; | consensus_stimulation &lt;dbl&gt; | consensus_inhibition &lt;dbl&gt; | sources &lt;chr&gt; | references &lt;chr&gt; | curation_effort &lt;dbl&gt; | n_references &lt;dbl&gt; | n_resources &lt;int&gt; | annotation_strategy &lt;chr&gt; |\n",
       "|---|---|---|---|---|---|---|---|---|---|---|---|---|---|---|---|---|---|---|---|---|\n",
       "| 1 | IL17A_IL17RA  | IL17A  | IL17RA | IL17A_IL17RA_IL17RC | Q16552 | COMPLEX:Q8NAC3_Q96F46 | IL17A | IL17RA_IL17RC | 1 | 1 | 0 | 1 | 1 | 0 | CellChatDB;CellPhoneDB;Cellinker;ICELLNET;SIGNOR | Cellinker:19838198;Cellinker:25204502;Cellinker:9367539;ICELLNET:24011563;SIGNOR:32024054 | 5 | 5 | 5 | both |\n",
       "| 2 | IL17A_IL17RC  | IL17A  | IL17RC | IL17A_IL17RA_IL17RC | Q16552 | COMPLEX:Q8NAC3_Q96F46 | IL17A | IL17RA_IL17RC | 1 | 1 | 0 | 1 | 1 | 0 | CellChatDB;CellPhoneDB;Cellinker;ICELLNET;SIGNOR | Cellinker:19838198;Cellinker:25204502;Cellinker:9367539;ICELLNET:24011563;SIGNOR:32024054 | 5 | 5 | 5 | both |\n",
       "| 3 | IL17RA_IL17RC | IL17RA | IL17RC | IL17A_IL17RA_IL17RC | Q16552 | COMPLEX:Q8NAC3_Q96F46 | IL17A | IL17RA_IL17RC | 1 | 1 | 0 | 1 | 1 | 0 | CellChatDB;CellPhoneDB;Cellinker;ICELLNET;SIGNOR | Cellinker:19838198;Cellinker:25204502;Cellinker:9367539;ICELLNET:24011563;SIGNOR:32024054 | 5 | 5 | 5 | both |\n",
       "| 4 | IL17RA_IL17A  | IL17RA | IL17A  | IL17A_IL17RA_IL17RC | Q16552 | COMPLEX:Q8NAC3_Q96F46 | IL17A | IL17RA_IL17RC | 1 | 1 | 0 | 1 | 1 | 0 | CellChatDB;CellPhoneDB;Cellinker;ICELLNET;SIGNOR | Cellinker:19838198;Cellinker:25204502;Cellinker:9367539;ICELLNET:24011563;SIGNOR:32024054 | 5 | 5 | 5 | both |\n",
       "| 5 | IL17RC_IL17A  | IL17RC | IL17A  | IL17A_IL17RA_IL17RC | Q16552 | COMPLEX:Q8NAC3_Q96F46 | IL17A | IL17RA_IL17RC | 1 | 1 | 0 | 1 | 1 | 0 | CellChatDB;CellPhoneDB;Cellinker;ICELLNET;SIGNOR | Cellinker:19838198;Cellinker:25204502;Cellinker:9367539;ICELLNET:24011563;SIGNOR:32024054 | 5 | 5 | 5 | both |\n",
       "| 6 | IL17RC_IL17RA | IL17RC | IL17RA | IL17A_IL17RA_IL17RC | Q16552 | COMPLEX:Q8NAC3_Q96F46 | IL17A | IL17RA_IL17RC | 1 | 1 | 0 | 1 | 1 | 0 | CellChatDB;CellPhoneDB;Cellinker;ICELLNET;SIGNOR | Cellinker:19838198;Cellinker:25204502;Cellinker:9367539;ICELLNET:24011563;SIGNOR:32024054 | 5 | 5 | 5 | both |\n",
       "\n"
      ],
      "text/plain": [
       "  Pair.Name     Ligand Receptor complex_pair        source\n",
       "1 IL17A_IL17RA  IL17A  IL17RA   IL17A_IL17RA_IL17RC Q16552\n",
       "2 IL17A_IL17RC  IL17A  IL17RC   IL17A_IL17RA_IL17RC Q16552\n",
       "3 IL17RA_IL17RC IL17RA IL17RC   IL17A_IL17RA_IL17RC Q16552\n",
       "4 IL17RA_IL17A  IL17RA IL17A    IL17A_IL17RA_IL17RC Q16552\n",
       "5 IL17RC_IL17A  IL17RC IL17A    IL17A_IL17RA_IL17RC Q16552\n",
       "6 IL17RC_IL17RA IL17RC IL17RA   IL17A_IL17RA_IL17RC Q16552\n",
       "  target                source_genesymbol target_genesymbol is_directed\n",
       "1 COMPLEX:Q8NAC3_Q96F46 IL17A             IL17RA_IL17RC     1          \n",
       "2 COMPLEX:Q8NAC3_Q96F46 IL17A             IL17RA_IL17RC     1          \n",
       "3 COMPLEX:Q8NAC3_Q96F46 IL17A             IL17RA_IL17RC     1          \n",
       "4 COMPLEX:Q8NAC3_Q96F46 IL17A             IL17RA_IL17RC     1          \n",
       "5 COMPLEX:Q8NAC3_Q96F46 IL17A             IL17RA_IL17RC     1          \n",
       "6 COMPLEX:Q8NAC3_Q96F46 IL17A             IL17RA_IL17RC     1          \n",
       "  is_stimulation is_inhibition consensus_direction consensus_stimulation\n",
       "1 1              0             1                   1                    \n",
       "2 1              0             1                   1                    \n",
       "3 1              0             1                   1                    \n",
       "4 1              0             1                   1                    \n",
       "5 1              0             1                   1                    \n",
       "6 1              0             1                   1                    \n",
       "  consensus_inhibition sources                                         \n",
       "1 0                    CellChatDB;CellPhoneDB;Cellinker;ICELLNET;SIGNOR\n",
       "2 0                    CellChatDB;CellPhoneDB;Cellinker;ICELLNET;SIGNOR\n",
       "3 0                    CellChatDB;CellPhoneDB;Cellinker;ICELLNET;SIGNOR\n",
       "4 0                    CellChatDB;CellPhoneDB;Cellinker;ICELLNET;SIGNOR\n",
       "5 0                    CellChatDB;CellPhoneDB;Cellinker;ICELLNET;SIGNOR\n",
       "6 0                    CellChatDB;CellPhoneDB;Cellinker;ICELLNET;SIGNOR\n",
       "  references                                                                               \n",
       "1 Cellinker:19838198;Cellinker:25204502;Cellinker:9367539;ICELLNET:24011563;SIGNOR:32024054\n",
       "2 Cellinker:19838198;Cellinker:25204502;Cellinker:9367539;ICELLNET:24011563;SIGNOR:32024054\n",
       "3 Cellinker:19838198;Cellinker:25204502;Cellinker:9367539;ICELLNET:24011563;SIGNOR:32024054\n",
       "4 Cellinker:19838198;Cellinker:25204502;Cellinker:9367539;ICELLNET:24011563;SIGNOR:32024054\n",
       "5 Cellinker:19838198;Cellinker:25204502;Cellinker:9367539;ICELLNET:24011563;SIGNOR:32024054\n",
       "6 Cellinker:19838198;Cellinker:25204502;Cellinker:9367539;ICELLNET:24011563;SIGNOR:32024054\n",
       "  curation_effort n_references n_resources annotation_strategy\n",
       "1 5               5            5           both               \n",
       "2 5               5            5           both               \n",
       "3 5               5            5           both               \n",
       "4 5               5            5           both               \n",
       "5 5               5            5           both               \n",
       "6 5               5            5           both               "
      ]
     },
     "metadata": {},
     "output_type": "display_data"
    }
   ],
   "source": [
    "head(pairwise_pairs)"
   ]
  },
  {
   "cell_type": "markdown",
   "id": "410cd481",
   "metadata": {},
   "source": [
    "### Filter through PPI"
   ]
  },
  {
   "cell_type": "markdown",
   "id": "28a58efb",
   "metadata": {},
   "source": [
    "Now, we filter those binary pairs based on their presence in the protein-protein interaction (PPI) network."
   ]
  },
  {
   "cell_type": "code",
   "execution_count": 9,
   "id": "f9a73946",
   "metadata": {},
   "outputs": [
    {
     "name": "stdout",
     "output_type": "stream",
     "text": [
      "[1] \"1262 Number of binary pairs detected through PPI\"\n"
     ]
    }
   ],
   "source": [
    "pt_interactions <- filter_pairs_with_ppi(pairwise_pairs)"
   ]
  },
  {
   "cell_type": "code",
   "execution_count": 10,
   "id": "d7a94f3f",
   "metadata": {},
   "outputs": [
    {
     "data": {
      "text/html": [
       "<table class=\"dataframe\">\n",
       "<caption>A data.frame: 6 × 20</caption>\n",
       "<thead>\n",
       "\t<tr><th></th><th scope=col>Pair.Name</th><th scope=col>Ligand</th><th scope=col>Receptor</th><th scope=col>complex_pair</th><th scope=col>source</th><th scope=col>target</th><th scope=col>source_genesymbol</th><th scope=col>target_genesymbol</th><th scope=col>is_directed</th><th scope=col>is_stimulation</th><th scope=col>is_inhibition</th><th scope=col>consensus_direction</th><th scope=col>consensus_stimulation</th><th scope=col>consensus_inhibition</th><th scope=col>sources</th><th scope=col>references</th><th scope=col>curation_effort</th><th scope=col>n_references</th><th scope=col>n_resources</th><th scope=col>annotation_strategy</th></tr>\n",
       "\t<tr><th></th><th scope=col>&lt;chr&gt;</th><th scope=col>&lt;chr&gt;</th><th scope=col>&lt;chr&gt;</th><th scope=col>&lt;chr&gt;</th><th scope=col>&lt;chr&gt;</th><th scope=col>&lt;chr&gt;</th><th scope=col>&lt;chr&gt;</th><th scope=col>&lt;chr&gt;</th><th scope=col>&lt;dbl&gt;</th><th scope=col>&lt;dbl&gt;</th><th scope=col>&lt;dbl&gt;</th><th scope=col>&lt;dbl&gt;</th><th scope=col>&lt;dbl&gt;</th><th scope=col>&lt;dbl&gt;</th><th scope=col>&lt;chr&gt;</th><th scope=col>&lt;chr&gt;</th><th scope=col>&lt;dbl&gt;</th><th scope=col>&lt;dbl&gt;</th><th scope=col>&lt;int&gt;</th><th scope=col>&lt;chr&gt;</th></tr>\n",
       "</thead>\n",
       "<tbody>\n",
       "\t<tr><th scope=row>1</th><td>IL17A_IL17RA</td><td>IL17A </td><td>IL17RA</td><td>IL17A_IL17RA_IL17RC</td><td>Q16552               </td><td>COMPLEX:Q8NAC3_Q96F46</td><td>IL17A      </td><td>IL17RA_IL17RC</td><td>1</td><td>1</td><td>0</td><td>1</td><td>1</td><td>0</td><td>CellChatDB;CellPhoneDB;Cellinker;ICELLNET;SIGNOR</td><td>Cellinker:19838198;Cellinker:25204502;Cellinker:9367539;ICELLNET:24011563;SIGNOR:32024054</td><td>5</td><td>5</td><td>5</td><td>both</td></tr>\n",
       "\t<tr><th scope=row>2</th><td>IL17A_IL17RC</td><td>IL17A </td><td>IL17RC</td><td>IL17A_IL17RA_IL17RC</td><td>Q16552               </td><td>COMPLEX:Q8NAC3_Q96F46</td><td>IL17A      </td><td>IL17RA_IL17RC</td><td>1</td><td>1</td><td>0</td><td>1</td><td>1</td><td>0</td><td>CellChatDB;CellPhoneDB;Cellinker;ICELLNET;SIGNOR</td><td>Cellinker:19838198;Cellinker:25204502;Cellinker:9367539;ICELLNET:24011563;SIGNOR:32024054</td><td>5</td><td>5</td><td>5</td><td>both</td></tr>\n",
       "\t<tr><th scope=row>3</th><td>IL17RA_IL17A</td><td>IL17RA</td><td>IL17A </td><td>IL17A_IL17RA_IL17RC</td><td>Q16552               </td><td>COMPLEX:Q8NAC3_Q96F46</td><td>IL17A      </td><td>IL17RA_IL17RC</td><td>1</td><td>1</td><td>0</td><td>1</td><td>1</td><td>0</td><td>CellChatDB;CellPhoneDB;Cellinker;ICELLNET;SIGNOR</td><td>Cellinker:19838198;Cellinker:25204502;Cellinker:9367539;ICELLNET:24011563;SIGNOR:32024054</td><td>5</td><td>5</td><td>5</td><td>both</td></tr>\n",
       "\t<tr><th scope=row>4</th><td>NPNT_ITGA8  </td><td>NPNT  </td><td>ITGA8 </td><td>NPNT_ITGA8_ITGB1   </td><td>Q6UXI9               </td><td>COMPLEX:P05556_P53708</td><td>NPNT       </td><td>ITGA8_ITGB1  </td><td>1</td><td>1</td><td>0</td><td>1</td><td>1</td><td>0</td><td>Baccin2019;SIGNOR                               </td><td>Baccin2019:16988024;SIGNOR:22613833                                                      </td><td>2</td><td>2</td><td>2</td><td>LR  </td></tr>\n",
       "\t<tr><th scope=row>5</th><td>NPNT_ITGB1  </td><td>NPNT  </td><td>ITGB1 </td><td>NPNT_ITGA8_ITGB1   </td><td>Q6UXI9               </td><td>COMPLEX:P05556_P53708</td><td>NPNT       </td><td>ITGA8_ITGB1  </td><td>1</td><td>1</td><td>0</td><td>1</td><td>1</td><td>0</td><td>Baccin2019;SIGNOR                               </td><td>Baccin2019:16988024;SIGNOR:22613833                                                      </td><td>2</td><td>2</td><td>2</td><td>LR  </td></tr>\n",
       "\t<tr><th scope=row>6</th><td>ITGAL_ICAM1 </td><td>ITGAL </td><td>ICAM1 </td><td>ITGAL_ITGB2_ICAM1  </td><td>COMPLEX:P05107_P20701</td><td>P05362               </td><td>ITGAL_ITGB2</td><td>ICAM1        </td><td>1</td><td>1</td><td>0</td><td>0</td><td>0</td><td>0</td><td>Baccin2019;CellPhoneDB;ICELLNET;SIGNOR          </td><td>Baccin2019:16988024;ICELLNET:10940895;ICELLNET:23418628;SIGNOR:12808052                  </td><td>4</td><td>4</td><td>4</td><td>both</td></tr>\n",
       "</tbody>\n",
       "</table>\n"
      ],
      "text/latex": [
       "A data.frame: 6 × 20\n",
       "\\begin{tabular}{r|llllllllllllllllllll}\n",
       "  & Pair.Name & Ligand & Receptor & complex\\_pair & source & target & source\\_genesymbol & target\\_genesymbol & is\\_directed & is\\_stimulation & is\\_inhibition & consensus\\_direction & consensus\\_stimulation & consensus\\_inhibition & sources & references & curation\\_effort & n\\_references & n\\_resources & annotation\\_strategy\\\\\n",
       "  & <chr> & <chr> & <chr> & <chr> & <chr> & <chr> & <chr> & <chr> & <dbl> & <dbl> & <dbl> & <dbl> & <dbl> & <dbl> & <chr> & <chr> & <dbl> & <dbl> & <int> & <chr>\\\\\n",
       "\\hline\n",
       "\t1 & IL17A\\_IL17RA & IL17A  & IL17RA & IL17A\\_IL17RA\\_IL17RC & Q16552                & COMPLEX:Q8NAC3\\_Q96F46 & IL17A       & IL17RA\\_IL17RC & 1 & 1 & 0 & 1 & 1 & 0 & CellChatDB;CellPhoneDB;Cellinker;ICELLNET;SIGNOR & Cellinker:19838198;Cellinker:25204502;Cellinker:9367539;ICELLNET:24011563;SIGNOR:32024054 & 5 & 5 & 5 & both\\\\\n",
       "\t2 & IL17A\\_IL17RC & IL17A  & IL17RC & IL17A\\_IL17RA\\_IL17RC & Q16552                & COMPLEX:Q8NAC3\\_Q96F46 & IL17A       & IL17RA\\_IL17RC & 1 & 1 & 0 & 1 & 1 & 0 & CellChatDB;CellPhoneDB;Cellinker;ICELLNET;SIGNOR & Cellinker:19838198;Cellinker:25204502;Cellinker:9367539;ICELLNET:24011563;SIGNOR:32024054 & 5 & 5 & 5 & both\\\\\n",
       "\t3 & IL17RA\\_IL17A & IL17RA & IL17A  & IL17A\\_IL17RA\\_IL17RC & Q16552                & COMPLEX:Q8NAC3\\_Q96F46 & IL17A       & IL17RA\\_IL17RC & 1 & 1 & 0 & 1 & 1 & 0 & CellChatDB;CellPhoneDB;Cellinker;ICELLNET;SIGNOR & Cellinker:19838198;Cellinker:25204502;Cellinker:9367539;ICELLNET:24011563;SIGNOR:32024054 & 5 & 5 & 5 & both\\\\\n",
       "\t4 & NPNT\\_ITGA8   & NPNT   & ITGA8  & NPNT\\_ITGA8\\_ITGB1    & Q6UXI9                & COMPLEX:P05556\\_P53708 & NPNT        & ITGA8\\_ITGB1   & 1 & 1 & 0 & 1 & 1 & 0 & Baccin2019;SIGNOR                                & Baccin2019:16988024;SIGNOR:22613833                                                       & 2 & 2 & 2 & LR  \\\\\n",
       "\t5 & NPNT\\_ITGB1   & NPNT   & ITGB1  & NPNT\\_ITGA8\\_ITGB1    & Q6UXI9                & COMPLEX:P05556\\_P53708 & NPNT        & ITGA8\\_ITGB1   & 1 & 1 & 0 & 1 & 1 & 0 & Baccin2019;SIGNOR                                & Baccin2019:16988024;SIGNOR:22613833                                                       & 2 & 2 & 2 & LR  \\\\\n",
       "\t6 & ITGAL\\_ICAM1  & ITGAL  & ICAM1  & ITGAL\\_ITGB2\\_ICAM1   & COMPLEX:P05107\\_P20701 & P05362                & ITGAL\\_ITGB2 & ICAM1         & 1 & 1 & 0 & 0 & 0 & 0 & Baccin2019;CellPhoneDB;ICELLNET;SIGNOR           & Baccin2019:16988024;ICELLNET:10940895;ICELLNET:23418628;SIGNOR:12808052                   & 4 & 4 & 4 & both\\\\\n",
       "\\end{tabular}\n"
      ],
      "text/markdown": [
       "\n",
       "A data.frame: 6 × 20\n",
       "\n",
       "| <!--/--> | Pair.Name &lt;chr&gt; | Ligand &lt;chr&gt; | Receptor &lt;chr&gt; | complex_pair &lt;chr&gt; | source &lt;chr&gt; | target &lt;chr&gt; | source_genesymbol &lt;chr&gt; | target_genesymbol &lt;chr&gt; | is_directed &lt;dbl&gt; | is_stimulation &lt;dbl&gt; | is_inhibition &lt;dbl&gt; | consensus_direction &lt;dbl&gt; | consensus_stimulation &lt;dbl&gt; | consensus_inhibition &lt;dbl&gt; | sources &lt;chr&gt; | references &lt;chr&gt; | curation_effort &lt;dbl&gt; | n_references &lt;dbl&gt; | n_resources &lt;int&gt; | annotation_strategy &lt;chr&gt; |\n",
       "|---|---|---|---|---|---|---|---|---|---|---|---|---|---|---|---|---|---|---|---|---|\n",
       "| 1 | IL17A_IL17RA | IL17A  | IL17RA | IL17A_IL17RA_IL17RC | Q16552                | COMPLEX:Q8NAC3_Q96F46 | IL17A       | IL17RA_IL17RC | 1 | 1 | 0 | 1 | 1 | 0 | CellChatDB;CellPhoneDB;Cellinker;ICELLNET;SIGNOR | Cellinker:19838198;Cellinker:25204502;Cellinker:9367539;ICELLNET:24011563;SIGNOR:32024054 | 5 | 5 | 5 | both |\n",
       "| 2 | IL17A_IL17RC | IL17A  | IL17RC | IL17A_IL17RA_IL17RC | Q16552                | COMPLEX:Q8NAC3_Q96F46 | IL17A       | IL17RA_IL17RC | 1 | 1 | 0 | 1 | 1 | 0 | CellChatDB;CellPhoneDB;Cellinker;ICELLNET;SIGNOR | Cellinker:19838198;Cellinker:25204502;Cellinker:9367539;ICELLNET:24011563;SIGNOR:32024054 | 5 | 5 | 5 | both |\n",
       "| 3 | IL17RA_IL17A | IL17RA | IL17A  | IL17A_IL17RA_IL17RC | Q16552                | COMPLEX:Q8NAC3_Q96F46 | IL17A       | IL17RA_IL17RC | 1 | 1 | 0 | 1 | 1 | 0 | CellChatDB;CellPhoneDB;Cellinker;ICELLNET;SIGNOR | Cellinker:19838198;Cellinker:25204502;Cellinker:9367539;ICELLNET:24011563;SIGNOR:32024054 | 5 | 5 | 5 | both |\n",
       "| 4 | NPNT_ITGA8   | NPNT   | ITGA8  | NPNT_ITGA8_ITGB1    | Q6UXI9                | COMPLEX:P05556_P53708 | NPNT        | ITGA8_ITGB1   | 1 | 1 | 0 | 1 | 1 | 0 | Baccin2019;SIGNOR                                | Baccin2019:16988024;SIGNOR:22613833                                                       | 2 | 2 | 2 | LR   |\n",
       "| 5 | NPNT_ITGB1   | NPNT   | ITGB1  | NPNT_ITGA8_ITGB1    | Q6UXI9                | COMPLEX:P05556_P53708 | NPNT        | ITGA8_ITGB1   | 1 | 1 | 0 | 1 | 1 | 0 | Baccin2019;SIGNOR                                | Baccin2019:16988024;SIGNOR:22613833                                                       | 2 | 2 | 2 | LR   |\n",
       "| 6 | ITGAL_ICAM1  | ITGAL  | ICAM1  | ITGAL_ITGB2_ICAM1   | COMPLEX:P05107_P20701 | P05362                | ITGAL_ITGB2 | ICAM1         | 1 | 1 | 0 | 0 | 0 | 0 | Baccin2019;CellPhoneDB;ICELLNET;SIGNOR           | Baccin2019:16988024;ICELLNET:10940895;ICELLNET:23418628;SIGNOR:12808052                   | 4 | 4 | 4 | both |\n",
       "\n"
      ],
      "text/plain": [
       "  Pair.Name    Ligand Receptor complex_pair        source               \n",
       "1 IL17A_IL17RA IL17A  IL17RA   IL17A_IL17RA_IL17RC Q16552               \n",
       "2 IL17A_IL17RC IL17A  IL17RC   IL17A_IL17RA_IL17RC Q16552               \n",
       "3 IL17RA_IL17A IL17RA IL17A    IL17A_IL17RA_IL17RC Q16552               \n",
       "4 NPNT_ITGA8   NPNT   ITGA8    NPNT_ITGA8_ITGB1    Q6UXI9               \n",
       "5 NPNT_ITGB1   NPNT   ITGB1    NPNT_ITGA8_ITGB1    Q6UXI9               \n",
       "6 ITGAL_ICAM1  ITGAL  ICAM1    ITGAL_ITGB2_ICAM1   COMPLEX:P05107_P20701\n",
       "  target                source_genesymbol target_genesymbol is_directed\n",
       "1 COMPLEX:Q8NAC3_Q96F46 IL17A             IL17RA_IL17RC     1          \n",
       "2 COMPLEX:Q8NAC3_Q96F46 IL17A             IL17RA_IL17RC     1          \n",
       "3 COMPLEX:Q8NAC3_Q96F46 IL17A             IL17RA_IL17RC     1          \n",
       "4 COMPLEX:P05556_P53708 NPNT              ITGA8_ITGB1       1          \n",
       "5 COMPLEX:P05556_P53708 NPNT              ITGA8_ITGB1       1          \n",
       "6 P05362                ITGAL_ITGB2       ICAM1             1          \n",
       "  is_stimulation is_inhibition consensus_direction consensus_stimulation\n",
       "1 1              0             1                   1                    \n",
       "2 1              0             1                   1                    \n",
       "3 1              0             1                   1                    \n",
       "4 1              0             1                   1                    \n",
       "5 1              0             1                   1                    \n",
       "6 1              0             0                   0                    \n",
       "  consensus_inhibition sources                                         \n",
       "1 0                    CellChatDB;CellPhoneDB;Cellinker;ICELLNET;SIGNOR\n",
       "2 0                    CellChatDB;CellPhoneDB;Cellinker;ICELLNET;SIGNOR\n",
       "3 0                    CellChatDB;CellPhoneDB;Cellinker;ICELLNET;SIGNOR\n",
       "4 0                    Baccin2019;SIGNOR                               \n",
       "5 0                    Baccin2019;SIGNOR                               \n",
       "6 0                    Baccin2019;CellPhoneDB;ICELLNET;SIGNOR          \n",
       "  references                                                                               \n",
       "1 Cellinker:19838198;Cellinker:25204502;Cellinker:9367539;ICELLNET:24011563;SIGNOR:32024054\n",
       "2 Cellinker:19838198;Cellinker:25204502;Cellinker:9367539;ICELLNET:24011563;SIGNOR:32024054\n",
       "3 Cellinker:19838198;Cellinker:25204502;Cellinker:9367539;ICELLNET:24011563;SIGNOR:32024054\n",
       "4 Baccin2019:16988024;SIGNOR:22613833                                                      \n",
       "5 Baccin2019:16988024;SIGNOR:22613833                                                      \n",
       "6 Baccin2019:16988024;ICELLNET:10940895;ICELLNET:23418628;SIGNOR:12808052                  \n",
       "  curation_effort n_references n_resources annotation_strategy\n",
       "1 5               5            5           both               \n",
       "2 5               5            5           both               \n",
       "3 5               5            5           both               \n",
       "4 2               2            2           LR                 \n",
       "5 2               2            2           LR                 \n",
       "6 4               4            4           both               "
      ]
     },
     "metadata": {},
     "output_type": "display_data"
    }
   ],
   "source": [
    "head(pt_interactions)"
   ]
  },
  {
   "cell_type": "markdown",
   "id": "491c8314",
   "metadata": {},
   "source": [
    "### Merge these binary pairs"
   ]
  },
  {
   "cell_type": "markdown",
   "id": "d1ba73bf",
   "metadata": {},
   "source": [
    "This function processes binary pairs from the database and merges them with the binary pairs detected through PPI. It also standarizes and reorder columns"
   ]
  },
  {
   "cell_type": "code",
   "execution_count": 12,
   "id": "3d5f9432",
   "metadata": {},
   "outputs": [
    {
     "name": "stdout",
     "output_type": "stream",
     "text": [
      "[1] \"7415 Non-redundant number of pairs in the DB\"\n"
     ]
    }
   ],
   "source": [
    "complete_data <- process_binary_pairs(db, pt_interactions)"
   ]
  },
  {
   "cell_type": "code",
   "execution_count": 13,
   "id": "8c5e79f8",
   "metadata": {},
   "outputs": [
    {
     "data": {
      "text/html": [
       "<table class=\"dataframe\">\n",
       "<caption>A data.frame: 6 × 18</caption>\n",
       "<thead>\n",
       "\t<tr><th></th><th scope=col>Pair.Name</th><th scope=col>Ligand</th><th scope=col>Receptor</th><th scope=col>source</th><th scope=col>target</th><th scope=col>is_directed</th><th scope=col>is_stimulation</th><th scope=col>is_inhibition</th><th scope=col>consensus_direction</th><th scope=col>consensus_stimulation</th><th scope=col>consensus_inhibition</th><th scope=col>sources</th><th scope=col>references</th><th scope=col>curation_effort</th><th scope=col>n_references</th><th scope=col>n_resources</th><th scope=col>annotation_strategy</th><th scope=col>complex_pair</th></tr>\n",
       "\t<tr><th></th><th scope=col>&lt;chr&gt;</th><th scope=col>&lt;chr&gt;</th><th scope=col>&lt;chr&gt;</th><th scope=col>&lt;chr&gt;</th><th scope=col>&lt;chr&gt;</th><th scope=col>&lt;dbl&gt;</th><th scope=col>&lt;dbl&gt;</th><th scope=col>&lt;dbl&gt;</th><th scope=col>&lt;dbl&gt;</th><th scope=col>&lt;dbl&gt;</th><th scope=col>&lt;dbl&gt;</th><th scope=col>&lt;chr&gt;</th><th scope=col>&lt;chr&gt;</th><th scope=col>&lt;dbl&gt;</th><th scope=col>&lt;dbl&gt;</th><th scope=col>&lt;int&gt;</th><th scope=col>&lt;chr&gt;</th><th scope=col>&lt;chr&gt;</th></tr>\n",
       "</thead>\n",
       "<tbody>\n",
       "\t<tr><th scope=row>3</th><td>JAK2_EPOR  </td><td>JAK2  </td><td>EPOR</td><td>O60674</td><td>P19235</td><td>1</td><td>1</td><td>0</td><td>1</td><td>1</td><td>0</td><td>BEL-Large-Corpus_ProtMapper;BioGRID;Cellinker;HPRD;HPRD-phos;HPRD_KEA;HPRD_MIMP;KEA;MIMP;PhosphoNetworks;PhosphoPoint;PhosphoSite_KEA;PhosphoSite_MIMP;ProtMapper;SIGNOR;SIGNOR_ProtMapper;SPIKE;Wang;iPTMnet;phosphoELM;phosphoELM_KEA;phosphoELM_MIMP</td><td>BioGRID:8343951;Cellinker:9030561;HPRD-phos:12441334;HPRD:11779507;HPRD:12441334;HPRD:8343951;KEA:10579919;KEA:10660611;KEA:11443118;KEA:12027890;KEA:12441334;KEA:7559499;KEA:9573010;ProtMapper:12441334;ProtMapper:15212693;SIGNOR:12441334;SPIKE:12524467;SPIKE:18672044;iPTMnet:10579919;iPTMnet:12441334;phosphoELM:10579919</td><td>21</td><td>13</td><td>14</td><td>LR</td><td>NA</td></tr>\n",
       "\t<tr><th scope=row>4</th><td>NOTCH1_JAG2</td><td>NOTCH1</td><td>JAG2</td><td>P46531</td><td>Q9Y219</td><td>1</td><td>0</td><td>1</td><td>0</td><td>0</td><td>0</td><td>Baccin2019;CellCall;HPRD;NetPath;Ramilowski2015_Baccin2019;SPIKE                                                                                                                                                                                       </td><td>HPRD:11006133;NetPath:11006133;SPIKE:15358736                                                                                                                                                                                                                                                                                     </td><td> 3</td><td> 2</td><td> 5</td><td>LR</td><td>NA</td></tr>\n",
       "\t<tr><th scope=row>7</th><td>NOTCH1_DLL1</td><td>NOTCH1</td><td>DLL1</td><td>P46531</td><td>O00548</td><td>1</td><td>1</td><td>1</td><td>0</td><td>0</td><td>0</td><td>Baccin2019;CellCall;HPRD;NetPath;Ramilowski2015_Baccin2019;SPIKE;SignaLink3;Wang                                                                                                                                                                       </td><td>Baccin2019:11006133;HPRD:11006133;NetPath:11006133;SPIKE:11006133;SPIKE:15358736;SPIKE:17537801;SignaLink3:21985982                                                                                                                                                                                                               </td><td> 7</td><td> 4</td><td> 7</td><td>LR</td><td>NA</td></tr>\n",
       "\t<tr><th scope=row>11</th><td>SFRP1_WNT4 </td><td>SFRP1 </td><td>WNT4</td><td>Q8N474</td><td>P56705</td><td>1</td><td>1</td><td>1</td><td>1</td><td>1</td><td>0</td><td>CancerCellMap;CellChatDB-cofactors;HPRD;NetPath;SIGNOR;SPIKE;SignaLink3;Wang                                                                                                                                                                           </td><td>CancerCellMap:11287180;HPRD:11287180;NetPath:11287180;SIGNOR:11287180;SPIKE:11287180;SignaLink3:11287180;SignaLink3:18988627;SignaLink3:23331499                                                                                                                                                                                  </td><td> 8</td><td> 3</td><td> 8</td><td>LR</td><td>NA</td></tr>\n",
       "\t<tr><th scope=row>12</th><td>SFRP2_WNT1 </td><td>SFRP2 </td><td>WNT1</td><td>Q96HF1</td><td>P04628</td><td>1</td><td>0</td><td>1</td><td>1</td><td>0</td><td>1</td><td>CellChatDB-cofactors;HPRD;SPIKE;Wang                                                                                                                                                                                                                   </td><td>HPRD:10654605;SPIKE:10654605                                                                                                                                                                                                                                                                                                      </td><td> 2</td><td> 1</td><td> 4</td><td>LR</td><td>NA</td></tr>\n",
       "\t<tr><th scope=row>13</th><td>SFRP1_WNT2 </td><td>SFRP1 </td><td>WNT2</td><td>Q8N474</td><td>P09544</td><td>1</td><td>0</td><td>1</td><td>1</td><td>0</td><td>1</td><td>CellChatDB-cofactors;HPRD;NetPath;SPIKE;Wang                                                                                                                                                                                                           </td><td>HPRD:10347172;NetPath:10347172;SPIKE:10347172                                                                                                                                                                                                                                                                                     </td><td> 3</td><td> 1</td><td> 5</td><td>LR</td><td>NA</td></tr>\n",
       "</tbody>\n",
       "</table>\n"
      ],
      "text/latex": [
       "A data.frame: 6 × 18\n",
       "\\begin{tabular}{r|llllllllllllllllll}\n",
       "  & Pair.Name & Ligand & Receptor & source & target & is\\_directed & is\\_stimulation & is\\_inhibition & consensus\\_direction & consensus\\_stimulation & consensus\\_inhibition & sources & references & curation\\_effort & n\\_references & n\\_resources & annotation\\_strategy & complex\\_pair\\\\\n",
       "  & <chr> & <chr> & <chr> & <chr> & <chr> & <dbl> & <dbl> & <dbl> & <dbl> & <dbl> & <dbl> & <chr> & <chr> & <dbl> & <dbl> & <int> & <chr> & <chr>\\\\\n",
       "\\hline\n",
       "\t3 & JAK2\\_EPOR   & JAK2   & EPOR & O60674 & P19235 & 1 & 1 & 0 & 1 & 1 & 0 & BEL-Large-Corpus\\_ProtMapper;BioGRID;Cellinker;HPRD;HPRD-phos;HPRD\\_KEA;HPRD\\_MIMP;KEA;MIMP;PhosphoNetworks;PhosphoPoint;PhosphoSite\\_KEA;PhosphoSite\\_MIMP;ProtMapper;SIGNOR;SIGNOR\\_ProtMapper;SPIKE;Wang;iPTMnet;phosphoELM;phosphoELM\\_KEA;phosphoELM\\_MIMP & BioGRID:8343951;Cellinker:9030561;HPRD-phos:12441334;HPRD:11779507;HPRD:12441334;HPRD:8343951;KEA:10579919;KEA:10660611;KEA:11443118;KEA:12027890;KEA:12441334;KEA:7559499;KEA:9573010;ProtMapper:12441334;ProtMapper:15212693;SIGNOR:12441334;SPIKE:12524467;SPIKE:18672044;iPTMnet:10579919;iPTMnet:12441334;phosphoELM:10579919 & 21 & 13 & 14 & LR & NA\\\\\n",
       "\t4 & NOTCH1\\_JAG2 & NOTCH1 & JAG2 & P46531 & Q9Y219 & 1 & 0 & 1 & 0 & 0 & 0 & Baccin2019;CellCall;HPRD;NetPath;Ramilowski2015\\_Baccin2019;SPIKE                                                                                                                                                                                        & HPRD:11006133;NetPath:11006133;SPIKE:15358736                                                                                                                                                                                                                                                                                      &  3 &  2 &  5 & LR & NA\\\\\n",
       "\t7 & NOTCH1\\_DLL1 & NOTCH1 & DLL1 & P46531 & O00548 & 1 & 1 & 1 & 0 & 0 & 0 & Baccin2019;CellCall;HPRD;NetPath;Ramilowski2015\\_Baccin2019;SPIKE;SignaLink3;Wang                                                                                                                                                                        & Baccin2019:11006133;HPRD:11006133;NetPath:11006133;SPIKE:11006133;SPIKE:15358736;SPIKE:17537801;SignaLink3:21985982                                                                                                                                                                                                                &  7 &  4 &  7 & LR & NA\\\\\n",
       "\t11 & SFRP1\\_WNT4  & SFRP1  & WNT4 & Q8N474 & P56705 & 1 & 1 & 1 & 1 & 1 & 0 & CancerCellMap;CellChatDB-cofactors;HPRD;NetPath;SIGNOR;SPIKE;SignaLink3;Wang                                                                                                                                                                            & CancerCellMap:11287180;HPRD:11287180;NetPath:11287180;SIGNOR:11287180;SPIKE:11287180;SignaLink3:11287180;SignaLink3:18988627;SignaLink3:23331499                                                                                                                                                                                   &  8 &  3 &  8 & LR & NA\\\\\n",
       "\t12 & SFRP2\\_WNT1  & SFRP2  & WNT1 & Q96HF1 & P04628 & 1 & 0 & 1 & 1 & 0 & 1 & CellChatDB-cofactors;HPRD;SPIKE;Wang                                                                                                                                                                                                                    & HPRD:10654605;SPIKE:10654605                                                                                                                                                                                                                                                                                                       &  2 &  1 &  4 & LR & NA\\\\\n",
       "\t13 & SFRP1\\_WNT2  & SFRP1  & WNT2 & Q8N474 & P09544 & 1 & 0 & 1 & 1 & 0 & 1 & CellChatDB-cofactors;HPRD;NetPath;SPIKE;Wang                                                                                                                                                                                                            & HPRD:10347172;NetPath:10347172;SPIKE:10347172                                                                                                                                                                                                                                                                                      &  3 &  1 &  5 & LR & NA\\\\\n",
       "\\end{tabular}\n"
      ],
      "text/markdown": [
       "\n",
       "A data.frame: 6 × 18\n",
       "\n",
       "| <!--/--> | Pair.Name &lt;chr&gt; | Ligand &lt;chr&gt; | Receptor &lt;chr&gt; | source &lt;chr&gt; | target &lt;chr&gt; | is_directed &lt;dbl&gt; | is_stimulation &lt;dbl&gt; | is_inhibition &lt;dbl&gt; | consensus_direction &lt;dbl&gt; | consensus_stimulation &lt;dbl&gt; | consensus_inhibition &lt;dbl&gt; | sources &lt;chr&gt; | references &lt;chr&gt; | curation_effort &lt;dbl&gt; | n_references &lt;dbl&gt; | n_resources &lt;int&gt; | annotation_strategy &lt;chr&gt; | complex_pair &lt;chr&gt; |\n",
       "|---|---|---|---|---|---|---|---|---|---|---|---|---|---|---|---|---|---|---|\n",
       "| 3 | JAK2_EPOR   | JAK2   | EPOR | O60674 | P19235 | 1 | 1 | 0 | 1 | 1 | 0 | BEL-Large-Corpus_ProtMapper;BioGRID;Cellinker;HPRD;HPRD-phos;HPRD_KEA;HPRD_MIMP;KEA;MIMP;PhosphoNetworks;PhosphoPoint;PhosphoSite_KEA;PhosphoSite_MIMP;ProtMapper;SIGNOR;SIGNOR_ProtMapper;SPIKE;Wang;iPTMnet;phosphoELM;phosphoELM_KEA;phosphoELM_MIMP | BioGRID:8343951;Cellinker:9030561;HPRD-phos:12441334;HPRD:11779507;HPRD:12441334;HPRD:8343951;KEA:10579919;KEA:10660611;KEA:11443118;KEA:12027890;KEA:12441334;KEA:7559499;KEA:9573010;ProtMapper:12441334;ProtMapper:15212693;SIGNOR:12441334;SPIKE:12524467;SPIKE:18672044;iPTMnet:10579919;iPTMnet:12441334;phosphoELM:10579919 | 21 | 13 | 14 | LR | NA |\n",
       "| 4 | NOTCH1_JAG2 | NOTCH1 | JAG2 | P46531 | Q9Y219 | 1 | 0 | 1 | 0 | 0 | 0 | Baccin2019;CellCall;HPRD;NetPath;Ramilowski2015_Baccin2019;SPIKE                                                                                                                                                                                        | HPRD:11006133;NetPath:11006133;SPIKE:15358736                                                                                                                                                                                                                                                                                      |  3 |  2 |  5 | LR | NA |\n",
       "| 7 | NOTCH1_DLL1 | NOTCH1 | DLL1 | P46531 | O00548 | 1 | 1 | 1 | 0 | 0 | 0 | Baccin2019;CellCall;HPRD;NetPath;Ramilowski2015_Baccin2019;SPIKE;SignaLink3;Wang                                                                                                                                                                        | Baccin2019:11006133;HPRD:11006133;NetPath:11006133;SPIKE:11006133;SPIKE:15358736;SPIKE:17537801;SignaLink3:21985982                                                                                                                                                                                                                |  7 |  4 |  7 | LR | NA |\n",
       "| 11 | SFRP1_WNT4  | SFRP1  | WNT4 | Q8N474 | P56705 | 1 | 1 | 1 | 1 | 1 | 0 | CancerCellMap;CellChatDB-cofactors;HPRD;NetPath;SIGNOR;SPIKE;SignaLink3;Wang                                                                                                                                                                            | CancerCellMap:11287180;HPRD:11287180;NetPath:11287180;SIGNOR:11287180;SPIKE:11287180;SignaLink3:11287180;SignaLink3:18988627;SignaLink3:23331499                                                                                                                                                                                   |  8 |  3 |  8 | LR | NA |\n",
       "| 12 | SFRP2_WNT1  | SFRP2  | WNT1 | Q96HF1 | P04628 | 1 | 0 | 1 | 1 | 0 | 1 | CellChatDB-cofactors;HPRD;SPIKE;Wang                                                                                                                                                                                                                    | HPRD:10654605;SPIKE:10654605                                                                                                                                                                                                                                                                                                       |  2 |  1 |  4 | LR | NA |\n",
       "| 13 | SFRP1_WNT2  | SFRP1  | WNT2 | Q8N474 | P09544 | 1 | 0 | 1 | 1 | 0 | 1 | CellChatDB-cofactors;HPRD;NetPath;SPIKE;Wang                                                                                                                                                                                                            | HPRD:10347172;NetPath:10347172;SPIKE:10347172                                                                                                                                                                                                                                                                                      |  3 |  1 |  5 | LR | NA |\n",
       "\n"
      ],
      "text/plain": [
       "   Pair.Name   Ligand Receptor source target is_directed is_stimulation\n",
       "3  JAK2_EPOR   JAK2   EPOR     O60674 P19235 1           1             \n",
       "4  NOTCH1_JAG2 NOTCH1 JAG2     P46531 Q9Y219 1           0             \n",
       "7  NOTCH1_DLL1 NOTCH1 DLL1     P46531 O00548 1           1             \n",
       "11 SFRP1_WNT4  SFRP1  WNT4     Q8N474 P56705 1           1             \n",
       "12 SFRP2_WNT1  SFRP2  WNT1     Q96HF1 P04628 1           0             \n",
       "13 SFRP1_WNT2  SFRP1  WNT2     Q8N474 P09544 1           0             \n",
       "   is_inhibition consensus_direction consensus_stimulation consensus_inhibition\n",
       "3  0             1                   1                     0                   \n",
       "4  1             0                   0                     0                   \n",
       "7  1             0                   0                     0                   \n",
       "11 1             1                   1                     0                   \n",
       "12 1             1                   0                     1                   \n",
       "13 1             1                   0                     1                   \n",
       "   sources                                                                                                                                                                                                                                                \n",
       "3  BEL-Large-Corpus_ProtMapper;BioGRID;Cellinker;HPRD;HPRD-phos;HPRD_KEA;HPRD_MIMP;KEA;MIMP;PhosphoNetworks;PhosphoPoint;PhosphoSite_KEA;PhosphoSite_MIMP;ProtMapper;SIGNOR;SIGNOR_ProtMapper;SPIKE;Wang;iPTMnet;phosphoELM;phosphoELM_KEA;phosphoELM_MIMP\n",
       "4  Baccin2019;CellCall;HPRD;NetPath;Ramilowski2015_Baccin2019;SPIKE                                                                                                                                                                                       \n",
       "7  Baccin2019;CellCall;HPRD;NetPath;Ramilowski2015_Baccin2019;SPIKE;SignaLink3;Wang                                                                                                                                                                       \n",
       "11 CancerCellMap;CellChatDB-cofactors;HPRD;NetPath;SIGNOR;SPIKE;SignaLink3;Wang                                                                                                                                                                           \n",
       "12 CellChatDB-cofactors;HPRD;SPIKE;Wang                                                                                                                                                                                                                   \n",
       "13 CellChatDB-cofactors;HPRD;NetPath;SPIKE;Wang                                                                                                                                                                                                           \n",
       "   references                                                                                                                                                                                                                                                                                                                        \n",
       "3  BioGRID:8343951;Cellinker:9030561;HPRD-phos:12441334;HPRD:11779507;HPRD:12441334;HPRD:8343951;KEA:10579919;KEA:10660611;KEA:11443118;KEA:12027890;KEA:12441334;KEA:7559499;KEA:9573010;ProtMapper:12441334;ProtMapper:15212693;SIGNOR:12441334;SPIKE:12524467;SPIKE:18672044;iPTMnet:10579919;iPTMnet:12441334;phosphoELM:10579919\n",
       "4  HPRD:11006133;NetPath:11006133;SPIKE:15358736                                                                                                                                                                                                                                                                                     \n",
       "7  Baccin2019:11006133;HPRD:11006133;NetPath:11006133;SPIKE:11006133;SPIKE:15358736;SPIKE:17537801;SignaLink3:21985982                                                                                                                                                                                                               \n",
       "11 CancerCellMap:11287180;HPRD:11287180;NetPath:11287180;SIGNOR:11287180;SPIKE:11287180;SignaLink3:11287180;SignaLink3:18988627;SignaLink3:23331499                                                                                                                                                                                  \n",
       "12 HPRD:10654605;SPIKE:10654605                                                                                                                                                                                                                                                                                                      \n",
       "13 HPRD:10347172;NetPath:10347172;SPIKE:10347172                                                                                                                                                                                                                                                                                     \n",
       "   curation_effort n_references n_resources annotation_strategy complex_pair\n",
       "3  21              13           14          LR                  NA          \n",
       "4   3               2            5          LR                  NA          \n",
       "7   7               4            7          LR                  NA          \n",
       "11  8               3            8          LR                  NA          \n",
       "12  2               1            4          LR                  NA          \n",
       "13  3               1            5          LR                  NA          "
      ]
     },
     "metadata": {},
     "output_type": "display_data"
    }
   ],
   "source": [
    "head(complete_data)"
   ]
  },
  {
   "cell_type": "markdown",
   "id": "5dfe1ed5",
   "metadata": {},
   "source": [
    "### Map gene descriptions"
   ]
  },
  {
   "cell_type": "markdown",
   "id": "edd33291",
   "metadata": {},
   "source": [
    "we enriche the database with gene descriptions. It queries gene symbols to fetch their respective gene descriptions from [MyGene, a gene annotation servise](https://mygene.info/).\n",
    "\n",
    "<div class=\"alert alert-block alert-info\">\n",
    "<b>Note:</b> This function may fail due to internet connectivity issues.If this is the case, please try again.\n",
    "</div>\n",
    "\n"
   ]
  },
  {
   "cell_type": "code",
   "execution_count": 14,
   "id": "f75d24cd",
   "metadata": {},
   "outputs": [
    {
     "name": "stderr",
     "output_type": "stream",
     "text": [
      "Warning message in map_gene_data(complete_data):\n",
      "“If this function fails, it may be due to internet connectivity issues. Try running it again.”\n",
      "Querying chunk 1\n",
      "\n",
      "Querying chunk 2\n",
      "\n",
      "Querying chunk 3\n",
      "\n"
     ]
    },
    {
     "name": "stdout",
     "output_type": "stream",
     "text": [
      "Finished\n",
      "Pass returnall=TRUE to return lists of duplicate or missing query terms.\n"
     ]
    }
   ],
   "source": [
    "complete_data <- map_gene_data(complete_data)"
   ]
  },
  {
   "cell_type": "code",
   "execution_count": 15,
   "id": "e664ca36",
   "metadata": {},
   "outputs": [
    {
     "data": {
      "text/html": [
       "<table class=\"dataframe\">\n",
       "<caption>A data.frame: 6 × 21</caption>\n",
       "<thead>\n",
       "\t<tr><th></th><th scope=col>Pair.Name</th><th scope=col>Ligand</th><th scope=col>Ligand.Name</th><th scope=col>Receptor</th><th scope=col>Receptor.Name</th><th scope=col>complex_pair</th><th scope=col>source</th><th scope=col>target</th><th scope=col>is_directed</th><th scope=col>is_stimulation</th><th scope=col>⋯</th><th scope=col>consensus_direction</th><th scope=col>consensus_stimulation</th><th scope=col>consensus_inhibition</th><th scope=col>sources</th><th scope=col>references</th><th scope=col>curation_effort</th><th scope=col>n_references</th><th scope=col>n_resources</th><th scope=col>annotation_strategy</th><th scope=col>dup</th></tr>\n",
       "\t<tr><th></th><th scope=col>&lt;chr&gt;</th><th scope=col>&lt;chr&gt;</th><th scope=col>&lt;chr&gt;</th><th scope=col>&lt;chr&gt;</th><th scope=col>&lt;chr&gt;</th><th scope=col>&lt;chr&gt;</th><th scope=col>&lt;chr&gt;</th><th scope=col>&lt;chr&gt;</th><th scope=col>&lt;dbl&gt;</th><th scope=col>&lt;dbl&gt;</th><th scope=col>⋯</th><th scope=col>&lt;dbl&gt;</th><th scope=col>&lt;dbl&gt;</th><th scope=col>&lt;dbl&gt;</th><th scope=col>&lt;chr&gt;</th><th scope=col>&lt;chr&gt;</th><th scope=col>&lt;dbl&gt;</th><th scope=col>&lt;dbl&gt;</th><th scope=col>&lt;int&gt;</th><th scope=col>&lt;chr&gt;</th><th scope=col>&lt;chr&gt;</th></tr>\n",
       "</thead>\n",
       "<tbody>\n",
       "\t<tr><th scope=row>3</th><td>JAK2_EPOR  </td><td>JAK2  </td><td>Janus kinase 2                     </td><td>EPOR</td><td>erythropoietin receptor            </td><td>NA</td><td>O60674</td><td>P19235</td><td>1</td><td>1</td><td>⋯</td><td>1</td><td>1</td><td>0</td><td>BEL-Large-Corpus_ProtMapper;BioGRID;Cellinker;HPRD;HPRD-phos;HPRD_KEA;HPRD_MIMP;KEA;MIMP;PhosphoNetworks;PhosphoPoint;PhosphoSite_KEA;PhosphoSite_MIMP;ProtMapper;SIGNOR;SIGNOR_ProtMapper;SPIKE;Wang;iPTMnet;phosphoELM;phosphoELM_KEA;phosphoELM_MIMP</td><td>BioGRID:8343951;Cellinker:9030561;HPRD-phos:12441334;HPRD:11779507;HPRD:12441334;HPRD:8343951;KEA:10579919;KEA:10660611;KEA:11443118;KEA:12027890;KEA:12441334;KEA:7559499;KEA:9573010;ProtMapper:12441334;ProtMapper:15212693;SIGNOR:12441334;SPIKE:12524467;SPIKE:18672044;iPTMnet:10579919;iPTMnet:12441334;phosphoELM:10579919</td><td>21</td><td>13</td><td>14</td><td>LR</td><td>EPOR_JAK2  </td></tr>\n",
       "\t<tr><th scope=row>4</th><td>NOTCH1_JAG2</td><td>NOTCH1</td><td>notch receptor 1                   </td><td>JAG2</td><td>jagged canonical Notch ligand 2    </td><td>NA</td><td>P46531</td><td>Q9Y219</td><td>1</td><td>0</td><td>⋯</td><td>0</td><td>0</td><td>0</td><td>Baccin2019;CellCall;HPRD;NetPath;Ramilowski2015_Baccin2019;SPIKE                                                                                                                                                                                       </td><td>HPRD:11006133;NetPath:11006133;SPIKE:15358736                                                                                                                                                                                                                                                                                     </td><td> 3</td><td> 2</td><td> 5</td><td>LR</td><td>JAG2_NOTCH1</td></tr>\n",
       "\t<tr><th scope=row>7</th><td>NOTCH1_DLL1</td><td>NOTCH1</td><td>notch receptor 1                   </td><td>DLL1</td><td>delta like canonical Notch ligand 1</td><td>NA</td><td>P46531</td><td>O00548</td><td>1</td><td>1</td><td>⋯</td><td>0</td><td>0</td><td>0</td><td>Baccin2019;CellCall;HPRD;NetPath;Ramilowski2015_Baccin2019;SPIKE;SignaLink3;Wang                                                                                                                                                                       </td><td>Baccin2019:11006133;HPRD:11006133;NetPath:11006133;SPIKE:11006133;SPIKE:15358736;SPIKE:17537801;SignaLink3:21985982                                                                                                                                                                                                               </td><td> 7</td><td> 4</td><td> 7</td><td>LR</td><td>DLL1_NOTCH1</td></tr>\n",
       "\t<tr><th scope=row>11</th><td>SFRP1_WNT4 </td><td>SFRP1 </td><td>secreted frizzled related protein 1</td><td>WNT4</td><td>Wnt family member 4                </td><td>NA</td><td>Q8N474</td><td>P56705</td><td>1</td><td>1</td><td>⋯</td><td>1</td><td>1</td><td>0</td><td>CancerCellMap;CellChatDB-cofactors;HPRD;NetPath;SIGNOR;SPIKE;SignaLink3;Wang                                                                                                                                                                           </td><td>CancerCellMap:11287180;HPRD:11287180;NetPath:11287180;SIGNOR:11287180;SPIKE:11287180;SignaLink3:11287180;SignaLink3:18988627;SignaLink3:23331499                                                                                                                                                                                  </td><td> 8</td><td> 3</td><td> 8</td><td>LR</td><td>WNT4_SFRP1 </td></tr>\n",
       "\t<tr><th scope=row>12</th><td>SFRP2_WNT1 </td><td>SFRP2 </td><td>secreted frizzled related protein 2</td><td>WNT1</td><td>Wnt family member 1                </td><td>NA</td><td>Q96HF1</td><td>P04628</td><td>1</td><td>0</td><td>⋯</td><td>1</td><td>0</td><td>1</td><td>CellChatDB-cofactors;HPRD;SPIKE;Wang                                                                                                                                                                                                                   </td><td>HPRD:10654605;SPIKE:10654605                                                                                                                                                                                                                                                                                                      </td><td> 2</td><td> 1</td><td> 4</td><td>LR</td><td>WNT1_SFRP2 </td></tr>\n",
       "\t<tr><th scope=row>13</th><td>SFRP1_WNT2 </td><td>SFRP1 </td><td>secreted frizzled related protein 1</td><td>WNT2</td><td>Wnt family member 2                </td><td>NA</td><td>Q8N474</td><td>P09544</td><td>1</td><td>0</td><td>⋯</td><td>1</td><td>0</td><td>1</td><td>CellChatDB-cofactors;HPRD;NetPath;SPIKE;Wang                                                                                                                                                                                                           </td><td>HPRD:10347172;NetPath:10347172;SPIKE:10347172                                                                                                                                                                                                                                                                                     </td><td> 3</td><td> 1</td><td> 5</td><td>LR</td><td>WNT2_SFRP1 </td></tr>\n",
       "</tbody>\n",
       "</table>\n"
      ],
      "text/latex": [
       "A data.frame: 6 × 21\n",
       "\\begin{tabular}{r|lllllllllllllllllllll}\n",
       "  & Pair.Name & Ligand & Ligand.Name & Receptor & Receptor.Name & complex\\_pair & source & target & is\\_directed & is\\_stimulation & ⋯ & consensus\\_direction & consensus\\_stimulation & consensus\\_inhibition & sources & references & curation\\_effort & n\\_references & n\\_resources & annotation\\_strategy & dup\\\\\n",
       "  & <chr> & <chr> & <chr> & <chr> & <chr> & <chr> & <chr> & <chr> & <dbl> & <dbl> & ⋯ & <dbl> & <dbl> & <dbl> & <chr> & <chr> & <dbl> & <dbl> & <int> & <chr> & <chr>\\\\\n",
       "\\hline\n",
       "\t3 & JAK2\\_EPOR   & JAK2   & Janus kinase 2                      & EPOR & erythropoietin receptor             & NA & O60674 & P19235 & 1 & 1 & ⋯ & 1 & 1 & 0 & BEL-Large-Corpus\\_ProtMapper;BioGRID;Cellinker;HPRD;HPRD-phos;HPRD\\_KEA;HPRD\\_MIMP;KEA;MIMP;PhosphoNetworks;PhosphoPoint;PhosphoSite\\_KEA;PhosphoSite\\_MIMP;ProtMapper;SIGNOR;SIGNOR\\_ProtMapper;SPIKE;Wang;iPTMnet;phosphoELM;phosphoELM\\_KEA;phosphoELM\\_MIMP & BioGRID:8343951;Cellinker:9030561;HPRD-phos:12441334;HPRD:11779507;HPRD:12441334;HPRD:8343951;KEA:10579919;KEA:10660611;KEA:11443118;KEA:12027890;KEA:12441334;KEA:7559499;KEA:9573010;ProtMapper:12441334;ProtMapper:15212693;SIGNOR:12441334;SPIKE:12524467;SPIKE:18672044;iPTMnet:10579919;iPTMnet:12441334;phosphoELM:10579919 & 21 & 13 & 14 & LR & EPOR\\_JAK2  \\\\\n",
       "\t4 & NOTCH1\\_JAG2 & NOTCH1 & notch receptor 1                    & JAG2 & jagged canonical Notch ligand 2     & NA & P46531 & Q9Y219 & 1 & 0 & ⋯ & 0 & 0 & 0 & Baccin2019;CellCall;HPRD;NetPath;Ramilowski2015\\_Baccin2019;SPIKE                                                                                                                                                                                        & HPRD:11006133;NetPath:11006133;SPIKE:15358736                                                                                                                                                                                                                                                                                      &  3 &  2 &  5 & LR & JAG2\\_NOTCH1\\\\\n",
       "\t7 & NOTCH1\\_DLL1 & NOTCH1 & notch receptor 1                    & DLL1 & delta like canonical Notch ligand 1 & NA & P46531 & O00548 & 1 & 1 & ⋯ & 0 & 0 & 0 & Baccin2019;CellCall;HPRD;NetPath;Ramilowski2015\\_Baccin2019;SPIKE;SignaLink3;Wang                                                                                                                                                                        & Baccin2019:11006133;HPRD:11006133;NetPath:11006133;SPIKE:11006133;SPIKE:15358736;SPIKE:17537801;SignaLink3:21985982                                                                                                                                                                                                                &  7 &  4 &  7 & LR & DLL1\\_NOTCH1\\\\\n",
       "\t11 & SFRP1\\_WNT4  & SFRP1  & secreted frizzled related protein 1 & WNT4 & Wnt family member 4                 & NA & Q8N474 & P56705 & 1 & 1 & ⋯ & 1 & 1 & 0 & CancerCellMap;CellChatDB-cofactors;HPRD;NetPath;SIGNOR;SPIKE;SignaLink3;Wang                                                                                                                                                                            & CancerCellMap:11287180;HPRD:11287180;NetPath:11287180;SIGNOR:11287180;SPIKE:11287180;SignaLink3:11287180;SignaLink3:18988627;SignaLink3:23331499                                                                                                                                                                                   &  8 &  3 &  8 & LR & WNT4\\_SFRP1 \\\\\n",
       "\t12 & SFRP2\\_WNT1  & SFRP2  & secreted frizzled related protein 2 & WNT1 & Wnt family member 1                 & NA & Q96HF1 & P04628 & 1 & 0 & ⋯ & 1 & 0 & 1 & CellChatDB-cofactors;HPRD;SPIKE;Wang                                                                                                                                                                                                                    & HPRD:10654605;SPIKE:10654605                                                                                                                                                                                                                                                                                                       &  2 &  1 &  4 & LR & WNT1\\_SFRP2 \\\\\n",
       "\t13 & SFRP1\\_WNT2  & SFRP1  & secreted frizzled related protein 1 & WNT2 & Wnt family member 2                 & NA & Q8N474 & P09544 & 1 & 0 & ⋯ & 1 & 0 & 1 & CellChatDB-cofactors;HPRD;NetPath;SPIKE;Wang                                                                                                                                                                                                            & HPRD:10347172;NetPath:10347172;SPIKE:10347172                                                                                                                                                                                                                                                                                      &  3 &  1 &  5 & LR & WNT2\\_SFRP1 \\\\\n",
       "\\end{tabular}\n"
      ],
      "text/markdown": [
       "\n",
       "A data.frame: 6 × 21\n",
       "\n",
       "| <!--/--> | Pair.Name &lt;chr&gt; | Ligand &lt;chr&gt; | Ligand.Name &lt;chr&gt; | Receptor &lt;chr&gt; | Receptor.Name &lt;chr&gt; | complex_pair &lt;chr&gt; | source &lt;chr&gt; | target &lt;chr&gt; | is_directed &lt;dbl&gt; | is_stimulation &lt;dbl&gt; | ⋯ ⋯ | consensus_direction &lt;dbl&gt; | consensus_stimulation &lt;dbl&gt; | consensus_inhibition &lt;dbl&gt; | sources &lt;chr&gt; | references &lt;chr&gt; | curation_effort &lt;dbl&gt; | n_references &lt;dbl&gt; | n_resources &lt;int&gt; | annotation_strategy &lt;chr&gt; | dup &lt;chr&gt; |\n",
       "|---|---|---|---|---|---|---|---|---|---|---|---|---|---|---|---|---|---|---|---|---|---|\n",
       "| 3 | JAK2_EPOR   | JAK2   | Janus kinase 2                      | EPOR | erythropoietin receptor             | NA | O60674 | P19235 | 1 | 1 | ⋯ | 1 | 1 | 0 | BEL-Large-Corpus_ProtMapper;BioGRID;Cellinker;HPRD;HPRD-phos;HPRD_KEA;HPRD_MIMP;KEA;MIMP;PhosphoNetworks;PhosphoPoint;PhosphoSite_KEA;PhosphoSite_MIMP;ProtMapper;SIGNOR;SIGNOR_ProtMapper;SPIKE;Wang;iPTMnet;phosphoELM;phosphoELM_KEA;phosphoELM_MIMP | BioGRID:8343951;Cellinker:9030561;HPRD-phos:12441334;HPRD:11779507;HPRD:12441334;HPRD:8343951;KEA:10579919;KEA:10660611;KEA:11443118;KEA:12027890;KEA:12441334;KEA:7559499;KEA:9573010;ProtMapper:12441334;ProtMapper:15212693;SIGNOR:12441334;SPIKE:12524467;SPIKE:18672044;iPTMnet:10579919;iPTMnet:12441334;phosphoELM:10579919 | 21 | 13 | 14 | LR | EPOR_JAK2   |\n",
       "| 4 | NOTCH1_JAG2 | NOTCH1 | notch receptor 1                    | JAG2 | jagged canonical Notch ligand 2     | NA | P46531 | Q9Y219 | 1 | 0 | ⋯ | 0 | 0 | 0 | Baccin2019;CellCall;HPRD;NetPath;Ramilowski2015_Baccin2019;SPIKE                                                                                                                                                                                        | HPRD:11006133;NetPath:11006133;SPIKE:15358736                                                                                                                                                                                                                                                                                      |  3 |  2 |  5 | LR | JAG2_NOTCH1 |\n",
       "| 7 | NOTCH1_DLL1 | NOTCH1 | notch receptor 1                    | DLL1 | delta like canonical Notch ligand 1 | NA | P46531 | O00548 | 1 | 1 | ⋯ | 0 | 0 | 0 | Baccin2019;CellCall;HPRD;NetPath;Ramilowski2015_Baccin2019;SPIKE;SignaLink3;Wang                                                                                                                                                                        | Baccin2019:11006133;HPRD:11006133;NetPath:11006133;SPIKE:11006133;SPIKE:15358736;SPIKE:17537801;SignaLink3:21985982                                                                                                                                                                                                                |  7 |  4 |  7 | LR | DLL1_NOTCH1 |\n",
       "| 11 | SFRP1_WNT4  | SFRP1  | secreted frizzled related protein 1 | WNT4 | Wnt family member 4                 | NA | Q8N474 | P56705 | 1 | 1 | ⋯ | 1 | 1 | 0 | CancerCellMap;CellChatDB-cofactors;HPRD;NetPath;SIGNOR;SPIKE;SignaLink3;Wang                                                                                                                                                                            | CancerCellMap:11287180;HPRD:11287180;NetPath:11287180;SIGNOR:11287180;SPIKE:11287180;SignaLink3:11287180;SignaLink3:18988627;SignaLink3:23331499                                                                                                                                                                                   |  8 |  3 |  8 | LR | WNT4_SFRP1  |\n",
       "| 12 | SFRP2_WNT1  | SFRP2  | secreted frizzled related protein 2 | WNT1 | Wnt family member 1                 | NA | Q96HF1 | P04628 | 1 | 0 | ⋯ | 1 | 0 | 1 | CellChatDB-cofactors;HPRD;SPIKE;Wang                                                                                                                                                                                                                    | HPRD:10654605;SPIKE:10654605                                                                                                                                                                                                                                                                                                       |  2 |  1 |  4 | LR | WNT1_SFRP2  |\n",
       "| 13 | SFRP1_WNT2  | SFRP1  | secreted frizzled related protein 1 | WNT2 | Wnt family member 2                 | NA | Q8N474 | P09544 | 1 | 0 | ⋯ | 1 | 0 | 1 | CellChatDB-cofactors;HPRD;NetPath;SPIKE;Wang                                                                                                                                                                                                            | HPRD:10347172;NetPath:10347172;SPIKE:10347172                                                                                                                                                                                                                                                                                      |  3 |  1 |  5 | LR | WNT2_SFRP1  |\n",
       "\n"
      ],
      "text/plain": [
       "   Pair.Name   Ligand Ligand.Name                         Receptor\n",
       "3  JAK2_EPOR   JAK2   Janus kinase 2                      EPOR    \n",
       "4  NOTCH1_JAG2 NOTCH1 notch receptor 1                    JAG2    \n",
       "7  NOTCH1_DLL1 NOTCH1 notch receptor 1                    DLL1    \n",
       "11 SFRP1_WNT4  SFRP1  secreted frizzled related protein 1 WNT4    \n",
       "12 SFRP2_WNT1  SFRP2  secreted frizzled related protein 2 WNT1    \n",
       "13 SFRP1_WNT2  SFRP1  secreted frizzled related protein 1 WNT2    \n",
       "   Receptor.Name                       complex_pair source target is_directed\n",
       "3  erythropoietin receptor             NA           O60674 P19235 1          \n",
       "4  jagged canonical Notch ligand 2     NA           P46531 Q9Y219 1          \n",
       "7  delta like canonical Notch ligand 1 NA           P46531 O00548 1          \n",
       "11 Wnt family member 4                 NA           Q8N474 P56705 1          \n",
       "12 Wnt family member 1                 NA           Q96HF1 P04628 1          \n",
       "13 Wnt family member 2                 NA           Q8N474 P09544 1          \n",
       "   is_stimulation ⋯ consensus_direction consensus_stimulation\n",
       "3  1              ⋯ 1                   1                    \n",
       "4  0              ⋯ 0                   0                    \n",
       "7  1              ⋯ 0                   0                    \n",
       "11 1              ⋯ 1                   1                    \n",
       "12 0              ⋯ 1                   0                    \n",
       "13 0              ⋯ 1                   0                    \n",
       "   consensus_inhibition\n",
       "3  0                   \n",
       "4  0                   \n",
       "7  0                   \n",
       "11 0                   \n",
       "12 1                   \n",
       "13 1                   \n",
       "   sources                                                                                                                                                                                                                                                \n",
       "3  BEL-Large-Corpus_ProtMapper;BioGRID;Cellinker;HPRD;HPRD-phos;HPRD_KEA;HPRD_MIMP;KEA;MIMP;PhosphoNetworks;PhosphoPoint;PhosphoSite_KEA;PhosphoSite_MIMP;ProtMapper;SIGNOR;SIGNOR_ProtMapper;SPIKE;Wang;iPTMnet;phosphoELM;phosphoELM_KEA;phosphoELM_MIMP\n",
       "4  Baccin2019;CellCall;HPRD;NetPath;Ramilowski2015_Baccin2019;SPIKE                                                                                                                                                                                       \n",
       "7  Baccin2019;CellCall;HPRD;NetPath;Ramilowski2015_Baccin2019;SPIKE;SignaLink3;Wang                                                                                                                                                                       \n",
       "11 CancerCellMap;CellChatDB-cofactors;HPRD;NetPath;SIGNOR;SPIKE;SignaLink3;Wang                                                                                                                                                                           \n",
       "12 CellChatDB-cofactors;HPRD;SPIKE;Wang                                                                                                                                                                                                                   \n",
       "13 CellChatDB-cofactors;HPRD;NetPath;SPIKE;Wang                                                                                                                                                                                                           \n",
       "   references                                                                                                                                                                                                                                                                                                                        \n",
       "3  BioGRID:8343951;Cellinker:9030561;HPRD-phos:12441334;HPRD:11779507;HPRD:12441334;HPRD:8343951;KEA:10579919;KEA:10660611;KEA:11443118;KEA:12027890;KEA:12441334;KEA:7559499;KEA:9573010;ProtMapper:12441334;ProtMapper:15212693;SIGNOR:12441334;SPIKE:12524467;SPIKE:18672044;iPTMnet:10579919;iPTMnet:12441334;phosphoELM:10579919\n",
       "4  HPRD:11006133;NetPath:11006133;SPIKE:15358736                                                                                                                                                                                                                                                                                     \n",
       "7  Baccin2019:11006133;HPRD:11006133;NetPath:11006133;SPIKE:11006133;SPIKE:15358736;SPIKE:17537801;SignaLink3:21985982                                                                                                                                                                                                               \n",
       "11 CancerCellMap:11287180;HPRD:11287180;NetPath:11287180;SIGNOR:11287180;SPIKE:11287180;SignaLink3:11287180;SignaLink3:18988627;SignaLink3:23331499                                                                                                                                                                                  \n",
       "12 HPRD:10654605;SPIKE:10654605                                                                                                                                                                                                                                                                                                      \n",
       "13 HPRD:10347172;NetPath:10347172;SPIKE:10347172                                                                                                                                                                                                                                                                                     \n",
       "   curation_effort n_references n_resources annotation_strategy dup        \n",
       "3  21              13           14          LR                  EPOR_JAK2  \n",
       "4   3               2            5          LR                  JAG2_NOTCH1\n",
       "7   7               4            7          LR                  DLL1_NOTCH1\n",
       "11  8               3            8          LR                  WNT4_SFRP1 \n",
       "12  2               1            4          LR                  WNT1_SFRP2 \n",
       "13  3               1            5          LR                  WNT2_SFRP1 "
      ]
     },
     "metadata": {},
     "output_type": "display_data"
    }
   ],
   "source": [
    "head(complete_data)"
   ]
  },
  {
   "cell_type": "markdown",
   "id": "466b400d",
   "metadata": {},
   "source": [
    "### Annotate gene space"
   ]
  },
  {
   "cell_type": "markdown",
   "id": "8f8d3a16",
   "metadata": {},
   "source": [
    "Annotate each gene in the protein-protein interaction (PPI) network with their corresponding parent categories, along with a score indicating how many of the resources (# 44 resources) have annotated that gene as such."
   ]
  },
  {
   "cell_type": "code",
   "execution_count": 16,
   "id": "5072ce6b",
   "metadata": {},
   "outputs": [],
   "source": [
    "annotation <- annotate_components(complete_data)"
   ]
  },
  {
   "cell_type": "code",
   "execution_count": 17,
   "id": "c64b21a7",
   "metadata": {},
   "outputs": [
    {
     "data": {
      "text/html": [
       "<table class=\"dataframe\">\n",
       "<caption>A data.frame: 6 × 3</caption>\n",
       "<thead>\n",
       "\t<tr><th></th><th scope=col>genesymbol</th><th scope=col>score</th><th scope=col>parent</th></tr>\n",
       "\t<tr><th></th><th scope=col>&lt;chr&gt;</th><th scope=col>&lt;dbl&gt;</th><th scope=col>&lt;chr&gt;</th></tr>\n",
       "</thead>\n",
       "<tbody>\n",
       "\t<tr><th scope=row>1</th><td>JAK2  </td><td> 2</td><td>receptor     </td></tr>\n",
       "\t<tr><th scope=row>2</th><td>NOTCH1</td><td>22</td><td>receptor     </td></tr>\n",
       "\t<tr><th scope=row>3</th><td>SFRP1 </td><td> 2</td><td>receptor     </td></tr>\n",
       "\t<tr><th scope=row>4</th><td>SFRP2 </td><td> 6</td><td>ligand       </td></tr>\n",
       "\t<tr><th scope=row>5</th><td>MTNR1A</td><td>14</td><td>receptor     </td></tr>\n",
       "\t<tr><th scope=row>6</th><td>GRB7  </td><td> 5</td><td>intracellular</td></tr>\n",
       "</tbody>\n",
       "</table>\n"
      ],
      "text/latex": [
       "A data.frame: 6 × 3\n",
       "\\begin{tabular}{r|lll}\n",
       "  & genesymbol & score & parent\\\\\n",
       "  & <chr> & <dbl> & <chr>\\\\\n",
       "\\hline\n",
       "\t1 & JAK2   &  2 & receptor     \\\\\n",
       "\t2 & NOTCH1 & 22 & receptor     \\\\\n",
       "\t3 & SFRP1  &  2 & receptor     \\\\\n",
       "\t4 & SFRP2  &  6 & ligand       \\\\\n",
       "\t5 & MTNR1A & 14 & receptor     \\\\\n",
       "\t6 & GRB7   &  5 & intracellular\\\\\n",
       "\\end{tabular}\n"
      ],
      "text/markdown": [
       "\n",
       "A data.frame: 6 × 3\n",
       "\n",
       "| <!--/--> | genesymbol &lt;chr&gt; | score &lt;dbl&gt; | parent &lt;chr&gt; |\n",
       "|---|---|---|---|\n",
       "| 1 | JAK2   |  2 | receptor      |\n",
       "| 2 | NOTCH1 | 22 | receptor      |\n",
       "| 3 | SFRP1  |  2 | receptor      |\n",
       "| 4 | SFRP2  |  6 | ligand        |\n",
       "| 5 | MTNR1A | 14 | receptor      |\n",
       "| 6 | GRB7   |  5 | intracellular |\n",
       "\n"
      ],
      "text/plain": [
       "  genesymbol score parent       \n",
       "1 JAK2        2    receptor     \n",
       "2 NOTCH1     22    receptor     \n",
       "3 SFRP1       2    receptor     \n",
       "4 SFRP2       6    ligand       \n",
       "5 MTNR1A     14    receptor     \n",
       "6 GRB7        5    intracellular"
      ]
     },
     "metadata": {},
     "output_type": "display_data"
    }
   ],
   "source": [
    "head(annotation)"
   ]
  },
  {
   "cell_type": "markdown",
   "id": "ab54bbe0",
   "metadata": {},
   "source": [
    "### True Ligand Receptor Pairs"
   ]
  },
  {
   "cell_type": "markdown",
   "id": "ae43f571",
   "metadata": {},
   "source": [
    "Additionally, as part of the annotations, we identify pairs situated between Ligand and Receptor molecules and label them as 'True_LR = TRUE,' while other pairs, such as adhesive pairs or those between Receptor-Receptor molecules, will be marked as 'True_LR = False."
   ]
  },
  {
   "cell_type": "code",
   "execution_count": 18,
   "id": "fb98d4d7",
   "metadata": {},
   "outputs": [],
   "source": [
    "true_LR_DB <- process_lr_db(complete_data, annotation)"
   ]
  },
  {
   "cell_type": "markdown",
   "id": "f6fe5af0",
   "metadata": {},
   "source": [
    "### Process and direction correction on adhesive pairs"
   ]
  },
  {
   "cell_type": "markdown",
   "id": "00d9d3d7",
   "metadata": {},
   "source": [
    "This function is designed for processing adhesive interactions, including handling swapped duplicated pairs. It allows manual curation by enabling the user to specify lists of genes annotated as ligands or receptors. If none is given, ligands and receptors will be detected through the annotation table. \n",
    "\n",
    "In this step we categorize ADAM, Plexin and Neuroligin families as ligands. "
   ]
  },
  {
   "cell_type": "code",
   "execution_count": 19,
   "id": "daac154e",
   "metadata": {},
   "outputs": [],
   "source": [
    "adhesive_DB <- process_adhesive_DB(complete_data, annotation, ligand_list=list(), receptor_list=list())"
   ]
  },
  {
   "cell_type": "markdown",
   "id": "7e576e85",
   "metadata": {},
   "source": [
    "### Merge adhesive and True LR"
   ]
  },
  {
   "cell_type": "code",
   "execution_count": 20,
   "id": "05a2c6ce",
   "metadata": {},
   "outputs": [],
   "source": [
    "LR_database <- rbind(true_LR_DB, adhesive_DB)"
   ]
  },
  {
   "cell_type": "code",
   "execution_count": 21,
   "id": "21b8996d",
   "metadata": {},
   "outputs": [
    {
     "name": "stdout",
     "output_type": "stream",
     "text": [
      "'data.frame':\t6941 obs. of  21 variables:\n",
      " $ True_LR              : logi  TRUE TRUE TRUE TRUE TRUE TRUE ...\n",
      " $ Pair.Name            : chr  \"TP53_TNFRSF10D\" \"LRIG1_EGFR\" \"INHA_ACVR1B\" \"INHA_ACVR1C\" ...\n",
      " $ Ligand               : chr  \"TP53\" \"LRIG1\" \"INHA\" \"INHA\" ...\n",
      " $ Ligand.Name          : chr  \"tumor protein p53\" \"leucine rich repeats and immunoglobulin like domains 1\" \"inhibin subunit alpha\" \"inhibin subunit alpha\" ...\n",
      " $ Receptor             : chr  \"TNFRSF10D\" \"EGFR\" \"ACVR1B\" \"ACVR1C\" ...\n",
      " $ Receptor.Name        : chr  \"TNF receptor superfamily member 10d\" \"epidermal growth factor receptor\" \"activin A receptor type 1B\" \"activin A receptor type 1C\" ...\n",
      " $ complex_pair         : chr  NA NA NA NA ...\n",
      " $ source               : chr  \"P04637\" \"Q96JA1\" \"P05111\" \"P05111\" ...\n",
      " $ target               : chr  \"Q9UBN6\" \"P00533\" \"P36896\" \"Q8NER5\" ...\n",
      " $ is_directed          : num  1 1 1 1 1 1 1 1 1 1 ...\n",
      " $ is_stimulation       : num  1 0 1 1 1 1 1 1 1 1 ...\n",
      " $ is_inhibition        : num  0 1 0 0 0 0 0 0 0 0 ...\n",
      " $ consensus_direction  : num  1 0 1 1 1 1 1 1 1 1 ...\n",
      " $ consensus_stimulation: num  1 0 1 1 1 1 1 1 1 1 ...\n",
      " $ consensus_inhibition : num  0 0 0 0 0 0 0 0 0 0 ...\n",
      " $ sources              : chr  \"LRdb;SPIKE;Wang\" \"BioGRID;CellTalkDB;IntAct;SIGNOR;Wang\" \"DLRP_talklr;EMBRACE;Guide2Pharma;iTALK;talklr\" \"Guide2Pharma\" ...\n",
      " $ references           : chr  \"LRdb:16230375;SPIKE:16230375\" \"BioGRID:18542056;IntAct:15282549;IntAct:15345710;IntAct:18542056;SIGNOR:15282549\" NA NA ...\n",
      " $ curation_effort      : num  2 5 0 0 4 0 0 1 0 0 ...\n",
      " $ n_references         : num  1 3 0 0 4 0 0 1 0 0 ...\n",
      " $ n_resources          : int  3 5 4 1 5 1 1 5 1 1 ...\n",
      " $ annotation_strategy  : chr  \"LR\" \"LR\" \"LR\" \"LR\" ...\n"
     ]
    }
   ],
   "source": [
    "str(LR_database)"
   ]
  },
  {
   "cell_type": "code",
   "execution_count": null,
   "id": "2ec45325",
   "metadata": {},
   "outputs": [],
   "source": []
  }
 ],
 "metadata": {
  "kernelspec": {
   "display_name": "R",
   "language": "R",
   "name": "ir"
  },
  "language_info": {
   "codemirror_mode": "r",
   "file_extension": ".r",
   "mimetype": "text/x-r-source",
   "name": "R",
   "pygments_lexer": "r",
   "version": "4.1.2"
  }
 },
 "nbformat": 4,
 "nbformat_minor": 5
}
