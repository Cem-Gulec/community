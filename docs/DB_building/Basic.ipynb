{
 "cells": [
  {
   "cell_type": "markdown",
   "id": "f3d59636",
   "metadata": {},
   "source": [
    "# Building the `community` Database\n",
    "\n",
    "In this notebook, you'll find explanations of essential functions for constructing the 'community' database. These functions provide users with the flexibility to auto update the database or perform manual interventions during preprocessing. You can also customize the database by providing your own annotations or specifying lists of ligands and receptors to align it with your specific research requirements."
   ]
  },
  {
   "cell_type": "markdown",
   "id": "853bf818",
   "metadata": {},
   "source": [
    "**For users looking to quickly update the database, simply run the following command:**\n",
    "\n",
    "If you are using the community `conda environment`, the necessary libraries should be installed. However, if you are using a different virtual environment, and do not have the dependencies for [mygene](https://mygene.info/) and [OmniPathR](https://omnipathdb.org/), please install."
   ]
  },
  {
   "cell_type": "code",
   "execution_count": 2,
   "id": "f1490b11",
   "metadata": {},
   "outputs": [],
   "source": [
    "library(community) # load community package"
   ]
  },
  {
   "cell_type": "code",
   "execution_count": 3,
   "id": "7204bf8a",
   "metadata": {},
   "outputs": [
    {
     "data": {
      "text/plain": [
       "R version 4.1.2 (2021-11-01)\n",
       "Platform: x86_64-pc-linux-gnu (64-bit)\n",
       "Running under: Ubuntu 22.04.3 LTS\n",
       "\n",
       "Matrix products: default\n",
       "BLAS:   /usr/lib/x86_64-linux-gnu/openblas-pthread/libblas.so.3\n",
       "LAPACK: /usr/lib/x86_64-linux-gnu/openblas-pthread/libopenblasp-r0.3.20.so\n",
       "\n",
       "locale:\n",
       " [1] LC_CTYPE=en_US.UTF-8       LC_NUMERIC=C              \n",
       " [3] LC_TIME=de_DE.UTF-8        LC_COLLATE=en_US.UTF-8    \n",
       " [5] LC_MONETARY=de_DE.UTF-8    LC_MESSAGES=en_US.UTF-8   \n",
       " [7] LC_PAPER=de_DE.UTF-8       LC_NAME=C                 \n",
       " [9] LC_ADDRESS=C               LC_TELEPHONE=C            \n",
       "[11] LC_MEASUREMENT=de_DE.UTF-8 LC_IDENTIFICATION=C       \n",
       "\n",
       "attached base packages:\n",
       "[1] stats     graphics  grDevices utils     datasets  methods   base     \n",
       "\n",
       "other attached packages:\n",
       "[1] community_1.4.1\n",
       "\n",
       "loaded via a namespace (and not attached):\n",
       "  [1] readxl_1.4.1                uuid_1.1-0                 \n",
       "  [3] backports_1.4.1             Hmisc_4.7-2                \n",
       "  [5] BiocFileCache_2.2.1         plyr_1.8.8                 \n",
       "  [7] igraph_1.4.2                repr_1.1.4                 \n",
       "  [9] splines_4.1.2               BiocParallel_1.28.3        \n",
       " [11] GenomeInfoDb_1.30.1         ggplot2_3.4.4              \n",
       " [13] digest_0.6.31               htmltools_0.5.4            \n",
       " [15] OmnipathR_3.7.0             fansi_1.0.6                \n",
       " [17] magrittr_2.0.3              checkmate_2.1.0            \n",
       " [19] memoise_2.0.1               googlesheets4_1.0.1        \n",
       " [21] cluster_2.1.4               tzdb_0.3.0                 \n",
       " [23] Biostrings_2.62.0           readr_2.1.3                \n",
       " [25] modelr_0.1.9                matrixStats_0.63.0         \n",
       " [27] timechange_0.1.1            prettyunits_1.1.1          \n",
       " [29] jpeg_0.1-9                  colorspace_2.1-0           \n",
       " [31] blob_1.2.3                  rvest_1.0.3                \n",
       " [33] rappdirs_0.3.3              haven_2.5.1                \n",
       " [35] xfun_0.35                   dplyr_1.0.10               \n",
       " [37] crayon_1.5.2                RCurl_1.98-1.8             \n",
       " [39] jsonlite_1.8.4              survival_3.4-0             \n",
       " [41] glue_1.7.0.9000             gtable_0.3.4               \n",
       " [43] gargle_1.2.1                zlibbioc_1.40.0            \n",
       " [45] XVector_0.34.0              DelayedArray_0.20.0        \n",
       " [47] BiocGenerics_0.40.0         scales_1.3.0               \n",
       " [49] DBI_1.1.3                   Rcpp_1.0.9                 \n",
       " [51] progress_1.2.2              htmlTable_2.4.1            \n",
       " [53] foreign_0.8-82              bit_4.0.5                  \n",
       " [55] Formula_1.2-4               sqldf_0.4-11               \n",
       " [57] stats4_4.1.2                htmlwidgets_1.5.4          \n",
       " [59] httr_1.4.4                  RColorBrewer_1.1-3         \n",
       " [61] ellipsis_0.3.2              pkgconfig_2.0.3            \n",
       " [63] XML_3.99-0.12               nnet_7.3-17                \n",
       " [65] dbplyr_2.2.1                deldir_1.0-6               \n",
       " [67] utf8_1.2.4                  tidyselect_1.2.0           \n",
       " [69] rlang_1.1.3                 later_1.3.0                \n",
       " [71] AnnotationDbi_1.56.2        munsell_0.5.0              \n",
       " [73] cellranger_1.1.0            tools_4.1.2                \n",
       " [75] cachem_1.0.6                cli_3.6.2                  \n",
       " [77] gsubfn_0.7                  generics_0.1.3             \n",
       " [79] RSQLite_2.2.17              mygene_1.30.0              \n",
       " [81] broom_1.0.1                 evaluate_0.19              \n",
       " [83] stringr_1.5.1               fastmap_1.1.0              \n",
       " [85] yaml_2.3.6                  knitr_1.41                 \n",
       " [87] bit64_4.0.5                 fs_1.5.2                   \n",
       " [89] purrr_0.3.5                 KEGGREST_1.34.0            \n",
       " [91] xml2_1.3.3                  biomaRt_2.50.3             \n",
       " [93] compiler_4.1.2              rstudioapi_0.14            \n",
       " [95] filelock_1.0.2              curl_4.3.3                 \n",
       " [97] png_0.1-8                   reprex_2.0.2               \n",
       " [99] tibble_3.2.1                stringi_1.8.3              \n",
       "[101] GenomicFeatures_1.46.5      forcats_0.5.2              \n",
       "[103] logger_0.2.2                lattice_0.20-45            \n",
       "[105] IRdisplay_1.1               Matrix_1.5-1               \n",
       "[107] vctrs_0.6.5                 pillar_1.9.0               \n",
       "[109] lifecycle_1.0.4             data.table_1.14.8          \n",
       "[111] bitops_1.0-7                rtracklayer_1.54.0         \n",
       "[113] GenomicRanges_1.46.1        R6_2.5.1                   \n",
       "[115] BiocIO_1.4.0                latticeExtra_0.6-30        \n",
       "[117] gridExtra_2.3               IRanges_2.28.0             \n",
       "[119] assertthat_0.2.1            chron_2.3-57               \n",
       "[121] proto_1.0.0                 SummarizedExperiment_1.24.0\n",
       "[123] rjson_0.2.21                withr_3.0.0                \n",
       "[125] GenomicAlignments_1.30.0    Rsamtools_2.10.0           \n",
       "[127] S4Vectors_0.32.4            GenomeInfoDbData_1.2.7     \n",
       "[129] parallel_4.1.2              hms_1.1.2                  \n",
       "[131] grid_4.1.2                  rpart_4.1.16               \n",
       "[133] tidyverse_1.3.2             IRkernel_1.3               \n",
       "[135] tidyr_1.2.1                 rmarkdown_2.19             \n",
       "[137] MatrixGenerics_1.6.0        googledrive_2.0.0          \n",
       "[139] pbdZMQ_0.3-7                Biobase_2.54.0             \n",
       "[141] lubridate_1.9.0             base64enc_0.1-3            \n",
       "[143] interp_1.1-3                restfulr_0.0.15            "
      ]
     },
     "metadata": {},
     "output_type": "display_data"
    }
   ],
   "source": [
    "sessionInfo()"
   ]
  },
  {
   "cell_type": "code",
   "execution_count": 4,
   "id": "7d2c5bf1",
   "metadata": {},
   "outputs": [
    {
     "name": "stdout",
     "output_type": "stream",
     "text": [
      "Retrieved interactions from both DB2109  Number of complex pairs detected13582  Number of non-redundant binary pairs produced1262  Number of binary pairs detected through PPI[1] \"Number of PPI network interactions found:\"\n",
      "[1] 1262\n"
     ]
    },
    {
     "ename": "ERROR",
     "evalue": "Error in process_single_components(db, pt_interactions): could not find function \"process_single_components\"\n",
     "output_type": "error",
     "traceback": [
      "Error in process_single_components(db, pt_interactions): could not find function \"process_single_components\"\nTraceback:\n",
      "1. auto_update_db(\"both\")"
     ]
    }
   ],
   "source": [
    "LR_database <- auto_update_db(\"both\") "
   ]
  },
  {
   "cell_type": "markdown",
   "id": "28c92682",
   "metadata": {},
   "source": [
    "If you do not have `mygene` and `OmniPathR` libraries installed please uncomment the block by removing the dash symbol, #, and run the following."
   ]
  },
  {
   "cell_type": "code",
   "execution_count": null,
   "id": "0da59418",
   "metadata": {},
   "outputs": [],
   "source": [
    "# if (!require(\"BiocManager\", quietly = TRUE))\n",
    "#     install.packages(\"BiocManager\")\n",
    "\n",
    "# BiocManager::install(\"mygene\")"
   ]
  },
  {
   "cell_type": "code",
   "execution_count": null,
   "id": "1307b8ed",
   "metadata": {},
   "outputs": [],
   "source": [
    "# if (!require(\"BiocManager\", quietly = TRUE))\n",
    "#     install.packages(\"BiocManager\")\n",
    "\n",
    "# BiocManager::install(\"OmnipathR\")"
   ]
  },
  {
   "cell_type": "markdown",
   "id": "4f15098e",
   "metadata": {},
   "source": [
    "# Building step by step\n",
    "\n"
   ]
  },
  {
   "cell_type": "markdown",
   "id": "62b57299",
   "metadata": {},
   "source": [
    "### Import the database of interest from OmniPath"
   ]
  },
  {
   "cell_type": "markdown",
   "id": "3ffe78d0",
   "metadata": {},
   "source": [
    "This function imports ligand-receptor interaction data based on the specified database type. It allows for the selection of `noncurated`, `curated`, or `both` types of databases."
   ]
  },
  {
   "cell_type": "code",
   "execution_count": null,
   "id": "d9126c13",
   "metadata": {},
   "outputs": [],
   "source": [
    "db <- import_db(\"both\")\n",
    "# db <- import_db(\"curated\")\n",
    "# db <- import_db(\"noncurated\")"
   ]
  },
  {
   "cell_type": "markdown",
   "id": "bd9c86da",
   "metadata": {},
   "source": [
    "### Break down complex interactions"
   ]
  },
  {
   "cell_type": "markdown",
   "id": "afe312a8",
   "metadata": {},
   "source": [
    "Next, we processes the database to handle complex rows where either the target or the source is a complex. It splits such complex interactions into pairwise binary interactions."
   ]
  },
  {
   "cell_type": "code",
   "execution_count": null,
   "id": "29d8eeb5",
   "metadata": {},
   "outputs": [],
   "source": [
    "pairwise_pairs <- create_pairwise_pairs(db)"
   ]
  },
  {
   "cell_type": "code",
   "execution_count": null,
   "id": "a8f50e93",
   "metadata": {},
   "outputs": [],
   "source": [
    "head(pairwise_pairs)"
   ]
  },
  {
   "cell_type": "markdown",
   "id": "410cd481",
   "metadata": {},
   "source": [
    "### Filter through PPI"
   ]
  },
  {
   "cell_type": "markdown",
   "id": "28a58efb",
   "metadata": {},
   "source": [
    "Now, we filter those binary pairs based on their presence in the protein-protein interaction (PPI) network."
   ]
  },
  {
   "cell_type": "code",
   "execution_count": null,
   "id": "f9a73946",
   "metadata": {},
   "outputs": [],
   "source": [
    "pt_interactions <- filter_pairs_with_ppi(pairwise_pairs)"
   ]
  },
  {
   "cell_type": "code",
   "execution_count": null,
   "id": "d7a94f3f",
   "metadata": {},
   "outputs": [],
   "source": [
    "head(pt_interactions)"
   ]
  },
  {
   "cell_type": "markdown",
   "id": "491c8314",
   "metadata": {},
   "source": [
    "### Merge these binary pairs"
   ]
  },
  {
   "cell_type": "markdown",
   "id": "d1ba73bf",
   "metadata": {},
   "source": [
    "This function processes binary pairs from the database and merges them with the binary pairs detected through PPI. It also standarizes and reorder columns"
   ]
  },
  {
   "cell_type": "code",
   "execution_count": null,
   "id": "e5de581c",
   "metadata": {},
   "outputs": [],
   "source": [
    "process_binary_pairs"
   ]
  },
  {
   "cell_type": "code",
   "execution_count": null,
   "id": "3d5f9432",
   "metadata": {},
   "outputs": [],
   "source": [
    "complete_data <- process_single_components(db, pt_interactions)"
   ]
  },
  {
   "cell_type": "code",
   "execution_count": null,
   "id": "8c5e79f8",
   "metadata": {},
   "outputs": [],
   "source": [
    "head(complete_data)"
   ]
  },
  {
   "cell_type": "markdown",
   "id": "5dfe1ed5",
   "metadata": {},
   "source": [
    "### Map gene descriptions"
   ]
  },
  {
   "cell_type": "markdown",
   "id": "edd33291",
   "metadata": {},
   "source": [
    "we enriche the database with gene descriptions. It queries gene symbols to fetch their respective gene descriptions from [MyGene, a gene annotation servise](https://mygene.info/).\n",
    "\n",
    "<div class=\"alert alert-block alert-info\">\n",
    "<b>Note:</b> This function may fail due to internet connectivity issues.If this is the case, please try again.\n",
    "</div>\n",
    "\n"
   ]
  },
  {
   "cell_type": "code",
   "execution_count": null,
   "id": "f75d24cd",
   "metadata": {},
   "outputs": [],
   "source": [
    "complete_data <- map_gene_data(complete_data)"
   ]
  },
  {
   "cell_type": "code",
   "execution_count": null,
   "id": "e664ca36",
   "metadata": {},
   "outputs": [],
   "source": [
    "head(complete_data)"
   ]
  },
  {
   "cell_type": "markdown",
   "id": "466b400d",
   "metadata": {},
   "source": [
    "### Annotate gene space"
   ]
  },
  {
   "cell_type": "markdown",
   "id": "8f8d3a16",
   "metadata": {},
   "source": [
    "Annotate each gene in the protein-protein interaction (PPI) network with their corresponding parent categories, along with a score indicating how many of the resources (# 44 resources) have annotated that gene as such."
   ]
  },
  {
   "cell_type": "code",
   "execution_count": null,
   "id": "5072ce6b",
   "metadata": {},
   "outputs": [],
   "source": [
    "annotation <- annotate_components(complete_data)"
   ]
  },
  {
   "cell_type": "code",
   "execution_count": null,
   "id": "c64b21a7",
   "metadata": {},
   "outputs": [],
   "source": [
    "head(annotation)"
   ]
  },
  {
   "cell_type": "markdown",
   "id": "ab54bbe0",
   "metadata": {},
   "source": [
    "### True Ligand Receptor Pairs"
   ]
  },
  {
   "cell_type": "markdown",
   "id": "ae43f571",
   "metadata": {},
   "source": [
    "Additionally, as part of the annotations, we identify pairs situated between Ligand and Receptor molecules and label them as 'True_LR = TRUE,' while other pairs, such as adhesive pairs or those between Receptor-Receptor molecules, will be marked as 'True_LR = False."
   ]
  },
  {
   "cell_type": "code",
   "execution_count": null,
   "id": "fb98d4d7",
   "metadata": {},
   "outputs": [],
   "source": [
    "true_LR_DB <- process_lr_db(complete_data, annotation)"
   ]
  },
  {
   "cell_type": "markdown",
   "id": "f6fe5af0",
   "metadata": {},
   "source": [
    "### Process and direction correction on adhesive pairs"
   ]
  },
  {
   "cell_type": "markdown",
   "id": "00d9d3d7",
   "metadata": {},
   "source": [
    "This function is designed for processing adhesive interactions, including handling swapped duplicated pairs. It allows manual curation by enabling the user to specify lists of genes annotated as ligands or receptors. If none is given, ligands and receptors will be detected through the annotation table. \n",
    "\n",
    "In this step we categorize ADAM, Plexin and Neuroligin families as ligands. "
   ]
  },
  {
   "cell_type": "code",
   "execution_count": null,
   "id": "daac154e",
   "metadata": {},
   "outputs": [],
   "source": [
    "adhesive_DB <- process_adhesive_DB(complete_data, annotation, ligand_list=list(), receptor_list=list())"
   ]
  },
  {
   "cell_type": "markdown",
   "id": "7e576e85",
   "metadata": {},
   "source": [
    "### Merge adhesive and True LR"
   ]
  },
  {
   "cell_type": "code",
   "execution_count": null,
   "id": "05a2c6ce",
   "metadata": {},
   "outputs": [],
   "source": [
    "LR_database <- rbind(true_LR_DB, adhesive_DB)"
   ]
  },
  {
   "cell_type": "code",
   "execution_count": null,
   "id": "21b8996d",
   "metadata": {},
   "outputs": [],
   "source": [
    "str(LR_database)"
   ]
  },
  {
   "cell_type": "code",
   "execution_count": null,
   "id": "2ec45325",
   "metadata": {},
   "outputs": [],
   "source": []
  }
 ],
 "metadata": {
  "kernelspec": {
   "display_name": "R",
   "language": "R",
   "name": "ir"
  },
  "language_info": {
   "codemirror_mode": "r",
   "file_extension": ".r",
   "mimetype": "text/x-r-source",
   "name": "R",
   "pygments_lexer": "r",
   "version": "4.1.2"
  }
 },
 "nbformat": 4,
 "nbformat_minor": 5
}
