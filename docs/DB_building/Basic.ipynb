{
 "cells": [
  {
   "cell_type": "markdown",
   "id": "f3d59636",
   "metadata": {},
   "source": [
    "# Building the `community` Database\n",
    "\n",
    "In this notebook, you'll find explanations of essential functions for constructing the 'community' database. These functions provide users with the flexibility to auto update the database or perform manual interventions during preprocessing. You can also customize the database by providing your own annotations or specifying lists of ligands and receptors to align it with your specific research requirements."
   ]
  },
  {
   "cell_type": "markdown",
   "id": "853bf818",
   "metadata": {},
   "source": [
    "**For users looking to quickly update the database, simply run the following command:**\n",
    "\n",
    "If you are using the community `conda environment`, the necessary libraries should be installed. However, if you are using a different virtual environment, and do not have the dependencies for [mygene](https://mygene.info/) and [OmniPathR](https://omnipathdb.org/), please install."
   ]
  },
  {
   "cell_type": "code",
   "execution_count": 4,
   "id": "f1490b11",
   "metadata": {},
   "outputs": [],
   "source": [
    "library(community) # load community package"
   ]
  },
  {
   "cell_type": "code",
   "execution_count": null,
   "id": "7d2c5bf1",
   "metadata": {},
   "outputs": [],
   "source": [
    "LR_database <- auto_update_db(\"both\") "
   ]
  },
  {
   "cell_type": "markdown",
   "id": "28c92682",
   "metadata": {},
   "source": [
    "If you do not have `mygene` and `OmniPathR` libraries installed please uncomment the block by removing the dash symbol, #, and run the following."
   ]
  },
  {
   "cell_type": "code",
   "execution_count": 2,
   "id": "0da59418",
   "metadata": {},
   "outputs": [],
   "source": [
    "# if (!require(\"BiocManager\", quietly = TRUE))\n",
    "#     install.packages(\"BiocManager\")\n",
    "\n",
    "# BiocManager::install(\"mygene\")"
   ]
  },
  {
   "cell_type": "code",
   "execution_count": 3,
   "id": "1307b8ed",
   "metadata": {},
   "outputs": [],
   "source": [
    "# if (!require(\"BiocManager\", quietly = TRUE))\n",
    "#     install.packages(\"BiocManager\")\n",
    "\n",
    "# BiocManager::install(\"OmnipathR\")"
   ]
  },
  {
   "cell_type": "markdown",
   "id": "4f15098e",
   "metadata": {},
   "source": [
    "# Building step by step\n",
    "\n"
   ]
  },
  {
   "cell_type": "markdown",
   "id": "62b57299",
   "metadata": {},
   "source": [
    "### Import the database of interest from OmniPath"
   ]
  },
  {
   "cell_type": "markdown",
   "id": "3ffe78d0",
   "metadata": {},
   "source": [
    "This function imports ligand-receptor interaction data based on the specified database type. It allows for the selection of `noncurated`, `curated`, or `both` types of databases."
   ]
  },
  {
   "cell_type": "code",
   "execution_count": 5,
   "id": "d9126c13",
   "metadata": {},
   "outputs": [
    {
     "name": "stdout",
     "output_type": "stream",
     "text": [
      "[1] \"Number of pairs found\"\n"
     ]
    }
   ],
   "source": [
    "db <- import_db(\"both\")\n",
    "# db <- import_db(\"curated\")\n",
    "# db <- import_db(\"noncurated\")"
   ]
  },
  {
   "cell_type": "markdown",
   "id": "bd9c86da",
   "metadata": {},
   "source": [
    "### Break down complex interactions"
   ]
  },
  {
   "cell_type": "markdown",
   "id": "afe312a8",
   "metadata": {},
   "source": [
    "Next, we processes the database to handle complex rows where either the target or the source is a complex. It splits such complex interactions into pairwise binary interactions."
   ]
  },
  {
   "cell_type": "code",
   "execution_count": 7,
   "id": "29d8eeb5",
   "metadata": {},
   "outputs": [],
   "source": [
    "pairwise_pairs <- create_pairwise_pairs(db)"
   ]
  },
  {
   "cell_type": "code",
   "execution_count": 9,
   "id": "a8f50e93",
   "metadata": {},
   "outputs": [
    {
     "data": {
      "text/html": [
       "<table class=\"dataframe\">\n",
       "<caption>A data.frame: 6 × 20</caption>\n",
       "<thead>\n",
       "\t<tr><th></th><th scope=col>Pair.Name</th><th scope=col>Ligand</th><th scope=col>Receptor</th><th scope=col>complex_pair</th><th scope=col>source</th><th scope=col>target</th><th scope=col>source_genesymbol</th><th scope=col>target_genesymbol</th><th scope=col>is_directed</th><th scope=col>is_stimulation</th><th scope=col>is_inhibition</th><th scope=col>consensus_direction</th><th scope=col>consensus_stimulation</th><th scope=col>consensus_inhibition</th><th scope=col>sources</th><th scope=col>references</th><th scope=col>curation_effort</th><th scope=col>n_references</th><th scope=col>n_resources</th><th scope=col>annotation_strategy</th></tr>\n",
       "\t<tr><th></th><th scope=col>&lt;chr&gt;</th><th scope=col>&lt;chr&gt;</th><th scope=col>&lt;chr&gt;</th><th scope=col>&lt;chr&gt;</th><th scope=col>&lt;chr&gt;</th><th scope=col>&lt;chr&gt;</th><th scope=col>&lt;chr&gt;</th><th scope=col>&lt;chr&gt;</th><th scope=col>&lt;dbl&gt;</th><th scope=col>&lt;dbl&gt;</th><th scope=col>&lt;dbl&gt;</th><th scope=col>&lt;dbl&gt;</th><th scope=col>&lt;dbl&gt;</th><th scope=col>&lt;dbl&gt;</th><th scope=col>&lt;chr&gt;</th><th scope=col>&lt;chr&gt;</th><th scope=col>&lt;dbl&gt;</th><th scope=col>&lt;dbl&gt;</th><th scope=col>&lt;int&gt;</th><th scope=col>&lt;chr&gt;</th></tr>\n",
       "</thead>\n",
       "<tbody>\n",
       "\t<tr><th scope=row>1</th><td>IL17A_IL17RA </td><td>IL17A </td><td>IL17RA</td><td>IL17A_IL17RA_IL17RC</td><td>Q16552</td><td>COMPLEX:Q8NAC3_Q96F46</td><td>IL17A</td><td>IL17RA_IL17RC</td><td>1</td><td>1</td><td>0</td><td>1</td><td>1</td><td>0</td><td>CellChatDB;CellPhoneDB;Cellinker;ICELLNET;SIGNOR</td><td>Cellinker:19838198;Cellinker:25204502;Cellinker:9367539;ICELLNET:24011563;SIGNOR:32024054</td><td>5</td><td>5</td><td>5</td><td>both</td></tr>\n",
       "\t<tr><th scope=row>2</th><td>IL17A_IL17RC </td><td>IL17A </td><td>IL17RC</td><td>IL17A_IL17RA_IL17RC</td><td>Q16552</td><td>COMPLEX:Q8NAC3_Q96F46</td><td>IL17A</td><td>IL17RA_IL17RC</td><td>1</td><td>1</td><td>0</td><td>1</td><td>1</td><td>0</td><td>CellChatDB;CellPhoneDB;Cellinker;ICELLNET;SIGNOR</td><td>Cellinker:19838198;Cellinker:25204502;Cellinker:9367539;ICELLNET:24011563;SIGNOR:32024054</td><td>5</td><td>5</td><td>5</td><td>both</td></tr>\n",
       "\t<tr><th scope=row>3</th><td>IL17RA_IL17RC</td><td>IL17RA</td><td>IL17RC</td><td>IL17A_IL17RA_IL17RC</td><td>Q16552</td><td>COMPLEX:Q8NAC3_Q96F46</td><td>IL17A</td><td>IL17RA_IL17RC</td><td>1</td><td>1</td><td>0</td><td>1</td><td>1</td><td>0</td><td>CellChatDB;CellPhoneDB;Cellinker;ICELLNET;SIGNOR</td><td>Cellinker:19838198;Cellinker:25204502;Cellinker:9367539;ICELLNET:24011563;SIGNOR:32024054</td><td>5</td><td>5</td><td>5</td><td>both</td></tr>\n",
       "\t<tr><th scope=row>4</th><td>IL17RA_IL17A </td><td>IL17RA</td><td>IL17A </td><td>IL17A_IL17RA_IL17RC</td><td>Q16552</td><td>COMPLEX:Q8NAC3_Q96F46</td><td>IL17A</td><td>IL17RA_IL17RC</td><td>1</td><td>1</td><td>0</td><td>1</td><td>1</td><td>0</td><td>CellChatDB;CellPhoneDB;Cellinker;ICELLNET;SIGNOR</td><td>Cellinker:19838198;Cellinker:25204502;Cellinker:9367539;ICELLNET:24011563;SIGNOR:32024054</td><td>5</td><td>5</td><td>5</td><td>both</td></tr>\n",
       "\t<tr><th scope=row>5</th><td>IL17RC_IL17A </td><td>IL17RC</td><td>IL17A </td><td>IL17A_IL17RA_IL17RC</td><td>Q16552</td><td>COMPLEX:Q8NAC3_Q96F46</td><td>IL17A</td><td>IL17RA_IL17RC</td><td>1</td><td>1</td><td>0</td><td>1</td><td>1</td><td>0</td><td>CellChatDB;CellPhoneDB;Cellinker;ICELLNET;SIGNOR</td><td>Cellinker:19838198;Cellinker:25204502;Cellinker:9367539;ICELLNET:24011563;SIGNOR:32024054</td><td>5</td><td>5</td><td>5</td><td>both</td></tr>\n",
       "\t<tr><th scope=row>6</th><td>IL17RC_IL17RA</td><td>IL17RC</td><td>IL17RA</td><td>IL17A_IL17RA_IL17RC</td><td>Q16552</td><td>COMPLEX:Q8NAC3_Q96F46</td><td>IL17A</td><td>IL17RA_IL17RC</td><td>1</td><td>1</td><td>0</td><td>1</td><td>1</td><td>0</td><td>CellChatDB;CellPhoneDB;Cellinker;ICELLNET;SIGNOR</td><td>Cellinker:19838198;Cellinker:25204502;Cellinker:9367539;ICELLNET:24011563;SIGNOR:32024054</td><td>5</td><td>5</td><td>5</td><td>both</td></tr>\n",
       "</tbody>\n",
       "</table>\n"
      ],
      "text/latex": [
       "A data.frame: 6 × 20\n",
       "\\begin{tabular}{r|llllllllllllllllllll}\n",
       "  & Pair.Name & Ligand & Receptor & complex\\_pair & source & target & source\\_genesymbol & target\\_genesymbol & is\\_directed & is\\_stimulation & is\\_inhibition & consensus\\_direction & consensus\\_stimulation & consensus\\_inhibition & sources & references & curation\\_effort & n\\_references & n\\_resources & annotation\\_strategy\\\\\n",
       "  & <chr> & <chr> & <chr> & <chr> & <chr> & <chr> & <chr> & <chr> & <dbl> & <dbl> & <dbl> & <dbl> & <dbl> & <dbl> & <chr> & <chr> & <dbl> & <dbl> & <int> & <chr>\\\\\n",
       "\\hline\n",
       "\t1 & IL17A\\_IL17RA  & IL17A  & IL17RA & IL17A\\_IL17RA\\_IL17RC & Q16552 & COMPLEX:Q8NAC3\\_Q96F46 & IL17A & IL17RA\\_IL17RC & 1 & 1 & 0 & 1 & 1 & 0 & CellChatDB;CellPhoneDB;Cellinker;ICELLNET;SIGNOR & Cellinker:19838198;Cellinker:25204502;Cellinker:9367539;ICELLNET:24011563;SIGNOR:32024054 & 5 & 5 & 5 & both\\\\\n",
       "\t2 & IL17A\\_IL17RC  & IL17A  & IL17RC & IL17A\\_IL17RA\\_IL17RC & Q16552 & COMPLEX:Q8NAC3\\_Q96F46 & IL17A & IL17RA\\_IL17RC & 1 & 1 & 0 & 1 & 1 & 0 & CellChatDB;CellPhoneDB;Cellinker;ICELLNET;SIGNOR & Cellinker:19838198;Cellinker:25204502;Cellinker:9367539;ICELLNET:24011563;SIGNOR:32024054 & 5 & 5 & 5 & both\\\\\n",
       "\t3 & IL17RA\\_IL17RC & IL17RA & IL17RC & IL17A\\_IL17RA\\_IL17RC & Q16552 & COMPLEX:Q8NAC3\\_Q96F46 & IL17A & IL17RA\\_IL17RC & 1 & 1 & 0 & 1 & 1 & 0 & CellChatDB;CellPhoneDB;Cellinker;ICELLNET;SIGNOR & Cellinker:19838198;Cellinker:25204502;Cellinker:9367539;ICELLNET:24011563;SIGNOR:32024054 & 5 & 5 & 5 & both\\\\\n",
       "\t4 & IL17RA\\_IL17A  & IL17RA & IL17A  & IL17A\\_IL17RA\\_IL17RC & Q16552 & COMPLEX:Q8NAC3\\_Q96F46 & IL17A & IL17RA\\_IL17RC & 1 & 1 & 0 & 1 & 1 & 0 & CellChatDB;CellPhoneDB;Cellinker;ICELLNET;SIGNOR & Cellinker:19838198;Cellinker:25204502;Cellinker:9367539;ICELLNET:24011563;SIGNOR:32024054 & 5 & 5 & 5 & both\\\\\n",
       "\t5 & IL17RC\\_IL17A  & IL17RC & IL17A  & IL17A\\_IL17RA\\_IL17RC & Q16552 & COMPLEX:Q8NAC3\\_Q96F46 & IL17A & IL17RA\\_IL17RC & 1 & 1 & 0 & 1 & 1 & 0 & CellChatDB;CellPhoneDB;Cellinker;ICELLNET;SIGNOR & Cellinker:19838198;Cellinker:25204502;Cellinker:9367539;ICELLNET:24011563;SIGNOR:32024054 & 5 & 5 & 5 & both\\\\\n",
       "\t6 & IL17RC\\_IL17RA & IL17RC & IL17RA & IL17A\\_IL17RA\\_IL17RC & Q16552 & COMPLEX:Q8NAC3\\_Q96F46 & IL17A & IL17RA\\_IL17RC & 1 & 1 & 0 & 1 & 1 & 0 & CellChatDB;CellPhoneDB;Cellinker;ICELLNET;SIGNOR & Cellinker:19838198;Cellinker:25204502;Cellinker:9367539;ICELLNET:24011563;SIGNOR:32024054 & 5 & 5 & 5 & both\\\\\n",
       "\\end{tabular}\n"
      ],
      "text/markdown": [
       "\n",
       "A data.frame: 6 × 20\n",
       "\n",
       "| <!--/--> | Pair.Name &lt;chr&gt; | Ligand &lt;chr&gt; | Receptor &lt;chr&gt; | complex_pair &lt;chr&gt; | source &lt;chr&gt; | target &lt;chr&gt; | source_genesymbol &lt;chr&gt; | target_genesymbol &lt;chr&gt; | is_directed &lt;dbl&gt; | is_stimulation &lt;dbl&gt; | is_inhibition &lt;dbl&gt; | consensus_direction &lt;dbl&gt; | consensus_stimulation &lt;dbl&gt; | consensus_inhibition &lt;dbl&gt; | sources &lt;chr&gt; | references &lt;chr&gt; | curation_effort &lt;dbl&gt; | n_references &lt;dbl&gt; | n_resources &lt;int&gt; | annotation_strategy &lt;chr&gt; |\n",
       "|---|---|---|---|---|---|---|---|---|---|---|---|---|---|---|---|---|---|---|---|---|\n",
       "| 1 | IL17A_IL17RA  | IL17A  | IL17RA | IL17A_IL17RA_IL17RC | Q16552 | COMPLEX:Q8NAC3_Q96F46 | IL17A | IL17RA_IL17RC | 1 | 1 | 0 | 1 | 1 | 0 | CellChatDB;CellPhoneDB;Cellinker;ICELLNET;SIGNOR | Cellinker:19838198;Cellinker:25204502;Cellinker:9367539;ICELLNET:24011563;SIGNOR:32024054 | 5 | 5 | 5 | both |\n",
       "| 2 | IL17A_IL17RC  | IL17A  | IL17RC | IL17A_IL17RA_IL17RC | Q16552 | COMPLEX:Q8NAC3_Q96F46 | IL17A | IL17RA_IL17RC | 1 | 1 | 0 | 1 | 1 | 0 | CellChatDB;CellPhoneDB;Cellinker;ICELLNET;SIGNOR | Cellinker:19838198;Cellinker:25204502;Cellinker:9367539;ICELLNET:24011563;SIGNOR:32024054 | 5 | 5 | 5 | both |\n",
       "| 3 | IL17RA_IL17RC | IL17RA | IL17RC | IL17A_IL17RA_IL17RC | Q16552 | COMPLEX:Q8NAC3_Q96F46 | IL17A | IL17RA_IL17RC | 1 | 1 | 0 | 1 | 1 | 0 | CellChatDB;CellPhoneDB;Cellinker;ICELLNET;SIGNOR | Cellinker:19838198;Cellinker:25204502;Cellinker:9367539;ICELLNET:24011563;SIGNOR:32024054 | 5 | 5 | 5 | both |\n",
       "| 4 | IL17RA_IL17A  | IL17RA | IL17A  | IL17A_IL17RA_IL17RC | Q16552 | COMPLEX:Q8NAC3_Q96F46 | IL17A | IL17RA_IL17RC | 1 | 1 | 0 | 1 | 1 | 0 | CellChatDB;CellPhoneDB;Cellinker;ICELLNET;SIGNOR | Cellinker:19838198;Cellinker:25204502;Cellinker:9367539;ICELLNET:24011563;SIGNOR:32024054 | 5 | 5 | 5 | both |\n",
       "| 5 | IL17RC_IL17A  | IL17RC | IL17A  | IL17A_IL17RA_IL17RC | Q16552 | COMPLEX:Q8NAC3_Q96F46 | IL17A | IL17RA_IL17RC | 1 | 1 | 0 | 1 | 1 | 0 | CellChatDB;CellPhoneDB;Cellinker;ICELLNET;SIGNOR | Cellinker:19838198;Cellinker:25204502;Cellinker:9367539;ICELLNET:24011563;SIGNOR:32024054 | 5 | 5 | 5 | both |\n",
       "| 6 | IL17RC_IL17RA | IL17RC | IL17RA | IL17A_IL17RA_IL17RC | Q16552 | COMPLEX:Q8NAC3_Q96F46 | IL17A | IL17RA_IL17RC | 1 | 1 | 0 | 1 | 1 | 0 | CellChatDB;CellPhoneDB;Cellinker;ICELLNET;SIGNOR | Cellinker:19838198;Cellinker:25204502;Cellinker:9367539;ICELLNET:24011563;SIGNOR:32024054 | 5 | 5 | 5 | both |\n",
       "\n"
      ],
      "text/plain": [
       "  Pair.Name     Ligand Receptor complex_pair        source\n",
       "1 IL17A_IL17RA  IL17A  IL17RA   IL17A_IL17RA_IL17RC Q16552\n",
       "2 IL17A_IL17RC  IL17A  IL17RC   IL17A_IL17RA_IL17RC Q16552\n",
       "3 IL17RA_IL17RC IL17RA IL17RC   IL17A_IL17RA_IL17RC Q16552\n",
       "4 IL17RA_IL17A  IL17RA IL17A    IL17A_IL17RA_IL17RC Q16552\n",
       "5 IL17RC_IL17A  IL17RC IL17A    IL17A_IL17RA_IL17RC Q16552\n",
       "6 IL17RC_IL17RA IL17RC IL17RA   IL17A_IL17RA_IL17RC Q16552\n",
       "  target                source_genesymbol target_genesymbol is_directed\n",
       "1 COMPLEX:Q8NAC3_Q96F46 IL17A             IL17RA_IL17RC     1          \n",
       "2 COMPLEX:Q8NAC3_Q96F46 IL17A             IL17RA_IL17RC     1          \n",
       "3 COMPLEX:Q8NAC3_Q96F46 IL17A             IL17RA_IL17RC     1          \n",
       "4 COMPLEX:Q8NAC3_Q96F46 IL17A             IL17RA_IL17RC     1          \n",
       "5 COMPLEX:Q8NAC3_Q96F46 IL17A             IL17RA_IL17RC     1          \n",
       "6 COMPLEX:Q8NAC3_Q96F46 IL17A             IL17RA_IL17RC     1          \n",
       "  is_stimulation is_inhibition consensus_direction consensus_stimulation\n",
       "1 1              0             1                   1                    \n",
       "2 1              0             1                   1                    \n",
       "3 1              0             1                   1                    \n",
       "4 1              0             1                   1                    \n",
       "5 1              0             1                   1                    \n",
       "6 1              0             1                   1                    \n",
       "  consensus_inhibition sources                                         \n",
       "1 0                    CellChatDB;CellPhoneDB;Cellinker;ICELLNET;SIGNOR\n",
       "2 0                    CellChatDB;CellPhoneDB;Cellinker;ICELLNET;SIGNOR\n",
       "3 0                    CellChatDB;CellPhoneDB;Cellinker;ICELLNET;SIGNOR\n",
       "4 0                    CellChatDB;CellPhoneDB;Cellinker;ICELLNET;SIGNOR\n",
       "5 0                    CellChatDB;CellPhoneDB;Cellinker;ICELLNET;SIGNOR\n",
       "6 0                    CellChatDB;CellPhoneDB;Cellinker;ICELLNET;SIGNOR\n",
       "  references                                                                               \n",
       "1 Cellinker:19838198;Cellinker:25204502;Cellinker:9367539;ICELLNET:24011563;SIGNOR:32024054\n",
       "2 Cellinker:19838198;Cellinker:25204502;Cellinker:9367539;ICELLNET:24011563;SIGNOR:32024054\n",
       "3 Cellinker:19838198;Cellinker:25204502;Cellinker:9367539;ICELLNET:24011563;SIGNOR:32024054\n",
       "4 Cellinker:19838198;Cellinker:25204502;Cellinker:9367539;ICELLNET:24011563;SIGNOR:32024054\n",
       "5 Cellinker:19838198;Cellinker:25204502;Cellinker:9367539;ICELLNET:24011563;SIGNOR:32024054\n",
       "6 Cellinker:19838198;Cellinker:25204502;Cellinker:9367539;ICELLNET:24011563;SIGNOR:32024054\n",
       "  curation_effort n_references n_resources annotation_strategy\n",
       "1 5               5            5           both               \n",
       "2 5               5            5           both               \n",
       "3 5               5            5           both               \n",
       "4 5               5            5           both               \n",
       "5 5               5            5           both               \n",
       "6 5               5            5           both               "
      ]
     },
     "metadata": {},
     "output_type": "display_data"
    }
   ],
   "source": [
    "head(pairwise_pairs)"
   ]
  },
  {
   "cell_type": "markdown",
   "id": "410cd481",
   "metadata": {},
   "source": [
    "### Filter through PPI"
   ]
  },
  {
   "cell_type": "markdown",
   "id": "28a58efb",
   "metadata": {},
   "source": [
    "Now, we filter those binary pairs based on their presence in the protein-protein interaction (PPI) network."
   ]
  },
  {
   "cell_type": "code",
   "execution_count": 10,
   "id": "f9a73946",
   "metadata": {},
   "outputs": [],
   "source": [
    "pt_interactions <- filter_pairs_with_ppi(pairwise_pairs)"
   ]
  },
  {
   "cell_type": "code",
   "execution_count": 11,
   "id": "d7a94f3f",
   "metadata": {},
   "outputs": [
    {
     "data": {
      "text/html": [
       "<table class=\"dataframe\">\n",
       "<caption>A data.frame: 6 × 20</caption>\n",
       "<thead>\n",
       "\t<tr><th></th><th scope=col>Pair.Name</th><th scope=col>Ligand</th><th scope=col>Receptor</th><th scope=col>complex_pair</th><th scope=col>source</th><th scope=col>target</th><th scope=col>source_genesymbol</th><th scope=col>target_genesymbol</th><th scope=col>is_directed</th><th scope=col>is_stimulation</th><th scope=col>is_inhibition</th><th scope=col>consensus_direction</th><th scope=col>consensus_stimulation</th><th scope=col>consensus_inhibition</th><th scope=col>sources</th><th scope=col>references</th><th scope=col>curation_effort</th><th scope=col>n_references</th><th scope=col>n_resources</th><th scope=col>annotation_strategy</th></tr>\n",
       "\t<tr><th></th><th scope=col>&lt;chr&gt;</th><th scope=col>&lt;chr&gt;</th><th scope=col>&lt;chr&gt;</th><th scope=col>&lt;chr&gt;</th><th scope=col>&lt;chr&gt;</th><th scope=col>&lt;chr&gt;</th><th scope=col>&lt;chr&gt;</th><th scope=col>&lt;chr&gt;</th><th scope=col>&lt;dbl&gt;</th><th scope=col>&lt;dbl&gt;</th><th scope=col>&lt;dbl&gt;</th><th scope=col>&lt;dbl&gt;</th><th scope=col>&lt;dbl&gt;</th><th scope=col>&lt;dbl&gt;</th><th scope=col>&lt;chr&gt;</th><th scope=col>&lt;chr&gt;</th><th scope=col>&lt;dbl&gt;</th><th scope=col>&lt;dbl&gt;</th><th scope=col>&lt;int&gt;</th><th scope=col>&lt;chr&gt;</th></tr>\n",
       "</thead>\n",
       "<tbody>\n",
       "\t<tr><th scope=row>1</th><td>IL17A_IL17RA</td><td>IL17A </td><td>IL17RA</td><td>IL17A_IL17RA_IL17RC</td><td>Q16552               </td><td>COMPLEX:Q8NAC3_Q96F46</td><td>IL17A      </td><td>IL17RA_IL17RC</td><td>1</td><td>1</td><td>0</td><td>1</td><td>1</td><td>0</td><td>CellChatDB;CellPhoneDB;Cellinker;ICELLNET;SIGNOR</td><td>Cellinker:19838198;Cellinker:25204502;Cellinker:9367539;ICELLNET:24011563;SIGNOR:32024054</td><td>5</td><td>5</td><td>5</td><td>both</td></tr>\n",
       "\t<tr><th scope=row>2</th><td>IL17A_IL17RC</td><td>IL17A </td><td>IL17RC</td><td>IL17A_IL17RA_IL17RC</td><td>Q16552               </td><td>COMPLEX:Q8NAC3_Q96F46</td><td>IL17A      </td><td>IL17RA_IL17RC</td><td>1</td><td>1</td><td>0</td><td>1</td><td>1</td><td>0</td><td>CellChatDB;CellPhoneDB;Cellinker;ICELLNET;SIGNOR</td><td>Cellinker:19838198;Cellinker:25204502;Cellinker:9367539;ICELLNET:24011563;SIGNOR:32024054</td><td>5</td><td>5</td><td>5</td><td>both</td></tr>\n",
       "\t<tr><th scope=row>3</th><td>IL17RA_IL17A</td><td>IL17RA</td><td>IL17A </td><td>IL17A_IL17RA_IL17RC</td><td>Q16552               </td><td>COMPLEX:Q8NAC3_Q96F46</td><td>IL17A      </td><td>IL17RA_IL17RC</td><td>1</td><td>1</td><td>0</td><td>1</td><td>1</td><td>0</td><td>CellChatDB;CellPhoneDB;Cellinker;ICELLNET;SIGNOR</td><td>Cellinker:19838198;Cellinker:25204502;Cellinker:9367539;ICELLNET:24011563;SIGNOR:32024054</td><td>5</td><td>5</td><td>5</td><td>both</td></tr>\n",
       "\t<tr><th scope=row>4</th><td>NPNT_ITGA8  </td><td>NPNT  </td><td>ITGA8 </td><td>NPNT_ITGA8_ITGB1   </td><td>Q6UXI9               </td><td>COMPLEX:P05556_P53708</td><td>NPNT       </td><td>ITGA8_ITGB1  </td><td>1</td><td>1</td><td>0</td><td>1</td><td>1</td><td>0</td><td>Baccin2019;SIGNOR                               </td><td>Baccin2019:16988024;SIGNOR:22613833                                                      </td><td>2</td><td>2</td><td>2</td><td>LR  </td></tr>\n",
       "\t<tr><th scope=row>5</th><td>NPNT_ITGB1  </td><td>NPNT  </td><td>ITGB1 </td><td>NPNT_ITGA8_ITGB1   </td><td>Q6UXI9               </td><td>COMPLEX:P05556_P53708</td><td>NPNT       </td><td>ITGA8_ITGB1  </td><td>1</td><td>1</td><td>0</td><td>1</td><td>1</td><td>0</td><td>Baccin2019;SIGNOR                               </td><td>Baccin2019:16988024;SIGNOR:22613833                                                      </td><td>2</td><td>2</td><td>2</td><td>LR  </td></tr>\n",
       "\t<tr><th scope=row>6</th><td>ITGAL_ICAM1 </td><td>ITGAL </td><td>ICAM1 </td><td>ITGAL_ITGB2_ICAM1  </td><td>COMPLEX:P05107_P20701</td><td>P05362               </td><td>ITGAL_ITGB2</td><td>ICAM1        </td><td>1</td><td>1</td><td>0</td><td>0</td><td>0</td><td>0</td><td>Baccin2019;CellPhoneDB;ICELLNET;SIGNOR          </td><td>Baccin2019:16988024;ICELLNET:10940895;ICELLNET:23418628;SIGNOR:12808052                  </td><td>4</td><td>4</td><td>4</td><td>both</td></tr>\n",
       "</tbody>\n",
       "</table>\n"
      ],
      "text/latex": [
       "A data.frame: 6 × 20\n",
       "\\begin{tabular}{r|llllllllllllllllllll}\n",
       "  & Pair.Name & Ligand & Receptor & complex\\_pair & source & target & source\\_genesymbol & target\\_genesymbol & is\\_directed & is\\_stimulation & is\\_inhibition & consensus\\_direction & consensus\\_stimulation & consensus\\_inhibition & sources & references & curation\\_effort & n\\_references & n\\_resources & annotation\\_strategy\\\\\n",
       "  & <chr> & <chr> & <chr> & <chr> & <chr> & <chr> & <chr> & <chr> & <dbl> & <dbl> & <dbl> & <dbl> & <dbl> & <dbl> & <chr> & <chr> & <dbl> & <dbl> & <int> & <chr>\\\\\n",
       "\\hline\n",
       "\t1 & IL17A\\_IL17RA & IL17A  & IL17RA & IL17A\\_IL17RA\\_IL17RC & Q16552                & COMPLEX:Q8NAC3\\_Q96F46 & IL17A       & IL17RA\\_IL17RC & 1 & 1 & 0 & 1 & 1 & 0 & CellChatDB;CellPhoneDB;Cellinker;ICELLNET;SIGNOR & Cellinker:19838198;Cellinker:25204502;Cellinker:9367539;ICELLNET:24011563;SIGNOR:32024054 & 5 & 5 & 5 & both\\\\\n",
       "\t2 & IL17A\\_IL17RC & IL17A  & IL17RC & IL17A\\_IL17RA\\_IL17RC & Q16552                & COMPLEX:Q8NAC3\\_Q96F46 & IL17A       & IL17RA\\_IL17RC & 1 & 1 & 0 & 1 & 1 & 0 & CellChatDB;CellPhoneDB;Cellinker;ICELLNET;SIGNOR & Cellinker:19838198;Cellinker:25204502;Cellinker:9367539;ICELLNET:24011563;SIGNOR:32024054 & 5 & 5 & 5 & both\\\\\n",
       "\t3 & IL17RA\\_IL17A & IL17RA & IL17A  & IL17A\\_IL17RA\\_IL17RC & Q16552                & COMPLEX:Q8NAC3\\_Q96F46 & IL17A       & IL17RA\\_IL17RC & 1 & 1 & 0 & 1 & 1 & 0 & CellChatDB;CellPhoneDB;Cellinker;ICELLNET;SIGNOR & Cellinker:19838198;Cellinker:25204502;Cellinker:9367539;ICELLNET:24011563;SIGNOR:32024054 & 5 & 5 & 5 & both\\\\\n",
       "\t4 & NPNT\\_ITGA8   & NPNT   & ITGA8  & NPNT\\_ITGA8\\_ITGB1    & Q6UXI9                & COMPLEX:P05556\\_P53708 & NPNT        & ITGA8\\_ITGB1   & 1 & 1 & 0 & 1 & 1 & 0 & Baccin2019;SIGNOR                                & Baccin2019:16988024;SIGNOR:22613833                                                       & 2 & 2 & 2 & LR  \\\\\n",
       "\t5 & NPNT\\_ITGB1   & NPNT   & ITGB1  & NPNT\\_ITGA8\\_ITGB1    & Q6UXI9                & COMPLEX:P05556\\_P53708 & NPNT        & ITGA8\\_ITGB1   & 1 & 1 & 0 & 1 & 1 & 0 & Baccin2019;SIGNOR                                & Baccin2019:16988024;SIGNOR:22613833                                                       & 2 & 2 & 2 & LR  \\\\\n",
       "\t6 & ITGAL\\_ICAM1  & ITGAL  & ICAM1  & ITGAL\\_ITGB2\\_ICAM1   & COMPLEX:P05107\\_P20701 & P05362                & ITGAL\\_ITGB2 & ICAM1         & 1 & 1 & 0 & 0 & 0 & 0 & Baccin2019;CellPhoneDB;ICELLNET;SIGNOR           & Baccin2019:16988024;ICELLNET:10940895;ICELLNET:23418628;SIGNOR:12808052                   & 4 & 4 & 4 & both\\\\\n",
       "\\end{tabular}\n"
      ],
      "text/markdown": [
       "\n",
       "A data.frame: 6 × 20\n",
       "\n",
       "| <!--/--> | Pair.Name &lt;chr&gt; | Ligand &lt;chr&gt; | Receptor &lt;chr&gt; | complex_pair &lt;chr&gt; | source &lt;chr&gt; | target &lt;chr&gt; | source_genesymbol &lt;chr&gt; | target_genesymbol &lt;chr&gt; | is_directed &lt;dbl&gt; | is_stimulation &lt;dbl&gt; | is_inhibition &lt;dbl&gt; | consensus_direction &lt;dbl&gt; | consensus_stimulation &lt;dbl&gt; | consensus_inhibition &lt;dbl&gt; | sources &lt;chr&gt; | references &lt;chr&gt; | curation_effort &lt;dbl&gt; | n_references &lt;dbl&gt; | n_resources &lt;int&gt; | annotation_strategy &lt;chr&gt; |\n",
       "|---|---|---|---|---|---|---|---|---|---|---|---|---|---|---|---|---|---|---|---|---|\n",
       "| 1 | IL17A_IL17RA | IL17A  | IL17RA | IL17A_IL17RA_IL17RC | Q16552                | COMPLEX:Q8NAC3_Q96F46 | IL17A       | IL17RA_IL17RC | 1 | 1 | 0 | 1 | 1 | 0 | CellChatDB;CellPhoneDB;Cellinker;ICELLNET;SIGNOR | Cellinker:19838198;Cellinker:25204502;Cellinker:9367539;ICELLNET:24011563;SIGNOR:32024054 | 5 | 5 | 5 | both |\n",
       "| 2 | IL17A_IL17RC | IL17A  | IL17RC | IL17A_IL17RA_IL17RC | Q16552                | COMPLEX:Q8NAC3_Q96F46 | IL17A       | IL17RA_IL17RC | 1 | 1 | 0 | 1 | 1 | 0 | CellChatDB;CellPhoneDB;Cellinker;ICELLNET;SIGNOR | Cellinker:19838198;Cellinker:25204502;Cellinker:9367539;ICELLNET:24011563;SIGNOR:32024054 | 5 | 5 | 5 | both |\n",
       "| 3 | IL17RA_IL17A | IL17RA | IL17A  | IL17A_IL17RA_IL17RC | Q16552                | COMPLEX:Q8NAC3_Q96F46 | IL17A       | IL17RA_IL17RC | 1 | 1 | 0 | 1 | 1 | 0 | CellChatDB;CellPhoneDB;Cellinker;ICELLNET;SIGNOR | Cellinker:19838198;Cellinker:25204502;Cellinker:9367539;ICELLNET:24011563;SIGNOR:32024054 | 5 | 5 | 5 | both |\n",
       "| 4 | NPNT_ITGA8   | NPNT   | ITGA8  | NPNT_ITGA8_ITGB1    | Q6UXI9                | COMPLEX:P05556_P53708 | NPNT        | ITGA8_ITGB1   | 1 | 1 | 0 | 1 | 1 | 0 | Baccin2019;SIGNOR                                | Baccin2019:16988024;SIGNOR:22613833                                                       | 2 | 2 | 2 | LR   |\n",
       "| 5 | NPNT_ITGB1   | NPNT   | ITGB1  | NPNT_ITGA8_ITGB1    | Q6UXI9                | COMPLEX:P05556_P53708 | NPNT        | ITGA8_ITGB1   | 1 | 1 | 0 | 1 | 1 | 0 | Baccin2019;SIGNOR                                | Baccin2019:16988024;SIGNOR:22613833                                                       | 2 | 2 | 2 | LR   |\n",
       "| 6 | ITGAL_ICAM1  | ITGAL  | ICAM1  | ITGAL_ITGB2_ICAM1   | COMPLEX:P05107_P20701 | P05362                | ITGAL_ITGB2 | ICAM1         | 1 | 1 | 0 | 0 | 0 | 0 | Baccin2019;CellPhoneDB;ICELLNET;SIGNOR           | Baccin2019:16988024;ICELLNET:10940895;ICELLNET:23418628;SIGNOR:12808052                   | 4 | 4 | 4 | both |\n",
       "\n"
      ],
      "text/plain": [
       "  Pair.Name    Ligand Receptor complex_pair        source               \n",
       "1 IL17A_IL17RA IL17A  IL17RA   IL17A_IL17RA_IL17RC Q16552               \n",
       "2 IL17A_IL17RC IL17A  IL17RC   IL17A_IL17RA_IL17RC Q16552               \n",
       "3 IL17RA_IL17A IL17RA IL17A    IL17A_IL17RA_IL17RC Q16552               \n",
       "4 NPNT_ITGA8   NPNT   ITGA8    NPNT_ITGA8_ITGB1    Q6UXI9               \n",
       "5 NPNT_ITGB1   NPNT   ITGB1    NPNT_ITGA8_ITGB1    Q6UXI9               \n",
       "6 ITGAL_ICAM1  ITGAL  ICAM1    ITGAL_ITGB2_ICAM1   COMPLEX:P05107_P20701\n",
       "  target                source_genesymbol target_genesymbol is_directed\n",
       "1 COMPLEX:Q8NAC3_Q96F46 IL17A             IL17RA_IL17RC     1          \n",
       "2 COMPLEX:Q8NAC3_Q96F46 IL17A             IL17RA_IL17RC     1          \n",
       "3 COMPLEX:Q8NAC3_Q96F46 IL17A             IL17RA_IL17RC     1          \n",
       "4 COMPLEX:P05556_P53708 NPNT              ITGA8_ITGB1       1          \n",
       "5 COMPLEX:P05556_P53708 NPNT              ITGA8_ITGB1       1          \n",
       "6 P05362                ITGAL_ITGB2       ICAM1             1          \n",
       "  is_stimulation is_inhibition consensus_direction consensus_stimulation\n",
       "1 1              0             1                   1                    \n",
       "2 1              0             1                   1                    \n",
       "3 1              0             1                   1                    \n",
       "4 1              0             1                   1                    \n",
       "5 1              0             1                   1                    \n",
       "6 1              0             0                   0                    \n",
       "  consensus_inhibition sources                                         \n",
       "1 0                    CellChatDB;CellPhoneDB;Cellinker;ICELLNET;SIGNOR\n",
       "2 0                    CellChatDB;CellPhoneDB;Cellinker;ICELLNET;SIGNOR\n",
       "3 0                    CellChatDB;CellPhoneDB;Cellinker;ICELLNET;SIGNOR\n",
       "4 0                    Baccin2019;SIGNOR                               \n",
       "5 0                    Baccin2019;SIGNOR                               \n",
       "6 0                    Baccin2019;CellPhoneDB;ICELLNET;SIGNOR          \n",
       "  references                                                                               \n",
       "1 Cellinker:19838198;Cellinker:25204502;Cellinker:9367539;ICELLNET:24011563;SIGNOR:32024054\n",
       "2 Cellinker:19838198;Cellinker:25204502;Cellinker:9367539;ICELLNET:24011563;SIGNOR:32024054\n",
       "3 Cellinker:19838198;Cellinker:25204502;Cellinker:9367539;ICELLNET:24011563;SIGNOR:32024054\n",
       "4 Baccin2019:16988024;SIGNOR:22613833                                                      \n",
       "5 Baccin2019:16988024;SIGNOR:22613833                                                      \n",
       "6 Baccin2019:16988024;ICELLNET:10940895;ICELLNET:23418628;SIGNOR:12808052                  \n",
       "  curation_effort n_references n_resources annotation_strategy\n",
       "1 5               5            5           both               \n",
       "2 5               5            5           both               \n",
       "3 5               5            5           both               \n",
       "4 2               2            2           LR                 \n",
       "5 2               2            2           LR                 \n",
       "6 4               4            4           both               "
      ]
     },
     "metadata": {},
     "output_type": "display_data"
    }
   ],
   "source": [
    "head(pt_interactions)"
   ]
  },
  {
   "cell_type": "markdown",
   "id": "491c8314",
   "metadata": {},
   "source": [
    "### Merge these binary pairs"
   ]
  },
  {
   "cell_type": "markdown",
   "id": "d1ba73bf",
   "metadata": {},
   "source": [
    "This function processes binary pairs from the database and merges them with the binary pairs detected through PPI. It also standarizes and reorder columns"
   ]
  },
  {
   "cell_type": "code",
   "execution_count": 14,
   "id": "3d5f9432",
   "metadata": {},
   "outputs": [],
   "source": [
    "complete_data <- process_single_components(db, pt_interactions)"
   ]
  },
  {
   "cell_type": "code",
   "execution_count": 15,
   "id": "8c5e79f8",
   "metadata": {},
   "outputs": [
    {
     "data": {
      "text/html": [
       "<table class=\"dataframe\">\n",
       "<caption>A data.frame: 6 × 18</caption>\n",
       "<thead>\n",
       "\t<tr><th></th><th scope=col>Pair.Name</th><th scope=col>Ligand</th><th scope=col>Receptor</th><th scope=col>source</th><th scope=col>target</th><th scope=col>is_directed</th><th scope=col>is_stimulation</th><th scope=col>is_inhibition</th><th scope=col>consensus_direction</th><th scope=col>consensus_stimulation</th><th scope=col>consensus_inhibition</th><th scope=col>sources</th><th scope=col>references</th><th scope=col>curation_effort</th><th scope=col>n_references</th><th scope=col>n_resources</th><th scope=col>annotation_strategy</th><th scope=col>complex_pair</th></tr>\n",
       "\t<tr><th></th><th scope=col>&lt;chr&gt;</th><th scope=col>&lt;chr&gt;</th><th scope=col>&lt;chr&gt;</th><th scope=col>&lt;chr&gt;</th><th scope=col>&lt;chr&gt;</th><th scope=col>&lt;dbl&gt;</th><th scope=col>&lt;dbl&gt;</th><th scope=col>&lt;dbl&gt;</th><th scope=col>&lt;dbl&gt;</th><th scope=col>&lt;dbl&gt;</th><th scope=col>&lt;dbl&gt;</th><th scope=col>&lt;chr&gt;</th><th scope=col>&lt;chr&gt;</th><th scope=col>&lt;dbl&gt;</th><th scope=col>&lt;dbl&gt;</th><th scope=col>&lt;int&gt;</th><th scope=col>&lt;chr&gt;</th><th scope=col>&lt;chr&gt;</th></tr>\n",
       "</thead>\n",
       "<tbody>\n",
       "\t<tr><th scope=row>1</th><td>CALM1_TRPC3  </td><td>CALM1  </td><td>TRPC3 </td><td>P0DP23</td><td>Q13507</td><td>1</td><td>0</td><td>1</td><td>1</td><td>0</td><td>1</td><td>CellTalkDB;Fantom5_LRdb;HPRD;HPRD_LRdb;LRdb;TRIP;iTALK                                                                                                                                                                                                                                                                                                                       </td><td>CellTalkDB:11248050;HPRD:15104175;TRIP:11248050;TRIP:11290752;TRIP:12601176;TRIP:18215135                                                                                                                                                                                                                                                                                     </td><td> 6</td><td> 5</td><td> 5</td><td>both</td><td>NA</td></tr>\n",
       "\t<tr><th scope=row>2</th><td>S100A10_TRPV6</td><td>S100A10</td><td>TRPV6 </td><td>P60903</td><td>Q9H1D0</td><td>1</td><td>1</td><td>0</td><td>1</td><td>1</td><td>0</td><td>CellTalkDB;HPRD;TRIP                                                                                                                                                                                                                                                                                                                                                         </td><td>CellTalkDB:18187190;HPRD:12660155;TRIP:12660155;TRIP:16189514;TRIP:18187190                                                                                                                                                                                                                                                                                                   </td><td> 5</td><td> 3</td><td> 3</td><td>both</td><td>NA</td></tr>\n",
       "\t<tr><th scope=row>3</th><td>JAK2_EPOR    </td><td>JAK2   </td><td>EPOR  </td><td>O60674</td><td>P19235</td><td>1</td><td>1</td><td>0</td><td>1</td><td>1</td><td>0</td><td>BEL-Large-Corpus_ProtMapper;BioGRID;Cellinker;HPRD;HPRD-phos;HPRD_KEA;HPRD_MIMP;KEA;MIMP;PhosphoNetworks;PhosphoPoint;PhosphoSite_KEA;PhosphoSite_MIMP;ProtMapper;SIGNOR;SIGNOR_ProtMapper;SPIKE;Wang;iPTMnet;phosphoELM;phosphoELM_KEA;phosphoELM_MIMP                                                                                                                      </td><td>BioGRID:8343951;Cellinker:9030561;HPRD-phos:12441334;HPRD:11779507;HPRD:12441334;HPRD:8343951;KEA:10579919;KEA:10660611;KEA:11443118;KEA:12027890;KEA:12441334;KEA:7559499;KEA:9573010;ProtMapper:12441334;ProtMapper:15212693;SIGNOR:12441334;SPIKE:12524467;SPIKE:18672044;iPTMnet:10579919;iPTMnet:12441334;phosphoELM:10579919                                            </td><td>21</td><td>13</td><td>14</td><td>LR  </td><td>NA</td></tr>\n",
       "\t<tr><th scope=row>4</th><td>NOTCH1_JAG2  </td><td>NOTCH1 </td><td>JAG2  </td><td>P46531</td><td>Q9Y219</td><td>1</td><td>0</td><td>1</td><td>0</td><td>0</td><td>0</td><td>Baccin2019;CellCall;HPRD;NetPath;Ramilowski2015_Baccin2019;SPIKE                                                                                                                                                                                                                                                                                                             </td><td>HPRD:11006133;NetPath:11006133;SPIKE:15358736                                                                                                                                                                                                                                                                                                                                 </td><td> 3</td><td> 2</td><td> 5</td><td>LR  </td><td>NA</td></tr>\n",
       "\t<tr><th scope=row>5</th><td>JAG2_NOTCH1  </td><td>JAG2   </td><td>NOTCH1</td><td>Q9Y219</td><td>P46531</td><td>1</td><td>1</td><td>1</td><td>1</td><td>1</td><td>0</td><td>Baccin2019;CellCall;CellChatDB;CellPhoneDB;CellPhoneDB_Cellinker;CellTalkDB;Cellinker;DLRP_Cellinker;DLRP_talklr;EMBRACE;Fantom5_LRdb;HPMR_Cellinker;HPMR_LRdb;HPMR_talklr;HPRD;HPRD_LRdb;HPRD_talklr;ICELLNET;KEGG-MEDICUS;Kirouac2010;LRdb;NetPath;Ramilowski2015;Ramilowski2015_Baccin2019;SIGNOR;STRING_talklr;SignaLink3;UniProt_LRdb;Wang;connectomeDB2020;iTALK;talklr</td><td>Baccin2019:1100613311006130;CellChatDB:22353464;CellPhoneDB:22353464;CellTalkDB:22353464;Cellinker:11006133;Cellinker:22353464;HPRD:11006133;ICELLNET:16921404;ICELLNET:21352254;ICELLNET:22503540;LRdb:11006133;NetPath:11006133;SIGNOR:9315665;SignaLink3:10958687;SignaLink3:11006133;SignaLink3:18988627;SignaLink3:21071413;SignaLink3:23331499;connectomeDB2020:11006133</td><td>19</td><td>11</td><td>20</td><td>both</td><td>NA</td></tr>\n",
       "\t<tr><th scope=row>6</th><td>DLL1_NOTCH1  </td><td>DLL1   </td><td>NOTCH1</td><td>O00548</td><td>P46531</td><td>1</td><td>1</td><td>0</td><td>1</td><td>1</td><td>0</td><td>Baccin2019;CellCall;CellChatDB;CellPhoneDB;CellPhoneDB_Cellinker;CellTalkDB;Cellinker;DLRP_Cellinker;DLRP_talklr;EMBRACE;Fantom5_LRdb;HPMR_Cellinker;HPMR_LRdb;HPMR_talklr;HPRD;HPRD_LRdb;HPRD_talklr;ICELLNET;KEGG-MEDICUS;Kirouac2010;LRdb;NetPath;Ramilowski2015;Ramilowski2015_Baccin2019;SIGNOR;SPIKE;STRING_talklr;UniProt_LRdb;Wang;connectomeDB2020;iTALK;talklr     </td><td>Baccin2019:1006133;Baccin2019:98194281;CellChatDB:22353464;CellPhoneDB:22353464;CellTalkDB:22353464;Cellinker:11006133;Cellinker:22353464;Cellinker:9819428;HPRD:11006133;ICELLNET:21685328;LRdb:11;LRdb:9819428;NetPath:11006133;SIGNOR:16140393;SPIKE:11006133;SPIKE:17537801;connectomeDB2020:11006133;connectomeDB2020:9819428                                            </td><td>18</td><td> 9</td><td>20</td><td>both</td><td>NA</td></tr>\n",
       "</tbody>\n",
       "</table>\n"
      ],
      "text/latex": [
       "A data.frame: 6 × 18\n",
       "\\begin{tabular}{r|llllllllllllllllll}\n",
       "  & Pair.Name & Ligand & Receptor & source & target & is\\_directed & is\\_stimulation & is\\_inhibition & consensus\\_direction & consensus\\_stimulation & consensus\\_inhibition & sources & references & curation\\_effort & n\\_references & n\\_resources & annotation\\_strategy & complex\\_pair\\\\\n",
       "  & <chr> & <chr> & <chr> & <chr> & <chr> & <dbl> & <dbl> & <dbl> & <dbl> & <dbl> & <dbl> & <chr> & <chr> & <dbl> & <dbl> & <int> & <chr> & <chr>\\\\\n",
       "\\hline\n",
       "\t1 & CALM1\\_TRPC3   & CALM1   & TRPC3  & P0DP23 & Q13507 & 1 & 0 & 1 & 1 & 0 & 1 & CellTalkDB;Fantom5\\_LRdb;HPRD;HPRD\\_LRdb;LRdb;TRIP;iTALK                                                                                                                                                                                                                                                                                                                        & CellTalkDB:11248050;HPRD:15104175;TRIP:11248050;TRIP:11290752;TRIP:12601176;TRIP:18215135                                                                                                                                                                                                                                                                                      &  6 &  5 &  5 & both & NA\\\\\n",
       "\t2 & S100A10\\_TRPV6 & S100A10 & TRPV6  & P60903 & Q9H1D0 & 1 & 1 & 0 & 1 & 1 & 0 & CellTalkDB;HPRD;TRIP                                                                                                                                                                                                                                                                                                                                                          & CellTalkDB:18187190;HPRD:12660155;TRIP:12660155;TRIP:16189514;TRIP:18187190                                                                                                                                                                                                                                                                                                    &  5 &  3 &  3 & both & NA\\\\\n",
       "\t3 & JAK2\\_EPOR     & JAK2    & EPOR   & O60674 & P19235 & 1 & 1 & 0 & 1 & 1 & 0 & BEL-Large-Corpus\\_ProtMapper;BioGRID;Cellinker;HPRD;HPRD-phos;HPRD\\_KEA;HPRD\\_MIMP;KEA;MIMP;PhosphoNetworks;PhosphoPoint;PhosphoSite\\_KEA;PhosphoSite\\_MIMP;ProtMapper;SIGNOR;SIGNOR\\_ProtMapper;SPIKE;Wang;iPTMnet;phosphoELM;phosphoELM\\_KEA;phosphoELM\\_MIMP                                                                                                                       & BioGRID:8343951;Cellinker:9030561;HPRD-phos:12441334;HPRD:11779507;HPRD:12441334;HPRD:8343951;KEA:10579919;KEA:10660611;KEA:11443118;KEA:12027890;KEA:12441334;KEA:7559499;KEA:9573010;ProtMapper:12441334;ProtMapper:15212693;SIGNOR:12441334;SPIKE:12524467;SPIKE:18672044;iPTMnet:10579919;iPTMnet:12441334;phosphoELM:10579919                                             & 21 & 13 & 14 & LR   & NA\\\\\n",
       "\t4 & NOTCH1\\_JAG2   & NOTCH1  & JAG2   & P46531 & Q9Y219 & 1 & 0 & 1 & 0 & 0 & 0 & Baccin2019;CellCall;HPRD;NetPath;Ramilowski2015\\_Baccin2019;SPIKE                                                                                                                                                                                                                                                                                                              & HPRD:11006133;NetPath:11006133;SPIKE:15358736                                                                                                                                                                                                                                                                                                                                  &  3 &  2 &  5 & LR   & NA\\\\\n",
       "\t5 & JAG2\\_NOTCH1   & JAG2    & NOTCH1 & Q9Y219 & P46531 & 1 & 1 & 1 & 1 & 1 & 0 & Baccin2019;CellCall;CellChatDB;CellPhoneDB;CellPhoneDB\\_Cellinker;CellTalkDB;Cellinker;DLRP\\_Cellinker;DLRP\\_talklr;EMBRACE;Fantom5\\_LRdb;HPMR\\_Cellinker;HPMR\\_LRdb;HPMR\\_talklr;HPRD;HPRD\\_LRdb;HPRD\\_talklr;ICELLNET;KEGG-MEDICUS;Kirouac2010;LRdb;NetPath;Ramilowski2015;Ramilowski2015\\_Baccin2019;SIGNOR;STRING\\_talklr;SignaLink3;UniProt\\_LRdb;Wang;connectomeDB2020;iTALK;talklr & Baccin2019:1100613311006130;CellChatDB:22353464;CellPhoneDB:22353464;CellTalkDB:22353464;Cellinker:11006133;Cellinker:22353464;HPRD:11006133;ICELLNET:16921404;ICELLNET:21352254;ICELLNET:22503540;LRdb:11006133;NetPath:11006133;SIGNOR:9315665;SignaLink3:10958687;SignaLink3:11006133;SignaLink3:18988627;SignaLink3:21071413;SignaLink3:23331499;connectomeDB2020:11006133 & 19 & 11 & 20 & both & NA\\\\\n",
       "\t6 & DLL1\\_NOTCH1   & DLL1    & NOTCH1 & O00548 & P46531 & 1 & 1 & 0 & 1 & 1 & 0 & Baccin2019;CellCall;CellChatDB;CellPhoneDB;CellPhoneDB\\_Cellinker;CellTalkDB;Cellinker;DLRP\\_Cellinker;DLRP\\_talklr;EMBRACE;Fantom5\\_LRdb;HPMR\\_Cellinker;HPMR\\_LRdb;HPMR\\_talklr;HPRD;HPRD\\_LRdb;HPRD\\_talklr;ICELLNET;KEGG-MEDICUS;Kirouac2010;LRdb;NetPath;Ramilowski2015;Ramilowski2015\\_Baccin2019;SIGNOR;SPIKE;STRING\\_talklr;UniProt\\_LRdb;Wang;connectomeDB2020;iTALK;talklr      & Baccin2019:1006133;Baccin2019:98194281;CellChatDB:22353464;CellPhoneDB:22353464;CellTalkDB:22353464;Cellinker:11006133;Cellinker:22353464;Cellinker:9819428;HPRD:11006133;ICELLNET:21685328;LRdb:11;LRdb:9819428;NetPath:11006133;SIGNOR:16140393;SPIKE:11006133;SPIKE:17537801;connectomeDB2020:11006133;connectomeDB2020:9819428                                             & 18 &  9 & 20 & both & NA\\\\\n",
       "\\end{tabular}\n"
      ],
      "text/markdown": [
       "\n",
       "A data.frame: 6 × 18\n",
       "\n",
       "| <!--/--> | Pair.Name &lt;chr&gt; | Ligand &lt;chr&gt; | Receptor &lt;chr&gt; | source &lt;chr&gt; | target &lt;chr&gt; | is_directed &lt;dbl&gt; | is_stimulation &lt;dbl&gt; | is_inhibition &lt;dbl&gt; | consensus_direction &lt;dbl&gt; | consensus_stimulation &lt;dbl&gt; | consensus_inhibition &lt;dbl&gt; | sources &lt;chr&gt; | references &lt;chr&gt; | curation_effort &lt;dbl&gt; | n_references &lt;dbl&gt; | n_resources &lt;int&gt; | annotation_strategy &lt;chr&gt; | complex_pair &lt;chr&gt; |\n",
       "|---|---|---|---|---|---|---|---|---|---|---|---|---|---|---|---|---|---|---|\n",
       "| 1 | CALM1_TRPC3   | CALM1   | TRPC3  | P0DP23 | Q13507 | 1 | 0 | 1 | 1 | 0 | 1 | CellTalkDB;Fantom5_LRdb;HPRD;HPRD_LRdb;LRdb;TRIP;iTALK                                                                                                                                                                                                                                                                                                                        | CellTalkDB:11248050;HPRD:15104175;TRIP:11248050;TRIP:11290752;TRIP:12601176;TRIP:18215135                                                                                                                                                                                                                                                                                      |  6 |  5 |  5 | both | NA |\n",
       "| 2 | S100A10_TRPV6 | S100A10 | TRPV6  | P60903 | Q9H1D0 | 1 | 1 | 0 | 1 | 1 | 0 | CellTalkDB;HPRD;TRIP                                                                                                                                                                                                                                                                                                                                                          | CellTalkDB:18187190;HPRD:12660155;TRIP:12660155;TRIP:16189514;TRIP:18187190                                                                                                                                                                                                                                                                                                    |  5 |  3 |  3 | both | NA |\n",
       "| 3 | JAK2_EPOR     | JAK2    | EPOR   | O60674 | P19235 | 1 | 1 | 0 | 1 | 1 | 0 | BEL-Large-Corpus_ProtMapper;BioGRID;Cellinker;HPRD;HPRD-phos;HPRD_KEA;HPRD_MIMP;KEA;MIMP;PhosphoNetworks;PhosphoPoint;PhosphoSite_KEA;PhosphoSite_MIMP;ProtMapper;SIGNOR;SIGNOR_ProtMapper;SPIKE;Wang;iPTMnet;phosphoELM;phosphoELM_KEA;phosphoELM_MIMP                                                                                                                       | BioGRID:8343951;Cellinker:9030561;HPRD-phos:12441334;HPRD:11779507;HPRD:12441334;HPRD:8343951;KEA:10579919;KEA:10660611;KEA:11443118;KEA:12027890;KEA:12441334;KEA:7559499;KEA:9573010;ProtMapper:12441334;ProtMapper:15212693;SIGNOR:12441334;SPIKE:12524467;SPIKE:18672044;iPTMnet:10579919;iPTMnet:12441334;phosphoELM:10579919                                             | 21 | 13 | 14 | LR   | NA |\n",
       "| 4 | NOTCH1_JAG2   | NOTCH1  | JAG2   | P46531 | Q9Y219 | 1 | 0 | 1 | 0 | 0 | 0 | Baccin2019;CellCall;HPRD;NetPath;Ramilowski2015_Baccin2019;SPIKE                                                                                                                                                                                                                                                                                                              | HPRD:11006133;NetPath:11006133;SPIKE:15358736                                                                                                                                                                                                                                                                                                                                  |  3 |  2 |  5 | LR   | NA |\n",
       "| 5 | JAG2_NOTCH1   | JAG2    | NOTCH1 | Q9Y219 | P46531 | 1 | 1 | 1 | 1 | 1 | 0 | Baccin2019;CellCall;CellChatDB;CellPhoneDB;CellPhoneDB_Cellinker;CellTalkDB;Cellinker;DLRP_Cellinker;DLRP_talklr;EMBRACE;Fantom5_LRdb;HPMR_Cellinker;HPMR_LRdb;HPMR_talklr;HPRD;HPRD_LRdb;HPRD_talklr;ICELLNET;KEGG-MEDICUS;Kirouac2010;LRdb;NetPath;Ramilowski2015;Ramilowski2015_Baccin2019;SIGNOR;STRING_talklr;SignaLink3;UniProt_LRdb;Wang;connectomeDB2020;iTALK;talklr | Baccin2019:1100613311006130;CellChatDB:22353464;CellPhoneDB:22353464;CellTalkDB:22353464;Cellinker:11006133;Cellinker:22353464;HPRD:11006133;ICELLNET:16921404;ICELLNET:21352254;ICELLNET:22503540;LRdb:11006133;NetPath:11006133;SIGNOR:9315665;SignaLink3:10958687;SignaLink3:11006133;SignaLink3:18988627;SignaLink3:21071413;SignaLink3:23331499;connectomeDB2020:11006133 | 19 | 11 | 20 | both | NA |\n",
       "| 6 | DLL1_NOTCH1   | DLL1    | NOTCH1 | O00548 | P46531 | 1 | 1 | 0 | 1 | 1 | 0 | Baccin2019;CellCall;CellChatDB;CellPhoneDB;CellPhoneDB_Cellinker;CellTalkDB;Cellinker;DLRP_Cellinker;DLRP_talklr;EMBRACE;Fantom5_LRdb;HPMR_Cellinker;HPMR_LRdb;HPMR_talklr;HPRD;HPRD_LRdb;HPRD_talklr;ICELLNET;KEGG-MEDICUS;Kirouac2010;LRdb;NetPath;Ramilowski2015;Ramilowski2015_Baccin2019;SIGNOR;SPIKE;STRING_talklr;UniProt_LRdb;Wang;connectomeDB2020;iTALK;talklr      | Baccin2019:1006133;Baccin2019:98194281;CellChatDB:22353464;CellPhoneDB:22353464;CellTalkDB:22353464;Cellinker:11006133;Cellinker:22353464;Cellinker:9819428;HPRD:11006133;ICELLNET:21685328;LRdb:11;LRdb:9819428;NetPath:11006133;SIGNOR:16140393;SPIKE:11006133;SPIKE:17537801;connectomeDB2020:11006133;connectomeDB2020:9819428                                             | 18 |  9 | 20 | both | NA |\n",
       "\n"
      ],
      "text/plain": [
       "  Pair.Name     Ligand  Receptor source target is_directed is_stimulation\n",
       "1 CALM1_TRPC3   CALM1   TRPC3    P0DP23 Q13507 1           0             \n",
       "2 S100A10_TRPV6 S100A10 TRPV6    P60903 Q9H1D0 1           1             \n",
       "3 JAK2_EPOR     JAK2    EPOR     O60674 P19235 1           1             \n",
       "4 NOTCH1_JAG2   NOTCH1  JAG2     P46531 Q9Y219 1           0             \n",
       "5 JAG2_NOTCH1   JAG2    NOTCH1   Q9Y219 P46531 1           1             \n",
       "6 DLL1_NOTCH1   DLL1    NOTCH1   O00548 P46531 1           1             \n",
       "  is_inhibition consensus_direction consensus_stimulation consensus_inhibition\n",
       "1 1             1                   0                     1                   \n",
       "2 0             1                   1                     0                   \n",
       "3 0             1                   1                     0                   \n",
       "4 1             0                   0                     0                   \n",
       "5 1             1                   1                     0                   \n",
       "6 0             1                   1                     0                   \n",
       "  sources                                                                                                                                                                                                                                                                                                                                                                      \n",
       "1 CellTalkDB;Fantom5_LRdb;HPRD;HPRD_LRdb;LRdb;TRIP;iTALK                                                                                                                                                                                                                                                                                                                       \n",
       "2 CellTalkDB;HPRD;TRIP                                                                                                                                                                                                                                                                                                                                                         \n",
       "3 BEL-Large-Corpus_ProtMapper;BioGRID;Cellinker;HPRD;HPRD-phos;HPRD_KEA;HPRD_MIMP;KEA;MIMP;PhosphoNetworks;PhosphoPoint;PhosphoSite_KEA;PhosphoSite_MIMP;ProtMapper;SIGNOR;SIGNOR_ProtMapper;SPIKE;Wang;iPTMnet;phosphoELM;phosphoELM_KEA;phosphoELM_MIMP                                                                                                                      \n",
       "4 Baccin2019;CellCall;HPRD;NetPath;Ramilowski2015_Baccin2019;SPIKE                                                                                                                                                                                                                                                                                                             \n",
       "5 Baccin2019;CellCall;CellChatDB;CellPhoneDB;CellPhoneDB_Cellinker;CellTalkDB;Cellinker;DLRP_Cellinker;DLRP_talklr;EMBRACE;Fantom5_LRdb;HPMR_Cellinker;HPMR_LRdb;HPMR_talklr;HPRD;HPRD_LRdb;HPRD_talklr;ICELLNET;KEGG-MEDICUS;Kirouac2010;LRdb;NetPath;Ramilowski2015;Ramilowski2015_Baccin2019;SIGNOR;STRING_talklr;SignaLink3;UniProt_LRdb;Wang;connectomeDB2020;iTALK;talklr\n",
       "6 Baccin2019;CellCall;CellChatDB;CellPhoneDB;CellPhoneDB_Cellinker;CellTalkDB;Cellinker;DLRP_Cellinker;DLRP_talklr;EMBRACE;Fantom5_LRdb;HPMR_Cellinker;HPMR_LRdb;HPMR_talklr;HPRD;HPRD_LRdb;HPRD_talklr;ICELLNET;KEGG-MEDICUS;Kirouac2010;LRdb;NetPath;Ramilowski2015;Ramilowski2015_Baccin2019;SIGNOR;SPIKE;STRING_talklr;UniProt_LRdb;Wang;connectomeDB2020;iTALK;talklr     \n",
       "  references                                                                                                                                                                                                                                                                                                                                                                    \n",
       "1 CellTalkDB:11248050;HPRD:15104175;TRIP:11248050;TRIP:11290752;TRIP:12601176;TRIP:18215135                                                                                                                                                                                                                                                                                     \n",
       "2 CellTalkDB:18187190;HPRD:12660155;TRIP:12660155;TRIP:16189514;TRIP:18187190                                                                                                                                                                                                                                                                                                   \n",
       "3 BioGRID:8343951;Cellinker:9030561;HPRD-phos:12441334;HPRD:11779507;HPRD:12441334;HPRD:8343951;KEA:10579919;KEA:10660611;KEA:11443118;KEA:12027890;KEA:12441334;KEA:7559499;KEA:9573010;ProtMapper:12441334;ProtMapper:15212693;SIGNOR:12441334;SPIKE:12524467;SPIKE:18672044;iPTMnet:10579919;iPTMnet:12441334;phosphoELM:10579919                                            \n",
       "4 HPRD:11006133;NetPath:11006133;SPIKE:15358736                                                                                                                                                                                                                                                                                                                                 \n",
       "5 Baccin2019:1100613311006130;CellChatDB:22353464;CellPhoneDB:22353464;CellTalkDB:22353464;Cellinker:11006133;Cellinker:22353464;HPRD:11006133;ICELLNET:16921404;ICELLNET:21352254;ICELLNET:22503540;LRdb:11006133;NetPath:11006133;SIGNOR:9315665;SignaLink3:10958687;SignaLink3:11006133;SignaLink3:18988627;SignaLink3:21071413;SignaLink3:23331499;connectomeDB2020:11006133\n",
       "6 Baccin2019:1006133;Baccin2019:98194281;CellChatDB:22353464;CellPhoneDB:22353464;CellTalkDB:22353464;Cellinker:11006133;Cellinker:22353464;Cellinker:9819428;HPRD:11006133;ICELLNET:21685328;LRdb:11;LRdb:9819428;NetPath:11006133;SIGNOR:16140393;SPIKE:11006133;SPIKE:17537801;connectomeDB2020:11006133;connectomeDB2020:9819428                                            \n",
       "  curation_effort n_references n_resources annotation_strategy complex_pair\n",
       "1  6               5            5          both                NA          \n",
       "2  5               3            3          both                NA          \n",
       "3 21              13           14          LR                  NA          \n",
       "4  3               2            5          LR                  NA          \n",
       "5 19              11           20          both                NA          \n",
       "6 18               9           20          both                NA          "
      ]
     },
     "metadata": {},
     "output_type": "display_data"
    }
   ],
   "source": [
    "head(complete_data)"
   ]
  },
  {
   "cell_type": "markdown",
   "id": "5dfe1ed5",
   "metadata": {},
   "source": [
    "### Map gene descriptions"
   ]
  },
  {
   "cell_type": "markdown",
   "id": "edd33291",
   "metadata": {},
   "source": [
    "we enriche the database with gene descriptions. It queries gene symbols to fetch their respective gene descriptions from [MyGene, a gene annotation servise](https://mygene.info/).\n",
    "\n",
    "<div class=\"alert alert-block alert-info\">\n",
    "<b>Note:</b> This function may fail due to internet connectivity issues.If this is the case, please try again.\n",
    "</div>\n",
    "\n"
   ]
  },
  {
   "cell_type": "code",
   "execution_count": 16,
   "id": "f75d24cd",
   "metadata": {},
   "outputs": [
    {
     "name": "stderr",
     "output_type": "stream",
     "text": [
      "Warning message in map_gene_data(complete_data):\n",
      "“If this function fails, it may be due to internet connectivity issues. Try running it again.”\n",
      "Querying chunk 1\n",
      "\n",
      "Querying chunk 2\n",
      "\n",
      "Querying chunk 3\n",
      "\n"
     ]
    },
    {
     "name": "stdout",
     "output_type": "stream",
     "text": [
      "Finished\n",
      "Pass returnall=TRUE to return lists of duplicate or missing query terms.\n"
     ]
    }
   ],
   "source": [
    "complete_data <- map_gene_data(complete_data)"
   ]
  },
  {
   "cell_type": "code",
   "execution_count": 17,
   "id": "e664ca36",
   "metadata": {},
   "outputs": [
    {
     "data": {
      "text/html": [
       "<table class=\"dataframe\">\n",
       "<caption>A data.frame: 6 × 21</caption>\n",
       "<thead>\n",
       "\t<tr><th></th><th scope=col>Pair.Name</th><th scope=col>Ligand</th><th scope=col>Ligand.Name</th><th scope=col>Receptor</th><th scope=col>Receptor.Name</th><th scope=col>complex_pair</th><th scope=col>source</th><th scope=col>target</th><th scope=col>is_directed</th><th scope=col>is_stimulation</th><th scope=col>⋯</th><th scope=col>consensus_direction</th><th scope=col>consensus_stimulation</th><th scope=col>consensus_inhibition</th><th scope=col>sources</th><th scope=col>references</th><th scope=col>curation_effort</th><th scope=col>n_references</th><th scope=col>n_resources</th><th scope=col>annotation_strategy</th><th scope=col>dup</th></tr>\n",
       "\t<tr><th></th><th scope=col>&lt;chr&gt;</th><th scope=col>&lt;chr&gt;</th><th scope=col>&lt;chr&gt;</th><th scope=col>&lt;chr&gt;</th><th scope=col>&lt;chr&gt;</th><th scope=col>&lt;chr&gt;</th><th scope=col>&lt;chr&gt;</th><th scope=col>&lt;chr&gt;</th><th scope=col>&lt;dbl&gt;</th><th scope=col>&lt;dbl&gt;</th><th scope=col>⋯</th><th scope=col>&lt;dbl&gt;</th><th scope=col>&lt;dbl&gt;</th><th scope=col>&lt;dbl&gt;</th><th scope=col>&lt;chr&gt;</th><th scope=col>&lt;chr&gt;</th><th scope=col>&lt;dbl&gt;</th><th scope=col>&lt;dbl&gt;</th><th scope=col>&lt;int&gt;</th><th scope=col>&lt;chr&gt;</th><th scope=col>&lt;chr&gt;</th></tr>\n",
       "</thead>\n",
       "<tbody>\n",
       "\t<tr><th scope=row>1</th><td>CALM1_TRPC3  </td><td>CALM1  </td><td>calmodulin 1                       </td><td>TRPC3 </td><td>transient receptor potential cation channel subfamily C member 3</td><td>NA</td><td>P0DP23</td><td>Q13507</td><td>1</td><td>0</td><td>⋯</td><td>1</td><td>0</td><td>1</td><td>CellTalkDB;Fantom5_LRdb;HPRD;HPRD_LRdb;LRdb;TRIP;iTALK                                                                                                                                                                                                                                                                                                                       </td><td>CellTalkDB:11248050;HPRD:15104175;TRIP:11248050;TRIP:11290752;TRIP:12601176;TRIP:18215135                                                                                                                                                                                                                                                                                     </td><td> 6</td><td> 5</td><td> 5</td><td>both</td><td>TRPC3_CALM1  </td></tr>\n",
       "\t<tr><th scope=row>2</th><td>S100A10_TRPV6</td><td>S100A10</td><td>S100 calcium binding protein A10   </td><td>TRPV6 </td><td>transient receptor potential cation channel subfamily V member 6</td><td>NA</td><td>P60903</td><td>Q9H1D0</td><td>1</td><td>1</td><td>⋯</td><td>1</td><td>1</td><td>0</td><td>CellTalkDB;HPRD;TRIP                                                                                                                                                                                                                                                                                                                                                         </td><td>CellTalkDB:18187190;HPRD:12660155;TRIP:12660155;TRIP:16189514;TRIP:18187190                                                                                                                                                                                                                                                                                                   </td><td> 5</td><td> 3</td><td> 3</td><td>both</td><td>TRPV6_S100A10</td></tr>\n",
       "\t<tr><th scope=row>3</th><td>JAK2_EPOR    </td><td>JAK2   </td><td>Janus kinase 2                     </td><td>EPOR  </td><td>erythropoietin receptor                                         </td><td>NA</td><td>O60674</td><td>P19235</td><td>1</td><td>1</td><td>⋯</td><td>1</td><td>1</td><td>0</td><td>BEL-Large-Corpus_ProtMapper;BioGRID;Cellinker;HPRD;HPRD-phos;HPRD_KEA;HPRD_MIMP;KEA;MIMP;PhosphoNetworks;PhosphoPoint;PhosphoSite_KEA;PhosphoSite_MIMP;ProtMapper;SIGNOR;SIGNOR_ProtMapper;SPIKE;Wang;iPTMnet;phosphoELM;phosphoELM_KEA;phosphoELM_MIMP                                                                                                                      </td><td>BioGRID:8343951;Cellinker:9030561;HPRD-phos:12441334;HPRD:11779507;HPRD:12441334;HPRD:8343951;KEA:10579919;KEA:10660611;KEA:11443118;KEA:12027890;KEA:12441334;KEA:7559499;KEA:9573010;ProtMapper:12441334;ProtMapper:15212693;SIGNOR:12441334;SPIKE:12524467;SPIKE:18672044;iPTMnet:10579919;iPTMnet:12441334;phosphoELM:10579919                                            </td><td>21</td><td>13</td><td>14</td><td>LR  </td><td>EPOR_JAK2    </td></tr>\n",
       "\t<tr><th scope=row>4</th><td>NOTCH1_JAG2  </td><td>NOTCH1 </td><td>notch receptor 1                   </td><td>JAG2  </td><td>jagged canonical Notch ligand 2                                 </td><td>NA</td><td>P46531</td><td>Q9Y219</td><td>1</td><td>0</td><td>⋯</td><td>0</td><td>0</td><td>0</td><td>Baccin2019;CellCall;HPRD;NetPath;Ramilowski2015_Baccin2019;SPIKE                                                                                                                                                                                                                                                                                                             </td><td>HPRD:11006133;NetPath:11006133;SPIKE:15358736                                                                                                                                                                                                                                                                                                                                 </td><td> 3</td><td> 2</td><td> 5</td><td>LR  </td><td>JAG2_NOTCH1  </td></tr>\n",
       "\t<tr><th scope=row>5</th><td>JAG2_NOTCH1  </td><td>JAG2   </td><td>jagged canonical Notch ligand 2    </td><td>NOTCH1</td><td>notch receptor 1                                                </td><td>NA</td><td>Q9Y219</td><td>P46531</td><td>1</td><td>1</td><td>⋯</td><td>1</td><td>1</td><td>0</td><td>Baccin2019;CellCall;CellChatDB;CellPhoneDB;CellPhoneDB_Cellinker;CellTalkDB;Cellinker;DLRP_Cellinker;DLRP_talklr;EMBRACE;Fantom5_LRdb;HPMR_Cellinker;HPMR_LRdb;HPMR_talklr;HPRD;HPRD_LRdb;HPRD_talklr;ICELLNET;KEGG-MEDICUS;Kirouac2010;LRdb;NetPath;Ramilowski2015;Ramilowski2015_Baccin2019;SIGNOR;STRING_talklr;SignaLink3;UniProt_LRdb;Wang;connectomeDB2020;iTALK;talklr</td><td>Baccin2019:1100613311006130;CellChatDB:22353464;CellPhoneDB:22353464;CellTalkDB:22353464;Cellinker:11006133;Cellinker:22353464;HPRD:11006133;ICELLNET:16921404;ICELLNET:21352254;ICELLNET:22503540;LRdb:11006133;NetPath:11006133;SIGNOR:9315665;SignaLink3:10958687;SignaLink3:11006133;SignaLink3:18988627;SignaLink3:21071413;SignaLink3:23331499;connectomeDB2020:11006133</td><td>19</td><td>11</td><td>20</td><td>both</td><td>NOTCH1_JAG2  </td></tr>\n",
       "\t<tr><th scope=row>6</th><td>DLL1_NOTCH1  </td><td>DLL1   </td><td>delta like canonical Notch ligand 1</td><td>NOTCH1</td><td>notch receptor 1                                                </td><td>NA</td><td>O00548</td><td>P46531</td><td>1</td><td>1</td><td>⋯</td><td>1</td><td>1</td><td>0</td><td>Baccin2019;CellCall;CellChatDB;CellPhoneDB;CellPhoneDB_Cellinker;CellTalkDB;Cellinker;DLRP_Cellinker;DLRP_talklr;EMBRACE;Fantom5_LRdb;HPMR_Cellinker;HPMR_LRdb;HPMR_talklr;HPRD;HPRD_LRdb;HPRD_talklr;ICELLNET;KEGG-MEDICUS;Kirouac2010;LRdb;NetPath;Ramilowski2015;Ramilowski2015_Baccin2019;SIGNOR;SPIKE;STRING_talklr;UniProt_LRdb;Wang;connectomeDB2020;iTALK;talklr     </td><td>Baccin2019:1006133;Baccin2019:98194281;CellChatDB:22353464;CellPhoneDB:22353464;CellTalkDB:22353464;Cellinker:11006133;Cellinker:22353464;Cellinker:9819428;HPRD:11006133;ICELLNET:21685328;LRdb:11;LRdb:9819428;NetPath:11006133;SIGNOR:16140393;SPIKE:11006133;SPIKE:17537801;connectomeDB2020:11006133;connectomeDB2020:9819428                                            </td><td>18</td><td> 9</td><td>20</td><td>both</td><td>NOTCH1_DLL1  </td></tr>\n",
       "</tbody>\n",
       "</table>\n"
      ],
      "text/latex": [
       "A data.frame: 6 × 21\n",
       "\\begin{tabular}{r|lllllllllllllllllllll}\n",
       "  & Pair.Name & Ligand & Ligand.Name & Receptor & Receptor.Name & complex\\_pair & source & target & is\\_directed & is\\_stimulation & ⋯ & consensus\\_direction & consensus\\_stimulation & consensus\\_inhibition & sources & references & curation\\_effort & n\\_references & n\\_resources & annotation\\_strategy & dup\\\\\n",
       "  & <chr> & <chr> & <chr> & <chr> & <chr> & <chr> & <chr> & <chr> & <dbl> & <dbl> & ⋯ & <dbl> & <dbl> & <dbl> & <chr> & <chr> & <dbl> & <dbl> & <int> & <chr> & <chr>\\\\\n",
       "\\hline\n",
       "\t1 & CALM1\\_TRPC3   & CALM1   & calmodulin 1                        & TRPC3  & transient receptor potential cation channel subfamily C member 3 & NA & P0DP23 & Q13507 & 1 & 0 & ⋯ & 1 & 0 & 1 & CellTalkDB;Fantom5\\_LRdb;HPRD;HPRD\\_LRdb;LRdb;TRIP;iTALK                                                                                                                                                                                                                                                                                                                        & CellTalkDB:11248050;HPRD:15104175;TRIP:11248050;TRIP:11290752;TRIP:12601176;TRIP:18215135                                                                                                                                                                                                                                                                                      &  6 &  5 &  5 & both & TRPC3\\_CALM1  \\\\\n",
       "\t2 & S100A10\\_TRPV6 & S100A10 & S100 calcium binding protein A10    & TRPV6  & transient receptor potential cation channel subfamily V member 6 & NA & P60903 & Q9H1D0 & 1 & 1 & ⋯ & 1 & 1 & 0 & CellTalkDB;HPRD;TRIP                                                                                                                                                                                                                                                                                                                                                          & CellTalkDB:18187190;HPRD:12660155;TRIP:12660155;TRIP:16189514;TRIP:18187190                                                                                                                                                                                                                                                                                                    &  5 &  3 &  3 & both & TRPV6\\_S100A10\\\\\n",
       "\t3 & JAK2\\_EPOR     & JAK2    & Janus kinase 2                      & EPOR   & erythropoietin receptor                                          & NA & O60674 & P19235 & 1 & 1 & ⋯ & 1 & 1 & 0 & BEL-Large-Corpus\\_ProtMapper;BioGRID;Cellinker;HPRD;HPRD-phos;HPRD\\_KEA;HPRD\\_MIMP;KEA;MIMP;PhosphoNetworks;PhosphoPoint;PhosphoSite\\_KEA;PhosphoSite\\_MIMP;ProtMapper;SIGNOR;SIGNOR\\_ProtMapper;SPIKE;Wang;iPTMnet;phosphoELM;phosphoELM\\_KEA;phosphoELM\\_MIMP                                                                                                                       & BioGRID:8343951;Cellinker:9030561;HPRD-phos:12441334;HPRD:11779507;HPRD:12441334;HPRD:8343951;KEA:10579919;KEA:10660611;KEA:11443118;KEA:12027890;KEA:12441334;KEA:7559499;KEA:9573010;ProtMapper:12441334;ProtMapper:15212693;SIGNOR:12441334;SPIKE:12524467;SPIKE:18672044;iPTMnet:10579919;iPTMnet:12441334;phosphoELM:10579919                                             & 21 & 13 & 14 & LR   & EPOR\\_JAK2    \\\\\n",
       "\t4 & NOTCH1\\_JAG2   & NOTCH1  & notch receptor 1                    & JAG2   & jagged canonical Notch ligand 2                                  & NA & P46531 & Q9Y219 & 1 & 0 & ⋯ & 0 & 0 & 0 & Baccin2019;CellCall;HPRD;NetPath;Ramilowski2015\\_Baccin2019;SPIKE                                                                                                                                                                                                                                                                                                              & HPRD:11006133;NetPath:11006133;SPIKE:15358736                                                                                                                                                                                                                                                                                                                                  &  3 &  2 &  5 & LR   & JAG2\\_NOTCH1  \\\\\n",
       "\t5 & JAG2\\_NOTCH1   & JAG2    & jagged canonical Notch ligand 2     & NOTCH1 & notch receptor 1                                                 & NA & Q9Y219 & P46531 & 1 & 1 & ⋯ & 1 & 1 & 0 & Baccin2019;CellCall;CellChatDB;CellPhoneDB;CellPhoneDB\\_Cellinker;CellTalkDB;Cellinker;DLRP\\_Cellinker;DLRP\\_talklr;EMBRACE;Fantom5\\_LRdb;HPMR\\_Cellinker;HPMR\\_LRdb;HPMR\\_talklr;HPRD;HPRD\\_LRdb;HPRD\\_talklr;ICELLNET;KEGG-MEDICUS;Kirouac2010;LRdb;NetPath;Ramilowski2015;Ramilowski2015\\_Baccin2019;SIGNOR;STRING\\_talklr;SignaLink3;UniProt\\_LRdb;Wang;connectomeDB2020;iTALK;talklr & Baccin2019:1100613311006130;CellChatDB:22353464;CellPhoneDB:22353464;CellTalkDB:22353464;Cellinker:11006133;Cellinker:22353464;HPRD:11006133;ICELLNET:16921404;ICELLNET:21352254;ICELLNET:22503540;LRdb:11006133;NetPath:11006133;SIGNOR:9315665;SignaLink3:10958687;SignaLink3:11006133;SignaLink3:18988627;SignaLink3:21071413;SignaLink3:23331499;connectomeDB2020:11006133 & 19 & 11 & 20 & both & NOTCH1\\_JAG2  \\\\\n",
       "\t6 & DLL1\\_NOTCH1   & DLL1    & delta like canonical Notch ligand 1 & NOTCH1 & notch receptor 1                                                 & NA & O00548 & P46531 & 1 & 1 & ⋯ & 1 & 1 & 0 & Baccin2019;CellCall;CellChatDB;CellPhoneDB;CellPhoneDB\\_Cellinker;CellTalkDB;Cellinker;DLRP\\_Cellinker;DLRP\\_talklr;EMBRACE;Fantom5\\_LRdb;HPMR\\_Cellinker;HPMR\\_LRdb;HPMR\\_talklr;HPRD;HPRD\\_LRdb;HPRD\\_talklr;ICELLNET;KEGG-MEDICUS;Kirouac2010;LRdb;NetPath;Ramilowski2015;Ramilowski2015\\_Baccin2019;SIGNOR;SPIKE;STRING\\_talklr;UniProt\\_LRdb;Wang;connectomeDB2020;iTALK;talklr      & Baccin2019:1006133;Baccin2019:98194281;CellChatDB:22353464;CellPhoneDB:22353464;CellTalkDB:22353464;Cellinker:11006133;Cellinker:22353464;Cellinker:9819428;HPRD:11006133;ICELLNET:21685328;LRdb:11;LRdb:9819428;NetPath:11006133;SIGNOR:16140393;SPIKE:11006133;SPIKE:17537801;connectomeDB2020:11006133;connectomeDB2020:9819428                                             & 18 &  9 & 20 & both & NOTCH1\\_DLL1  \\\\\n",
       "\\end{tabular}\n"
      ],
      "text/markdown": [
       "\n",
       "A data.frame: 6 × 21\n",
       "\n",
       "| <!--/--> | Pair.Name &lt;chr&gt; | Ligand &lt;chr&gt; | Ligand.Name &lt;chr&gt; | Receptor &lt;chr&gt; | Receptor.Name &lt;chr&gt; | complex_pair &lt;chr&gt; | source &lt;chr&gt; | target &lt;chr&gt; | is_directed &lt;dbl&gt; | is_stimulation &lt;dbl&gt; | ⋯ ⋯ | consensus_direction &lt;dbl&gt; | consensus_stimulation &lt;dbl&gt; | consensus_inhibition &lt;dbl&gt; | sources &lt;chr&gt; | references &lt;chr&gt; | curation_effort &lt;dbl&gt; | n_references &lt;dbl&gt; | n_resources &lt;int&gt; | annotation_strategy &lt;chr&gt; | dup &lt;chr&gt; |\n",
       "|---|---|---|---|---|---|---|---|---|---|---|---|---|---|---|---|---|---|---|---|---|---|\n",
       "| 1 | CALM1_TRPC3   | CALM1   | calmodulin 1                        | TRPC3  | transient receptor potential cation channel subfamily C member 3 | NA | P0DP23 | Q13507 | 1 | 0 | ⋯ | 1 | 0 | 1 | CellTalkDB;Fantom5_LRdb;HPRD;HPRD_LRdb;LRdb;TRIP;iTALK                                                                                                                                                                                                                                                                                                                        | CellTalkDB:11248050;HPRD:15104175;TRIP:11248050;TRIP:11290752;TRIP:12601176;TRIP:18215135                                                                                                                                                                                                                                                                                      |  6 |  5 |  5 | both | TRPC3_CALM1   |\n",
       "| 2 | S100A10_TRPV6 | S100A10 | S100 calcium binding protein A10    | TRPV6  | transient receptor potential cation channel subfamily V member 6 | NA | P60903 | Q9H1D0 | 1 | 1 | ⋯ | 1 | 1 | 0 | CellTalkDB;HPRD;TRIP                                                                                                                                                                                                                                                                                                                                                          | CellTalkDB:18187190;HPRD:12660155;TRIP:12660155;TRIP:16189514;TRIP:18187190                                                                                                                                                                                                                                                                                                    |  5 |  3 |  3 | both | TRPV6_S100A10 |\n",
       "| 3 | JAK2_EPOR     | JAK2    | Janus kinase 2                      | EPOR   | erythropoietin receptor                                          | NA | O60674 | P19235 | 1 | 1 | ⋯ | 1 | 1 | 0 | BEL-Large-Corpus_ProtMapper;BioGRID;Cellinker;HPRD;HPRD-phos;HPRD_KEA;HPRD_MIMP;KEA;MIMP;PhosphoNetworks;PhosphoPoint;PhosphoSite_KEA;PhosphoSite_MIMP;ProtMapper;SIGNOR;SIGNOR_ProtMapper;SPIKE;Wang;iPTMnet;phosphoELM;phosphoELM_KEA;phosphoELM_MIMP                                                                                                                       | BioGRID:8343951;Cellinker:9030561;HPRD-phos:12441334;HPRD:11779507;HPRD:12441334;HPRD:8343951;KEA:10579919;KEA:10660611;KEA:11443118;KEA:12027890;KEA:12441334;KEA:7559499;KEA:9573010;ProtMapper:12441334;ProtMapper:15212693;SIGNOR:12441334;SPIKE:12524467;SPIKE:18672044;iPTMnet:10579919;iPTMnet:12441334;phosphoELM:10579919                                             | 21 | 13 | 14 | LR   | EPOR_JAK2     |\n",
       "| 4 | NOTCH1_JAG2   | NOTCH1  | notch receptor 1                    | JAG2   | jagged canonical Notch ligand 2                                  | NA | P46531 | Q9Y219 | 1 | 0 | ⋯ | 0 | 0 | 0 | Baccin2019;CellCall;HPRD;NetPath;Ramilowski2015_Baccin2019;SPIKE                                                                                                                                                                                                                                                                                                              | HPRD:11006133;NetPath:11006133;SPIKE:15358736                                                                                                                                                                                                                                                                                                                                  |  3 |  2 |  5 | LR   | JAG2_NOTCH1   |\n",
       "| 5 | JAG2_NOTCH1   | JAG2    | jagged canonical Notch ligand 2     | NOTCH1 | notch receptor 1                                                 | NA | Q9Y219 | P46531 | 1 | 1 | ⋯ | 1 | 1 | 0 | Baccin2019;CellCall;CellChatDB;CellPhoneDB;CellPhoneDB_Cellinker;CellTalkDB;Cellinker;DLRP_Cellinker;DLRP_talklr;EMBRACE;Fantom5_LRdb;HPMR_Cellinker;HPMR_LRdb;HPMR_talklr;HPRD;HPRD_LRdb;HPRD_talklr;ICELLNET;KEGG-MEDICUS;Kirouac2010;LRdb;NetPath;Ramilowski2015;Ramilowski2015_Baccin2019;SIGNOR;STRING_talklr;SignaLink3;UniProt_LRdb;Wang;connectomeDB2020;iTALK;talklr | Baccin2019:1100613311006130;CellChatDB:22353464;CellPhoneDB:22353464;CellTalkDB:22353464;Cellinker:11006133;Cellinker:22353464;HPRD:11006133;ICELLNET:16921404;ICELLNET:21352254;ICELLNET:22503540;LRdb:11006133;NetPath:11006133;SIGNOR:9315665;SignaLink3:10958687;SignaLink3:11006133;SignaLink3:18988627;SignaLink3:21071413;SignaLink3:23331499;connectomeDB2020:11006133 | 19 | 11 | 20 | both | NOTCH1_JAG2   |\n",
       "| 6 | DLL1_NOTCH1   | DLL1    | delta like canonical Notch ligand 1 | NOTCH1 | notch receptor 1                                                 | NA | O00548 | P46531 | 1 | 1 | ⋯ | 1 | 1 | 0 | Baccin2019;CellCall;CellChatDB;CellPhoneDB;CellPhoneDB_Cellinker;CellTalkDB;Cellinker;DLRP_Cellinker;DLRP_talklr;EMBRACE;Fantom5_LRdb;HPMR_Cellinker;HPMR_LRdb;HPMR_talklr;HPRD;HPRD_LRdb;HPRD_talklr;ICELLNET;KEGG-MEDICUS;Kirouac2010;LRdb;NetPath;Ramilowski2015;Ramilowski2015_Baccin2019;SIGNOR;SPIKE;STRING_talklr;UniProt_LRdb;Wang;connectomeDB2020;iTALK;talklr      | Baccin2019:1006133;Baccin2019:98194281;CellChatDB:22353464;CellPhoneDB:22353464;CellTalkDB:22353464;Cellinker:11006133;Cellinker:22353464;Cellinker:9819428;HPRD:11006133;ICELLNET:21685328;LRdb:11;LRdb:9819428;NetPath:11006133;SIGNOR:16140393;SPIKE:11006133;SPIKE:17537801;connectomeDB2020:11006133;connectomeDB2020:9819428                                             | 18 |  9 | 20 | both | NOTCH1_DLL1   |\n",
       "\n"
      ],
      "text/plain": [
       "  Pair.Name     Ligand  Ligand.Name                         Receptor\n",
       "1 CALM1_TRPC3   CALM1   calmodulin 1                        TRPC3   \n",
       "2 S100A10_TRPV6 S100A10 S100 calcium binding protein A10    TRPV6   \n",
       "3 JAK2_EPOR     JAK2    Janus kinase 2                      EPOR    \n",
       "4 NOTCH1_JAG2   NOTCH1  notch receptor 1                    JAG2    \n",
       "5 JAG2_NOTCH1   JAG2    jagged canonical Notch ligand 2     NOTCH1  \n",
       "6 DLL1_NOTCH1   DLL1    delta like canonical Notch ligand 1 NOTCH1  \n",
       "  Receptor.Name                                                    complex_pair\n",
       "1 transient receptor potential cation channel subfamily C member 3 NA          \n",
       "2 transient receptor potential cation channel subfamily V member 6 NA          \n",
       "3 erythropoietin receptor                                          NA          \n",
       "4 jagged canonical Notch ligand 2                                  NA          \n",
       "5 notch receptor 1                                                 NA          \n",
       "6 notch receptor 1                                                 NA          \n",
       "  source target is_directed is_stimulation ⋯ consensus_direction\n",
       "1 P0DP23 Q13507 1           0              ⋯ 1                  \n",
       "2 P60903 Q9H1D0 1           1              ⋯ 1                  \n",
       "3 O60674 P19235 1           1              ⋯ 1                  \n",
       "4 P46531 Q9Y219 1           0              ⋯ 0                  \n",
       "5 Q9Y219 P46531 1           1              ⋯ 1                  \n",
       "6 O00548 P46531 1           1              ⋯ 1                  \n",
       "  consensus_stimulation consensus_inhibition\n",
       "1 0                     1                   \n",
       "2 1                     0                   \n",
       "3 1                     0                   \n",
       "4 0                     0                   \n",
       "5 1                     0                   \n",
       "6 1                     0                   \n",
       "  sources                                                                                                                                                                                                                                                                                                                                                                      \n",
       "1 CellTalkDB;Fantom5_LRdb;HPRD;HPRD_LRdb;LRdb;TRIP;iTALK                                                                                                                                                                                                                                                                                                                       \n",
       "2 CellTalkDB;HPRD;TRIP                                                                                                                                                                                                                                                                                                                                                         \n",
       "3 BEL-Large-Corpus_ProtMapper;BioGRID;Cellinker;HPRD;HPRD-phos;HPRD_KEA;HPRD_MIMP;KEA;MIMP;PhosphoNetworks;PhosphoPoint;PhosphoSite_KEA;PhosphoSite_MIMP;ProtMapper;SIGNOR;SIGNOR_ProtMapper;SPIKE;Wang;iPTMnet;phosphoELM;phosphoELM_KEA;phosphoELM_MIMP                                                                                                                      \n",
       "4 Baccin2019;CellCall;HPRD;NetPath;Ramilowski2015_Baccin2019;SPIKE                                                                                                                                                                                                                                                                                                             \n",
       "5 Baccin2019;CellCall;CellChatDB;CellPhoneDB;CellPhoneDB_Cellinker;CellTalkDB;Cellinker;DLRP_Cellinker;DLRP_talklr;EMBRACE;Fantom5_LRdb;HPMR_Cellinker;HPMR_LRdb;HPMR_talklr;HPRD;HPRD_LRdb;HPRD_talklr;ICELLNET;KEGG-MEDICUS;Kirouac2010;LRdb;NetPath;Ramilowski2015;Ramilowski2015_Baccin2019;SIGNOR;STRING_talklr;SignaLink3;UniProt_LRdb;Wang;connectomeDB2020;iTALK;talklr\n",
       "6 Baccin2019;CellCall;CellChatDB;CellPhoneDB;CellPhoneDB_Cellinker;CellTalkDB;Cellinker;DLRP_Cellinker;DLRP_talklr;EMBRACE;Fantom5_LRdb;HPMR_Cellinker;HPMR_LRdb;HPMR_talklr;HPRD;HPRD_LRdb;HPRD_talklr;ICELLNET;KEGG-MEDICUS;Kirouac2010;LRdb;NetPath;Ramilowski2015;Ramilowski2015_Baccin2019;SIGNOR;SPIKE;STRING_talklr;UniProt_LRdb;Wang;connectomeDB2020;iTALK;talklr     \n",
       "  references                                                                                                                                                                                                                                                                                                                                                                    \n",
       "1 CellTalkDB:11248050;HPRD:15104175;TRIP:11248050;TRIP:11290752;TRIP:12601176;TRIP:18215135                                                                                                                                                                                                                                                                                     \n",
       "2 CellTalkDB:18187190;HPRD:12660155;TRIP:12660155;TRIP:16189514;TRIP:18187190                                                                                                                                                                                                                                                                                                   \n",
       "3 BioGRID:8343951;Cellinker:9030561;HPRD-phos:12441334;HPRD:11779507;HPRD:12441334;HPRD:8343951;KEA:10579919;KEA:10660611;KEA:11443118;KEA:12027890;KEA:12441334;KEA:7559499;KEA:9573010;ProtMapper:12441334;ProtMapper:15212693;SIGNOR:12441334;SPIKE:12524467;SPIKE:18672044;iPTMnet:10579919;iPTMnet:12441334;phosphoELM:10579919                                            \n",
       "4 HPRD:11006133;NetPath:11006133;SPIKE:15358736                                                                                                                                                                                                                                                                                                                                 \n",
       "5 Baccin2019:1100613311006130;CellChatDB:22353464;CellPhoneDB:22353464;CellTalkDB:22353464;Cellinker:11006133;Cellinker:22353464;HPRD:11006133;ICELLNET:16921404;ICELLNET:21352254;ICELLNET:22503540;LRdb:11006133;NetPath:11006133;SIGNOR:9315665;SignaLink3:10958687;SignaLink3:11006133;SignaLink3:18988627;SignaLink3:21071413;SignaLink3:23331499;connectomeDB2020:11006133\n",
       "6 Baccin2019:1006133;Baccin2019:98194281;CellChatDB:22353464;CellPhoneDB:22353464;CellTalkDB:22353464;Cellinker:11006133;Cellinker:22353464;Cellinker:9819428;HPRD:11006133;ICELLNET:21685328;LRdb:11;LRdb:9819428;NetPath:11006133;SIGNOR:16140393;SPIKE:11006133;SPIKE:17537801;connectomeDB2020:11006133;connectomeDB2020:9819428                                            \n",
       "  curation_effort n_references n_resources annotation_strategy dup          \n",
       "1  6               5            5          both                TRPC3_CALM1  \n",
       "2  5               3            3          both                TRPV6_S100A10\n",
       "3 21              13           14          LR                  EPOR_JAK2    \n",
       "4  3               2            5          LR                  JAG2_NOTCH1  \n",
       "5 19              11           20          both                NOTCH1_JAG2  \n",
       "6 18               9           20          both                NOTCH1_DLL1  "
      ]
     },
     "metadata": {},
     "output_type": "display_data"
    }
   ],
   "source": [
    "head(complete_data)"
   ]
  },
  {
   "cell_type": "markdown",
   "id": "466b400d",
   "metadata": {},
   "source": [
    "### Annotate gene space"
   ]
  },
  {
   "cell_type": "markdown",
   "id": "8f8d3a16",
   "metadata": {},
   "source": [
    "Annotate each gene in the protein-protein interaction (PPI) network with their corresponding parent categories, along with a score indicating how many of the resources (# 44 resources) have annotated that gene as such."
   ]
  },
  {
   "cell_type": "code",
   "execution_count": 18,
   "id": "5072ce6b",
   "metadata": {},
   "outputs": [],
   "source": [
    "annotation <- annotate_components(complete_data)"
   ]
  },
  {
   "cell_type": "code",
   "execution_count": 19,
   "id": "c64b21a7",
   "metadata": {},
   "outputs": [
    {
     "data": {
      "text/html": [
       "<table class=\"dataframe\">\n",
       "<caption>A data.frame: 6 × 3</caption>\n",
       "<thead>\n",
       "\t<tr><th></th><th scope=col>genesymbol</th><th scope=col>score</th><th scope=col>parent</th></tr>\n",
       "\t<tr><th></th><th scope=col>&lt;chr&gt;</th><th scope=col>&lt;dbl&gt;</th><th scope=col>&lt;chr&gt;</th></tr>\n",
       "</thead>\n",
       "<tbody>\n",
       "\t<tr><th scope=row>1</th><td>CALM1  </td><td> 5</td><td>intracellular</td></tr>\n",
       "\t<tr><th scope=row>2</th><td>S100A10</td><td> 4</td><td>ligand       </td></tr>\n",
       "\t<tr><th scope=row>3</th><td>JAK2   </td><td> 2</td><td>receptor     </td></tr>\n",
       "\t<tr><th scope=row>4</th><td>NOTCH1 </td><td>22</td><td>receptor     </td></tr>\n",
       "\t<tr><th scope=row>5</th><td>JAG2   </td><td>12</td><td>ligand       </td></tr>\n",
       "\t<tr><th scope=row>6</th><td>DLL1   </td><td>12</td><td>ligand       </td></tr>\n",
       "</tbody>\n",
       "</table>\n"
      ],
      "text/latex": [
       "A data.frame: 6 × 3\n",
       "\\begin{tabular}{r|lll}\n",
       "  & genesymbol & score & parent\\\\\n",
       "  & <chr> & <dbl> & <chr>\\\\\n",
       "\\hline\n",
       "\t1 & CALM1   &  5 & intracellular\\\\\n",
       "\t2 & S100A10 &  4 & ligand       \\\\\n",
       "\t3 & JAK2    &  2 & receptor     \\\\\n",
       "\t4 & NOTCH1  & 22 & receptor     \\\\\n",
       "\t5 & JAG2    & 12 & ligand       \\\\\n",
       "\t6 & DLL1    & 12 & ligand       \\\\\n",
       "\\end{tabular}\n"
      ],
      "text/markdown": [
       "\n",
       "A data.frame: 6 × 3\n",
       "\n",
       "| <!--/--> | genesymbol &lt;chr&gt; | score &lt;dbl&gt; | parent &lt;chr&gt; |\n",
       "|---|---|---|---|\n",
       "| 1 | CALM1   |  5 | intracellular |\n",
       "| 2 | S100A10 |  4 | ligand        |\n",
       "| 3 | JAK2    |  2 | receptor      |\n",
       "| 4 | NOTCH1  | 22 | receptor      |\n",
       "| 5 | JAG2    | 12 | ligand        |\n",
       "| 6 | DLL1    | 12 | ligand        |\n",
       "\n"
      ],
      "text/plain": [
       "  genesymbol score parent       \n",
       "1 CALM1       5    intracellular\n",
       "2 S100A10     4    ligand       \n",
       "3 JAK2        2    receptor     \n",
       "4 NOTCH1     22    receptor     \n",
       "5 JAG2       12    ligand       \n",
       "6 DLL1       12    ligand       "
      ]
     },
     "metadata": {},
     "output_type": "display_data"
    }
   ],
   "source": [
    "head(annotation)"
   ]
  },
  {
   "cell_type": "markdown",
   "id": "ab54bbe0",
   "metadata": {},
   "source": [
    "### True Ligand Receptor Pairs"
   ]
  },
  {
   "cell_type": "markdown",
   "id": "ae43f571",
   "metadata": {},
   "source": [
    "Additionally, as part of the annotations, we identify pairs situated between Ligand and Receptor molecules and label them as 'True_LR = TRUE,' while other pairs, such as adhesive pairs or those between Receptor-Receptor molecules, will be marked as 'True_LR = False."
   ]
  },
  {
   "cell_type": "code",
   "execution_count": 36,
   "id": "fb98d4d7",
   "metadata": {},
   "outputs": [],
   "source": [
    "true_LR_DB <- process_lr_db(complete_data, annotation)"
   ]
  },
  {
   "cell_type": "markdown",
   "id": "f6fe5af0",
   "metadata": {},
   "source": [
    "### Process and direction correction on adhesive pairs"
   ]
  },
  {
   "cell_type": "markdown",
   "id": "00d9d3d7",
   "metadata": {},
   "source": [
    "This function is designed for processing adhesive interactions, including handling swapped duplicated pairs. It allows manual curation by enabling the user to specify lists of genes annotated as ligands or receptors. If none is given, ligands and receptors will be detected through the annotation table. \n",
    "\n",
    "In this step we categorize ADAM, Plexin and Neuroligin families as ligands. "
   ]
  },
  {
   "cell_type": "code",
   "execution_count": 38,
   "id": "daac154e",
   "metadata": {},
   "outputs": [],
   "source": [
    "adhesive_DB <- process_adhesive_DB(complete_data, annotation, ligand_list=list(), receptor_list=list())"
   ]
  },
  {
   "cell_type": "markdown",
   "id": "7e576e85",
   "metadata": {},
   "source": [
    "### Merge adhesive and True LR"
   ]
  },
  {
   "cell_type": "code",
   "execution_count": 40,
   "id": "05a2c6ce",
   "metadata": {},
   "outputs": [],
   "source": [
    "LR_database <- rbind(true_LR_DB, adhesive_DB)"
   ]
  },
  {
   "cell_type": "code",
   "execution_count": 41,
   "id": "21b8996d",
   "metadata": {},
   "outputs": [
    {
     "name": "stdout",
     "output_type": "stream",
     "text": [
      "'data.frame':\t6941 obs. of  21 variables:\n",
      " $ True_LR              : logi  TRUE TRUE TRUE TRUE TRUE TRUE ...\n",
      " $ Pair.Name            : chr  \"S100A10_TRPV6\" \"JAG2_NOTCH1\" \"DLL1_NOTCH1\" \"IGF1_IGF1R\" ...\n",
      " $ Ligand               : chr  \"S100A10\" \"JAG2\" \"DLL1\" \"IGF1\" ...\n",
      " $ Ligand.Name          : chr  \"S100 calcium binding protein A10\" \"jagged canonical Notch ligand 2\" \"delta like canonical Notch ligand 1\" \"insulin like growth factor 1\" ...\n",
      " $ Receptor             : chr  \"TRPV6\" \"NOTCH1\" \"NOTCH1\" \"IGF1R\" ...\n",
      " $ Receptor.Name        : chr  \"transient receptor potential cation channel subfamily V member 6\" \"notch receptor 1\" \"notch receptor 1\" \"insulin like growth factor 1 receptor\" ...\n",
      " $ complex_pair         : chr  NA NA NA NA ...\n",
      " $ source               : chr  \"P60903\" \"Q9Y219\" \"O00548\" \"P05019\" ...\n",
      " $ target               : chr  \"Q9H1D0\" \"P46531\" \"P46531\" \"P08069\" ...\n",
      " $ is_directed          : num  1 1 1 1 1 1 1 1 1 1 ...\n",
      " $ is_stimulation       : num  1 1 1 1 1 1 1 1 1 1 ...\n",
      " $ is_inhibition        : num  0 1 0 0 1 1 0 0 1 0 ...\n",
      " $ consensus_direction  : num  1 1 1 1 1 1 1 1 1 1 ...\n",
      " $ consensus_stimulation: num  1 1 1 1 1 1 1 1 1 1 ...\n",
      " $ consensus_inhibition : num  0 0 0 0 0 0 0 0 0 0 ...\n",
      " $ sources              : chr  \"CellTalkDB;HPRD;TRIP\" \"Baccin2019;CellCall;CellChatDB;CellPhoneDB;CellPhoneDB_Cellinker;CellTalkDB;Cellinker;DLRP_Cellinker;DLRP_talkl\"| __truncated__ \"Baccin2019;CellCall;CellChatDB;CellPhoneDB;CellPhoneDB_Cellinker;CellTalkDB;Cellinker;DLRP_Cellinker;DLRP_talkl\"| __truncated__ \"Baccin2019;CA1;CellCall;CellChatDB;CellPhoneDB;CellTalkDB;Cellinker;DIP;DLRP_Cellinker;DLRP_talklr;EMBRACE;Fant\"| __truncated__ ...\n",
      " $ references           : chr  \"CellTalkDB:18187190;HPRD:12660155;TRIP:12660155;TRIP:16189514;TRIP:18187190\" \"Baccin2019:1100613311006130;CellChatDB:22353464;CellPhoneDB:22353464;CellTalkDB:22353464;Cellinker:11006133;Cel\"| __truncated__ \"Baccin2019:1006133;Baccin2019:98194281;CellChatDB:22353464;CellPhoneDB:22353464;CellTalkDB:22353464;Cellinker:1\"| __truncated__ \"Baccin2019:1852007;Baccin2019:2877871;CA1:8408032;CellChatDB:14604834;CellTalkDB:2877871;Cellinker:14604834;Cel\"| __truncated__ ...\n",
      " $ curation_effort      : num  5 19 18 27 36 12 47 23 19 29 ...\n",
      " $ n_references         : num  3 11 9 15 20 5 15 11 6 10 ...\n",
      " $ n_resources          : int  3 20 20 26 27 16 26 14 15 19 ...\n",
      " $ annotation_strategy  : chr  \"both\" \"both\" \"both\" \"both\" ...\n"
     ]
    }
   ],
   "source": [
    "str(LR_database)"
   ]
  },
  {
   "cell_type": "code",
   "execution_count": null,
   "id": "2ec45325",
   "metadata": {},
   "outputs": [],
   "source": []
  }
 ],
 "metadata": {
  "kernelspec": {
   "display_name": "R",
   "language": "R",
   "name": "ir"
  },
  "language_info": {
   "codemirror_mode": "r",
   "file_extension": ".r",
   "mimetype": "text/x-r-source",
   "name": "R",
   "pygments_lexer": "r",
   "version": "4.1.2"
  }
 },
 "nbformat": 4,
 "nbformat_minor": 5
}
