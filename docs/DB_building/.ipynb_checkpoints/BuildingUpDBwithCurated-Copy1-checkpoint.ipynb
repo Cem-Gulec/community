{
 "cells": [
  {
   "cell_type": "code",
   "execution_count": 152,
   "id": "a769ad49",
   "metadata": {},
   "outputs": [],
   "source": [
    "library(OmnipathR)\n",
    "# library(nichenetr)\n",
    "library(tidyverse)\n",
    "library(dplyr)\n",
    "library(VennDiagram)\n",
    "library(ggplot2)\n",
    "library(utils)"
   ]
  },
  {
   "cell_type": "markdown",
   "id": "721a5684",
   "metadata": {},
   "source": [
    "```import_ligrecextra_interactions```\n",
    "\n",
    "link: to documentation <https://r.omnipathdb.org/reference/import_ligrecextra_interactions.html>\n",
    "\n",
    "This LR dataset contains ligand-receptor interactions without literature reference. The ligand-receptor interactions supported by literature references are part of the `omnipath` dataset.\n",
    "\n",
    "\n",
    "Default params(without filtering resources) have 8350 edges. The table includes columns as follows. \n",
    "\n",
    "'source' 'target' 'source_genesymbol' 'target_genesymbol' 'is_directed' 'is_stimulation' 'is_inhibition' 'consensus_direction' 'consensus_stimulation' 'consensus_inhibition' 'sources' 'references' 'curation_effort' 'n_references' 'n_resources'\n",
    "\n",
    "**The consensus score is if resources support the classification of an entity into a category based on combined information of many resources.**\n",
    "\n",
    "| sources                                                         | ref | cur_effort | n_ref | n_source |\n",
    "|-----------------------------------------------------------------|-----|------------|-------|----------|\n",
    "|      Baccin2019;CellCall;PhosphoPoint;Ramilowski2015_Baccin2019 | NA  | 0          | 0     | 3        |\n",
    "| Baccin2019;CellCall;PhosphoPoint;Ramilowski2015_Baccin2019;Wang | NA  | 0          | 0     | 4        |\n",
    "|                                                                 |     |            |       |          |\n",
    "\n",
    "```curated_ligand_receptor_interactions```\n",
    "\n",
    "expert curated ligand-receptor resources, provided by this function\n",
    "\n",
    "\n"
   ]
  },
  {
   "cell_type": "code",
   "execution_count": 153,
   "id": "4bf99d42",
   "metadata": {},
   "outputs": [],
   "source": [
    "# https://r.omnipathdb.org/reference/curated_ligand_receptor_interactions.html\n",
    "# curated=curated_ligand_receptor_interactions()\n",
    "lr <- import_ligrecextra_interactions()\n",
    "lr <- lr %>% filter(!duplicated(lr[, c(\"source_genesymbol\", \"target_genesymbol\")]))\n",
    "curated <- curated_ligand_receptor_interactions()\n",
    "curated <- curated %>% filter(!duplicated(curated[, c(\"source_genesymbol\", \"target_genesymbol\")]))"
   ]
  },
  {
   "cell_type": "markdown",
   "id": "959fa8dd",
   "metadata": {},
   "source": [
    "```import_omnipath_intercell``` Imports the OmniPath intercellular **communication role annotation** database. It provides information on the roles in inter-cellular signaling. E.g. if a protein is a ligand, a receptor, an extracellular matrix (ECM) component, etc."
   ]
  },
  {
   "cell_type": "code",
   "execution_count": 154,
   "id": "a5a54454",
   "metadata": {},
   "outputs": [],
   "source": [
    "anno_raw <- import_omnipath_intercell()\n",
    "#subset annotation DB to only ligand and receptors\n",
    "anno_lig <- anno_raw %>%\n",
    "    dplyr::filter(category %in% c(\"receptor\",\"ligand\"))\n",
    "# Drop rows where the values in the \"parent\", \"database\", and \"uniprot\" columns are duplicated\n",
    "anno_raw <- anno_raw %>% filter(!duplicated(anno_raw[, c(\"parent\", \"database\", \"uniprot\")]))"
   ]
  },
  {
   "cell_type": "code",
   "execution_count": null,
   "id": "bbf3ba78",
   "metadata": {},
   "outputs": [],
   "source": []
  },
  {
   "cell_type": "markdown",
   "id": "1e382b4a",
   "metadata": {},
   "source": [
    "# Breaking down complexes"
   ]
  },
  {
   "cell_type": "markdown",
   "id": "4f69c663",
   "metadata": {},
   "source": [
    "Below, we produce all the the possible pairs. \n",
    "\n",
    "Example: lets assume complex G1_G2_G3 is linked to another complex G4_G5_G6\n",
    "\n",
    "| c1 | c2 | complex_origin    |\n",
    "|----|----|-------------------|\n",
    "| G1 | G2 | G1_G2_G3_G4_G5_G6 |\n",
    "| G1 | G3 | G1_G2_G3_G4_G5_G6 |\n",
    "| G1 | G4 | G1_G2_G3_G4_G5_G6 |\n",
    "| G1 | G5 | G1_G2_G3_G4_G5_G6 |\n",
    "| G1 | G6 | G1_G2_G3_G4_G5_G6 |\n",
    "| G2 | G1 | G1_G2_G3_G4_G5_G6 |\n",
    "| G2 | G3 | G1_G2_G3_G4_G5_G6 |\n",
    "| .. | .. | G1_G2_G3_G4_G5_G6 |"
   ]
  },
  {
   "cell_type": "code",
   "execution_count": 156,
   "id": "94a72ef3",
   "metadata": {},
   "outputs": [],
   "source": [
    "# This function breaks down complex interactions and returns a list of components\n",
    "# Input: OmniPath_DB\n",
    "# Output: list of components of complex molecules\n",
    "\n",
    "break_down_complex <- function(OmniPath_DB) {\n",
    "    # filter only those are in complex\n",
    "    complex <- filter(OmniPath_DB, grepl(\"COMPLEX\", target) | grepl(\"COMPLEX\", source))\n",
    "    complex$source <- sub(\"COMPLEX:\", \"\", complex$source)\n",
    "    complex$target <- sub(\"COMPLEX:\", \"\", complex$target)\n",
    "\n",
    "    # complexes are seperated into individual components\n",
    "    components_target <- unique(unlist(strsplit(complex$source_genesymbol, \"_\")))\n",
    "    components_source <- unique(unlist(strsplit(complex$target_genesymbol, \"_\")))\n",
    "    components_both <- c(components_target, components_source)\n",
    "    components_both <- unique(components_both)\n",
    "    return(list(components = components_both, complex = complex))\n",
    "}"
   ]
  },
  {
   "cell_type": "code",
   "execution_count": 157,
   "id": "178e6449",
   "metadata": {},
   "outputs": [],
   "source": [
    "lr$pair <- paste(lr$source_genesymbol, lr$target_genesymbol,sep=\"_\")"
   ]
  },
  {
   "cell_type": "code",
   "execution_count": 158,
   "id": "a84dc957",
   "metadata": {},
   "outputs": [],
   "source": [
    "curated$pair <- paste(curated$source_genesymbol, curated$target_genesymbol,sep=\"_\")"
   ]
  },
  {
   "cell_type": "code",
   "execution_count": 159,
   "id": "8108f55e",
   "metadata": {},
   "outputs": [],
   "source": [
    "components_lr <- break_down_complex(lr)\n",
    "components_curated <- break_down_complex(curated)"
   ]
  },
  {
   "cell_type": "code",
   "execution_count": 160,
   "id": "17958cf0",
   "metadata": {},
   "outputs": [],
   "source": [
    "# This function takes the complex data frame and returns a data frame containing all possible pairwise pairs\n",
    "# The function loops through each row of the complex data frame and extracts the values from the first and second\n",
    "# columns. The loop then generates all the possible pairwise pairs using the combn function and appends the results\n",
    "# to a list. The function then binds the results into a single data frame, switches the values in the source and target\n",
    "# columns, and binds the rows into a single data frame. The function then drops the self links and returns the data frame.\n",
    "\n",
    "\n",
    "create_pairwise_pairs <- function(complex){\n",
    "    # Produce all the possbile pairwise pairs\n",
    "\n",
    "    results <- list()\n",
    "\n",
    "    # Loop through each row of the data frame\n",
    "    for (i in 1:nrow(complex)) {\n",
    "      # Extract the values from the first column\n",
    "      values1 <- unlist(strsplit(as.character(complex[i, \"source_genesymbol\"]), \"_\"))\n",
    "      # Extract the values from the second column\n",
    "      values2 <- unlist(strsplit(as.character(complex[i, \"target_genesymbol\"]), \"_\"))\n",
    "      # Keep the original pair\n",
    "      original <- paste(complex[i, \"source_genesymbol\"],complex[i, \"target_genesymbol\"],sep=\"_\")\n",
    "      # Generate all the pairwise combinations using combn\n",
    "      pairs <- combn(c(values1, values2), 2)\n",
    "      pairs <- t(pairs)\n",
    "      pairs <- cbind(pairs,original)\n",
    "      # Append the results to the list\n",
    "      results[[i]] <- as.data.frame(pairs)\n",
    "        colnames(results[[i]]) = c(\"source\",\"target\",\"complex_pair\")\n",
    "        row.names(results[[i]]) <- NULL\n",
    "    }\n",
    "\n",
    "    # Bind the results into a single data frame\n",
    "    result_df2 <- as.data.frame(do.call(rbind, results))\n",
    "\n",
    "    # Switch the values in the \"col1\" and \"col2\" columns\n",
    "    df1 <- cbind(result_df2[,2], result_df2[,1], result_df2[,3])\n",
    "    colnames(df1) <- names(result_df2)\n",
    "    # Bind the rows into a single data frame\n",
    "    result_df <- rbind(result_df2, df1)\n",
    "\n",
    "\n",
    "    # Drop the self links\n",
    "#     result_df <- result_df %>% filter(!duplicated(result_df[, c(\"source\", \"target\")]))\n",
    "    \n",
    "    # create pairs column\n",
    "    result_df$pair=paste(result_df$source, result_df$target,sep=\"_\")\n",
    "    \n",
    "    return(result_df)\n",
    "}"
   ]
  },
  {
   "cell_type": "code",
   "execution_count": 161,
   "id": "378c16bb",
   "metadata": {},
   "outputs": [],
   "source": [
    "pairwise_pairs_lr <- create_pairwise_pairs(components_lr$complex)\n",
    "pairwise_pairs_curated <- create_pairwise_pairs(components_curated$complex)"
   ]
  },
  {
   "cell_type": "code",
   "execution_count": 162,
   "id": "78bc5116",
   "metadata": {},
   "outputs": [
    {
     "name": "stdout",
     "output_type": "stream",
     "text": [
      "'data.frame':\t4966 obs. of  4 variables:\n",
      " $ source      : chr  \"IL17A\" \"IL17A\" \"IL17RA\" \"ITGAL\" ...\n",
      " $ target      : chr  \"IL17RA\" \"IL17RC\" \"IL17RC\" \"ITGB2\" ...\n",
      " $ complex_pair: chr  \"IL17A_IL17RA_IL17RC\" \"IL17A_IL17RA_IL17RC\" \"IL17A_IL17RA_IL17RC\" \"ITGAL_ITGB2_ICAM1\" ...\n",
      " $ pair        : chr  \"IL17A_IL17RA\" \"IL17A_IL17RC\" \"IL17RA_IL17RC\" \"ITGAL_ITGB2\" ...\n"
     ]
    }
   ],
   "source": [
    "str(pairwise_pairs_curated)"
   ]
  },
  {
   "cell_type": "code",
   "execution_count": 163,
   "id": "323a70b2",
   "metadata": {},
   "outputs": [
    {
     "name": "stdout",
     "output_type": "stream",
     "text": [
      "'data.frame':\t8616 obs. of  4 variables:\n",
      " $ source      : chr  \"IL17A\" \"IL17A\" \"IL17RA\" \"NPNT\" ...\n",
      " $ target      : chr  \"IL17RA\" \"IL17RC\" \"IL17RC\" \"ITGA8\" ...\n",
      " $ complex_pair: chr  \"IL17A_IL17RA_IL17RC\" \"IL17A_IL17RA_IL17RC\" \"IL17A_IL17RA_IL17RC\" \"NPNT_ITGA8_ITGB1\" ...\n",
      " $ pair        : chr  \"IL17A_IL17RA\" \"IL17A_IL17RC\" \"IL17RA_IL17RC\" \"NPNT_ITGA8\" ...\n"
     ]
    }
   ],
   "source": [
    "str(pairwise_pairs_lr)"
   ]
  },
  {
   "cell_type": "code",
   "execution_count": 164,
   "id": "3ce84fe5",
   "metadata": {},
   "outputs": [
    {
     "data": {
      "text/html": [
       "3272"
      ],
      "text/latex": [
       "3272"
      ],
      "text/markdown": [
       "3272"
      ],
      "text/plain": [
       "[1] 3272"
      ]
     },
     "metadata": {},
     "output_type": "display_data"
    }
   ],
   "source": [
    "length(unique(pairwise_pairs_lr$pair))"
   ]
  },
  {
   "cell_type": "code",
   "execution_count": 165,
   "id": "05296277",
   "metadata": {},
   "outputs": [
    {
     "data": {
      "text/html": [
       "<table class=\"dataframe\">\n",
       "<caption>A data.frame: 6 × 4</caption>\n",
       "<thead>\n",
       "\t<tr><th scope=col>source</th><th scope=col>target</th><th scope=col>complex_pair</th><th scope=col>pair</th></tr>\n",
       "\t<tr><th scope=col>&lt;chr&gt;</th><th scope=col>&lt;chr&gt;</th><th scope=col>&lt;chr&gt;</th><th scope=col>&lt;chr&gt;</th></tr>\n",
       "</thead>\n",
       "<tbody>\n",
       "\t<tr><td>IL17A </td><td>IL17RA</td><td>IL17A_IL17RA_IL17RC</td><td>IL17A_IL17RA </td></tr>\n",
       "\t<tr><td>IL17A </td><td>IL17RC</td><td>IL17A_IL17RA_IL17RC</td><td>IL17A_IL17RC </td></tr>\n",
       "\t<tr><td>IL17RA</td><td>IL17RC</td><td>IL17A_IL17RA_IL17RC</td><td>IL17RA_IL17RC</td></tr>\n",
       "\t<tr><td>IL17RA</td><td>IL17A </td><td>IL17A_IL17RA_IL17RC</td><td>IL17RA_IL17A </td></tr>\n",
       "\t<tr><td>IL17RC</td><td>IL17A </td><td>IL17A_IL17RA_IL17RC</td><td>IL17RC_IL17A </td></tr>\n",
       "\t<tr><td>IL17RC</td><td>IL17RA</td><td>IL17A_IL17RA_IL17RC</td><td>IL17RC_IL17RA</td></tr>\n",
       "</tbody>\n",
       "</table>\n"
      ],
      "text/latex": [
       "A data.frame: 6 × 4\n",
       "\\begin{tabular}{llll}\n",
       " source & target & complex\\_pair & pair\\\\\n",
       " <chr> & <chr> & <chr> & <chr>\\\\\n",
       "\\hline\n",
       "\t IL17A  & IL17RA & IL17A\\_IL17RA\\_IL17RC & IL17A\\_IL17RA \\\\\n",
       "\t IL17A  & IL17RC & IL17A\\_IL17RA\\_IL17RC & IL17A\\_IL17RC \\\\\n",
       "\t IL17RA & IL17RC & IL17A\\_IL17RA\\_IL17RC & IL17RA\\_IL17RC\\\\\n",
       "\t IL17RA & IL17A  & IL17A\\_IL17RA\\_IL17RC & IL17RA\\_IL17A \\\\\n",
       "\t IL17RC & IL17A  & IL17A\\_IL17RA\\_IL17RC & IL17RC\\_IL17A \\\\\n",
       "\t IL17RC & IL17RA & IL17A\\_IL17RA\\_IL17RC & IL17RC\\_IL17RA\\\\\n",
       "\\end{tabular}\n"
      ],
      "text/markdown": [
       "\n",
       "A data.frame: 6 × 4\n",
       "\n",
       "| source &lt;chr&gt; | target &lt;chr&gt; | complex_pair &lt;chr&gt; | pair &lt;chr&gt; |\n",
       "|---|---|---|---|\n",
       "| IL17A  | IL17RA | IL17A_IL17RA_IL17RC | IL17A_IL17RA  |\n",
       "| IL17A  | IL17RC | IL17A_IL17RA_IL17RC | IL17A_IL17RC  |\n",
       "| IL17RA | IL17RC | IL17A_IL17RA_IL17RC | IL17RA_IL17RC |\n",
       "| IL17RA | IL17A  | IL17A_IL17RA_IL17RC | IL17RA_IL17A  |\n",
       "| IL17RC | IL17A  | IL17A_IL17RA_IL17RC | IL17RC_IL17A  |\n",
       "| IL17RC | IL17RA | IL17A_IL17RA_IL17RC | IL17RC_IL17RA |\n",
       "\n"
      ],
      "text/plain": [
       "  source target complex_pair        pair         \n",
       "1 IL17A  IL17RA IL17A_IL17RA_IL17RC IL17A_IL17RA \n",
       "2 IL17A  IL17RC IL17A_IL17RA_IL17RC IL17A_IL17RC \n",
       "3 IL17RA IL17RC IL17A_IL17RA_IL17RC IL17RA_IL17RC\n",
       "4 IL17RA IL17A  IL17A_IL17RA_IL17RC IL17RA_IL17A \n",
       "5 IL17RC IL17A  IL17A_IL17RA_IL17RC IL17RC_IL17A \n",
       "6 IL17RC IL17RA IL17A_IL17RA_IL17RC IL17RC_IL17RA"
      ]
     },
     "metadata": {},
     "output_type": "display_data"
    }
   ],
   "source": [
    "filter(pairwise_pairs_curated, complex_pair==\"IL17A_IL17RA_IL17RC\")"
   ]
  },
  {
   "cell_type": "code",
   "execution_count": 166,
   "id": "b8f8e498",
   "metadata": {},
   "outputs": [],
   "source": [
    "# pairwise_pairs_lr %>% filter(!duplicated(pairwise_pairs_lr[, c(\"complex_pair\")]))"
   ]
  },
  {
   "cell_type": "code",
   "execution_count": 167,
   "id": "ba95baef",
   "metadata": {},
   "outputs": [],
   "source": [
    "# pairwise_pairs_curated %>% filter(!duplicated(pairwise_pairs_curated[, c(\"complex_pair\")]))"
   ]
  },
  {
   "cell_type": "markdown",
   "id": "38b9edd6",
   "metadata": {},
   "source": [
    "# Annotation of components\n",
    "\n",
    "The complexes are decomposed into their individual components. The Omnipath Intercell annotation database is imported and used to annotate each component. If at least two databases categorize a component as a ligand or receptor, it is annotated as such. If not, we check other possible categories such as extracellular matrix, secreted, and transmembrane "
   ]
  },
  {
   "cell_type": "code",
   "execution_count": 168,
   "id": "831d2b60",
   "metadata": {},
   "outputs": [],
   "source": [
    "# This function is to annotate the components from the PPI network with their parent category\n",
    "# The input of this function is a df with columns of \"genesymbol\", \"score\", \"parent\"\n",
    "# The output of this function is a df with columns of \"genesymbol\", \"score\", \"parent\"\n",
    "# This function is used to annotate the components from the PPI network with their parent category\n",
    "\n",
    "annotate_components <- function(components) {\n",
    "    #create a df to store annotation\n",
    "    df <- data.frame(genesymbol = character(length(components)), score = numeric(length(components)),\n",
    "                     parent = character(length(components)), stringsAsFactors = FALSE)\n",
    "    \n",
    "    # Check if the components are categorized as ligands or receptors\n",
    "    for (x in 1:length(components)) {\n",
    "    #     maxvalue=max(filter(anno, uniprot==components[x])$consensus_score)\n",
    "        genename <- components[x]\n",
    "        parent_score <- sort(table(filter(anno_lig, genesymbol==components[x])$parent), decreasing = T, na.last = T)[1]\n",
    "        parent_category <- names(parent_score)\n",
    "\n",
    "        if (is.null(parent_category)) {\n",
    "          parent_category <- \"NA\"\n",
    "          parent_score <- 0\n",
    "        }\n",
    "\n",
    "        df[x, \"genesymbol\"] <- genename\n",
    "        df[x, \"score\"] <- parent_score\n",
    "        df[x, \"parent\"] <- parent_category\n",
    "\n",
    "    #     df$genesymbol[x] <- genename\n",
    "    #     df$score[x] <- parent_score\n",
    "    #     df$parent[x] <- parent_category\n",
    "    }\n",
    "    \n",
    "    # If a component is not classified as a ligand or receptor, we may consider other categories such as \n",
    "    # extracellular matrix, secreted, and transmembrane.# annotated others such as secreted, ecm etc\n",
    "\n",
    "    df_na <- filter(df, parent==\"NA\")$genesymbol\n",
    "\n",
    "    for (x in 1:length(df_na)) {\n",
    "    #     maxvalue=max(filter(anno, uniprot==components[x])$consensus_score)\n",
    "        genesymbol <- df_na[x]\n",
    "        parent_score <- sort(table(filter(anno_raw, genesymbol==df_na[x])$parent), decreasing = T, na.last = T)[1]\n",
    "        parent_category <- names(parent_score)\n",
    "\n",
    "        df <- df %>% mutate(parent = ifelse(genesymbol == df_na[x], parent_category, parent))\n",
    "        df <- df %>% mutate(score = ifelse(genesymbol == df_na[x], parent_score, score))\n",
    "\n",
    "    }\n",
    "    \n",
    "    # replace ecm and secreted with ligand\n",
    "    df$parent <- replace(df$parent, df$parent == \"ecm\", \"ligand\")\n",
    "    df$parent <- replace(df$parent, df$parent == \"secreted\", \"ligand\")\n",
    "    \n",
    "    return(df)\n",
    "\n",
    "}"
   ]
  },
  {
   "cell_type": "code",
   "execution_count": 169,
   "id": "34d82931",
   "metadata": {},
   "outputs": [],
   "source": [
    "df_lr = annotate_components(components_lr$components)\n",
    "df_curated = annotate_components(components_curated$components)"
   ]
  },
  {
   "cell_type": "code",
   "execution_count": null,
   "id": "c42e85d2",
   "metadata": {},
   "outputs": [],
   "source": []
  },
  {
   "cell_type": "code",
   "execution_count": 170,
   "id": "b650dda8",
   "metadata": {},
   "outputs": [
    {
     "data": {
      "text/plain": [
       "\n",
       "       ligand      receptor transmembrane \n",
       "          275           198             9 "
      ]
     },
     "metadata": {},
     "output_type": "display_data"
    }
   ],
   "source": [
    "table(df_lr$parent)"
   ]
  },
  {
   "cell_type": "code",
   "execution_count": 171,
   "id": "b790c29f",
   "metadata": {},
   "outputs": [
    {
     "data": {
      "text/plain": [
       "\n",
       "       ligand      receptor transmembrane \n",
       "          221           154             3 "
      ]
     },
     "metadata": {},
     "output_type": "display_data"
    }
   ],
   "source": [
    "table(df_curated$parent)"
   ]
  },
  {
   "cell_type": "code",
   "execution_count": null,
   "id": "17fb0898",
   "metadata": {},
   "outputs": [],
   "source": []
  },
  {
   "cell_type": "markdown",
   "id": "bcd27180",
   "metadata": {},
   "source": [
    "# Linking through PPI"
   ]
  },
  {
   "cell_type": "markdown",
   "id": "93ba491b",
   "metadata": {},
   "source": [
    "We are using the Omnipath intercellular interaction network, which is the largest available network of its kind, to detect interactions rather than make predictions. The creators of the network have noted that it may contain a large number of false positives. Despite this, we are using it in combination with an annotations database to detect interactions. The network has a size of 98,165 edges."
   ]
  },
  {
   "cell_type": "code",
   "execution_count": 172,
   "id": "51471dcb",
   "metadata": {},
   "outputs": [],
   "source": [
    "# Import All post-translational interactions\n",
    "pt <- import_post_translational_interactions()"
   ]
  },
  {
   "cell_type": "code",
   "execution_count": 173,
   "id": "237bd1ac",
   "metadata": {},
   "outputs": [
    {
     "data": {
      "text/html": [],
      "text/latex": [],
      "text/markdown": [],
      "text/plain": [
       "character(0)"
      ]
     },
     "metadata": {},
     "output_type": "display_data"
    }
   ],
   "source": [
    "get_interaction_resources(dataset = c(\"omnipath,kinaseextra,pathwayextra,ligrecextra\"))"
   ]
  },
  {
   "cell_type": "code",
   "execution_count": null,
   "id": "09956e51",
   "metadata": {},
   "outputs": [],
   "source": []
  },
  {
   "cell_type": "code",
   "execution_count": 174,
   "id": "c1341988",
   "metadata": {},
   "outputs": [],
   "source": [
    "# \"Separate the annotated components of complexes based on their type.\"\n",
    "\n",
    "# This code filters the ligands and receptors from the curated and the lr dataset. It creates\n",
    "# two dataframes for each dataset, one with ligands and the other with receptors.\n",
    "# \n",
    "# This code is used to prepare the data for the analysis in the next steps. \n",
    "# \n",
    "# The function names are: filter(), which is used to filter the dataframes.\n",
    "# The identifiers used are: df_lr, df_curated, parent, ligands_lr, receptors_lr, ligands_curated,\n",
    "# receptors_curated\n",
    "\n",
    "ligands_lr <- filter(df_lr, parent==\"ligand\")\n",
    "receptors_lr <- filter(df_lr, parent==\"receptor\")\n",
    "\n",
    "ligands_curated <- filter(df_curated, parent==\"ligand\")\n",
    "receptors_curated <- filter(df_curated, parent==\"receptor\")\n"
   ]
  },
  {
   "cell_type": "code",
   "execution_count": null,
   "id": "68eead84",
   "metadata": {},
   "outputs": [],
   "source": []
  },
  {
   "cell_type": "code",
   "execution_count": 175,
   "id": "e6c6f218",
   "metadata": {},
   "outputs": [
    {
     "data": {
      "text/html": [
       "473"
      ],
      "text/latex": [
       "473"
      ],
      "text/markdown": [
       "473"
      ],
      "text/plain": [
       "[1] 473"
      ]
     },
     "metadata": {},
     "output_type": "display_data"
    }
   ],
   "source": [
    "length(c(ligands_lr$genesymbol,receptors_lr$genesymbol))"
   ]
  },
  {
   "cell_type": "code",
   "execution_count": 176,
   "id": "8ef51755",
   "metadata": {},
   "outputs": [],
   "source": [
    "# Filter the PT network to include only the components of the complexes\n",
    "# This code filters the PT data to only include rows where the source\n",
    "# gene is a ligand and the target gene is a receptor. The result is\n",
    "# saved to the pt object. We are subsetting the big PT network.\n",
    "# Later this allows us to filter through all the possbile pairwise pairs\n",
    "\n",
    "pt_lr <- pt %>%\n",
    "    dplyr::filter(source_genesymbol %in% c(ligands_lr$genesymbol,receptors_lr$genesymbol)) %>%\n",
    "    dplyr::filter(target_genesymbol %in% c(ligands_lr$genesymbol,receptors_lr$genesymbol)) %>%\n",
    "    dplyr::distinct()\n",
    "\n",
    "pt_lr <- pt\n",
    "\n",
    "\n",
    "# pt_lr <- pt %>%\n",
    "#     dplyr::filter(source_genesymbol %in% ligands_lr$genesymbol) %>%\n",
    "#     dplyr::filter(target_genesymbol %in% receptors_lr$genesymbol) %>%\n",
    "#     dplyr::distinct()\n",
    "\n",
    "# remove duplicated\n",
    "pt_lr <- pt_lr %>% filter(!duplicated(pt_lr[, c(\"source_genesymbol\", \"target_genesymbol\")]))\n",
    "\n",
    "# create pairs, so its easier to check\n",
    "pt_lr$pair=paste(pt_lr$source_genesymbol, pt_lr$target_genesymbol,sep=\"_\")\n",
    "\n",
    "\n",
    "\n",
    "pt_curated <- pt %>%\n",
    "    dplyr::filter(source_genesymbol %in% c(ligands_curated$genesymbol,receptors_curated$genesymbol)) %>%\n",
    "    dplyr::filter(target_genesymbol %in% c(ligands_curated$genesymbol,receptors_curated$genesymbol)) %>%\n",
    "    dplyr::distinct()\n",
    "\n",
    "pt_curated <- pt\n",
    "\n",
    "# pt_curated <- pt %>%\n",
    "#     dplyr::filter(source_genesymbol %in% ligands_curated$genesymbol) %>%\n",
    "#     dplyr::filter(target_genesymbol %in% receptors_curated$genesymbol) %>%\n",
    "#     dplyr::distinct()\n",
    "\n",
    "pt_curated <- pt_curated %>% filter(!duplicated(pt_curated[, c(\"source_genesymbol\", \"target_genesymbol\")]))\n",
    "pt_curated$pair=paste(pt_curated$source_genesymbol, pt_curated$target_genesymbol,sep=\"_\")\n"
   ]
  },
  {
   "cell_type": "code",
   "execution_count": 177,
   "id": "f9f68fea",
   "metadata": {},
   "outputs": [
    {
     "name": "stdout",
     "output_type": "stream",
     "text": [
      "'data.frame':\t3045 obs. of  4 variables:\n",
      " $ source      : chr  \"IL17A\" \"IL17A\" \"NPNT\" \"NPNT\" ...\n",
      " $ target      : chr  \"IL17RA\" \"IL17RC\" \"ITGA8\" \"ITGB1\" ...\n",
      " $ complex_pair: chr  \"IL17A_IL17RA_IL17RC\" \"IL17A_IL17RA_IL17RC\" \"NPNT_ITGA8_ITGB1\" \"NPNT_ITGA8_ITGB1\" ...\n",
      " $ pair        : chr  \"IL17A_IL17RA\" \"IL17A_IL17RC\" \"NPNT_ITGA8\" \"NPNT_ITGB1\" ...\n"
     ]
    }
   ],
   "source": [
    "# The data frame result_df consists of all the pairwise pair combinations, \n",
    "# and we are checking if those pairs exist in the PT network\n",
    "pt_interactions_lr <- pairwise_pairs_lr %>%\n",
    "    filter(pair %in% pt_lr$pair)\n",
    "\n",
    "# do the same for the curated\n",
    "\n",
    "pt_interactions_curated <- pairwise_pairs_curated %>%\n",
    "    filter(pair %in% pt_curated$pair)\n",
    "\n",
    "str(pt_interactions_lr)"
   ]
  },
  {
   "cell_type": "code",
   "execution_count": 178,
   "id": "176484b6",
   "metadata": {},
   "outputs": [
    {
     "name": "stdout",
     "output_type": "stream",
     "text": [
      "'data.frame':\t1879 obs. of  4 variables:\n",
      " $ source      : chr  \"IL17A\" \"IL17A\" \"ITGAL\" \"ITGB2\" ...\n",
      " $ target      : chr  \"IL17RA\" \"IL17RC\" \"ICAM1\" \"ICAM1\" ...\n",
      " $ complex_pair: chr  \"IL17A_IL17RA_IL17RC\" \"IL17A_IL17RA_IL17RC\" \"ITGAL_ITGB2_ICAM1\" \"ITGAL_ITGB2_ICAM1\" ...\n",
      " $ pair        : chr  \"IL17A_IL17RA\" \"IL17A_IL17RC\" \"ITGAL_ICAM1\" \"ITGB2_ICAM1\" ...\n"
     ]
    }
   ],
   "source": [
    "str(pt_interactions_curated)"
   ]
  },
  {
   "cell_type": "code",
   "execution_count": 179,
   "id": "b073764c",
   "metadata": {},
   "outputs": [
    {
     "data": {
      "text/html": [
       "<table class=\"dataframe\">\n",
       "<caption>A data.frame: 0 × 4</caption>\n",
       "<thead>\n",
       "\t<tr><th scope=col>source</th><th scope=col>target</th><th scope=col>complex_pair</th><th scope=col>pair</th></tr>\n",
       "\t<tr><th scope=col>&lt;chr&gt;</th><th scope=col>&lt;chr&gt;</th><th scope=col>&lt;chr&gt;</th><th scope=col>&lt;chr&gt;</th></tr>\n",
       "</thead>\n",
       "<tbody>\n",
       "</tbody>\n",
       "</table>\n"
      ],
      "text/latex": [
       "A data.frame: 0 × 4\n",
       "\\begin{tabular}{llll}\n",
       " source & target & complex\\_pair & pair\\\\\n",
       " <chr> & <chr> & <chr> & <chr>\\\\\n",
       "\\hline\n",
       "\\end{tabular}\n"
      ],
      "text/markdown": [
       "\n",
       "A data.frame: 0 × 4\n",
       "\n",
       "| source &lt;chr&gt; | target &lt;chr&gt; | complex_pair &lt;chr&gt; | pair &lt;chr&gt; |\n",
       "|---|---|---|---|\n",
       "\n"
      ],
      "text/plain": [
       "     source target complex_pair pair"
      ]
     },
     "metadata": {},
     "output_type": "display_data"
    }
   ],
   "source": [
    "filter(pt_interactions_curated, !pair %in% pt_interactions_lr$pair)"
   ]
  },
  {
   "cell_type": "code",
   "execution_count": 180,
   "id": "59e1a474",
   "metadata": {
    "scrolled": true
   },
   "outputs": [
    {
     "data": {
      "text/html": [
       "<table class=\"dataframe\">\n",
       "<caption>A data.frame: 6 × 4</caption>\n",
       "<thead>\n",
       "\t<tr><th></th><th scope=col>source</th><th scope=col>target</th><th scope=col>complex_pair</th><th scope=col>pair</th></tr>\n",
       "\t<tr><th></th><th scope=col>&lt;chr&gt;</th><th scope=col>&lt;chr&gt;</th><th scope=col>&lt;chr&gt;</th><th scope=col>&lt;chr&gt;</th></tr>\n",
       "</thead>\n",
       "<tbody>\n",
       "\t<tr><th scope=row>1</th><td>IL17A</td><td>IL17RA</td><td>IL17A_IL17RA_IL17RC</td><td>IL17A_IL17RA</td></tr>\n",
       "\t<tr><th scope=row>2</th><td>IL17A</td><td>IL17RC</td><td>IL17A_IL17RA_IL17RC</td><td>IL17A_IL17RC</td></tr>\n",
       "\t<tr><th scope=row>3</th><td>NPNT </td><td>ITGA8 </td><td>NPNT_ITGA8_ITGB1   </td><td>NPNT_ITGA8  </td></tr>\n",
       "\t<tr><th scope=row>4</th><td>NPNT </td><td>ITGB1 </td><td>NPNT_ITGA8_ITGB1   </td><td>NPNT_ITGB1  </td></tr>\n",
       "\t<tr><th scope=row>5</th><td>ITGAL</td><td>ICAM1 </td><td>ITGAL_ITGB2_ICAM1  </td><td>ITGAL_ICAM1 </td></tr>\n",
       "\t<tr><th scope=row>6</th><td>ITGB2</td><td>ICAM1 </td><td>ITGAL_ITGB2_ICAM1  </td><td>ITGB2_ICAM1 </td></tr>\n",
       "</tbody>\n",
       "</table>\n"
      ],
      "text/latex": [
       "A data.frame: 6 × 4\n",
       "\\begin{tabular}{r|llll}\n",
       "  & source & target & complex\\_pair & pair\\\\\n",
       "  & <chr> & <chr> & <chr> & <chr>\\\\\n",
       "\\hline\n",
       "\t1 & IL17A & IL17RA & IL17A\\_IL17RA\\_IL17RC & IL17A\\_IL17RA\\\\\n",
       "\t2 & IL17A & IL17RC & IL17A\\_IL17RA\\_IL17RC & IL17A\\_IL17RC\\\\\n",
       "\t3 & NPNT  & ITGA8  & NPNT\\_ITGA8\\_ITGB1    & NPNT\\_ITGA8  \\\\\n",
       "\t4 & NPNT  & ITGB1  & NPNT\\_ITGA8\\_ITGB1    & NPNT\\_ITGB1  \\\\\n",
       "\t5 & ITGAL & ICAM1  & ITGAL\\_ITGB2\\_ICAM1   & ITGAL\\_ICAM1 \\\\\n",
       "\t6 & ITGB2 & ICAM1  & ITGAL\\_ITGB2\\_ICAM1   & ITGB2\\_ICAM1 \\\\\n",
       "\\end{tabular}\n"
      ],
      "text/markdown": [
       "\n",
       "A data.frame: 6 × 4\n",
       "\n",
       "| <!--/--> | source &lt;chr&gt; | target &lt;chr&gt; | complex_pair &lt;chr&gt; | pair &lt;chr&gt; |\n",
       "|---|---|---|---|---|\n",
       "| 1 | IL17A | IL17RA | IL17A_IL17RA_IL17RC | IL17A_IL17RA |\n",
       "| 2 | IL17A | IL17RC | IL17A_IL17RA_IL17RC | IL17A_IL17RC |\n",
       "| 3 | NPNT  | ITGA8  | NPNT_ITGA8_ITGB1    | NPNT_ITGA8   |\n",
       "| 4 | NPNT  | ITGB1  | NPNT_ITGA8_ITGB1    | NPNT_ITGB1   |\n",
       "| 5 | ITGAL | ICAM1  | ITGAL_ITGB2_ICAM1   | ITGAL_ICAM1  |\n",
       "| 6 | ITGB2 | ICAM1  | ITGAL_ITGB2_ICAM1   | ITGB2_ICAM1  |\n",
       "\n"
      ],
      "text/plain": [
       "  source target complex_pair        pair        \n",
       "1 IL17A  IL17RA IL17A_IL17RA_IL17RC IL17A_IL17RA\n",
       "2 IL17A  IL17RC IL17A_IL17RA_IL17RC IL17A_IL17RC\n",
       "3 NPNT   ITGA8  NPNT_ITGA8_ITGB1    NPNT_ITGA8  \n",
       "4 NPNT   ITGB1  NPNT_ITGA8_ITGB1    NPNT_ITGB1  \n",
       "5 ITGAL  ICAM1  ITGAL_ITGB2_ICAM1   ITGAL_ICAM1 \n",
       "6 ITGB2  ICAM1  ITGAL_ITGB2_ICAM1   ITGB2_ICAM1 "
      ]
     },
     "metadata": {},
     "output_type": "display_data"
    }
   ],
   "source": [
    "head(pt_interactions_lr)"
   ]
  },
  {
   "cell_type": "code",
   "execution_count": 181,
   "id": "8f43b15b",
   "metadata": {},
   "outputs": [
    {
     "data": {
      "text/html": [
       "96"
      ],
      "text/latex": [
       "96"
      ],
      "text/markdown": [
       "96"
      ],
      "text/plain": [
       "[1] 96"
      ]
     },
     "metadata": {},
     "output_type": "display_data"
    }
   ],
   "source": [
    "length(setdiff(pairwise_pairs_curated$complex_pair, pt_interactions_curated$complex_pair))"
   ]
  },
  {
   "cell_type": "code",
   "execution_count": 182,
   "id": "512a121f",
   "metadata": {},
   "outputs": [
    {
     "data": {
      "text/html": [
       "3045"
      ],
      "text/latex": [
       "3045"
      ],
      "text/markdown": [
       "3045"
      ],
      "text/plain": [
       "[1] 3045"
      ]
     },
     "metadata": {},
     "output_type": "display_data"
    }
   ],
   "source": [
    "nrow(pt_interactions_lr)"
   ]
  },
  {
   "cell_type": "code",
   "execution_count": 183,
   "id": "217142ba",
   "metadata": {
    "scrolled": true
   },
   "outputs": [
    {
     "data": {
      "text/html": [
       "1879"
      ],
      "text/latex": [
       "1879"
      ],
      "text/markdown": [
       "1879"
      ],
      "text/plain": [
       "[1] 1879"
      ]
     },
     "metadata": {},
     "output_type": "display_data"
    }
   ],
   "source": [
    "nrow(pt_interactions_curated)"
   ]
  },
  {
   "cell_type": "markdown",
   "id": "1a4f157d",
   "metadata": {},
   "source": [
    "**In below we demonstrate that all the possible pairs are produced orginating from the complex pair ```IL17A_IL17RA_IL17RC``` and through PT database, we filter out those does not exist in the PPI.**"
   ]
  },
  {
   "cell_type": "code",
   "execution_count": 184,
   "id": "a522665e",
   "metadata": {},
   "outputs": [
    {
     "data": {
      "text/html": [
       "<table class=\"dataframe\">\n",
       "<caption>A data.frame: 6 × 4</caption>\n",
       "<thead>\n",
       "\t<tr><th scope=col>source</th><th scope=col>target</th><th scope=col>complex_pair</th><th scope=col>pair</th></tr>\n",
       "\t<tr><th scope=col>&lt;chr&gt;</th><th scope=col>&lt;chr&gt;</th><th scope=col>&lt;chr&gt;</th><th scope=col>&lt;chr&gt;</th></tr>\n",
       "</thead>\n",
       "<tbody>\n",
       "\t<tr><td>IL17A </td><td>IL17RA</td><td>IL17A_IL17RA_IL17RC</td><td>IL17A_IL17RA </td></tr>\n",
       "\t<tr><td>IL17A </td><td>IL17RC</td><td>IL17A_IL17RA_IL17RC</td><td>IL17A_IL17RC </td></tr>\n",
       "\t<tr><td>IL17RA</td><td>IL17RC</td><td>IL17A_IL17RA_IL17RC</td><td>IL17RA_IL17RC</td></tr>\n",
       "\t<tr><td>IL17RA</td><td>IL17A </td><td>IL17A_IL17RA_IL17RC</td><td>IL17RA_IL17A </td></tr>\n",
       "\t<tr><td>IL17RC</td><td>IL17A </td><td>IL17A_IL17RA_IL17RC</td><td>IL17RC_IL17A </td></tr>\n",
       "\t<tr><td>IL17RC</td><td>IL17RA</td><td>IL17A_IL17RA_IL17RC</td><td>IL17RC_IL17RA</td></tr>\n",
       "</tbody>\n",
       "</table>\n"
      ],
      "text/latex": [
       "A data.frame: 6 × 4\n",
       "\\begin{tabular}{llll}\n",
       " source & target & complex\\_pair & pair\\\\\n",
       " <chr> & <chr> & <chr> & <chr>\\\\\n",
       "\\hline\n",
       "\t IL17A  & IL17RA & IL17A\\_IL17RA\\_IL17RC & IL17A\\_IL17RA \\\\\n",
       "\t IL17A  & IL17RC & IL17A\\_IL17RA\\_IL17RC & IL17A\\_IL17RC \\\\\n",
       "\t IL17RA & IL17RC & IL17A\\_IL17RA\\_IL17RC & IL17RA\\_IL17RC\\\\\n",
       "\t IL17RA & IL17A  & IL17A\\_IL17RA\\_IL17RC & IL17RA\\_IL17A \\\\\n",
       "\t IL17RC & IL17A  & IL17A\\_IL17RA\\_IL17RC & IL17RC\\_IL17A \\\\\n",
       "\t IL17RC & IL17RA & IL17A\\_IL17RA\\_IL17RC & IL17RC\\_IL17RA\\\\\n",
       "\\end{tabular}\n"
      ],
      "text/markdown": [
       "\n",
       "A data.frame: 6 × 4\n",
       "\n",
       "| source &lt;chr&gt; | target &lt;chr&gt; | complex_pair &lt;chr&gt; | pair &lt;chr&gt; |\n",
       "|---|---|---|---|\n",
       "| IL17A  | IL17RA | IL17A_IL17RA_IL17RC | IL17A_IL17RA  |\n",
       "| IL17A  | IL17RC | IL17A_IL17RA_IL17RC | IL17A_IL17RC  |\n",
       "| IL17RA | IL17RC | IL17A_IL17RA_IL17RC | IL17RA_IL17RC |\n",
       "| IL17RA | IL17A  | IL17A_IL17RA_IL17RC | IL17RA_IL17A  |\n",
       "| IL17RC | IL17A  | IL17A_IL17RA_IL17RC | IL17RC_IL17A  |\n",
       "| IL17RC | IL17RA | IL17A_IL17RA_IL17RC | IL17RC_IL17RA |\n",
       "\n"
      ],
      "text/plain": [
       "  source target complex_pair        pair         \n",
       "1 IL17A  IL17RA IL17A_IL17RA_IL17RC IL17A_IL17RA \n",
       "2 IL17A  IL17RC IL17A_IL17RA_IL17RC IL17A_IL17RC \n",
       "3 IL17RA IL17RC IL17A_IL17RA_IL17RC IL17RA_IL17RC\n",
       "4 IL17RA IL17A  IL17A_IL17RA_IL17RC IL17RA_IL17A \n",
       "5 IL17RC IL17A  IL17A_IL17RA_IL17RC IL17RC_IL17A \n",
       "6 IL17RC IL17RA IL17A_IL17RA_IL17RC IL17RC_IL17RA"
      ]
     },
     "metadata": {},
     "output_type": "display_data"
    }
   ],
   "source": [
    "filter(pairwise_pairs_lr, complex_pair==\"IL17A_IL17RA_IL17RC\")"
   ]
  },
  {
   "cell_type": "code",
   "execution_count": 185,
   "id": "b2e27119",
   "metadata": {},
   "outputs": [
    {
     "data": {
      "text/html": [
       "<table class=\"dataframe\">\n",
       "<caption>A data.frame: 3 × 4</caption>\n",
       "<thead>\n",
       "\t<tr><th scope=col>source</th><th scope=col>target</th><th scope=col>complex_pair</th><th scope=col>pair</th></tr>\n",
       "\t<tr><th scope=col>&lt;chr&gt;</th><th scope=col>&lt;chr&gt;</th><th scope=col>&lt;chr&gt;</th><th scope=col>&lt;chr&gt;</th></tr>\n",
       "</thead>\n",
       "<tbody>\n",
       "\t<tr><td>IL17A </td><td>IL17RA</td><td>IL17A_IL17RA_IL17RC</td><td>IL17A_IL17RA</td></tr>\n",
       "\t<tr><td>IL17A </td><td>IL17RC</td><td>IL17A_IL17RA_IL17RC</td><td>IL17A_IL17RC</td></tr>\n",
       "\t<tr><td>IL17RA</td><td>IL17A </td><td>IL17A_IL17RA_IL17RC</td><td>IL17RA_IL17A</td></tr>\n",
       "</tbody>\n",
       "</table>\n"
      ],
      "text/latex": [
       "A data.frame: 3 × 4\n",
       "\\begin{tabular}{llll}\n",
       " source & target & complex\\_pair & pair\\\\\n",
       " <chr> & <chr> & <chr> & <chr>\\\\\n",
       "\\hline\n",
       "\t IL17A  & IL17RA & IL17A\\_IL17RA\\_IL17RC & IL17A\\_IL17RA\\\\\n",
       "\t IL17A  & IL17RC & IL17A\\_IL17RA\\_IL17RC & IL17A\\_IL17RC\\\\\n",
       "\t IL17RA & IL17A  & IL17A\\_IL17RA\\_IL17RC & IL17RA\\_IL17A\\\\\n",
       "\\end{tabular}\n"
      ],
      "text/markdown": [
       "\n",
       "A data.frame: 3 × 4\n",
       "\n",
       "| source &lt;chr&gt; | target &lt;chr&gt; | complex_pair &lt;chr&gt; | pair &lt;chr&gt; |\n",
       "|---|---|---|---|\n",
       "| IL17A  | IL17RA | IL17A_IL17RA_IL17RC | IL17A_IL17RA |\n",
       "| IL17A  | IL17RC | IL17A_IL17RA_IL17RC | IL17A_IL17RC |\n",
       "| IL17RA | IL17A  | IL17A_IL17RA_IL17RC | IL17RA_IL17A |\n",
       "\n"
      ],
      "text/plain": [
       "  source target complex_pair        pair        \n",
       "1 IL17A  IL17RA IL17A_IL17RA_IL17RC IL17A_IL17RA\n",
       "2 IL17A  IL17RC IL17A_IL17RA_IL17RC IL17A_IL17RC\n",
       "3 IL17RA IL17A  IL17A_IL17RA_IL17RC IL17RA_IL17A"
      ]
     },
     "metadata": {},
     "output_type": "display_data"
    }
   ],
   "source": [
    "filter(pt_interactions_lr, complex_pair==\"IL17A_IL17RA_IL17RC\")"
   ]
  },
  {
   "cell_type": "code",
   "execution_count": 186,
   "id": "630d7878",
   "metadata": {},
   "outputs": [
    {
     "data": {
      "text/html": [
       "<table class=\"dataframe\">\n",
       "<caption>A data.frame: 6 × 4</caption>\n",
       "<thead>\n",
       "\t<tr><th scope=col>source</th><th scope=col>target</th><th scope=col>complex_pair</th><th scope=col>pair</th></tr>\n",
       "\t<tr><th scope=col>&lt;chr&gt;</th><th scope=col>&lt;chr&gt;</th><th scope=col>&lt;chr&gt;</th><th scope=col>&lt;chr&gt;</th></tr>\n",
       "</thead>\n",
       "<tbody>\n",
       "\t<tr><td>ITGAL</td><td>ITGB2</td><td>ITGAL_ITGB2_ICAM1</td><td>ITGAL_ITGB2</td></tr>\n",
       "\t<tr><td>ITGAL</td><td>ICAM1</td><td>ITGAL_ITGB2_ICAM1</td><td>ITGAL_ICAM1</td></tr>\n",
       "\t<tr><td>ITGB2</td><td>ICAM1</td><td>ITGAL_ITGB2_ICAM1</td><td>ITGB2_ICAM1</td></tr>\n",
       "\t<tr><td>ITGB2</td><td>ITGAL</td><td>ITGAL_ITGB2_ICAM1</td><td>ITGB2_ITGAL</td></tr>\n",
       "\t<tr><td>ICAM1</td><td>ITGAL</td><td>ITGAL_ITGB2_ICAM1</td><td>ICAM1_ITGAL</td></tr>\n",
       "\t<tr><td>ICAM1</td><td>ITGB2</td><td>ITGAL_ITGB2_ICAM1</td><td>ICAM1_ITGB2</td></tr>\n",
       "</tbody>\n",
       "</table>\n"
      ],
      "text/latex": [
       "A data.frame: 6 × 4\n",
       "\\begin{tabular}{llll}\n",
       " source & target & complex\\_pair & pair\\\\\n",
       " <chr> & <chr> & <chr> & <chr>\\\\\n",
       "\\hline\n",
       "\t ITGAL & ITGB2 & ITGAL\\_ITGB2\\_ICAM1 & ITGAL\\_ITGB2\\\\\n",
       "\t ITGAL & ICAM1 & ITGAL\\_ITGB2\\_ICAM1 & ITGAL\\_ICAM1\\\\\n",
       "\t ITGB2 & ICAM1 & ITGAL\\_ITGB2\\_ICAM1 & ITGB2\\_ICAM1\\\\\n",
       "\t ITGB2 & ITGAL & ITGAL\\_ITGB2\\_ICAM1 & ITGB2\\_ITGAL\\\\\n",
       "\t ICAM1 & ITGAL & ITGAL\\_ITGB2\\_ICAM1 & ICAM1\\_ITGAL\\\\\n",
       "\t ICAM1 & ITGB2 & ITGAL\\_ITGB2\\_ICAM1 & ICAM1\\_ITGB2\\\\\n",
       "\\end{tabular}\n"
      ],
      "text/markdown": [
       "\n",
       "A data.frame: 6 × 4\n",
       "\n",
       "| source &lt;chr&gt; | target &lt;chr&gt; | complex_pair &lt;chr&gt; | pair &lt;chr&gt; |\n",
       "|---|---|---|---|\n",
       "| ITGAL | ITGB2 | ITGAL_ITGB2_ICAM1 | ITGAL_ITGB2 |\n",
       "| ITGAL | ICAM1 | ITGAL_ITGB2_ICAM1 | ITGAL_ICAM1 |\n",
       "| ITGB2 | ICAM1 | ITGAL_ITGB2_ICAM1 | ITGB2_ICAM1 |\n",
       "| ITGB2 | ITGAL | ITGAL_ITGB2_ICAM1 | ITGB2_ITGAL |\n",
       "| ICAM1 | ITGAL | ITGAL_ITGB2_ICAM1 | ICAM1_ITGAL |\n",
       "| ICAM1 | ITGB2 | ITGAL_ITGB2_ICAM1 | ICAM1_ITGB2 |\n",
       "\n"
      ],
      "text/plain": [
       "  source target complex_pair      pair       \n",
       "1 ITGAL  ITGB2  ITGAL_ITGB2_ICAM1 ITGAL_ITGB2\n",
       "2 ITGAL  ICAM1  ITGAL_ITGB2_ICAM1 ITGAL_ICAM1\n",
       "3 ITGB2  ICAM1  ITGAL_ITGB2_ICAM1 ITGB2_ICAM1\n",
       "4 ITGB2  ITGAL  ITGAL_ITGB2_ICAM1 ITGB2_ITGAL\n",
       "5 ICAM1  ITGAL  ITGAL_ITGB2_ICAM1 ICAM1_ITGAL\n",
       "6 ICAM1  ITGB2  ITGAL_ITGB2_ICAM1 ICAM1_ITGB2"
      ]
     },
     "metadata": {},
     "output_type": "display_data"
    }
   ],
   "source": [
    "filter(pairwise_pairs_lr, complex_pair==\"ITGAL_ITGB2_ICAM1\")"
   ]
  },
  {
   "cell_type": "code",
   "execution_count": 187,
   "id": "8dedcf26",
   "metadata": {},
   "outputs": [],
   "source": [
    "# hist(pairwise_pairs_lr$complex_pair, breaks=3, col=\"red\")"
   ]
  },
  {
   "cell_type": "code",
   "execution_count": 188,
   "id": "859daf5b",
   "metadata": {},
   "outputs": [],
   "source": [
    "table_data <- as.data.frame(table(pairwise_pairs_lr$complex_pair))"
   ]
  },
  {
   "cell_type": "code",
   "execution_count": 189,
   "id": "105fc257",
   "metadata": {},
   "outputs": [
    {
     "data": {
      "image/png": "[encoded data removed]",
      "text/plain": [
       "Plot with title “density.default(x = table_data$Freq)”"
      ]
     },
     "metadata": {
      "image/png": {
       "height": 420,
       "width": 420
      }
     },
     "output_type": "display_data"
    }
   ],
   "source": [
    "d <- density(table_data$Freq) # returns the density data\n",
    "plot(d) # plots the results"
   ]
  },
  {
   "cell_type": "code",
   "execution_count": 190,
   "id": "595f714d",
   "metadata": {},
   "outputs": [],
   "source": [
    "table_data <- as.data.frame(table(pairwise_pairs_lr$complex_pair))"
   ]
  },
  {
   "cell_type": "code",
   "execution_count": 191,
   "id": "5ea1c4e1",
   "metadata": {},
   "outputs": [
    {
     "data": {
      "text/html": [
       "<strong>png:</strong> 2"
      ],
      "text/latex": [
       "\\textbf{png:} 2"
      ],
      "text/markdown": [
       "**png:** 2"
      ],
      "text/plain": [
       "png \n",
       "  2 "
      ]
     },
     "metadata": {},
     "output_type": "display_data"
    }
   ],
   "source": [
    "jpeg(file=\"Number of binary pairs produced.jpeg\")\n",
    "table_data <- table(pairwise_pairs_lr$complex_pair)\n",
    "hist(table_data, main = \"Number of binary pairs produced from complex\", xlab = \"# of binary originating from a single complex\", ylab = \"Count\")\n",
    "dev.off()"
   ]
  },
  {
   "cell_type": "code",
   "execution_count": 192,
   "id": "e52253b3",
   "metadata": {},
   "outputs": [],
   "source": [
    "table_data <- as.data.frame(table(pt_interactions_lr$complex_pair))"
   ]
  },
  {
   "cell_type": "code",
   "execution_count": 193,
   "id": "547659e0",
   "metadata": {},
   "outputs": [
    {
     "name": "stderr",
     "output_type": "stream",
     "text": [
      "\u001b[1m\u001b[22mSaving 6.67 x 6.67 in image\n"
     ]
    },
    {
     "data": {
      "image/png": "[encoded data removed]",
      "text/plain": [
       "plot without title"
      ]
     },
     "metadata": {
      "image/png": {
       "height": 420,
       "width": 420
      }
     },
     "output_type": "display_data"
    }
   ],
   "source": [
    "ggplot(table_data, aes(x=Freq)) +\n",
    "    geom_histogram(binwidth=.5, colour=\"black\", fill=\"white\") +\n",
    "    geom_vline(aes(xintercept=mean(Freq, na.rm=T)),   # Ignore NA values for mean\n",
    "               color=\"red\", linetype=\"dashed\", size=1)\n",
    "ggsave(\"binaries found.jpeg\")"
   ]
  },
  {
   "cell_type": "code",
   "execution_count": 194,
   "id": "bd3016dd",
   "metadata": {},
   "outputs": [
    {
     "data": {
      "image/png": "[encoded data removed]",
      "text/plain": [
       "Plot with title “Number of binary pairs produced from complex”"
      ]
     },
     "metadata": {
      "image/png": {
       "height": 420,
       "width": 420
      }
     },
     "output_type": "display_data"
    }
   ],
   "source": [
    "table_data <- table(pt_interactions_lr$complex_pair)\n",
    "hist(table_data, main = \"Number of binary pairs produced from complex\", xlab = \"# of binary originating from a single complex\", ylab = \"Count\")\n"
   ]
  },
  {
   "cell_type": "markdown",
   "id": "97acc778",
   "metadata": {},
   "source": [
    "# Complexes are broken down, now we can combine with the rest of the db"
   ]
  },
  {
   "cell_type": "code",
   "execution_count": 195,
   "id": "1c3cbeb9",
   "metadata": {},
   "outputs": [],
   "source": [
    "# This function merges the single components of the complexes that are detected through PT_DB with \n",
    "# the single components of the complexes detected through OmniPath\n",
    "# The function takes as input the OmniPath data frame and the pt_interactions (which the complex are broken down)\n",
    "\n",
    "merge_single_complex <- function(OmniPath, pt_interactions){\n",
    "    single_components = filter(OmniPath, !grepl('COMPLEX', target) & !grepl('COMPLEX',source))\n",
    "    \n",
    "    single_components <- single_components %>%\n",
    "      dplyr::select(source_genesymbol, target_genesymbol) %>%\n",
    "      dplyr::rename(source=source_genesymbol, target=target_genesymbol) %>%\n",
    "      dplyr::mutate(complex_pair = NA)    \n",
    "    \n",
    "    single_components$pair <- paste(single_components$source, single_components$target, sep=\"_\")\n",
    "    \n",
    "    #merge the single ones, with complexes componenets that are detected via PT_DB\n",
    "    complete <- rbind(single_components, pt_interactions)\n",
    "    \n",
    "    #remove the duplicated ones, and drop the last ones, which are coming from the complexes\n",
    "    complete <- complete[ !duplicated(complete[, \"pair\"], fromLast=F),]\n",
    "    \n",
    "    return(complete)\n",
    "}"
   ]
  },
  {
   "cell_type": "code",
   "execution_count": 196,
   "id": "3baad2a0",
   "metadata": {},
   "outputs": [],
   "source": [
    "lr_binary=filter(lr, !grepl('COMPLEX', target) & !grepl('COMPLEX',source))"
   ]
  },
  {
   "cell_type": "code",
   "execution_count": 197,
   "id": "a4d6648b",
   "metadata": {},
   "outputs": [],
   "source": [
    "curated_binary=filter(curated, !grepl('COMPLEX', target) & !grepl('COMPLEX',source))"
   ]
  },
  {
   "cell_type": "code",
   "execution_count": 198,
   "id": "d27dec5b",
   "metadata": {},
   "outputs": [],
   "source": [
    "merged=rbind(lr_binary,curated_binary)"
   ]
  },
  {
   "cell_type": "code",
   "execution_count": 199,
   "id": "64e0a95f",
   "metadata": {},
   "outputs": [],
   "source": [
    "merged$pair <- paste(merged$source, merged$target, sep=\"_\")"
   ]
  },
  {
   "cell_type": "code",
   "execution_count": 200,
   "id": "bc69ce5a",
   "metadata": {},
   "outputs": [
    {
     "data": {
      "text/html": [
       "6984"
      ],
      "text/latex": [
       "6984"
      ],
      "text/markdown": [
       "6984"
      ],
      "text/plain": [
       "[1] 6984"
      ]
     },
     "metadata": {},
     "output_type": "display_data"
    }
   ],
   "source": [
    "length(unique(merged$pair))"
   ]
  },
  {
   "cell_type": "code",
   "execution_count": 201,
   "id": "26f7abfe",
   "metadata": {},
   "outputs": [],
   "source": [
    "lr_complex=filter(lr, grepl('COMPLEX', target) | grepl('COMPLEX',source))"
   ]
  },
  {
   "cell_type": "code",
   "execution_count": 202,
   "id": "ad3f42d1",
   "metadata": {},
   "outputs": [],
   "source": [
    "curated_complex=filter(curated, grepl('COMPLEX', target) | grepl('COMPLEX',source))"
   ]
  },
  {
   "cell_type": "code",
   "execution_count": 203,
   "id": "fe2dcffd",
   "metadata": {},
   "outputs": [],
   "source": [
    "merged=rbind(lr_complex,curated_complex)\n",
    "merged$pair <- paste(merged$source, merged$target, sep=\"_\")"
   ]
  },
  {
   "cell_type": "code",
   "execution_count": 204,
   "id": "84312880",
   "metadata": {},
   "outputs": [
    {
     "data": {
      "text/html": [
       "1352"
      ],
      "text/latex": [
       "1352"
      ],
      "text/markdown": [
       "1352"
      ],
      "text/plain": [
       "[1] 1352"
      ]
     },
     "metadata": {},
     "output_type": "display_data"
    }
   ],
   "source": [
    "length(unique(merged$pair))"
   ]
  },
  {
   "cell_type": "code",
   "execution_count": null,
   "id": "281b13ed",
   "metadata": {},
   "outputs": [],
   "source": []
  },
  {
   "cell_type": "code",
   "execution_count": 205,
   "id": "b1d17d94",
   "metadata": {},
   "outputs": [],
   "source": [
    "complete_lr <- merge_single_complex(lr, pt_interactions_lr)\n",
    "complete_curated <- merge_single_complex(curated, pt_interactions_curated)"
   ]
  },
  {
   "cell_type": "markdown",
   "id": "07e813e2",
   "metadata": {},
   "source": [
    "# Gene Descriptions\n",
    "\n",
    "We use mygene library to get the gene descriptions"
   ]
  },
  {
   "cell_type": "code",
   "execution_count": 206,
   "id": "da3179b6",
   "metadata": {},
   "outputs": [],
   "source": [
    "library(mygene)"
   ]
  },
  {
   "cell_type": "code",
   "execution_count": 207,
   "id": "78b3f12b",
   "metadata": {},
   "outputs": [],
   "source": [
    "# map_gene_descriptions function:\n",
    "# 1. maps gene symbols to gene descriptions using the queryMany function\n",
    "# 2. maps the protein descriptions to the dataset\n",
    "# 3. reorders columns and renames columns\n",
    "\n",
    "map_gene_descriptions <- function(complete) {\n",
    "    # get gene symbols\n",
    "    gene_symbols <- unique(c(complete$source,complete$target))\n",
    "    \n",
    "    prot_descriptions <- queryMany(gene_symbols, scopes = \"symbol\", \n",
    "                              fields = c(\"name\"), \n",
    "                              species = \"human\", as_dataframe = \"True\")\n",
    "    \n",
    "    prot_descriptions <- as.data.frame(prot_descriptions)\n",
    "    \n",
    "    #map protein descriptions to complete set\n",
    "\n",
    "    for (x in 1:nrow(complete)) {\n",
    "        ligand_symbol=complete[x,]$source\n",
    "        receptor_symbol=complete[x,]$target\n",
    "        ligand_description=filter(prot_descriptions, query==ligand_symbol)$name\n",
    "        receptor_description=filter(prot_descriptions, query==receptor_symbol)$name\n",
    "        lig_id=filter(anno_raw, genesymbol==ligand_symbol)$uniprot[1]\n",
    "        rec_id=filter(anno_raw, genesymbol==receptor_symbol)$uniprot[1]\n",
    "\n",
    "        if (ligand_symbol==\"PIK3CD-AS1\") {\n",
    "          lig_id <- \"O00329\"\n",
    "        }\n",
    "\n",
    "    #     if (is.null(receptor_description)) {\n",
    "    #       receptor_description <- \"NA\"\n",
    "    #     }\n",
    "\n",
    "\n",
    "        complete[x, \"ligand.name\"] = ligand_description[1]\n",
    "        complete[x, \"receptor.name\"] = receptor_description[1]\n",
    "        complete[x, \"partner_a\"] = lig_id\n",
    "        complete[x, \"partner_b\"] = rec_id\n",
    "    }\n",
    "    \n",
    "    #reorder columns\n",
    "    complete <- complete[, c(\"pair\", \"source\", \"ligand.name\", \"target\", \"receptor.name\", \"complex_pair\",\n",
    "                             \"partner_a\",\"partner_b\")]\n",
    "    #rename column names\n",
    "    names(complete) <- c(\"Pair.Name\", \"Ligand\", \"Ligand.Name\", \"Receptor\", \"Receptor.Name\", \"complex_pair\",\n",
    "                        \"partner_a\",\"partner_b\")\n",
    "    \n",
    "    return(complete)\n",
    "}"
   ]
  },
  {
   "cell_type": "code",
   "execution_count": 208,
   "id": "342b9769",
   "metadata": {},
   "outputs": [
    {
     "name": "stderr",
     "output_type": "stream",
     "text": [
      "Querying chunk 1\n",
      "\n",
      "Querying chunk 2\n",
      "\n",
      "Querying chunk 3\n",
      "\n"
     ]
    },
    {
     "name": "stdout",
     "output_type": "stream",
     "text": [
      "Finished\n",
      "Pass returnall=TRUE to return lists of duplicate or missing query terms.\n"
     ]
    }
   ],
   "source": [
    "complete_lr <- map_gene_descriptions(complete_lr)"
   ]
  },
  {
   "cell_type": "code",
   "execution_count": 209,
   "id": "2b711e3c",
   "metadata": {},
   "outputs": [
    {
     "name": "stderr",
     "output_type": "stream",
     "text": [
      "Querying chunk 1\n",
      "\n",
      "Querying chunk 2\n",
      "\n"
     ]
    },
    {
     "name": "stdout",
     "output_type": "stream",
     "text": [
      "Finished\n",
      "Pass returnall=TRUE to return lists of duplicate or missing query terms.\n"
     ]
    }
   ],
   "source": [
    "complete_curated <- map_gene_descriptions(complete_curated)"
   ]
  },
  {
   "cell_type": "code",
   "execution_count": 210,
   "id": "74a4ab0c",
   "metadata": {},
   "outputs": [
    {
     "data": {
      "text/html": [
       "<table class=\"dataframe\">\n",
       "<caption>A tibble: 6 × 8</caption>\n",
       "<thead>\n",
       "\t<tr><th scope=col>Pair.Name</th><th scope=col>Ligand</th><th scope=col>Ligand.Name</th><th scope=col>Receptor</th><th scope=col>Receptor.Name</th><th scope=col>complex_pair</th><th scope=col>partner_a</th><th scope=col>partner_b</th></tr>\n",
       "\t<tr><th scope=col>&lt;chr&gt;</th><th scope=col>&lt;chr&gt;</th><th scope=col>&lt;chr&gt;</th><th scope=col>&lt;chr&gt;</th><th scope=col>&lt;chr&gt;</th><th scope=col>&lt;chr&gt;</th><th scope=col>&lt;chr&gt;</th><th scope=col>&lt;chr&gt;</th></tr>\n",
       "</thead>\n",
       "<tbody>\n",
       "\t<tr><td>EPO_EPOR    </td><td>EPO   </td><td>erythropoietin                 </td><td>EPOR </td><td>erythropoietin receptor                     </td><td>NA</td><td>P01588</td><td>P19235</td></tr>\n",
       "\t<tr><td>CXCL16_CXCR6</td><td>CXCL16</td><td>C-X-C motif chemokine ligand 16</td><td>CXCR6</td><td>C-X-C motif chemokine receptor 6            </td><td>NA</td><td>Q9H2A7</td><td>O00574</td></tr>\n",
       "\t<tr><td>KITLG_KIT   </td><td>KITLG </td><td>KIT ligand                     </td><td>KIT  </td><td>KIT proto-oncogene, receptor tyrosine kinase</td><td>NA</td><td>P21583</td><td>P10721</td></tr>\n",
       "\t<tr><td>CXCL9_CXCR3 </td><td>CXCL9 </td><td>C-X-C motif chemokine ligand 9 </td><td>CXCR3</td><td>C-X-C motif chemokine receptor 3            </td><td>NA</td><td>Q07325</td><td>P49682</td></tr>\n",
       "\t<tr><td>CCL5_CCR5   </td><td>CCL5  </td><td>C-C motif chemokine ligand 5   </td><td>CCR5 </td><td>C-C motif chemokine receptor 5              </td><td>NA</td><td>P13501</td><td>P51681</td></tr>\n",
       "\t<tr><td>CCL8_CCR5   </td><td>CCL8  </td><td>C-C motif chemokine ligand 8   </td><td>CCR5 </td><td>C-C motif chemokine receptor 5              </td><td>NA</td><td>P80075</td><td>P51681</td></tr>\n",
       "</tbody>\n",
       "</table>\n"
      ],
      "text/latex": [
       "A tibble: 6 × 8\n",
       "\\begin{tabular}{llllllll}\n",
       " Pair.Name & Ligand & Ligand.Name & Receptor & Receptor.Name & complex\\_pair & partner\\_a & partner\\_b\\\\\n",
       " <chr> & <chr> & <chr> & <chr> & <chr> & <chr> & <chr> & <chr>\\\\\n",
       "\\hline\n",
       "\t EPO\\_EPOR     & EPO    & erythropoietin                  & EPOR  & erythropoietin receptor                      & NA & P01588 & P19235\\\\\n",
       "\t CXCL16\\_CXCR6 & CXCL16 & C-X-C motif chemokine ligand 16 & CXCR6 & C-X-C motif chemokine receptor 6             & NA & Q9H2A7 & O00574\\\\\n",
       "\t KITLG\\_KIT    & KITLG  & KIT ligand                      & KIT   & KIT proto-oncogene, receptor tyrosine kinase & NA & P21583 & P10721\\\\\n",
       "\t CXCL9\\_CXCR3  & CXCL9  & C-X-C motif chemokine ligand 9  & CXCR3 & C-X-C motif chemokine receptor 3             & NA & Q07325 & P49682\\\\\n",
       "\t CCL5\\_CCR5    & CCL5   & C-C motif chemokine ligand 5    & CCR5  & C-C motif chemokine receptor 5               & NA & P13501 & P51681\\\\\n",
       "\t CCL8\\_CCR5    & CCL8   & C-C motif chemokine ligand 8    & CCR5  & C-C motif chemokine receptor 5               & NA & P80075 & P51681\\\\\n",
       "\\end{tabular}\n"
      ],
      "text/markdown": [
       "\n",
       "A tibble: 6 × 8\n",
       "\n",
       "| Pair.Name &lt;chr&gt; | Ligand &lt;chr&gt; | Ligand.Name &lt;chr&gt; | Receptor &lt;chr&gt; | Receptor.Name &lt;chr&gt; | complex_pair &lt;chr&gt; | partner_a &lt;chr&gt; | partner_b &lt;chr&gt; |\n",
       "|---|---|---|---|---|---|---|---|\n",
       "| EPO_EPOR     | EPO    | erythropoietin                  | EPOR  | erythropoietin receptor                      | NA | P01588 | P19235 |\n",
       "| CXCL16_CXCR6 | CXCL16 | C-X-C motif chemokine ligand 16 | CXCR6 | C-X-C motif chemokine receptor 6             | NA | Q9H2A7 | O00574 |\n",
       "| KITLG_KIT    | KITLG  | KIT ligand                      | KIT   | KIT proto-oncogene, receptor tyrosine kinase | NA | P21583 | P10721 |\n",
       "| CXCL9_CXCR3  | CXCL9  | C-X-C motif chemokine ligand 9  | CXCR3 | C-X-C motif chemokine receptor 3             | NA | Q07325 | P49682 |\n",
       "| CCL5_CCR5    | CCL5   | C-C motif chemokine ligand 5    | CCR5  | C-C motif chemokine receptor 5               | NA | P13501 | P51681 |\n",
       "| CCL8_CCR5    | CCL8   | C-C motif chemokine ligand 8    | CCR5  | C-C motif chemokine receptor 5               | NA | P80075 | P51681 |\n",
       "\n"
      ],
      "text/plain": [
       "  Pair.Name    Ligand Ligand.Name                     Receptor\n",
       "1 EPO_EPOR     EPO    erythropoietin                  EPOR    \n",
       "2 CXCL16_CXCR6 CXCL16 C-X-C motif chemokine ligand 16 CXCR6   \n",
       "3 KITLG_KIT    KITLG  KIT ligand                      KIT     \n",
       "4 CXCL9_CXCR3  CXCL9  C-X-C motif chemokine ligand 9  CXCR3   \n",
       "5 CCL5_CCR5    CCL5   C-C motif chemokine ligand 5    CCR5    \n",
       "6 CCL8_CCR5    CCL8   C-C motif chemokine ligand 8    CCR5    \n",
       "  Receptor.Name                                complex_pair partner_a partner_b\n",
       "1 erythropoietin receptor                      NA           P01588    P19235   \n",
       "2 C-X-C motif chemokine receptor 6             NA           Q9H2A7    O00574   \n",
       "3 KIT proto-oncogene, receptor tyrosine kinase NA           P21583    P10721   \n",
       "4 C-X-C motif chemokine receptor 3             NA           Q07325    P49682   \n",
       "5 C-C motif chemokine receptor 5               NA           P13501    P51681   \n",
       "6 C-C motif chemokine receptor 5               NA           P80075    P51681   "
      ]
     },
     "metadata": {},
     "output_type": "display_data"
    }
   ],
   "source": [
    "head(complete_curated)"
   ]
  },
  {
   "cell_type": "code",
   "execution_count": 211,
   "id": "fa9bd750",
   "metadata": {},
   "outputs": [],
   "source": [
    "# filter(previous_db, Receptor==\"NOTCH1\")"
   ]
  },
  {
   "cell_type": "markdown",
   "id": "7cbf969f",
   "metadata": {},
   "source": [
    "# append the original structure from OmniPath"
   ]
  },
  {
   "cell_type": "code",
   "execution_count": 212,
   "id": "7bb6223f",
   "metadata": {},
   "outputs": [],
   "source": [
    "lr$pair <- paste(lr$source_genesymbol, lr$target_genesymbol, sep=\"_\")\n",
    "curated$pair <- paste(curated$source_genesymbol, curated$target_genesymbol, sep=\"_\")"
   ]
  },
  {
   "cell_type": "markdown",
   "id": "f6128171",
   "metadata": {},
   "source": [
    "Create a column to merge with. We are doing this because the complex pairs in our data have been broken down, while they are not broken down in the original data. The new column will allow us to match and merge the broken-down pairs with the corresponding pairs in the original data"
   ]
  },
  {
   "cell_type": "code",
   "execution_count": 213,
   "id": "2653e197",
   "metadata": {},
   "outputs": [],
   "source": [
    "# If the complex pair is not NA, return the complex pair under the to_merge column. \n",
    "# else return the ligand and receptor names separated by an underscore\n",
    "complete_lr <- complete_lr %>% mutate(to_merge = ifelse(!is.na(complex_pair), complex_pair,\n",
    "                                                  paste(Ligand, Receptor, sep=\"_\")))\n",
    "\n",
    "complete_curated <- complete_curated %>% mutate(to_merge = ifelse(!is.na(complex_pair), complex_pair,\n",
    "                                                  paste(Ligand, Receptor, sep=\"_\")))"
   ]
  },
  {
   "cell_type": "code",
   "execution_count": 214,
   "id": "0e068ed9",
   "metadata": {},
   "outputs": [],
   "source": [
    "# Merge the complete_lr data frame with the lr data frame, using the to_merge column \n",
    "# in the former and the pair column in the latter\n",
    "complete_lr <- as.data.frame(merge(complete_lr, lr, by.x = \"to_merge\", by.y = \"pair\"))\n",
    "complete_curated <- as.data.frame(merge(complete_curated, curated, by.x = \"to_merge\", by.y = \"pair\"))"
   ]
  },
  {
   "cell_type": "code",
   "execution_count": 215,
   "id": "1706629b",
   "metadata": {
    "scrolled": false
   },
   "outputs": [],
   "source": [
    "# Remove the columns that were used to merge the data\n",
    "complete_lr <- complete_lr %>% dplyr::select(-to_merge)\n",
    "complete_lr$annotation_strategy <- \"LR\"\n",
    "complete_curated <- complete_curated %>% dplyr::select(-to_merge)\n",
    "complete_curated$annotation_strategy <- \"curated\""
   ]
  },
  {
   "cell_type": "markdown",
   "id": "4d098457",
   "metadata": {},
   "source": [
    "# tagging curated ones"
   ]
  },
  {
   "cell_type": "code",
   "execution_count": 216,
   "id": "18a7bcda",
   "metadata": {},
   "outputs": [],
   "source": [
    "complete <- rbind(complete_lr, complete_curated)"
   ]
  },
  {
   "cell_type": "code",
   "execution_count": 217,
   "id": "d54c3105",
   "metadata": {},
   "outputs": [],
   "source": [
    "complete <- complete %>% \n",
    "       mutate(db = replace(annotation_strategy, duplicated(Pair.Name) | \n",
    "                              duplicated(Pair.Name, fromLast = TRUE), \"both\"))"
   ]
  },
  {
   "cell_type": "code",
   "execution_count": 218,
   "id": "82593b05",
   "metadata": {
    "scrolled": false
   },
   "outputs": [],
   "source": [
    "complete <- complete %>% filter(!duplicated(complete[, \"Pair.Name\"]))"
   ]
  },
  {
   "cell_type": "code",
   "execution_count": 219,
   "id": "ad345c91",
   "metadata": {},
   "outputs": [],
   "source": [
    "lr_final <- filter(complete, db %in% c(\"LR\",\"both\"))"
   ]
  },
  {
   "cell_type": "code",
   "execution_count": 220,
   "id": "fd12c8c9",
   "metadata": {},
   "outputs": [],
   "source": [
    "curated_final <- filter(complete, db %in% c(\"curated\",\"both\"))"
   ]
  },
  {
   "cell_type": "code",
   "execution_count": 221,
   "id": "76a33d35",
   "metadata": {},
   "outputs": [],
   "source": [
    "# curated_final %>% drop_na(complex_pair)"
   ]
  },
  {
   "cell_type": "code",
   "execution_count": 222,
   "id": "e7898c71",
   "metadata": {},
   "outputs": [],
   "source": [
    "# filter(complete, db==\"LR\")"
   ]
  },
  {
   "cell_type": "code",
   "execution_count": 223,
   "id": "741b7762",
   "metadata": {
    "scrolled": false
   },
   "outputs": [],
   "source": [
    "#this column is needed when building CellPhoneDB\n",
    "# concatanated$annotation_strategy <- ifelse(concatanated$curated == TRUE, \"OmniPath_curated\", \"OmniPath\")"
   ]
  },
  {
   "cell_type": "code",
   "execution_count": 224,
   "id": "415e3e79",
   "metadata": {},
   "outputs": [],
   "source": [
    "write.csv(complete, \"L_R_reviseD_full_before_fix.csv\", row.names=FALSE)"
   ]
  },
  {
   "cell_type": "code",
   "execution_count": 225,
   "id": "f9fc28f6",
   "metadata": {},
   "outputs": [],
   "source": [
    "# complete = read.csv('L_R_reviseD_full_before_fix.csv')"
   ]
  },
  {
   "cell_type": "code",
   "execution_count": 226,
   "id": "8c653e55",
   "metadata": {},
   "outputs": [
    {
     "data": {
      "text/html": [
       "<table class=\"dataframe\">\n",
       "<caption>A data.frame: 2 × 25</caption>\n",
       "<thead>\n",
       "\t<tr><th scope=col>Pair.Name</th><th scope=col>Ligand</th><th scope=col>Ligand.Name</th><th scope=col>Receptor</th><th scope=col>Receptor.Name</th><th scope=col>complex_pair</th><th scope=col>partner_a</th><th scope=col>partner_b</th><th scope=col>source</th><th scope=col>target</th><th scope=col>⋯</th><th scope=col>consensus_direction</th><th scope=col>consensus_stimulation</th><th scope=col>consensus_inhibition</th><th scope=col>sources</th><th scope=col>references</th><th scope=col>curation_effort</th><th scope=col>n_references</th><th scope=col>n_resources</th><th scope=col>annotation_strategy</th><th scope=col>db</th></tr>\n",
       "\t<tr><th scope=col>&lt;chr&gt;</th><th scope=col>&lt;chr&gt;</th><th scope=col>&lt;chr&gt;</th><th scope=col>&lt;chr&gt;</th><th scope=col>&lt;chr&gt;</th><th scope=col>&lt;chr&gt;</th><th scope=col>&lt;chr&gt;</th><th scope=col>&lt;chr&gt;</th><th scope=col>&lt;chr&gt;</th><th scope=col>&lt;chr&gt;</th><th scope=col>⋯</th><th scope=col>&lt;dbl&gt;</th><th scope=col>&lt;dbl&gt;</th><th scope=col>&lt;dbl&gt;</th><th scope=col>&lt;chr&gt;</th><th scope=col>&lt;chr&gt;</th><th scope=col>&lt;dbl&gt;</th><th scope=col>&lt;dbl&gt;</th><th scope=col>&lt;int&gt;</th><th scope=col>&lt;chr&gt;</th><th scope=col>&lt;chr&gt;</th></tr>\n",
       "</thead>\n",
       "<tbody>\n",
       "\t<tr><td>PIK3CD-AS1_LY6G6C </td><td>PIK3CD-AS1</td><td>PIK3CD antisense RNA 1</td><td>LY6G6C </td><td>lymphocyte antigen 6 family member G6C</td><td>NA</td><td>O00329</td><td>O95867</td><td>Q5SR53</td><td>O95867</td><td>⋯</td><td>0</td><td>0</td><td>0</td><td>Fantom5_LRdb;LRdb;iTALK</td><td>NA</td><td>0</td><td>0</td><td>2</td><td>LR</td><td>LR</td></tr>\n",
       "\t<tr><td>PIK3CD-AS1_SLC16A4</td><td>PIK3CD-AS1</td><td>PIK3CD antisense RNA 1</td><td>SLC16A4</td><td>solute carrier family 16 member 4     </td><td>NA</td><td>O00329</td><td>O15374</td><td>Q5SR53</td><td>O15374</td><td>⋯</td><td>0</td><td>0</td><td>0</td><td>Fantom5_LRdb;LRdb;iTALK</td><td>NA</td><td>0</td><td>0</td><td>2</td><td>LR</td><td>LR</td></tr>\n",
       "</tbody>\n",
       "</table>\n"
      ],
      "text/latex": [
       "A data.frame: 2 × 25\n",
       "\\begin{tabular}{lllllllllllllllllllll}\n",
       " Pair.Name & Ligand & Ligand.Name & Receptor & Receptor.Name & complex\\_pair & partner\\_a & partner\\_b & source & target & ⋯ & consensus\\_direction & consensus\\_stimulation & consensus\\_inhibition & sources & references & curation\\_effort & n\\_references & n\\_resources & annotation\\_strategy & db\\\\\n",
       " <chr> & <chr> & <chr> & <chr> & <chr> & <chr> & <chr> & <chr> & <chr> & <chr> & ⋯ & <dbl> & <dbl> & <dbl> & <chr> & <chr> & <dbl> & <dbl> & <int> & <chr> & <chr>\\\\\n",
       "\\hline\n",
       "\t PIK3CD-AS1\\_LY6G6C  & PIK3CD-AS1 & PIK3CD antisense RNA 1 & LY6G6C  & lymphocyte antigen 6 family member G6C & NA & O00329 & O95867 & Q5SR53 & O95867 & ⋯ & 0 & 0 & 0 & Fantom5\\_LRdb;LRdb;iTALK & NA & 0 & 0 & 2 & LR & LR\\\\\n",
       "\t PIK3CD-AS1\\_SLC16A4 & PIK3CD-AS1 & PIK3CD antisense RNA 1 & SLC16A4 & solute carrier family 16 member 4      & NA & O00329 & O15374 & Q5SR53 & O15374 & ⋯ & 0 & 0 & 0 & Fantom5\\_LRdb;LRdb;iTALK & NA & 0 & 0 & 2 & LR & LR\\\\\n",
       "\\end{tabular}\n"
      ],
      "text/markdown": [
       "\n",
       "A data.frame: 2 × 25\n",
       "\n",
       "| Pair.Name &lt;chr&gt; | Ligand &lt;chr&gt; | Ligand.Name &lt;chr&gt; | Receptor &lt;chr&gt; | Receptor.Name &lt;chr&gt; | complex_pair &lt;chr&gt; | partner_a &lt;chr&gt; | partner_b &lt;chr&gt; | source &lt;chr&gt; | target &lt;chr&gt; | ⋯ ⋯ | consensus_direction &lt;dbl&gt; | consensus_stimulation &lt;dbl&gt; | consensus_inhibition &lt;dbl&gt; | sources &lt;chr&gt; | references &lt;chr&gt; | curation_effort &lt;dbl&gt; | n_references &lt;dbl&gt; | n_resources &lt;int&gt; | annotation_strategy &lt;chr&gt; | db &lt;chr&gt; |\n",
       "|---|---|---|---|---|---|---|---|---|---|---|---|---|---|---|---|---|---|---|---|---|\n",
       "| PIK3CD-AS1_LY6G6C  | PIK3CD-AS1 | PIK3CD antisense RNA 1 | LY6G6C  | lymphocyte antigen 6 family member G6C | NA | O00329 | O95867 | Q5SR53 | O95867 | ⋯ | 0 | 0 | 0 | Fantom5_LRdb;LRdb;iTALK | NA | 0 | 0 | 2 | LR | LR |\n",
       "| PIK3CD-AS1_SLC16A4 | PIK3CD-AS1 | PIK3CD antisense RNA 1 | SLC16A4 | solute carrier family 16 member 4      | NA | O00329 | O15374 | Q5SR53 | O15374 | ⋯ | 0 | 0 | 0 | Fantom5_LRdb;LRdb;iTALK | NA | 0 | 0 | 2 | LR | LR |\n",
       "\n"
      ],
      "text/plain": [
       "  Pair.Name          Ligand     Ligand.Name            Receptor\n",
       "1 PIK3CD-AS1_LY6G6C  PIK3CD-AS1 PIK3CD antisense RNA 1 LY6G6C  \n",
       "2 PIK3CD-AS1_SLC16A4 PIK3CD-AS1 PIK3CD antisense RNA 1 SLC16A4 \n",
       "  Receptor.Name                          complex_pair partner_a partner_b\n",
       "1 lymphocyte antigen 6 family member G6C NA           O00329    O95867   \n",
       "2 solute carrier family 16 member 4      NA           O00329    O15374   \n",
       "  source target ⋯ consensus_direction consensus_stimulation\n",
       "1 Q5SR53 O95867 ⋯ 0                   0                    \n",
       "2 Q5SR53 O15374 ⋯ 0                   0                    \n",
       "  consensus_inhibition sources                 references curation_effort\n",
       "1 0                    Fantom5_LRdb;LRdb;iTALK NA         0              \n",
       "2 0                    Fantom5_LRdb;LRdb;iTALK NA         0              \n",
       "  n_references n_resources annotation_strategy db\n",
       "1 0            2           LR                  LR\n",
       "2 0            2           LR                  LR"
      ]
     },
     "metadata": {},
     "output_type": "display_data"
    }
   ],
   "source": [
    "filter(complete,Ligand==\"PIK3CD-AS1\")"
   ]
  },
  {
   "cell_type": "code",
   "execution_count": 227,
   "id": "4880f2bb",
   "metadata": {},
   "outputs": [],
   "source": [
    "complete$Ligand <- str_replace(complete$Ligand, \"PIK3CD-AS1\", \"PIK3CD\")"
   ]
  },
  {
   "cell_type": "code",
   "execution_count": 228,
   "id": "b478509a",
   "metadata": {},
   "outputs": [],
   "source": [
    "complete$Pair.Name <- paste(complete$Ligand, complete$Receptor, sep=\"_\")"
   ]
  },
  {
   "cell_type": "code",
   "execution_count": 229,
   "id": "e6dd3676",
   "metadata": {},
   "outputs": [],
   "source": [
    "complete$dup <- paste(complete$Receptor, complete$Ligand, sep=\"_\")"
   ]
  },
  {
   "cell_type": "code",
   "execution_count": 230,
   "id": "d1e91c16",
   "metadata": {},
   "outputs": [],
   "source": [
    "components <- unique(c(complete$Ligand, complete$Receptor))"
   ]
  },
  {
   "cell_type": "code",
   "execution_count": 231,
   "id": "77911de3",
   "metadata": {},
   "outputs": [],
   "source": [
    "annotation <- annotate_components(components)"
   ]
  },
  {
   "cell_type": "code",
   "execution_count": 232,
   "id": "6e062a2f",
   "metadata": {},
   "outputs": [
    {
     "data": {
      "text/html": [
       "<style>\n",
       ".list-inline {list-style: none; margin:0; padding: 0}\n",
       ".list-inline>li {display: inline-block}\n",
       ".list-inline>li:not(:last-child)::after {content: \"\\00b7\"; padding: 0 .5ex}\n",
       "</style>\n",
       "<ol class=list-inline><li>'Adhesome'</li><li>'Almen2009'</li><li>'Baccin2019'</li><li>'CellCall'</li><li>'CellCellInteractions'</li><li>'CellChatDB'</li><li>'Cellinker'</li><li>'CellPhoneDB'</li><li>'CellTalkDB'</li><li>'ComPPI'</li><li>'connectomeDB2020'</li><li>'CSPA'</li><li>'DGIdb'</li><li>'EMBRACE'</li><li>'GO_Intercell'</li><li>'GPCRdb'</li><li>'Guide2Pharma'</li><li>'HGNC'</li><li>'HPA_secretome'</li><li>'HPMR'</li><li>'ICELLNET'</li><li>'Integrins'</li><li>'iTALK'</li><li>'Kirouac2010'</li><li>'LOCATE'</li><li>'LRdb'</li><li>'Matrisome'</li><li>'MatrixDB'</li><li>'MCAM'</li><li>'Membranome'</li><li>'OmniPath'</li><li>'OPM'</li><li>'Phobius'</li><li>'Ramilowski_location'</li><li>'Ramilowski2015'</li><li>'scConnect'</li><li>'SignaLink_function'</li><li>'Surfaceome'</li><li>'talklr'</li><li>'TopDB'</li><li>'UniProt_keyword'</li><li>'UniProt_location'</li><li>'UniProt_topology'</li><li>'Zhong2015'</li></ol>\n"
      ],
      "text/latex": [
       "\\begin{enumerate*}\n",
       "\\item 'Adhesome'\n",
       "\\item 'Almen2009'\n",
       "\\item 'Baccin2019'\n",
       "\\item 'CellCall'\n",
       "\\item 'CellCellInteractions'\n",
       "\\item 'CellChatDB'\n",
       "\\item 'Cellinker'\n",
       "\\item 'CellPhoneDB'\n",
       "\\item 'CellTalkDB'\n",
       "\\item 'ComPPI'\n",
       "\\item 'connectomeDB2020'\n",
       "\\item 'CSPA'\n",
       "\\item 'DGIdb'\n",
       "\\item 'EMBRACE'\n",
       "\\item 'GO\\_Intercell'\n",
       "\\item 'GPCRdb'\n",
       "\\item 'Guide2Pharma'\n",
       "\\item 'HGNC'\n",
       "\\item 'HPA\\_secretome'\n",
       "\\item 'HPMR'\n",
       "\\item 'ICELLNET'\n",
       "\\item 'Integrins'\n",
       "\\item 'iTALK'\n",
       "\\item 'Kirouac2010'\n",
       "\\item 'LOCATE'\n",
       "\\item 'LRdb'\n",
       "\\item 'Matrisome'\n",
       "\\item 'MatrixDB'\n",
       "\\item 'MCAM'\n",
       "\\item 'Membranome'\n",
       "\\item 'OmniPath'\n",
       "\\item 'OPM'\n",
       "\\item 'Phobius'\n",
       "\\item 'Ramilowski\\_location'\n",
       "\\item 'Ramilowski2015'\n",
       "\\item 'scConnect'\n",
       "\\item 'SignaLink\\_function'\n",
       "\\item 'Surfaceome'\n",
       "\\item 'talklr'\n",
       "\\item 'TopDB'\n",
       "\\item 'UniProt\\_keyword'\n",
       "\\item 'UniProt\\_location'\n",
       "\\item 'UniProt\\_topology'\n",
       "\\item 'Zhong2015'\n",
       "\\end{enumerate*}\n"
      ],
      "text/markdown": [
       "1. 'Adhesome'\n",
       "2. 'Almen2009'\n",
       "3. 'Baccin2019'\n",
       "4. 'CellCall'\n",
       "5. 'CellCellInteractions'\n",
       "6. 'CellChatDB'\n",
       "7. 'Cellinker'\n",
       "8. 'CellPhoneDB'\n",
       "9. 'CellTalkDB'\n",
       "10. 'ComPPI'\n",
       "11. 'connectomeDB2020'\n",
       "12. 'CSPA'\n",
       "13. 'DGIdb'\n",
       "14. 'EMBRACE'\n",
       "15. 'GO_Intercell'\n",
       "16. 'GPCRdb'\n",
       "17. 'Guide2Pharma'\n",
       "18. 'HGNC'\n",
       "19. 'HPA_secretome'\n",
       "20. 'HPMR'\n",
       "21. 'ICELLNET'\n",
       "22. 'Integrins'\n",
       "23. 'iTALK'\n",
       "24. 'Kirouac2010'\n",
       "25. 'LOCATE'\n",
       "26. 'LRdb'\n",
       "27. 'Matrisome'\n",
       "28. 'MatrixDB'\n",
       "29. 'MCAM'\n",
       "30. 'Membranome'\n",
       "31. 'OmniPath'\n",
       "32. 'OPM'\n",
       "33. 'Phobius'\n",
       "34. 'Ramilowski_location'\n",
       "35. 'Ramilowski2015'\n",
       "36. 'scConnect'\n",
       "37. 'SignaLink_function'\n",
       "38. 'Surfaceome'\n",
       "39. 'talklr'\n",
       "40. 'TopDB'\n",
       "41. 'UniProt_keyword'\n",
       "42. 'UniProt_location'\n",
       "43. 'UniProt_topology'\n",
       "44. 'Zhong2015'\n",
       "\n",
       "\n"
      ],
      "text/plain": [
       " [1] \"Adhesome\"             \"Almen2009\"            \"Baccin2019\"          \n",
       " [4] \"CellCall\"             \"CellCellInteractions\" \"CellChatDB\"          \n",
       " [7] \"Cellinker\"            \"CellPhoneDB\"          \"CellTalkDB\"          \n",
       "[10] \"ComPPI\"               \"connectomeDB2020\"     \"CSPA\"                \n",
       "[13] \"DGIdb\"                \"EMBRACE\"              \"GO_Intercell\"        \n",
       "[16] \"GPCRdb\"               \"Guide2Pharma\"         \"HGNC\"                \n",
       "[19] \"HPA_secretome\"        \"HPMR\"                 \"ICELLNET\"            \n",
       "[22] \"Integrins\"            \"iTALK\"                \"Kirouac2010\"         \n",
       "[25] \"LOCATE\"               \"LRdb\"                 \"Matrisome\"           \n",
       "[28] \"MatrixDB\"             \"MCAM\"                 \"Membranome\"          \n",
       "[31] \"OmniPath\"             \"OPM\"                  \"Phobius\"             \n",
       "[34] \"Ramilowski_location\"  \"Ramilowski2015\"       \"scConnect\"           \n",
       "[37] \"SignaLink_function\"   \"Surfaceome\"           \"talklr\"              \n",
       "[40] \"TopDB\"                \"UniProt_keyword\"      \"UniProt_location\"    \n",
       "[43] \"UniProt_topology\"     \"Zhong2015\"           "
      ]
     },
     "metadata": {},
     "output_type": "display_data"
    }
   ],
   "source": [
    "get_intercell_resources()"
   ]
  },
  {
   "cell_type": "code",
   "execution_count": 233,
   "id": "dfca5cba",
   "metadata": {},
   "outputs": [],
   "source": [
    "# ggplot(true_LR, aes(x=score)) +\n",
    "#     geom_histogram(binwidth=.5, colour=\"black\", fill=\"white\") +\n",
    "#     geom_vline(aes(xintercept=mean(score, na.rm=T)),   # Ignore NA values for mean\n",
    "#                color=\"red\", linetype=\"dashed\", size=1)"
   ]
  },
  {
   "cell_type": "code",
   "execution_count": 234,
   "id": "4726082d",
   "metadata": {},
   "outputs": [],
   "source": [
    "true_LR <- filter(annotation, parent == \"receptor\" | parent == \"ligand\")"
   ]
  },
  {
   "cell_type": "code",
   "execution_count": 235,
   "id": "d3be1a61",
   "metadata": {},
   "outputs": [
    {
     "data": {
      "text/html": [
       "<table class=\"dataframe\">\n",
       "<caption>A data.frame: 1 × 3</caption>\n",
       "<thead>\n",
       "\t<tr><th></th><th scope=col>genesymbol</th><th scope=col>score</th><th scope=col>parent</th></tr>\n",
       "\t<tr><th></th><th scope=col>&lt;chr&gt;</th><th scope=col>&lt;dbl&gt;</th><th scope=col>&lt;chr&gt;</th></tr>\n",
       "</thead>\n",
       "<tbody>\n",
       "\t<tr><th scope=row>63</th><td>BMPR1B</td><td>20</td><td>receptor</td></tr>\n",
       "</tbody>\n",
       "</table>\n"
      ],
      "text/latex": [
       "A data.frame: 1 × 3\n",
       "\\begin{tabular}{r|lll}\n",
       "  & genesymbol & score & parent\\\\\n",
       "  & <chr> & <dbl> & <chr>\\\\\n",
       "\\hline\n",
       "\t63 & BMPR1B & 20 & receptor\\\\\n",
       "\\end{tabular}\n"
      ],
      "text/markdown": [
       "\n",
       "A data.frame: 1 × 3\n",
       "\n",
       "| <!--/--> | genesymbol &lt;chr&gt; | score &lt;dbl&gt; | parent &lt;chr&gt; |\n",
       "|---|---|---|---|\n",
       "| 63 | BMPR1B | 20 | receptor |\n",
       "\n"
      ],
      "text/plain": [
       "   genesymbol score parent  \n",
       "63 BMPR1B     20    receptor"
      ]
     },
     "metadata": {},
     "output_type": "display_data"
    }
   ],
   "source": [
    "annotation[annotation$genesymbol==\"BMPR1B\",]"
   ]
  },
  {
   "cell_type": "code",
   "execution_count": 236,
   "id": "19e16149",
   "metadata": {},
   "outputs": [
    {
     "data": {
      "text/html": [
       "<style>\n",
       ".list-inline {list-style: none; margin:0; padding: 0}\n",
       ".list-inline>li {display: inline-block}\n",
       ".list-inline>li:not(:last-child)::after {content: \"\\00b7\"; padding: 0 .5ex}\n",
       "</style>\n",
       "<ol class=list-inline><li>'ligand'</li><li>'intracellular'</li><li>'transmembrane'</li><li>'receptor'</li><li>'plasma_membrane'</li><li>'ecm_regulator'</li><li>'cell_adhesion'</li><li>'ligand_regulator'</li><li>'cell_surface'</li><li>'gap_junction'</li></ol>\n"
      ],
      "text/latex": [
       "\\begin{enumerate*}\n",
       "\\item 'ligand'\n",
       "\\item 'intracellular'\n",
       "\\item 'transmembrane'\n",
       "\\item 'receptor'\n",
       "\\item 'plasma\\_membrane'\n",
       "\\item 'ecm\\_regulator'\n",
       "\\item 'cell\\_adhesion'\n",
       "\\item 'ligand\\_regulator'\n",
       "\\item 'cell\\_surface'\n",
       "\\item 'gap\\_junction'\n",
       "\\end{enumerate*}\n"
      ],
      "text/markdown": [
       "1. 'ligand'\n",
       "2. 'intracellular'\n",
       "3. 'transmembrane'\n",
       "4. 'receptor'\n",
       "5. 'plasma_membrane'\n",
       "6. 'ecm_regulator'\n",
       "7. 'cell_adhesion'\n",
       "8. 'ligand_regulator'\n",
       "9. 'cell_surface'\n",
       "10. 'gap_junction'\n",
       "\n",
       "\n"
      ],
      "text/plain": [
       " [1] \"ligand\"           \"intracellular\"    \"transmembrane\"    \"receptor\"        \n",
       " [5] \"plasma_membrane\"  \"ecm_regulator\"    \"cell_adhesion\"    \"ligand_regulator\"\n",
       " [9] \"cell_surface\"     \"gap_junction\"    "
      ]
     },
     "metadata": {},
     "output_type": "display_data"
    }
   ],
   "source": [
    "unique(annotation$parent)"
   ]
  },
  {
   "cell_type": "code",
   "execution_count": 237,
   "id": "234ecb46",
   "metadata": {},
   "outputs": [
    {
     "data": {
      "text/html": [
       "<table class=\"dataframe\">\n",
       "<caption>A data.frame: 1 × 3</caption>\n",
       "<thead>\n",
       "\t<tr><th></th><th scope=col>genesymbol</th><th scope=col>score</th><th scope=col>parent</th></tr>\n",
       "\t<tr><th></th><th scope=col>&lt;chr&gt;</th><th scope=col>&lt;dbl&gt;</th><th scope=col>&lt;chr&gt;</th></tr>\n",
       "</thead>\n",
       "<tbody>\n",
       "\t<tr><th scope=row>122</th><td>BMP15</td><td>18</td><td>ligand</td></tr>\n",
       "</tbody>\n",
       "</table>\n"
      ],
      "text/latex": [
       "A data.frame: 1 × 3\n",
       "\\begin{tabular}{r|lll}\n",
       "  & genesymbol & score & parent\\\\\n",
       "  & <chr> & <dbl> & <chr>\\\\\n",
       "\\hline\n",
       "\t122 & BMP15 & 18 & ligand\\\\\n",
       "\\end{tabular}\n"
      ],
      "text/markdown": [
       "\n",
       "A data.frame: 1 × 3\n",
       "\n",
       "| <!--/--> | genesymbol &lt;chr&gt; | score &lt;dbl&gt; | parent &lt;chr&gt; |\n",
       "|---|---|---|---|\n",
       "| 122 | BMP15 | 18 | ligand |\n",
       "\n"
      ],
      "text/plain": [
       "    genesymbol score parent\n",
       "122 BMP15      18    ligand"
      ]
     },
     "metadata": {},
     "output_type": "display_data"
    }
   ],
   "source": [
    "annotation[annotation$genesymbol==\"BMP15\",]"
   ]
  },
  {
   "cell_type": "code",
   "execution_count": 238,
   "id": "727e34cb",
   "metadata": {},
   "outputs": [],
   "source": [
    "true_LR_genespace <- true_LR$genesymbol"
   ]
  },
  {
   "cell_type": "code",
   "execution_count": 239,
   "id": "b509269e",
   "metadata": {},
   "outputs": [],
   "source": [
    "adhesive <- filter(annotation, !genesymbol %in% true_LR$genesymbol)"
   ]
  },
  {
   "cell_type": "code",
   "execution_count": 240,
   "id": "50f10af6",
   "metadata": {},
   "outputs": [],
   "source": [
    "ligands <- filter(true_LR, parent==\"ligand\")$genesymbol\n",
    "receptors <- filter(true_LR, parent==\"receptor\")$genesymbol"
   ]
  },
  {
   "cell_type": "code",
   "execution_count": 241,
   "id": "8ab4fd53",
   "metadata": {},
   "outputs": [],
   "source": [
    "# Filter the LR pairs that are not in the correct direction\n",
    "# Exclude the pairs if the swapped (correct direction) counterparts exist in the database\n",
    "\n",
    "LR_fix_dir <- complete %>% \n",
    "  filter(Ligand %in% receptors & Receptor %in% ligands) #%>% \n",
    "  #anti_join(complete, by = c(\"dup\" = \"Pair.Name\"))\n",
    "#     filter(!dup %in% complete$Pair.Name)"
   ]
  },
  {
   "cell_type": "code",
   "execution_count": 242,
   "id": "f0c79ee9",
   "metadata": {},
   "outputs": [
    {
     "data": {
      "text/html": [
       "<table class=\"dataframe\">\n",
       "<caption>A data.frame: 1 × 3</caption>\n",
       "<thead>\n",
       "\t<tr><th></th><th scope=col>genesymbol</th><th scope=col>score</th><th scope=col>parent</th></tr>\n",
       "\t<tr><th></th><th scope=col>&lt;chr&gt;</th><th scope=col>&lt;dbl&gt;</th><th scope=col>&lt;chr&gt;</th></tr>\n",
       "</thead>\n",
       "<tbody>\n",
       "\t<tr><th scope=row>122</th><td>BMP15</td><td>18</td><td>ligand</td></tr>\n",
       "</tbody>\n",
       "</table>\n"
      ],
      "text/latex": [
       "A data.frame: 1 × 3\n",
       "\\begin{tabular}{r|lll}\n",
       "  & genesymbol & score & parent\\\\\n",
       "  & <chr> & <dbl> & <chr>\\\\\n",
       "\\hline\n",
       "\t122 & BMP15 & 18 & ligand\\\\\n",
       "\\end{tabular}\n"
      ],
      "text/markdown": [
       "\n",
       "A data.frame: 1 × 3\n",
       "\n",
       "| <!--/--> | genesymbol &lt;chr&gt; | score &lt;dbl&gt; | parent &lt;chr&gt; |\n",
       "|---|---|---|---|\n",
       "| 122 | BMP15 | 18 | ligand |\n",
       "\n"
      ],
      "text/plain": [
       "    genesymbol score parent\n",
       "122 BMP15      18    ligand"
      ]
     },
     "metadata": {},
     "output_type": "display_data"
    }
   ],
   "source": [
    "annotation[annotation$genesymbol==\"BMP15\",]"
   ]
  },
  {
   "cell_type": "code",
   "execution_count": 243,
   "id": "d6f6fa25",
   "metadata": {},
   "outputs": [],
   "source": [
    "complete <- filter(complete, !Pair.Name %in% LR_fix_dir$Pair.Name)"
   ]
  },
  {
   "cell_type": "code",
   "execution_count": 244,
   "id": "4f64a548",
   "metadata": {},
   "outputs": [
    {
     "data": {
      "text/html": [
       "395"
      ],
      "text/latex": [
       "395"
      ],
      "text/markdown": [
       "395"
      ],
      "text/plain": [
       "[1] 395"
      ]
     },
     "metadata": {},
     "output_type": "display_data"
    }
   ],
   "source": [
    "7415 - nrow(complete)"
   ]
  },
  {
   "cell_type": "code",
   "execution_count": 245,
   "id": "f225257c",
   "metadata": {},
   "outputs": [],
   "source": [
    "#fix the directions\n",
    "LR_fix_dir[, c(\"Ligand\", \"Receptor\", \"Ligand.Name\", \"Receptor.Name\",\n",
    "      \"partner_a\",\"partner_b\", \"source\",\"target\",\"source_genesymbol\",\"target_genesymbol\")] <- LR_fix_dir[, c(\"Receptor\", \"Ligand\", \"Receptor.Name\", \"Ligand.Name\",\n",
    "                                                                                                    \"partner_b\",\"partner_a\", \"target\",\"source\",\"target_genesymbol\",\"source_genesymbol\")]\n",
    "\n",
    "LR_fix_dir[\"Pair.Name\"] <- paste(LR_fix_dir$Ligand, LR_fix_dir$Receptor, sep=\"_\")\n",
    "LR_fix_dir[\"dup\"] <- paste(LR_fix_dir$Receptor, LR_fix_dir$Ligand, sep=\"_\")"
   ]
  },
  {
   "cell_type": "code",
   "execution_count": 246,
   "id": "c87461ad",
   "metadata": {},
   "outputs": [],
   "source": [
    "# these are the list of interactions that are strictly in LR direction\n",
    "true_LR_DB <- complete %>% filter(Ligand %in% ligands & Receptor %in% receptors)"
   ]
  },
  {
   "cell_type": "code",
   "execution_count": 247,
   "id": "5303dc8b",
   "metadata": {},
   "outputs": [],
   "source": [
    "true_LR_DB[\"True_LR\"]=TRUE"
   ]
  },
  {
   "cell_type": "code",
   "execution_count": 248,
   "id": "87eb45dd",
   "metadata": {},
   "outputs": [],
   "source": [
    "LR_fix_dir[\"True_LR\"]=TRUE"
   ]
  },
  {
   "cell_type": "code",
   "execution_count": 249,
   "id": "824be9fe",
   "metadata": {},
   "outputs": [],
   "source": [
    "true_LR_DB <- rbind(true_LR_DB,LR_fix_dir)"
   ]
  },
  {
   "cell_type": "code",
   "execution_count": 250,
   "id": "6e75f9e7",
   "metadata": {},
   "outputs": [],
   "source": [
    "adhesive_DB <- filter(complete, !Pair.Name %in% true_LR_DB$Pair.Name)"
   ]
  },
  {
   "cell_type": "code",
   "execution_count": 251,
   "id": "d99f08a9",
   "metadata": {},
   "outputs": [],
   "source": [
    "adhesive_DB[\"True_LR\"]=FALSE"
   ]
  },
  {
   "cell_type": "code",
   "execution_count": 252,
   "id": "f2f4b2cc",
   "metadata": {},
   "outputs": [],
   "source": [
    "reversed <- complete[complete$dup %in% complete$Pair.Name,  ]"
   ]
  },
  {
   "cell_type": "code",
   "execution_count": 253,
   "id": "664d6fef",
   "metadata": {},
   "outputs": [],
   "source": [
    "found_in_LR <- filter(reversed, dup %in% true_LR_DB$Pair.Name)"
   ]
  },
  {
   "cell_type": "code",
   "execution_count": 102,
   "id": "9fef0ee0",
   "metadata": {},
   "outputs": [],
   "source": [
    "reversed <- filter(reversed, !Pair.Name %in% found_in_LR$Pair.Name)\n",
    "reversed <- filter(reversed, !Pair.Name %in% found_in_LR$dup)"
   ]
  },
  {
   "cell_type": "code",
   "execution_count": 103,
   "id": "3eba3a71",
   "metadata": {},
   "outputs": [],
   "source": [
    "adhesive_DB  <- filter(adhesive_DB, !Pair.Name %in% found_in_LR$Pair.Name)\n",
    "adhesive_DB  <- filter(adhesive_DB, !dup %in% found_in_LR$dup)"
   ]
  },
  {
   "cell_type": "code",
   "execution_count": null,
   "id": "3076b9d4",
   "metadata": {},
   "outputs": [],
   "source": []
  },
  {
   "cell_type": "code",
   "execution_count": 262,
   "id": "68b010e4",
   "metadata": {},
   "outputs": [],
   "source": [
    "# reversed <- adhesive_DB[adhesive_DB$dup %in% adhesive_DB$Pair.Name,  ]"
   ]
  },
  {
   "cell_type": "code",
   "execution_count": 105,
   "id": "2d522c19",
   "metadata": {},
   "outputs": [],
   "source": [
    "# adhesive_DB <- adhesive_DB[!adhesive_DB$dup %in% true_LR_DB$Pair.Name,  ]"
   ]
  },
  {
   "cell_type": "code",
   "execution_count": 106,
   "id": "b5ba9011",
   "metadata": {},
   "outputs": [
    {
     "data": {
      "text/html": [
       "92"
      ],
      "text/latex": [
       "92"
      ],
      "text/markdown": [
       "92"
      ],
      "text/plain": [
       "[1] 92"
      ]
     },
     "metadata": {},
     "output_type": "display_data"
    }
   ],
   "source": [
    "2705 - 2613"
   ]
  },
  {
   "cell_type": "code",
   "execution_count": null,
   "id": "222e3574",
   "metadata": {},
   "outputs": [],
   "source": []
  },
  {
   "cell_type": "code",
   "execution_count": 107,
   "id": "07f31935",
   "metadata": {},
   "outputs": [],
   "source": [
    "# remove the subsetted partition from the original df\n",
    "adhesive_DB <- adhesive_DB[!adhesive_DB$Pair.Name %in% reversed$Pair.Name,  ]"
   ]
  },
  {
   "cell_type": "code",
   "execution_count": 108,
   "id": "17574b2b",
   "metadata": {},
   "outputs": [],
   "source": [
    "# true_LR_DB <- filter(true_LR_DB, !Pair.Name %in% reversed_found_in_LR$dup)"
   ]
  },
  {
   "cell_type": "code",
   "execution_count": 109,
   "id": "09c4641d",
   "metadata": {},
   "outputs": [],
   "source": [
    "# Subset the LR_database data frame to only include rows where we have swapped interactions\n",
    "\n",
    "subset_lr <- reversed"
   ]
  },
  {
   "cell_type": "code",
   "execution_count": 110,
   "id": "57ca949b",
   "metadata": {},
   "outputs": [
    {
     "data": {
      "text/html": [
       "342"
      ],
      "text/latex": [
       "342"
      ],
      "text/markdown": [
       "342"
      ],
      "text/plain": [
       "[1] 342"
      ]
     },
     "metadata": {},
     "output_type": "display_data"
    }
   ],
   "source": [
    "nrow(subset_lr)"
   ]
  },
  {
   "cell_type": "code",
   "execution_count": 111,
   "id": "006247c5",
   "metadata": {},
   "outputs": [
    {
     "data": {
      "text/html": [
       "2613"
      ],
      "text/latex": [
       "2613"
      ],
      "text/markdown": [
       "2613"
      ],
      "text/plain": [
       "[1] 2613"
      ]
     },
     "metadata": {},
     "output_type": "display_data"
    }
   ],
   "source": [
    "nrow(adhesive_DB)"
   ]
  },
  {
   "cell_type": "code",
   "execution_count": 112,
   "id": "70c275d2",
   "metadata": {},
   "outputs": [],
   "source": [
    "# Extract all the unique proteins/genes from the subset_lr data frame that have \"plexin\",\n",
    "# \"neuroligin\" or \"ADAM\" in their Receptor.Name column\n",
    "# these will be corrected as ligands\n",
    "\n",
    "plexin_family <- as.vector(subset_lr[grep(\"plexin\", subset_lr$Receptor.Name), ]$Receptor)\n",
    "\n",
    "neuroligin_family <- as.vector(subset_lr[grep(\"neuroligin\", subset_lr$Receptor.Name), ]$Receptor)\n",
    "\n",
    "adam_family <- as.vector(subset_lr[grep(\"ADAM\", subset_lr$Receptor.Name), ]$Receptor)\n",
    "\n",
    "#extract receptors that has annotation of \"receptor\" under Ligand.Name\n",
    "receptor_anno <- as.vector(subset_lr[grep(\"receptor\", subset_lr$Ligand.Name), ]$Ligand)"
   ]
  },
  {
   "cell_type": "code",
   "execution_count": 113,
   "id": "bb64d5c7",
   "metadata": {},
   "outputs": [],
   "source": [
    "ligand <- c(\"AGRN\", \"BMP2\", \"BMP4\", \"VTCN1\", \"CD244\", \"CD38\", \"GAS6\", \"GDNF\", \"GUCA2A\", \n",
    "\"HHLA2\", \"IHH\", \"PSEN1\", \"NLGN\", \"NRTN\", \"RPH3A\", \"SHH\",\"FLT3LG\")\n",
    "\n",
    "receptor <- c(\"CD2\", \"CD27\", \"CD80\", \"CD86\", \"SELL\", \"CD44\", \"CD81\", \"CD8A\", \"CLEC1B\", \n",
    "\"GLG1\", \"TYROBP\", \"FLT3\", \"ERBB2\", \"EGFR\", \"IL1R1\", \"IL1RAP\", \"KDR\", \"NRP1\")"
   ]
  },
  {
   "cell_type": "code",
   "execution_count": 114,
   "id": "b306e385",
   "metadata": {},
   "outputs": [],
   "source": [
    "# Combine the additional ligands with the plexin, neuroligin, and ADAM families into a vector called ligand\n",
    "ligand <- unique(c(ligand,plexin_family,neuroligin_family,adam_family))\n",
    "receptor <- unique(c(receptor,receptor_anno))"
   ]
  },
  {
   "cell_type": "code",
   "execution_count": 115,
   "id": "f04756cb",
   "metadata": {},
   "outputs": [],
   "source": [
    "# Subset the subset_lr data frame to only include rows where the consensus_direction column is 1\n",
    "dir <- subset_lr %>% filter(Pair.Name %in% subset_lr$dup & consensus_direction == 1)"
   ]
  },
  {
   "cell_type": "code",
   "execution_count": 116,
   "id": "c7d64861",
   "metadata": {},
   "outputs": [],
   "source": [
    "# Subset the subset_lr data frame to only include rows where the consensus_direction column is 0\n",
    "no_dir <- subset_lr %>% filter(Pair.Name %in% subset_lr$dup & consensus_direction == 0)"
   ]
  },
  {
   "cell_type": "code",
   "execution_count": 117,
   "id": "a9d5a425",
   "metadata": {},
   "outputs": [
    {
     "data": {
      "text/html": [
       "287"
      ],
      "text/latex": [
       "287"
      ],
      "text/markdown": [
       "287"
      ],
      "text/plain": [
       "[1] 287"
      ]
     },
     "metadata": {},
     "output_type": "display_data"
    }
   ],
   "source": [
    "nrow(no_dir)"
   ]
  },
  {
   "cell_type": "code",
   "execution_count": 118,
   "id": "09c3bab3",
   "metadata": {},
   "outputs": [
    {
     "data": {
      "text/html": [
       "55"
      ],
      "text/latex": [
       "55"
      ],
      "text/markdown": [
       "55"
      ],
      "text/plain": [
       "[1] 55"
      ]
     },
     "metadata": {},
     "output_type": "display_data"
    }
   ],
   "source": [
    "nrow(dir)"
   ]
  },
  {
   "cell_type": "code",
   "execution_count": 119,
   "id": "8f339b54",
   "metadata": {},
   "outputs": [],
   "source": [
    "# Remove rows from no_dir where the pair is already present in dir\n",
    "in_dir <- dir[dir$dup %in% no_dir$Pair.Name,] \n",
    "no_dir <- no_dir[!no_dir$Pair.Name %in% dir$dup,  ] #removal of those in dir below is rm of nodir\n",
    "# dir <- dir[!dir$Pair.Name %in% in_dir$Pair.Name,] # did not work thats why there is below no fucking idea"
   ]
  },
  {
   "cell_type": "code",
   "execution_count": 120,
   "id": "d5063fce",
   "metadata": {},
   "outputs": [],
   "source": [
    "x <- dir[!dir$Pair.Name %in% in_dir$Pair.Name,]"
   ]
  },
  {
   "cell_type": "code",
   "execution_count": 121,
   "id": "dc7304c9",
   "metadata": {},
   "outputs": [],
   "source": [
    "dir<-x"
   ]
  },
  {
   "cell_type": "code",
   "execution_count": 122,
   "id": "cf439b75",
   "metadata": {},
   "outputs": [],
   "source": [
    "# remove the interactions where receptor is annotated as ligand\n",
    "wrong_lig <- no_dir[no_dir$Receptor %in% ligand,]\n",
    "correct_lig <- no_dir[no_dir$dup %in% wrong_lig$Pair.Name,]\n",
    "no_dir <- no_dir[!no_dir$Pair.Name %in% c(wrong_lig$Pair.Name, correct_lig$Pair.Name),]"
   ]
  },
  {
   "cell_type": "code",
   "execution_count": null,
   "id": "87e9db51",
   "metadata": {},
   "outputs": [],
   "source": []
  },
  {
   "cell_type": "code",
   "execution_count": 123,
   "id": "8d118e03",
   "metadata": {},
   "outputs": [],
   "source": [
    "wrong_rec <- no_dir[no_dir$Ligand %in% receptor,]\n",
    "wrong_rec <- wrong_rec[!wrong_rec$Pair.Name %in% wrong_rec$dup,]"
   ]
  },
  {
   "cell_type": "code",
   "execution_count": 124,
   "id": "71682762",
   "metadata": {},
   "outputs": [],
   "source": [
    "# remove the interactions where receptor is annotated as ligand\n",
    "wrong_rec <- no_dir[no_dir$Ligand %in% receptor,]\n",
    "wrong_rec <- wrong_rec[!wrong_rec$Pair.Name %in% wrong_rec$dup,]\n",
    "correct_rec <- no_dir[no_dir$dup %in% wrong_rec$Pair.Name,]\n",
    "no_dir <- no_dir[!no_dir$Pair.Name %in% c(wrong_rec$Pair.Name, correct_rec$Pair.Name),]"
   ]
  },
  {
   "cell_type": "code",
   "execution_count": 125,
   "id": "dd8fd679",
   "metadata": {},
   "outputs": [
    {
     "data": {
      "text/html": [
       "114"
      ],
      "text/latex": [
       "114"
      ],
      "text/markdown": [
       "114"
      ],
      "text/plain": [
       "[1] 114"
      ]
     },
     "metadata": {},
     "output_type": "display_data"
    }
   ],
   "source": [
    "nrow(no_dir)"
   ]
  },
  {
   "cell_type": "code",
   "execution_count": 126,
   "id": "ba837f60",
   "metadata": {},
   "outputs": [],
   "source": [
    "# remove the interactions where receptor is annotated as ligand\n",
    "# no_dir <- no_dir[!no_dir$Receptor %in% ligand,]"
   ]
  },
  {
   "cell_type": "code",
   "execution_count": 127,
   "id": "919a875a",
   "metadata": {},
   "outputs": [],
   "source": [
    "# remove the interactions where ligand is annotated as receptor\n",
    "# no_dir <- no_dir[!no_dir$Ligand %in% receptor,]"
   ]
  },
  {
   "cell_type": "code",
   "execution_count": 128,
   "id": "22d14bf8",
   "metadata": {},
   "outputs": [],
   "source": [
    "# wrong_lig <- no_dir[no_dir$Receptor %in% ligand,]"
   ]
  },
  {
   "cell_type": "code",
   "execution_count": 129,
   "id": "ab0b8039",
   "metadata": {},
   "outputs": [],
   "source": [
    "# Create an empty data frame called df with the same column names as no_dir\n",
    "df <- data.frame(matrix(ncol = ncol(no_dir), nrow = 0))\n",
    "x <- colnames(no_dir)\n",
    "colnames(df) <- x"
   ]
  },
  {
   "cell_type": "code",
   "execution_count": null,
   "id": "6ce079ef",
   "metadata": {},
   "outputs": [],
   "source": []
  },
  {
   "cell_type": "code",
   "execution_count": 130,
   "id": "b4f2665e",
   "metadata": {},
   "outputs": [],
   "source": [
    "# Loop through unique ligands in the no_dir data frame\n",
    "for (lig in unique(no_dir$Ligand)) {\n",
    "    vec_clean <- vector()\n",
    "    # Filter the no_dir data frame to include only rows where Ligand or Receptor column matches the current ligand in the loop\n",
    "    # this yields the pairs that are swapped.\n",
    "    r1 <- filter(no_dir, Ligand==lig | Receptor == lig)\n",
    "#     print(lig)\n",
    "#     print(nrow(r1))\n",
    "    vec <- r1$Pair.Name\n",
    "    \n",
    "    for (component in vec) {\n",
    "        comp <- unlist(strsplit(component, split = \"_\"))\n",
    "        pair1 <- paste(comp[1], comp[2], sep = \"_\")\n",
    "        pair2 <- paste(comp[2], comp[1], sep = \"_\")\n",
    "        \n",
    "        if (!pair1 %in% vec_clean & !pair2 %in% vec_clean) {\n",
    "            vec_clean <- append(vec_clean, pair1)\n",
    "        }\n",
    "    }\n",
    "    \n",
    "    # Filter the r1 data frame to include only the unique pairs in vec_clean and append the resulting data frame to df\n",
    "    c1 <- r1[r1$Pair.Name %in% vec_clean,]\n",
    "    \n",
    "    df <- rbind(df,c1)\n",
    "}"
   ]
  },
  {
   "cell_type": "code",
   "execution_count": 131,
   "id": "63bd9f90",
   "metadata": {},
   "outputs": [],
   "source": [
    "no_dir_df <- df[!duplicated(df$Pair.Name),]"
   ]
  },
  {
   "cell_type": "code",
   "execution_count": 132,
   "id": "66719fb7",
   "metadata": {},
   "outputs": [
    {
     "data": {
      "text/html": [
       "57"
      ],
      "text/latex": [
       "57"
      ],
      "text/markdown": [
       "57"
      ],
      "text/plain": [
       "[1] 57"
      ]
     },
     "metadata": {},
     "output_type": "display_data"
    }
   ],
   "source": [
    "nrow(no_dir_df)"
   ]
  },
  {
   "cell_type": "code",
   "execution_count": 133,
   "id": "4d5a341b",
   "metadata": {},
   "outputs": [],
   "source": [
    "# Combine the dir and no_dir_df data frames\n",
    "subset_lr <- rbind(dir,no_dir_df,in_dir,correct_lig,correct_rec)"
   ]
  },
  {
   "cell_type": "code",
   "execution_count": 134,
   "id": "7f408b01",
   "metadata": {},
   "outputs": [],
   "source": [
    "subset_lr[\"True_LR\"] <- FALSE"
   ]
  },
  {
   "cell_type": "code",
   "execution_count": 135,
   "id": "4c68a541",
   "metadata": {},
   "outputs": [],
   "source": [
    "# Add the remaining rows of LR_database to subset_lr\n",
    "adhesive_DB <- rbind(subset_lr,adhesive_DB)"
   ]
  },
  {
   "cell_type": "code",
   "execution_count": 136,
   "id": "467e07bb",
   "metadata": {},
   "outputs": [],
   "source": [
    "dir_fix <- c(\"ERBB2_EGFR\", \"IL1RAP_IL1R1\", \"NRP1_KDR\")"
   ]
  },
  {
   "cell_type": "code",
   "execution_count": 137,
   "id": "0e2de586",
   "metadata": {},
   "outputs": [],
   "source": [
    "adhesive_DB <- adhesive_DB[!adhesive_DB$Pair.Name %in% dir_fix,  ]"
   ]
  },
  {
   "cell_type": "code",
   "execution_count": 138,
   "id": "3cb710e0",
   "metadata": {},
   "outputs": [],
   "source": [
    "# adhesive_DB <- adhesive_DB[,!names(adhesive_DB) == \"dup\"]"
   ]
  },
  {
   "cell_type": "code",
   "execution_count": null,
   "id": "55bf1a99",
   "metadata": {},
   "outputs": [],
   "source": []
  },
  {
   "cell_type": "code",
   "execution_count": 139,
   "id": "d41eb8a1",
   "metadata": {},
   "outputs": [],
   "source": [
    "# found_in_LR[\"True_LR\"]<- TRUE"
   ]
  },
  {
   "cell_type": "code",
   "execution_count": 140,
   "id": "194e5c11",
   "metadata": {},
   "outputs": [],
   "source": [
    "LR_database <- rbind(true_LR_DB, adhesive_DB,found_in_LR)"
   ]
  },
  {
   "cell_type": "code",
   "execution_count": 141,
   "id": "164cb954",
   "metadata": {},
   "outputs": [],
   "source": [
    "LR_database <- LR_database[!LR_database$Pair.Name %in% found_in_LR$dup,]"
   ]
  },
  {
   "cell_type": "code",
   "execution_count": 142,
   "id": "85eb8b8f",
   "metadata": {},
   "outputs": [],
   "source": [
    "LR_database <- LR_database[!duplicated(LR_database$Pair.Name),]"
   ]
  },
  {
   "cell_type": "code",
   "execution_count": 143,
   "id": "d1b47ac9",
   "metadata": {},
   "outputs": [],
   "source": [
    "#update the complex_pair columns\n",
    "all_pairwise <- rbind(pairwise_pairs_curated, pairwise_pairs_lr)\n",
    "all_pairwise <- all_pairwise[!duplicated(all_pairwise$pair),]\n",
    "colnames(all_pairwise)[4] <- \"Pair.Name\"\n",
    "\n",
    "\n",
    "\n",
    "LR_database <- LR_database %>%\n",
    "  mutate(complex_pair = coalesce(all_pairwise$complex_pair[match(Pair.Name, all_pairwise$Pair.Name)], complex_pair))"
   ]
  },
  {
   "cell_type": "code",
   "execution_count": null,
   "id": "d95259c4",
   "metadata": {},
   "outputs": [],
   "source": []
  },
  {
   "cell_type": "code",
   "execution_count": 304,
   "id": "f5644e23",
   "metadata": {},
   "outputs": [],
   "source": [
    "LR_database <- LR_database[,!names(LR_database) == \"dup\"]"
   ]
  },
  {
   "cell_type": "code",
   "execution_count": 413,
   "id": "8817a857",
   "metadata": {},
   "outputs": [],
   "source": [
    "write.csv(LR_database, \"LR_database.csv\", row.names=FALSE)"
   ]
  },
  {
   "cell_type": "code",
   "execution_count": 414,
   "id": "216c4931",
   "metadata": {},
   "outputs": [],
   "source": [
    "save(LR_database, file = \"LR_database.rda\")"
   ]
  },
  {
   "cell_type": "code",
   "execution_count": null,
   "id": "e2f22956",
   "metadata": {},
   "outputs": [],
   "source": []
  },
  {
   "cell_type": "code",
   "execution_count": null,
   "id": "8e7df16a",
   "metadata": {},
   "outputs": [],
   "source": []
  }
 ],
 "metadata": {
  "kernelspec": {
   "display_name": "R",
   "language": "R",
   "name": "ir"
  },
  "language_info": {
   "codemirror_mode": "r",
   "file_extension": ".r",
   "mimetype": "text/x-r-source",
   "name": "R",
   "pygments_lexer": "r",
   "version": "4.1.2"
  }
 },
 "nbformat": 4,
 "nbformat_minor": 5
}
