{
 "cells": [
  {
   "cell_type": "code",
   "execution_count": 1,
   "id": "a769ad49",
   "metadata": {},
   "outputs": [
    {
     "name": "stderr",
     "output_type": "stream",
     "text": [
      "── \u001b[1mAttaching packages\u001b[22m ─────────────────────────────────────── tidyverse 1.3.2 ──\n",
      "\u001b[32m✔\u001b[39m \u001b[34mggplot2\u001b[39m 3.4.4      \u001b[32m✔\u001b[39m \u001b[34mpurrr  \u001b[39m 0.3.5 \n",
      "\u001b[32m✔\u001b[39m \u001b[34mtibble \u001b[39m 3.2.1      \u001b[32m✔\u001b[39m \u001b[34mdplyr  \u001b[39m 1.0.10\n",
      "\u001b[32m✔\u001b[39m \u001b[34mtidyr  \u001b[39m 1.2.1      \u001b[32m✔\u001b[39m \u001b[34mstringr\u001b[39m 1.5.1 \n",
      "\u001b[32m✔\u001b[39m \u001b[34mreadr  \u001b[39m 2.1.3      \u001b[32m✔\u001b[39m \u001b[34mforcats\u001b[39m 0.5.2 \n",
      "── \u001b[1mConflicts\u001b[22m ────────────────────────────────────────── tidyverse_conflicts() ──\n",
      "\u001b[31m✖\u001b[39m \u001b[34mdplyr\u001b[39m::\u001b[32mfilter()\u001b[39m masks \u001b[34mstats\u001b[39m::filter()\n",
      "\u001b[31m✖\u001b[39m \u001b[34mdplyr\u001b[39m::\u001b[32mlag()\u001b[39m    masks \u001b[34mstats\u001b[39m::lag()\n",
      "Loading required package: grid\n",
      "\n",
      "Loading required package: futile.logger\n",
      "\n"
     ]
    }
   ],
   "source": [
    "library(OmnipathR)\n",
    "# library(nichenetr)\n",
    "library(tidyverse)\n",
    "library(dplyr)\n",
    "library(VennDiagram)\n",
    "library(ggplot2)\n",
    "library(utils)"
   ]
  },
  {
   "cell_type": "markdown",
   "id": "721a5684",
   "metadata": {},
   "source": [
    "```import_ligrecextra_interactions```\n",
    "\n",
    "link: to documentation <https://r.omnipathdb.org/reference/import_ligrecextra_interactions.html>\n",
    "\n",
    "This LR dataset contains ligand-receptor interactions without literature reference. The ligand-receptor interactions supported by literature references are part of the `omnipath` dataset.\n",
    "\n",
    "\n",
    "Default params(without filtering resources) have 8350 edges. The table includes columns as follows. \n",
    "\n",
    "'source' 'target' 'source_genesymbol' 'target_genesymbol' 'is_directed' 'is_stimulation' 'is_inhibition' 'consensus_direction' 'consensus_stimulation' 'consensus_inhibition' 'sources' 'references' 'curation_effort' 'n_references' 'n_resources'\n",
    "\n",
    "**The consensus score is if resources support the classification of an entity into a category based on combined information of many resources.**\n",
    "\n",
    "| sources                                                         | ref | cur_effort | n_ref | n_source |\n",
    "|-----------------------------------------------------------------|-----|------------|-------|----------|\n",
    "|      Baccin2019;CellCall;PhosphoPoint;Ramilowski2015_Baccin2019 | NA  | 0          | 0     | 3        |\n",
    "| Baccin2019;CellCall;PhosphoPoint;Ramilowski2015_Baccin2019;Wang | NA  | 0          | 0     | 4        |\n",
    "|                                                                 |     |            |       |          |\n",
    "\n",
    "```curated_ligand_receptor_interactions```\n",
    "\n",
    "expert curated ligand-receptor resources, provided by this function\n",
    "\n",
    "\n"
   ]
  },
  {
   "cell_type": "code",
   "execution_count": 2,
   "id": "4bf99d42",
   "metadata": {},
   "outputs": [],
   "source": [
    "# https://r.omnipathdb.org/reference/curated_ligand_receptor_interactions.html\n",
    "# curated=curated_ligand_receptor_interactions()\n",
    "lr <- import_ligrecextra_interactions()\n",
    "lr <- lr %>% filter(!duplicated(lr[, c(\"source_genesymbol\", \"target_genesymbol\")]))\n",
    "lr$pair <- paste(lr$source_genesymbol, lr$target_genesymbol,sep=\"_\")\n",
    "lr$annotation_strategy <- \"LR\"\n",
    "\n",
    "\n",
    "curated <- curated_ligand_receptor_interactions()\n",
    "curated <- curated %>% filter(!duplicated(curated[, c(\"source_genesymbol\", \"target_genesymbol\")]))\n",
    "curated$pair <- paste(curated$source_genesymbol, curated$target_genesymbol,sep=\"_\")\n",
    "curated$annotation_strategy <- \"curated\""
   ]
  },
  {
   "cell_type": "code",
   "execution_count": 3,
   "id": "2d8b2e6d",
   "metadata": {},
   "outputs": [],
   "source": [
    "# if pair is also in curatedDB, annotation_strategy should be both\n",
    "lr <- lr %>%\n",
    "      mutate(annotation_strategy = ifelse(pair %in% curated$pair, \"both\", annotation_strategy))"
   ]
  },
  {
   "cell_type": "code",
   "execution_count": 4,
   "id": "7a55ee96",
   "metadata": {},
   "outputs": [],
   "source": [
    "both_db <- rbind(lr,curated)\n",
    "both_db <- both_db[!duplicated(both_db$pair), ]"
   ]
  },
  {
   "cell_type": "markdown",
   "id": "959fa8dd",
   "metadata": {},
   "source": [
    "```import_omnipath_intercell``` Imports the OmniPath intercellular **communication role annotation** database. It provides information on the roles in inter-cellular signaling. E.g. if a protein is a ligand, a receptor, an extracellular matrix (ECM) component, etc."
   ]
  },
  {
   "cell_type": "code",
   "execution_count": 5,
   "id": "a5a54454",
   "metadata": {},
   "outputs": [],
   "source": [
    "anno_raw <- import_omnipath_intercell()\n",
    "#subset annotation DB to only ligand and receptors\n",
    "anno_lig <- anno_raw %>%\n",
    "    dplyr::filter(category %in% c(\"receptor\",\"ligand\"))\n",
    "# Drop rows where the values in the \"parent\", \"database\", and \"uniprot\" columns are duplicated\n",
    "anno_raw <- anno_raw %>% filter(!duplicated(anno_raw[, c(\"parent\", \"database\", \"uniprot\")]))"
   ]
  },
  {
   "cell_type": "code",
   "execution_count": null,
   "id": "bbf3ba78",
   "metadata": {},
   "outputs": [],
   "source": []
  },
  {
   "cell_type": "markdown",
   "id": "1e382b4a",
   "metadata": {},
   "source": [
    "# Breaking down complexes"
   ]
  },
  {
   "cell_type": "markdown",
   "id": "4f69c663",
   "metadata": {},
   "source": [
    "Below, we produce all the the possible pairs. \n",
    "\n",
    "Example: lets assume complex G1_G2_G3 is linked to another complex G4_G5_G6\n",
    "\n",
    "| c1 | c2 | complex_origin    |\n",
    "|----|----|-------------------|\n",
    "| G1 | G2 | G1_G2_G3_G4_G5_G6 |\n",
    "| G1 | G3 | G1_G2_G3_G4_G5_G6 |\n",
    "| G1 | G4 | G1_G2_G3_G4_G5_G6 |\n",
    "| G1 | G5 | G1_G2_G3_G4_G5_G6 |\n",
    "| G1 | G6 | G1_G2_G3_G4_G5_G6 |\n",
    "| G2 | G1 | G1_G2_G3_G4_G5_G6 |\n",
    "| G2 | G3 | G1_G2_G3_G4_G5_G6 |\n",
    "| .. | .. | G1_G2_G3_G4_G5_G6 |"
   ]
  },
  {
   "cell_type": "code",
   "execution_count": 6,
   "id": "94a72ef3",
   "metadata": {},
   "outputs": [],
   "source": [
    "# This function breaks down complex interactions and returns a list of components\n",
    "# Input: OmniPath_DB\n",
    "# Output: list of components of complex molecules\n",
    "\n",
    "break_down_complex <- function(OmniPath_DB) {\n",
    "    # filter only those are in complex\n",
    "    complex <- filter(OmniPath_DB, grepl(\"COMPLEX\", target) | grepl(\"COMPLEX\", source))\n",
    "    complex$source <- sub(\"COMPLEX:\", \"\", complex$source)\n",
    "    complex$target <- sub(\"COMPLEX:\", \"\", complex$target)\n",
    "\n",
    "    # complexes are seperated into individual components\n",
    "    components_target <- unique(unlist(strsplit(complex$source_genesymbol, \"_\")))\n",
    "    components_source <- unique(unlist(strsplit(complex$target_genesymbol, \"_\")))\n",
    "    components_both <- c(components_target, components_source)\n",
    "    components_both <- unique(components_both)\n",
    "    return(list(components = components_both, complex = complex))\n",
    "}"
   ]
  },
  {
   "cell_type": "code",
   "execution_count": 7,
   "id": "8108f55e",
   "metadata": {},
   "outputs": [],
   "source": [
    "complex_components <- break_down_complex(both_db)"
   ]
  },
  {
   "cell_type": "code",
   "execution_count": 8,
   "id": "17958cf0",
   "metadata": {},
   "outputs": [],
   "source": [
    "# This function takes the complex data frame and returns a data frame containing all possible pairwise pairs\n",
    "# The function loops through each row of the complex data frame and extracts the values from the first and second\n",
    "# columns. The loop then generates all the possible pairwise pairs using the combn function and appends the results\n",
    "# to a list. The function then binds the results into a single data frame, switches the values in the source and target\n",
    "# columns, and binds the rows into a single data frame. The function then drops the self links and returns the data frame.\n",
    "\n",
    "\n",
    "create_pairwise_pairs <- function(complex){\n",
    "    # Produce all the possbile pairwise pairs\n",
    "\n",
    "    results <- list()\n",
    "\n",
    "    # Loop through each row of the data frame\n",
    "    for (i in 1:nrow(complex)) {\n",
    "      # Extract the values from the first column\n",
    "      values1 <- unlist(strsplit(as.character(complex[i, \"source_genesymbol\"]), \"_\"))\n",
    "      # Extract the values from the second column\n",
    "      values2 <- unlist(strsplit(as.character(complex[i, \"target_genesymbol\"]), \"_\"))\n",
    "      # Keep the original pair\n",
    "      original <- paste(complex[i, \"source_genesymbol\"],complex[i, \"target_genesymbol\"],sep=\"_\")\n",
    "      # Generate all the pairwise combinations using combn\n",
    "      pairs <- combn(c(values1, values2), 2)\n",
    "      pairs <- t(pairs)\n",
    "      pairs <- cbind(pairs,original)\n",
    "      # Append the results to the list\n",
    "      results[[i]] <- as.data.frame(pairs)\n",
    "        colnames(results[[i]]) = c(\"source\",\"target\",\"complex_pair\")\n",
    "        row.names(results[[i]]) <- NULL\n",
    "    }\n",
    "\n",
    "    # Bind the results into a single data frame\n",
    "    result_df2 <- as.data.frame(do.call(rbind, results))\n",
    "\n",
    "    # Switch the values in the \"col1\" and \"col2\" columns\n",
    "    df1 <- cbind(result_df2[,2], result_df2[,1], result_df2[,3])\n",
    "    colnames(df1) <- names(result_df2)\n",
    "    # Bind the rows into a single data frame\n",
    "    result_df <- rbind(result_df2, df1)\n",
    "\n",
    "\n",
    "    # Drop the self links\n",
    "#     result_df <- result_df %>% filter(!duplicated(result_df[, c(\"source\", \"target\")]))\n",
    "    \n",
    "    # create pairs column\n",
    "    result_df$pair=paste(result_df$source, result_df$target,sep=\"_\")\n",
    "    \n",
    "    return(result_df)\n",
    "}"
   ]
  },
  {
   "cell_type": "code",
   "execution_count": 9,
   "id": "f82e3e72",
   "metadata": {},
   "outputs": [],
   "source": [
    "pairwise_pairs <- create_pairwise_pairs(complex_components$complex)"
   ]
  },
  {
   "cell_type": "code",
   "execution_count": 10,
   "id": "3ce84fe5",
   "metadata": {},
   "outputs": [
    {
     "data": {
      "text/html": [
       "3272"
      ],
      "text/latex": [
       "3272"
      ],
      "text/markdown": [
       "3272"
      ],
      "text/plain": [
       "[1] 3272"
      ]
     },
     "metadata": {},
     "output_type": "display_data"
    }
   ],
   "source": [
    "length(unique(pairwise_pairs$pair))"
   ]
  },
  {
   "cell_type": "code",
   "execution_count": 11,
   "id": "05296277",
   "metadata": {},
   "outputs": [
    {
     "data": {
      "text/html": [
       "<table class=\"dataframe\">\n",
       "<caption>A data.frame: 6 × 4</caption>\n",
       "<thead>\n",
       "\t<tr><th scope=col>source</th><th scope=col>target</th><th scope=col>complex_pair</th><th scope=col>pair</th></tr>\n",
       "\t<tr><th scope=col>&lt;chr&gt;</th><th scope=col>&lt;chr&gt;</th><th scope=col>&lt;chr&gt;</th><th scope=col>&lt;chr&gt;</th></tr>\n",
       "</thead>\n",
       "<tbody>\n",
       "\t<tr><td>IL17A </td><td>IL17RA</td><td>IL17A_IL17RA_IL17RC</td><td>IL17A_IL17RA </td></tr>\n",
       "\t<tr><td>IL17A </td><td>IL17RC</td><td>IL17A_IL17RA_IL17RC</td><td>IL17A_IL17RC </td></tr>\n",
       "\t<tr><td>IL17RA</td><td>IL17RC</td><td>IL17A_IL17RA_IL17RC</td><td>IL17RA_IL17RC</td></tr>\n",
       "\t<tr><td>IL17RA</td><td>IL17A </td><td>IL17A_IL17RA_IL17RC</td><td>IL17RA_IL17A </td></tr>\n",
       "\t<tr><td>IL17RC</td><td>IL17A </td><td>IL17A_IL17RA_IL17RC</td><td>IL17RC_IL17A </td></tr>\n",
       "\t<tr><td>IL17RC</td><td>IL17RA</td><td>IL17A_IL17RA_IL17RC</td><td>IL17RC_IL17RA</td></tr>\n",
       "</tbody>\n",
       "</table>\n"
      ],
      "text/latex": [
       "A data.frame: 6 × 4\n",
       "\\begin{tabular}{llll}\n",
       " source & target & complex\\_pair & pair\\\\\n",
       " <chr> & <chr> & <chr> & <chr>\\\\\n",
       "\\hline\n",
       "\t IL17A  & IL17RA & IL17A\\_IL17RA\\_IL17RC & IL17A\\_IL17RA \\\\\n",
       "\t IL17A  & IL17RC & IL17A\\_IL17RA\\_IL17RC & IL17A\\_IL17RC \\\\\n",
       "\t IL17RA & IL17RC & IL17A\\_IL17RA\\_IL17RC & IL17RA\\_IL17RC\\\\\n",
       "\t IL17RA & IL17A  & IL17A\\_IL17RA\\_IL17RC & IL17RA\\_IL17A \\\\\n",
       "\t IL17RC & IL17A  & IL17A\\_IL17RA\\_IL17RC & IL17RC\\_IL17A \\\\\n",
       "\t IL17RC & IL17RA & IL17A\\_IL17RA\\_IL17RC & IL17RC\\_IL17RA\\\\\n",
       "\\end{tabular}\n"
      ],
      "text/markdown": [
       "\n",
       "A data.frame: 6 × 4\n",
       "\n",
       "| source &lt;chr&gt; | target &lt;chr&gt; | complex_pair &lt;chr&gt; | pair &lt;chr&gt; |\n",
       "|---|---|---|---|\n",
       "| IL17A  | IL17RA | IL17A_IL17RA_IL17RC | IL17A_IL17RA  |\n",
       "| IL17A  | IL17RC | IL17A_IL17RA_IL17RC | IL17A_IL17RC  |\n",
       "| IL17RA | IL17RC | IL17A_IL17RA_IL17RC | IL17RA_IL17RC |\n",
       "| IL17RA | IL17A  | IL17A_IL17RA_IL17RC | IL17RA_IL17A  |\n",
       "| IL17RC | IL17A  | IL17A_IL17RA_IL17RC | IL17RC_IL17A  |\n",
       "| IL17RC | IL17RA | IL17A_IL17RA_IL17RC | IL17RC_IL17RA |\n",
       "\n"
      ],
      "text/plain": [
       "  source target complex_pair        pair         \n",
       "1 IL17A  IL17RA IL17A_IL17RA_IL17RC IL17A_IL17RA \n",
       "2 IL17A  IL17RC IL17A_IL17RA_IL17RC IL17A_IL17RC \n",
       "3 IL17RA IL17RC IL17A_IL17RA_IL17RC IL17RA_IL17RC\n",
       "4 IL17RA IL17A  IL17A_IL17RA_IL17RC IL17RA_IL17A \n",
       "5 IL17RC IL17A  IL17A_IL17RA_IL17RC IL17RC_IL17A \n",
       "6 IL17RC IL17RA IL17A_IL17RA_IL17RC IL17RC_IL17RA"
      ]
     },
     "metadata": {},
     "output_type": "display_data"
    }
   ],
   "source": [
    "filter(pairwise_pairs, complex_pair==\"IL17A_IL17RA_IL17RC\")"
   ]
  },
  {
   "cell_type": "markdown",
   "id": "bcd27180",
   "metadata": {},
   "source": [
    "# Linking through PPI"
   ]
  },
  {
   "cell_type": "markdown",
   "id": "93ba491b",
   "metadata": {},
   "source": [
    "We are using the Omnipath intercellular interaction network, which is the largest available network of its kind, to detect interactions rather than make predictions. The creators of the network have noted that it may contain a large number of false positives. Despite this, we are using it in combination with an annotations database to detect interactions. The network has a size of 98,165 edges."
   ]
  },
  {
   "cell_type": "code",
   "execution_count": 12,
   "id": "51471dcb",
   "metadata": {},
   "outputs": [],
   "source": [
    "# Import All PPI\n",
    "pt <- import_post_translational_interactions()"
   ]
  },
  {
   "cell_type": "code",
   "execution_count": 13,
   "id": "65979f64",
   "metadata": {},
   "outputs": [],
   "source": [
    "ppi_network=pt %>% filter(!duplicated(pt[, c(\"source_genesymbol\", \"target_genesymbol\")]))"
   ]
  },
  {
   "cell_type": "code",
   "execution_count": 14,
   "id": "5c8eb5a5",
   "metadata": {},
   "outputs": [],
   "source": [
    "# create pairs, so its easier to check\n",
    "ppi_network$pair=paste(ppi_network$source_genesymbol, ppi_network$target_genesymbol,sep=\"_\")"
   ]
  },
  {
   "cell_type": "code",
   "execution_count": null,
   "id": "5e497a00",
   "metadata": {},
   "outputs": [],
   "source": []
  },
  {
   "cell_type": "code",
   "execution_count": 15,
   "id": "f9f68fea",
   "metadata": {},
   "outputs": [
    {
     "name": "stdout",
     "output_type": "stream",
     "text": [
      "'data.frame':\t3042 obs. of  4 variables:\n",
      " $ source      : chr  \"IL17A\" \"IL17A\" \"NPNT\" \"NPNT\" ...\n",
      " $ target      : chr  \"IL17RA\" \"IL17RC\" \"ITGA8\" \"ITGB1\" ...\n",
      " $ complex_pair: chr  \"IL17A_IL17RA_IL17RC\" \"IL17A_IL17RA_IL17RC\" \"NPNT_ITGA8_ITGB1\" \"NPNT_ITGA8_ITGB1\" ...\n",
      " $ pair        : chr  \"IL17A_IL17RA\" \"IL17A_IL17RC\" \"NPNT_ITGA8\" \"NPNT_ITGB1\" ...\n"
     ]
    }
   ],
   "source": [
    "# The data frame result_df consists of all the pairwise pair combinations, \n",
    "# and we are checking if those pairs exist in the PT network\n",
    "pt_interactions <- pairwise_pairs %>%\n",
    "    filter(pair %in% ppi_network$pair)\n",
    "\n",
    "str(pt_interactions)"
   ]
  },
  {
   "cell_type": "code",
   "execution_count": 16,
   "id": "59e1a474",
   "metadata": {
    "scrolled": true
   },
   "outputs": [
    {
     "data": {
      "text/html": [
       "<table class=\"dataframe\">\n",
       "<caption>A data.frame: 6 × 4</caption>\n",
       "<thead>\n",
       "\t<tr><th></th><th scope=col>source</th><th scope=col>target</th><th scope=col>complex_pair</th><th scope=col>pair</th></tr>\n",
       "\t<tr><th></th><th scope=col>&lt;chr&gt;</th><th scope=col>&lt;chr&gt;</th><th scope=col>&lt;chr&gt;</th><th scope=col>&lt;chr&gt;</th></tr>\n",
       "</thead>\n",
       "<tbody>\n",
       "\t<tr><th scope=row>1</th><td>IL17A</td><td>IL17RA</td><td>IL17A_IL17RA_IL17RC</td><td>IL17A_IL17RA</td></tr>\n",
       "\t<tr><th scope=row>2</th><td>IL17A</td><td>IL17RC</td><td>IL17A_IL17RA_IL17RC</td><td>IL17A_IL17RC</td></tr>\n",
       "\t<tr><th scope=row>3</th><td>NPNT </td><td>ITGA8 </td><td>NPNT_ITGA8_ITGB1   </td><td>NPNT_ITGA8  </td></tr>\n",
       "\t<tr><th scope=row>4</th><td>NPNT </td><td>ITGB1 </td><td>NPNT_ITGA8_ITGB1   </td><td>NPNT_ITGB1  </td></tr>\n",
       "\t<tr><th scope=row>5</th><td>ITGAL</td><td>ICAM1 </td><td>ITGAL_ITGB2_ICAM1  </td><td>ITGAL_ICAM1 </td></tr>\n",
       "\t<tr><th scope=row>6</th><td>ITGB2</td><td>ICAM1 </td><td>ITGAL_ITGB2_ICAM1  </td><td>ITGB2_ICAM1 </td></tr>\n",
       "</tbody>\n",
       "</table>\n"
      ],
      "text/latex": [
       "A data.frame: 6 × 4\n",
       "\\begin{tabular}{r|llll}\n",
       "  & source & target & complex\\_pair & pair\\\\\n",
       "  & <chr> & <chr> & <chr> & <chr>\\\\\n",
       "\\hline\n",
       "\t1 & IL17A & IL17RA & IL17A\\_IL17RA\\_IL17RC & IL17A\\_IL17RA\\\\\n",
       "\t2 & IL17A & IL17RC & IL17A\\_IL17RA\\_IL17RC & IL17A\\_IL17RC\\\\\n",
       "\t3 & NPNT  & ITGA8  & NPNT\\_ITGA8\\_ITGB1    & NPNT\\_ITGA8  \\\\\n",
       "\t4 & NPNT  & ITGB1  & NPNT\\_ITGA8\\_ITGB1    & NPNT\\_ITGB1  \\\\\n",
       "\t5 & ITGAL & ICAM1  & ITGAL\\_ITGB2\\_ICAM1   & ITGAL\\_ICAM1 \\\\\n",
       "\t6 & ITGB2 & ICAM1  & ITGAL\\_ITGB2\\_ICAM1   & ITGB2\\_ICAM1 \\\\\n",
       "\\end{tabular}\n"
      ],
      "text/markdown": [
       "\n",
       "A data.frame: 6 × 4\n",
       "\n",
       "| <!--/--> | source &lt;chr&gt; | target &lt;chr&gt; | complex_pair &lt;chr&gt; | pair &lt;chr&gt; |\n",
       "|---|---|---|---|---|\n",
       "| 1 | IL17A | IL17RA | IL17A_IL17RA_IL17RC | IL17A_IL17RA |\n",
       "| 2 | IL17A | IL17RC | IL17A_IL17RA_IL17RC | IL17A_IL17RC |\n",
       "| 3 | NPNT  | ITGA8  | NPNT_ITGA8_ITGB1    | NPNT_ITGA8   |\n",
       "| 4 | NPNT  | ITGB1  | NPNT_ITGA8_ITGB1    | NPNT_ITGB1   |\n",
       "| 5 | ITGAL | ICAM1  | ITGAL_ITGB2_ICAM1   | ITGAL_ICAM1  |\n",
       "| 6 | ITGB2 | ICAM1  | ITGAL_ITGB2_ICAM1   | ITGB2_ICAM1  |\n",
       "\n"
      ],
      "text/plain": [
       "  source target complex_pair        pair        \n",
       "1 IL17A  IL17RA IL17A_IL17RA_IL17RC IL17A_IL17RA\n",
       "2 IL17A  IL17RC IL17A_IL17RA_IL17RC IL17A_IL17RC\n",
       "3 NPNT   ITGA8  NPNT_ITGA8_ITGB1    NPNT_ITGA8  \n",
       "4 NPNT   ITGB1  NPNT_ITGA8_ITGB1    NPNT_ITGB1  \n",
       "5 ITGAL  ICAM1  ITGAL_ITGB2_ICAM1   ITGAL_ICAM1 \n",
       "6 ITGB2  ICAM1  ITGAL_ITGB2_ICAM1   ITGB2_ICAM1 "
      ]
     },
     "metadata": {},
     "output_type": "display_data"
    }
   ],
   "source": [
    "head(pt_interactions)"
   ]
  },
  {
   "cell_type": "markdown",
   "id": "1a4f157d",
   "metadata": {},
   "source": [
    "**In below we demonstrate that all the possible pairs are produced orginating from the complex pair ```IL17A_IL17RA_IL17RC``` and through PT database, we filter out those does not exist in the PPI.**"
   ]
  },
  {
   "cell_type": "code",
   "execution_count": 17,
   "id": "a522665e",
   "metadata": {},
   "outputs": [
    {
     "data": {
      "text/html": [
       "<table class=\"dataframe\">\n",
       "<caption>A data.frame: 6 × 4</caption>\n",
       "<thead>\n",
       "\t<tr><th scope=col>source</th><th scope=col>target</th><th scope=col>complex_pair</th><th scope=col>pair</th></tr>\n",
       "\t<tr><th scope=col>&lt;chr&gt;</th><th scope=col>&lt;chr&gt;</th><th scope=col>&lt;chr&gt;</th><th scope=col>&lt;chr&gt;</th></tr>\n",
       "</thead>\n",
       "<tbody>\n",
       "\t<tr><td>IL17A </td><td>IL17RA</td><td>IL17A_IL17RA_IL17RC</td><td>IL17A_IL17RA </td></tr>\n",
       "\t<tr><td>IL17A </td><td>IL17RC</td><td>IL17A_IL17RA_IL17RC</td><td>IL17A_IL17RC </td></tr>\n",
       "\t<tr><td>IL17RA</td><td>IL17RC</td><td>IL17A_IL17RA_IL17RC</td><td>IL17RA_IL17RC</td></tr>\n",
       "\t<tr><td>IL17RA</td><td>IL17A </td><td>IL17A_IL17RA_IL17RC</td><td>IL17RA_IL17A </td></tr>\n",
       "\t<tr><td>IL17RC</td><td>IL17A </td><td>IL17A_IL17RA_IL17RC</td><td>IL17RC_IL17A </td></tr>\n",
       "\t<tr><td>IL17RC</td><td>IL17RA</td><td>IL17A_IL17RA_IL17RC</td><td>IL17RC_IL17RA</td></tr>\n",
       "</tbody>\n",
       "</table>\n"
      ],
      "text/latex": [
       "A data.frame: 6 × 4\n",
       "\\begin{tabular}{llll}\n",
       " source & target & complex\\_pair & pair\\\\\n",
       " <chr> & <chr> & <chr> & <chr>\\\\\n",
       "\\hline\n",
       "\t IL17A  & IL17RA & IL17A\\_IL17RA\\_IL17RC & IL17A\\_IL17RA \\\\\n",
       "\t IL17A  & IL17RC & IL17A\\_IL17RA\\_IL17RC & IL17A\\_IL17RC \\\\\n",
       "\t IL17RA & IL17RC & IL17A\\_IL17RA\\_IL17RC & IL17RA\\_IL17RC\\\\\n",
       "\t IL17RA & IL17A  & IL17A\\_IL17RA\\_IL17RC & IL17RA\\_IL17A \\\\\n",
       "\t IL17RC & IL17A  & IL17A\\_IL17RA\\_IL17RC & IL17RC\\_IL17A \\\\\n",
       "\t IL17RC & IL17RA & IL17A\\_IL17RA\\_IL17RC & IL17RC\\_IL17RA\\\\\n",
       "\\end{tabular}\n"
      ],
      "text/markdown": [
       "\n",
       "A data.frame: 6 × 4\n",
       "\n",
       "| source &lt;chr&gt; | target &lt;chr&gt; | complex_pair &lt;chr&gt; | pair &lt;chr&gt; |\n",
       "|---|---|---|---|\n",
       "| IL17A  | IL17RA | IL17A_IL17RA_IL17RC | IL17A_IL17RA  |\n",
       "| IL17A  | IL17RC | IL17A_IL17RA_IL17RC | IL17A_IL17RC  |\n",
       "| IL17RA | IL17RC | IL17A_IL17RA_IL17RC | IL17RA_IL17RC |\n",
       "| IL17RA | IL17A  | IL17A_IL17RA_IL17RC | IL17RA_IL17A  |\n",
       "| IL17RC | IL17A  | IL17A_IL17RA_IL17RC | IL17RC_IL17A  |\n",
       "| IL17RC | IL17RA | IL17A_IL17RA_IL17RC | IL17RC_IL17RA |\n",
       "\n"
      ],
      "text/plain": [
       "  source target complex_pair        pair         \n",
       "1 IL17A  IL17RA IL17A_IL17RA_IL17RC IL17A_IL17RA \n",
       "2 IL17A  IL17RC IL17A_IL17RA_IL17RC IL17A_IL17RC \n",
       "3 IL17RA IL17RC IL17A_IL17RA_IL17RC IL17RA_IL17RC\n",
       "4 IL17RA IL17A  IL17A_IL17RA_IL17RC IL17RA_IL17A \n",
       "5 IL17RC IL17A  IL17A_IL17RA_IL17RC IL17RC_IL17A \n",
       "6 IL17RC IL17RA IL17A_IL17RA_IL17RC IL17RC_IL17RA"
      ]
     },
     "metadata": {},
     "output_type": "display_data"
    }
   ],
   "source": [
    "filter(pairwise_pairs, complex_pair==\"IL17A_IL17RA_IL17RC\")"
   ]
  },
  {
   "cell_type": "code",
   "execution_count": 18,
   "id": "b2e27119",
   "metadata": {},
   "outputs": [
    {
     "data": {
      "text/html": [
       "<table class=\"dataframe\">\n",
       "<caption>A data.frame: 3 × 4</caption>\n",
       "<thead>\n",
       "\t<tr><th scope=col>source</th><th scope=col>target</th><th scope=col>complex_pair</th><th scope=col>pair</th></tr>\n",
       "\t<tr><th scope=col>&lt;chr&gt;</th><th scope=col>&lt;chr&gt;</th><th scope=col>&lt;chr&gt;</th><th scope=col>&lt;chr&gt;</th></tr>\n",
       "</thead>\n",
       "<tbody>\n",
       "\t<tr><td>IL17A </td><td>IL17RA</td><td>IL17A_IL17RA_IL17RC</td><td>IL17A_IL17RA</td></tr>\n",
       "\t<tr><td>IL17A </td><td>IL17RC</td><td>IL17A_IL17RA_IL17RC</td><td>IL17A_IL17RC</td></tr>\n",
       "\t<tr><td>IL17RA</td><td>IL17A </td><td>IL17A_IL17RA_IL17RC</td><td>IL17RA_IL17A</td></tr>\n",
       "</tbody>\n",
       "</table>\n"
      ],
      "text/latex": [
       "A data.frame: 3 × 4\n",
       "\\begin{tabular}{llll}\n",
       " source & target & complex\\_pair & pair\\\\\n",
       " <chr> & <chr> & <chr> & <chr>\\\\\n",
       "\\hline\n",
       "\t IL17A  & IL17RA & IL17A\\_IL17RA\\_IL17RC & IL17A\\_IL17RA\\\\\n",
       "\t IL17A  & IL17RC & IL17A\\_IL17RA\\_IL17RC & IL17A\\_IL17RC\\\\\n",
       "\t IL17RA & IL17A  & IL17A\\_IL17RA\\_IL17RC & IL17RA\\_IL17A\\\\\n",
       "\\end{tabular}\n"
      ],
      "text/markdown": [
       "\n",
       "A data.frame: 3 × 4\n",
       "\n",
       "| source &lt;chr&gt; | target &lt;chr&gt; | complex_pair &lt;chr&gt; | pair &lt;chr&gt; |\n",
       "|---|---|---|---|\n",
       "| IL17A  | IL17RA | IL17A_IL17RA_IL17RC | IL17A_IL17RA |\n",
       "| IL17A  | IL17RC | IL17A_IL17RA_IL17RC | IL17A_IL17RC |\n",
       "| IL17RA | IL17A  | IL17A_IL17RA_IL17RC | IL17RA_IL17A |\n",
       "\n"
      ],
      "text/plain": [
       "  source target complex_pair        pair        \n",
       "1 IL17A  IL17RA IL17A_IL17RA_IL17RC IL17A_IL17RA\n",
       "2 IL17A  IL17RC IL17A_IL17RA_IL17RC IL17A_IL17RC\n",
       "3 IL17RA IL17A  IL17A_IL17RA_IL17RC IL17RA_IL17A"
      ]
     },
     "metadata": {},
     "output_type": "display_data"
    }
   ],
   "source": [
    "filter(pt_interactions, complex_pair==\"IL17A_IL17RA_IL17RC\")"
   ]
  },
  {
   "cell_type": "code",
   "execution_count": 19,
   "id": "630d7878",
   "metadata": {},
   "outputs": [
    {
     "data": {
      "text/html": [
       "<table class=\"dataframe\">\n",
       "<caption>A data.frame: 6 × 4</caption>\n",
       "<thead>\n",
       "\t<tr><th scope=col>source</th><th scope=col>target</th><th scope=col>complex_pair</th><th scope=col>pair</th></tr>\n",
       "\t<tr><th scope=col>&lt;chr&gt;</th><th scope=col>&lt;chr&gt;</th><th scope=col>&lt;chr&gt;</th><th scope=col>&lt;chr&gt;</th></tr>\n",
       "</thead>\n",
       "<tbody>\n",
       "\t<tr><td>ITGAL</td><td>ITGB2</td><td>ITGAL_ITGB2_ICAM1</td><td>ITGAL_ITGB2</td></tr>\n",
       "\t<tr><td>ITGAL</td><td>ICAM1</td><td>ITGAL_ITGB2_ICAM1</td><td>ITGAL_ICAM1</td></tr>\n",
       "\t<tr><td>ITGB2</td><td>ICAM1</td><td>ITGAL_ITGB2_ICAM1</td><td>ITGB2_ICAM1</td></tr>\n",
       "\t<tr><td>ITGB2</td><td>ITGAL</td><td>ITGAL_ITGB2_ICAM1</td><td>ITGB2_ITGAL</td></tr>\n",
       "\t<tr><td>ICAM1</td><td>ITGAL</td><td>ITGAL_ITGB2_ICAM1</td><td>ICAM1_ITGAL</td></tr>\n",
       "\t<tr><td>ICAM1</td><td>ITGB2</td><td>ITGAL_ITGB2_ICAM1</td><td>ICAM1_ITGB2</td></tr>\n",
       "</tbody>\n",
       "</table>\n"
      ],
      "text/latex": [
       "A data.frame: 6 × 4\n",
       "\\begin{tabular}{llll}\n",
       " source & target & complex\\_pair & pair\\\\\n",
       " <chr> & <chr> & <chr> & <chr>\\\\\n",
       "\\hline\n",
       "\t ITGAL & ITGB2 & ITGAL\\_ITGB2\\_ICAM1 & ITGAL\\_ITGB2\\\\\n",
       "\t ITGAL & ICAM1 & ITGAL\\_ITGB2\\_ICAM1 & ITGAL\\_ICAM1\\\\\n",
       "\t ITGB2 & ICAM1 & ITGAL\\_ITGB2\\_ICAM1 & ITGB2\\_ICAM1\\\\\n",
       "\t ITGB2 & ITGAL & ITGAL\\_ITGB2\\_ICAM1 & ITGB2\\_ITGAL\\\\\n",
       "\t ICAM1 & ITGAL & ITGAL\\_ITGB2\\_ICAM1 & ICAM1\\_ITGAL\\\\\n",
       "\t ICAM1 & ITGB2 & ITGAL\\_ITGB2\\_ICAM1 & ICAM1\\_ITGB2\\\\\n",
       "\\end{tabular}\n"
      ],
      "text/markdown": [
       "\n",
       "A data.frame: 6 × 4\n",
       "\n",
       "| source &lt;chr&gt; | target &lt;chr&gt; | complex_pair &lt;chr&gt; | pair &lt;chr&gt; |\n",
       "|---|---|---|---|\n",
       "| ITGAL | ITGB2 | ITGAL_ITGB2_ICAM1 | ITGAL_ITGB2 |\n",
       "| ITGAL | ICAM1 | ITGAL_ITGB2_ICAM1 | ITGAL_ICAM1 |\n",
       "| ITGB2 | ICAM1 | ITGAL_ITGB2_ICAM1 | ITGB2_ICAM1 |\n",
       "| ITGB2 | ITGAL | ITGAL_ITGB2_ICAM1 | ITGB2_ITGAL |\n",
       "| ICAM1 | ITGAL | ITGAL_ITGB2_ICAM1 | ICAM1_ITGAL |\n",
       "| ICAM1 | ITGB2 | ITGAL_ITGB2_ICAM1 | ICAM1_ITGB2 |\n",
       "\n"
      ],
      "text/plain": [
       "  source target complex_pair      pair       \n",
       "1 ITGAL  ITGB2  ITGAL_ITGB2_ICAM1 ITGAL_ITGB2\n",
       "2 ITGAL  ICAM1  ITGAL_ITGB2_ICAM1 ITGAL_ICAM1\n",
       "3 ITGB2  ICAM1  ITGAL_ITGB2_ICAM1 ITGB2_ICAM1\n",
       "4 ITGB2  ITGAL  ITGAL_ITGB2_ICAM1 ITGB2_ITGAL\n",
       "5 ICAM1  ITGAL  ITGAL_ITGB2_ICAM1 ICAM1_ITGAL\n",
       "6 ICAM1  ITGB2  ITGAL_ITGB2_ICAM1 ICAM1_ITGB2"
      ]
     },
     "metadata": {},
     "output_type": "display_data"
    }
   ],
   "source": [
    "filter(pairwise_pairs, complex_pair==\"ITGAL_ITGB2_ICAM1\")"
   ]
  },
  {
   "cell_type": "code",
   "execution_count": 20,
   "id": "4638e79a",
   "metadata": {},
   "outputs": [
    {
     "data": {
      "text/html": [
       "<table class=\"dataframe\">\n",
       "<caption>A data.frame: 4 × 4</caption>\n",
       "<thead>\n",
       "\t<tr><th scope=col>source</th><th scope=col>target</th><th scope=col>complex_pair</th><th scope=col>pair</th></tr>\n",
       "\t<tr><th scope=col>&lt;chr&gt;</th><th scope=col>&lt;chr&gt;</th><th scope=col>&lt;chr&gt;</th><th scope=col>&lt;chr&gt;</th></tr>\n",
       "</thead>\n",
       "<tbody>\n",
       "\t<tr><td>ITGAL</td><td>ICAM1</td><td>ITGAL_ITGB2_ICAM1</td><td>ITGAL_ICAM1</td></tr>\n",
       "\t<tr><td>ITGB2</td><td>ICAM1</td><td>ITGAL_ITGB2_ICAM1</td><td>ITGB2_ICAM1</td></tr>\n",
       "\t<tr><td>ICAM1</td><td>ITGAL</td><td>ITGAL_ITGB2_ICAM1</td><td>ICAM1_ITGAL</td></tr>\n",
       "\t<tr><td>ICAM1</td><td>ITGB2</td><td>ITGAL_ITGB2_ICAM1</td><td>ICAM1_ITGB2</td></tr>\n",
       "</tbody>\n",
       "</table>\n"
      ],
      "text/latex": [
       "A data.frame: 4 × 4\n",
       "\\begin{tabular}{llll}\n",
       " source & target & complex\\_pair & pair\\\\\n",
       " <chr> & <chr> & <chr> & <chr>\\\\\n",
       "\\hline\n",
       "\t ITGAL & ICAM1 & ITGAL\\_ITGB2\\_ICAM1 & ITGAL\\_ICAM1\\\\\n",
       "\t ITGB2 & ICAM1 & ITGAL\\_ITGB2\\_ICAM1 & ITGB2\\_ICAM1\\\\\n",
       "\t ICAM1 & ITGAL & ITGAL\\_ITGB2\\_ICAM1 & ICAM1\\_ITGAL\\\\\n",
       "\t ICAM1 & ITGB2 & ITGAL\\_ITGB2\\_ICAM1 & ICAM1\\_ITGB2\\\\\n",
       "\\end{tabular}\n"
      ],
      "text/markdown": [
       "\n",
       "A data.frame: 4 × 4\n",
       "\n",
       "| source &lt;chr&gt; | target &lt;chr&gt; | complex_pair &lt;chr&gt; | pair &lt;chr&gt; |\n",
       "|---|---|---|---|\n",
       "| ITGAL | ICAM1 | ITGAL_ITGB2_ICAM1 | ITGAL_ICAM1 |\n",
       "| ITGB2 | ICAM1 | ITGAL_ITGB2_ICAM1 | ITGB2_ICAM1 |\n",
       "| ICAM1 | ITGAL | ITGAL_ITGB2_ICAM1 | ICAM1_ITGAL |\n",
       "| ICAM1 | ITGB2 | ITGAL_ITGB2_ICAM1 | ICAM1_ITGB2 |\n",
       "\n"
      ],
      "text/plain": [
       "  source target complex_pair      pair       \n",
       "1 ITGAL  ICAM1  ITGAL_ITGB2_ICAM1 ITGAL_ICAM1\n",
       "2 ITGB2  ICAM1  ITGAL_ITGB2_ICAM1 ITGB2_ICAM1\n",
       "3 ICAM1  ITGAL  ITGAL_ITGB2_ICAM1 ICAM1_ITGAL\n",
       "4 ICAM1  ITGB2  ITGAL_ITGB2_ICAM1 ICAM1_ITGB2"
      ]
     },
     "metadata": {},
     "output_type": "display_data"
    }
   ],
   "source": [
    "filter(pt_interactions, complex_pair==\"ITGAL_ITGB2_ICAM1\")"
   ]
  },
  {
   "cell_type": "code",
   "execution_count": 21,
   "id": "8dedcf26",
   "metadata": {},
   "outputs": [],
   "source": [
    "# hist(pairwise_pairs_lr$complex_pair, breaks=3, col=\"red\")"
   ]
  },
  {
   "cell_type": "code",
   "execution_count": 22,
   "id": "859daf5b",
   "metadata": {},
   "outputs": [],
   "source": [
    "table_data <- as.data.frame(table(pairwise_pairs$complex_pair))"
   ]
  },
  {
   "cell_type": "code",
   "execution_count": 23,
   "id": "105fc257",
   "metadata": {},
   "outputs": [
    {
     "data": {
      "image/png": "[encoded data removed]",
      "text/plain": [
       "Plot with title “density.default(x = table_data$Freq)”"
      ]
     },
     "metadata": {
      "image/png": {
       "height": 420,
       "width": 420
      }
     },
     "output_type": "display_data"
    }
   ],
   "source": [
    "d <- density(table_data$Freq) # returns the density data\n",
    "plot(d) # plots the results"
   ]
  },
  {
   "cell_type": "code",
   "execution_count": 24,
   "id": "595f714d",
   "metadata": {},
   "outputs": [],
   "source": [
    "table_data <- as.data.frame(table(pairwise_pairs$complex_pair))"
   ]
  },
  {
   "cell_type": "code",
   "execution_count": 25,
   "id": "5ea1c4e1",
   "metadata": {},
   "outputs": [
    {
     "data": {
      "text/html": [
       "<strong>png:</strong> 2"
      ],
      "text/latex": [
       "\\textbf{png:} 2"
      ],
      "text/markdown": [
       "**png:** 2"
      ],
      "text/plain": [
       "png \n",
       "  2 "
      ]
     },
     "metadata": {},
     "output_type": "display_data"
    }
   ],
   "source": [
    "jpeg(file=\"Number of binary pairs produced.jpeg\")\n",
    "table_data <- table(pairwise_pairs$complex_pair)\n",
    "hist(table_data, main = \"Number of binary pairs produced from complex\", xlab = \"# of binary originating from a single complex\", ylab = \"Count\")\n",
    "dev.off()"
   ]
  },
  {
   "cell_type": "code",
   "execution_count": 26,
   "id": "e52253b3",
   "metadata": {},
   "outputs": [],
   "source": [
    "table_data <- as.data.frame(table(pt_interactions$complex_pair))"
   ]
  },
  {
   "cell_type": "code",
   "execution_count": 27,
   "id": "547659e0",
   "metadata": {},
   "outputs": [
    {
     "name": "stderr",
     "output_type": "stream",
     "text": [
      "Warning message:\n",
      "“\u001b[1m\u001b[22mUsing `size` aesthetic for lines was deprecated in ggplot2 3.4.0.\n",
      "\u001b[36mℹ\u001b[39m Please use `linewidth` instead.”\n",
      "\u001b[1m\u001b[22mSaving 6.67 x 6.67 in image\n"
     ]
    },
    {
     "data": {
      "image/png": "[encoded data removed]",
      "text/plain": [
       "plot without title"
      ]
     },
     "metadata": {
      "image/png": {
       "height": 420,
       "width": 420
      }
     },
     "output_type": "display_data"
    }
   ],
   "source": [
    "ggplot(table_data, aes(x=Freq)) +\n",
    "    geom_histogram(binwidth=.5, colour=\"black\", fill=\"white\") +\n",
    "    geom_vline(aes(xintercept=mean(Freq, na.rm=T)),   # Ignore NA values for mean\n",
    "               color=\"red\", linetype=\"dashed\", size=1)\n",
    "ggsave(\"binaries found.jpeg\")"
   ]
  },
  {
   "cell_type": "code",
   "execution_count": 28,
   "id": "bd3016dd",
   "metadata": {},
   "outputs": [
    {
     "data": {
      "image/png": "[encoded data removed]",
      "text/plain": [
       "Plot with title “Number of binary pairs produced from complex”"
      ]
     },
     "metadata": {
      "image/png": {
       "height": 420,
       "width": 420
      }
     },
     "output_type": "display_data"
    }
   ],
   "source": [
    "table_data <- table(pt_interactions$complex_pair)\n",
    "hist(table_data, main = \"Number of binary pairs produced from complex\", xlab = \"# of binary originating from a single complex\", ylab = \"Count\")\n"
   ]
  },
  {
   "cell_type": "markdown",
   "id": "97acc778",
   "metadata": {},
   "source": [
    "# Complexes are broken down, now we can combine with the rest of the db"
   ]
  },
  {
   "cell_type": "code",
   "execution_count": 37,
   "id": "1c3cbeb9",
   "metadata": {},
   "outputs": [],
   "source": [
    "# This function merges the single components of the complexes that are detected through PPI_DB with \n",
    "# the single components of the complexes detected through OmniPath\n",
    "# The function takes as input the OmniPath data frame and the pt_interactions (which the complex are broken down)\n",
    "\n",
    "merge_single_complex <- function(OmniPath, pt_interactions){\n",
    "    single_components = filter(OmniPath, !grepl('COMPLEX', target) & !grepl('COMPLEX',source))\n",
    "    \n",
    "    single_components <- single_components %>%\n",
    "      dplyr::select(source_genesymbol, target_genesymbol) %>%\n",
    "      dplyr::rename(source=source_genesymbol, target=target_genesymbol) %>%\n",
    "      dplyr::mutate(complex_pair = NA)    \n",
    "    \n",
    "    single_components$pair <- paste(single_components$source, single_components$target, sep=\"_\")\n",
    "    \n",
    "    #merge the single ones, with complexes componenets that are detected via PT_DB\n",
    "    complete <- rbind(single_components, pt_interactions)\n",
    "    \n",
    "    #remove the duplicated ones, and keep the last ones, which are coming from the complexes\n",
    "    complete <- complete[ !duplicated(complete[, \"pair\"], fromLast=T),]\n",
    "    \n",
    "    return(complete)\n",
    "}"
   ]
  },
  {
   "cell_type": "code",
   "execution_count": 30,
   "id": "3baad2a0",
   "metadata": {},
   "outputs": [],
   "source": [
    "lr_binary=filter(both_db, !grepl('COMPLEX', target) & !grepl('COMPLEX',source))"
   ]
  },
  {
   "cell_type": "code",
   "execution_count": 31,
   "id": "bc69ce5a",
   "metadata": {},
   "outputs": [
    {
     "data": {
      "text/html": [
       "6984"
      ],
      "text/latex": [
       "6984"
      ],
      "text/markdown": [
       "6984"
      ],
      "text/plain": [
       "[1] 6984"
      ]
     },
     "metadata": {},
     "output_type": "display_data"
    }
   ],
   "source": [
    "length(unique(lr_binary$pair))"
   ]
  },
  {
   "cell_type": "code",
   "execution_count": 32,
   "id": "26f7abfe",
   "metadata": {},
   "outputs": [],
   "source": [
    "lr_complex=filter(both_db, grepl('COMPLEX', target) | grepl('COMPLEX',source))"
   ]
  },
  {
   "cell_type": "code",
   "execution_count": 42,
   "id": "84312880",
   "metadata": {},
   "outputs": [],
   "source": [
    "complete_lr <- merge_single_complex(lr, pt_interactions)\n"
   ]
  },
  {
   "cell_type": "markdown",
   "id": "07e813e2",
   "metadata": {},
   "source": [
    "# Gene Descriptions\n",
    "\n",
    "We use mygene library to get the gene descriptions"
   ]
  },
  {
   "cell_type": "code",
   "execution_count": 43,
   "id": "da3179b6",
   "metadata": {},
   "outputs": [
    {
     "name": "stderr",
     "output_type": "stream",
     "text": [
      "Loading required package: GenomicFeatures\n",
      "\n",
      "Loading required package: BiocGenerics\n",
      "\n",
      "\n",
      "Attaching package: ‘BiocGenerics’\n",
      "\n",
      "\n",
      "The following objects are masked from ‘package:dplyr’:\n",
      "\n",
      "    combine, intersect, setdiff, union\n",
      "\n",
      "\n",
      "The following objects are masked from ‘package:stats’:\n",
      "\n",
      "    IQR, mad, sd, var, xtabs\n",
      "\n",
      "\n",
      "The following objects are masked from ‘package:base’:\n",
      "\n",
      "    anyDuplicated, append, as.data.frame, basename, cbind, colnames,\n",
      "    dirname, do.call, duplicated, eval, evalq, Filter, Find, get, grep,\n",
      "    grepl, intersect, is.unsorted, lapply, Map, mapply, match, mget,\n",
      "    order, paste, pmax, pmax.int, pmin, pmin.int, Position, rank,\n",
      "    rbind, Reduce, rownames, sapply, setdiff, sort, table, tapply,\n",
      "    union, unique, unsplit, which.max, which.min\n",
      "\n",
      "\n",
      "Loading required package: S4Vectors\n",
      "\n",
      "Loading required package: stats4\n",
      "\n",
      "\n",
      "Attaching package: ‘S4Vectors’\n",
      "\n",
      "\n",
      "The following objects are masked from ‘package:dplyr’:\n",
      "\n",
      "    first, rename\n",
      "\n",
      "\n",
      "The following object is masked from ‘package:tidyr’:\n",
      "\n",
      "    expand\n",
      "\n",
      "\n",
      "The following objects are masked from ‘package:base’:\n",
      "\n",
      "    expand.grid, I, unname\n",
      "\n",
      "\n",
      "Loading required package: IRanges\n",
      "\n",
      "\n",
      "Attaching package: ‘IRanges’\n",
      "\n",
      "\n",
      "The following objects are masked from ‘package:dplyr’:\n",
      "\n",
      "    collapse, desc, slice\n",
      "\n",
      "\n",
      "The following object is masked from ‘package:purrr’:\n",
      "\n",
      "    reduce\n",
      "\n",
      "\n",
      "Loading required package: GenomeInfoDb\n",
      "\n",
      "Loading required package: GenomicRanges\n",
      "\n",
      "Loading required package: AnnotationDbi\n",
      "\n",
      "Loading required package: Biobase\n",
      "\n",
      "Welcome to Bioconductor\n",
      "\n",
      "    Vignettes contain introductory material; view with\n",
      "    'browseVignettes()'. To cite Bioconductor, see\n",
      "    'citation(\"Biobase\")', and for packages 'citation(\"pkgname\")'.\n",
      "\n",
      "\n",
      "\n",
      "Attaching package: ‘AnnotationDbi’\n",
      "\n",
      "\n",
      "The following object is masked from ‘package:dplyr’:\n",
      "\n",
      "    select\n",
      "\n",
      "\n"
     ]
    }
   ],
   "source": [
    "library(mygene)"
   ]
  },
  {
   "cell_type": "code",
   "execution_count": 44,
   "id": "78b3f12b",
   "metadata": {},
   "outputs": [],
   "source": [
    "# map_gene_descriptions function:\n",
    "# 1. maps gene symbols to gene descriptions using the queryMany function\n",
    "# 2. maps the protein descriptions to the dataset\n",
    "# 3. reorders columns and renames columns\n",
    "\n",
    "map_gene_descriptions <- function(complete) {\n",
    "    # get gene symbols\n",
    "    gene_symbols <- unique(c(complete$source,complete$target))\n",
    "    \n",
    "    prot_descriptions <- queryMany(gene_symbols, scopes = \"symbol\", \n",
    "                              fields = c(\"name\"), \n",
    "                              species = \"human\", as_dataframe = \"True\")\n",
    "    \n",
    "    prot_descriptions <- as.data.frame(prot_descriptions)\n",
    "    \n",
    "    #map protein descriptions to complete set\n",
    "\n",
    "    for (x in 1:nrow(complete)) {\n",
    "        ligand_symbol=complete[x,]$source\n",
    "        receptor_symbol=complete[x,]$target\n",
    "        ligand_description=filter(prot_descriptions, query==ligand_symbol)$name\n",
    "        receptor_description=filter(prot_descriptions, query==receptor_symbol)$name\n",
    "        lig_id=filter(anno_raw, genesymbol==ligand_symbol)$uniprot[1]\n",
    "        rec_id=filter(anno_raw, genesymbol==receptor_symbol)$uniprot[1]\n",
    "\n",
    "        if (ligand_symbol==\"PIK3CD-AS1\") {\n",
    "          lig_id <- \"O00329\"\n",
    "        }\n",
    "\n",
    "    #     if (is.null(receptor_description)) {\n",
    "    #       receptor_description <- \"NA\"\n",
    "    #     }\n",
    "\n",
    "\n",
    "        complete[x, \"ligand.name\"] = ligand_description[1]\n",
    "        complete[x, \"receptor.name\"] = receptor_description[1]\n",
    "        complete[x, \"partner_a\"] = lig_id\n",
    "        complete[x, \"partner_b\"] = rec_id\n",
    "    }\n",
    "    \n",
    "    #reorder columns\n",
    "    complete <- complete[, c(\"pair\", \"source\", \"ligand.name\", \"target\", \"receptor.name\", \"complex_pair\",\n",
    "                             \"partner_a\",\"partner_b\")]\n",
    "    #rename column names\n",
    "    names(complete) <- c(\"Pair.Name\", \"Ligand\", \"Ligand.Name\", \"Receptor\", \"Receptor.Name\", \"complex_pair\",\n",
    "                        \"partner_a\",\"partner_b\")\n",
    "    \n",
    "    return(complete)\n",
    "}"
   ]
  },
  {
   "cell_type": "code",
   "execution_count": 45,
   "id": "342b9769",
   "metadata": {},
   "outputs": [
    {
     "name": "stderr",
     "output_type": "stream",
     "text": [
      "Querying chunk 1\n",
      "\n",
      "Querying chunk 2\n",
      "\n",
      "Querying chunk 3\n",
      "\n"
     ]
    },
    {
     "name": "stdout",
     "output_type": "stream",
     "text": [
      "Finished\n",
      "Pass returnall=TRUE to return lists of duplicate or missing query terms.\n"
     ]
    }
   ],
   "source": [
    "complete_lr <- map_gene_descriptions(complete_lr)"
   ]
  },
  {
   "cell_type": "code",
   "execution_count": 46,
   "id": "74a4ab0c",
   "metadata": {},
   "outputs": [
    {
     "data": {
      "text/html": [
       "<table class=\"dataframe\">\n",
       "<caption>A tibble: 6 × 8</caption>\n",
       "<thead>\n",
       "\t<tr><th scope=col>Pair.Name</th><th scope=col>Ligand</th><th scope=col>Ligand.Name</th><th scope=col>Receptor</th><th scope=col>Receptor.Name</th><th scope=col>complex_pair</th><th scope=col>partner_a</th><th scope=col>partner_b</th></tr>\n",
       "\t<tr><th scope=col>&lt;chr&gt;</th><th scope=col>&lt;chr&gt;</th><th scope=col>&lt;chr&gt;</th><th scope=col>&lt;chr&gt;</th><th scope=col>&lt;chr&gt;</th><th scope=col>&lt;chr&gt;</th><th scope=col>&lt;chr&gt;</th><th scope=col>&lt;chr&gt;</th></tr>\n",
       "</thead>\n",
       "<tbody>\n",
       "\t<tr><td>CALM1_TRPC3  </td><td>CALM1  </td><td>calmodulin 1                       </td><td>TRPC3 </td><td>transient receptor potential cation channel subfamily C member 3</td><td>NA</td><td>P0DP23</td><td>Q13507</td></tr>\n",
       "\t<tr><td>S100A10_TRPV6</td><td>S100A10</td><td>S100 calcium binding protein A10   </td><td>TRPV6 </td><td>transient receptor potential cation channel subfamily V member 6</td><td>NA</td><td>P60903</td><td>Q9H1D0</td></tr>\n",
       "\t<tr><td>JAK2_EPOR    </td><td>JAK2   </td><td>Janus kinase 2                     </td><td>EPOR  </td><td>erythropoietin receptor                                         </td><td>NA</td><td>O60674</td><td>P19235</td></tr>\n",
       "\t<tr><td>NOTCH1_JAG2  </td><td>NOTCH1 </td><td>notch receptor 1                   </td><td>JAG2  </td><td>jagged canonical Notch ligand 2                                 </td><td>NA</td><td>P46531</td><td>Q9Y219</td></tr>\n",
       "\t<tr><td>JAG2_NOTCH1  </td><td>JAG2   </td><td>jagged canonical Notch ligand 2    </td><td>NOTCH1</td><td>notch receptor 1                                                </td><td>NA</td><td>Q9Y219</td><td>P46531</td></tr>\n",
       "\t<tr><td>DLL1_NOTCH1  </td><td>DLL1   </td><td>delta like canonical Notch ligand 1</td><td>NOTCH1</td><td>notch receptor 1                                                </td><td>NA</td><td>O00548</td><td>P46531</td></tr>\n",
       "</tbody>\n",
       "</table>\n"
      ],
      "text/latex": [
       "A tibble: 6 × 8\n",
       "\\begin{tabular}{llllllll}\n",
       " Pair.Name & Ligand & Ligand.Name & Receptor & Receptor.Name & complex\\_pair & partner\\_a & partner\\_b\\\\\n",
       " <chr> & <chr> & <chr> & <chr> & <chr> & <chr> & <chr> & <chr>\\\\\n",
       "\\hline\n",
       "\t CALM1\\_TRPC3   & CALM1   & calmodulin 1                        & TRPC3  & transient receptor potential cation channel subfamily C member 3 & NA & P0DP23 & Q13507\\\\\n",
       "\t S100A10\\_TRPV6 & S100A10 & S100 calcium binding protein A10    & TRPV6  & transient receptor potential cation channel subfamily V member 6 & NA & P60903 & Q9H1D0\\\\\n",
       "\t JAK2\\_EPOR     & JAK2    & Janus kinase 2                      & EPOR   & erythropoietin receptor                                          & NA & O60674 & P19235\\\\\n",
       "\t NOTCH1\\_JAG2   & NOTCH1  & notch receptor 1                    & JAG2   & jagged canonical Notch ligand 2                                  & NA & P46531 & Q9Y219\\\\\n",
       "\t JAG2\\_NOTCH1   & JAG2    & jagged canonical Notch ligand 2     & NOTCH1 & notch receptor 1                                                 & NA & Q9Y219 & P46531\\\\\n",
       "\t DLL1\\_NOTCH1   & DLL1    & delta like canonical Notch ligand 1 & NOTCH1 & notch receptor 1                                                 & NA & O00548 & P46531\\\\\n",
       "\\end{tabular}\n"
      ],
      "text/markdown": [
       "\n",
       "A tibble: 6 × 8\n",
       "\n",
       "| Pair.Name &lt;chr&gt; | Ligand &lt;chr&gt; | Ligand.Name &lt;chr&gt; | Receptor &lt;chr&gt; | Receptor.Name &lt;chr&gt; | complex_pair &lt;chr&gt; | partner_a &lt;chr&gt; | partner_b &lt;chr&gt; |\n",
       "|---|---|---|---|---|---|---|---|\n",
       "| CALM1_TRPC3   | CALM1   | calmodulin 1                        | TRPC3  | transient receptor potential cation channel subfamily C member 3 | NA | P0DP23 | Q13507 |\n",
       "| S100A10_TRPV6 | S100A10 | S100 calcium binding protein A10    | TRPV6  | transient receptor potential cation channel subfamily V member 6 | NA | P60903 | Q9H1D0 |\n",
       "| JAK2_EPOR     | JAK2    | Janus kinase 2                      | EPOR   | erythropoietin receptor                                          | NA | O60674 | P19235 |\n",
       "| NOTCH1_JAG2   | NOTCH1  | notch receptor 1                    | JAG2   | jagged canonical Notch ligand 2                                  | NA | P46531 | Q9Y219 |\n",
       "| JAG2_NOTCH1   | JAG2    | jagged canonical Notch ligand 2     | NOTCH1 | notch receptor 1                                                 | NA | Q9Y219 | P46531 |\n",
       "| DLL1_NOTCH1   | DLL1    | delta like canonical Notch ligand 1 | NOTCH1 | notch receptor 1                                                 | NA | O00548 | P46531 |\n",
       "\n"
      ],
      "text/plain": [
       "  Pair.Name     Ligand  Ligand.Name                         Receptor\n",
       "1 CALM1_TRPC3   CALM1   calmodulin 1                        TRPC3   \n",
       "2 S100A10_TRPV6 S100A10 S100 calcium binding protein A10    TRPV6   \n",
       "3 JAK2_EPOR     JAK2    Janus kinase 2                      EPOR    \n",
       "4 NOTCH1_JAG2   NOTCH1  notch receptor 1                    JAG2    \n",
       "5 JAG2_NOTCH1   JAG2    jagged canonical Notch ligand 2     NOTCH1  \n",
       "6 DLL1_NOTCH1   DLL1    delta like canonical Notch ligand 1 NOTCH1  \n",
       "  Receptor.Name                                                    complex_pair\n",
       "1 transient receptor potential cation channel subfamily C member 3 NA          \n",
       "2 transient receptor potential cation channel subfamily V member 6 NA          \n",
       "3 erythropoietin receptor                                          NA          \n",
       "4 jagged canonical Notch ligand 2                                  NA          \n",
       "5 notch receptor 1                                                 NA          \n",
       "6 notch receptor 1                                                 NA          \n",
       "  partner_a partner_b\n",
       "1 P0DP23    Q13507   \n",
       "2 P60903    Q9H1D0   \n",
       "3 O60674    P19235   \n",
       "4 P46531    Q9Y219   \n",
       "5 Q9Y219    P46531   \n",
       "6 O00548    P46531   "
      ]
     },
     "metadata": {},
     "output_type": "display_data"
    }
   ],
   "source": [
    "head(complete_lr)"
   ]
  },
  {
   "cell_type": "code",
   "execution_count": 52,
   "id": "fa9bd750",
   "metadata": {},
   "outputs": [],
   "source": [
    "# filter(previous_db, Receptor==\"NOTCH1\")"
   ]
  },
  {
   "cell_type": "markdown",
   "id": "7cbf969f",
   "metadata": {},
   "source": [
    "# append the original structure from OmniPath"
   ]
  },
  {
   "cell_type": "markdown",
   "id": "f6128171",
   "metadata": {},
   "source": [
    "Create a column to merge with. We are doing this because the complex pairs in our data have been broken down, while they are not broken down in the original data. The new column will allow us to match and merge the broken-down pairs with the corresponding pairs in the original data"
   ]
  },
  {
   "cell_type": "code",
   "execution_count": null,
   "id": "61f73d0c",
   "metadata": {},
   "outputs": [],
   "source": []
  },
  {
   "cell_type": "code",
   "execution_count": 68,
   "id": "2653e197",
   "metadata": {},
   "outputs": [],
   "source": [
    "# If the complex pair is not NA, return the complex pair under the to_merge column. \n",
    "# else return the ligand and receptor names separated by an underscore\n",
    "complete_lr <- complete_lr %>% mutate(to_merge = ifelse(!is.na(complex_pair), complex_pair,\n",
    "                                                  paste(Ligand, Receptor, sep=\"_\")))"
   ]
  },
  {
   "cell_type": "code",
   "execution_count": null,
   "id": "0cadaffd",
   "metadata": {},
   "outputs": [],
   "source": []
  },
  {
   "cell_type": "code",
   "execution_count": 69,
   "id": "2105220f",
   "metadata": {},
   "outputs": [],
   "source": [
    "complete_lr=as.data.frame(merge(complete_lr, lr, by.x = \"to_merge\", by.y = \"pair\"))"
   ]
  },
  {
   "cell_type": "code",
   "execution_count": 70,
   "id": "1706629b",
   "metadata": {
    "scrolled": false
   },
   "outputs": [],
   "source": [
    "# Remove the columns that were used to merge the data\n",
    "complete_lr <- complete_lr %>% dplyr::select(-to_merge)"
   ]
  },
  {
   "cell_type": "code",
   "execution_count": 80,
   "id": "2de20745",
   "metadata": {},
   "outputs": [],
   "source": [
    "complete_lr <- complete_lr[!duplicated(complete_lr$Pair.Name),]"
   ]
  },
  {
   "cell_type": "code",
   "execution_count": null,
   "id": "a3ed4c93",
   "metadata": {},
   "outputs": [],
   "source": []
  },
  {
   "cell_type": "code",
   "execution_count": 64,
   "id": "741b7762",
   "metadata": {
    "scrolled": false
   },
   "outputs": [],
   "source": [
    "#this column is needed when building CellPhoneDB\n",
    "# concatanated$annotation_strategy <- ifelse(concatanated$curated == TRUE, \"OmniPath_curated\", \"OmniPath\")"
   ]
  },
  {
   "cell_type": "code",
   "execution_count": 81,
   "id": "415e3e79",
   "metadata": {},
   "outputs": [],
   "source": [
    "write.csv(complete_lr, \"L_R_reviseD_full_before_fix.csv\", row.names=FALSE)"
   ]
  },
  {
   "cell_type": "code",
   "execution_count": 66,
   "id": "f9fc28f6",
   "metadata": {},
   "outputs": [],
   "source": [
    "# complete = read.csv('L_R_reviseD_full_before_fix.csv')"
   ]
  },
  {
   "cell_type": "code",
   "execution_count": 83,
   "id": "8c653e55",
   "metadata": {},
   "outputs": [
    {
     "data": {
      "text/html": [
       "<table class=\"dataframe\">\n",
       "<caption>A data.frame: 2 × 25</caption>\n",
       "<thead>\n",
       "\t<tr><th scope=col>Pair.Name</th><th scope=col>Ligand</th><th scope=col>Ligand.Name</th><th scope=col>Receptor</th><th scope=col>Receptor.Name</th><th scope=col>complex_pair</th><th scope=col>partner_a</th><th scope=col>partner_b</th><th scope=col>annotation_strategy.x</th><th scope=col>source</th><th scope=col>⋯</th><th scope=col>is_inhibition</th><th scope=col>consensus_direction</th><th scope=col>consensus_stimulation</th><th scope=col>consensus_inhibition</th><th scope=col>sources</th><th scope=col>references</th><th scope=col>curation_effort</th><th scope=col>n_references</th><th scope=col>n_resources</th><th scope=col>annotation_strategy.y</th></tr>\n",
       "\t<tr><th scope=col>&lt;chr&gt;</th><th scope=col>&lt;chr&gt;</th><th scope=col>&lt;chr&gt;</th><th scope=col>&lt;chr&gt;</th><th scope=col>&lt;chr&gt;</th><th scope=col>&lt;chr&gt;</th><th scope=col>&lt;chr&gt;</th><th scope=col>&lt;chr&gt;</th><th scope=col>&lt;chr&gt;</th><th scope=col>&lt;chr&gt;</th><th scope=col>⋯</th><th scope=col>&lt;dbl&gt;</th><th scope=col>&lt;dbl&gt;</th><th scope=col>&lt;dbl&gt;</th><th scope=col>&lt;dbl&gt;</th><th scope=col>&lt;chr&gt;</th><th scope=col>&lt;chr&gt;</th><th scope=col>&lt;dbl&gt;</th><th scope=col>&lt;dbl&gt;</th><th scope=col>&lt;int&gt;</th><th scope=col>&lt;chr&gt;</th></tr>\n",
       "</thead>\n",
       "<tbody>\n",
       "\t<tr><td>PIK3CD-AS1_LY6G6C </td><td>PIK3CD-AS1</td><td>PIK3CD antisense RNA 1</td><td>LY6G6C </td><td>lymphocyte antigen 6 family member G6C</td><td>NA</td><td>O00329</td><td>O95867</td><td>LR</td><td>Q5SR53</td><td>⋯</td><td>0</td><td>0</td><td>0</td><td>0</td><td>Fantom5_LRdb;LRdb;iTALK</td><td>NA</td><td>0</td><td>0</td><td>2</td><td>LR</td></tr>\n",
       "\t<tr><td>PIK3CD-AS1_SLC16A4</td><td>PIK3CD-AS1</td><td>PIK3CD antisense RNA 1</td><td>SLC16A4</td><td>solute carrier family 16 member 4     </td><td>NA</td><td>O00329</td><td>O15374</td><td>LR</td><td>Q5SR53</td><td>⋯</td><td>0</td><td>0</td><td>0</td><td>0</td><td>Fantom5_LRdb;LRdb;iTALK</td><td>NA</td><td>0</td><td>0</td><td>2</td><td>LR</td></tr>\n",
       "</tbody>\n",
       "</table>\n"
      ],
      "text/latex": [
       "A data.frame: 2 × 25\n",
       "\\begin{tabular}{lllllllllllllllllllll}\n",
       " Pair.Name & Ligand & Ligand.Name & Receptor & Receptor.Name & complex\\_pair & partner\\_a & partner\\_b & annotation\\_strategy.x & source & ⋯ & is\\_inhibition & consensus\\_direction & consensus\\_stimulation & consensus\\_inhibition & sources & references & curation\\_effort & n\\_references & n\\_resources & annotation\\_strategy.y\\\\\n",
       " <chr> & <chr> & <chr> & <chr> & <chr> & <chr> & <chr> & <chr> & <chr> & <chr> & ⋯ & <dbl> & <dbl> & <dbl> & <dbl> & <chr> & <chr> & <dbl> & <dbl> & <int> & <chr>\\\\\n",
       "\\hline\n",
       "\t PIK3CD-AS1\\_LY6G6C  & PIK3CD-AS1 & PIK3CD antisense RNA 1 & LY6G6C  & lymphocyte antigen 6 family member G6C & NA & O00329 & O95867 & LR & Q5SR53 & ⋯ & 0 & 0 & 0 & 0 & Fantom5\\_LRdb;LRdb;iTALK & NA & 0 & 0 & 2 & LR\\\\\n",
       "\t PIK3CD-AS1\\_SLC16A4 & PIK3CD-AS1 & PIK3CD antisense RNA 1 & SLC16A4 & solute carrier family 16 member 4      & NA & O00329 & O15374 & LR & Q5SR53 & ⋯ & 0 & 0 & 0 & 0 & Fantom5\\_LRdb;LRdb;iTALK & NA & 0 & 0 & 2 & LR\\\\\n",
       "\\end{tabular}\n"
      ],
      "text/markdown": [
       "\n",
       "A data.frame: 2 × 25\n",
       "\n",
       "| Pair.Name &lt;chr&gt; | Ligand &lt;chr&gt; | Ligand.Name &lt;chr&gt; | Receptor &lt;chr&gt; | Receptor.Name &lt;chr&gt; | complex_pair &lt;chr&gt; | partner_a &lt;chr&gt; | partner_b &lt;chr&gt; | annotation_strategy.x &lt;chr&gt; | source &lt;chr&gt; | ⋯ ⋯ | is_inhibition &lt;dbl&gt; | consensus_direction &lt;dbl&gt; | consensus_stimulation &lt;dbl&gt; | consensus_inhibition &lt;dbl&gt; | sources &lt;chr&gt; | references &lt;chr&gt; | curation_effort &lt;dbl&gt; | n_references &lt;dbl&gt; | n_resources &lt;int&gt; | annotation_strategy.y &lt;chr&gt; |\n",
       "|---|---|---|---|---|---|---|---|---|---|---|---|---|---|---|---|---|---|---|---|---|\n",
       "| PIK3CD-AS1_LY6G6C  | PIK3CD-AS1 | PIK3CD antisense RNA 1 | LY6G6C  | lymphocyte antigen 6 family member G6C | NA | O00329 | O95867 | LR | Q5SR53 | ⋯ | 0 | 0 | 0 | 0 | Fantom5_LRdb;LRdb;iTALK | NA | 0 | 0 | 2 | LR |\n",
       "| PIK3CD-AS1_SLC16A4 | PIK3CD-AS1 | PIK3CD antisense RNA 1 | SLC16A4 | solute carrier family 16 member 4      | NA | O00329 | O15374 | LR | Q5SR53 | ⋯ | 0 | 0 | 0 | 0 | Fantom5_LRdb;LRdb;iTALK | NA | 0 | 0 | 2 | LR |\n",
       "\n"
      ],
      "text/plain": [
       "  Pair.Name          Ligand     Ligand.Name            Receptor\n",
       "1 PIK3CD-AS1_LY6G6C  PIK3CD-AS1 PIK3CD antisense RNA 1 LY6G6C  \n",
       "2 PIK3CD-AS1_SLC16A4 PIK3CD-AS1 PIK3CD antisense RNA 1 SLC16A4 \n",
       "  Receptor.Name                          complex_pair partner_a partner_b\n",
       "1 lymphocyte antigen 6 family member G6C NA           O00329    O95867   \n",
       "2 solute carrier family 16 member 4      NA           O00329    O15374   \n",
       "  annotation_strategy.x source ⋯ is_inhibition consensus_direction\n",
       "1 LR                    Q5SR53 ⋯ 0             0                  \n",
       "2 LR                    Q5SR53 ⋯ 0             0                  \n",
       "  consensus_stimulation consensus_inhibition sources                 references\n",
       "1 0                     0                    Fantom5_LRdb;LRdb;iTALK NA        \n",
       "2 0                     0                    Fantom5_LRdb;LRdb;iTALK NA        \n",
       "  curation_effort n_references n_resources annotation_strategy.y\n",
       "1 0               0            2           LR                   \n",
       "2 0               0            2           LR                   "
      ]
     },
     "metadata": {},
     "output_type": "display_data"
    }
   ],
   "source": [
    "filter(complete_lr,Ligand==\"PIK3CD-AS1\")"
   ]
  },
  {
   "cell_type": "code",
   "execution_count": 86,
   "id": "4880f2bb",
   "metadata": {},
   "outputs": [],
   "source": [
    "complete_lr$Ligand <- str_replace(complete_lr$Ligand, \"PIK3CD-AS1\", \"PIK3CD\")"
   ]
  },
  {
   "cell_type": "code",
   "execution_count": 89,
   "id": "b478509a",
   "metadata": {},
   "outputs": [],
   "source": [
    "complete_lr$Pair.Name <- paste(complete_lr$Ligand, complete_lr$Receptor, sep=\"_\")"
   ]
  },
  {
   "cell_type": "code",
   "execution_count": 90,
   "id": "e6dd3676",
   "metadata": {},
   "outputs": [],
   "source": [
    "complete_lr$dup <- paste(complete_lr$Receptor, complete_lr$Ligand, sep=\"_\")"
   ]
  },
  {
   "cell_type": "markdown",
   "id": "970ac44b",
   "metadata": {},
   "source": [
    "# Annotation of components\n",
    "\n",
    "The Omnipath Intercell annotation database is imported and used to annotate each component. If at least two databases categorize a component as a ligand or receptor, it is annotated as such. If not, we check other possible categories such as extracellular matrix, secreted, and transmembrane. Below is the list of resources used to annotote."
   ]
  },
  {
   "cell_type": "code",
   "execution_count": 91,
   "id": "6ac590b1",
   "metadata": {},
   "outputs": [
    {
     "data": {
      "text/html": [
       "<style>\n",
       ".list-inline {list-style: none; margin:0; padding: 0}\n",
       ".list-inline>li {display: inline-block}\n",
       ".list-inline>li:not(:last-child)::after {content: \"\\00b7\"; padding: 0 .5ex}\n",
       "</style>\n",
       "<ol class=list-inline><li>'Adhesome'</li><li>'Almen2009'</li><li>'Baccin2019'</li><li>'CellCall'</li><li>'CellCellInteractions'</li><li>'CellChatDB'</li><li>'Cellinker'</li><li>'CellPhoneDB'</li><li>'CellTalkDB'</li><li>'ComPPI'</li><li>'connectomeDB2020'</li><li>'CSPA'</li><li>'DGIdb'</li><li>'EMBRACE'</li><li>'GO_Intercell'</li><li>'GPCRdb'</li><li>'Guide2Pharma'</li><li>'HGNC'</li><li>'HPA_secretome'</li><li>'HPMR'</li><li>'ICELLNET'</li><li>'Integrins'</li><li>'iTALK'</li><li>'Kirouac2010'</li><li>'LOCATE'</li><li>'LRdb'</li><li>'Matrisome'</li><li>'MatrixDB'</li><li>'MCAM'</li><li>'Membranome'</li><li>'OmniPath'</li><li>'OPM'</li><li>'Phobius'</li><li>'Ramilowski_location'</li><li>'Ramilowski2015'</li><li>'scConnect'</li><li>'SignaLink_function'</li><li>'Surfaceome'</li><li>'talklr'</li><li>'TopDB'</li><li>'UniProt_keyword'</li><li>'UniProt_location'</li><li>'UniProt_topology'</li><li>'Zhong2015'</li></ol>\n"
      ],
      "text/latex": [
       "\\begin{enumerate*}\n",
       "\\item 'Adhesome'\n",
       "\\item 'Almen2009'\n",
       "\\item 'Baccin2019'\n",
       "\\item 'CellCall'\n",
       "\\item 'CellCellInteractions'\n",
       "\\item 'CellChatDB'\n",
       "\\item 'Cellinker'\n",
       "\\item 'CellPhoneDB'\n",
       "\\item 'CellTalkDB'\n",
       "\\item 'ComPPI'\n",
       "\\item 'connectomeDB2020'\n",
       "\\item 'CSPA'\n",
       "\\item 'DGIdb'\n",
       "\\item 'EMBRACE'\n",
       "\\item 'GO\\_Intercell'\n",
       "\\item 'GPCRdb'\n",
       "\\item 'Guide2Pharma'\n",
       "\\item 'HGNC'\n",
       "\\item 'HPA\\_secretome'\n",
       "\\item 'HPMR'\n",
       "\\item 'ICELLNET'\n",
       "\\item 'Integrins'\n",
       "\\item 'iTALK'\n",
       "\\item 'Kirouac2010'\n",
       "\\item 'LOCATE'\n",
       "\\item 'LRdb'\n",
       "\\item 'Matrisome'\n",
       "\\item 'MatrixDB'\n",
       "\\item 'MCAM'\n",
       "\\item 'Membranome'\n",
       "\\item 'OmniPath'\n",
       "\\item 'OPM'\n",
       "\\item 'Phobius'\n",
       "\\item 'Ramilowski\\_location'\n",
       "\\item 'Ramilowski2015'\n",
       "\\item 'scConnect'\n",
       "\\item 'SignaLink\\_function'\n",
       "\\item 'Surfaceome'\n",
       "\\item 'talklr'\n",
       "\\item 'TopDB'\n",
       "\\item 'UniProt\\_keyword'\n",
       "\\item 'UniProt\\_location'\n",
       "\\item 'UniProt\\_topology'\n",
       "\\item 'Zhong2015'\n",
       "\\end{enumerate*}\n"
      ],
      "text/markdown": [
       "1. 'Adhesome'\n",
       "2. 'Almen2009'\n",
       "3. 'Baccin2019'\n",
       "4. 'CellCall'\n",
       "5. 'CellCellInteractions'\n",
       "6. 'CellChatDB'\n",
       "7. 'Cellinker'\n",
       "8. 'CellPhoneDB'\n",
       "9. 'CellTalkDB'\n",
       "10. 'ComPPI'\n",
       "11. 'connectomeDB2020'\n",
       "12. 'CSPA'\n",
       "13. 'DGIdb'\n",
       "14. 'EMBRACE'\n",
       "15. 'GO_Intercell'\n",
       "16. 'GPCRdb'\n",
       "17. 'Guide2Pharma'\n",
       "18. 'HGNC'\n",
       "19. 'HPA_secretome'\n",
       "20. 'HPMR'\n",
       "21. 'ICELLNET'\n",
       "22. 'Integrins'\n",
       "23. 'iTALK'\n",
       "24. 'Kirouac2010'\n",
       "25. 'LOCATE'\n",
       "26. 'LRdb'\n",
       "27. 'Matrisome'\n",
       "28. 'MatrixDB'\n",
       "29. 'MCAM'\n",
       "30. 'Membranome'\n",
       "31. 'OmniPath'\n",
       "32. 'OPM'\n",
       "33. 'Phobius'\n",
       "34. 'Ramilowski_location'\n",
       "35. 'Ramilowski2015'\n",
       "36. 'scConnect'\n",
       "37. 'SignaLink_function'\n",
       "38. 'Surfaceome'\n",
       "39. 'talklr'\n",
       "40. 'TopDB'\n",
       "41. 'UniProt_keyword'\n",
       "42. 'UniProt_location'\n",
       "43. 'UniProt_topology'\n",
       "44. 'Zhong2015'\n",
       "\n",
       "\n"
      ],
      "text/plain": [
       " [1] \"Adhesome\"             \"Almen2009\"            \"Baccin2019\"          \n",
       " [4] \"CellCall\"             \"CellCellInteractions\" \"CellChatDB\"          \n",
       " [7] \"Cellinker\"            \"CellPhoneDB\"          \"CellTalkDB\"          \n",
       "[10] \"ComPPI\"               \"connectomeDB2020\"     \"CSPA\"                \n",
       "[13] \"DGIdb\"                \"EMBRACE\"              \"GO_Intercell\"        \n",
       "[16] \"GPCRdb\"               \"Guide2Pharma\"         \"HGNC\"                \n",
       "[19] \"HPA_secretome\"        \"HPMR\"                 \"ICELLNET\"            \n",
       "[22] \"Integrins\"            \"iTALK\"                \"Kirouac2010\"         \n",
       "[25] \"LOCATE\"               \"LRdb\"                 \"Matrisome\"           \n",
       "[28] \"MatrixDB\"             \"MCAM\"                 \"Membranome\"          \n",
       "[31] \"OmniPath\"             \"OPM\"                  \"Phobius\"             \n",
       "[34] \"Ramilowski_location\"  \"Ramilowski2015\"       \"scConnect\"           \n",
       "[37] \"SignaLink_function\"   \"Surfaceome\"           \"talklr\"              \n",
       "[40] \"TopDB\"                \"UniProt_keyword\"      \"UniProt_location\"    \n",
       "[43] \"UniProt_topology\"     \"Zhong2015\"           "
      ]
     },
     "metadata": {},
     "output_type": "display_data"
    }
   ],
   "source": [
    "get_intercell_resources()"
   ]
  },
  {
   "cell_type": "code",
   "execution_count": 92,
   "id": "27f209bb",
   "metadata": {},
   "outputs": [],
   "source": [
    "# This function is to annotate the components from the PPI network with their parent category\n",
    "# The input of this function is a df with columns of \"genesymbol\", \"score\", \"parent\"\n",
    "# The output of this function is a df with columns of \"genesymbol\", \"score\", \"parent\"\n",
    "# This function is used to annotate the components from the PPI network with their parent category\n",
    "\n",
    "annotate_components <- function(components) {\n",
    "    #create a df to store annotation\n",
    "    df <- data.frame(genesymbol = character(length(components)), score = numeric(length(components)),\n",
    "                     parent = character(length(components)), stringsAsFactors = FALSE)\n",
    "    \n",
    "    # Check if the components are categorized as ligands or receptors\n",
    "    for (x in 1:length(components)) {\n",
    "    #     maxvalue=max(filter(anno, uniprot==components[x])$consensus_score)\n",
    "        genename <- components[x]\n",
    "        parent_score <- sort(table(filter(anno_lig, genesymbol==components[x])$parent), decreasing = T, na.last = T)[1]\n",
    "        parent_category <- names(parent_score)\n",
    "\n",
    "        if (is.null(parent_category)) {\n",
    "          parent_category <- \"NA\"\n",
    "          parent_score <- 0\n",
    "        }\n",
    "\n",
    "        df[x, \"genesymbol\"] <- genename\n",
    "        df[x, \"score\"] <- parent_score\n",
    "        df[x, \"parent\"] <- parent_category\n",
    "\n",
    "    #     df$genesymbol[x] <- genename\n",
    "    #     df$score[x] <- parent_score\n",
    "    #     df$parent[x] <- parent_category\n",
    "    }\n",
    "    \n",
    "    # If a component is not classified as a ligand or receptor, we may consider other categories such as \n",
    "    # extracellular matrix, secreted, and transmembrane.# annotated others such as secreted, ecm etc\n",
    "\n",
    "    df_na <- filter(df, parent==\"NA\")$genesymbol\n",
    "\n",
    "    for (x in 1:length(df_na)) {\n",
    "    #     maxvalue=max(filter(anno, uniprot==components[x])$consensus_score)\n",
    "        genesymbol <- df_na[x]\n",
    "        parent_score <- sort(table(filter(anno_raw, genesymbol==df_na[x])$parent), decreasing = T, na.last = T)[1]\n",
    "        parent_category <- names(parent_score)\n",
    "\n",
    "        df <- df %>% mutate(parent = ifelse(genesymbol == df_na[x], parent_category, parent))\n",
    "        df <- df %>% mutate(score = ifelse(genesymbol == df_na[x], parent_score, score))\n",
    "\n",
    "    }\n",
    "    \n",
    "    # replace ecm and secreted with ligand\n",
    "    df$parent <- replace(df$parent, df$parent == \"ecm\", \"ligand\")\n",
    "    df$parent <- replace(df$parent, df$parent == \"secreted\", \"ligand\")\n",
    "    \n",
    "    return(df)\n",
    "\n",
    "}"
   ]
  },
  {
   "cell_type": "code",
   "execution_count": 93,
   "id": "145c3774",
   "metadata": {},
   "outputs": [],
   "source": [
    "components <- unique(c(complete_lr$Ligand, complete_lr$Receptor))"
   ]
  },
  {
   "cell_type": "code",
   "execution_count": 94,
   "id": "77911de3",
   "metadata": {},
   "outputs": [],
   "source": [
    "annotation <- annotate_components(components)"
   ]
  },
  {
   "cell_type": "code",
   "execution_count": 95,
   "id": "5c1784a3",
   "metadata": {},
   "outputs": [
    {
     "data": {
      "text/html": [
       "<style>\n",
       ".list-inline {list-style: none; margin:0; padding: 0}\n",
       ".list-inline>li {display: inline-block}\n",
       ".list-inline>li:not(:last-child)::after {content: \"\\00b7\"; padding: 0 .5ex}\n",
       "</style>\n",
       "<ol class=list-inline><li>'ligand'</li><li>'intracellular'</li><li>'transmembrane'</li><li>'receptor'</li><li>'plasma_membrane'</li><li>'ecm_regulator'</li><li>'cell_adhesion'</li><li>'ligand_regulator'</li><li>'cell_surface'</li><li>'gap_junction'</li></ol>\n"
      ],
      "text/latex": [
       "\\begin{enumerate*}\n",
       "\\item 'ligand'\n",
       "\\item 'intracellular'\n",
       "\\item 'transmembrane'\n",
       "\\item 'receptor'\n",
       "\\item 'plasma\\_membrane'\n",
       "\\item 'ecm\\_regulator'\n",
       "\\item 'cell\\_adhesion'\n",
       "\\item 'ligand\\_regulator'\n",
       "\\item 'cell\\_surface'\n",
       "\\item 'gap\\_junction'\n",
       "\\end{enumerate*}\n"
      ],
      "text/markdown": [
       "1. 'ligand'\n",
       "2. 'intracellular'\n",
       "3. 'transmembrane'\n",
       "4. 'receptor'\n",
       "5. 'plasma_membrane'\n",
       "6. 'ecm_regulator'\n",
       "7. 'cell_adhesion'\n",
       "8. 'ligand_regulator'\n",
       "9. 'cell_surface'\n",
       "10. 'gap_junction'\n",
       "\n",
       "\n"
      ],
      "text/plain": [
       " [1] \"ligand\"           \"intracellular\"    \"transmembrane\"    \"receptor\"        \n",
       " [5] \"plasma_membrane\"  \"ecm_regulator\"    \"cell_adhesion\"    \"ligand_regulator\"\n",
       " [9] \"cell_surface\"     \"gap_junction\"    "
      ]
     },
     "metadata": {},
     "output_type": "display_data"
    }
   ],
   "source": [
    "unique(annotation$parent)"
   ]
  },
  {
   "cell_type": "code",
   "execution_count": 76,
   "id": "dfca5cba",
   "metadata": {},
   "outputs": [],
   "source": [
    "# ggplot(true_LR, aes(x=score)) +\n",
    "#     geom_histogram(binwidth=.5, colour=\"black\", fill=\"white\") +\n",
    "#     geom_vline(aes(xintercept=mean(score, na.rm=T)),   # Ignore NA values for mean\n",
    "#                color=\"red\", linetype=\"dashed\", size=1)"
   ]
  },
  {
   "cell_type": "code",
   "execution_count": 97,
   "id": "4726082d",
   "metadata": {},
   "outputs": [],
   "source": [
    "#TRUE LR genespace\n",
    "true_LR <- filter(annotation, parent == \"receptor\" | parent == \"ligand\")\n",
    "true_LR_genespace <- true_LR$genesymbol"
   ]
  },
  {
   "cell_type": "code",
   "execution_count": 98,
   "id": "d3be1a61",
   "metadata": {},
   "outputs": [
    {
     "data": {
      "text/html": [
       "<table class=\"dataframe\">\n",
       "<caption>A data.frame: 1 × 3</caption>\n",
       "<thead>\n",
       "\t<tr><th></th><th scope=col>genesymbol</th><th scope=col>score</th><th scope=col>parent</th></tr>\n",
       "\t<tr><th></th><th scope=col>&lt;chr&gt;</th><th scope=col>&lt;dbl&gt;</th><th scope=col>&lt;chr&gt;</th></tr>\n",
       "</thead>\n",
       "<tbody>\n",
       "\t<tr><th scope=row>63</th><td>BMPR1B</td><td>20</td><td>receptor</td></tr>\n",
       "</tbody>\n",
       "</table>\n"
      ],
      "text/latex": [
       "A data.frame: 1 × 3\n",
       "\\begin{tabular}{r|lll}\n",
       "  & genesymbol & score & parent\\\\\n",
       "  & <chr> & <dbl> & <chr>\\\\\n",
       "\\hline\n",
       "\t63 & BMPR1B & 20 & receptor\\\\\n",
       "\\end{tabular}\n"
      ],
      "text/markdown": [
       "\n",
       "A data.frame: 1 × 3\n",
       "\n",
       "| <!--/--> | genesymbol &lt;chr&gt; | score &lt;dbl&gt; | parent &lt;chr&gt; |\n",
       "|---|---|---|---|\n",
       "| 63 | BMPR1B | 20 | receptor |\n",
       "\n"
      ],
      "text/plain": [
       "   genesymbol score parent  \n",
       "63 BMPR1B     20    receptor"
      ]
     },
     "metadata": {},
     "output_type": "display_data"
    }
   ],
   "source": [
    "annotation[annotation$genesymbol==\"BMPR1B\",]"
   ]
  },
  {
   "cell_type": "code",
   "execution_count": 99,
   "id": "b509269e",
   "metadata": {},
   "outputs": [],
   "source": [
    "adhesive <- filter(annotation, !genesymbol %in% true_LR$genesymbol)"
   ]
  },
  {
   "cell_type": "code",
   "execution_count": 100,
   "id": "50f10af6",
   "metadata": {},
   "outputs": [],
   "source": [
    "ligands <- filter(true_LR, parent==\"ligand\")$genesymbol\n",
    "receptors <- filter(true_LR, parent==\"receptor\")$genesymbol"
   ]
  },
  {
   "cell_type": "code",
   "execution_count": 101,
   "id": "8ab4fd53",
   "metadata": {},
   "outputs": [],
   "source": [
    "# Filter the LR pairs that are not in the correct direction\n",
    "# Exclude the pairs if the swapped (correct direction) counterparts exist in the database\n",
    "\n",
    "LR_fix_dir <- complete_lr %>% \n",
    "  filter(Ligand %in% receptors & Receptor %in% ligands) #%>% \n",
    "  #anti_join(complete, by = c(\"dup\" = \"Pair.Name\"))\n",
    "#     filter(!dup %in% complete$Pair.Name)"
   ]
  },
  {
   "cell_type": "code",
   "execution_count": 102,
   "id": "f0c79ee9",
   "metadata": {},
   "outputs": [
    {
     "data": {
      "text/html": [
       "<table class=\"dataframe\">\n",
       "<caption>A data.frame: 1 × 3</caption>\n",
       "<thead>\n",
       "\t<tr><th></th><th scope=col>genesymbol</th><th scope=col>score</th><th scope=col>parent</th></tr>\n",
       "\t<tr><th></th><th scope=col>&lt;chr&gt;</th><th scope=col>&lt;dbl&gt;</th><th scope=col>&lt;chr&gt;</th></tr>\n",
       "</thead>\n",
       "<tbody>\n",
       "\t<tr><th scope=row>129</th><td>BMP15</td><td>18</td><td>ligand</td></tr>\n",
       "</tbody>\n",
       "</table>\n"
      ],
      "text/latex": [
       "A data.frame: 1 × 3\n",
       "\\begin{tabular}{r|lll}\n",
       "  & genesymbol & score & parent\\\\\n",
       "  & <chr> & <dbl> & <chr>\\\\\n",
       "\\hline\n",
       "\t129 & BMP15 & 18 & ligand\\\\\n",
       "\\end{tabular}\n"
      ],
      "text/markdown": [
       "\n",
       "A data.frame: 1 × 3\n",
       "\n",
       "| <!--/--> | genesymbol &lt;chr&gt; | score &lt;dbl&gt; | parent &lt;chr&gt; |\n",
       "|---|---|---|---|\n",
       "| 129 | BMP15 | 18 | ligand |\n",
       "\n"
      ],
      "text/plain": [
       "    genesymbol score parent\n",
       "129 BMP15      18    ligand"
      ]
     },
     "metadata": {},
     "output_type": "display_data"
    }
   ],
   "source": [
    "annotation[annotation$genesymbol==\"BMP15\",]"
   ]
  },
  {
   "cell_type": "code",
   "execution_count": 110,
   "id": "d6f6fa25",
   "metadata": {},
   "outputs": [],
   "source": [
    "complete_lr <- filter(complete_lr, !Pair.Name %in% LR_fix_dir$Pair.Name)"
   ]
  },
  {
   "cell_type": "code",
   "execution_count": null,
   "id": "e7382e7b",
   "metadata": {},
   "outputs": [],
   "source": []
  },
  {
   "cell_type": "code",
   "execution_count": 111,
   "id": "4f64a548",
   "metadata": {},
   "outputs": [
    {
     "data": {
      "text/html": [
       "352"
      ],
      "text/latex": [
       "352"
      ],
      "text/markdown": [
       "352"
      ],
      "text/plain": [
       "[1] 352"
      ]
     },
     "metadata": {},
     "output_type": "display_data"
    }
   ],
   "source": [
    "7344 - nrow(complete_lr)"
   ]
  },
  {
   "cell_type": "code",
   "execution_count": 112,
   "id": "f225257c",
   "metadata": {},
   "outputs": [],
   "source": [
    "#fix the directions\n",
    "LR_fix_dir[, c(\"Ligand\", \"Receptor\", \"Ligand.Name\", \"Receptor.Name\",\n",
    "      \"partner_a\",\"partner_b\", \"source\",\"target\",\"source_genesymbol\",\"target_genesymbol\")] <- LR_fix_dir[, c(\"Receptor\", \"Ligand\", \"Receptor.Name\", \"Ligand.Name\",\n",
    "                                                                                                    \"partner_b\",\"partner_a\", \"target\",\"source\",\"target_genesymbol\",\"source_genesymbol\")]\n",
    "\n",
    "LR_fix_dir[\"Pair.Name\"] <- paste(LR_fix_dir$Ligand, LR_fix_dir$Receptor, sep=\"_\")\n",
    "LR_fix_dir[\"dup\"] <- paste(LR_fix_dir$Receptor, LR_fix_dir$Ligand, sep=\"_\")"
   ]
  },
  {
   "cell_type": "code",
   "execution_count": 113,
   "id": "c87461ad",
   "metadata": {},
   "outputs": [],
   "source": [
    "# these are the list of interactions that are strictly in LR direction\n",
    "true_LR_DB <- complete_lr %>% filter(Ligand %in% ligands & Receptor %in% receptors)"
   ]
  },
  {
   "cell_type": "code",
   "execution_count": 114,
   "id": "5303dc8b",
   "metadata": {},
   "outputs": [],
   "source": [
    "true_LR_DB[\"True_LR\"]=TRUE"
   ]
  },
  {
   "cell_type": "code",
   "execution_count": 115,
   "id": "87eb45dd",
   "metadata": {},
   "outputs": [],
   "source": [
    "LR_fix_dir[\"True_LR\"]=TRUE"
   ]
  },
  {
   "cell_type": "code",
   "execution_count": 116,
   "id": "824be9fe",
   "metadata": {},
   "outputs": [],
   "source": [
    "true_LR_DB <- rbind(true_LR_DB,LR_fix_dir)"
   ]
  },
  {
   "cell_type": "code",
   "execution_count": 117,
   "id": "6e75f9e7",
   "metadata": {},
   "outputs": [],
   "source": [
    "adhesive_DB <- filter(complete_lr, !Pair.Name %in% true_LR_DB$Pair.Name)"
   ]
  },
  {
   "cell_type": "code",
   "execution_count": null,
   "id": "dee09007",
   "metadata": {},
   "outputs": [],
   "source": []
  },
  {
   "cell_type": "code",
   "execution_count": 119,
   "id": "d99f08a9",
   "metadata": {},
   "outputs": [],
   "source": [
    "adhesive_DB[\"True_LR\"]=FALSE"
   ]
  },
  {
   "cell_type": "code",
   "execution_count": 121,
   "id": "f2f4b2cc",
   "metadata": {},
   "outputs": [],
   "source": [
    "reversed <- complete_lr[complete_lr$dup %in% complete_lr$Pair.Name,  ]"
   ]
  },
  {
   "cell_type": "code",
   "execution_count": null,
   "id": "c9207678",
   "metadata": {},
   "outputs": [],
   "source": []
  },
  {
   "cell_type": "code",
   "execution_count": 135,
   "id": "c2a8cbb3",
   "metadata": {},
   "outputs": [
    {
     "name": "stderr",
     "output_type": "stream",
     "text": [
      "Warning message in cbind(parts$left, ellip_h, parts$right, deparse.level = 0L):\n",
      "“number of rows of result is not a multiple of vector length (arg 2)”\n",
      "Warning message in cbind(parts$left, ellip_h, parts$right, deparse.level = 0L):\n",
      "“number of rows of result is not a multiple of vector length (arg 2)”\n",
      "Warning message in cbind(parts$left, ellip_h, parts$right, deparse.level = 0L):\n",
      "“number of rows of result is not a multiple of vector length (arg 2)”\n",
      "Warning message in cbind(parts$left, ellip_h, parts$right, deparse.level = 0L):\n",
      "“number of rows of result is not a multiple of vector length (arg 2)”\n"
     ]
    },
    {
     "data": {
      "text/html": [
       "<table class=\"dataframe\">\n",
       "<caption>A data.frame: 0 × 26</caption>\n",
       "<thead>\n",
       "\t<tr><th scope=col>Pair.Name</th><th scope=col>Ligand</th><th scope=col>Ligand.Name</th><th scope=col>Receptor</th><th scope=col>Receptor.Name</th><th scope=col>complex_pair</th><th scope=col>partner_a</th><th scope=col>partner_b</th><th scope=col>annotation_strategy.x</th><th scope=col>source</th><th scope=col>⋯</th><th scope=col>consensus_direction</th><th scope=col>consensus_stimulation</th><th scope=col>consensus_inhibition</th><th scope=col>sources</th><th scope=col>references</th><th scope=col>curation_effort</th><th scope=col>n_references</th><th scope=col>n_resources</th><th scope=col>annotation_strategy.y</th><th scope=col>dup</th></tr>\n",
       "\t<tr><th scope=col>&lt;chr&gt;</th><th scope=col>&lt;chr&gt;</th><th scope=col>&lt;chr&gt;</th><th scope=col>&lt;chr&gt;</th><th scope=col>&lt;chr&gt;</th><th scope=col>&lt;chr&gt;</th><th scope=col>&lt;chr&gt;</th><th scope=col>&lt;chr&gt;</th><th scope=col>&lt;chr&gt;</th><th scope=col>&lt;chr&gt;</th><th scope=col>⋯</th><th scope=col>&lt;dbl&gt;</th><th scope=col>&lt;dbl&gt;</th><th scope=col>&lt;dbl&gt;</th><th scope=col>&lt;chr&gt;</th><th scope=col>&lt;chr&gt;</th><th scope=col>&lt;dbl&gt;</th><th scope=col>&lt;dbl&gt;</th><th scope=col>&lt;int&gt;</th><th scope=col>&lt;chr&gt;</th><th scope=col>&lt;chr&gt;</th></tr>\n",
       "</thead>\n",
       "<tbody>\n",
       "</tbody>\n",
       "</table>\n"
      ],
      "text/latex": [
       "A data.frame: 0 × 26\n",
       "\\begin{tabular}{lllllllllllllllllllll}\n",
       " Pair.Name & Ligand & Ligand.Name & Receptor & Receptor.Name & complex\\_pair & partner\\_a & partner\\_b & annotation\\_strategy.x & source & ⋯ & consensus\\_direction & consensus\\_stimulation & consensus\\_inhibition & sources & references & curation\\_effort & n\\_references & n\\_resources & annotation\\_strategy.y & dup\\\\\n",
       " <chr> & <chr> & <chr> & <chr> & <chr> & <chr> & <chr> & <chr> & <chr> & <chr> & ⋯ & <dbl> & <dbl> & <dbl> & <chr> & <chr> & <dbl> & <dbl> & <int> & <chr> & <chr>\\\\\n",
       "\\hline\n",
       "\\end{tabular}\n"
      ],
      "text/markdown": [
       "\n",
       "A data.frame: 0 × 26\n",
       "\n",
       "| Pair.Name &lt;chr&gt; | Ligand &lt;chr&gt; | Ligand.Name &lt;chr&gt; | Receptor &lt;chr&gt; | Receptor.Name &lt;chr&gt; | complex_pair &lt;chr&gt; | partner_a &lt;chr&gt; | partner_b &lt;chr&gt; | annotation_strategy.x &lt;chr&gt; | source &lt;chr&gt; | ⋯ ⋯ | consensus_direction &lt;dbl&gt; | consensus_stimulation &lt;dbl&gt; | consensus_inhibition &lt;dbl&gt; | sources &lt;chr&gt; | references &lt;chr&gt; | curation_effort &lt;dbl&gt; | n_references &lt;dbl&gt; | n_resources &lt;int&gt; | annotation_strategy.y &lt;chr&gt; | dup &lt;chr&gt; |\n",
       "|---|---|---|---|---|---|---|---|---|---|---|---|---|---|---|---|---|---|---|---|---|\n",
       "\n"
      ],
      "text/plain": [
       "     Pair.Name Ligand Ligand.Name Receptor Receptor.Name complex_pair partner_a\n",
       "     partner_b annotation_strategy.x source ⋯ consensus_direction\n",
       "     consensus_stimulation consensus_inhibition sources references\n",
       "     curation_effort n_references n_resources annotation_strategy.y dup"
      ]
     },
     "metadata": {},
     "output_type": "display_data"
    }
   ],
   "source": [
    "# check if any of them in true_LR, it should not\n",
    "filter(reversed, dup %in% true_LR_DB$Pair.Name)"
   ]
  },
  {
   "cell_type": "code",
   "execution_count": null,
   "id": "3076b9d4",
   "metadata": {},
   "outputs": [],
   "source": []
  },
  {
   "cell_type": "code",
   "execution_count": 96,
   "id": "68b010e4",
   "metadata": {},
   "outputs": [],
   "source": [
    "# reversed <- adhesive_DB[adhesive_DB$dup %in% adhesive_DB$Pair.Name,  ]"
   ]
  },
  {
   "cell_type": "code",
   "execution_count": 97,
   "id": "2d522c19",
   "metadata": {},
   "outputs": [],
   "source": [
    "# adhesive_DB <- adhesive_DB[!adhesive_DB$dup %in% true_LR_DB$Pair.Name,  ]"
   ]
  },
  {
   "cell_type": "code",
   "execution_count": 98,
   "id": "b5ba9011",
   "metadata": {},
   "outputs": [
    {
     "data": {
      "text/html": [
       "92"
      ],
      "text/latex": [
       "92"
      ],
      "text/markdown": [
       "92"
      ],
      "text/plain": [
       "[1] 92"
      ]
     },
     "metadata": {},
     "output_type": "display_data"
    }
   ],
   "source": [
    "2705 - 2613"
   ]
  },
  {
   "cell_type": "code",
   "execution_count": null,
   "id": "222e3574",
   "metadata": {},
   "outputs": [],
   "source": []
  },
  {
   "cell_type": "code",
   "execution_count": 137,
   "id": "07f31935",
   "metadata": {},
   "outputs": [],
   "source": [
    "# remove the subsetted partition from the original df\n",
    "adhesive_DB <- adhesive_DB[!adhesive_DB$Pair.Name %in% reversed$Pair.Name,  ]"
   ]
  },
  {
   "cell_type": "code",
   "execution_count": 138,
   "id": "17574b2b",
   "metadata": {},
   "outputs": [],
   "source": [
    "# true_LR_DB <- filter(true_LR_DB, !Pair.Name %in% reversed_found_in_LR$dup)"
   ]
  },
  {
   "cell_type": "code",
   "execution_count": 139,
   "id": "09c4641d",
   "metadata": {},
   "outputs": [],
   "source": [
    "# Subset the LR_database data frame to only include rows where we have swapped interactions\n",
    "\n",
    "subset_lr <- reversed"
   ]
  },
  {
   "cell_type": "code",
   "execution_count": 140,
   "id": "57ca949b",
   "metadata": {},
   "outputs": [
    {
     "data": {
      "text/html": [
       "336"
      ],
      "text/latex": [
       "336"
      ],
      "text/markdown": [
       "336"
      ],
      "text/plain": [
       "[1] 336"
      ]
     },
     "metadata": {},
     "output_type": "display_data"
    }
   ],
   "source": [
    "nrow(subset_lr)"
   ]
  },
  {
   "cell_type": "code",
   "execution_count": 141,
   "id": "006247c5",
   "metadata": {},
   "outputs": [
    {
     "data": {
      "text/html": [
       "2603"
      ],
      "text/latex": [
       "2603"
      ],
      "text/markdown": [
       "2603"
      ],
      "text/plain": [
       "[1] 2603"
      ]
     },
     "metadata": {},
     "output_type": "display_data"
    }
   ],
   "source": [
    "nrow(adhesive_DB)"
   ]
  },
  {
   "cell_type": "code",
   "execution_count": 142,
   "id": "70c275d2",
   "metadata": {},
   "outputs": [],
   "source": [
    "# Extract all the unique proteins/genes from the subset_lr data frame that have \"plexin\",\n",
    "# \"neuroligin\" or \"ADAM\" in their Receptor.Name column\n",
    "# these will be corrected as ligands\n",
    "\n",
    "plexin_family <- as.vector(subset_lr[grep(\"plexin\", subset_lr$Receptor.Name), ]$Receptor)\n",
    "\n",
    "neuroligin_family <- as.vector(subset_lr[grep(\"neuroligin\", subset_lr$Receptor.Name), ]$Receptor)\n",
    "\n",
    "adam_family <- as.vector(subset_lr[grep(\"ADAM\", subset_lr$Receptor.Name), ]$Receptor)\n",
    "\n",
    "#extract receptors that has annotation of \"receptor\" under Ligand.Name\n",
    "receptor_anno <- as.vector(subset_lr[grep(\"receptor\", subset_lr$Ligand.Name), ]$Ligand)"
   ]
  },
  {
   "cell_type": "code",
   "execution_count": 143,
   "id": "bb64d5c7",
   "metadata": {},
   "outputs": [],
   "source": [
    "ligand <- c(\"AGRN\", \"BMP2\", \"BMP4\", \"VTCN1\", \"CD244\", \"CD38\", \"GAS6\", \"GDNF\", \"GUCA2A\", \n",
    "\"HHLA2\", \"IHH\", \"PSEN1\", \"NLGN\", \"NRTN\", \"RPH3A\", \"SHH\",\"FLT3LG\")\n",
    "\n",
    "receptor <- c(\"CD2\", \"CD27\", \"CD80\", \"CD86\", \"SELL\", \"CD44\", \"CD81\", \"CD8A\", \"CLEC1B\", \n",
    "\"GLG1\", \"TYROBP\", \"FLT3\", \"ERBB2\", \"EGFR\", \"IL1R1\", \"IL1RAP\", \"KDR\", \"NRP1\")"
   ]
  },
  {
   "cell_type": "code",
   "execution_count": 144,
   "id": "b306e385",
   "metadata": {},
   "outputs": [],
   "source": [
    "# Combine the additional ligands with the plexin, neuroligin, and ADAM families into a vector called ligand\n",
    "ligand <- unique(c(ligand,plexin_family,neuroligin_family,adam_family))\n",
    "receptor <- unique(c(receptor,receptor_anno))"
   ]
  },
  {
   "cell_type": "code",
   "execution_count": 145,
   "id": "f04756cb",
   "metadata": {},
   "outputs": [],
   "source": [
    "# Subset the subset_lr data frame to only include rows where the consensus_direction column is 1\n",
    "dir <- subset_lr %>% filter(Pair.Name %in% subset_lr$dup & consensus_direction == 1)"
   ]
  },
  {
   "cell_type": "code",
   "execution_count": 146,
   "id": "c7d64861",
   "metadata": {},
   "outputs": [],
   "source": [
    "# Subset the subset_lr data frame to only include rows where the consensus_direction column is 0\n",
    "no_dir <- subset_lr %>% filter(Pair.Name %in% subset_lr$dup & consensus_direction == 0)"
   ]
  },
  {
   "cell_type": "code",
   "execution_count": 147,
   "id": "a9d5a425",
   "metadata": {},
   "outputs": [
    {
     "data": {
      "text/html": [
       "282"
      ],
      "text/latex": [
       "282"
      ],
      "text/markdown": [
       "282"
      ],
      "text/plain": [
       "[1] 282"
      ]
     },
     "metadata": {},
     "output_type": "display_data"
    }
   ],
   "source": [
    "nrow(no_dir)"
   ]
  },
  {
   "cell_type": "code",
   "execution_count": 148,
   "id": "09c3bab3",
   "metadata": {},
   "outputs": [
    {
     "data": {
      "text/html": [
       "54"
      ],
      "text/latex": [
       "54"
      ],
      "text/markdown": [
       "54"
      ],
      "text/plain": [
       "[1] 54"
      ]
     },
     "metadata": {},
     "output_type": "display_data"
    }
   ],
   "source": [
    "nrow(dir)"
   ]
  },
  {
   "cell_type": "code",
   "execution_count": 149,
   "id": "8f339b54",
   "metadata": {},
   "outputs": [],
   "source": [
    "# Remove rows from no_dir where the pair is already present in dir\n",
    "in_dir <- dir[dir$dup %in% no_dir$Pair.Name,] \n",
    "no_dir <- no_dir[!no_dir$Pair.Name %in% dir$dup,  ] #removal of those in dir below is rm of nodir\n",
    "# dir <- dir[!dir$Pair.Name %in% in_dir$Pair.Name,] # did not work thats why there is below no fucking idea"
   ]
  },
  {
   "cell_type": "code",
   "execution_count": 150,
   "id": "d5063fce",
   "metadata": {},
   "outputs": [],
   "source": [
    "x <- dir[!dir$Pair.Name %in% in_dir$Pair.Name,]"
   ]
  },
  {
   "cell_type": "code",
   "execution_count": 151,
   "id": "dc7304c9",
   "metadata": {},
   "outputs": [],
   "source": [
    "dir<-x"
   ]
  },
  {
   "cell_type": "code",
   "execution_count": 152,
   "id": "cf439b75",
   "metadata": {},
   "outputs": [],
   "source": [
    "# remove the interactions where receptor is annotated as ligand\n",
    "wrong_lig <- no_dir[no_dir$Receptor %in% ligand,]\n",
    "correct_lig <- no_dir[no_dir$dup %in% wrong_lig$Pair.Name,]\n",
    "no_dir <- no_dir[!no_dir$Pair.Name %in% c(wrong_lig$Pair.Name, correct_lig$Pair.Name),]"
   ]
  },
  {
   "cell_type": "code",
   "execution_count": null,
   "id": "87e9db51",
   "metadata": {},
   "outputs": [],
   "source": []
  },
  {
   "cell_type": "code",
   "execution_count": 153,
   "id": "8d118e03",
   "metadata": {},
   "outputs": [],
   "source": [
    "wrong_rec <- no_dir[no_dir$Ligand %in% receptor,]\n",
    "wrong_rec <- wrong_rec[!wrong_rec$Pair.Name %in% wrong_rec$dup,]"
   ]
  },
  {
   "cell_type": "code",
   "execution_count": 154,
   "id": "71682762",
   "metadata": {},
   "outputs": [],
   "source": [
    "# remove the interactions where receptor is annotated as ligand\n",
    "wrong_rec <- no_dir[no_dir$Ligand %in% receptor,]\n",
    "wrong_rec <- wrong_rec[!wrong_rec$Pair.Name %in% wrong_rec$dup,]\n",
    "correct_rec <- no_dir[no_dir$dup %in% wrong_rec$Pair.Name,]\n",
    "no_dir <- no_dir[!no_dir$Pair.Name %in% c(wrong_rec$Pair.Name, correct_rec$Pair.Name),]"
   ]
  },
  {
   "cell_type": "code",
   "execution_count": 155,
   "id": "dd8fd679",
   "metadata": {},
   "outputs": [
    {
     "data": {
      "text/html": [
       "108"
      ],
      "text/latex": [
       "108"
      ],
      "text/markdown": [
       "108"
      ],
      "text/plain": [
       "[1] 108"
      ]
     },
     "metadata": {},
     "output_type": "display_data"
    }
   ],
   "source": [
    "nrow(no_dir)"
   ]
  },
  {
   "cell_type": "code",
   "execution_count": 156,
   "id": "ba837f60",
   "metadata": {},
   "outputs": [],
   "source": [
    "# remove the interactions where receptor is annotated as ligand\n",
    "# no_dir <- no_dir[!no_dir$Receptor %in% ligand,]"
   ]
  },
  {
   "cell_type": "code",
   "execution_count": 157,
   "id": "919a875a",
   "metadata": {},
   "outputs": [],
   "source": [
    "# remove the interactions where ligand is annotated as receptor\n",
    "# no_dir <- no_dir[!no_dir$Ligand %in% receptor,]"
   ]
  },
  {
   "cell_type": "code",
   "execution_count": 158,
   "id": "22d14bf8",
   "metadata": {},
   "outputs": [],
   "source": [
    "# wrong_lig <- no_dir[no_dir$Receptor %in% ligand,]"
   ]
  },
  {
   "cell_type": "code",
   "execution_count": 159,
   "id": "ab0b8039",
   "metadata": {},
   "outputs": [],
   "source": [
    "# Create an empty data frame called df with the same column names as no_dir\n",
    "df <- data.frame(matrix(ncol = ncol(no_dir), nrow = 0))\n",
    "x <- colnames(no_dir)\n",
    "colnames(df) <- x"
   ]
  },
  {
   "cell_type": "code",
   "execution_count": null,
   "id": "6ce079ef",
   "metadata": {},
   "outputs": [],
   "source": []
  },
  {
   "cell_type": "code",
   "execution_count": 160,
   "id": "b4f2665e",
   "metadata": {},
   "outputs": [],
   "source": [
    "# Loop through unique ligands in the no_dir data frame\n",
    "for (lig in unique(no_dir$Ligand)) {\n",
    "    vec_clean <- vector()\n",
    "    # Filter the no_dir data frame to include only rows where Ligand or Receptor column matches the current ligand in the loop\n",
    "    # this yields the pairs that are swapped.\n",
    "    r1 <- filter(no_dir, Ligand==lig | Receptor == lig)\n",
    "#     print(lig)\n",
    "#     print(nrow(r1))\n",
    "    vec <- r1$Pair.Name\n",
    "    \n",
    "    for (component in vec) {\n",
    "        comp <- unlist(strsplit(component, split = \"_\"))\n",
    "        pair1 <- paste(comp[1], comp[2], sep = \"_\")\n",
    "        pair2 <- paste(comp[2], comp[1], sep = \"_\")\n",
    "        \n",
    "        if (!pair1 %in% vec_clean & !pair2 %in% vec_clean) {\n",
    "            vec_clean <- append(vec_clean, pair1)\n",
    "        }\n",
    "    }\n",
    "    \n",
    "    # Filter the r1 data frame to include only the unique pairs in vec_clean and append the resulting data frame to df\n",
    "    c1 <- r1[r1$Pair.Name %in% vec_clean,]\n",
    "    \n",
    "    df <- rbind(df,c1)\n",
    "}"
   ]
  },
  {
   "cell_type": "code",
   "execution_count": 161,
   "id": "63bd9f90",
   "metadata": {},
   "outputs": [],
   "source": [
    "no_dir_df <- df[!duplicated(df$Pair.Name),]"
   ]
  },
  {
   "cell_type": "code",
   "execution_count": 162,
   "id": "66719fb7",
   "metadata": {},
   "outputs": [
    {
     "data": {
      "text/html": [
       "54"
      ],
      "text/latex": [
       "54"
      ],
      "text/markdown": [
       "54"
      ],
      "text/plain": [
       "[1] 54"
      ]
     },
     "metadata": {},
     "output_type": "display_data"
    }
   ],
   "source": [
    "nrow(no_dir_df)"
   ]
  },
  {
   "cell_type": "code",
   "execution_count": 163,
   "id": "4d5a341b",
   "metadata": {},
   "outputs": [],
   "source": [
    "# Combine the dir and no_dir_df data frames\n",
    "subset_lr <- rbind(dir,no_dir_df,in_dir,correct_lig,correct_rec)"
   ]
  },
  {
   "cell_type": "code",
   "execution_count": 164,
   "id": "7f408b01",
   "metadata": {},
   "outputs": [],
   "source": [
    "subset_lr[\"True_LR\"] <- FALSE"
   ]
  },
  {
   "cell_type": "code",
   "execution_count": 165,
   "id": "4c68a541",
   "metadata": {},
   "outputs": [],
   "source": [
    "# Add the remaining rows of LR_database to subset_lr\n",
    "adhesive_DB <- rbind(subset_lr,adhesive_DB)"
   ]
  },
  {
   "cell_type": "code",
   "execution_count": 166,
   "id": "467e07bb",
   "metadata": {},
   "outputs": [],
   "source": [
    "dir_fix <- c(\"ERBB2_EGFR\", \"IL1RAP_IL1R1\", \"NRP1_KDR\")"
   ]
  },
  {
   "cell_type": "code",
   "execution_count": 167,
   "id": "0e2de586",
   "metadata": {},
   "outputs": [],
   "source": [
    "adhesive_DB <- adhesive_DB[!adhesive_DB$Pair.Name %in% dir_fix,  ]"
   ]
  },
  {
   "cell_type": "code",
   "execution_count": 130,
   "id": "3cb710e0",
   "metadata": {},
   "outputs": [],
   "source": [
    "# adhesive_DB <- adhesive_DB[,!names(adhesive_DB) == \"dup\"]"
   ]
  },
  {
   "cell_type": "code",
   "execution_count": null,
   "id": "55bf1a99",
   "metadata": {},
   "outputs": [],
   "source": []
  },
  {
   "cell_type": "code",
   "execution_count": 131,
   "id": "d41eb8a1",
   "metadata": {},
   "outputs": [],
   "source": [
    "# found_in_LR[\"True_LR\"]<- TRUE"
   ]
  },
  {
   "cell_type": "code",
   "execution_count": 168,
   "id": "194e5c11",
   "metadata": {},
   "outputs": [],
   "source": [
    "LR_database <- rbind(true_LR_DB, adhesive_DB,found_in_LR)"
   ]
  },
  {
   "cell_type": "code",
   "execution_count": 169,
   "id": "164cb954",
   "metadata": {},
   "outputs": [],
   "source": [
    "LR_database <- LR_database[!LR_database$Pair.Name %in% found_in_LR$dup,]"
   ]
  },
  {
   "cell_type": "code",
   "execution_count": 170,
   "id": "85eb8b8f",
   "metadata": {},
   "outputs": [],
   "source": [
    "LR_database <- LR_database[!duplicated(LR_database$Pair.Name),]"
   ]
  },
  {
   "cell_type": "code",
   "execution_count": null,
   "id": "ad3c61e5",
   "metadata": {},
   "outputs": [],
   "source": [
    "pairwise_pairs"
   ]
  },
  {
   "cell_type": "code",
   "execution_count": 182,
   "id": "d1b47ac9",
   "metadata": {},
   "outputs": [],
   "source": [
    "#update the complex_pair columns\n",
    "pairwise_pairs <- pairwise_pairs[!duplicated(pairwise_pairs$pair),]\n",
    "colnames(pairwise_pairs)[4] <- \"Pair.Name\"\n",
    "\n",
    "\n",
    "\n",
    "LR_database <- LR_database %>%\n",
    "  mutate(complex_pair = coalesce(pairwise_pairs$complex_pair[match(Pair.Name, pairwise_pairs$Pair.Name)], complex_pair))"
   ]
  },
  {
   "cell_type": "code",
   "execution_count": null,
   "id": "d95259c4",
   "metadata": {},
   "outputs": [],
   "source": []
  },
  {
   "cell_type": "code",
   "execution_count": 183,
   "id": "f5644e23",
   "metadata": {},
   "outputs": [],
   "source": [
    "LR_database <- LR_database[,!names(LR_database) == \"dup\"]"
   ]
  },
  {
   "cell_type": "code",
   "execution_count": 184,
   "id": "8c6b6a11",
   "metadata": {},
   "outputs": [
    {
     "data": {
      "text/html": [
       "<table class=\"dataframe\">\n",
       "<caption>A data.frame: 6921 × 26</caption>\n",
       "<thead>\n",
       "\t<tr><th></th><th scope=col>Pair.Name</th><th scope=col>Ligand</th><th scope=col>Ligand.Name</th><th scope=col>Receptor</th><th scope=col>Receptor.Name</th><th scope=col>complex_pair</th><th scope=col>partner_a</th><th scope=col>partner_b</th><th scope=col>annotation_strategy.x</th><th scope=col>source</th><th scope=col>⋯</th><th scope=col>consensus_direction</th><th scope=col>consensus_stimulation</th><th scope=col>consensus_inhibition</th><th scope=col>sources</th><th scope=col>references</th><th scope=col>curation_effort</th><th scope=col>n_references</th><th scope=col>n_resources</th><th scope=col>annotation_strategy.y</th><th scope=col>True_LR</th></tr>\n",
       "\t<tr><th></th><th scope=col>&lt;chr&gt;</th><th scope=col>&lt;chr&gt;</th><th scope=col>&lt;chr&gt;</th><th scope=col>&lt;chr&gt;</th><th scope=col>&lt;chr&gt;</th><th scope=col>&lt;chr&gt;</th><th scope=col>&lt;chr&gt;</th><th scope=col>&lt;chr&gt;</th><th scope=col>&lt;chr&gt;</th><th scope=col>&lt;chr&gt;</th><th scope=col>⋯</th><th scope=col>&lt;dbl&gt;</th><th scope=col>&lt;dbl&gt;</th><th scope=col>&lt;dbl&gt;</th><th scope=col>&lt;chr&gt;</th><th scope=col>&lt;chr&gt;</th><th scope=col>&lt;dbl&gt;</th><th scope=col>&lt;dbl&gt;</th><th scope=col>&lt;int&gt;</th><th scope=col>&lt;chr&gt;</th><th scope=col>&lt;lgl&gt;</th></tr>\n",
       "</thead>\n",
       "<tbody>\n",
       "\t<tr><th scope=row>1</th><td>A2M_LRP1         </td><td>A2M    </td><td>alpha-2-macroglobulin                          </td><td>LRP1     </td><td>LDL receptor related protein 1          </td><td>NA</td><td>P01023</td><td>Q07954</td><td>LR</td><td>P01023</td><td>⋯</td><td>1</td><td>1</td><td>0</td><td>AlzPathway;Baccin2019;CellTalkDB;EMBRACE;Fantom5_LRdb;HPMR_LRdb;HPMR_talklr;HPRD;HPRD_LRdb;HPRD_talklr;LRdb;Ramilowski2015;Ramilowski2015_Baccin2019;STRING_talklr;Wang;connectomeDB2020;iTALK;talklr                                                                                                                                                            </td><td>AlzPathway:19026743;Baccin2019:10652313;Baccin2019:12194978;Baccin2019:1702392;CellTalkDB:10652313;HPRD:10652313;HPRD:12194978;LRdb:10652313;connectomeDB2020:10652313;connectomeDB2020:12194978;connectomeDB2020:1702392                                                                                                                                                                                                                                                                                                                                                                                                                                                                                                                                      </td><td>11</td><td>4</td><td>11</td><td>both</td><td>TRUE</td></tr>\n",
       "\t<tr><th scope=row>2</th><td>ACTR2_ADRB2      </td><td>ACTR2  </td><td>actin related protein 2                        </td><td>ADRB2    </td><td>adrenoceptor beta 2                     </td><td>NA</td><td>P61160</td><td>P07550</td><td>LR</td><td>P61160</td><td>⋯</td><td>0</td><td>0</td><td>0</td><td>CellTalkDB;LRdb;Reactome_LRdb                                                                                                                                                                                                                                                                                                                                    </td><td>CellTalkDB:32196115                                                                                                                                                                                                                                                                                                                                                                                                                                                                                                                                                                                                                                                                                                                                            </td><td> 1</td><td>1</td><td> 2</td><td>both</td><td>TRUE</td></tr>\n",
       "\t<tr><th scope=row>3</th><td>ACTR2_LDLR       </td><td>ACTR2  </td><td>actin related protein 2                        </td><td>LDLR     </td><td>low density lipoprotein receptor        </td><td>NA</td><td>P61160</td><td>P01130</td><td>LR</td><td>P61160</td><td>⋯</td><td>0</td><td>0</td><td>0</td><td>CellTalkDB;LRdb;Reactome_LRdb                                                                                                                                                                                                                                                                                                                                    </td><td>CellTalkDB:32196115                                                                                                                                                                                                                                                                                                                                                                                                                                                                                                                                                                                                                                                                                                                                            </td><td> 1</td><td>1</td><td> 2</td><td>both</td><td>TRUE</td></tr>\n",
       "\t<tr><th scope=row>4</th><td>ACTR2_LRP2       </td><td>ACTR2  </td><td>actin related protein 2                        </td><td>LRP2     </td><td>LDL receptor related protein 2          </td><td>NA</td><td>P61160</td><td>P98164</td><td>LR</td><td>P61160</td><td>⋯</td><td>0</td><td>0</td><td>0</td><td>CellTalkDB;LRdb;Reactome_LRdb                                                                                                                                                                                                                                                                                                                                    </td><td>CellTalkDB:32196115                                                                                                                                                                                                                                                                                                                                                                                                                                                                                                                                                                                                                                                                                                                                            </td><td> 1</td><td>1</td><td> 2</td><td>both</td><td>TRUE</td></tr>\n",
       "\t<tr><th scope=row>5</th><td>ADAM11_CCR4      </td><td>ADAM11 </td><td>ADAM metallopeptidase domain 11                </td><td>CCR4     </td><td>C-C motif chemokine receptor 4          </td><td>NA</td><td>O75078</td><td>P51679</td><td>LR</td><td>O75078</td><td>⋯</td><td>1</td><td>1</td><td>0</td><td>Kirouac2010                                                                                                                                                                                                                                                                                                                                                      </td><td>NA                                                                                                                                                                                                                                                                                                                                                                                                                                                                                                                                                                                                                                                                                                                                                             </td><td> 0</td><td>0</td><td> 1</td><td>LR  </td><td>TRUE</td></tr>\n",
       "\t<tr><th scope=row>6</th><td>ADAM11_ITGA4     </td><td>ADAM11 </td><td>ADAM metallopeptidase domain 11                </td><td>ITGA4    </td><td>integrin subunit alpha 4                </td><td>NA</td><td>O75078</td><td>P13612</td><td>LR</td><td>O75078</td><td>⋯</td><td>0</td><td>0</td><td>0</td><td>connectomeDB2020                                                                                                                                                                                                                                                                                                                                                 </td><td>connectomeDB2020:28913673                                                                                                                                                                                                                                                                                                                                                                                                                                                                                                                                                                                                                                                                                                                                      </td><td> 1</td><td>1</td><td> 1</td><td>both</td><td>TRUE</td></tr>\n",
       "\t<tr><th scope=row>7</th><td>ADCYAP1_ADCYAP1R1</td><td>ADCYAP1</td><td>adenylate cyclase activating polypeptide 1     </td><td>ADCYAP1R1</td><td>ADCYAP receptor type I                  </td><td>NA</td><td>P18509</td><td>P41586</td><td>LR</td><td>P18509</td><td>⋯</td><td>1</td><td>1</td><td>0</td><td>Baccin2019;CellCall;CellChatDB;CellPhoneDB;CellTalkDB;Cellinker;DIP;EMBRACE;Fantom5_LRdb;Guide2Pharma;Guide2Pharma_LRdb;Guide2Pharma_talklr;HPMR;HPMR_Cellinker;HPMR_LRdb;HPMR_talklr;HPRD;HPRD_LRdb;HPRD_talklr;I2D_CellPhoneDB;IMEx_CellPhoneDB;LRdb;Ramilowski2015;Ramilowski2015_Baccin2019;Reactome_LRdb;SIGNOR;Wang;connectomeDB2020;iTALK;scConnect;talklr</td><td>Baccin2019:10100920;Baccin2019:10583729;Baccin2019:11931347;Baccin2019:16930633;Baccin2019:8253796;Baccin2019:8703026;CellChatDB:21350482;CellTalkDB:10100920;Cellinker:10100920;Cellinker:10583729;Cellinker:11931347;Cellinker:12488235;Cellinker:16930633;Cellinker:21350482;Cellinker:8253796;Cellinker:8703026;DIP:17470806;Guide2Pharma:10583729;Guide2Pharma:11931347;Guide2Pharma:16930633;HPMR:10100920;HPRD:10583729;HPRD:8253796;LRdb:10100920;LRdb:10583729;LRdb:11931347;LRdb:16930633;LRdb:8253796;LRdb:8703026;SIGNOR:8703026;connectomeDB2020:10100920;connectomeDB2020:10583729;connectomeDB2020:11931347;connectomeDB2020:16930633;connectomeDB2020:8253796;connectomeDB2020:8703026;scConnect:10583729;scConnect:11931347;scConnect:16930633</td><td>39</td><td>9</td><td>19</td><td>both</td><td>TRUE</td></tr>\n",
       "\t<tr><th scope=row>8</th><td>ADCYAP1_ADRB2    </td><td>ADCYAP1</td><td>adenylate cyclase activating polypeptide 1     </td><td>ADRB2    </td><td>adrenoceptor beta 2                     </td><td>NA</td><td>P18509</td><td>P07550</td><td>LR</td><td>P18509</td><td>⋯</td><td>0</td><td>0</td><td>0</td><td>CellTalkDB;LRdb;Reactome_LRdb                                                                                                                                                                                                                                                                                                                                    </td><td>CellTalkDB:32196115                                                                                                                                                                                                                                                                                                                                                                                                                                                                                                                                                                                                                                                                                                                                            </td><td> 1</td><td>1</td><td> 2</td><td>both</td><td>TRUE</td></tr>\n",
       "\t<tr><th scope=row>9</th><td>ADCYAP1_ADRB3    </td><td>ADCYAP1</td><td>adenylate cyclase activating polypeptide 1     </td><td>ADRB3    </td><td>adrenoceptor beta 3                     </td><td>NA</td><td>P18509</td><td>P13945</td><td>LR</td><td>P18509</td><td>⋯</td><td>0</td><td>0</td><td>0</td><td>CellTalkDB;LRdb;Reactome_LRdb                                                                                                                                                                                                                                                                                                                                    </td><td>CellTalkDB:32196115                                                                                                                                                                                                                                                                                                                                                                                                                                                                                                                                                                                                                                                                                                                                            </td><td> 1</td><td>1</td><td> 2</td><td>both</td><td>TRUE</td></tr>\n",
       "\t<tr><th scope=row>10</th><td>ADCYAP1_DPP4     </td><td>ADCYAP1</td><td>adenylate cyclase activating polypeptide 1     </td><td>DPP4     </td><td>dipeptidyl peptidase 4                  </td><td>NA</td><td>P18509</td><td>P27487</td><td>LR</td><td>P18509</td><td>⋯</td><td>0</td><td>0</td><td>0</td><td>CellPhoneDB;CellTalkDB;Cellinker;InnateDB-All_CellPhoneDB;MINT_CellPhoneDB                                                                                                                                                                                                                                                                                       </td><td>Cellinker:21314817                                                                                                                                                                                                                                                                                                                                                                                                                                                                                                                                                                                                                                                                                                                                             </td><td> 1</td><td>1</td><td> 3</td><td>both</td><td>TRUE</td></tr>\n",
       "\t<tr><th scope=row>11</th><td>ADCYAP1_GPR20    </td><td>ADCYAP1</td><td>adenylate cyclase activating polypeptide 1     </td><td>GPR20    </td><td>G protein-coupled receptor 20           </td><td>NA</td><td>P18509</td><td>Q99678</td><td>LR</td><td>P18509</td><td>⋯</td><td>0</td><td>0</td><td>0</td><td>CellTalkDB;LRdb;Reactome_LRdb                                                                                                                                                                                                                                                                                                                                    </td><td>CellTalkDB:32196115                                                                                                                                                                                                                                                                                                                                                                                                                                                                                                                                                                                                                                                                                                                                            </td><td> 1</td><td>1</td><td> 2</td><td>both</td><td>TRUE</td></tr>\n",
       "\t<tr><th scope=row>12</th><td>ADCYAP1_GPR84    </td><td>ADCYAP1</td><td>adenylate cyclase activating polypeptide 1     </td><td>GPR84    </td><td>G protein-coupled receptor 84           </td><td>NA</td><td>P18509</td><td>Q9NQS5</td><td>LR</td><td>P18509</td><td>⋯</td><td>0</td><td>0</td><td>0</td><td>CellTalkDB;LRdb;Reactome_LRdb                                                                                                                                                                                                                                                                                                                                    </td><td>CellTalkDB:32196115                                                                                                                                                                                                                                                                                                                                                                                                                                                                                                                                                                                                                                                                                                                                            </td><td> 1</td><td>1</td><td> 2</td><td>both</td><td>TRUE</td></tr>\n",
       "\t<tr><th scope=row>13</th><td>ADCYAP1_PTH1R    </td><td>ADCYAP1</td><td>adenylate cyclase activating polypeptide 1     </td><td>PTH1R    </td><td>parathyroid hormone 1 receptor          </td><td>NA</td><td>P18509</td><td>Q03431</td><td>LR</td><td>P18509</td><td>⋯</td><td>0</td><td>0</td><td>0</td><td>CellTalkDB;LRdb;Reactome_LRdb                                                                                                                                                                                                                                                                                                                                    </td><td>CellTalkDB:32196115                                                                                                                                                                                                                                                                                                                                                                                                                                                                                                                                                                                                                                                                                                                                            </td><td> 1</td><td>1</td><td> 2</td><td>both</td><td>TRUE</td></tr>\n",
       "\t<tr><th scope=row>14</th><td>ADCYAP1_RAMP2    </td><td>ADCYAP1</td><td>adenylate cyclase activating polypeptide 1     </td><td>RAMP2    </td><td>receptor activity modifying protein 2   </td><td>NA</td><td>P18509</td><td>O60895</td><td>LR</td><td>P18509</td><td>⋯</td><td>0</td><td>0</td><td>0</td><td>CellTalkDB;LRdb;Reactome_LRdb                                                                                                                                                                                                                                                                                                                                    </td><td>CellTalkDB:23745705                                                                                                                                                                                                                                                                                                                                                                                                                                                                                                                                                                                                                                                                                                                                            </td><td> 1</td><td>1</td><td> 2</td><td>both</td><td>TRUE</td></tr>\n",
       "\t<tr><th scope=row>15</th><td>ADCYAP1_RAMP3    </td><td>ADCYAP1</td><td>adenylate cyclase activating polypeptide 1     </td><td>RAMP3    </td><td>receptor activity modifying protein 3   </td><td>NA</td><td>P18509</td><td>O60896</td><td>LR</td><td>P18509</td><td>⋯</td><td>0</td><td>0</td><td>0</td><td>CellTalkDB;LRdb;Reactome_LRdb                                                                                                                                                                                                                                                                                                                                    </td><td>CellTalkDB:23745705                                                                                                                                                                                                                                                                                                                                                                                                                                                                                                                                                                                                                                                                                                                                            </td><td> 1</td><td>1</td><td> 2</td><td>both</td><td>TRUE</td></tr>\n",
       "\t<tr><th scope=row>16</th><td>ADCYAP1_SCTR     </td><td>ADCYAP1</td><td>adenylate cyclase activating polypeptide 1     </td><td>SCTR     </td><td>secretin receptor                       </td><td>NA</td><td>P18509</td><td>P47872</td><td>LR</td><td>P18509</td><td>⋯</td><td>0</td><td>0</td><td>0</td><td>Baccin2019;CellPhoneDB;CellTalkDB;EMBRACE;Fantom5_LRdb;HPRD;HPRD_LRdb;HPRD_talklr;I2D_CellPhoneDB;InnateDB-All_CellPhoneDB;LRdb;Ramilowski2015;Ramilowski2015_Baccin2019;connectomeDB2020;iTALK;talklr                                                                                                                                                           </td><td>Baccin2019:1335692;CellTalkDB:1335692;HPRD:1335692;LRdb:1335692;connectomeDB2020:1335692                                                                                                                                                                                                                                                                                                                                                                                                                                                                                                                                                                                                                                                                       </td><td> 5</td><td>1</td><td>10</td><td>both</td><td>TRUE</td></tr>\n",
       "\t<tr><th scope=row>17</th><td>ADCYAP1_TSHR     </td><td>ADCYAP1</td><td>adenylate cyclase activating polypeptide 1     </td><td>TSHR     </td><td>thyroid stimulating hormone receptor    </td><td>NA</td><td>P18509</td><td>P16473</td><td>LR</td><td>P18509</td><td>⋯</td><td>0</td><td>0</td><td>0</td><td>CellCall;CellTalkDB;LRdb;Reactome_LRdb                                                                                                                                                                                                                                                                                                                           </td><td>CellTalkDB:32196115                                                                                                                                                                                                                                                                                                                                                                                                                                                                                                                                                                                                                                                                                                                                            </td><td> 1</td><td>1</td><td> 3</td><td>both</td><td>TRUE</td></tr>\n",
       "\t<tr><th scope=row>18</th><td>ADCYAP1_VIPR1    </td><td>ADCYAP1</td><td>adenylate cyclase activating polypeptide 1     </td><td>VIPR1    </td><td>vasoactive intestinal peptide receptor 1</td><td>NA</td><td>P18509</td><td>P32241</td><td>LR</td><td>P18509</td><td>⋯</td><td>1</td><td>1</td><td>0</td><td>Baccin2019;CellPhoneDB;CellTalkDB;Cellinker;EMBRACE;Fantom5_LRdb;Guide2Pharma;Guide2Pharma_Cellinker;Guide2Pharma_LRdb;Guide2Pharma_talklr;HPMR_Cellinker;HPMR_LRdb;HPMR_talklr;HPRD;HPRD_LRdb;HPRD_talklr;I2D_CellPhoneDB;LRdb;Ramilowski2015;Ramilowski2015_Baccin2019;Reactome_LRdb;SIGNOR;Wang;connectomeDB2020;iTALK;scConnect;talklr                       </td><td>Baccin2019:11897681;Baccin2019:11931347;Baccin2019:12429744;Baccin2019:16930633;Baccin2019:8791009;Baccin2019:9928018;CellTalkDB:11897681;Cellinker:11897681;Cellinker:11931347;Cellinker:12429744;Cellinker:12488235;Cellinker:16930633;Cellinker:8791009;Cellinker:9928018;Guide2Pharma:11931347;Guide2Pharma:16930633;Guide2Pharma:8791009;Guide2Pharma:9928018;HPRD:12429744;LRdb:11897681;LRdb:11931347;LRdb:12429744;LRdb:16930633;LRdb:8791009;LRdb:9928018;SIGNOR:11897681;connectomeDB2020:11897681;connectomeDB2020:11931347;connectomeDB2020:12429744;connectomeDB2020:16930633;connectomeDB2020:8791009;connectomeDB2020:9928018;scConnect:11931347;scConnect:16930633;scConnect:8791009;scConnect:9928018                                         </td><td>36</td><td>7</td><td>15</td><td>both</td><td>TRUE</td></tr>\n",
       "\t<tr><th scope=row>19</th><td>ADCYAP1_VIPR2    </td><td>ADCYAP1</td><td>adenylate cyclase activating polypeptide 1     </td><td>VIPR2    </td><td>vasoactive intestinal peptide receptor 2</td><td>NA</td><td>P18509</td><td>P41587</td><td>LR</td><td>P18509</td><td>⋯</td><td>1</td><td>1</td><td>0</td><td>Baccin2019;CellCall;CellPhoneDB;CellTalkDB;Cellinker;EMBRACE;Fantom5_LRdb;Guide2Pharma;Guide2Pharma_Cellinker;Guide2Pharma_LRdb;Guide2Pharma_talklr;HPRD;HPRD_LRdb;HPRD_talklr;I2D_CellPhoneDB;LRdb;Ramilowski2015;Ramilowski2015_Baccin2019;connectomeDB2020;iTALK;scConnect;talklr                                                                             </td><td>Baccin2019:11931347;Baccin2019:11978642;Baccin2019:16930633;Baccin2019:8146174;Baccin2019:9928018;CellTalkDB:9928018;Cellinker:11931347;Cellinker:11978642;Cellinker:12488235;Cellinker:16930633;Cellinker:8146174;Cellinker:9928018;Guide2Pharma:11931347;Guide2Pharma:11978642;Guide2Pharma:16930633;Guide2Pharma:9928018;HPRD:8146174;LRdb:11931347;LRdb:11978642;LRdb:16930633;LRdb:8146174;LRdb:9928018;connectomeDB2020:11931347;connectomeDB2020:11978642;connectomeDB2020:16930633;connectomeDB2020:8146174;connectomeDB2020:9928018;scConnect:11931347;scConnect:11978642;scConnect:16930633;scConnect:9928018                                                                                                                                        </td><td>31</td><td>6</td><td>14</td><td>both</td><td>TRUE</td></tr>\n",
       "\t<tr><th scope=row>20</th><td>ADIPOQ_ADIPOR1   </td><td>ADIPOQ </td><td>adiponectin, C1Q and collagen domain containing</td><td>ADIPOR1  </td><td>adiponectin receptor 1                  </td><td>NA</td><td>Q15848</td><td>Q96A54</td><td>LR</td><td>Q15848</td><td>⋯</td><td>1</td><td>1</td><td>0</td><td>Baccin2019;CellCall;CellChatDB;CellTalkDB;Cellinker;EMBRACE;Fantom5_LRdb;HPMR;HPMR_Cellinker;HPMR_LRdb;HPMR_talklr;Kirouac2010;LRdb;Ramilowski2015;Ramilowski2015_Baccin2019;SIGNOR;STRING_talklr;Wang;connectomeDB2020;iTALK;talklr                                                                                                                             </td><td>Baccin2019:12802337;CellChatDB:21284979;CellTalkDB:12802337;Cellinker:12802337;Cellinker:21284979;HPMR:12802337;LRdb:12802337;SIGNOR:16622416;connectomeDB2020:12802337                                                                                                                                                                                                                                                                                                                                                                                                                                                                                                                                                                                        </td><td> 9</td><td>3</td><td>15</td><td>both</td><td>TRUE</td></tr>\n",
       "\t<tr><th scope=row>21</th><td>ADIPOQ_ADIPOR2   </td><td>ADIPOQ </td><td>adiponectin, C1Q and collagen domain containing</td><td>ADIPOR2  </td><td>adiponectin receptor 2                  </td><td>NA</td><td>Q15848</td><td>Q86V24</td><td>LR</td><td>Q15848</td><td>⋯</td><td>1</td><td>1</td><td>0</td><td>Baccin2019;CellCall;CellChatDB;CellTalkDB;Cellinker;EMBRACE;Fantom5_LRdb;HPMR;HPMR_Cellinker;HPMR_LRdb;HPMR_talklr;HPRD;HPRD_LRdb;HPRD_talklr;LRdb;Ramilowski2015;Ramilowski2015_Baccin2019;SIGNOR;Wang;connectomeDB2020;iTALK;talklr                                                                                                                            </td><td>Baccin2019:12802330;Baccin2019:12802337;CellChatDB:21284979;CellTalkDB:12802337;Cellinker:12802337;Cellinker:21284979;HPRD:12802337;LRdb:12802337;SIGNOR:12802337;SIGNOR:16622416;connectomeDB2020:12802337                                                                                                                                                                                                                                                                                                                                                                                                                                                                                                                                                    </td><td>11</td><td>4</td><td>15</td><td>both</td><td>TRUE</td></tr>\n",
       "\t<tr><th scope=row>22</th><td>ADIPOQ_ASGR2     </td><td>ADIPOQ </td><td>adiponectin, C1Q and collagen domain containing</td><td>ASGR2    </td><td>asialoglycoprotein receptor 2           </td><td>NA</td><td>Q15848</td><td>P07307</td><td>LR</td><td>Q15848</td><td>⋯</td><td>0</td><td>0</td><td>0</td><td>CellPhoneDB;HuRI;IMEx_CellPhoneDB;IntAct_CellPhoneDB                                                                                                                                                                                                                                                                                                             </td><td>NA                                                                                                                                                                                                                                                                                                                                                                                                                                                                                                                                                                                                                                                                                                                                                             </td><td> 0</td><td>0</td><td> 2</td><td>LR  </td><td>TRUE</td></tr>\n",
       "\t<tr><th scope=row>23</th><td>ADIPOQ_CLEC2D    </td><td>ADIPOQ </td><td>adiponectin, C1Q and collagen domain containing</td><td>CLEC2D   </td><td>C-type lectin domain family 2 member D  </td><td>NA</td><td>Q15848</td><td>Q9UHP7</td><td>LR</td><td>Q15848</td><td>⋯</td><td>0</td><td>0</td><td>0</td><td>CellPhoneDB;HuRI;IMEx_CellPhoneDB;IntAct_CellPhoneDB                                                                                                                                                                                                                                                                                                             </td><td>NA                                                                                                                                                                                                                                                                                                                                                                                                                                                                                                                                                                                                                                                                                                                                                             </td><td> 0</td><td>0</td><td> 2</td><td>LR  </td><td>TRUE</td></tr>\n",
       "\t<tr><th scope=row>24</th><td>ADIPOQ_CNR2      </td><td>ADIPOQ </td><td>adiponectin, C1Q and collagen domain containing</td><td>CNR2     </td><td>cannabinoid receptor 2                  </td><td>NA</td><td>Q15848</td><td>P34972</td><td>LR</td><td>Q15848</td><td>⋯</td><td>0</td><td>0</td><td>0</td><td>CellPhoneDB;CellTalkDB;HuRI;IMEx_CellPhoneDB;IntAct_CellPhoneDB                                                                                                                                                                                                                                                                                                  </td><td>CellTalkDB:32103204                                                                                                                                                                                                                                                                                                                                                                                                                                                                                                                                                                                                                                                                                                                                            </td><td> 1</td><td>1</td><td> 3</td><td>both</td><td>TRUE</td></tr>\n",
       "\t<tr><th scope=row>25</th><td>ADIPOQ_GPR152    </td><td>ADIPOQ </td><td>adiponectin, C1Q and collagen domain containing</td><td>GPR152   </td><td>G protein-coupled receptor 152          </td><td>NA</td><td>Q15848</td><td>Q8TDT2</td><td>LR</td><td>Q15848</td><td>⋯</td><td>0</td><td>0</td><td>0</td><td>CellPhoneDB;HuRI;IMEx_CellPhoneDB;IntAct_CellPhoneDB                                                                                                                                                                                                                                                                                                             </td><td>NA                                                                                                                                                                                                                                                                                                                                                                                                                                                                                                                                                                                                                                                                                                                                                             </td><td> 0</td><td>0</td><td> 2</td><td>LR  </td><td>TRUE</td></tr>\n",
       "\t<tr><th scope=row>26</th><td>ADIPOQ_GPR42     </td><td>ADIPOQ </td><td>adiponectin, C1Q and collagen domain containing</td><td>GPR42    </td><td>G protein-coupled receptor 42           </td><td>NA</td><td>Q15848</td><td>O15529</td><td>LR</td><td>Q15848</td><td>⋯</td><td>0</td><td>0</td><td>0</td><td>CellPhoneDB;CellTalkDB;HuRI;IMEx_CellPhoneDB;IntAct_CellPhoneDB                                                                                                                                                                                                                                                                                                  </td><td>CellTalkDB:32103204                                                                                                                                                                                                                                                                                                                                                                                                                                                                                                                                                                                                                                                                                                                                            </td><td> 1</td><td>1</td><td> 3</td><td>both</td><td>TRUE</td></tr>\n",
       "\t<tr><th scope=row>27</th><td>ADIPOQ_PROKR2    </td><td>ADIPOQ </td><td>adiponectin, C1Q and collagen domain containing</td><td>PROKR2   </td><td>prokineticin receptor 2                 </td><td>NA</td><td>Q15848</td><td>Q8NFJ6</td><td>LR</td><td>Q15848</td><td>⋯</td><td>0</td><td>0</td><td>0</td><td>CellPhoneDB;HuRI;IMEx_CellPhoneDB;IntAct_CellPhoneDB                                                                                                                                                                                                                                                                                                             </td><td>NA                                                                                                                                                                                                                                                                                                                                                                                                                                                                                                                                                                                                                                                                                                                                                             </td><td> 0</td><td>0</td><td> 2</td><td>LR  </td><td>TRUE</td></tr>\n",
       "\t<tr><th scope=row>28</th><td>ADM_ACKR3        </td><td>ADM    </td><td>adrenomedullin                                 </td><td>ACKR3    </td><td>atypical chemokine receptor 3           </td><td>NA</td><td>P35318</td><td>P25106</td><td>LR</td><td>P35318</td><td>⋯</td><td>0</td><td>0</td><td>0</td><td>Cellinker                                                                                                                                                                                                                                                                                                                                                        </td><td>Cellinker:29637711                                                                                                                                                                                                                                                                                                                                                                                                                                                                                                                                                                                                                                                                                                                                             </td><td> 1</td><td>1</td><td> 1</td><td>both</td><td>TRUE</td></tr>\n",
       "\t<tr><th scope=row>29</th><td>ADM_ADCYAP1R1    </td><td>ADM    </td><td>adrenomedullin                                 </td><td>ADCYAP1R1</td><td>ADCYAP receptor type I                  </td><td>NA</td><td>P35318</td><td>P41586</td><td>LR</td><td>P35318</td><td>⋯</td><td>0</td><td>0</td><td>0</td><td>CellTalkDB;LRdb;Reactome_LRdb                                                                                                                                                                                                                                                                                                                                    </td><td>CellTalkDB:32196115                                                                                                                                                                                                                                                                                                                                                                                                                                                                                                                                                                                                                                                                                                                                            </td><td> 1</td><td>1</td><td> 2</td><td>both</td><td>TRUE</td></tr>\n",
       "\t<tr><th scope=row>30</th><td>ADM_ADRB2        </td><td>ADM    </td><td>adrenomedullin                                 </td><td>ADRB2    </td><td>adrenoceptor beta 2                     </td><td>NA</td><td>P35318</td><td>P07550</td><td>LR</td><td>P35318</td><td>⋯</td><td>0</td><td>0</td><td>0</td><td>CellTalkDB;LRdb;Reactome_LRdb                                                                                                                                                                                                                                                                                                                                    </td><td>CellTalkDB:32196115                                                                                                                                                                                                                                                                                                                                                                                                                                                                                                                                                                                                                                                                                                                                            </td><td> 1</td><td>1</td><td> 2</td><td>both</td><td>TRUE</td></tr>\n",
       "\t<tr><th scope=row>⋮</th><td>⋮</td><td>⋮</td><td>⋮</td><td>⋮</td><td>⋮</td><td>⋮</td><td>⋮</td><td>⋮</td><td>⋮</td><td>⋮</td><td>⋱</td><td>⋮</td><td>⋮</td><td>⋮</td><td>⋮</td><td>⋮</td><td>⋮</td><td>⋮</td><td>⋮</td><td>⋮</td><td>⋮</td></tr>\n",
       "\t<tr><th scope=row>29101</th><td>VWF_COL4A3  </td><td>VWF  </td><td>von Willebrand factor    </td><td>COL4A3</td><td>collagen type IV alpha 3 chain           </td><td>NA             </td><td>P04275</td><td>Q01955</td><td>LR</td><td>P04275</td><td>⋯</td><td>0</td><td>0</td><td>0</td><td>Cellinker                                                                                                                                                 </td><td>Cellinker:19286885                                                                    </td><td>1</td><td>1</td><td>1</td><td>LR</td><td>FALSE</td></tr>\n",
       "\t<tr><th scope=row>29111</th><td>VWF_COL4A5  </td><td>VWF  </td><td>von Willebrand factor    </td><td>COL4A5</td><td>collagen type IV alpha 5 chain           </td><td>NA             </td><td>P04275</td><td>P29400</td><td>LR</td><td>P04275</td><td>⋯</td><td>0</td><td>0</td><td>0</td><td>Cellinker                                                                                                                                                 </td><td>Cellinker:19286885                                                                    </td><td>1</td><td>1</td><td>1</td><td>LR</td><td>FALSE</td></tr>\n",
       "\t<tr><th scope=row>29121</th><td>VWF_COL4A6  </td><td>VWF  </td><td>von Willebrand factor    </td><td>COL4A6</td><td>collagen type IV alpha 6 chain           </td><td>NA             </td><td>P04275</td><td>Q14031</td><td>LR</td><td>P04275</td><td>⋯</td><td>0</td><td>0</td><td>0</td><td>Cellinker                                                                                                                                                 </td><td>Cellinker:19286885                                                                    </td><td>1</td><td>1</td><td>1</td><td>LR</td><td>FALSE</td></tr>\n",
       "\t<tr><th scope=row>29131</th><td>WIF1_WNT1   </td><td>WIF1 </td><td>WNT inhibitory factor 1  </td><td>WNT1  </td><td>Wnt family member 1                      </td><td>NA             </td><td>Q9Y5W5</td><td>P04628</td><td>LR</td><td>Q9Y5W5</td><td>⋯</td><td>1</td><td>0</td><td>1</td><td>CellChatDB-cofactors;Wang                                                                                                                                 </td><td>NA                                                                                    </td><td>0</td><td>0</td><td>2</td><td>LR</td><td>FALSE</td></tr>\n",
       "\t<tr><th scope=row>29141</th><td>WIF1_WNT10A </td><td>WIF1 </td><td>WNT inhibitory factor 1  </td><td>WNT10A</td><td>Wnt family member 10A                    </td><td>NA             </td><td>Q9Y5W5</td><td>Q9GZT5</td><td>LR</td><td>Q9Y5W5</td><td>⋯</td><td>1</td><td>0</td><td>1</td><td>CellChatDB-cofactors;Wang                                                                                                                                 </td><td>NA                                                                                    </td><td>0</td><td>0</td><td>2</td><td>LR</td><td>FALSE</td></tr>\n",
       "\t<tr><th scope=row>29151</th><td>WIF1_WNT10B </td><td>WIF1 </td><td>WNT inhibitory factor 1  </td><td>WNT10B</td><td>Wnt family member 10B                    </td><td>NA             </td><td>Q9Y5W5</td><td>O00744</td><td>LR</td><td>Q9Y5W5</td><td>⋯</td><td>1</td><td>0</td><td>1</td><td>CellChatDB-cofactors;Wang                                                                                                                                 </td><td>NA                                                                                    </td><td>0</td><td>0</td><td>2</td><td>LR</td><td>FALSE</td></tr>\n",
       "\t<tr><th scope=row>29161</th><td>WIF1_WNT16  </td><td>WIF1 </td><td>WNT inhibitory factor 1  </td><td>WNT16 </td><td>Wnt family member 16                     </td><td>NA             </td><td>Q9Y5W5</td><td>Q9UBV4</td><td>LR</td><td>Q9Y5W5</td><td>⋯</td><td>1</td><td>0</td><td>1</td><td>CellChatDB-cofactors;Wang                                                                                                                                 </td><td>NA                                                                                    </td><td>0</td><td>0</td><td>2</td><td>LR</td><td>FALSE</td></tr>\n",
       "\t<tr><th scope=row>29171</th><td>WIF1_WNT2   </td><td>WIF1 </td><td>WNT inhibitory factor 1  </td><td>WNT2  </td><td>Wnt family member 2                      </td><td>NA             </td><td>Q9Y5W5</td><td>P09544</td><td>LR</td><td>Q9Y5W5</td><td>⋯</td><td>1</td><td>0</td><td>1</td><td>CellChatDB-cofactors;Wang                                                                                                                                 </td><td>NA                                                                                    </td><td>0</td><td>0</td><td>2</td><td>LR</td><td>FALSE</td></tr>\n",
       "\t<tr><th scope=row>29181</th><td>WIF1_WNT2B  </td><td>WIF1 </td><td>WNT inhibitory factor 1  </td><td>WNT2B </td><td>Wnt family member 2B                     </td><td>NA             </td><td>Q9Y5W5</td><td>Q93097</td><td>LR</td><td>Q9Y5W5</td><td>⋯</td><td>1</td><td>0</td><td>1</td><td>CellChatDB-cofactors;Wang                                                                                                                                 </td><td>NA                                                                                    </td><td>0</td><td>0</td><td>2</td><td>LR</td><td>FALSE</td></tr>\n",
       "\t<tr><th scope=row>29191</th><td>WIF1_WNT3   </td><td>WIF1 </td><td>WNT inhibitory factor 1  </td><td>WNT3  </td><td>Wnt family member 3                      </td><td>NA             </td><td>Q9Y5W5</td><td>P56703</td><td>LR</td><td>Q9Y5W5</td><td>⋯</td><td>1</td><td>0</td><td>1</td><td>CellChatDB-cofactors;Wang                                                                                                                                 </td><td>NA                                                                                    </td><td>0</td><td>0</td><td>2</td><td>LR</td><td>FALSE</td></tr>\n",
       "\t<tr><th scope=row>29201</th><td>WIF1_WNT3A  </td><td>WIF1 </td><td>WNT inhibitory factor 1  </td><td>WNT3A </td><td>Wnt family member 3A                     </td><td>NA             </td><td>Q9Y5W5</td><td>P56704</td><td>LR</td><td>Q9Y5W5</td><td>⋯</td><td>1</td><td>0</td><td>1</td><td>CellChatDB-cofactors;NetPath;Wang                                                                                                                         </td><td>NetPath:19755491                                                                      </td><td>1</td><td>1</td><td>3</td><td>LR</td><td>FALSE</td></tr>\n",
       "\t<tr><th scope=row>29211</th><td>WIF1_WNT4   </td><td>WIF1 </td><td>WNT inhibitory factor 1  </td><td>WNT4  </td><td>Wnt family member 4                      </td><td>NA             </td><td>Q9Y5W5</td><td>P56705</td><td>LR</td><td>Q9Y5W5</td><td>⋯</td><td>1</td><td>0</td><td>1</td><td>CellChatDB-cofactors;NetPath;Wang                                                                                                                         </td><td>NetPath:15555925;NetPath:19755491                                                     </td><td>2</td><td>2</td><td>3</td><td>LR</td><td>FALSE</td></tr>\n",
       "\t<tr><th scope=row>29221</th><td>WIF1_WNT6   </td><td>WIF1 </td><td>WNT inhibitory factor 1  </td><td>WNT6  </td><td>Wnt family member 6                      </td><td>NA             </td><td>Q9Y5W5</td><td>Q9Y6F9</td><td>LR</td><td>Q9Y5W5</td><td>⋯</td><td>1</td><td>0</td><td>1</td><td>CellChatDB-cofactors;Wang                                                                                                                                 </td><td>NA                                                                                    </td><td>0</td><td>0</td><td>2</td><td>LR</td><td>FALSE</td></tr>\n",
       "\t<tr><th scope=row>29231</th><td>WIF1_WNT7A  </td><td>WIF1 </td><td>WNT inhibitory factor 1  </td><td>WNT7A </td><td>Wnt family member 7A                     </td><td>NA             </td><td>Q9Y5W5</td><td>O00755</td><td>LR</td><td>Q9Y5W5</td><td>⋯</td><td>1</td><td>0</td><td>1</td><td>CellChatDB-cofactors;IntAct;Lit-BM-17;NetPath;Wang                                                                                                        </td><td>IntAct:22986341;IntAct:26342861;Lit-BM-17:22986341;Lit-BM-17:26342861;NetPath:19755491</td><td>5</td><td>3</td><td>5</td><td>LR</td><td>FALSE</td></tr>\n",
       "\t<tr><th scope=row>29241</th><td>WIF1_WNT7B  </td><td>WIF1 </td><td>WNT inhibitory factor 1  </td><td>WNT7B </td><td>Wnt family member 7B                     </td><td>NA             </td><td>Q9Y5W5</td><td>P56706</td><td>LR</td><td>Q9Y5W5</td><td>⋯</td><td>1</td><td>0</td><td>1</td><td>CellChatDB-cofactors;Wang                                                                                                                                 </td><td>NA                                                                                    </td><td>0</td><td>0</td><td>2</td><td>LR</td><td>FALSE</td></tr>\n",
       "\t<tr><th scope=row>29251</th><td>WIF1_WNT8A  </td><td>WIF1 </td><td>WNT inhibitory factor 1  </td><td>WNT8A </td><td>Wnt family member 8A                     </td><td>NA             </td><td>Q9Y5W5</td><td>Q9H1J5</td><td>LR</td><td>Q9Y5W5</td><td>⋯</td><td>1</td><td>1</td><td>0</td><td>CellChatDB-cofactors;SIGNOR;SignaLink3;Wang                                                                                                               </td><td>SIGNOR:10201374;SignaLink3:10201374;SignaLink3:23331499                               </td><td>3</td><td>2</td><td>4</td><td>LR</td><td>FALSE</td></tr>\n",
       "\t<tr><th scope=row>29261</th><td>WIF1_WNT8B  </td><td>WIF1 </td><td>WNT inhibitory factor 1  </td><td>WNT8B </td><td>Wnt family member 8B                     </td><td>NA             </td><td>Q9Y5W5</td><td>Q93098</td><td>LR</td><td>Q9Y5W5</td><td>⋯</td><td>1</td><td>0</td><td>1</td><td>CellChatDB-cofactors;Wang                                                                                                                                 </td><td>NA                                                                                    </td><td>0</td><td>0</td><td>2</td><td>LR</td><td>FALSE</td></tr>\n",
       "\t<tr><th scope=row>29271</th><td>WIF1_WNT9A  </td><td>WIF1 </td><td>WNT inhibitory factor 1  </td><td>WNT9A </td><td>Wnt family member 9A                     </td><td>NA             </td><td>Q9Y5W5</td><td>O14904</td><td>LR</td><td>Q9Y5W5</td><td>⋯</td><td>1</td><td>0</td><td>1</td><td>CellChatDB-cofactors;NetPath;Wang                                                                                                                         </td><td>NetPath:19755491                                                                      </td><td>1</td><td>1</td><td>3</td><td>LR</td><td>FALSE</td></tr>\n",
       "\t<tr><th scope=row>29281</th><td>WIF1_WNT9B  </td><td>WIF1 </td><td>WNT inhibitory factor 1  </td><td>WNT9B </td><td>Wnt family member 9B                     </td><td>NA             </td><td>Q9Y5W5</td><td>O14905</td><td>LR</td><td>Q9Y5W5</td><td>⋯</td><td>1</td><td>0</td><td>1</td><td>CellChatDB-cofactors;Wang                                                                                                                                 </td><td>NA                                                                                    </td><td>0</td><td>0</td><td>2</td><td>LR</td><td>FALSE</td></tr>\n",
       "\t<tr><th scope=row>29291</th><td>WNT11_CTHRC1</td><td>WNT11</td><td>Wnt family member 11     </td><td>CTHRC1</td><td>collagen triple helix repeat containing 1</td><td>NA             </td><td>O96014</td><td>Q96CG8</td><td>LR</td><td>O96014</td><td>⋯</td><td>0</td><td>0</td><td>0</td><td>Cellinker                                                                                                                                                 </td><td>Cellinker:18606138                                                                    </td><td>1</td><td>1</td><td>1</td><td>LR</td><td>FALSE</td></tr>\n",
       "\t<tr><th scope=row>29301</th><td>WNT3A_CTHRC1</td><td>WNT3A</td><td>Wnt family member 3A     </td><td>CTHRC1</td><td>collagen triple helix repeat containing 1</td><td>NA             </td><td>P56704</td><td>Q96CG8</td><td>LR</td><td>P56704</td><td>⋯</td><td>0</td><td>0</td><td>0</td><td>Cellinker                                                                                                                                                 </td><td>Cellinker:18606138                                                                    </td><td>1</td><td>1</td><td>1</td><td>LR</td><td>FALSE</td></tr>\n",
       "\t<tr><th scope=row>29311</th><td>WNT5A_CTHRC1</td><td>WNT5A</td><td>Wnt family member 5A     </td><td>CTHRC1</td><td>collagen triple helix repeat containing 1</td><td>NA             </td><td>P41221</td><td>Q96CG8</td><td>LR</td><td>P41221</td><td>⋯</td><td>0</td><td>0</td><td>0</td><td>Cellinker                                                                                                                                                 </td><td>Cellinker:18606138                                                                    </td><td>1</td><td>1</td><td>1</td><td>LR</td><td>FALSE</td></tr>\n",
       "\t<tr><th scope=row>29321</th><td>YARS1_CXCR1 </td><td>YARS1</td><td>tyrosyl-tRNA synthetase 1</td><td>CXCR1 </td><td>C-X-C motif chemokine receptor 1         </td><td>NA             </td><td>P54577</td><td>P25024</td><td>LR</td><td>P54577</td><td>⋯</td><td>1</td><td>1</td><td>0</td><td>CellPhoneDB;CellTalkDB;Fantom5_LRdb;Guide2Pharma;Guide2Pharma_CellPhoneDB;Guide2Pharma_LRdb;Guide2Pharma_talklr;LRdb;Ramilowski2015;iTALK;scConnect;talklr</td><td>NA                                                                                    </td><td>0</td><td>0</td><td>8</td><td>LR</td><td>FALSE</td></tr>\n",
       "\t<tr><th scope=row>29331</th><td>ZNRF3_FZD2  </td><td>ZNRF3</td><td>zinc and ring finger 3   </td><td>FZD2  </td><td>frizzled class receptor 2                </td><td>ZNRF3_FZD2_LRP6</td><td>Q9ULT6</td><td>Q14332</td><td>LR</td><td>Q9ULT6</td><td>⋯</td><td>1</td><td>0</td><td>1</td><td>CellChatDB-cofactors                                                                                                                                      </td><td>NA                                                                                    </td><td>0</td><td>0</td><td>1</td><td>LR</td><td>FALSE</td></tr>\n",
       "\t<tr><th scope=row>29341</th><td>ZNRF3_FZD4  </td><td>ZNRF3</td><td>zinc and ring finger 3   </td><td>FZD4  </td><td>frizzled class receptor 4                </td><td>ZNRF3_FZD4_LRP6</td><td>Q9ULT6</td><td>Q9ULV1</td><td>LR</td><td>Q9ULT6</td><td>⋯</td><td>1</td><td>0</td><td>1</td><td>CellChatDB-cofactors                                                                                                                                      </td><td>NA                                                                                    </td><td>0</td><td>0</td><td>1</td><td>LR</td><td>FALSE</td></tr>\n",
       "\t<tr><th scope=row>29351</th><td>ZNRF3_FZD5  </td><td>ZNRF3</td><td>zinc and ring finger 3   </td><td>FZD5  </td><td>frizzled class receptor 5                </td><td>ZNRF3_FZD5_LRP6</td><td>Q9ULT6</td><td>Q13467</td><td>LR</td><td>Q9ULT6</td><td>⋯</td><td>1</td><td>0</td><td>1</td><td>CellChatDB-cofactors                                                                                                                                      </td><td>NA                                                                                    </td><td>0</td><td>0</td><td>1</td><td>LR</td><td>FALSE</td></tr>\n",
       "\t<tr><th scope=row>29361</th><td>ZNRF3_FZD6  </td><td>ZNRF3</td><td>zinc and ring finger 3   </td><td>FZD6  </td><td>frizzled class receptor 6                </td><td>ZNRF3_FZD6_LRP6</td><td>Q9ULT6</td><td>O60353</td><td>LR</td><td>Q9ULT6</td><td>⋯</td><td>1</td><td>0</td><td>1</td><td>CellChatDB-cofactors                                                                                                                                      </td><td>NA                                                                                    </td><td>0</td><td>0</td><td>1</td><td>LR</td><td>FALSE</td></tr>\n",
       "\t<tr><th scope=row>29371</th><td>ZNRF3_FZD8  </td><td>ZNRF3</td><td>zinc and ring finger 3   </td><td>FZD8  </td><td>frizzled class receptor 8                </td><td>ZNRF3_FZD8_LRP6</td><td>Q9ULT6</td><td>Q9H461</td><td>LR</td><td>Q9ULT6</td><td>⋯</td><td>1</td><td>0</td><td>1</td><td>CellChatDB-cofactors                                                                                                                                      </td><td>NA                                                                                    </td><td>0</td><td>0</td><td>1</td><td>LR</td><td>FALSE</td></tr>\n",
       "\t<tr><th scope=row>29381</th><td>ZNRF3_LRP6  </td><td>ZNRF3</td><td>zinc and ring finger 3   </td><td>LRP6  </td><td>LDL receptor related protein 6           </td><td>ZNRF3_FZD9_LRP6</td><td>Q9ULT6</td><td>O75581</td><td>LR</td><td>Q9ULT6</td><td>⋯</td><td>1</td><td>0</td><td>1</td><td>CellChatDB-cofactors                                                                                                                                      </td><td>NA                                                                                    </td><td>0</td><td>0</td><td>1</td><td>LR</td><td>FALSE</td></tr>\n",
       "\t<tr><th scope=row>29391</th><td>ZYX_ENG     </td><td>ZYX  </td><td>zyxin                    </td><td>ENG   </td><td>endoglin                                 </td><td>NA             </td><td>Q15942</td><td>P17813</td><td>LR</td><td>Q15942</td><td>⋯</td><td>0</td><td>0</td><td>0</td><td>Adhesome;Cellinker;Wang                                                                                                                                   </td><td>Adhesome:15084601;Cellinker:15084601                                                  </td><td>2</td><td>1</td><td>3</td><td>LR</td><td>FALSE</td></tr>\n",
       "</tbody>\n",
       "</table>\n"
      ],
      "text/latex": [
       "A data.frame: 6921 × 26\n",
       "\\begin{tabular}{r|lllllllllllllllllllll}\n",
       "  & Pair.Name & Ligand & Ligand.Name & Receptor & Receptor.Name & complex\\_pair & partner\\_a & partner\\_b & annotation\\_strategy.x & source & ⋯ & consensus\\_direction & consensus\\_stimulation & consensus\\_inhibition & sources & references & curation\\_effort & n\\_references & n\\_resources & annotation\\_strategy.y & True\\_LR\\\\\n",
       "  & <chr> & <chr> & <chr> & <chr> & <chr> & <chr> & <chr> & <chr> & <chr> & <chr> & ⋯ & <dbl> & <dbl> & <dbl> & <chr> & <chr> & <dbl> & <dbl> & <int> & <chr> & <lgl>\\\\\n",
       "\\hline\n",
       "\t1 & A2M\\_LRP1          & A2M     & alpha-2-macroglobulin                           & LRP1      & LDL receptor related protein 1           & NA & P01023 & Q07954 & LR & P01023 & ⋯ & 1 & 1 & 0 & AlzPathway;Baccin2019;CellTalkDB;EMBRACE;Fantom5\\_LRdb;HPMR\\_LRdb;HPMR\\_talklr;HPRD;HPRD\\_LRdb;HPRD\\_talklr;LRdb;Ramilowski2015;Ramilowski2015\\_Baccin2019;STRING\\_talklr;Wang;connectomeDB2020;iTALK;talklr                                                                                                                                                             & AlzPathway:19026743;Baccin2019:10652313;Baccin2019:12194978;Baccin2019:1702392;CellTalkDB:10652313;HPRD:10652313;HPRD:12194978;LRdb:10652313;connectomeDB2020:10652313;connectomeDB2020:12194978;connectomeDB2020:1702392                                                                                                                                                                                                                                                                                                                                                                                                                                                                                                                                       & 11 & 4 & 11 & both & TRUE\\\\\n",
       "\t2 & ACTR2\\_ADRB2       & ACTR2   & actin related protein 2                         & ADRB2     & adrenoceptor beta 2                      & NA & P61160 & P07550 & LR & P61160 & ⋯ & 0 & 0 & 0 & CellTalkDB;LRdb;Reactome\\_LRdb                                                                                                                                                                                                                                                                                                                                     & CellTalkDB:32196115                                                                                                                                                                                                                                                                                                                                                                                                                                                                                                                                                                                                                                                                                                                                             &  1 & 1 &  2 & both & TRUE\\\\\n",
       "\t3 & ACTR2\\_LDLR        & ACTR2   & actin related protein 2                         & LDLR      & low density lipoprotein receptor         & NA & P61160 & P01130 & LR & P61160 & ⋯ & 0 & 0 & 0 & CellTalkDB;LRdb;Reactome\\_LRdb                                                                                                                                                                                                                                                                                                                                     & CellTalkDB:32196115                                                                                                                                                                                                                                                                                                                                                                                                                                                                                                                                                                                                                                                                                                                                             &  1 & 1 &  2 & both & TRUE\\\\\n",
       "\t4 & ACTR2\\_LRP2        & ACTR2   & actin related protein 2                         & LRP2      & LDL receptor related protein 2           & NA & P61160 & P98164 & LR & P61160 & ⋯ & 0 & 0 & 0 & CellTalkDB;LRdb;Reactome\\_LRdb                                                                                                                                                                                                                                                                                                                                     & CellTalkDB:32196115                                                                                                                                                                                                                                                                                                                                                                                                                                                                                                                                                                                                                                                                                                                                             &  1 & 1 &  2 & both & TRUE\\\\\n",
       "\t5 & ADAM11\\_CCR4       & ADAM11  & ADAM metallopeptidase domain 11                 & CCR4      & C-C motif chemokine receptor 4           & NA & O75078 & P51679 & LR & O75078 & ⋯ & 1 & 1 & 0 & Kirouac2010                                                                                                                                                                                                                                                                                                                                                       & NA                                                                                                                                                                                                                                                                                                                                                                                                                                                                                                                                                                                                                                                                                                                                                              &  0 & 0 &  1 & LR   & TRUE\\\\\n",
       "\t6 & ADAM11\\_ITGA4      & ADAM11  & ADAM metallopeptidase domain 11                 & ITGA4     & integrin subunit alpha 4                 & NA & O75078 & P13612 & LR & O75078 & ⋯ & 0 & 0 & 0 & connectomeDB2020                                                                                                                                                                                                                                                                                                                                                  & connectomeDB2020:28913673                                                                                                                                                                                                                                                                                                                                                                                                                                                                                                                                                                                                                                                                                                                                       &  1 & 1 &  1 & both & TRUE\\\\\n",
       "\t7 & ADCYAP1\\_ADCYAP1R1 & ADCYAP1 & adenylate cyclase activating polypeptide 1      & ADCYAP1R1 & ADCYAP receptor type I                   & NA & P18509 & P41586 & LR & P18509 & ⋯ & 1 & 1 & 0 & Baccin2019;CellCall;CellChatDB;CellPhoneDB;CellTalkDB;Cellinker;DIP;EMBRACE;Fantom5\\_LRdb;Guide2Pharma;Guide2Pharma\\_LRdb;Guide2Pharma\\_talklr;HPMR;HPMR\\_Cellinker;HPMR\\_LRdb;HPMR\\_talklr;HPRD;HPRD\\_LRdb;HPRD\\_talklr;I2D\\_CellPhoneDB;IMEx\\_CellPhoneDB;LRdb;Ramilowski2015;Ramilowski2015\\_Baccin2019;Reactome\\_LRdb;SIGNOR;Wang;connectomeDB2020;iTALK;scConnect;talklr & Baccin2019:10100920;Baccin2019:10583729;Baccin2019:11931347;Baccin2019:16930633;Baccin2019:8253796;Baccin2019:8703026;CellChatDB:21350482;CellTalkDB:10100920;Cellinker:10100920;Cellinker:10583729;Cellinker:11931347;Cellinker:12488235;Cellinker:16930633;Cellinker:21350482;Cellinker:8253796;Cellinker:8703026;DIP:17470806;Guide2Pharma:10583729;Guide2Pharma:11931347;Guide2Pharma:16930633;HPMR:10100920;HPRD:10583729;HPRD:8253796;LRdb:10100920;LRdb:10583729;LRdb:11931347;LRdb:16930633;LRdb:8253796;LRdb:8703026;SIGNOR:8703026;connectomeDB2020:10100920;connectomeDB2020:10583729;connectomeDB2020:11931347;connectomeDB2020:16930633;connectomeDB2020:8253796;connectomeDB2020:8703026;scConnect:10583729;scConnect:11931347;scConnect:16930633 & 39 & 9 & 19 & both & TRUE\\\\\n",
       "\t8 & ADCYAP1\\_ADRB2     & ADCYAP1 & adenylate cyclase activating polypeptide 1      & ADRB2     & adrenoceptor beta 2                      & NA & P18509 & P07550 & LR & P18509 & ⋯ & 0 & 0 & 0 & CellTalkDB;LRdb;Reactome\\_LRdb                                                                                                                                                                                                                                                                                                                                     & CellTalkDB:32196115                                                                                                                                                                                                                                                                                                                                                                                                                                                                                                                                                                                                                                                                                                                                             &  1 & 1 &  2 & both & TRUE\\\\\n",
       "\t9 & ADCYAP1\\_ADRB3     & ADCYAP1 & adenylate cyclase activating polypeptide 1      & ADRB3     & adrenoceptor beta 3                      & NA & P18509 & P13945 & LR & P18509 & ⋯ & 0 & 0 & 0 & CellTalkDB;LRdb;Reactome\\_LRdb                                                                                                                                                                                                                                                                                                                                     & CellTalkDB:32196115                                                                                                                                                                                                                                                                                                                                                                                                                                                                                                                                                                                                                                                                                                                                             &  1 & 1 &  2 & both & TRUE\\\\\n",
       "\t10 & ADCYAP1\\_DPP4      & ADCYAP1 & adenylate cyclase activating polypeptide 1      & DPP4      & dipeptidyl peptidase 4                   & NA & P18509 & P27487 & LR & P18509 & ⋯ & 0 & 0 & 0 & CellPhoneDB;CellTalkDB;Cellinker;InnateDB-All\\_CellPhoneDB;MINT\\_CellPhoneDB                                                                                                                                                                                                                                                                                        & Cellinker:21314817                                                                                                                                                                                                                                                                                                                                                                                                                                                                                                                                                                                                                                                                                                                                              &  1 & 1 &  3 & both & TRUE\\\\\n",
       "\t11 & ADCYAP1\\_GPR20     & ADCYAP1 & adenylate cyclase activating polypeptide 1      & GPR20     & G protein-coupled receptor 20            & NA & P18509 & Q99678 & LR & P18509 & ⋯ & 0 & 0 & 0 & CellTalkDB;LRdb;Reactome\\_LRdb                                                                                                                                                                                                                                                                                                                                     & CellTalkDB:32196115                                                                                                                                                                                                                                                                                                                                                                                                                                                                                                                                                                                                                                                                                                                                             &  1 & 1 &  2 & both & TRUE\\\\\n",
       "\t12 & ADCYAP1\\_GPR84     & ADCYAP1 & adenylate cyclase activating polypeptide 1      & GPR84     & G protein-coupled receptor 84            & NA & P18509 & Q9NQS5 & LR & P18509 & ⋯ & 0 & 0 & 0 & CellTalkDB;LRdb;Reactome\\_LRdb                                                                                                                                                                                                                                                                                                                                     & CellTalkDB:32196115                                                                                                                                                                                                                                                                                                                                                                                                                                                                                                                                                                                                                                                                                                                                             &  1 & 1 &  2 & both & TRUE\\\\\n",
       "\t13 & ADCYAP1\\_PTH1R     & ADCYAP1 & adenylate cyclase activating polypeptide 1      & PTH1R     & parathyroid hormone 1 receptor           & NA & P18509 & Q03431 & LR & P18509 & ⋯ & 0 & 0 & 0 & CellTalkDB;LRdb;Reactome\\_LRdb                                                                                                                                                                                                                                                                                                                                     & CellTalkDB:32196115                                                                                                                                                                                                                                                                                                                                                                                                                                                                                                                                                                                                                                                                                                                                             &  1 & 1 &  2 & both & TRUE\\\\\n",
       "\t14 & ADCYAP1\\_RAMP2     & ADCYAP1 & adenylate cyclase activating polypeptide 1      & RAMP2     & receptor activity modifying protein 2    & NA & P18509 & O60895 & LR & P18509 & ⋯ & 0 & 0 & 0 & CellTalkDB;LRdb;Reactome\\_LRdb                                                                                                                                                                                                                                                                                                                                     & CellTalkDB:23745705                                                                                                                                                                                                                                                                                                                                                                                                                                                                                                                                                                                                                                                                                                                                             &  1 & 1 &  2 & both & TRUE\\\\\n",
       "\t15 & ADCYAP1\\_RAMP3     & ADCYAP1 & adenylate cyclase activating polypeptide 1      & RAMP3     & receptor activity modifying protein 3    & NA & P18509 & O60896 & LR & P18509 & ⋯ & 0 & 0 & 0 & CellTalkDB;LRdb;Reactome\\_LRdb                                                                                                                                                                                                                                                                                                                                     & CellTalkDB:23745705                                                                                                                                                                                                                                                                                                                                                                                                                                                                                                                                                                                                                                                                                                                                             &  1 & 1 &  2 & both & TRUE\\\\\n",
       "\t16 & ADCYAP1\\_SCTR      & ADCYAP1 & adenylate cyclase activating polypeptide 1      & SCTR      & secretin receptor                        & NA & P18509 & P47872 & LR & P18509 & ⋯ & 0 & 0 & 0 & Baccin2019;CellPhoneDB;CellTalkDB;EMBRACE;Fantom5\\_LRdb;HPRD;HPRD\\_LRdb;HPRD\\_talklr;I2D\\_CellPhoneDB;InnateDB-All\\_CellPhoneDB;LRdb;Ramilowski2015;Ramilowski2015\\_Baccin2019;connectomeDB2020;iTALK;talklr                                                                                                                                                            & Baccin2019:1335692;CellTalkDB:1335692;HPRD:1335692;LRdb:1335692;connectomeDB2020:1335692                                                                                                                                                                                                                                                                                                                                                                                                                                                                                                                                                                                                                                                                        &  5 & 1 & 10 & both & TRUE\\\\\n",
       "\t17 & ADCYAP1\\_TSHR      & ADCYAP1 & adenylate cyclase activating polypeptide 1      & TSHR      & thyroid stimulating hormone receptor     & NA & P18509 & P16473 & LR & P18509 & ⋯ & 0 & 0 & 0 & CellCall;CellTalkDB;LRdb;Reactome\\_LRdb                                                                                                                                                                                                                                                                                                                            & CellTalkDB:32196115                                                                                                                                                                                                                                                                                                                                                                                                                                                                                                                                                                                                                                                                                                                                             &  1 & 1 &  3 & both & TRUE\\\\\n",
       "\t18 & ADCYAP1\\_VIPR1     & ADCYAP1 & adenylate cyclase activating polypeptide 1      & VIPR1     & vasoactive intestinal peptide receptor 1 & NA & P18509 & P32241 & LR & P18509 & ⋯ & 1 & 1 & 0 & Baccin2019;CellPhoneDB;CellTalkDB;Cellinker;EMBRACE;Fantom5\\_LRdb;Guide2Pharma;Guide2Pharma\\_Cellinker;Guide2Pharma\\_LRdb;Guide2Pharma\\_talklr;HPMR\\_Cellinker;HPMR\\_LRdb;HPMR\\_talklr;HPRD;HPRD\\_LRdb;HPRD\\_talklr;I2D\\_CellPhoneDB;LRdb;Ramilowski2015;Ramilowski2015\\_Baccin2019;Reactome\\_LRdb;SIGNOR;Wang;connectomeDB2020;iTALK;scConnect;talklr                        & Baccin2019:11897681;Baccin2019:11931347;Baccin2019:12429744;Baccin2019:16930633;Baccin2019:8791009;Baccin2019:9928018;CellTalkDB:11897681;Cellinker:11897681;Cellinker:11931347;Cellinker:12429744;Cellinker:12488235;Cellinker:16930633;Cellinker:8791009;Cellinker:9928018;Guide2Pharma:11931347;Guide2Pharma:16930633;Guide2Pharma:8791009;Guide2Pharma:9928018;HPRD:12429744;LRdb:11897681;LRdb:11931347;LRdb:12429744;LRdb:16930633;LRdb:8791009;LRdb:9928018;SIGNOR:11897681;connectomeDB2020:11897681;connectomeDB2020:11931347;connectomeDB2020:12429744;connectomeDB2020:16930633;connectomeDB2020:8791009;connectomeDB2020:9928018;scConnect:11931347;scConnect:16930633;scConnect:8791009;scConnect:9928018                                          & 36 & 7 & 15 & both & TRUE\\\\\n",
       "\t19 & ADCYAP1\\_VIPR2     & ADCYAP1 & adenylate cyclase activating polypeptide 1      & VIPR2     & vasoactive intestinal peptide receptor 2 & NA & P18509 & P41587 & LR & P18509 & ⋯ & 1 & 1 & 0 & Baccin2019;CellCall;CellPhoneDB;CellTalkDB;Cellinker;EMBRACE;Fantom5\\_LRdb;Guide2Pharma;Guide2Pharma\\_Cellinker;Guide2Pharma\\_LRdb;Guide2Pharma\\_talklr;HPRD;HPRD\\_LRdb;HPRD\\_talklr;I2D\\_CellPhoneDB;LRdb;Ramilowski2015;Ramilowski2015\\_Baccin2019;connectomeDB2020;iTALK;scConnect;talklr                                                                              & Baccin2019:11931347;Baccin2019:11978642;Baccin2019:16930633;Baccin2019:8146174;Baccin2019:9928018;CellTalkDB:9928018;Cellinker:11931347;Cellinker:11978642;Cellinker:12488235;Cellinker:16930633;Cellinker:8146174;Cellinker:9928018;Guide2Pharma:11931347;Guide2Pharma:11978642;Guide2Pharma:16930633;Guide2Pharma:9928018;HPRD:8146174;LRdb:11931347;LRdb:11978642;LRdb:16930633;LRdb:8146174;LRdb:9928018;connectomeDB2020:11931347;connectomeDB2020:11978642;connectomeDB2020:16930633;connectomeDB2020:8146174;connectomeDB2020:9928018;scConnect:11931347;scConnect:11978642;scConnect:16930633;scConnect:9928018                                                                                                                                         & 31 & 6 & 14 & both & TRUE\\\\\n",
       "\t20 & ADIPOQ\\_ADIPOR1    & ADIPOQ  & adiponectin, C1Q and collagen domain containing & ADIPOR1   & adiponectin receptor 1                   & NA & Q15848 & Q96A54 & LR & Q15848 & ⋯ & 1 & 1 & 0 & Baccin2019;CellCall;CellChatDB;CellTalkDB;Cellinker;EMBRACE;Fantom5\\_LRdb;HPMR;HPMR\\_Cellinker;HPMR\\_LRdb;HPMR\\_talklr;Kirouac2010;LRdb;Ramilowski2015;Ramilowski2015\\_Baccin2019;SIGNOR;STRING\\_talklr;Wang;connectomeDB2020;iTALK;talklr                                                                                                                              & Baccin2019:12802337;CellChatDB:21284979;CellTalkDB:12802337;Cellinker:12802337;Cellinker:21284979;HPMR:12802337;LRdb:12802337;SIGNOR:16622416;connectomeDB2020:12802337                                                                                                                                                                                                                                                                                                                                                                                                                                                                                                                                                                                         &  9 & 3 & 15 & both & TRUE\\\\\n",
       "\t21 & ADIPOQ\\_ADIPOR2    & ADIPOQ  & adiponectin, C1Q and collagen domain containing & ADIPOR2   & adiponectin receptor 2                   & NA & Q15848 & Q86V24 & LR & Q15848 & ⋯ & 1 & 1 & 0 & Baccin2019;CellCall;CellChatDB;CellTalkDB;Cellinker;EMBRACE;Fantom5\\_LRdb;HPMR;HPMR\\_Cellinker;HPMR\\_LRdb;HPMR\\_talklr;HPRD;HPRD\\_LRdb;HPRD\\_talklr;LRdb;Ramilowski2015;Ramilowski2015\\_Baccin2019;SIGNOR;Wang;connectomeDB2020;iTALK;talklr                                                                                                                             & Baccin2019:12802330;Baccin2019:12802337;CellChatDB:21284979;CellTalkDB:12802337;Cellinker:12802337;Cellinker:21284979;HPRD:12802337;LRdb:12802337;SIGNOR:12802337;SIGNOR:16622416;connectomeDB2020:12802337                                                                                                                                                                                                                                                                                                                                                                                                                                                                                                                                                     & 11 & 4 & 15 & both & TRUE\\\\\n",
       "\t22 & ADIPOQ\\_ASGR2      & ADIPOQ  & adiponectin, C1Q and collagen domain containing & ASGR2     & asialoglycoprotein receptor 2            & NA & Q15848 & P07307 & LR & Q15848 & ⋯ & 0 & 0 & 0 & CellPhoneDB;HuRI;IMEx\\_CellPhoneDB;IntAct\\_CellPhoneDB                                                                                                                                                                                                                                                                                                              & NA                                                                                                                                                                                                                                                                                                                                                                                                                                                                                                                                                                                                                                                                                                                                                              &  0 & 0 &  2 & LR   & TRUE\\\\\n",
       "\t23 & ADIPOQ\\_CLEC2D     & ADIPOQ  & adiponectin, C1Q and collagen domain containing & CLEC2D    & C-type lectin domain family 2 member D   & NA & Q15848 & Q9UHP7 & LR & Q15848 & ⋯ & 0 & 0 & 0 & CellPhoneDB;HuRI;IMEx\\_CellPhoneDB;IntAct\\_CellPhoneDB                                                                                                                                                                                                                                                                                                              & NA                                                                                                                                                                                                                                                                                                                                                                                                                                                                                                                                                                                                                                                                                                                                                              &  0 & 0 &  2 & LR   & TRUE\\\\\n",
       "\t24 & ADIPOQ\\_CNR2       & ADIPOQ  & adiponectin, C1Q and collagen domain containing & CNR2      & cannabinoid receptor 2                   & NA & Q15848 & P34972 & LR & Q15848 & ⋯ & 0 & 0 & 0 & CellPhoneDB;CellTalkDB;HuRI;IMEx\\_CellPhoneDB;IntAct\\_CellPhoneDB                                                                                                                                                                                                                                                                                                   & CellTalkDB:32103204                                                                                                                                                                                                                                                                                                                                                                                                                                                                                                                                                                                                                                                                                                                                             &  1 & 1 &  3 & both & TRUE\\\\\n",
       "\t25 & ADIPOQ\\_GPR152     & ADIPOQ  & adiponectin, C1Q and collagen domain containing & GPR152    & G protein-coupled receptor 152           & NA & Q15848 & Q8TDT2 & LR & Q15848 & ⋯ & 0 & 0 & 0 & CellPhoneDB;HuRI;IMEx\\_CellPhoneDB;IntAct\\_CellPhoneDB                                                                                                                                                                                                                                                                                                              & NA                                                                                                                                                                                                                                                                                                                                                                                                                                                                                                                                                                                                                                                                                                                                                              &  0 & 0 &  2 & LR   & TRUE\\\\\n",
       "\t26 & ADIPOQ\\_GPR42      & ADIPOQ  & adiponectin, C1Q and collagen domain containing & GPR42     & G protein-coupled receptor 42            & NA & Q15848 & O15529 & LR & Q15848 & ⋯ & 0 & 0 & 0 & CellPhoneDB;CellTalkDB;HuRI;IMEx\\_CellPhoneDB;IntAct\\_CellPhoneDB                                                                                                                                                                                                                                                                                                   & CellTalkDB:32103204                                                                                                                                                                                                                                                                                                                                                                                                                                                                                                                                                                                                                                                                                                                                             &  1 & 1 &  3 & both & TRUE\\\\\n",
       "\t27 & ADIPOQ\\_PROKR2     & ADIPOQ  & adiponectin, C1Q and collagen domain containing & PROKR2    & prokineticin receptor 2                  & NA & Q15848 & Q8NFJ6 & LR & Q15848 & ⋯ & 0 & 0 & 0 & CellPhoneDB;HuRI;IMEx\\_CellPhoneDB;IntAct\\_CellPhoneDB                                                                                                                                                                                                                                                                                                              & NA                                                                                                                                                                                                                                                                                                                                                                                                                                                                                                                                                                                                                                                                                                                                                              &  0 & 0 &  2 & LR   & TRUE\\\\\n",
       "\t28 & ADM\\_ACKR3         & ADM     & adrenomedullin                                  & ACKR3     & atypical chemokine receptor 3            & NA & P35318 & P25106 & LR & P35318 & ⋯ & 0 & 0 & 0 & Cellinker                                                                                                                                                                                                                                                                                                                                                         & Cellinker:29637711                                                                                                                                                                                                                                                                                                                                                                                                                                                                                                                                                                                                                                                                                                                                              &  1 & 1 &  1 & both & TRUE\\\\\n",
       "\t29 & ADM\\_ADCYAP1R1     & ADM     & adrenomedullin                                  & ADCYAP1R1 & ADCYAP receptor type I                   & NA & P35318 & P41586 & LR & P35318 & ⋯ & 0 & 0 & 0 & CellTalkDB;LRdb;Reactome\\_LRdb                                                                                                                                                                                                                                                                                                                                     & CellTalkDB:32196115                                                                                                                                                                                                                                                                                                                                                                                                                                                                                                                                                                                                                                                                                                                                             &  1 & 1 &  2 & both & TRUE\\\\\n",
       "\t30 & ADM\\_ADRB2         & ADM     & adrenomedullin                                  & ADRB2     & adrenoceptor beta 2                      & NA & P35318 & P07550 & LR & P35318 & ⋯ & 0 & 0 & 0 & CellTalkDB;LRdb;Reactome\\_LRdb                                                                                                                                                                                                                                                                                                                                     & CellTalkDB:32196115                                                                                                                                                                                                                                                                                                                                                                                                                                                                                                                                                                                                                                                                                                                                             &  1 & 1 &  2 & both & TRUE\\\\\n",
       "\t⋮ & ⋮ & ⋮ & ⋮ & ⋮ & ⋮ & ⋮ & ⋮ & ⋮ & ⋮ & ⋮ & ⋱ & ⋮ & ⋮ & ⋮ & ⋮ & ⋮ & ⋮ & ⋮ & ⋮ & ⋮ & ⋮\\\\\n",
       "\t29101 & VWF\\_COL4A3   & VWF   & von Willebrand factor     & COL4A3 & collagen type IV alpha 3 chain            & NA              & P04275 & Q01955 & LR & P04275 & ⋯ & 0 & 0 & 0 & Cellinker                                                                                                                                                  & Cellinker:19286885                                                                     & 1 & 1 & 1 & LR & FALSE\\\\\n",
       "\t29111 & VWF\\_COL4A5   & VWF   & von Willebrand factor     & COL4A5 & collagen type IV alpha 5 chain            & NA              & P04275 & P29400 & LR & P04275 & ⋯ & 0 & 0 & 0 & Cellinker                                                                                                                                                  & Cellinker:19286885                                                                     & 1 & 1 & 1 & LR & FALSE\\\\\n",
       "\t29121 & VWF\\_COL4A6   & VWF   & von Willebrand factor     & COL4A6 & collagen type IV alpha 6 chain            & NA              & P04275 & Q14031 & LR & P04275 & ⋯ & 0 & 0 & 0 & Cellinker                                                                                                                                                  & Cellinker:19286885                                                                     & 1 & 1 & 1 & LR & FALSE\\\\\n",
       "\t29131 & WIF1\\_WNT1    & WIF1  & WNT inhibitory factor 1   & WNT1   & Wnt family member 1                       & NA              & Q9Y5W5 & P04628 & LR & Q9Y5W5 & ⋯ & 1 & 0 & 1 & CellChatDB-cofactors;Wang                                                                                                                                  & NA                                                                                     & 0 & 0 & 2 & LR & FALSE\\\\\n",
       "\t29141 & WIF1\\_WNT10A  & WIF1  & WNT inhibitory factor 1   & WNT10A & Wnt family member 10A                     & NA              & Q9Y5W5 & Q9GZT5 & LR & Q9Y5W5 & ⋯ & 1 & 0 & 1 & CellChatDB-cofactors;Wang                                                                                                                                  & NA                                                                                     & 0 & 0 & 2 & LR & FALSE\\\\\n",
       "\t29151 & WIF1\\_WNT10B  & WIF1  & WNT inhibitory factor 1   & WNT10B & Wnt family member 10B                     & NA              & Q9Y5W5 & O00744 & LR & Q9Y5W5 & ⋯ & 1 & 0 & 1 & CellChatDB-cofactors;Wang                                                                                                                                  & NA                                                                                     & 0 & 0 & 2 & LR & FALSE\\\\\n",
       "\t29161 & WIF1\\_WNT16   & WIF1  & WNT inhibitory factor 1   & WNT16  & Wnt family member 16                      & NA              & Q9Y5W5 & Q9UBV4 & LR & Q9Y5W5 & ⋯ & 1 & 0 & 1 & CellChatDB-cofactors;Wang                                                                                                                                  & NA                                                                                     & 0 & 0 & 2 & LR & FALSE\\\\\n",
       "\t29171 & WIF1\\_WNT2    & WIF1  & WNT inhibitory factor 1   & WNT2   & Wnt family member 2                       & NA              & Q9Y5W5 & P09544 & LR & Q9Y5W5 & ⋯ & 1 & 0 & 1 & CellChatDB-cofactors;Wang                                                                                                                                  & NA                                                                                     & 0 & 0 & 2 & LR & FALSE\\\\\n",
       "\t29181 & WIF1\\_WNT2B   & WIF1  & WNT inhibitory factor 1   & WNT2B  & Wnt family member 2B                      & NA              & Q9Y5W5 & Q93097 & LR & Q9Y5W5 & ⋯ & 1 & 0 & 1 & CellChatDB-cofactors;Wang                                                                                                                                  & NA                                                                                     & 0 & 0 & 2 & LR & FALSE\\\\\n",
       "\t29191 & WIF1\\_WNT3    & WIF1  & WNT inhibitory factor 1   & WNT3   & Wnt family member 3                       & NA              & Q9Y5W5 & P56703 & LR & Q9Y5W5 & ⋯ & 1 & 0 & 1 & CellChatDB-cofactors;Wang                                                                                                                                  & NA                                                                                     & 0 & 0 & 2 & LR & FALSE\\\\\n",
       "\t29201 & WIF1\\_WNT3A   & WIF1  & WNT inhibitory factor 1   & WNT3A  & Wnt family member 3A                      & NA              & Q9Y5W5 & P56704 & LR & Q9Y5W5 & ⋯ & 1 & 0 & 1 & CellChatDB-cofactors;NetPath;Wang                                                                                                                          & NetPath:19755491                                                                       & 1 & 1 & 3 & LR & FALSE\\\\\n",
       "\t29211 & WIF1\\_WNT4    & WIF1  & WNT inhibitory factor 1   & WNT4   & Wnt family member 4                       & NA              & Q9Y5W5 & P56705 & LR & Q9Y5W5 & ⋯ & 1 & 0 & 1 & CellChatDB-cofactors;NetPath;Wang                                                                                                                          & NetPath:15555925;NetPath:19755491                                                      & 2 & 2 & 3 & LR & FALSE\\\\\n",
       "\t29221 & WIF1\\_WNT6    & WIF1  & WNT inhibitory factor 1   & WNT6   & Wnt family member 6                       & NA              & Q9Y5W5 & Q9Y6F9 & LR & Q9Y5W5 & ⋯ & 1 & 0 & 1 & CellChatDB-cofactors;Wang                                                                                                                                  & NA                                                                                     & 0 & 0 & 2 & LR & FALSE\\\\\n",
       "\t29231 & WIF1\\_WNT7A   & WIF1  & WNT inhibitory factor 1   & WNT7A  & Wnt family member 7A                      & NA              & Q9Y5W5 & O00755 & LR & Q9Y5W5 & ⋯ & 1 & 0 & 1 & CellChatDB-cofactors;IntAct;Lit-BM-17;NetPath;Wang                                                                                                         & IntAct:22986341;IntAct:26342861;Lit-BM-17:22986341;Lit-BM-17:26342861;NetPath:19755491 & 5 & 3 & 5 & LR & FALSE\\\\\n",
       "\t29241 & WIF1\\_WNT7B   & WIF1  & WNT inhibitory factor 1   & WNT7B  & Wnt family member 7B                      & NA              & Q9Y5W5 & P56706 & LR & Q9Y5W5 & ⋯ & 1 & 0 & 1 & CellChatDB-cofactors;Wang                                                                                                                                  & NA                                                                                     & 0 & 0 & 2 & LR & FALSE\\\\\n",
       "\t29251 & WIF1\\_WNT8A   & WIF1  & WNT inhibitory factor 1   & WNT8A  & Wnt family member 8A                      & NA              & Q9Y5W5 & Q9H1J5 & LR & Q9Y5W5 & ⋯ & 1 & 1 & 0 & CellChatDB-cofactors;SIGNOR;SignaLink3;Wang                                                                                                                & SIGNOR:10201374;SignaLink3:10201374;SignaLink3:23331499                                & 3 & 2 & 4 & LR & FALSE\\\\\n",
       "\t29261 & WIF1\\_WNT8B   & WIF1  & WNT inhibitory factor 1   & WNT8B  & Wnt family member 8B                      & NA              & Q9Y5W5 & Q93098 & LR & Q9Y5W5 & ⋯ & 1 & 0 & 1 & CellChatDB-cofactors;Wang                                                                                                                                  & NA                                                                                     & 0 & 0 & 2 & LR & FALSE\\\\\n",
       "\t29271 & WIF1\\_WNT9A   & WIF1  & WNT inhibitory factor 1   & WNT9A  & Wnt family member 9A                      & NA              & Q9Y5W5 & O14904 & LR & Q9Y5W5 & ⋯ & 1 & 0 & 1 & CellChatDB-cofactors;NetPath;Wang                                                                                                                          & NetPath:19755491                                                                       & 1 & 1 & 3 & LR & FALSE\\\\\n",
       "\t29281 & WIF1\\_WNT9B   & WIF1  & WNT inhibitory factor 1   & WNT9B  & Wnt family member 9B                      & NA              & Q9Y5W5 & O14905 & LR & Q9Y5W5 & ⋯ & 1 & 0 & 1 & CellChatDB-cofactors;Wang                                                                                                                                  & NA                                                                                     & 0 & 0 & 2 & LR & FALSE\\\\\n",
       "\t29291 & WNT11\\_CTHRC1 & WNT11 & Wnt family member 11      & CTHRC1 & collagen triple helix repeat containing 1 & NA              & O96014 & Q96CG8 & LR & O96014 & ⋯ & 0 & 0 & 0 & Cellinker                                                                                                                                                  & Cellinker:18606138                                                                     & 1 & 1 & 1 & LR & FALSE\\\\\n",
       "\t29301 & WNT3A\\_CTHRC1 & WNT3A & Wnt family member 3A      & CTHRC1 & collagen triple helix repeat containing 1 & NA              & P56704 & Q96CG8 & LR & P56704 & ⋯ & 0 & 0 & 0 & Cellinker                                                                                                                                                  & Cellinker:18606138                                                                     & 1 & 1 & 1 & LR & FALSE\\\\\n",
       "\t29311 & WNT5A\\_CTHRC1 & WNT5A & Wnt family member 5A      & CTHRC1 & collagen triple helix repeat containing 1 & NA              & P41221 & Q96CG8 & LR & P41221 & ⋯ & 0 & 0 & 0 & Cellinker                                                                                                                                                  & Cellinker:18606138                                                                     & 1 & 1 & 1 & LR & FALSE\\\\\n",
       "\t29321 & YARS1\\_CXCR1  & YARS1 & tyrosyl-tRNA synthetase 1 & CXCR1  & C-X-C motif chemokine receptor 1          & NA              & P54577 & P25024 & LR & P54577 & ⋯ & 1 & 1 & 0 & CellPhoneDB;CellTalkDB;Fantom5\\_LRdb;Guide2Pharma;Guide2Pharma\\_CellPhoneDB;Guide2Pharma\\_LRdb;Guide2Pharma\\_talklr;LRdb;Ramilowski2015;iTALK;scConnect;talklr & NA                                                                                     & 0 & 0 & 8 & LR & FALSE\\\\\n",
       "\t29331 & ZNRF3\\_FZD2   & ZNRF3 & zinc and ring finger 3    & FZD2   & frizzled class receptor 2                 & ZNRF3\\_FZD2\\_LRP6 & Q9ULT6 & Q14332 & LR & Q9ULT6 & ⋯ & 1 & 0 & 1 & CellChatDB-cofactors                                                                                                                                       & NA                                                                                     & 0 & 0 & 1 & LR & FALSE\\\\\n",
       "\t29341 & ZNRF3\\_FZD4   & ZNRF3 & zinc and ring finger 3    & FZD4   & frizzled class receptor 4                 & ZNRF3\\_FZD4\\_LRP6 & Q9ULT6 & Q9ULV1 & LR & Q9ULT6 & ⋯ & 1 & 0 & 1 & CellChatDB-cofactors                                                                                                                                       & NA                                                                                     & 0 & 0 & 1 & LR & FALSE\\\\\n",
       "\t29351 & ZNRF3\\_FZD5   & ZNRF3 & zinc and ring finger 3    & FZD5   & frizzled class receptor 5                 & ZNRF3\\_FZD5\\_LRP6 & Q9ULT6 & Q13467 & LR & Q9ULT6 & ⋯ & 1 & 0 & 1 & CellChatDB-cofactors                                                                                                                                       & NA                                                                                     & 0 & 0 & 1 & LR & FALSE\\\\\n",
       "\t29361 & ZNRF3\\_FZD6   & ZNRF3 & zinc and ring finger 3    & FZD6   & frizzled class receptor 6                 & ZNRF3\\_FZD6\\_LRP6 & Q9ULT6 & O60353 & LR & Q9ULT6 & ⋯ & 1 & 0 & 1 & CellChatDB-cofactors                                                                                                                                       & NA                                                                                     & 0 & 0 & 1 & LR & FALSE\\\\\n",
       "\t29371 & ZNRF3\\_FZD8   & ZNRF3 & zinc and ring finger 3    & FZD8   & frizzled class receptor 8                 & ZNRF3\\_FZD8\\_LRP6 & Q9ULT6 & Q9H461 & LR & Q9ULT6 & ⋯ & 1 & 0 & 1 & CellChatDB-cofactors                                                                                                                                       & NA                                                                                     & 0 & 0 & 1 & LR & FALSE\\\\\n",
       "\t29381 & ZNRF3\\_LRP6   & ZNRF3 & zinc and ring finger 3    & LRP6   & LDL receptor related protein 6            & ZNRF3\\_FZD9\\_LRP6 & Q9ULT6 & O75581 & LR & Q9ULT6 & ⋯ & 1 & 0 & 1 & CellChatDB-cofactors                                                                                                                                       & NA                                                                                     & 0 & 0 & 1 & LR & FALSE\\\\\n",
       "\t29391 & ZYX\\_ENG      & ZYX   & zyxin                     & ENG    & endoglin                                  & NA              & Q15942 & P17813 & LR & Q15942 & ⋯ & 0 & 0 & 0 & Adhesome;Cellinker;Wang                                                                                                                                    & Adhesome:15084601;Cellinker:15084601                                                   & 2 & 1 & 3 & LR & FALSE\\\\\n",
       "\\end{tabular}\n"
      ],
      "text/markdown": [
       "\n",
       "A data.frame: 6921 × 26\n",
       "\n",
       "| <!--/--> | Pair.Name &lt;chr&gt; | Ligand &lt;chr&gt; | Ligand.Name &lt;chr&gt; | Receptor &lt;chr&gt; | Receptor.Name &lt;chr&gt; | complex_pair &lt;chr&gt; | partner_a &lt;chr&gt; | partner_b &lt;chr&gt; | annotation_strategy.x &lt;chr&gt; | source &lt;chr&gt; | ⋯ ⋯ | consensus_direction &lt;dbl&gt; | consensus_stimulation &lt;dbl&gt; | consensus_inhibition &lt;dbl&gt; | sources &lt;chr&gt; | references &lt;chr&gt; | curation_effort &lt;dbl&gt; | n_references &lt;dbl&gt; | n_resources &lt;int&gt; | annotation_strategy.y &lt;chr&gt; | True_LR &lt;lgl&gt; |\n",
       "|---|---|---|---|---|---|---|---|---|---|---|---|---|---|---|---|---|---|---|---|---|---|\n",
       "| 1 | A2M_LRP1          | A2M     | alpha-2-macroglobulin                           | LRP1      | LDL receptor related protein 1           | NA | P01023 | Q07954 | LR | P01023 | ⋯ | 1 | 1 | 0 | AlzPathway;Baccin2019;CellTalkDB;EMBRACE;Fantom5_LRdb;HPMR_LRdb;HPMR_talklr;HPRD;HPRD_LRdb;HPRD_talklr;LRdb;Ramilowski2015;Ramilowski2015_Baccin2019;STRING_talklr;Wang;connectomeDB2020;iTALK;talklr                                                                                                                                                             | AlzPathway:19026743;Baccin2019:10652313;Baccin2019:12194978;Baccin2019:1702392;CellTalkDB:10652313;HPRD:10652313;HPRD:12194978;LRdb:10652313;connectomeDB2020:10652313;connectomeDB2020:12194978;connectomeDB2020:1702392                                                                                                                                                                                                                                                                                                                                                                                                                                                                                                                                       | 11 | 4 | 11 | both | TRUE |\n",
       "| 2 | ACTR2_ADRB2       | ACTR2   | actin related protein 2                         | ADRB2     | adrenoceptor beta 2                      | NA | P61160 | P07550 | LR | P61160 | ⋯ | 0 | 0 | 0 | CellTalkDB;LRdb;Reactome_LRdb                                                                                                                                                                                                                                                                                                                                     | CellTalkDB:32196115                                                                                                                                                                                                                                                                                                                                                                                                                                                                                                                                                                                                                                                                                                                                             |  1 | 1 |  2 | both | TRUE |\n",
       "| 3 | ACTR2_LDLR        | ACTR2   | actin related protein 2                         | LDLR      | low density lipoprotein receptor         | NA | P61160 | P01130 | LR | P61160 | ⋯ | 0 | 0 | 0 | CellTalkDB;LRdb;Reactome_LRdb                                                                                                                                                                                                                                                                                                                                     | CellTalkDB:32196115                                                                                                                                                                                                                                                                                                                                                                                                                                                                                                                                                                                                                                                                                                                                             |  1 | 1 |  2 | both | TRUE |\n",
       "| 4 | ACTR2_LRP2        | ACTR2   | actin related protein 2                         | LRP2      | LDL receptor related protein 2           | NA | P61160 | P98164 | LR | P61160 | ⋯ | 0 | 0 | 0 | CellTalkDB;LRdb;Reactome_LRdb                                                                                                                                                                                                                                                                                                                                     | CellTalkDB:32196115                                                                                                                                                                                                                                                                                                                                                                                                                                                                                                                                                                                                                                                                                                                                             |  1 | 1 |  2 | both | TRUE |\n",
       "| 5 | ADAM11_CCR4       | ADAM11  | ADAM metallopeptidase domain 11                 | CCR4      | C-C motif chemokine receptor 4           | NA | O75078 | P51679 | LR | O75078 | ⋯ | 1 | 1 | 0 | Kirouac2010                                                                                                                                                                                                                                                                                                                                                       | NA                                                                                                                                                                                                                                                                                                                                                                                                                                                                                                                                                                                                                                                                                                                                                              |  0 | 0 |  1 | LR   | TRUE |\n",
       "| 6 | ADAM11_ITGA4      | ADAM11  | ADAM metallopeptidase domain 11                 | ITGA4     | integrin subunit alpha 4                 | NA | O75078 | P13612 | LR | O75078 | ⋯ | 0 | 0 | 0 | connectomeDB2020                                                                                                                                                                                                                                                                                                                                                  | connectomeDB2020:28913673                                                                                                                                                                                                                                                                                                                                                                                                                                                                                                                                                                                                                                                                                                                                       |  1 | 1 |  1 | both | TRUE |\n",
       "| 7 | ADCYAP1_ADCYAP1R1 | ADCYAP1 | adenylate cyclase activating polypeptide 1      | ADCYAP1R1 | ADCYAP receptor type I                   | NA | P18509 | P41586 | LR | P18509 | ⋯ | 1 | 1 | 0 | Baccin2019;CellCall;CellChatDB;CellPhoneDB;CellTalkDB;Cellinker;DIP;EMBRACE;Fantom5_LRdb;Guide2Pharma;Guide2Pharma_LRdb;Guide2Pharma_talklr;HPMR;HPMR_Cellinker;HPMR_LRdb;HPMR_talklr;HPRD;HPRD_LRdb;HPRD_talklr;I2D_CellPhoneDB;IMEx_CellPhoneDB;LRdb;Ramilowski2015;Ramilowski2015_Baccin2019;Reactome_LRdb;SIGNOR;Wang;connectomeDB2020;iTALK;scConnect;talklr | Baccin2019:10100920;Baccin2019:10583729;Baccin2019:11931347;Baccin2019:16930633;Baccin2019:8253796;Baccin2019:8703026;CellChatDB:21350482;CellTalkDB:10100920;Cellinker:10100920;Cellinker:10583729;Cellinker:11931347;Cellinker:12488235;Cellinker:16930633;Cellinker:21350482;Cellinker:8253796;Cellinker:8703026;DIP:17470806;Guide2Pharma:10583729;Guide2Pharma:11931347;Guide2Pharma:16930633;HPMR:10100920;HPRD:10583729;HPRD:8253796;LRdb:10100920;LRdb:10583729;LRdb:11931347;LRdb:16930633;LRdb:8253796;LRdb:8703026;SIGNOR:8703026;connectomeDB2020:10100920;connectomeDB2020:10583729;connectomeDB2020:11931347;connectomeDB2020:16930633;connectomeDB2020:8253796;connectomeDB2020:8703026;scConnect:10583729;scConnect:11931347;scConnect:16930633 | 39 | 9 | 19 | both | TRUE |\n",
       "| 8 | ADCYAP1_ADRB2     | ADCYAP1 | adenylate cyclase activating polypeptide 1      | ADRB2     | adrenoceptor beta 2                      | NA | P18509 | P07550 | LR | P18509 | ⋯ | 0 | 0 | 0 | CellTalkDB;LRdb;Reactome_LRdb                                                                                                                                                                                                                                                                                                                                     | CellTalkDB:32196115                                                                                                                                                                                                                                                                                                                                                                                                                                                                                                                                                                                                                                                                                                                                             |  1 | 1 |  2 | both | TRUE |\n",
       "| 9 | ADCYAP1_ADRB3     | ADCYAP1 | adenylate cyclase activating polypeptide 1      | ADRB3     | adrenoceptor beta 3                      | NA | P18509 | P13945 | LR | P18509 | ⋯ | 0 | 0 | 0 | CellTalkDB;LRdb;Reactome_LRdb                                                                                                                                                                                                                                                                                                                                     | CellTalkDB:32196115                                                                                                                                                                                                                                                                                                                                                                                                                                                                                                                                                                                                                                                                                                                                             |  1 | 1 |  2 | both | TRUE |\n",
       "| 10 | ADCYAP1_DPP4      | ADCYAP1 | adenylate cyclase activating polypeptide 1      | DPP4      | dipeptidyl peptidase 4                   | NA | P18509 | P27487 | LR | P18509 | ⋯ | 0 | 0 | 0 | CellPhoneDB;CellTalkDB;Cellinker;InnateDB-All_CellPhoneDB;MINT_CellPhoneDB                                                                                                                                                                                                                                                                                        | Cellinker:21314817                                                                                                                                                                                                                                                                                                                                                                                                                                                                                                                                                                                                                                                                                                                                              |  1 | 1 |  3 | both | TRUE |\n",
       "| 11 | ADCYAP1_GPR20     | ADCYAP1 | adenylate cyclase activating polypeptide 1      | GPR20     | G protein-coupled receptor 20            | NA | P18509 | Q99678 | LR | P18509 | ⋯ | 0 | 0 | 0 | CellTalkDB;LRdb;Reactome_LRdb                                                                                                                                                                                                                                                                                                                                     | CellTalkDB:32196115                                                                                                                                                                                                                                                                                                                                                                                                                                                                                                                                                                                                                                                                                                                                             |  1 | 1 |  2 | both | TRUE |\n",
       "| 12 | ADCYAP1_GPR84     | ADCYAP1 | adenylate cyclase activating polypeptide 1      | GPR84     | G protein-coupled receptor 84            | NA | P18509 | Q9NQS5 | LR | P18509 | ⋯ | 0 | 0 | 0 | CellTalkDB;LRdb;Reactome_LRdb                                                                                                                                                                                                                                                                                                                                     | CellTalkDB:32196115                                                                                                                                                                                                                                                                                                                                                                                                                                                                                                                                                                                                                                                                                                                                             |  1 | 1 |  2 | both | TRUE |\n",
       "| 13 | ADCYAP1_PTH1R     | ADCYAP1 | adenylate cyclase activating polypeptide 1      | PTH1R     | parathyroid hormone 1 receptor           | NA | P18509 | Q03431 | LR | P18509 | ⋯ | 0 | 0 | 0 | CellTalkDB;LRdb;Reactome_LRdb                                                                                                                                                                                                                                                                                                                                     | CellTalkDB:32196115                                                                                                                                                                                                                                                                                                                                                                                                                                                                                                                                                                                                                                                                                                                                             |  1 | 1 |  2 | both | TRUE |\n",
       "| 14 | ADCYAP1_RAMP2     | ADCYAP1 | adenylate cyclase activating polypeptide 1      | RAMP2     | receptor activity modifying protein 2    | NA | P18509 | O60895 | LR | P18509 | ⋯ | 0 | 0 | 0 | CellTalkDB;LRdb;Reactome_LRdb                                                                                                                                                                                                                                                                                                                                     | CellTalkDB:23745705                                                                                                                                                                                                                                                                                                                                                                                                                                                                                                                                                                                                                                                                                                                                             |  1 | 1 |  2 | both | TRUE |\n",
       "| 15 | ADCYAP1_RAMP3     | ADCYAP1 | adenylate cyclase activating polypeptide 1      | RAMP3     | receptor activity modifying protein 3    | NA | P18509 | O60896 | LR | P18509 | ⋯ | 0 | 0 | 0 | CellTalkDB;LRdb;Reactome_LRdb                                                                                                                                                                                                                                                                                                                                     | CellTalkDB:23745705                                                                                                                                                                                                                                                                                                                                                                                                                                                                                                                                                                                                                                                                                                                                             |  1 | 1 |  2 | both | TRUE |\n",
       "| 16 | ADCYAP1_SCTR      | ADCYAP1 | adenylate cyclase activating polypeptide 1      | SCTR      | secretin receptor                        | NA | P18509 | P47872 | LR | P18509 | ⋯ | 0 | 0 | 0 | Baccin2019;CellPhoneDB;CellTalkDB;EMBRACE;Fantom5_LRdb;HPRD;HPRD_LRdb;HPRD_talklr;I2D_CellPhoneDB;InnateDB-All_CellPhoneDB;LRdb;Ramilowski2015;Ramilowski2015_Baccin2019;connectomeDB2020;iTALK;talklr                                                                                                                                                            | Baccin2019:1335692;CellTalkDB:1335692;HPRD:1335692;LRdb:1335692;connectomeDB2020:1335692                                                                                                                                                                                                                                                                                                                                                                                                                                                                                                                                                                                                                                                                        |  5 | 1 | 10 | both | TRUE |\n",
       "| 17 | ADCYAP1_TSHR      | ADCYAP1 | adenylate cyclase activating polypeptide 1      | TSHR      | thyroid stimulating hormone receptor     | NA | P18509 | P16473 | LR | P18509 | ⋯ | 0 | 0 | 0 | CellCall;CellTalkDB;LRdb;Reactome_LRdb                                                                                                                                                                                                                                                                                                                            | CellTalkDB:32196115                                                                                                                                                                                                                                                                                                                                                                                                                                                                                                                                                                                                                                                                                                                                             |  1 | 1 |  3 | both | TRUE |\n",
       "| 18 | ADCYAP1_VIPR1     | ADCYAP1 | adenylate cyclase activating polypeptide 1      | VIPR1     | vasoactive intestinal peptide receptor 1 | NA | P18509 | P32241 | LR | P18509 | ⋯ | 1 | 1 | 0 | Baccin2019;CellPhoneDB;CellTalkDB;Cellinker;EMBRACE;Fantom5_LRdb;Guide2Pharma;Guide2Pharma_Cellinker;Guide2Pharma_LRdb;Guide2Pharma_talklr;HPMR_Cellinker;HPMR_LRdb;HPMR_talklr;HPRD;HPRD_LRdb;HPRD_talklr;I2D_CellPhoneDB;LRdb;Ramilowski2015;Ramilowski2015_Baccin2019;Reactome_LRdb;SIGNOR;Wang;connectomeDB2020;iTALK;scConnect;talklr                        | Baccin2019:11897681;Baccin2019:11931347;Baccin2019:12429744;Baccin2019:16930633;Baccin2019:8791009;Baccin2019:9928018;CellTalkDB:11897681;Cellinker:11897681;Cellinker:11931347;Cellinker:12429744;Cellinker:12488235;Cellinker:16930633;Cellinker:8791009;Cellinker:9928018;Guide2Pharma:11931347;Guide2Pharma:16930633;Guide2Pharma:8791009;Guide2Pharma:9928018;HPRD:12429744;LRdb:11897681;LRdb:11931347;LRdb:12429744;LRdb:16930633;LRdb:8791009;LRdb:9928018;SIGNOR:11897681;connectomeDB2020:11897681;connectomeDB2020:11931347;connectomeDB2020:12429744;connectomeDB2020:16930633;connectomeDB2020:8791009;connectomeDB2020:9928018;scConnect:11931347;scConnect:16930633;scConnect:8791009;scConnect:9928018                                          | 36 | 7 | 15 | both | TRUE |\n",
       "| 19 | ADCYAP1_VIPR2     | ADCYAP1 | adenylate cyclase activating polypeptide 1      | VIPR2     | vasoactive intestinal peptide receptor 2 | NA | P18509 | P41587 | LR | P18509 | ⋯ | 1 | 1 | 0 | Baccin2019;CellCall;CellPhoneDB;CellTalkDB;Cellinker;EMBRACE;Fantom5_LRdb;Guide2Pharma;Guide2Pharma_Cellinker;Guide2Pharma_LRdb;Guide2Pharma_talklr;HPRD;HPRD_LRdb;HPRD_talklr;I2D_CellPhoneDB;LRdb;Ramilowski2015;Ramilowski2015_Baccin2019;connectomeDB2020;iTALK;scConnect;talklr                                                                              | Baccin2019:11931347;Baccin2019:11978642;Baccin2019:16930633;Baccin2019:8146174;Baccin2019:9928018;CellTalkDB:9928018;Cellinker:11931347;Cellinker:11978642;Cellinker:12488235;Cellinker:16930633;Cellinker:8146174;Cellinker:9928018;Guide2Pharma:11931347;Guide2Pharma:11978642;Guide2Pharma:16930633;Guide2Pharma:9928018;HPRD:8146174;LRdb:11931347;LRdb:11978642;LRdb:16930633;LRdb:8146174;LRdb:9928018;connectomeDB2020:11931347;connectomeDB2020:11978642;connectomeDB2020:16930633;connectomeDB2020:8146174;connectomeDB2020:9928018;scConnect:11931347;scConnect:11978642;scConnect:16930633;scConnect:9928018                                                                                                                                         | 31 | 6 | 14 | both | TRUE |\n",
       "| 20 | ADIPOQ_ADIPOR1    | ADIPOQ  | adiponectin, C1Q and collagen domain containing | ADIPOR1   | adiponectin receptor 1                   | NA | Q15848 | Q96A54 | LR | Q15848 | ⋯ | 1 | 1 | 0 | Baccin2019;CellCall;CellChatDB;CellTalkDB;Cellinker;EMBRACE;Fantom5_LRdb;HPMR;HPMR_Cellinker;HPMR_LRdb;HPMR_talklr;Kirouac2010;LRdb;Ramilowski2015;Ramilowski2015_Baccin2019;SIGNOR;STRING_talklr;Wang;connectomeDB2020;iTALK;talklr                                                                                                                              | Baccin2019:12802337;CellChatDB:21284979;CellTalkDB:12802337;Cellinker:12802337;Cellinker:21284979;HPMR:12802337;LRdb:12802337;SIGNOR:16622416;connectomeDB2020:12802337                                                                                                                                                                                                                                                                                                                                                                                                                                                                                                                                                                                         |  9 | 3 | 15 | both | TRUE |\n",
       "| 21 | ADIPOQ_ADIPOR2    | ADIPOQ  | adiponectin, C1Q and collagen domain containing | ADIPOR2   | adiponectin receptor 2                   | NA | Q15848 | Q86V24 | LR | Q15848 | ⋯ | 1 | 1 | 0 | Baccin2019;CellCall;CellChatDB;CellTalkDB;Cellinker;EMBRACE;Fantom5_LRdb;HPMR;HPMR_Cellinker;HPMR_LRdb;HPMR_talklr;HPRD;HPRD_LRdb;HPRD_talklr;LRdb;Ramilowski2015;Ramilowski2015_Baccin2019;SIGNOR;Wang;connectomeDB2020;iTALK;talklr                                                                                                                             | Baccin2019:12802330;Baccin2019:12802337;CellChatDB:21284979;CellTalkDB:12802337;Cellinker:12802337;Cellinker:21284979;HPRD:12802337;LRdb:12802337;SIGNOR:12802337;SIGNOR:16622416;connectomeDB2020:12802337                                                                                                                                                                                                                                                                                                                                                                                                                                                                                                                                                     | 11 | 4 | 15 | both | TRUE |\n",
       "| 22 | ADIPOQ_ASGR2      | ADIPOQ  | adiponectin, C1Q and collagen domain containing | ASGR2     | asialoglycoprotein receptor 2            | NA | Q15848 | P07307 | LR | Q15848 | ⋯ | 0 | 0 | 0 | CellPhoneDB;HuRI;IMEx_CellPhoneDB;IntAct_CellPhoneDB                                                                                                                                                                                                                                                                                                              | NA                                                                                                                                                                                                                                                                                                                                                                                                                                                                                                                                                                                                                                                                                                                                                              |  0 | 0 |  2 | LR   | TRUE |\n",
       "| 23 | ADIPOQ_CLEC2D     | ADIPOQ  | adiponectin, C1Q and collagen domain containing | CLEC2D    | C-type lectin domain family 2 member D   | NA | Q15848 | Q9UHP7 | LR | Q15848 | ⋯ | 0 | 0 | 0 | CellPhoneDB;HuRI;IMEx_CellPhoneDB;IntAct_CellPhoneDB                                                                                                                                                                                                                                                                                                              | NA                                                                                                                                                                                                                                                                                                                                                                                                                                                                                                                                                                                                                                                                                                                                                              |  0 | 0 |  2 | LR   | TRUE |\n",
       "| 24 | ADIPOQ_CNR2       | ADIPOQ  | adiponectin, C1Q and collagen domain containing | CNR2      | cannabinoid receptor 2                   | NA | Q15848 | P34972 | LR | Q15848 | ⋯ | 0 | 0 | 0 | CellPhoneDB;CellTalkDB;HuRI;IMEx_CellPhoneDB;IntAct_CellPhoneDB                                                                                                                                                                                                                                                                                                   | CellTalkDB:32103204                                                                                                                                                                                                                                                                                                                                                                                                                                                                                                                                                                                                                                                                                                                                             |  1 | 1 |  3 | both | TRUE |\n",
       "| 25 | ADIPOQ_GPR152     | ADIPOQ  | adiponectin, C1Q and collagen domain containing | GPR152    | G protein-coupled receptor 152           | NA | Q15848 | Q8TDT2 | LR | Q15848 | ⋯ | 0 | 0 | 0 | CellPhoneDB;HuRI;IMEx_CellPhoneDB;IntAct_CellPhoneDB                                                                                                                                                                                                                                                                                                              | NA                                                                                                                                                                                                                                                                                                                                                                                                                                                                                                                                                                                                                                                                                                                                                              |  0 | 0 |  2 | LR   | TRUE |\n",
       "| 26 | ADIPOQ_GPR42      | ADIPOQ  | adiponectin, C1Q and collagen domain containing | GPR42     | G protein-coupled receptor 42            | NA | Q15848 | O15529 | LR | Q15848 | ⋯ | 0 | 0 | 0 | CellPhoneDB;CellTalkDB;HuRI;IMEx_CellPhoneDB;IntAct_CellPhoneDB                                                                                                                                                                                                                                                                                                   | CellTalkDB:32103204                                                                                                                                                                                                                                                                                                                                                                                                                                                                                                                                                                                                                                                                                                                                             |  1 | 1 |  3 | both | TRUE |\n",
       "| 27 | ADIPOQ_PROKR2     | ADIPOQ  | adiponectin, C1Q and collagen domain containing | PROKR2    | prokineticin receptor 2                  | NA | Q15848 | Q8NFJ6 | LR | Q15848 | ⋯ | 0 | 0 | 0 | CellPhoneDB;HuRI;IMEx_CellPhoneDB;IntAct_CellPhoneDB                                                                                                                                                                                                                                                                                                              | NA                                                                                                                                                                                                                                                                                                                                                                                                                                                                                                                                                                                                                                                                                                                                                              |  0 | 0 |  2 | LR   | TRUE |\n",
       "| 28 | ADM_ACKR3         | ADM     | adrenomedullin                                  | ACKR3     | atypical chemokine receptor 3            | NA | P35318 | P25106 | LR | P35318 | ⋯ | 0 | 0 | 0 | Cellinker                                                                                                                                                                                                                                                                                                                                                         | Cellinker:29637711                                                                                                                                                                                                                                                                                                                                                                                                                                                                                                                                                                                                                                                                                                                                              |  1 | 1 |  1 | both | TRUE |\n",
       "| 29 | ADM_ADCYAP1R1     | ADM     | adrenomedullin                                  | ADCYAP1R1 | ADCYAP receptor type I                   | NA | P35318 | P41586 | LR | P35318 | ⋯ | 0 | 0 | 0 | CellTalkDB;LRdb;Reactome_LRdb                                                                                                                                                                                                                                                                                                                                     | CellTalkDB:32196115                                                                                                                                                                                                                                                                                                                                                                                                                                                                                                                                                                                                                                                                                                                                             |  1 | 1 |  2 | both | TRUE |\n",
       "| 30 | ADM_ADRB2         | ADM     | adrenomedullin                                  | ADRB2     | adrenoceptor beta 2                      | NA | P35318 | P07550 | LR | P35318 | ⋯ | 0 | 0 | 0 | CellTalkDB;LRdb;Reactome_LRdb                                                                                                                                                                                                                                                                                                                                     | CellTalkDB:32196115                                                                                                                                                                                                                                                                                                                                                                                                                                                                                                                                                                                                                                                                                                                                             |  1 | 1 |  2 | both | TRUE |\n",
       "| ⋮ | ⋮ | ⋮ | ⋮ | ⋮ | ⋮ | ⋮ | ⋮ | ⋮ | ⋮ | ⋮ | ⋱ | ⋮ | ⋮ | ⋮ | ⋮ | ⋮ | ⋮ | ⋮ | ⋮ | ⋮ | ⋮ |\n",
       "| 29101 | VWF_COL4A3   | VWF   | von Willebrand factor     | COL4A3 | collagen type IV alpha 3 chain            | NA              | P04275 | Q01955 | LR | P04275 | ⋯ | 0 | 0 | 0 | Cellinker                                                                                                                                                  | Cellinker:19286885                                                                     | 1 | 1 | 1 | LR | FALSE |\n",
       "| 29111 | VWF_COL4A5   | VWF   | von Willebrand factor     | COL4A5 | collagen type IV alpha 5 chain            | NA              | P04275 | P29400 | LR | P04275 | ⋯ | 0 | 0 | 0 | Cellinker                                                                                                                                                  | Cellinker:19286885                                                                     | 1 | 1 | 1 | LR | FALSE |\n",
       "| 29121 | VWF_COL4A6   | VWF   | von Willebrand factor     | COL4A6 | collagen type IV alpha 6 chain            | NA              | P04275 | Q14031 | LR | P04275 | ⋯ | 0 | 0 | 0 | Cellinker                                                                                                                                                  | Cellinker:19286885                                                                     | 1 | 1 | 1 | LR | FALSE |\n",
       "| 29131 | WIF1_WNT1    | WIF1  | WNT inhibitory factor 1   | WNT1   | Wnt family member 1                       | NA              | Q9Y5W5 | P04628 | LR | Q9Y5W5 | ⋯ | 1 | 0 | 1 | CellChatDB-cofactors;Wang                                                                                                                                  | NA                                                                                     | 0 | 0 | 2 | LR | FALSE |\n",
       "| 29141 | WIF1_WNT10A  | WIF1  | WNT inhibitory factor 1   | WNT10A | Wnt family member 10A                     | NA              | Q9Y5W5 | Q9GZT5 | LR | Q9Y5W5 | ⋯ | 1 | 0 | 1 | CellChatDB-cofactors;Wang                                                                                                                                  | NA                                                                                     | 0 | 0 | 2 | LR | FALSE |\n",
       "| 29151 | WIF1_WNT10B  | WIF1  | WNT inhibitory factor 1   | WNT10B | Wnt family member 10B                     | NA              | Q9Y5W5 | O00744 | LR | Q9Y5W5 | ⋯ | 1 | 0 | 1 | CellChatDB-cofactors;Wang                                                                                                                                  | NA                                                                                     | 0 | 0 | 2 | LR | FALSE |\n",
       "| 29161 | WIF1_WNT16   | WIF1  | WNT inhibitory factor 1   | WNT16  | Wnt family member 16                      | NA              | Q9Y5W5 | Q9UBV4 | LR | Q9Y5W5 | ⋯ | 1 | 0 | 1 | CellChatDB-cofactors;Wang                                                                                                                                  | NA                                                                                     | 0 | 0 | 2 | LR | FALSE |\n",
       "| 29171 | WIF1_WNT2    | WIF1  | WNT inhibitory factor 1   | WNT2   | Wnt family member 2                       | NA              | Q9Y5W5 | P09544 | LR | Q9Y5W5 | ⋯ | 1 | 0 | 1 | CellChatDB-cofactors;Wang                                                                                                                                  | NA                                                                                     | 0 | 0 | 2 | LR | FALSE |\n",
       "| 29181 | WIF1_WNT2B   | WIF1  | WNT inhibitory factor 1   | WNT2B  | Wnt family member 2B                      | NA              | Q9Y5W5 | Q93097 | LR | Q9Y5W5 | ⋯ | 1 | 0 | 1 | CellChatDB-cofactors;Wang                                                                                                                                  | NA                                                                                     | 0 | 0 | 2 | LR | FALSE |\n",
       "| 29191 | WIF1_WNT3    | WIF1  | WNT inhibitory factor 1   | WNT3   | Wnt family member 3                       | NA              | Q9Y5W5 | P56703 | LR | Q9Y5W5 | ⋯ | 1 | 0 | 1 | CellChatDB-cofactors;Wang                                                                                                                                  | NA                                                                                     | 0 | 0 | 2 | LR | FALSE |\n",
       "| 29201 | WIF1_WNT3A   | WIF1  | WNT inhibitory factor 1   | WNT3A  | Wnt family member 3A                      | NA              | Q9Y5W5 | P56704 | LR | Q9Y5W5 | ⋯ | 1 | 0 | 1 | CellChatDB-cofactors;NetPath;Wang                                                                                                                          | NetPath:19755491                                                                       | 1 | 1 | 3 | LR | FALSE |\n",
       "| 29211 | WIF1_WNT4    | WIF1  | WNT inhibitory factor 1   | WNT4   | Wnt family member 4                       | NA              | Q9Y5W5 | P56705 | LR | Q9Y5W5 | ⋯ | 1 | 0 | 1 | CellChatDB-cofactors;NetPath;Wang                                                                                                                          | NetPath:15555925;NetPath:19755491                                                      | 2 | 2 | 3 | LR | FALSE |\n",
       "| 29221 | WIF1_WNT6    | WIF1  | WNT inhibitory factor 1   | WNT6   | Wnt family member 6                       | NA              | Q9Y5W5 | Q9Y6F9 | LR | Q9Y5W5 | ⋯ | 1 | 0 | 1 | CellChatDB-cofactors;Wang                                                                                                                                  | NA                                                                                     | 0 | 0 | 2 | LR | FALSE |\n",
       "| 29231 | WIF1_WNT7A   | WIF1  | WNT inhibitory factor 1   | WNT7A  | Wnt family member 7A                      | NA              | Q9Y5W5 | O00755 | LR | Q9Y5W5 | ⋯ | 1 | 0 | 1 | CellChatDB-cofactors;IntAct;Lit-BM-17;NetPath;Wang                                                                                                         | IntAct:22986341;IntAct:26342861;Lit-BM-17:22986341;Lit-BM-17:26342861;NetPath:19755491 | 5 | 3 | 5 | LR | FALSE |\n",
       "| 29241 | WIF1_WNT7B   | WIF1  | WNT inhibitory factor 1   | WNT7B  | Wnt family member 7B                      | NA              | Q9Y5W5 | P56706 | LR | Q9Y5W5 | ⋯ | 1 | 0 | 1 | CellChatDB-cofactors;Wang                                                                                                                                  | NA                                                                                     | 0 | 0 | 2 | LR | FALSE |\n",
       "| 29251 | WIF1_WNT8A   | WIF1  | WNT inhibitory factor 1   | WNT8A  | Wnt family member 8A                      | NA              | Q9Y5W5 | Q9H1J5 | LR | Q9Y5W5 | ⋯ | 1 | 1 | 0 | CellChatDB-cofactors;SIGNOR;SignaLink3;Wang                                                                                                                | SIGNOR:10201374;SignaLink3:10201374;SignaLink3:23331499                                | 3 | 2 | 4 | LR | FALSE |\n",
       "| 29261 | WIF1_WNT8B   | WIF1  | WNT inhibitory factor 1   | WNT8B  | Wnt family member 8B                      | NA              | Q9Y5W5 | Q93098 | LR | Q9Y5W5 | ⋯ | 1 | 0 | 1 | CellChatDB-cofactors;Wang                                                                                                                                  | NA                                                                                     | 0 | 0 | 2 | LR | FALSE |\n",
       "| 29271 | WIF1_WNT9A   | WIF1  | WNT inhibitory factor 1   | WNT9A  | Wnt family member 9A                      | NA              | Q9Y5W5 | O14904 | LR | Q9Y5W5 | ⋯ | 1 | 0 | 1 | CellChatDB-cofactors;NetPath;Wang                                                                                                                          | NetPath:19755491                                                                       | 1 | 1 | 3 | LR | FALSE |\n",
       "| 29281 | WIF1_WNT9B   | WIF1  | WNT inhibitory factor 1   | WNT9B  | Wnt family member 9B                      | NA              | Q9Y5W5 | O14905 | LR | Q9Y5W5 | ⋯ | 1 | 0 | 1 | CellChatDB-cofactors;Wang                                                                                                                                  | NA                                                                                     | 0 | 0 | 2 | LR | FALSE |\n",
       "| 29291 | WNT11_CTHRC1 | WNT11 | Wnt family member 11      | CTHRC1 | collagen triple helix repeat containing 1 | NA              | O96014 | Q96CG8 | LR | O96014 | ⋯ | 0 | 0 | 0 | Cellinker                                                                                                                                                  | Cellinker:18606138                                                                     | 1 | 1 | 1 | LR | FALSE |\n",
       "| 29301 | WNT3A_CTHRC1 | WNT3A | Wnt family member 3A      | CTHRC1 | collagen triple helix repeat containing 1 | NA              | P56704 | Q96CG8 | LR | P56704 | ⋯ | 0 | 0 | 0 | Cellinker                                                                                                                                                  | Cellinker:18606138                                                                     | 1 | 1 | 1 | LR | FALSE |\n",
       "| 29311 | WNT5A_CTHRC1 | WNT5A | Wnt family member 5A      | CTHRC1 | collagen triple helix repeat containing 1 | NA              | P41221 | Q96CG8 | LR | P41221 | ⋯ | 0 | 0 | 0 | Cellinker                                                                                                                                                  | Cellinker:18606138                                                                     | 1 | 1 | 1 | LR | FALSE |\n",
       "| 29321 | YARS1_CXCR1  | YARS1 | tyrosyl-tRNA synthetase 1 | CXCR1  | C-X-C motif chemokine receptor 1          | NA              | P54577 | P25024 | LR | P54577 | ⋯ | 1 | 1 | 0 | CellPhoneDB;CellTalkDB;Fantom5_LRdb;Guide2Pharma;Guide2Pharma_CellPhoneDB;Guide2Pharma_LRdb;Guide2Pharma_talklr;LRdb;Ramilowski2015;iTALK;scConnect;talklr | NA                                                                                     | 0 | 0 | 8 | LR | FALSE |\n",
       "| 29331 | ZNRF3_FZD2   | ZNRF3 | zinc and ring finger 3    | FZD2   | frizzled class receptor 2                 | ZNRF3_FZD2_LRP6 | Q9ULT6 | Q14332 | LR | Q9ULT6 | ⋯ | 1 | 0 | 1 | CellChatDB-cofactors                                                                                                                                       | NA                                                                                     | 0 | 0 | 1 | LR | FALSE |\n",
       "| 29341 | ZNRF3_FZD4   | ZNRF3 | zinc and ring finger 3    | FZD4   | frizzled class receptor 4                 | ZNRF3_FZD4_LRP6 | Q9ULT6 | Q9ULV1 | LR | Q9ULT6 | ⋯ | 1 | 0 | 1 | CellChatDB-cofactors                                                                                                                                       | NA                                                                                     | 0 | 0 | 1 | LR | FALSE |\n",
       "| 29351 | ZNRF3_FZD5   | ZNRF3 | zinc and ring finger 3    | FZD5   | frizzled class receptor 5                 | ZNRF3_FZD5_LRP6 | Q9ULT6 | Q13467 | LR | Q9ULT6 | ⋯ | 1 | 0 | 1 | CellChatDB-cofactors                                                                                                                                       | NA                                                                                     | 0 | 0 | 1 | LR | FALSE |\n",
       "| 29361 | ZNRF3_FZD6   | ZNRF3 | zinc and ring finger 3    | FZD6   | frizzled class receptor 6                 | ZNRF3_FZD6_LRP6 | Q9ULT6 | O60353 | LR | Q9ULT6 | ⋯ | 1 | 0 | 1 | CellChatDB-cofactors                                                                                                                                       | NA                                                                                     | 0 | 0 | 1 | LR | FALSE |\n",
       "| 29371 | ZNRF3_FZD8   | ZNRF3 | zinc and ring finger 3    | FZD8   | frizzled class receptor 8                 | ZNRF3_FZD8_LRP6 | Q9ULT6 | Q9H461 | LR | Q9ULT6 | ⋯ | 1 | 0 | 1 | CellChatDB-cofactors                                                                                                                                       | NA                                                                                     | 0 | 0 | 1 | LR | FALSE |\n",
       "| 29381 | ZNRF3_LRP6   | ZNRF3 | zinc and ring finger 3    | LRP6   | LDL receptor related protein 6            | ZNRF3_FZD9_LRP6 | Q9ULT6 | O75581 | LR | Q9ULT6 | ⋯ | 1 | 0 | 1 | CellChatDB-cofactors                                                                                                                                       | NA                                                                                     | 0 | 0 | 1 | LR | FALSE |\n",
       "| 29391 | ZYX_ENG      | ZYX   | zyxin                     | ENG    | endoglin                                  | NA              | Q15942 | P17813 | LR | Q15942 | ⋯ | 0 | 0 | 0 | Adhesome;Cellinker;Wang                                                                                                                                    | Adhesome:15084601;Cellinker:15084601                                                   | 2 | 1 | 3 | LR | FALSE |\n",
       "\n"
      ],
      "text/plain": [
       "      Pair.Name         Ligand  Ligand.Name                                    \n",
       "1     A2M_LRP1          A2M     alpha-2-macroglobulin                          \n",
       "2     ACTR2_ADRB2       ACTR2   actin related protein 2                        \n",
       "3     ACTR2_LDLR        ACTR2   actin related protein 2                        \n",
       "4     ACTR2_LRP2        ACTR2   actin related protein 2                        \n",
       "5     ADAM11_CCR4       ADAM11  ADAM metallopeptidase domain 11                \n",
       "6     ADAM11_ITGA4      ADAM11  ADAM metallopeptidase domain 11                \n",
       "7     ADCYAP1_ADCYAP1R1 ADCYAP1 adenylate cyclase activating polypeptide 1     \n",
       "8     ADCYAP1_ADRB2     ADCYAP1 adenylate cyclase activating polypeptide 1     \n",
       "9     ADCYAP1_ADRB3     ADCYAP1 adenylate cyclase activating polypeptide 1     \n",
       "10    ADCYAP1_DPP4      ADCYAP1 adenylate cyclase activating polypeptide 1     \n",
       "11    ADCYAP1_GPR20     ADCYAP1 adenylate cyclase activating polypeptide 1     \n",
       "12    ADCYAP1_GPR84     ADCYAP1 adenylate cyclase activating polypeptide 1     \n",
       "13    ADCYAP1_PTH1R     ADCYAP1 adenylate cyclase activating polypeptide 1     \n",
       "14    ADCYAP1_RAMP2     ADCYAP1 adenylate cyclase activating polypeptide 1     \n",
       "15    ADCYAP1_RAMP3     ADCYAP1 adenylate cyclase activating polypeptide 1     \n",
       "16    ADCYAP1_SCTR      ADCYAP1 adenylate cyclase activating polypeptide 1     \n",
       "17    ADCYAP1_TSHR      ADCYAP1 adenylate cyclase activating polypeptide 1     \n",
       "18    ADCYAP1_VIPR1     ADCYAP1 adenylate cyclase activating polypeptide 1     \n",
       "19    ADCYAP1_VIPR2     ADCYAP1 adenylate cyclase activating polypeptide 1     \n",
       "20    ADIPOQ_ADIPOR1    ADIPOQ  adiponectin, C1Q and collagen domain containing\n",
       "21    ADIPOQ_ADIPOR2    ADIPOQ  adiponectin, C1Q and collagen domain containing\n",
       "22    ADIPOQ_ASGR2      ADIPOQ  adiponectin, C1Q and collagen domain containing\n",
       "23    ADIPOQ_CLEC2D     ADIPOQ  adiponectin, C1Q and collagen domain containing\n",
       "24    ADIPOQ_CNR2       ADIPOQ  adiponectin, C1Q and collagen domain containing\n",
       "25    ADIPOQ_GPR152     ADIPOQ  adiponectin, C1Q and collagen domain containing\n",
       "26    ADIPOQ_GPR42      ADIPOQ  adiponectin, C1Q and collagen domain containing\n",
       "27    ADIPOQ_PROKR2     ADIPOQ  adiponectin, C1Q and collagen domain containing\n",
       "28    ADM_ACKR3         ADM     adrenomedullin                                 \n",
       "29    ADM_ADCYAP1R1     ADM     adrenomedullin                                 \n",
       "30    ADM_ADRB2         ADM     adrenomedullin                                 \n",
       "⋮     ⋮                 ⋮       ⋮                                              \n",
       "29101 VWF_COL4A3        VWF     von Willebrand factor                          \n",
       "29111 VWF_COL4A5        VWF     von Willebrand factor                          \n",
       "29121 VWF_COL4A6        VWF     von Willebrand factor                          \n",
       "29131 WIF1_WNT1         WIF1    WNT inhibitory factor 1                        \n",
       "29141 WIF1_WNT10A       WIF1    WNT inhibitory factor 1                        \n",
       "29151 WIF1_WNT10B       WIF1    WNT inhibitory factor 1                        \n",
       "29161 WIF1_WNT16        WIF1    WNT inhibitory factor 1                        \n",
       "29171 WIF1_WNT2         WIF1    WNT inhibitory factor 1                        \n",
       "29181 WIF1_WNT2B        WIF1    WNT inhibitory factor 1                        \n",
       "29191 WIF1_WNT3         WIF1    WNT inhibitory factor 1                        \n",
       "29201 WIF1_WNT3A        WIF1    WNT inhibitory factor 1                        \n",
       "29211 WIF1_WNT4         WIF1    WNT inhibitory factor 1                        \n",
       "29221 WIF1_WNT6         WIF1    WNT inhibitory factor 1                        \n",
       "29231 WIF1_WNT7A        WIF1    WNT inhibitory factor 1                        \n",
       "29241 WIF1_WNT7B        WIF1    WNT inhibitory factor 1                        \n",
       "29251 WIF1_WNT8A        WIF1    WNT inhibitory factor 1                        \n",
       "29261 WIF1_WNT8B        WIF1    WNT inhibitory factor 1                        \n",
       "29271 WIF1_WNT9A        WIF1    WNT inhibitory factor 1                        \n",
       "29281 WIF1_WNT9B        WIF1    WNT inhibitory factor 1                        \n",
       "29291 WNT11_CTHRC1      WNT11   Wnt family member 11                           \n",
       "29301 WNT3A_CTHRC1      WNT3A   Wnt family member 3A                           \n",
       "29311 WNT5A_CTHRC1      WNT5A   Wnt family member 5A                           \n",
       "29321 YARS1_CXCR1       YARS1   tyrosyl-tRNA synthetase 1                      \n",
       "29331 ZNRF3_FZD2        ZNRF3   zinc and ring finger 3                         \n",
       "29341 ZNRF3_FZD4        ZNRF3   zinc and ring finger 3                         \n",
       "29351 ZNRF3_FZD5        ZNRF3   zinc and ring finger 3                         \n",
       "29361 ZNRF3_FZD6        ZNRF3   zinc and ring finger 3                         \n",
       "29371 ZNRF3_FZD8        ZNRF3   zinc and ring finger 3                         \n",
       "29381 ZNRF3_LRP6        ZNRF3   zinc and ring finger 3                         \n",
       "29391 ZYX_ENG           ZYX     zyxin                                          \n",
       "      Receptor  Receptor.Name                             complex_pair   \n",
       "1     LRP1      LDL receptor related protein 1            NA             \n",
       "2     ADRB2     adrenoceptor beta 2                       NA             \n",
       "3     LDLR      low density lipoprotein receptor          NA             \n",
       "4     LRP2      LDL receptor related protein 2            NA             \n",
       "5     CCR4      C-C motif chemokine receptor 4            NA             \n",
       "6     ITGA4     integrin subunit alpha 4                  NA             \n",
       "7     ADCYAP1R1 ADCYAP receptor type I                    NA             \n",
       "8     ADRB2     adrenoceptor beta 2                       NA             \n",
       "9     ADRB3     adrenoceptor beta 3                       NA             \n",
       "10    DPP4      dipeptidyl peptidase 4                    NA             \n",
       "11    GPR20     G protein-coupled receptor 20             NA             \n",
       "12    GPR84     G protein-coupled receptor 84             NA             \n",
       "13    PTH1R     parathyroid hormone 1 receptor            NA             \n",
       "14    RAMP2     receptor activity modifying protein 2     NA             \n",
       "15    RAMP3     receptor activity modifying protein 3     NA             \n",
       "16    SCTR      secretin receptor                         NA             \n",
       "17    TSHR      thyroid stimulating hormone receptor      NA             \n",
       "18    VIPR1     vasoactive intestinal peptide receptor 1  NA             \n",
       "19    VIPR2     vasoactive intestinal peptide receptor 2  NA             \n",
       "20    ADIPOR1   adiponectin receptor 1                    NA             \n",
       "21    ADIPOR2   adiponectin receptor 2                    NA             \n",
       "22    ASGR2     asialoglycoprotein receptor 2             NA             \n",
       "23    CLEC2D    C-type lectin domain family 2 member D    NA             \n",
       "24    CNR2      cannabinoid receptor 2                    NA             \n",
       "25    GPR152    G protein-coupled receptor 152            NA             \n",
       "26    GPR42     G protein-coupled receptor 42             NA             \n",
       "27    PROKR2    prokineticin receptor 2                   NA             \n",
       "28    ACKR3     atypical chemokine receptor 3             NA             \n",
       "29    ADCYAP1R1 ADCYAP receptor type I                    NA             \n",
       "30    ADRB2     adrenoceptor beta 2                       NA             \n",
       "⋮     ⋮         ⋮                                         ⋮              \n",
       "29101 COL4A3    collagen type IV alpha 3 chain            NA             \n",
       "29111 COL4A5    collagen type IV alpha 5 chain            NA             \n",
       "29121 COL4A6    collagen type IV alpha 6 chain            NA             \n",
       "29131 WNT1      Wnt family member 1                       NA             \n",
       "29141 WNT10A    Wnt family member 10A                     NA             \n",
       "29151 WNT10B    Wnt family member 10B                     NA             \n",
       "29161 WNT16     Wnt family member 16                      NA             \n",
       "29171 WNT2      Wnt family member 2                       NA             \n",
       "29181 WNT2B     Wnt family member 2B                      NA             \n",
       "29191 WNT3      Wnt family member 3                       NA             \n",
       "29201 WNT3A     Wnt family member 3A                      NA             \n",
       "29211 WNT4      Wnt family member 4                       NA             \n",
       "29221 WNT6      Wnt family member 6                       NA             \n",
       "29231 WNT7A     Wnt family member 7A                      NA             \n",
       "29241 WNT7B     Wnt family member 7B                      NA             \n",
       "29251 WNT8A     Wnt family member 8A                      NA             \n",
       "29261 WNT8B     Wnt family member 8B                      NA             \n",
       "29271 WNT9A     Wnt family member 9A                      NA             \n",
       "29281 WNT9B     Wnt family member 9B                      NA             \n",
       "29291 CTHRC1    collagen triple helix repeat containing 1 NA             \n",
       "29301 CTHRC1    collagen triple helix repeat containing 1 NA             \n",
       "29311 CTHRC1    collagen triple helix repeat containing 1 NA             \n",
       "29321 CXCR1     C-X-C motif chemokine receptor 1          NA             \n",
       "29331 FZD2      frizzled class receptor 2                 ZNRF3_FZD2_LRP6\n",
       "29341 FZD4      frizzled class receptor 4                 ZNRF3_FZD4_LRP6\n",
       "29351 FZD5      frizzled class receptor 5                 ZNRF3_FZD5_LRP6\n",
       "29361 FZD6      frizzled class receptor 6                 ZNRF3_FZD6_LRP6\n",
       "29371 FZD8      frizzled class receptor 8                 ZNRF3_FZD8_LRP6\n",
       "29381 LRP6      LDL receptor related protein 6            ZNRF3_FZD9_LRP6\n",
       "29391 ENG       endoglin                                  NA             \n",
       "      partner_a partner_b annotation_strategy.x source ⋯ consensus_direction\n",
       "1     P01023    Q07954    LR                    P01023 ⋯ 1                  \n",
       "2     P61160    P07550    LR                    P61160 ⋯ 0                  \n",
       "3     P61160    P01130    LR                    P61160 ⋯ 0                  \n",
       "4     P61160    P98164    LR                    P61160 ⋯ 0                  \n",
       "5     O75078    P51679    LR                    O75078 ⋯ 1                  \n",
       "6     O75078    P13612    LR                    O75078 ⋯ 0                  \n",
       "7     P18509    P41586    LR                    P18509 ⋯ 1                  \n",
       "8     P18509    P07550    LR                    P18509 ⋯ 0                  \n",
       "9     P18509    P13945    LR                    P18509 ⋯ 0                  \n",
       "10    P18509    P27487    LR                    P18509 ⋯ 0                  \n",
       "11    P18509    Q99678    LR                    P18509 ⋯ 0                  \n",
       "12    P18509    Q9NQS5    LR                    P18509 ⋯ 0                  \n",
       "13    P18509    Q03431    LR                    P18509 ⋯ 0                  \n",
       "14    P18509    O60895    LR                    P18509 ⋯ 0                  \n",
       "15    P18509    O60896    LR                    P18509 ⋯ 0                  \n",
       "16    P18509    P47872    LR                    P18509 ⋯ 0                  \n",
       "17    P18509    P16473    LR                    P18509 ⋯ 0                  \n",
       "18    P18509    P32241    LR                    P18509 ⋯ 1                  \n",
       "19    P18509    P41587    LR                    P18509 ⋯ 1                  \n",
       "20    Q15848    Q96A54    LR                    Q15848 ⋯ 1                  \n",
       "21    Q15848    Q86V24    LR                    Q15848 ⋯ 1                  \n",
       "22    Q15848    P07307    LR                    Q15848 ⋯ 0                  \n",
       "23    Q15848    Q9UHP7    LR                    Q15848 ⋯ 0                  \n",
       "24    Q15848    P34972    LR                    Q15848 ⋯ 0                  \n",
       "25    Q15848    Q8TDT2    LR                    Q15848 ⋯ 0                  \n",
       "26    Q15848    O15529    LR                    Q15848 ⋯ 0                  \n",
       "27    Q15848    Q8NFJ6    LR                    Q15848 ⋯ 0                  \n",
       "28    P35318    P25106    LR                    P35318 ⋯ 0                  \n",
       "29    P35318    P41586    LR                    P35318 ⋯ 0                  \n",
       "30    P35318    P07550    LR                    P35318 ⋯ 0                  \n",
       "⋮     ⋮         ⋮         ⋮                     ⋮      ⋱ ⋮                  \n",
       "29101 P04275    Q01955    LR                    P04275 ⋯ 0                  \n",
       "29111 P04275    P29400    LR                    P04275 ⋯ 0                  \n",
       "29121 P04275    Q14031    LR                    P04275 ⋯ 0                  \n",
       "29131 Q9Y5W5    P04628    LR                    Q9Y5W5 ⋯ 1                  \n",
       "29141 Q9Y5W5    Q9GZT5    LR                    Q9Y5W5 ⋯ 1                  \n",
       "29151 Q9Y5W5    O00744    LR                    Q9Y5W5 ⋯ 1                  \n",
       "29161 Q9Y5W5    Q9UBV4    LR                    Q9Y5W5 ⋯ 1                  \n",
       "29171 Q9Y5W5    P09544    LR                    Q9Y5W5 ⋯ 1                  \n",
       "29181 Q9Y5W5    Q93097    LR                    Q9Y5W5 ⋯ 1                  \n",
       "29191 Q9Y5W5    P56703    LR                    Q9Y5W5 ⋯ 1                  \n",
       "29201 Q9Y5W5    P56704    LR                    Q9Y5W5 ⋯ 1                  \n",
       "29211 Q9Y5W5    P56705    LR                    Q9Y5W5 ⋯ 1                  \n",
       "29221 Q9Y5W5    Q9Y6F9    LR                    Q9Y5W5 ⋯ 1                  \n",
       "29231 Q9Y5W5    O00755    LR                    Q9Y5W5 ⋯ 1                  \n",
       "29241 Q9Y5W5    P56706    LR                    Q9Y5W5 ⋯ 1                  \n",
       "29251 Q9Y5W5    Q9H1J5    LR                    Q9Y5W5 ⋯ 1                  \n",
       "29261 Q9Y5W5    Q93098    LR                    Q9Y5W5 ⋯ 1                  \n",
       "29271 Q9Y5W5    O14904    LR                    Q9Y5W5 ⋯ 1                  \n",
       "29281 Q9Y5W5    O14905    LR                    Q9Y5W5 ⋯ 1                  \n",
       "29291 O96014    Q96CG8    LR                    O96014 ⋯ 0                  \n",
       "29301 P56704    Q96CG8    LR                    P56704 ⋯ 0                  \n",
       "29311 P41221    Q96CG8    LR                    P41221 ⋯ 0                  \n",
       "29321 P54577    P25024    LR                    P54577 ⋯ 1                  \n",
       "29331 Q9ULT6    Q14332    LR                    Q9ULT6 ⋯ 1                  \n",
       "29341 Q9ULT6    Q9ULV1    LR                    Q9ULT6 ⋯ 1                  \n",
       "29351 Q9ULT6    Q13467    LR                    Q9ULT6 ⋯ 1                  \n",
       "29361 Q9ULT6    O60353    LR                    Q9ULT6 ⋯ 1                  \n",
       "29371 Q9ULT6    Q9H461    LR                    Q9ULT6 ⋯ 1                  \n",
       "29381 Q9ULT6    O75581    LR                    Q9ULT6 ⋯ 1                  \n",
       "29391 Q15942    P17813    LR                    Q15942 ⋯ 0                  \n",
       "      consensus_stimulation consensus_inhibition\n",
       "1     1                     0                   \n",
       "2     0                     0                   \n",
       "3     0                     0                   \n",
       "4     0                     0                   \n",
       "5     1                     0                   \n",
       "6     0                     0                   \n",
       "7     1                     0                   \n",
       "8     0                     0                   \n",
       "9     0                     0                   \n",
       "10    0                     0                   \n",
       "11    0                     0                   \n",
       "12    0                     0                   \n",
       "13    0                     0                   \n",
       "14    0                     0                   \n",
       "15    0                     0                   \n",
       "16    0                     0                   \n",
       "17    0                     0                   \n",
       "18    1                     0                   \n",
       "19    1                     0                   \n",
       "20    1                     0                   \n",
       "21    1                     0                   \n",
       "22    0                     0                   \n",
       "23    0                     0                   \n",
       "24    0                     0                   \n",
       "25    0                     0                   \n",
       "26    0                     0                   \n",
       "27    0                     0                   \n",
       "28    0                     0                   \n",
       "29    0                     0                   \n",
       "30    0                     0                   \n",
       "⋮     ⋮                     ⋮                   \n",
       "29101 0                     0                   \n",
       "29111 0                     0                   \n",
       "29121 0                     0                   \n",
       "29131 0                     1                   \n",
       "29141 0                     1                   \n",
       "29151 0                     1                   \n",
       "29161 0                     1                   \n",
       "29171 0                     1                   \n",
       "29181 0                     1                   \n",
       "29191 0                     1                   \n",
       "29201 0                     1                   \n",
       "29211 0                     1                   \n",
       "29221 0                     1                   \n",
       "29231 0                     1                   \n",
       "29241 0                     1                   \n",
       "29251 1                     0                   \n",
       "29261 0                     1                   \n",
       "29271 0                     1                   \n",
       "29281 0                     1                   \n",
       "29291 0                     0                   \n",
       "29301 0                     0                   \n",
       "29311 0                     0                   \n",
       "29321 1                     0                   \n",
       "29331 0                     1                   \n",
       "29341 0                     1                   \n",
       "29351 0                     1                   \n",
       "29361 0                     1                   \n",
       "29371 0                     1                   \n",
       "29381 0                     1                   \n",
       "29391 0                     0                   \n",
       "      sources                                                                                                                                                                                                                                                                                                                                                          \n",
       "1     AlzPathway;Baccin2019;CellTalkDB;EMBRACE;Fantom5_LRdb;HPMR_LRdb;HPMR_talklr;HPRD;HPRD_LRdb;HPRD_talklr;LRdb;Ramilowski2015;Ramilowski2015_Baccin2019;STRING_talklr;Wang;connectomeDB2020;iTALK;talklr                                                                                                                                                            \n",
       "2     CellTalkDB;LRdb;Reactome_LRdb                                                                                                                                                                                                                                                                                                                                    \n",
       "3     CellTalkDB;LRdb;Reactome_LRdb                                                                                                                                                                                                                                                                                                                                    \n",
       "4     CellTalkDB;LRdb;Reactome_LRdb                                                                                                                                                                                                                                                                                                                                    \n",
       "5     Kirouac2010                                                                                                                                                                                                                                                                                                                                                      \n",
       "6     connectomeDB2020                                                                                                                                                                                                                                                                                                                                                 \n",
       "7     Baccin2019;CellCall;CellChatDB;CellPhoneDB;CellTalkDB;Cellinker;DIP;EMBRACE;Fantom5_LRdb;Guide2Pharma;Guide2Pharma_LRdb;Guide2Pharma_talklr;HPMR;HPMR_Cellinker;HPMR_LRdb;HPMR_talklr;HPRD;HPRD_LRdb;HPRD_talklr;I2D_CellPhoneDB;IMEx_CellPhoneDB;LRdb;Ramilowski2015;Ramilowski2015_Baccin2019;Reactome_LRdb;SIGNOR;Wang;connectomeDB2020;iTALK;scConnect;talklr\n",
       "8     CellTalkDB;LRdb;Reactome_LRdb                                                                                                                                                                                                                                                                                                                                    \n",
       "9     CellTalkDB;LRdb;Reactome_LRdb                                                                                                                                                                                                                                                                                                                                    \n",
       "10    CellPhoneDB;CellTalkDB;Cellinker;InnateDB-All_CellPhoneDB;MINT_CellPhoneDB                                                                                                                                                                                                                                                                                       \n",
       "11    CellTalkDB;LRdb;Reactome_LRdb                                                                                                                                                                                                                                                                                                                                    \n",
       "12    CellTalkDB;LRdb;Reactome_LRdb                                                                                                                                                                                                                                                                                                                                    \n",
       "13    CellTalkDB;LRdb;Reactome_LRdb                                                                                                                                                                                                                                                                                                                                    \n",
       "14    CellTalkDB;LRdb;Reactome_LRdb                                                                                                                                                                                                                                                                                                                                    \n",
       "15    CellTalkDB;LRdb;Reactome_LRdb                                                                                                                                                                                                                                                                                                                                    \n",
       "16    Baccin2019;CellPhoneDB;CellTalkDB;EMBRACE;Fantom5_LRdb;HPRD;HPRD_LRdb;HPRD_talklr;I2D_CellPhoneDB;InnateDB-All_CellPhoneDB;LRdb;Ramilowski2015;Ramilowski2015_Baccin2019;connectomeDB2020;iTALK;talklr                                                                                                                                                           \n",
       "17    CellCall;CellTalkDB;LRdb;Reactome_LRdb                                                                                                                                                                                                                                                                                                                           \n",
       "18    Baccin2019;CellPhoneDB;CellTalkDB;Cellinker;EMBRACE;Fantom5_LRdb;Guide2Pharma;Guide2Pharma_Cellinker;Guide2Pharma_LRdb;Guide2Pharma_talklr;HPMR_Cellinker;HPMR_LRdb;HPMR_talklr;HPRD;HPRD_LRdb;HPRD_talklr;I2D_CellPhoneDB;LRdb;Ramilowski2015;Ramilowski2015_Baccin2019;Reactome_LRdb;SIGNOR;Wang;connectomeDB2020;iTALK;scConnect;talklr                       \n",
       "19    Baccin2019;CellCall;CellPhoneDB;CellTalkDB;Cellinker;EMBRACE;Fantom5_LRdb;Guide2Pharma;Guide2Pharma_Cellinker;Guide2Pharma_LRdb;Guide2Pharma_talklr;HPRD;HPRD_LRdb;HPRD_talklr;I2D_CellPhoneDB;LRdb;Ramilowski2015;Ramilowski2015_Baccin2019;connectomeDB2020;iTALK;scConnect;talklr                                                                             \n",
       "20    Baccin2019;CellCall;CellChatDB;CellTalkDB;Cellinker;EMBRACE;Fantom5_LRdb;HPMR;HPMR_Cellinker;HPMR_LRdb;HPMR_talklr;Kirouac2010;LRdb;Ramilowski2015;Ramilowski2015_Baccin2019;SIGNOR;STRING_talklr;Wang;connectomeDB2020;iTALK;talklr                                                                                                                             \n",
       "21    Baccin2019;CellCall;CellChatDB;CellTalkDB;Cellinker;EMBRACE;Fantom5_LRdb;HPMR;HPMR_Cellinker;HPMR_LRdb;HPMR_talklr;HPRD;HPRD_LRdb;HPRD_talklr;LRdb;Ramilowski2015;Ramilowski2015_Baccin2019;SIGNOR;Wang;connectomeDB2020;iTALK;talklr                                                                                                                            \n",
       "22    CellPhoneDB;HuRI;IMEx_CellPhoneDB;IntAct_CellPhoneDB                                                                                                                                                                                                                                                                                                             \n",
       "23    CellPhoneDB;HuRI;IMEx_CellPhoneDB;IntAct_CellPhoneDB                                                                                                                                                                                                                                                                                                             \n",
       "24    CellPhoneDB;CellTalkDB;HuRI;IMEx_CellPhoneDB;IntAct_CellPhoneDB                                                                                                                                                                                                                                                                                                  \n",
       "25    CellPhoneDB;HuRI;IMEx_CellPhoneDB;IntAct_CellPhoneDB                                                                                                                                                                                                                                                                                                             \n",
       "26    CellPhoneDB;CellTalkDB;HuRI;IMEx_CellPhoneDB;IntAct_CellPhoneDB                                                                                                                                                                                                                                                                                                  \n",
       "27    CellPhoneDB;HuRI;IMEx_CellPhoneDB;IntAct_CellPhoneDB                                                                                                                                                                                                                                                                                                             \n",
       "28    Cellinker                                                                                                                                                                                                                                                                                                                                                        \n",
       "29    CellTalkDB;LRdb;Reactome_LRdb                                                                                                                                                                                                                                                                                                                                    \n",
       "30    CellTalkDB;LRdb;Reactome_LRdb                                                                                                                                                                                                                                                                                                                                    \n",
       "⋮     ⋮                                                                                                                                                                                                                                                                                                                                                                \n",
       "29101 Cellinker                                                                                                                                                                                                                                                                                                                                                        \n",
       "29111 Cellinker                                                                                                                                                                                                                                                                                                                                                        \n",
       "29121 Cellinker                                                                                                                                                                                                                                                                                                                                                        \n",
       "29131 CellChatDB-cofactors;Wang                                                                                                                                                                                                                                                                                                                                        \n",
       "29141 CellChatDB-cofactors;Wang                                                                                                                                                                                                                                                                                                                                        \n",
       "29151 CellChatDB-cofactors;Wang                                                                                                                                                                                                                                                                                                                                        \n",
       "29161 CellChatDB-cofactors;Wang                                                                                                                                                                                                                                                                                                                                        \n",
       "29171 CellChatDB-cofactors;Wang                                                                                                                                                                                                                                                                                                                                        \n",
       "29181 CellChatDB-cofactors;Wang                                                                                                                                                                                                                                                                                                                                        \n",
       "29191 CellChatDB-cofactors;Wang                                                                                                                                                                                                                                                                                                                                        \n",
       "29201 CellChatDB-cofactors;NetPath;Wang                                                                                                                                                                                                                                                                                                                                \n",
       "29211 CellChatDB-cofactors;NetPath;Wang                                                                                                                                                                                                                                                                                                                                \n",
       "29221 CellChatDB-cofactors;Wang                                                                                                                                                                                                                                                                                                                                        \n",
       "29231 CellChatDB-cofactors;IntAct;Lit-BM-17;NetPath;Wang                                                                                                                                                                                                                                                                                                               \n",
       "29241 CellChatDB-cofactors;Wang                                                                                                                                                                                                                                                                                                                                        \n",
       "29251 CellChatDB-cofactors;SIGNOR;SignaLink3;Wang                                                                                                                                                                                                                                                                                                                      \n",
       "29261 CellChatDB-cofactors;Wang                                                                                                                                                                                                                                                                                                                                        \n",
       "29271 CellChatDB-cofactors;NetPath;Wang                                                                                                                                                                                                                                                                                                                                \n",
       "29281 CellChatDB-cofactors;Wang                                                                                                                                                                                                                                                                                                                                        \n",
       "29291 Cellinker                                                                                                                                                                                                                                                                                                                                                        \n",
       "29301 Cellinker                                                                                                                                                                                                                                                                                                                                                        \n",
       "29311 Cellinker                                                                                                                                                                                                                                                                                                                                                        \n",
       "29321 CellPhoneDB;CellTalkDB;Fantom5_LRdb;Guide2Pharma;Guide2Pharma_CellPhoneDB;Guide2Pharma_LRdb;Guide2Pharma_talklr;LRdb;Ramilowski2015;iTALK;scConnect;talklr                                                                                                                                                                                                       \n",
       "29331 CellChatDB-cofactors                                                                                                                                                                                                                                                                                                                                             \n",
       "29341 CellChatDB-cofactors                                                                                                                                                                                                                                                                                                                                             \n",
       "29351 CellChatDB-cofactors                                                                                                                                                                                                                                                                                                                                             \n",
       "29361 CellChatDB-cofactors                                                                                                                                                                                                                                                                                                                                             \n",
       "29371 CellChatDB-cofactors                                                                                                                                                                                                                                                                                                                                             \n",
       "29381 CellChatDB-cofactors                                                                                                                                                                                                                                                                                                                                             \n",
       "29391 Adhesome;Cellinker;Wang                                                                                                                                                                                                                                                                                                                                          \n",
       "      references                                                                                                                                                                                                                                                                                                                                                                                                                                                                                                                                                                                                                                                                                                                                                     \n",
       "1     AlzPathway:19026743;Baccin2019:10652313;Baccin2019:12194978;Baccin2019:1702392;CellTalkDB:10652313;HPRD:10652313;HPRD:12194978;LRdb:10652313;connectomeDB2020:10652313;connectomeDB2020:12194978;connectomeDB2020:1702392                                                                                                                                                                                                                                                                                                                                                                                                                                                                                                                                      \n",
       "2     CellTalkDB:32196115                                                                                                                                                                                                                                                                                                                                                                                                                                                                                                                                                                                                                                                                                                                                            \n",
       "3     CellTalkDB:32196115                                                                                                                                                                                                                                                                                                                                                                                                                                                                                                                                                                                                                                                                                                                                            \n",
       "4     CellTalkDB:32196115                                                                                                                                                                                                                                                                                                                                                                                                                                                                                                                                                                                                                                                                                                                                            \n",
       "5     NA                                                                                                                                                                                                                                                                                                                                                                                                                                                                                                                                                                                                                                                                                                                                                             \n",
       "6     connectomeDB2020:28913673                                                                                                                                                                                                                                                                                                                                                                                                                                                                                                                                                                                                                                                                                                                                      \n",
       "7     Baccin2019:10100920;Baccin2019:10583729;Baccin2019:11931347;Baccin2019:16930633;Baccin2019:8253796;Baccin2019:8703026;CellChatDB:21350482;CellTalkDB:10100920;Cellinker:10100920;Cellinker:10583729;Cellinker:11931347;Cellinker:12488235;Cellinker:16930633;Cellinker:21350482;Cellinker:8253796;Cellinker:8703026;DIP:17470806;Guide2Pharma:10583729;Guide2Pharma:11931347;Guide2Pharma:16930633;HPMR:10100920;HPRD:10583729;HPRD:8253796;LRdb:10100920;LRdb:10583729;LRdb:11931347;LRdb:16930633;LRdb:8253796;LRdb:8703026;SIGNOR:8703026;connectomeDB2020:10100920;connectomeDB2020:10583729;connectomeDB2020:11931347;connectomeDB2020:16930633;connectomeDB2020:8253796;connectomeDB2020:8703026;scConnect:10583729;scConnect:11931347;scConnect:16930633\n",
       "8     CellTalkDB:32196115                                                                                                                                                                                                                                                                                                                                                                                                                                                                                                                                                                                                                                                                                                                                            \n",
       "9     CellTalkDB:32196115                                                                                                                                                                                                                                                                                                                                                                                                                                                                                                                                                                                                                                                                                                                                            \n",
       "10    Cellinker:21314817                                                                                                                                                                                                                                                                                                                                                                                                                                                                                                                                                                                                                                                                                                                                             \n",
       "11    CellTalkDB:32196115                                                                                                                                                                                                                                                                                                                                                                                                                                                                                                                                                                                                                                                                                                                                            \n",
       "12    CellTalkDB:32196115                                                                                                                                                                                                                                                                                                                                                                                                                                                                                                                                                                                                                                                                                                                                            \n",
       "13    CellTalkDB:32196115                                                                                                                                                                                                                                                                                                                                                                                                                                                                                                                                                                                                                                                                                                                                            \n",
       "14    CellTalkDB:23745705                                                                                                                                                                                                                                                                                                                                                                                                                                                                                                                                                                                                                                                                                                                                            \n",
       "15    CellTalkDB:23745705                                                                                                                                                                                                                                                                                                                                                                                                                                                                                                                                                                                                                                                                                                                                            \n",
       "16    Baccin2019:1335692;CellTalkDB:1335692;HPRD:1335692;LRdb:1335692;connectomeDB2020:1335692                                                                                                                                                                                                                                                                                                                                                                                                                                                                                                                                                                                                                                                                       \n",
       "17    CellTalkDB:32196115                                                                                                                                                                                                                                                                                                                                                                                                                                                                                                                                                                                                                                                                                                                                            \n",
       "18    Baccin2019:11897681;Baccin2019:11931347;Baccin2019:12429744;Baccin2019:16930633;Baccin2019:8791009;Baccin2019:9928018;CellTalkDB:11897681;Cellinker:11897681;Cellinker:11931347;Cellinker:12429744;Cellinker:12488235;Cellinker:16930633;Cellinker:8791009;Cellinker:9928018;Guide2Pharma:11931347;Guide2Pharma:16930633;Guide2Pharma:8791009;Guide2Pharma:9928018;HPRD:12429744;LRdb:11897681;LRdb:11931347;LRdb:12429744;LRdb:16930633;LRdb:8791009;LRdb:9928018;SIGNOR:11897681;connectomeDB2020:11897681;connectomeDB2020:11931347;connectomeDB2020:12429744;connectomeDB2020:16930633;connectomeDB2020:8791009;connectomeDB2020:9928018;scConnect:11931347;scConnect:16930633;scConnect:8791009;scConnect:9928018                                         \n",
       "19    Baccin2019:11931347;Baccin2019:11978642;Baccin2019:16930633;Baccin2019:8146174;Baccin2019:9928018;CellTalkDB:9928018;Cellinker:11931347;Cellinker:11978642;Cellinker:12488235;Cellinker:16930633;Cellinker:8146174;Cellinker:9928018;Guide2Pharma:11931347;Guide2Pharma:11978642;Guide2Pharma:16930633;Guide2Pharma:9928018;HPRD:8146174;LRdb:11931347;LRdb:11978642;LRdb:16930633;LRdb:8146174;LRdb:9928018;connectomeDB2020:11931347;connectomeDB2020:11978642;connectomeDB2020:16930633;connectomeDB2020:8146174;connectomeDB2020:9928018;scConnect:11931347;scConnect:11978642;scConnect:16930633;scConnect:9928018                                                                                                                                        \n",
       "20    Baccin2019:12802337;CellChatDB:21284979;CellTalkDB:12802337;Cellinker:12802337;Cellinker:21284979;HPMR:12802337;LRdb:12802337;SIGNOR:16622416;connectomeDB2020:12802337                                                                                                                                                                                                                                                                                                                                                                                                                                                                                                                                                                                        \n",
       "21    Baccin2019:12802330;Baccin2019:12802337;CellChatDB:21284979;CellTalkDB:12802337;Cellinker:12802337;Cellinker:21284979;HPRD:12802337;LRdb:12802337;SIGNOR:12802337;SIGNOR:16622416;connectomeDB2020:12802337                                                                                                                                                                                                                                                                                                                                                                                                                                                                                                                                                    \n",
       "22    NA                                                                                                                                                                                                                                                                                                                                                                                                                                                                                                                                                                                                                                                                                                                                                             \n",
       "23    NA                                                                                                                                                                                                                                                                                                                                                                                                                                                                                                                                                                                                                                                                                                                                                             \n",
       "24    CellTalkDB:32103204                                                                                                                                                                                                                                                                                                                                                                                                                                                                                                                                                                                                                                                                                                                                            \n",
       "25    NA                                                                                                                                                                                                                                                                                                                                                                                                                                                                                                                                                                                                                                                                                                                                                             \n",
       "26    CellTalkDB:32103204                                                                                                                                                                                                                                                                                                                                                                                                                                                                                                                                                                                                                                                                                                                                            \n",
       "27    NA                                                                                                                                                                                                                                                                                                                                                                                                                                                                                                                                                                                                                                                                                                                                                             \n",
       "28    Cellinker:29637711                                                                                                                                                                                                                                                                                                                                                                                                                                                                                                                                                                                                                                                                                                                                             \n",
       "29    CellTalkDB:32196115                                                                                                                                                                                                                                                                                                                                                                                                                                                                                                                                                                                                                                                                                                                                            \n",
       "30    CellTalkDB:32196115                                                                                                                                                                                                                                                                                                                                                                                                                                                                                                                                                                                                                                                                                                                                            \n",
       "⋮     ⋮                                                                                                                                                                                                                                                                                                                                                                                                                                                                                                                                                                                                                                                                                                                                                              \n",
       "29101 Cellinker:19286885                                                                                                                                                                                                                                                                                                                                                                                                                                                                                                                                                                                                                                                                                                                                             \n",
       "29111 Cellinker:19286885                                                                                                                                                                                                                                                                                                                                                                                                                                                                                                                                                                                                                                                                                                                                             \n",
       "29121 Cellinker:19286885                                                                                                                                                                                                                                                                                                                                                                                                                                                                                                                                                                                                                                                                                                                                             \n",
       "29131 NA                                                                                                                                                                                                                                                                                                                                                                                                                                                                                                                                                                                                                                                                                                                                                             \n",
       "29141 NA                                                                                                                                                                                                                                                                                                                                                                                                                                                                                                                                                                                                                                                                                                                                                             \n",
       "29151 NA                                                                                                                                                                                                                                                                                                                                                                                                                                                                                                                                                                                                                                                                                                                                                             \n",
       "29161 NA                                                                                                                                                                                                                                                                                                                                                                                                                                                                                                                                                                                                                                                                                                                                                             \n",
       "29171 NA                                                                                                                                                                                                                                                                                                                                                                                                                                                                                                                                                                                                                                                                                                                                                             \n",
       "29181 NA                                                                                                                                                                                                                                                                                                                                                                                                                                                                                                                                                                                                                                                                                                                                                             \n",
       "29191 NA                                                                                                                                                                                                                                                                                                                                                                                                                                                                                                                                                                                                                                                                                                                                                             \n",
       "29201 NetPath:19755491                                                                                                                                                                                                                                                                                                                                                                                                                                                                                                                                                                                                                                                                                                                                               \n",
       "29211 NetPath:15555925;NetPath:19755491                                                                                                                                                                                                                                                                                                                                                                                                                                                                                                                                                                                                                                                                                                                              \n",
       "29221 NA                                                                                                                                                                                                                                                                                                                                                                                                                                                                                                                                                                                                                                                                                                                                                             \n",
       "29231 IntAct:22986341;IntAct:26342861;Lit-BM-17:22986341;Lit-BM-17:26342861;NetPath:19755491                                                                                                                                                                                                                                                                                                                                                                                                                                                                                                                                                                                                                                                                         \n",
       "29241 NA                                                                                                                                                                                                                                                                                                                                                                                                                                                                                                                                                                                                                                                                                                                                                             \n",
       "29251 SIGNOR:10201374;SignaLink3:10201374;SignaLink3:23331499                                                                                                                                                                                                                                                                                                                                                                                                                                                                                                                                                                                                                                                                                                        \n",
       "29261 NA                                                                                                                                                                                                                                                                                                                                                                                                                                                                                                                                                                                                                                                                                                                                                             \n",
       "29271 NetPath:19755491                                                                                                                                                                                                                                                                                                                                                                                                                                                                                                                                                                                                                                                                                                                                               \n",
       "29281 NA                                                                                                                                                                                                                                                                                                                                                                                                                                                                                                                                                                                                                                                                                                                                                             \n",
       "29291 Cellinker:18606138                                                                                                                                                                                                                                                                                                                                                                                                                                                                                                                                                                                                                                                                                                                                             \n",
       "29301 Cellinker:18606138                                                                                                                                                                                                                                                                                                                                                                                                                                                                                                                                                                                                                                                                                                                                             \n",
       "29311 Cellinker:18606138                                                                                                                                                                                                                                                                                                                                                                                                                                                                                                                                                                                                                                                                                                                                             \n",
       "29321 NA                                                                                                                                                                                                                                                                                                                                                                                                                                                                                                                                                                                                                                                                                                                                                             \n",
       "29331 NA                                                                                                                                                                                                                                                                                                                                                                                                                                                                                                                                                                                                                                                                                                                                                             \n",
       "29341 NA                                                                                                                                                                                                                                                                                                                                                                                                                                                                                                                                                                                                                                                                                                                                                             \n",
       "29351 NA                                                                                                                                                                                                                                                                                                                                                                                                                                                                                                                                                                                                                                                                                                                                                             \n",
       "29361 NA                                                                                                                                                                                                                                                                                                                                                                                                                                                                                                                                                                                                                                                                                                                                                             \n",
       "29371 NA                                                                                                                                                                                                                                                                                                                                                                                                                                                                                                                                                                                                                                                                                                                                                             \n",
       "29381 NA                                                                                                                                                                                                                                                                                                                                                                                                                                                                                                                                                                                                                                                                                                                                                             \n",
       "29391 Adhesome:15084601;Cellinker:15084601                                                                                                                                                                                                                                                                                                                                                                                                                                                                                                                                                                                                                                                                                                                           \n",
       "      curation_effort n_references n_resources annotation_strategy.y True_LR\n",
       "1     11              4            11          both                  TRUE   \n",
       "2      1              1             2          both                  TRUE   \n",
       "3      1              1             2          both                  TRUE   \n",
       "4      1              1             2          both                  TRUE   \n",
       "5      0              0             1          LR                    TRUE   \n",
       "6      1              1             1          both                  TRUE   \n",
       "7     39              9            19          both                  TRUE   \n",
       "8      1              1             2          both                  TRUE   \n",
       "9      1              1             2          both                  TRUE   \n",
       "10     1              1             3          both                  TRUE   \n",
       "11     1              1             2          both                  TRUE   \n",
       "12     1              1             2          both                  TRUE   \n",
       "13     1              1             2          both                  TRUE   \n",
       "14     1              1             2          both                  TRUE   \n",
       "15     1              1             2          both                  TRUE   \n",
       "16     5              1            10          both                  TRUE   \n",
       "17     1              1             3          both                  TRUE   \n",
       "18    36              7            15          both                  TRUE   \n",
       "19    31              6            14          both                  TRUE   \n",
       "20     9              3            15          both                  TRUE   \n",
       "21    11              4            15          both                  TRUE   \n",
       "22     0              0             2          LR                    TRUE   \n",
       "23     0              0             2          LR                    TRUE   \n",
       "24     1              1             3          both                  TRUE   \n",
       "25     0              0             2          LR                    TRUE   \n",
       "26     1              1             3          both                  TRUE   \n",
       "27     0              0             2          LR                    TRUE   \n",
       "28     1              1             1          both                  TRUE   \n",
       "29     1              1             2          both                  TRUE   \n",
       "30     1              1             2          both                  TRUE   \n",
       "⋮     ⋮               ⋮            ⋮           ⋮                     ⋮      \n",
       "29101 1               1            1           LR                    FALSE  \n",
       "29111 1               1            1           LR                    FALSE  \n",
       "29121 1               1            1           LR                    FALSE  \n",
       "29131 0               0            2           LR                    FALSE  \n",
       "29141 0               0            2           LR                    FALSE  \n",
       "29151 0               0            2           LR                    FALSE  \n",
       "29161 0               0            2           LR                    FALSE  \n",
       "29171 0               0            2           LR                    FALSE  \n",
       "29181 0               0            2           LR                    FALSE  \n",
       "29191 0               0            2           LR                    FALSE  \n",
       "29201 1               1            3           LR                    FALSE  \n",
       "29211 2               2            3           LR                    FALSE  \n",
       "29221 0               0            2           LR                    FALSE  \n",
       "29231 5               3            5           LR                    FALSE  \n",
       "29241 0               0            2           LR                    FALSE  \n",
       "29251 3               2            4           LR                    FALSE  \n",
       "29261 0               0            2           LR                    FALSE  \n",
       "29271 1               1            3           LR                    FALSE  \n",
       "29281 0               0            2           LR                    FALSE  \n",
       "29291 1               1            1           LR                    FALSE  \n",
       "29301 1               1            1           LR                    FALSE  \n",
       "29311 1               1            1           LR                    FALSE  \n",
       "29321 0               0            8           LR                    FALSE  \n",
       "29331 0               0            1           LR                    FALSE  \n",
       "29341 0               0            1           LR                    FALSE  \n",
       "29351 0               0            1           LR                    FALSE  \n",
       "29361 0               0            1           LR                    FALSE  \n",
       "29371 0               0            1           LR                    FALSE  \n",
       "29381 0               0            1           LR                    FALSE  \n",
       "29391 2               1            3           LR                    FALSE  "
      ]
     },
     "metadata": {},
     "output_type": "display_data"
    }
   ],
   "source": [
    "LR_database"
   ]
  },
  {
   "cell_type": "code",
   "execution_count": 413,
   "id": "8817a857",
   "metadata": {},
   "outputs": [],
   "source": [
    "write.csv(LR_database, \"LR_database.csv\", row.names=FALSE)"
   ]
  },
  {
   "cell_type": "code",
   "execution_count": 414,
   "id": "216c4931",
   "metadata": {},
   "outputs": [],
   "source": [
    "save(LR_database, file = \"LR_database.rda\")"
   ]
  },
  {
   "cell_type": "code",
   "execution_count": null,
   "id": "e2f22956",
   "metadata": {},
   "outputs": [],
   "source": []
  },
  {
   "cell_type": "code",
   "execution_count": null,
   "id": "8e7df16a",
   "metadata": {},
   "outputs": [],
   "source": []
  }
 ],
 "metadata": {
  "kernelspec": {
   "display_name": "R",
   "language": "R",
   "name": "ir"
  },
  "language_info": {
   "codemirror_mode": "r",
   "file_extension": ".r",
   "mimetype": "text/x-r-source",
   "name": "R",
   "pygments_lexer": "r",
   "version": "4.1.2"
  }
 },
 "nbformat": 4,
 "nbformat_minor": 5
}
