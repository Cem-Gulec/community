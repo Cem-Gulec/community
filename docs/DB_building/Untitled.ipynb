{
 "cells": [
  {
   "cell_type": "code",
   "execution_count": 2,
   "id": "eb6252c8",
   "metadata": {},
   "outputs": [
    {
     "name": "stderr",
     "output_type": "stream",
     "text": [
      "Loading required package: GenomicFeatures\n",
      "\n",
      "Loading required package: BiocGenerics\n",
      "\n",
      "\n",
      "Attaching package: ‘BiocGenerics’\n",
      "\n",
      "\n",
      "The following objects are masked from ‘package:stats’:\n",
      "\n",
      "    IQR, mad, sd, var, xtabs\n",
      "\n",
      "\n",
      "The following objects are masked from ‘package:base’:\n",
      "\n",
      "    anyDuplicated, append, as.data.frame, basename, cbind, colnames,\n",
      "    dirname, do.call, duplicated, eval, evalq, Filter, Find, get, grep,\n",
      "    grepl, intersect, is.unsorted, lapply, Map, mapply, match, mget,\n",
      "    order, paste, pmax, pmax.int, pmin, pmin.int, Position, rank,\n",
      "    rbind, Reduce, rownames, sapply, setdiff, sort, table, tapply,\n",
      "    union, unique, unsplit, which.max, which.min\n",
      "\n",
      "\n",
      "Loading required package: S4Vectors\n",
      "\n",
      "Loading required package: stats4\n",
      "\n",
      "\n",
      "Attaching package: ‘S4Vectors’\n",
      "\n",
      "\n",
      "The following objects are masked from ‘package:base’:\n",
      "\n",
      "    expand.grid, I, unname\n",
      "\n",
      "\n",
      "Loading required package: IRanges\n",
      "\n",
      "Loading required package: GenomeInfoDb\n",
      "\n",
      "Loading required package: GenomicRanges\n",
      "\n",
      "Loading required package: AnnotationDbi\n",
      "\n",
      "Loading required package: Biobase\n",
      "\n",
      "Welcome to Bioconductor\n",
      "\n",
      "    Vignettes contain introductory material; view with\n",
      "    'browseVignettes()'. To cite Bioconductor, see\n",
      "    'citation(\"Biobase\")', and for packages 'citation(\"pkgname\")'.\n",
      "\n",
      "\n"
     ]
    }
   ],
   "source": [
    "library(community)\n",
    "library(stringr)\n",
    "library(mygene)\n",
    "library(OmnipathR)"
   ]
  },
  {
   "cell_type": "code",
   "execution_count": 3,
   "id": "a579665f",
   "metadata": {},
   "outputs": [
    {
     "name": "stdout",
     "output_type": "stream",
     "text": [
      "[1] \"Number of PPI network interactions found\"\n"
     ]
    },
    {
     "data": {
      "text/html": [
       "1262"
      ],
      "text/latex": [
       "1262"
      ],
      "text/markdown": [
       "1262"
      ],
      "text/plain": [
       "[1] 1262"
      ]
     },
     "metadata": {},
     "output_type": "display_data"
    }
   ],
   "source": [
    "# Example usage\n",
    "non_curated <- import_db(\"noncurated\")\n",
    "pairwise_pairs <- create_pairwise_pairs(non_curated)\n",
    "pt_interactions <- filter_pairs_with_ppi(pairwise_pairs)\n",
    "print(\"Number of PPI network interactions found\")\n",
    "nrow(pt_interactions)\n",
    "\n",
    "# complete_data <- process_single_components(non_curated, pt_interactions)\n",
    "# complete_data <- map_gene_data(complete_data)\n",
    "# annotation <- annotate_components(complete_data)\n",
    "# true_LR_DB <- process_lr_db(complete_data, annotation)\n",
    "# adhesive_DB <- process_adhesive_DB(complete, annotation, ligand_list, receptor_list)"
   ]
  },
  {
   "cell_type": "code",
   "execution_count": 7,
   "id": "36162262",
   "metadata": {},
   "outputs": [],
   "source": [
    "il2 <- pairwise_pairs[pairwise_pairs$complex_pair==\"IL2_IL2RA_IL2RB_IL2RG\",]"
   ]
  },
  {
   "cell_type": "code",
   "execution_count": 10,
   "id": "85f7b21e",
   "metadata": {},
   "outputs": [],
   "source": [
    "il2 <- il2[, c(\"Pair.Name\",\"complex_pair\")]"
   ]
  },
  {
   "cell_type": "code",
   "execution_count": 12,
   "id": "25ce3a5b",
   "metadata": {},
   "outputs": [],
   "source": [
    "rownames(il2) <- NULL"
   ]
  },
  {
   "cell_type": "code",
   "execution_count": 13,
   "id": "32fc76c1",
   "metadata": {},
   "outputs": [
    {
     "data": {
      "text/html": [
       "<table class=\"dataframe\">\n",
       "<caption>A data.frame: 12 × 2</caption>\n",
       "<thead>\n",
       "\t<tr><th scope=col>Pair.Name</th><th scope=col>complex_pair</th></tr>\n",
       "\t<tr><th scope=col>&lt;chr&gt;</th><th scope=col>&lt;chr&gt;</th></tr>\n",
       "</thead>\n",
       "<tbody>\n",
       "\t<tr><td>IL2_IL2RA  </td><td>IL2_IL2RA_IL2RB_IL2RG</td></tr>\n",
       "\t<tr><td>IL2_IL2RB  </td><td>IL2_IL2RA_IL2RB_IL2RG</td></tr>\n",
       "\t<tr><td>IL2_IL2RG  </td><td>IL2_IL2RA_IL2RB_IL2RG</td></tr>\n",
       "\t<tr><td>IL2RA_IL2RB</td><td>IL2_IL2RA_IL2RB_IL2RG</td></tr>\n",
       "\t<tr><td>IL2RA_IL2RG</td><td>IL2_IL2RA_IL2RB_IL2RG</td></tr>\n",
       "\t<tr><td>IL2RB_IL2RG</td><td>IL2_IL2RA_IL2RB_IL2RG</td></tr>\n",
       "\t<tr><td>IL2RA_IL2  </td><td>IL2_IL2RA_IL2RB_IL2RG</td></tr>\n",
       "\t<tr><td>IL2RB_IL2  </td><td>IL2_IL2RA_IL2RB_IL2RG</td></tr>\n",
       "\t<tr><td>IL2RG_IL2  </td><td>IL2_IL2RA_IL2RB_IL2RG</td></tr>\n",
       "\t<tr><td>IL2RB_IL2RA</td><td>IL2_IL2RA_IL2RB_IL2RG</td></tr>\n",
       "\t<tr><td>IL2RG_IL2RA</td><td>IL2_IL2RA_IL2RB_IL2RG</td></tr>\n",
       "\t<tr><td>IL2RG_IL2RB</td><td>IL2_IL2RA_IL2RB_IL2RG</td></tr>\n",
       "</tbody>\n",
       "</table>\n"
      ],
      "text/latex": [
       "A data.frame: 12 × 2\n",
       "\\begin{tabular}{ll}\n",
       " Pair.Name & complex\\_pair\\\\\n",
       " <chr> & <chr>\\\\\n",
       "\\hline\n",
       "\t IL2\\_IL2RA   & IL2\\_IL2RA\\_IL2RB\\_IL2RG\\\\\n",
       "\t IL2\\_IL2RB   & IL2\\_IL2RA\\_IL2RB\\_IL2RG\\\\\n",
       "\t IL2\\_IL2RG   & IL2\\_IL2RA\\_IL2RB\\_IL2RG\\\\\n",
       "\t IL2RA\\_IL2RB & IL2\\_IL2RA\\_IL2RB\\_IL2RG\\\\\n",
       "\t IL2RA\\_IL2RG & IL2\\_IL2RA\\_IL2RB\\_IL2RG\\\\\n",
       "\t IL2RB\\_IL2RG & IL2\\_IL2RA\\_IL2RB\\_IL2RG\\\\\n",
       "\t IL2RA\\_IL2   & IL2\\_IL2RA\\_IL2RB\\_IL2RG\\\\\n",
       "\t IL2RB\\_IL2   & IL2\\_IL2RA\\_IL2RB\\_IL2RG\\\\\n",
       "\t IL2RG\\_IL2   & IL2\\_IL2RA\\_IL2RB\\_IL2RG\\\\\n",
       "\t IL2RB\\_IL2RA & IL2\\_IL2RA\\_IL2RB\\_IL2RG\\\\\n",
       "\t IL2RG\\_IL2RA & IL2\\_IL2RA\\_IL2RB\\_IL2RG\\\\\n",
       "\t IL2RG\\_IL2RB & IL2\\_IL2RA\\_IL2RB\\_IL2RG\\\\\n",
       "\\end{tabular}\n"
      ],
      "text/markdown": [
       "\n",
       "A data.frame: 12 × 2\n",
       "\n",
       "| Pair.Name &lt;chr&gt; | complex_pair &lt;chr&gt; |\n",
       "|---|---|\n",
       "| IL2_IL2RA   | IL2_IL2RA_IL2RB_IL2RG |\n",
       "| IL2_IL2RB   | IL2_IL2RA_IL2RB_IL2RG |\n",
       "| IL2_IL2RG   | IL2_IL2RA_IL2RB_IL2RG |\n",
       "| IL2RA_IL2RB | IL2_IL2RA_IL2RB_IL2RG |\n",
       "| IL2RA_IL2RG | IL2_IL2RA_IL2RB_IL2RG |\n",
       "| IL2RB_IL2RG | IL2_IL2RA_IL2RB_IL2RG |\n",
       "| IL2RA_IL2   | IL2_IL2RA_IL2RB_IL2RG |\n",
       "| IL2RB_IL2   | IL2_IL2RA_IL2RB_IL2RG |\n",
       "| IL2RG_IL2   | IL2_IL2RA_IL2RB_IL2RG |\n",
       "| IL2RB_IL2RA | IL2_IL2RA_IL2RB_IL2RG |\n",
       "| IL2RG_IL2RA | IL2_IL2RA_IL2RB_IL2RG |\n",
       "| IL2RG_IL2RB | IL2_IL2RA_IL2RB_IL2RG |\n",
       "\n"
      ],
      "text/plain": [
       "   Pair.Name   complex_pair         \n",
       "1  IL2_IL2RA   IL2_IL2RA_IL2RB_IL2RG\n",
       "2  IL2_IL2RB   IL2_IL2RA_IL2RB_IL2RG\n",
       "3  IL2_IL2RG   IL2_IL2RA_IL2RB_IL2RG\n",
       "4  IL2RA_IL2RB IL2_IL2RA_IL2RB_IL2RG\n",
       "5  IL2RA_IL2RG IL2_IL2RA_IL2RB_IL2RG\n",
       "6  IL2RB_IL2RG IL2_IL2RA_IL2RB_IL2RG\n",
       "7  IL2RA_IL2   IL2_IL2RA_IL2RB_IL2RG\n",
       "8  IL2RB_IL2   IL2_IL2RA_IL2RB_IL2RG\n",
       "9  IL2RG_IL2   IL2_IL2RA_IL2RB_IL2RG\n",
       "10 IL2RB_IL2RA IL2_IL2RA_IL2RB_IL2RG\n",
       "11 IL2RG_IL2RA IL2_IL2RA_IL2RB_IL2RG\n",
       "12 IL2RG_IL2RB IL2_IL2RA_IL2RB_IL2RG"
      ]
     },
     "metadata": {},
     "output_type": "display_data"
    }
   ],
   "source": [
    "il2"
   ]
  },
  {
   "cell_type": "code",
   "execution_count": 3,
   "id": "54079863",
   "metadata": {},
   "outputs": [
    {
     "name": "stdout",
     "output_type": "stream",
     "text": [
      "[1] \"Number of pairs found\"\n",
      "[1] \"Number of PPI network interactions found\"\n"
     ]
    },
    {
     "data": {
      "text/html": [
       "1262"
      ],
      "text/latex": [
       "1262"
      ],
      "text/markdown": [
       "1262"
      ],
      "text/plain": [
       "[1] 1262"
      ]
     },
     "metadata": {},
     "output_type": "display_data"
    },
    {
     "name": "stderr",
     "output_type": "stream",
     "text": [
      "Warning message in map_gene_data(complete_data):\n",
      "“If this function fails, it may be due to internet connectivity issues. Try running it again.”\n",
      "Querying chunk 1\n",
      "\n",
      "Querying chunk 2\n",
      "\n",
      "Querying chunk 3\n",
      "\n"
     ]
    },
    {
     "name": "stdout",
     "output_type": "stream",
     "text": [
      "Finished\n",
      "Pass returnall=TRUE to return lists of duplicate or missing query terms.\n"
     ]
    }
   ],
   "source": [
    "# Example usage\n",
    "non_curated <- import_db(\"both\")\n",
    "pairwise_pairs <- create_pairwise_pairs(non_curated)\n",
    "pt_interactions <- filter_pairs_with_ppi(pairwise_pairs)\n",
    "print(\"Number of PPI network interactions found\")\n",
    "nrow(pt_interactions)\n",
    "\n",
    "complete_data <- process_single_components(non_curated, pt_interactions)\n",
    "complete_data <- map_gene_data(complete_data)\n",
    "annotation <- annotate_components(complete_data)"
   ]
  },
  {
   "cell_type": "code",
   "execution_count": 7,
   "id": "efb0e0da",
   "metadata": {},
   "outputs": [
    {
     "data": {
      "text/html": [
       "<style>\n",
       ".list-inline {list-style: none; margin:0; padding: 0}\n",
       ".list-inline>li {display: inline-block}\n",
       ".list-inline>li:not(:last-child)::after {content: \"\\00b7\"; padding: 0 .5ex}\n",
       "</style>\n",
       "<ol class=list-inline><li>'intracellular'</li><li>'ligand'</li><li>'receptor'</li><li>'transmembrane'</li><li>'plasma_membrane'</li><li>'cell_surface'</li><li>'cell_adhesion'</li><li>'ion_channel'</li><li>'ecm_regulator'</li><li>'gap_junction'</li><li>'ligand_regulator'</li></ol>\n"
      ],
      "text/latex": [
       "\\begin{enumerate*}\n",
       "\\item 'intracellular'\n",
       "\\item 'ligand'\n",
       "\\item 'receptor'\n",
       "\\item 'transmembrane'\n",
       "\\item 'plasma\\_membrane'\n",
       "\\item 'cell\\_surface'\n",
       "\\item 'cell\\_adhesion'\n",
       "\\item 'ion\\_channel'\n",
       "\\item 'ecm\\_regulator'\n",
       "\\item 'gap\\_junction'\n",
       "\\item 'ligand\\_regulator'\n",
       "\\end{enumerate*}\n"
      ],
      "text/markdown": [
       "1. 'intracellular'\n",
       "2. 'ligand'\n",
       "3. 'receptor'\n",
       "4. 'transmembrane'\n",
       "5. 'plasma_membrane'\n",
       "6. 'cell_surface'\n",
       "7. 'cell_adhesion'\n",
       "8. 'ion_channel'\n",
       "9. 'ecm_regulator'\n",
       "10. 'gap_junction'\n",
       "11. 'ligand_regulator'\n",
       "\n",
       "\n"
      ],
      "text/plain": [
       " [1] \"intracellular\"    \"ligand\"           \"receptor\"         \"transmembrane\"   \n",
       " [5] \"plasma_membrane\"  \"cell_surface\"     \"cell_adhesion\"    \"ion_channel\"     \n",
       " [9] \"ecm_regulator\"    \"gap_junction\"     \"ligand_regulator\""
      ]
     },
     "metadata": {},
     "output_type": "display_data"
    }
   ],
   "source": [
    "unique(annotation$parent)"
   ]
  },
  {
   "cell_type": "code",
   "execution_count": null,
   "id": "2759061a",
   "metadata": {},
   "outputs": [],
   "source": []
  }
 ],
 "metadata": {
  "kernelspec": {
   "display_name": "R",
   "language": "R",
   "name": "ir"
  },
  "language_info": {
   "codemirror_mode": "r",
   "file_extension": ".r",
   "mimetype": "text/x-r-source",
   "name": "R",
   "pygments_lexer": "r",
   "version": "4.1.2"
  }
 },
 "nbformat": 4,
 "nbformat_minor": 5
}
