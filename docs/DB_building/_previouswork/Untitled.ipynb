{
 "cells": [
  {
   "cell_type": "code",
   "execution_count": 1,
   "id": "43d29436",
   "metadata": {},
   "outputs": [
    {
     "name": "stderr",
     "output_type": "stream",
     "text": [
      "── \u001b[1mAttaching packages\u001b[22m ─────────────────────────────────────── tidyverse 1.3.2 ──\n",
      "\u001b[32m✔\u001b[39m \u001b[34mggplot2\u001b[39m 3.4.4      \u001b[32m✔\u001b[39m \u001b[34mpurrr  \u001b[39m 0.3.5 \n",
      "\u001b[32m✔\u001b[39m \u001b[34mtibble \u001b[39m 3.2.1      \u001b[32m✔\u001b[39m \u001b[34mdplyr  \u001b[39m 1.0.10\n",
      "\u001b[32m✔\u001b[39m \u001b[34mtidyr  \u001b[39m 1.2.1      \u001b[32m✔\u001b[39m \u001b[34mstringr\u001b[39m 1.5.1 \n",
      "\u001b[32m✔\u001b[39m \u001b[34mreadr  \u001b[39m 2.1.3      \u001b[32m✔\u001b[39m \u001b[34mforcats\u001b[39m 0.5.2 \n",
      "── \u001b[1mConflicts\u001b[22m ────────────────────────────────────────── tidyverse_conflicts() ──\n",
      "\u001b[31m✖\u001b[39m \u001b[34mdplyr\u001b[39m::\u001b[32mfilter()\u001b[39m masks \u001b[34mstats\u001b[39m::filter()\n",
      "\u001b[31m✖\u001b[39m \u001b[34mdplyr\u001b[39m::\u001b[32mlag()\u001b[39m    masks \u001b[34mstats\u001b[39m::lag()\n",
      "Loading required package: grid\n",
      "\n",
      "Loading required package: futile.logger\n",
      "\n"
     ]
    }
   ],
   "source": [
    "library(OmnipathR)\n",
    "# library(nichenetr)\n",
    "library(tidyverse)\n",
    "library(dplyr)\n",
    "library(VennDiagram)\n",
    "library(ggplot2)\n",
    "library(utils)\n",
    "library(glue)\n"
   ]
  },
  {
   "cell_type": "markdown",
   "id": "91e08ab9",
   "metadata": {},
   "source": [
    "```import_ligrecextra_interactions```\n",
    "\n",
    "link: to documentation <https://r.omnipathdb.org/reference/import_ligrecextra_interactions.html>\n",
    "\n",
    "This LR dataset contains ligand-receptor interactions without literature reference. The ligand-receptor interactions supported by literature references are part of the `omnipath` dataset.\n",
    "\n",
    "\n",
    "Default params(without filtering resources) have 8350 edges. The table includes columns as follows. \n",
    "\n",
    "'source' 'target' 'source_genesymbol' 'target_genesymbol' 'is_directed' 'is_stimulation' 'is_inhibition' 'consensus_direction' 'consensus_stimulation' 'consensus_inhibition' 'sources' 'references' 'curation_effort' 'n_references' 'n_resources'\n",
    "\n",
    "**The consensus score is if resources support the classification of an entity into a category based on combined information of many resources.**\n",
    "\n",
    "| sources                                                         | ref | cur_effort | n_ref | n_source |\n",
    "|-----------------------------------------------------------------|-----|------------|-------|----------|\n",
    "|      Baccin2019;CellCall;PhosphoPoint;Ramilowski2015_Baccin2019 | NA  | 0          | 0     | 3        |\n",
    "| Baccin2019;CellCall;PhosphoPoint;Ramilowski2015_Baccin2019;Wang | NA  | 0          | 0     | 4        |\n",
    "|                                                                 |     |            |       |          |\n",
    "\n",
    "```curated_ligand_receptor_interactions```\n",
    "\n",
    "expert curated ligand-receptor resources, provided by this function\n",
    "\n",
    "\n"
   ]
  },
  {
   "cell_type": "markdown",
   "id": "417ca22c",
   "metadata": {},
   "source": [
    "# change LR to non-curated"
   ]
  },
  {
   "cell_type": "code",
   "execution_count": 2,
   "id": "6dc9123a",
   "metadata": {},
   "outputs": [],
   "source": [
    "# https://r.omnipathdb.org/reference/curated_ligand_receptor_interactions.html\n",
    "# curated=curated_ligand_receptor_interactions()\n",
    "non_curated <- import_ligrecextra_interactions()\n",
    "non_curated <- non_curated %>% filter(!duplicated(non_curated[, c(\"source_genesymbol\", \"target_genesymbol\")]))\n",
    "non_curated$pair <- paste(non_curated$source_genesymbol, non_curated$target_genesymbol,sep=\"_\")\n",
    "non_curated$annotation_strategy <- \"LR\"\n",
    "\n",
    "\n",
    "curated <- curated_ligand_receptor_interactions()\n",
    "curated <- curated %>% filter(!duplicated(curated[, c(\"source_genesymbol\", \"target_genesymbol\")]))\n",
    "curated$pair <- paste(curated$source_genesymbol, curated$target_genesymbol,sep=\"_\")\n",
    "curated$annotation_strategy <- \"curated\""
   ]
  },
  {
   "cell_type": "code",
   "execution_count": 3,
   "id": "fa17f613",
   "metadata": {},
   "outputs": [],
   "source": [
    "# if pair is also in curatedDB, annotation_strategy should be both\n",
    "non_curated <- non_curated %>%\n",
    "      mutate(annotation_strategy = ifelse(pair %in% curated$pair, \"both\", annotation_strategy))"
   ]
  },
  {
   "cell_type": "code",
   "execution_count": 4,
   "id": "e4c8f1f5",
   "metadata": {},
   "outputs": [],
   "source": [
    "both_db <- rbind(non_curated,curated)\n",
    "both_db <- both_db[!duplicated(both_db$pair), ]"
   ]
  },
  {
   "cell_type": "code",
   "execution_count": 5,
   "id": "82552d38",
   "metadata": {},
   "outputs": [
    {
     "data": {
      "text/plain": [
       "\n",
       "   both curated      LR \n",
       "   4955     102    3278 "
      ]
     },
     "metadata": {},
     "output_type": "display_data"
    }
   ],
   "source": [
    "table(both_db$annotation_strategy)"
   ]
  },
  {
   "cell_type": "code",
   "execution_count": 6,
   "id": "b5085b49",
   "metadata": {},
   "outputs": [],
   "source": [
    "anno_raw <- import_omnipath_intercell()\n",
    "#subset annotation DB to only ligand and receptors\n",
    "anno_lig <- anno_raw %>%\n",
    "    dplyr::filter(category %in% c(\"receptor\",\"ligand\"))\n",
    "# Drop rows where the values in the \"parent\", \"database\", and \"uniprot\" columns are duplicated\n",
    "anno_raw <- anno_raw %>% filter(!duplicated(anno_raw[, c(\"parent\", \"database\", \"uniprot\")]))"
   ]
  },
  {
   "cell_type": "markdown",
   "id": "6f1fe64a",
   "metadata": {},
   "source": [
    "# Breaking down complexes"
   ]
  },
  {
   "cell_type": "markdown",
   "id": "d2bfff94",
   "metadata": {},
   "source": [
    "Below, we produce all the the possible pairs. \n",
    "\n",
    "Example: lets assume complex G1_G2_G3 is linked to another complex G4_G5_G6\n",
    "\n",
    "| c1 | c2 | complex_origin    |\n",
    "|----|----|-------------------|\n",
    "| G1 | G2 | G1_G2_G3_G4_G5_G6 |\n",
    "| G1 | G3 | G1_G2_G3_G4_G5_G6 |\n",
    "| G1 | G4 | G1_G2_G3_G4_G5_G6 |\n",
    "| G1 | G5 | G1_G2_G3_G4_G5_G6 |\n",
    "| G1 | G6 | G1_G2_G3_G4_G5_G6 |\n",
    "| G2 | G1 | G1_G2_G3_G4_G5_G6 |\n",
    "| G2 | G3 | G1_G2_G3_G4_G5_G6 |\n",
    "| .. | .. | G1_G2_G3_G4_G5_G6 |"
   ]
  },
  {
   "cell_type": "code",
   "execution_count": 7,
   "id": "640f3e38",
   "metadata": {},
   "outputs": [],
   "source": [
    "# Function to generate pairwise pairs from a complex data frame\n",
    "create_pairwise_pairs <- function(complex) {\n",
    "    results <- data.frame() # Initialize an empty data frame to store results\n",
    "\n",
    "    # Loop through each row of the complex data frame\n",
    "    for (i in 1:nrow(complex)) {\n",
    "        # Split the source and target gene symbols and store as separate variables\n",
    "        values1 <- unlist(strsplit(as.character(complex[i, \"source_genesymbol\"]), \"_\"))\n",
    "        values2 <- unlist(strsplit(as.character(complex[i, \"target_genesymbol\"]), \"_\"))\n",
    "\n",
    "        # Store the original pair as a string\n",
    "        original <- paste(complex[i, \"source_genesymbol\"], complex[i, \"target_genesymbol\"], sep = \"_\")\n",
    "\n",
    "        # Generate all possible pairwise combinations\n",
    "        pairs <- combn(c(values1, values2), 2)\n",
    "        pairs <- t(pairs) # Transpose the matrix to get pairs in rows\n",
    "\n",
    "        # Switch values in columns and append to pairs\n",
    "        pairs <- rbind(pairs, pairs[, 2:1])\n",
    "        \n",
    "        # Add the original complex pair as a new column\n",
    "        pairs <- cbind(pairs, original)\n",
    "\n",
    "        # Set column names for the pairs data frame\n",
    "        colnames(pairs) <- c(\"Ligand\", \"Receptor\", \"complex_pair\")\n",
    "\n",
    "        # Append the current row of the complex data frame to the pairs\n",
    "        pairs <- cbind(pairs, complex[i,])\n",
    "\n",
    "        # Bind the pairs data frame to the results\n",
    "        results <- rbind(results, pairs)\n",
    "    }\n",
    "\n",
    "    # Create a new Pair.Name column and position it as the first column\n",
    "    results$Pair.Name <- paste(results$Ligand, results$Receptor, sep = \"_\")\n",
    "    results <- data.frame(Pair.Name = results$Pair.Name, results[, !(names(results) %in% \"Pair.Name\")])\n",
    "\n",
    "    # Return the final results data frame\n",
    "    return(results)\n",
    "}\n"
   ]
  },
  {
   "cell_type": "code",
   "execution_count": 8,
   "id": "c45d02f5",
   "metadata": {},
   "outputs": [],
   "source": [
    "complex <- filter(both_db, grepl(\"COMPLEX\", target) | grepl(\"COMPLEX\", source))"
   ]
  },
  {
   "cell_type": "code",
   "execution_count": 9,
   "id": "bbb8a933",
   "metadata": {},
   "outputs": [],
   "source": [
    "# remove pair column\n",
    "complex$pair <- NULL"
   ]
  },
  {
   "cell_type": "code",
   "execution_count": 10,
   "id": "6ba85040",
   "metadata": {},
   "outputs": [],
   "source": [
    "pairwise_pairs <- create_pairwise_pairs(complex)"
   ]
  },
  {
   "cell_type": "code",
   "execution_count": 11,
   "id": "de3180bd",
   "metadata": {},
   "outputs": [
    {
     "data": {
      "text/html": [
       "3272"
      ],
      "text/latex": [
       "3272"
      ],
      "text/markdown": [
       "3272"
      ],
      "text/plain": [
       "[1] 3272"
      ]
     },
     "metadata": {},
     "output_type": "display_data"
    }
   ],
   "source": [
    "length(unique(pairwise_pairs$Pair.Name))"
   ]
  },
  {
   "cell_type": "code",
   "execution_count": 12,
   "id": "39adf5d0",
   "metadata": {},
   "outputs": [
    {
     "data": {
      "text/html": [
       "<table class=\"dataframe\">\n",
       "<caption>A data.frame: 6 × 20</caption>\n",
       "<thead>\n",
       "\t<tr><th scope=col>Pair.Name</th><th scope=col>Ligand</th><th scope=col>Receptor</th><th scope=col>complex_pair</th><th scope=col>source</th><th scope=col>target</th><th scope=col>source_genesymbol</th><th scope=col>target_genesymbol</th><th scope=col>is_directed</th><th scope=col>is_stimulation</th><th scope=col>is_inhibition</th><th scope=col>consensus_direction</th><th scope=col>consensus_stimulation</th><th scope=col>consensus_inhibition</th><th scope=col>sources</th><th scope=col>references</th><th scope=col>curation_effort</th><th scope=col>n_references</th><th scope=col>n_resources</th><th scope=col>annotation_strategy</th></tr>\n",
       "\t<tr><th scope=col>&lt;chr&gt;</th><th scope=col>&lt;chr&gt;</th><th scope=col>&lt;chr&gt;</th><th scope=col>&lt;chr&gt;</th><th scope=col>&lt;chr&gt;</th><th scope=col>&lt;chr&gt;</th><th scope=col>&lt;chr&gt;</th><th scope=col>&lt;chr&gt;</th><th scope=col>&lt;dbl&gt;</th><th scope=col>&lt;dbl&gt;</th><th scope=col>&lt;dbl&gt;</th><th scope=col>&lt;dbl&gt;</th><th scope=col>&lt;dbl&gt;</th><th scope=col>&lt;dbl&gt;</th><th scope=col>&lt;chr&gt;</th><th scope=col>&lt;chr&gt;</th><th scope=col>&lt;dbl&gt;</th><th scope=col>&lt;dbl&gt;</th><th scope=col>&lt;int&gt;</th><th scope=col>&lt;chr&gt;</th></tr>\n",
       "</thead>\n",
       "<tbody>\n",
       "\t<tr><td>IL17A_IL17RA </td><td>IL17A </td><td>IL17RA</td><td>IL17A_IL17RA_IL17RC</td><td>Q16552</td><td>COMPLEX:Q8NAC3_Q96F46</td><td>IL17A</td><td>IL17RA_IL17RC</td><td>1</td><td>1</td><td>0</td><td>1</td><td>1</td><td>0</td><td>CellChatDB;CellPhoneDB;Cellinker;ICELLNET;SIGNOR</td><td>Cellinker:19838198;Cellinker:25204502;Cellinker:9367539;ICELLNET:24011563;SIGNOR:32024054</td><td>5</td><td>5</td><td>5</td><td>both</td></tr>\n",
       "\t<tr><td>IL17A_IL17RC </td><td>IL17A </td><td>IL17RC</td><td>IL17A_IL17RA_IL17RC</td><td>Q16552</td><td>COMPLEX:Q8NAC3_Q96F46</td><td>IL17A</td><td>IL17RA_IL17RC</td><td>1</td><td>1</td><td>0</td><td>1</td><td>1</td><td>0</td><td>CellChatDB;CellPhoneDB;Cellinker;ICELLNET;SIGNOR</td><td>Cellinker:19838198;Cellinker:25204502;Cellinker:9367539;ICELLNET:24011563;SIGNOR:32024054</td><td>5</td><td>5</td><td>5</td><td>both</td></tr>\n",
       "\t<tr><td>IL17RA_IL17RC</td><td>IL17RA</td><td>IL17RC</td><td>IL17A_IL17RA_IL17RC</td><td>Q16552</td><td>COMPLEX:Q8NAC3_Q96F46</td><td>IL17A</td><td>IL17RA_IL17RC</td><td>1</td><td>1</td><td>0</td><td>1</td><td>1</td><td>0</td><td>CellChatDB;CellPhoneDB;Cellinker;ICELLNET;SIGNOR</td><td>Cellinker:19838198;Cellinker:25204502;Cellinker:9367539;ICELLNET:24011563;SIGNOR:32024054</td><td>5</td><td>5</td><td>5</td><td>both</td></tr>\n",
       "\t<tr><td>IL17RA_IL17A </td><td>IL17RA</td><td>IL17A </td><td>IL17A_IL17RA_IL17RC</td><td>Q16552</td><td>COMPLEX:Q8NAC3_Q96F46</td><td>IL17A</td><td>IL17RA_IL17RC</td><td>1</td><td>1</td><td>0</td><td>1</td><td>1</td><td>0</td><td>CellChatDB;CellPhoneDB;Cellinker;ICELLNET;SIGNOR</td><td>Cellinker:19838198;Cellinker:25204502;Cellinker:9367539;ICELLNET:24011563;SIGNOR:32024054</td><td>5</td><td>5</td><td>5</td><td>both</td></tr>\n",
       "\t<tr><td>IL17RC_IL17A </td><td>IL17RC</td><td>IL17A </td><td>IL17A_IL17RA_IL17RC</td><td>Q16552</td><td>COMPLEX:Q8NAC3_Q96F46</td><td>IL17A</td><td>IL17RA_IL17RC</td><td>1</td><td>1</td><td>0</td><td>1</td><td>1</td><td>0</td><td>CellChatDB;CellPhoneDB;Cellinker;ICELLNET;SIGNOR</td><td>Cellinker:19838198;Cellinker:25204502;Cellinker:9367539;ICELLNET:24011563;SIGNOR:32024054</td><td>5</td><td>5</td><td>5</td><td>both</td></tr>\n",
       "\t<tr><td>IL17RC_IL17RA</td><td>IL17RC</td><td>IL17RA</td><td>IL17A_IL17RA_IL17RC</td><td>Q16552</td><td>COMPLEX:Q8NAC3_Q96F46</td><td>IL17A</td><td>IL17RA_IL17RC</td><td>1</td><td>1</td><td>0</td><td>1</td><td>1</td><td>0</td><td>CellChatDB;CellPhoneDB;Cellinker;ICELLNET;SIGNOR</td><td>Cellinker:19838198;Cellinker:25204502;Cellinker:9367539;ICELLNET:24011563;SIGNOR:32024054</td><td>5</td><td>5</td><td>5</td><td>both</td></tr>\n",
       "</tbody>\n",
       "</table>\n"
      ],
      "text/latex": [
       "A data.frame: 6 × 20\n",
       "\\begin{tabular}{llllllllllllllllllll}\n",
       " Pair.Name & Ligand & Receptor & complex\\_pair & source & target & source\\_genesymbol & target\\_genesymbol & is\\_directed & is\\_stimulation & is\\_inhibition & consensus\\_direction & consensus\\_stimulation & consensus\\_inhibition & sources & references & curation\\_effort & n\\_references & n\\_resources & annotation\\_strategy\\\\\n",
       " <chr> & <chr> & <chr> & <chr> & <chr> & <chr> & <chr> & <chr> & <dbl> & <dbl> & <dbl> & <dbl> & <dbl> & <dbl> & <chr> & <chr> & <dbl> & <dbl> & <int> & <chr>\\\\\n",
       "\\hline\n",
       "\t IL17A\\_IL17RA  & IL17A  & IL17RA & IL17A\\_IL17RA\\_IL17RC & Q16552 & COMPLEX:Q8NAC3\\_Q96F46 & IL17A & IL17RA\\_IL17RC & 1 & 1 & 0 & 1 & 1 & 0 & CellChatDB;CellPhoneDB;Cellinker;ICELLNET;SIGNOR & Cellinker:19838198;Cellinker:25204502;Cellinker:9367539;ICELLNET:24011563;SIGNOR:32024054 & 5 & 5 & 5 & both\\\\\n",
       "\t IL17A\\_IL17RC  & IL17A  & IL17RC & IL17A\\_IL17RA\\_IL17RC & Q16552 & COMPLEX:Q8NAC3\\_Q96F46 & IL17A & IL17RA\\_IL17RC & 1 & 1 & 0 & 1 & 1 & 0 & CellChatDB;CellPhoneDB;Cellinker;ICELLNET;SIGNOR & Cellinker:19838198;Cellinker:25204502;Cellinker:9367539;ICELLNET:24011563;SIGNOR:32024054 & 5 & 5 & 5 & both\\\\\n",
       "\t IL17RA\\_IL17RC & IL17RA & IL17RC & IL17A\\_IL17RA\\_IL17RC & Q16552 & COMPLEX:Q8NAC3\\_Q96F46 & IL17A & IL17RA\\_IL17RC & 1 & 1 & 0 & 1 & 1 & 0 & CellChatDB;CellPhoneDB;Cellinker;ICELLNET;SIGNOR & Cellinker:19838198;Cellinker:25204502;Cellinker:9367539;ICELLNET:24011563;SIGNOR:32024054 & 5 & 5 & 5 & both\\\\\n",
       "\t IL17RA\\_IL17A  & IL17RA & IL17A  & IL17A\\_IL17RA\\_IL17RC & Q16552 & COMPLEX:Q8NAC3\\_Q96F46 & IL17A & IL17RA\\_IL17RC & 1 & 1 & 0 & 1 & 1 & 0 & CellChatDB;CellPhoneDB;Cellinker;ICELLNET;SIGNOR & Cellinker:19838198;Cellinker:25204502;Cellinker:9367539;ICELLNET:24011563;SIGNOR:32024054 & 5 & 5 & 5 & both\\\\\n",
       "\t IL17RC\\_IL17A  & IL17RC & IL17A  & IL17A\\_IL17RA\\_IL17RC & Q16552 & COMPLEX:Q8NAC3\\_Q96F46 & IL17A & IL17RA\\_IL17RC & 1 & 1 & 0 & 1 & 1 & 0 & CellChatDB;CellPhoneDB;Cellinker;ICELLNET;SIGNOR & Cellinker:19838198;Cellinker:25204502;Cellinker:9367539;ICELLNET:24011563;SIGNOR:32024054 & 5 & 5 & 5 & both\\\\\n",
       "\t IL17RC\\_IL17RA & IL17RC & IL17RA & IL17A\\_IL17RA\\_IL17RC & Q16552 & COMPLEX:Q8NAC3\\_Q96F46 & IL17A & IL17RA\\_IL17RC & 1 & 1 & 0 & 1 & 1 & 0 & CellChatDB;CellPhoneDB;Cellinker;ICELLNET;SIGNOR & Cellinker:19838198;Cellinker:25204502;Cellinker:9367539;ICELLNET:24011563;SIGNOR:32024054 & 5 & 5 & 5 & both\\\\\n",
       "\\end{tabular}\n"
      ],
      "text/markdown": [
       "\n",
       "A data.frame: 6 × 20\n",
       "\n",
       "| Pair.Name &lt;chr&gt; | Ligand &lt;chr&gt; | Receptor &lt;chr&gt; | complex_pair &lt;chr&gt; | source &lt;chr&gt; | target &lt;chr&gt; | source_genesymbol &lt;chr&gt; | target_genesymbol &lt;chr&gt; | is_directed &lt;dbl&gt; | is_stimulation &lt;dbl&gt; | is_inhibition &lt;dbl&gt; | consensus_direction &lt;dbl&gt; | consensus_stimulation &lt;dbl&gt; | consensus_inhibition &lt;dbl&gt; | sources &lt;chr&gt; | references &lt;chr&gt; | curation_effort &lt;dbl&gt; | n_references &lt;dbl&gt; | n_resources &lt;int&gt; | annotation_strategy &lt;chr&gt; |\n",
       "|---|---|---|---|---|---|---|---|---|---|---|---|---|---|---|---|---|---|---|---|\n",
       "| IL17A_IL17RA  | IL17A  | IL17RA | IL17A_IL17RA_IL17RC | Q16552 | COMPLEX:Q8NAC3_Q96F46 | IL17A | IL17RA_IL17RC | 1 | 1 | 0 | 1 | 1 | 0 | CellChatDB;CellPhoneDB;Cellinker;ICELLNET;SIGNOR | Cellinker:19838198;Cellinker:25204502;Cellinker:9367539;ICELLNET:24011563;SIGNOR:32024054 | 5 | 5 | 5 | both |\n",
       "| IL17A_IL17RC  | IL17A  | IL17RC | IL17A_IL17RA_IL17RC | Q16552 | COMPLEX:Q8NAC3_Q96F46 | IL17A | IL17RA_IL17RC | 1 | 1 | 0 | 1 | 1 | 0 | CellChatDB;CellPhoneDB;Cellinker;ICELLNET;SIGNOR | Cellinker:19838198;Cellinker:25204502;Cellinker:9367539;ICELLNET:24011563;SIGNOR:32024054 | 5 | 5 | 5 | both |\n",
       "| IL17RA_IL17RC | IL17RA | IL17RC | IL17A_IL17RA_IL17RC | Q16552 | COMPLEX:Q8NAC3_Q96F46 | IL17A | IL17RA_IL17RC | 1 | 1 | 0 | 1 | 1 | 0 | CellChatDB;CellPhoneDB;Cellinker;ICELLNET;SIGNOR | Cellinker:19838198;Cellinker:25204502;Cellinker:9367539;ICELLNET:24011563;SIGNOR:32024054 | 5 | 5 | 5 | both |\n",
       "| IL17RA_IL17A  | IL17RA | IL17A  | IL17A_IL17RA_IL17RC | Q16552 | COMPLEX:Q8NAC3_Q96F46 | IL17A | IL17RA_IL17RC | 1 | 1 | 0 | 1 | 1 | 0 | CellChatDB;CellPhoneDB;Cellinker;ICELLNET;SIGNOR | Cellinker:19838198;Cellinker:25204502;Cellinker:9367539;ICELLNET:24011563;SIGNOR:32024054 | 5 | 5 | 5 | both |\n",
       "| IL17RC_IL17A  | IL17RC | IL17A  | IL17A_IL17RA_IL17RC | Q16552 | COMPLEX:Q8NAC3_Q96F46 | IL17A | IL17RA_IL17RC | 1 | 1 | 0 | 1 | 1 | 0 | CellChatDB;CellPhoneDB;Cellinker;ICELLNET;SIGNOR | Cellinker:19838198;Cellinker:25204502;Cellinker:9367539;ICELLNET:24011563;SIGNOR:32024054 | 5 | 5 | 5 | both |\n",
       "| IL17RC_IL17RA | IL17RC | IL17RA | IL17A_IL17RA_IL17RC | Q16552 | COMPLEX:Q8NAC3_Q96F46 | IL17A | IL17RA_IL17RC | 1 | 1 | 0 | 1 | 1 | 0 | CellChatDB;CellPhoneDB;Cellinker;ICELLNET;SIGNOR | Cellinker:19838198;Cellinker:25204502;Cellinker:9367539;ICELLNET:24011563;SIGNOR:32024054 | 5 | 5 | 5 | both |\n",
       "\n"
      ],
      "text/plain": [
       "  Pair.Name     Ligand Receptor complex_pair        source\n",
       "1 IL17A_IL17RA  IL17A  IL17RA   IL17A_IL17RA_IL17RC Q16552\n",
       "2 IL17A_IL17RC  IL17A  IL17RC   IL17A_IL17RA_IL17RC Q16552\n",
       "3 IL17RA_IL17RC IL17RA IL17RC   IL17A_IL17RA_IL17RC Q16552\n",
       "4 IL17RA_IL17A  IL17RA IL17A    IL17A_IL17RA_IL17RC Q16552\n",
       "5 IL17RC_IL17A  IL17RC IL17A    IL17A_IL17RA_IL17RC Q16552\n",
       "6 IL17RC_IL17RA IL17RC IL17RA   IL17A_IL17RA_IL17RC Q16552\n",
       "  target                source_genesymbol target_genesymbol is_directed\n",
       "1 COMPLEX:Q8NAC3_Q96F46 IL17A             IL17RA_IL17RC     1          \n",
       "2 COMPLEX:Q8NAC3_Q96F46 IL17A             IL17RA_IL17RC     1          \n",
       "3 COMPLEX:Q8NAC3_Q96F46 IL17A             IL17RA_IL17RC     1          \n",
       "4 COMPLEX:Q8NAC3_Q96F46 IL17A             IL17RA_IL17RC     1          \n",
       "5 COMPLEX:Q8NAC3_Q96F46 IL17A             IL17RA_IL17RC     1          \n",
       "6 COMPLEX:Q8NAC3_Q96F46 IL17A             IL17RA_IL17RC     1          \n",
       "  is_stimulation is_inhibition consensus_direction consensus_stimulation\n",
       "1 1              0             1                   1                    \n",
       "2 1              0             1                   1                    \n",
       "3 1              0             1                   1                    \n",
       "4 1              0             1                   1                    \n",
       "5 1              0             1                   1                    \n",
       "6 1              0             1                   1                    \n",
       "  consensus_inhibition sources                                         \n",
       "1 0                    CellChatDB;CellPhoneDB;Cellinker;ICELLNET;SIGNOR\n",
       "2 0                    CellChatDB;CellPhoneDB;Cellinker;ICELLNET;SIGNOR\n",
       "3 0                    CellChatDB;CellPhoneDB;Cellinker;ICELLNET;SIGNOR\n",
       "4 0                    CellChatDB;CellPhoneDB;Cellinker;ICELLNET;SIGNOR\n",
       "5 0                    CellChatDB;CellPhoneDB;Cellinker;ICELLNET;SIGNOR\n",
       "6 0                    CellChatDB;CellPhoneDB;Cellinker;ICELLNET;SIGNOR\n",
       "  references                                                                               \n",
       "1 Cellinker:19838198;Cellinker:25204502;Cellinker:9367539;ICELLNET:24011563;SIGNOR:32024054\n",
       "2 Cellinker:19838198;Cellinker:25204502;Cellinker:9367539;ICELLNET:24011563;SIGNOR:32024054\n",
       "3 Cellinker:19838198;Cellinker:25204502;Cellinker:9367539;ICELLNET:24011563;SIGNOR:32024054\n",
       "4 Cellinker:19838198;Cellinker:25204502;Cellinker:9367539;ICELLNET:24011563;SIGNOR:32024054\n",
       "5 Cellinker:19838198;Cellinker:25204502;Cellinker:9367539;ICELLNET:24011563;SIGNOR:32024054\n",
       "6 Cellinker:19838198;Cellinker:25204502;Cellinker:9367539;ICELLNET:24011563;SIGNOR:32024054\n",
       "  curation_effort n_references n_resources annotation_strategy\n",
       "1 5               5            5           both               \n",
       "2 5               5            5           both               \n",
       "3 5               5            5           both               \n",
       "4 5               5            5           both               \n",
       "5 5               5            5           both               \n",
       "6 5               5            5           both               "
      ]
     },
     "metadata": {},
     "output_type": "display_data"
    }
   ],
   "source": [
    "filter(pairwise_pairs, complex_pair==\"IL17A_IL17RA_IL17RC\")"
   ]
  },
  {
   "cell_type": "markdown",
   "id": "b6b2522e",
   "metadata": {},
   "source": [
    "# Linking through PPI"
   ]
  },
  {
   "cell_type": "markdown",
   "id": "19ec2842",
   "metadata": {},
   "source": [
    "We are using the Omnipath intercellular interaction network, which is the largest available network of its kind, to detect interactions rather than make predictions. The creators of the network have noted that it may contain a large number of false positives. Despite this, we are using it in combination with an annotations database to detect interactions. The network has a size of 98,165 edges."
   ]
  },
  {
   "cell_type": "code",
   "execution_count": 13,
   "id": "67028d25",
   "metadata": {},
   "outputs": [],
   "source": [
    "# Import All PPI\n",
    "pt <- import_post_translational_interactions()"
   ]
  },
  {
   "cell_type": "code",
   "execution_count": 14,
   "id": "1c88c86b",
   "metadata": {},
   "outputs": [],
   "source": [
    "ppi_network <- pt %>% filter(!duplicated(pt[, c(\"source_genesymbol\", \"target_genesymbol\")]))"
   ]
  },
  {
   "cell_type": "code",
   "execution_count": 15,
   "id": "9cef6ec0",
   "metadata": {},
   "outputs": [],
   "source": [
    "# create pairs, so its easier to check\n",
    "ppi_network$Pair.Name=paste(ppi_network$source_genesymbol, ppi_network$target_genesymbol,sep=\"_\")"
   ]
  },
  {
   "cell_type": "code",
   "execution_count": 16,
   "id": "37dd1d57",
   "metadata": {
    "scrolled": true
   },
   "outputs": [],
   "source": [
    "#drop duplicates\n",
    "pairwise_pairs <- pairwise_pairs[!duplicated(pairwise_pairs$Pair.Name),]"
   ]
  },
  {
   "cell_type": "code",
   "execution_count": 17,
   "id": "62fae9ef",
   "metadata": {},
   "outputs": [
    {
     "name": "stdout",
     "output_type": "stream",
     "text": [
      "'data.frame':\t1262 obs. of  20 variables:\n",
      " $ Pair.Name            : chr  \"IL17A_IL17RA\" \"IL17A_IL17RC\" \"IL17RA_IL17A\" \"NPNT_ITGA8\" ...\n",
      " $ Ligand               : chr  \"IL17A\" \"IL17A\" \"IL17RA\" \"NPNT\" ...\n",
      " $ Receptor             : chr  \"IL17RA\" \"IL17RC\" \"IL17A\" \"ITGA8\" ...\n",
      " $ complex_pair         : chr  \"IL17A_IL17RA_IL17RC\" \"IL17A_IL17RA_IL17RC\" \"IL17A_IL17RA_IL17RC\" \"NPNT_ITGA8_ITGB1\" ...\n",
      " $ source               : chr  \"Q16552\" \"Q16552\" \"Q16552\" \"Q6UXI9\" ...\n",
      " $ target               : chr  \"COMPLEX:Q8NAC3_Q96F46\" \"COMPLEX:Q8NAC3_Q96F46\" \"COMPLEX:Q8NAC3_Q96F46\" \"COMPLEX:P05556_P53708\" ...\n",
      " $ source_genesymbol    : chr  \"IL17A\" \"IL17A\" \"IL17A\" \"NPNT\" ...\n",
      " $ target_genesymbol    : chr  \"IL17RA_IL17RC\" \"IL17RA_IL17RC\" \"IL17RA_IL17RC\" \"ITGA8_ITGB1\" ...\n",
      " $ is_directed          : num  1 1 1 1 1 1 1 1 1 1 ...\n",
      " $ is_stimulation       : num  1 1 1 1 1 1 1 1 1 1 ...\n",
      " $ is_inhibition        : num  0 0 0 0 0 0 0 0 0 0 ...\n",
      " $ consensus_direction  : num  1 1 1 1 1 0 0 0 0 1 ...\n",
      " $ consensus_stimulation: num  1 1 1 1 1 0 0 0 0 1 ...\n",
      " $ consensus_inhibition : num  0 0 0 0 0 0 0 0 0 0 ...\n",
      " $ sources              : chr  \"CellChatDB;CellPhoneDB;Cellinker;ICELLNET;SIGNOR\" \"CellChatDB;CellPhoneDB;Cellinker;ICELLNET;SIGNOR\" \"CellChatDB;CellPhoneDB;Cellinker;ICELLNET;SIGNOR\" \"Baccin2019;SIGNOR\" ...\n",
      " $ references           : chr  \"Cellinker:19838198;Cellinker:25204502;Cellinker:9367539;ICELLNET:24011563;SIGNOR:32024054\" \"Cellinker:19838198;Cellinker:25204502;Cellinker:9367539;ICELLNET:24011563;SIGNOR:32024054\" \"Cellinker:19838198;Cellinker:25204502;Cellinker:9367539;ICELLNET:24011563;SIGNOR:32024054\" \"Baccin2019:16988024;SIGNOR:22613833\" ...\n",
      " $ curation_effort      : num  5 5 5 2 2 4 4 4 4 2 ...\n",
      " $ n_references         : num  5 5 5 2 2 4 4 4 4 2 ...\n",
      " $ n_resources          : int  5 5 5 2 2 4 4 4 4 3 ...\n",
      " $ annotation_strategy  : chr  \"both\" \"both\" \"both\" \"LR\" ...\n"
     ]
    }
   ],
   "source": [
    "# The data frame result_df consists of all the pairwise pair combinations, \n",
    "# and we are checking if those pairs exist in the PT network\n",
    "pt_interactions <- pairwise_pairs %>%\n",
    "    filter(Pair.Name %in% ppi_network$Pair.Name)\n",
    "\n",
    "str(pt_interactions)"
   ]
  },
  {
   "cell_type": "code",
   "execution_count": 18,
   "id": "56586fe0",
   "metadata": {},
   "outputs": [
    {
     "data": {
      "text/html": [
       "'Number of non-redundant pairwise pairs: 3272, Number of pairs found in PPI: 1262'"
      ],
      "text/latex": [
       "'Number of non-redundant pairwise pairs: 3272, Number of pairs found in PPI: 1262'"
      ],
      "text/markdown": [
       "'Number of non-redundant pairwise pairs: 3272, Number of pairs found in PPI: 1262'"
      ],
      "text/plain": [
       "Number of non-redundant pairwise pairs: 3272, Number of pairs found in PPI: 1262"
      ]
     },
     "metadata": {},
     "output_type": "display_data"
    }
   ],
   "source": [
    "glue(\"Number of non-redundant pairwise pairs: {nrow(pairwise_pairs)}, Number of pairs found in PPI: {nrow(pt_interactions)}\")"
   ]
  },
  {
   "cell_type": "code",
   "execution_count": 19,
   "id": "6e83aaa9",
   "metadata": {},
   "outputs": [
    {
     "data": {
      "text/html": [
       "<table class=\"dataframe\">\n",
       "<caption>A data.frame: 6 × 20</caption>\n",
       "<thead>\n",
       "\t<tr><th scope=col>Pair.Name</th><th scope=col>Ligand</th><th scope=col>Receptor</th><th scope=col>complex_pair</th><th scope=col>source</th><th scope=col>target</th><th scope=col>source_genesymbol</th><th scope=col>target_genesymbol</th><th scope=col>is_directed</th><th scope=col>is_stimulation</th><th scope=col>is_inhibition</th><th scope=col>consensus_direction</th><th scope=col>consensus_stimulation</th><th scope=col>consensus_inhibition</th><th scope=col>sources</th><th scope=col>references</th><th scope=col>curation_effort</th><th scope=col>n_references</th><th scope=col>n_resources</th><th scope=col>annotation_strategy</th></tr>\n",
       "\t<tr><th scope=col>&lt;chr&gt;</th><th scope=col>&lt;chr&gt;</th><th scope=col>&lt;chr&gt;</th><th scope=col>&lt;chr&gt;</th><th scope=col>&lt;chr&gt;</th><th scope=col>&lt;chr&gt;</th><th scope=col>&lt;chr&gt;</th><th scope=col>&lt;chr&gt;</th><th scope=col>&lt;dbl&gt;</th><th scope=col>&lt;dbl&gt;</th><th scope=col>&lt;dbl&gt;</th><th scope=col>&lt;dbl&gt;</th><th scope=col>&lt;dbl&gt;</th><th scope=col>&lt;dbl&gt;</th><th scope=col>&lt;chr&gt;</th><th scope=col>&lt;chr&gt;</th><th scope=col>&lt;dbl&gt;</th><th scope=col>&lt;dbl&gt;</th><th scope=col>&lt;int&gt;</th><th scope=col>&lt;chr&gt;</th></tr>\n",
       "</thead>\n",
       "<tbody>\n",
       "\t<tr><td>IL17A_IL17RA </td><td>IL17A </td><td>IL17RA</td><td>IL17A_IL17RA_IL17RC</td><td>Q16552</td><td>COMPLEX:Q8NAC3_Q96F46</td><td>IL17A</td><td>IL17RA_IL17RC</td><td>1</td><td>1</td><td>0</td><td>1</td><td>1</td><td>0</td><td>CellChatDB;CellPhoneDB;Cellinker;ICELLNET;SIGNOR</td><td>Cellinker:19838198;Cellinker:25204502;Cellinker:9367539;ICELLNET:24011563;SIGNOR:32024054</td><td>5</td><td>5</td><td>5</td><td>both</td></tr>\n",
       "\t<tr><td>IL17A_IL17RC </td><td>IL17A </td><td>IL17RC</td><td>IL17A_IL17RA_IL17RC</td><td>Q16552</td><td>COMPLEX:Q8NAC3_Q96F46</td><td>IL17A</td><td>IL17RA_IL17RC</td><td>1</td><td>1</td><td>0</td><td>1</td><td>1</td><td>0</td><td>CellChatDB;CellPhoneDB;Cellinker;ICELLNET;SIGNOR</td><td>Cellinker:19838198;Cellinker:25204502;Cellinker:9367539;ICELLNET:24011563;SIGNOR:32024054</td><td>5</td><td>5</td><td>5</td><td>both</td></tr>\n",
       "\t<tr><td>IL17RA_IL17RC</td><td>IL17RA</td><td>IL17RC</td><td>IL17A_IL17RA_IL17RC</td><td>Q16552</td><td>COMPLEX:Q8NAC3_Q96F46</td><td>IL17A</td><td>IL17RA_IL17RC</td><td>1</td><td>1</td><td>0</td><td>1</td><td>1</td><td>0</td><td>CellChatDB;CellPhoneDB;Cellinker;ICELLNET;SIGNOR</td><td>Cellinker:19838198;Cellinker:25204502;Cellinker:9367539;ICELLNET:24011563;SIGNOR:32024054</td><td>5</td><td>5</td><td>5</td><td>both</td></tr>\n",
       "\t<tr><td>IL17RA_IL17A </td><td>IL17RA</td><td>IL17A </td><td>IL17A_IL17RA_IL17RC</td><td>Q16552</td><td>COMPLEX:Q8NAC3_Q96F46</td><td>IL17A</td><td>IL17RA_IL17RC</td><td>1</td><td>1</td><td>0</td><td>1</td><td>1</td><td>0</td><td>CellChatDB;CellPhoneDB;Cellinker;ICELLNET;SIGNOR</td><td>Cellinker:19838198;Cellinker:25204502;Cellinker:9367539;ICELLNET:24011563;SIGNOR:32024054</td><td>5</td><td>5</td><td>5</td><td>both</td></tr>\n",
       "\t<tr><td>IL17RC_IL17A </td><td>IL17RC</td><td>IL17A </td><td>IL17A_IL17RA_IL17RC</td><td>Q16552</td><td>COMPLEX:Q8NAC3_Q96F46</td><td>IL17A</td><td>IL17RA_IL17RC</td><td>1</td><td>1</td><td>0</td><td>1</td><td>1</td><td>0</td><td>CellChatDB;CellPhoneDB;Cellinker;ICELLNET;SIGNOR</td><td>Cellinker:19838198;Cellinker:25204502;Cellinker:9367539;ICELLNET:24011563;SIGNOR:32024054</td><td>5</td><td>5</td><td>5</td><td>both</td></tr>\n",
       "\t<tr><td>IL17RC_IL17RA</td><td>IL17RC</td><td>IL17RA</td><td>IL17A_IL17RA_IL17RC</td><td>Q16552</td><td>COMPLEX:Q8NAC3_Q96F46</td><td>IL17A</td><td>IL17RA_IL17RC</td><td>1</td><td>1</td><td>0</td><td>1</td><td>1</td><td>0</td><td>CellChatDB;CellPhoneDB;Cellinker;ICELLNET;SIGNOR</td><td>Cellinker:19838198;Cellinker:25204502;Cellinker:9367539;ICELLNET:24011563;SIGNOR:32024054</td><td>5</td><td>5</td><td>5</td><td>both</td></tr>\n",
       "</tbody>\n",
       "</table>\n"
      ],
      "text/latex": [
       "A data.frame: 6 × 20\n",
       "\\begin{tabular}{llllllllllllllllllll}\n",
       " Pair.Name & Ligand & Receptor & complex\\_pair & source & target & source\\_genesymbol & target\\_genesymbol & is\\_directed & is\\_stimulation & is\\_inhibition & consensus\\_direction & consensus\\_stimulation & consensus\\_inhibition & sources & references & curation\\_effort & n\\_references & n\\_resources & annotation\\_strategy\\\\\n",
       " <chr> & <chr> & <chr> & <chr> & <chr> & <chr> & <chr> & <chr> & <dbl> & <dbl> & <dbl> & <dbl> & <dbl> & <dbl> & <chr> & <chr> & <dbl> & <dbl> & <int> & <chr>\\\\\n",
       "\\hline\n",
       "\t IL17A\\_IL17RA  & IL17A  & IL17RA & IL17A\\_IL17RA\\_IL17RC & Q16552 & COMPLEX:Q8NAC3\\_Q96F46 & IL17A & IL17RA\\_IL17RC & 1 & 1 & 0 & 1 & 1 & 0 & CellChatDB;CellPhoneDB;Cellinker;ICELLNET;SIGNOR & Cellinker:19838198;Cellinker:25204502;Cellinker:9367539;ICELLNET:24011563;SIGNOR:32024054 & 5 & 5 & 5 & both\\\\\n",
       "\t IL17A\\_IL17RC  & IL17A  & IL17RC & IL17A\\_IL17RA\\_IL17RC & Q16552 & COMPLEX:Q8NAC3\\_Q96F46 & IL17A & IL17RA\\_IL17RC & 1 & 1 & 0 & 1 & 1 & 0 & CellChatDB;CellPhoneDB;Cellinker;ICELLNET;SIGNOR & Cellinker:19838198;Cellinker:25204502;Cellinker:9367539;ICELLNET:24011563;SIGNOR:32024054 & 5 & 5 & 5 & both\\\\\n",
       "\t IL17RA\\_IL17RC & IL17RA & IL17RC & IL17A\\_IL17RA\\_IL17RC & Q16552 & COMPLEX:Q8NAC3\\_Q96F46 & IL17A & IL17RA\\_IL17RC & 1 & 1 & 0 & 1 & 1 & 0 & CellChatDB;CellPhoneDB;Cellinker;ICELLNET;SIGNOR & Cellinker:19838198;Cellinker:25204502;Cellinker:9367539;ICELLNET:24011563;SIGNOR:32024054 & 5 & 5 & 5 & both\\\\\n",
       "\t IL17RA\\_IL17A  & IL17RA & IL17A  & IL17A\\_IL17RA\\_IL17RC & Q16552 & COMPLEX:Q8NAC3\\_Q96F46 & IL17A & IL17RA\\_IL17RC & 1 & 1 & 0 & 1 & 1 & 0 & CellChatDB;CellPhoneDB;Cellinker;ICELLNET;SIGNOR & Cellinker:19838198;Cellinker:25204502;Cellinker:9367539;ICELLNET:24011563;SIGNOR:32024054 & 5 & 5 & 5 & both\\\\\n",
       "\t IL17RC\\_IL17A  & IL17RC & IL17A  & IL17A\\_IL17RA\\_IL17RC & Q16552 & COMPLEX:Q8NAC3\\_Q96F46 & IL17A & IL17RA\\_IL17RC & 1 & 1 & 0 & 1 & 1 & 0 & CellChatDB;CellPhoneDB;Cellinker;ICELLNET;SIGNOR & Cellinker:19838198;Cellinker:25204502;Cellinker:9367539;ICELLNET:24011563;SIGNOR:32024054 & 5 & 5 & 5 & both\\\\\n",
       "\t IL17RC\\_IL17RA & IL17RC & IL17RA & IL17A\\_IL17RA\\_IL17RC & Q16552 & COMPLEX:Q8NAC3\\_Q96F46 & IL17A & IL17RA\\_IL17RC & 1 & 1 & 0 & 1 & 1 & 0 & CellChatDB;CellPhoneDB;Cellinker;ICELLNET;SIGNOR & Cellinker:19838198;Cellinker:25204502;Cellinker:9367539;ICELLNET:24011563;SIGNOR:32024054 & 5 & 5 & 5 & both\\\\\n",
       "\\end{tabular}\n"
      ],
      "text/markdown": [
       "\n",
       "A data.frame: 6 × 20\n",
       "\n",
       "| Pair.Name &lt;chr&gt; | Ligand &lt;chr&gt; | Receptor &lt;chr&gt; | complex_pair &lt;chr&gt; | source &lt;chr&gt; | target &lt;chr&gt; | source_genesymbol &lt;chr&gt; | target_genesymbol &lt;chr&gt; | is_directed &lt;dbl&gt; | is_stimulation &lt;dbl&gt; | is_inhibition &lt;dbl&gt; | consensus_direction &lt;dbl&gt; | consensus_stimulation &lt;dbl&gt; | consensus_inhibition &lt;dbl&gt; | sources &lt;chr&gt; | references &lt;chr&gt; | curation_effort &lt;dbl&gt; | n_references &lt;dbl&gt; | n_resources &lt;int&gt; | annotation_strategy &lt;chr&gt; |\n",
       "|---|---|---|---|---|---|---|---|---|---|---|---|---|---|---|---|---|---|---|---|\n",
       "| IL17A_IL17RA  | IL17A  | IL17RA | IL17A_IL17RA_IL17RC | Q16552 | COMPLEX:Q8NAC3_Q96F46 | IL17A | IL17RA_IL17RC | 1 | 1 | 0 | 1 | 1 | 0 | CellChatDB;CellPhoneDB;Cellinker;ICELLNET;SIGNOR | Cellinker:19838198;Cellinker:25204502;Cellinker:9367539;ICELLNET:24011563;SIGNOR:32024054 | 5 | 5 | 5 | both |\n",
       "| IL17A_IL17RC  | IL17A  | IL17RC | IL17A_IL17RA_IL17RC | Q16552 | COMPLEX:Q8NAC3_Q96F46 | IL17A | IL17RA_IL17RC | 1 | 1 | 0 | 1 | 1 | 0 | CellChatDB;CellPhoneDB;Cellinker;ICELLNET;SIGNOR | Cellinker:19838198;Cellinker:25204502;Cellinker:9367539;ICELLNET:24011563;SIGNOR:32024054 | 5 | 5 | 5 | both |\n",
       "| IL17RA_IL17RC | IL17RA | IL17RC | IL17A_IL17RA_IL17RC | Q16552 | COMPLEX:Q8NAC3_Q96F46 | IL17A | IL17RA_IL17RC | 1 | 1 | 0 | 1 | 1 | 0 | CellChatDB;CellPhoneDB;Cellinker;ICELLNET;SIGNOR | Cellinker:19838198;Cellinker:25204502;Cellinker:9367539;ICELLNET:24011563;SIGNOR:32024054 | 5 | 5 | 5 | both |\n",
       "| IL17RA_IL17A  | IL17RA | IL17A  | IL17A_IL17RA_IL17RC | Q16552 | COMPLEX:Q8NAC3_Q96F46 | IL17A | IL17RA_IL17RC | 1 | 1 | 0 | 1 | 1 | 0 | CellChatDB;CellPhoneDB;Cellinker;ICELLNET;SIGNOR | Cellinker:19838198;Cellinker:25204502;Cellinker:9367539;ICELLNET:24011563;SIGNOR:32024054 | 5 | 5 | 5 | both |\n",
       "| IL17RC_IL17A  | IL17RC | IL17A  | IL17A_IL17RA_IL17RC | Q16552 | COMPLEX:Q8NAC3_Q96F46 | IL17A | IL17RA_IL17RC | 1 | 1 | 0 | 1 | 1 | 0 | CellChatDB;CellPhoneDB;Cellinker;ICELLNET;SIGNOR | Cellinker:19838198;Cellinker:25204502;Cellinker:9367539;ICELLNET:24011563;SIGNOR:32024054 | 5 | 5 | 5 | both |\n",
       "| IL17RC_IL17RA | IL17RC | IL17RA | IL17A_IL17RA_IL17RC | Q16552 | COMPLEX:Q8NAC3_Q96F46 | IL17A | IL17RA_IL17RC | 1 | 1 | 0 | 1 | 1 | 0 | CellChatDB;CellPhoneDB;Cellinker;ICELLNET;SIGNOR | Cellinker:19838198;Cellinker:25204502;Cellinker:9367539;ICELLNET:24011563;SIGNOR:32024054 | 5 | 5 | 5 | both |\n",
       "\n"
      ],
      "text/plain": [
       "  Pair.Name     Ligand Receptor complex_pair        source\n",
       "1 IL17A_IL17RA  IL17A  IL17RA   IL17A_IL17RA_IL17RC Q16552\n",
       "2 IL17A_IL17RC  IL17A  IL17RC   IL17A_IL17RA_IL17RC Q16552\n",
       "3 IL17RA_IL17RC IL17RA IL17RC   IL17A_IL17RA_IL17RC Q16552\n",
       "4 IL17RA_IL17A  IL17RA IL17A    IL17A_IL17RA_IL17RC Q16552\n",
       "5 IL17RC_IL17A  IL17RC IL17A    IL17A_IL17RA_IL17RC Q16552\n",
       "6 IL17RC_IL17RA IL17RC IL17RA   IL17A_IL17RA_IL17RC Q16552\n",
       "  target                source_genesymbol target_genesymbol is_directed\n",
       "1 COMPLEX:Q8NAC3_Q96F46 IL17A             IL17RA_IL17RC     1          \n",
       "2 COMPLEX:Q8NAC3_Q96F46 IL17A             IL17RA_IL17RC     1          \n",
       "3 COMPLEX:Q8NAC3_Q96F46 IL17A             IL17RA_IL17RC     1          \n",
       "4 COMPLEX:Q8NAC3_Q96F46 IL17A             IL17RA_IL17RC     1          \n",
       "5 COMPLEX:Q8NAC3_Q96F46 IL17A             IL17RA_IL17RC     1          \n",
       "6 COMPLEX:Q8NAC3_Q96F46 IL17A             IL17RA_IL17RC     1          \n",
       "  is_stimulation is_inhibition consensus_direction consensus_stimulation\n",
       "1 1              0             1                   1                    \n",
       "2 1              0             1                   1                    \n",
       "3 1              0             1                   1                    \n",
       "4 1              0             1                   1                    \n",
       "5 1              0             1                   1                    \n",
       "6 1              0             1                   1                    \n",
       "  consensus_inhibition sources                                         \n",
       "1 0                    CellChatDB;CellPhoneDB;Cellinker;ICELLNET;SIGNOR\n",
       "2 0                    CellChatDB;CellPhoneDB;Cellinker;ICELLNET;SIGNOR\n",
       "3 0                    CellChatDB;CellPhoneDB;Cellinker;ICELLNET;SIGNOR\n",
       "4 0                    CellChatDB;CellPhoneDB;Cellinker;ICELLNET;SIGNOR\n",
       "5 0                    CellChatDB;CellPhoneDB;Cellinker;ICELLNET;SIGNOR\n",
       "6 0                    CellChatDB;CellPhoneDB;Cellinker;ICELLNET;SIGNOR\n",
       "  references                                                                               \n",
       "1 Cellinker:19838198;Cellinker:25204502;Cellinker:9367539;ICELLNET:24011563;SIGNOR:32024054\n",
       "2 Cellinker:19838198;Cellinker:25204502;Cellinker:9367539;ICELLNET:24011563;SIGNOR:32024054\n",
       "3 Cellinker:19838198;Cellinker:25204502;Cellinker:9367539;ICELLNET:24011563;SIGNOR:32024054\n",
       "4 Cellinker:19838198;Cellinker:25204502;Cellinker:9367539;ICELLNET:24011563;SIGNOR:32024054\n",
       "5 Cellinker:19838198;Cellinker:25204502;Cellinker:9367539;ICELLNET:24011563;SIGNOR:32024054\n",
       "6 Cellinker:19838198;Cellinker:25204502;Cellinker:9367539;ICELLNET:24011563;SIGNOR:32024054\n",
       "  curation_effort n_references n_resources annotation_strategy\n",
       "1 5               5            5           both               \n",
       "2 5               5            5           both               \n",
       "3 5               5            5           both               \n",
       "4 5               5            5           both               \n",
       "5 5               5            5           both               \n",
       "6 5               5            5           both               "
      ]
     },
     "metadata": {},
     "output_type": "display_data"
    }
   ],
   "source": [
    "filter(pairwise_pairs, complex_pair==\"IL17A_IL17RA_IL17RC\")"
   ]
  },
  {
   "cell_type": "code",
   "execution_count": 20,
   "id": "c4a35035",
   "metadata": {},
   "outputs": [
    {
     "data": {
      "text/html": [
       "<table class=\"dataframe\">\n",
       "<caption>A data.frame: 6 × 20</caption>\n",
       "<thead>\n",
       "\t<tr><th scope=col>Pair.Name</th><th scope=col>Ligand</th><th scope=col>Receptor</th><th scope=col>complex_pair</th><th scope=col>source</th><th scope=col>target</th><th scope=col>source_genesymbol</th><th scope=col>target_genesymbol</th><th scope=col>is_directed</th><th scope=col>is_stimulation</th><th scope=col>is_inhibition</th><th scope=col>consensus_direction</th><th scope=col>consensus_stimulation</th><th scope=col>consensus_inhibition</th><th scope=col>sources</th><th scope=col>references</th><th scope=col>curation_effort</th><th scope=col>n_references</th><th scope=col>n_resources</th><th scope=col>annotation_strategy</th></tr>\n",
       "\t<tr><th scope=col>&lt;chr&gt;</th><th scope=col>&lt;chr&gt;</th><th scope=col>&lt;chr&gt;</th><th scope=col>&lt;chr&gt;</th><th scope=col>&lt;chr&gt;</th><th scope=col>&lt;chr&gt;</th><th scope=col>&lt;chr&gt;</th><th scope=col>&lt;chr&gt;</th><th scope=col>&lt;dbl&gt;</th><th scope=col>&lt;dbl&gt;</th><th scope=col>&lt;dbl&gt;</th><th scope=col>&lt;dbl&gt;</th><th scope=col>&lt;dbl&gt;</th><th scope=col>&lt;dbl&gt;</th><th scope=col>&lt;chr&gt;</th><th scope=col>&lt;chr&gt;</th><th scope=col>&lt;dbl&gt;</th><th scope=col>&lt;dbl&gt;</th><th scope=col>&lt;int&gt;</th><th scope=col>&lt;chr&gt;</th></tr>\n",
       "</thead>\n",
       "<tbody>\n",
       "\t<tr><td>ITGAL_ITGB2</td><td>ITGAL</td><td>ITGB2</td><td>ITGAL_ITGB2_ICAM1</td><td>COMPLEX:P05107_P20701</td><td>P05362</td><td>ITGAL_ITGB2</td><td>ICAM1</td><td>1</td><td>1</td><td>0</td><td>0</td><td>0</td><td>0</td><td>Baccin2019;CellPhoneDB;ICELLNET;SIGNOR</td><td>Baccin2019:16988024;ICELLNET:10940895;ICELLNET:23418628;SIGNOR:12808052</td><td>4</td><td>4</td><td>4</td><td>both</td></tr>\n",
       "\t<tr><td>ITGAL_ICAM1</td><td>ITGAL</td><td>ICAM1</td><td>ITGAL_ITGB2_ICAM1</td><td>COMPLEX:P05107_P20701</td><td>P05362</td><td>ITGAL_ITGB2</td><td>ICAM1</td><td>1</td><td>1</td><td>0</td><td>0</td><td>0</td><td>0</td><td>Baccin2019;CellPhoneDB;ICELLNET;SIGNOR</td><td>Baccin2019:16988024;ICELLNET:10940895;ICELLNET:23418628;SIGNOR:12808052</td><td>4</td><td>4</td><td>4</td><td>both</td></tr>\n",
       "\t<tr><td>ITGB2_ICAM1</td><td>ITGB2</td><td>ICAM1</td><td>ITGAL_ITGB2_ICAM1</td><td>COMPLEX:P05107_P20701</td><td>P05362</td><td>ITGAL_ITGB2</td><td>ICAM1</td><td>1</td><td>1</td><td>0</td><td>0</td><td>0</td><td>0</td><td>Baccin2019;CellPhoneDB;ICELLNET;SIGNOR</td><td>Baccin2019:16988024;ICELLNET:10940895;ICELLNET:23418628;SIGNOR:12808052</td><td>4</td><td>4</td><td>4</td><td>both</td></tr>\n",
       "\t<tr><td>ITGB2_ITGAL</td><td>ITGB2</td><td>ITGAL</td><td>ITGAL_ITGB2_ICAM1</td><td>COMPLEX:P05107_P20701</td><td>P05362</td><td>ITGAL_ITGB2</td><td>ICAM1</td><td>1</td><td>1</td><td>0</td><td>0</td><td>0</td><td>0</td><td>Baccin2019;CellPhoneDB;ICELLNET;SIGNOR</td><td>Baccin2019:16988024;ICELLNET:10940895;ICELLNET:23418628;SIGNOR:12808052</td><td>4</td><td>4</td><td>4</td><td>both</td></tr>\n",
       "\t<tr><td>ICAM1_ITGAL</td><td>ICAM1</td><td>ITGAL</td><td>ITGAL_ITGB2_ICAM1</td><td>COMPLEX:P05107_P20701</td><td>P05362</td><td>ITGAL_ITGB2</td><td>ICAM1</td><td>1</td><td>1</td><td>0</td><td>0</td><td>0</td><td>0</td><td>Baccin2019;CellPhoneDB;ICELLNET;SIGNOR</td><td>Baccin2019:16988024;ICELLNET:10940895;ICELLNET:23418628;SIGNOR:12808052</td><td>4</td><td>4</td><td>4</td><td>both</td></tr>\n",
       "\t<tr><td>ICAM1_ITGB2</td><td>ICAM1</td><td>ITGB2</td><td>ITGAL_ITGB2_ICAM1</td><td>COMPLEX:P05107_P20701</td><td>P05362</td><td>ITGAL_ITGB2</td><td>ICAM1</td><td>1</td><td>1</td><td>0</td><td>0</td><td>0</td><td>0</td><td>Baccin2019;CellPhoneDB;ICELLNET;SIGNOR</td><td>Baccin2019:16988024;ICELLNET:10940895;ICELLNET:23418628;SIGNOR:12808052</td><td>4</td><td>4</td><td>4</td><td>both</td></tr>\n",
       "</tbody>\n",
       "</table>\n"
      ],
      "text/latex": [
       "A data.frame: 6 × 20\n",
       "\\begin{tabular}{llllllllllllllllllll}\n",
       " Pair.Name & Ligand & Receptor & complex\\_pair & source & target & source\\_genesymbol & target\\_genesymbol & is\\_directed & is\\_stimulation & is\\_inhibition & consensus\\_direction & consensus\\_stimulation & consensus\\_inhibition & sources & references & curation\\_effort & n\\_references & n\\_resources & annotation\\_strategy\\\\\n",
       " <chr> & <chr> & <chr> & <chr> & <chr> & <chr> & <chr> & <chr> & <dbl> & <dbl> & <dbl> & <dbl> & <dbl> & <dbl> & <chr> & <chr> & <dbl> & <dbl> & <int> & <chr>\\\\\n",
       "\\hline\n",
       "\t ITGAL\\_ITGB2 & ITGAL & ITGB2 & ITGAL\\_ITGB2\\_ICAM1 & COMPLEX:P05107\\_P20701 & P05362 & ITGAL\\_ITGB2 & ICAM1 & 1 & 1 & 0 & 0 & 0 & 0 & Baccin2019;CellPhoneDB;ICELLNET;SIGNOR & Baccin2019:16988024;ICELLNET:10940895;ICELLNET:23418628;SIGNOR:12808052 & 4 & 4 & 4 & both\\\\\n",
       "\t ITGAL\\_ICAM1 & ITGAL & ICAM1 & ITGAL\\_ITGB2\\_ICAM1 & COMPLEX:P05107\\_P20701 & P05362 & ITGAL\\_ITGB2 & ICAM1 & 1 & 1 & 0 & 0 & 0 & 0 & Baccin2019;CellPhoneDB;ICELLNET;SIGNOR & Baccin2019:16988024;ICELLNET:10940895;ICELLNET:23418628;SIGNOR:12808052 & 4 & 4 & 4 & both\\\\\n",
       "\t ITGB2\\_ICAM1 & ITGB2 & ICAM1 & ITGAL\\_ITGB2\\_ICAM1 & COMPLEX:P05107\\_P20701 & P05362 & ITGAL\\_ITGB2 & ICAM1 & 1 & 1 & 0 & 0 & 0 & 0 & Baccin2019;CellPhoneDB;ICELLNET;SIGNOR & Baccin2019:16988024;ICELLNET:10940895;ICELLNET:23418628;SIGNOR:12808052 & 4 & 4 & 4 & both\\\\\n",
       "\t ITGB2\\_ITGAL & ITGB2 & ITGAL & ITGAL\\_ITGB2\\_ICAM1 & COMPLEX:P05107\\_P20701 & P05362 & ITGAL\\_ITGB2 & ICAM1 & 1 & 1 & 0 & 0 & 0 & 0 & Baccin2019;CellPhoneDB;ICELLNET;SIGNOR & Baccin2019:16988024;ICELLNET:10940895;ICELLNET:23418628;SIGNOR:12808052 & 4 & 4 & 4 & both\\\\\n",
       "\t ICAM1\\_ITGAL & ICAM1 & ITGAL & ITGAL\\_ITGB2\\_ICAM1 & COMPLEX:P05107\\_P20701 & P05362 & ITGAL\\_ITGB2 & ICAM1 & 1 & 1 & 0 & 0 & 0 & 0 & Baccin2019;CellPhoneDB;ICELLNET;SIGNOR & Baccin2019:16988024;ICELLNET:10940895;ICELLNET:23418628;SIGNOR:12808052 & 4 & 4 & 4 & both\\\\\n",
       "\t ICAM1\\_ITGB2 & ICAM1 & ITGB2 & ITGAL\\_ITGB2\\_ICAM1 & COMPLEX:P05107\\_P20701 & P05362 & ITGAL\\_ITGB2 & ICAM1 & 1 & 1 & 0 & 0 & 0 & 0 & Baccin2019;CellPhoneDB;ICELLNET;SIGNOR & Baccin2019:16988024;ICELLNET:10940895;ICELLNET:23418628;SIGNOR:12808052 & 4 & 4 & 4 & both\\\\\n",
       "\\end{tabular}\n"
      ],
      "text/markdown": [
       "\n",
       "A data.frame: 6 × 20\n",
       "\n",
       "| Pair.Name &lt;chr&gt; | Ligand &lt;chr&gt; | Receptor &lt;chr&gt; | complex_pair &lt;chr&gt; | source &lt;chr&gt; | target &lt;chr&gt; | source_genesymbol &lt;chr&gt; | target_genesymbol &lt;chr&gt; | is_directed &lt;dbl&gt; | is_stimulation &lt;dbl&gt; | is_inhibition &lt;dbl&gt; | consensus_direction &lt;dbl&gt; | consensus_stimulation &lt;dbl&gt; | consensus_inhibition &lt;dbl&gt; | sources &lt;chr&gt; | references &lt;chr&gt; | curation_effort &lt;dbl&gt; | n_references &lt;dbl&gt; | n_resources &lt;int&gt; | annotation_strategy &lt;chr&gt; |\n",
       "|---|---|---|---|---|---|---|---|---|---|---|---|---|---|---|---|---|---|---|---|\n",
       "| ITGAL_ITGB2 | ITGAL | ITGB2 | ITGAL_ITGB2_ICAM1 | COMPLEX:P05107_P20701 | P05362 | ITGAL_ITGB2 | ICAM1 | 1 | 1 | 0 | 0 | 0 | 0 | Baccin2019;CellPhoneDB;ICELLNET;SIGNOR | Baccin2019:16988024;ICELLNET:10940895;ICELLNET:23418628;SIGNOR:12808052 | 4 | 4 | 4 | both |\n",
       "| ITGAL_ICAM1 | ITGAL | ICAM1 | ITGAL_ITGB2_ICAM1 | COMPLEX:P05107_P20701 | P05362 | ITGAL_ITGB2 | ICAM1 | 1 | 1 | 0 | 0 | 0 | 0 | Baccin2019;CellPhoneDB;ICELLNET;SIGNOR | Baccin2019:16988024;ICELLNET:10940895;ICELLNET:23418628;SIGNOR:12808052 | 4 | 4 | 4 | both |\n",
       "| ITGB2_ICAM1 | ITGB2 | ICAM1 | ITGAL_ITGB2_ICAM1 | COMPLEX:P05107_P20701 | P05362 | ITGAL_ITGB2 | ICAM1 | 1 | 1 | 0 | 0 | 0 | 0 | Baccin2019;CellPhoneDB;ICELLNET;SIGNOR | Baccin2019:16988024;ICELLNET:10940895;ICELLNET:23418628;SIGNOR:12808052 | 4 | 4 | 4 | both |\n",
       "| ITGB2_ITGAL | ITGB2 | ITGAL | ITGAL_ITGB2_ICAM1 | COMPLEX:P05107_P20701 | P05362 | ITGAL_ITGB2 | ICAM1 | 1 | 1 | 0 | 0 | 0 | 0 | Baccin2019;CellPhoneDB;ICELLNET;SIGNOR | Baccin2019:16988024;ICELLNET:10940895;ICELLNET:23418628;SIGNOR:12808052 | 4 | 4 | 4 | both |\n",
       "| ICAM1_ITGAL | ICAM1 | ITGAL | ITGAL_ITGB2_ICAM1 | COMPLEX:P05107_P20701 | P05362 | ITGAL_ITGB2 | ICAM1 | 1 | 1 | 0 | 0 | 0 | 0 | Baccin2019;CellPhoneDB;ICELLNET;SIGNOR | Baccin2019:16988024;ICELLNET:10940895;ICELLNET:23418628;SIGNOR:12808052 | 4 | 4 | 4 | both |\n",
       "| ICAM1_ITGB2 | ICAM1 | ITGB2 | ITGAL_ITGB2_ICAM1 | COMPLEX:P05107_P20701 | P05362 | ITGAL_ITGB2 | ICAM1 | 1 | 1 | 0 | 0 | 0 | 0 | Baccin2019;CellPhoneDB;ICELLNET;SIGNOR | Baccin2019:16988024;ICELLNET:10940895;ICELLNET:23418628;SIGNOR:12808052 | 4 | 4 | 4 | both |\n",
       "\n"
      ],
      "text/plain": [
       "  Pair.Name   Ligand Receptor complex_pair      source                target\n",
       "1 ITGAL_ITGB2 ITGAL  ITGB2    ITGAL_ITGB2_ICAM1 COMPLEX:P05107_P20701 P05362\n",
       "2 ITGAL_ICAM1 ITGAL  ICAM1    ITGAL_ITGB2_ICAM1 COMPLEX:P05107_P20701 P05362\n",
       "3 ITGB2_ICAM1 ITGB2  ICAM1    ITGAL_ITGB2_ICAM1 COMPLEX:P05107_P20701 P05362\n",
       "4 ITGB2_ITGAL ITGB2  ITGAL    ITGAL_ITGB2_ICAM1 COMPLEX:P05107_P20701 P05362\n",
       "5 ICAM1_ITGAL ICAM1  ITGAL    ITGAL_ITGB2_ICAM1 COMPLEX:P05107_P20701 P05362\n",
       "6 ICAM1_ITGB2 ICAM1  ITGB2    ITGAL_ITGB2_ICAM1 COMPLEX:P05107_P20701 P05362\n",
       "  source_genesymbol target_genesymbol is_directed is_stimulation is_inhibition\n",
       "1 ITGAL_ITGB2       ICAM1             1           1              0            \n",
       "2 ITGAL_ITGB2       ICAM1             1           1              0            \n",
       "3 ITGAL_ITGB2       ICAM1             1           1              0            \n",
       "4 ITGAL_ITGB2       ICAM1             1           1              0            \n",
       "5 ITGAL_ITGB2       ICAM1             1           1              0            \n",
       "6 ITGAL_ITGB2       ICAM1             1           1              0            \n",
       "  consensus_direction consensus_stimulation consensus_inhibition\n",
       "1 0                   0                     0                   \n",
       "2 0                   0                     0                   \n",
       "3 0                   0                     0                   \n",
       "4 0                   0                     0                   \n",
       "5 0                   0                     0                   \n",
       "6 0                   0                     0                   \n",
       "  sources                               \n",
       "1 Baccin2019;CellPhoneDB;ICELLNET;SIGNOR\n",
       "2 Baccin2019;CellPhoneDB;ICELLNET;SIGNOR\n",
       "3 Baccin2019;CellPhoneDB;ICELLNET;SIGNOR\n",
       "4 Baccin2019;CellPhoneDB;ICELLNET;SIGNOR\n",
       "5 Baccin2019;CellPhoneDB;ICELLNET;SIGNOR\n",
       "6 Baccin2019;CellPhoneDB;ICELLNET;SIGNOR\n",
       "  references                                                             \n",
       "1 Baccin2019:16988024;ICELLNET:10940895;ICELLNET:23418628;SIGNOR:12808052\n",
       "2 Baccin2019:16988024;ICELLNET:10940895;ICELLNET:23418628;SIGNOR:12808052\n",
       "3 Baccin2019:16988024;ICELLNET:10940895;ICELLNET:23418628;SIGNOR:12808052\n",
       "4 Baccin2019:16988024;ICELLNET:10940895;ICELLNET:23418628;SIGNOR:12808052\n",
       "5 Baccin2019:16988024;ICELLNET:10940895;ICELLNET:23418628;SIGNOR:12808052\n",
       "6 Baccin2019:16988024;ICELLNET:10940895;ICELLNET:23418628;SIGNOR:12808052\n",
       "  curation_effort n_references n_resources annotation_strategy\n",
       "1 4               4            4           both               \n",
       "2 4               4            4           both               \n",
       "3 4               4            4           both               \n",
       "4 4               4            4           both               \n",
       "5 4               4            4           both               \n",
       "6 4               4            4           both               "
      ]
     },
     "metadata": {},
     "output_type": "display_data"
    }
   ],
   "source": [
    "filter(pairwise_pairs, complex_pair==\"ITGAL_ITGB2_ICAM1\")"
   ]
  },
  {
   "cell_type": "code",
   "execution_count": 21,
   "id": "c0e29aab",
   "metadata": {},
   "outputs": [],
   "source": [
    "table_data <- as.data.frame(table(pairwise_pairs$complex_pair))"
   ]
  },
  {
   "cell_type": "code",
   "execution_count": 22,
   "id": "20fe6dcc",
   "metadata": {},
   "outputs": [
    {
     "data": {
      "image/png": "[encoded data removed]",
      "text/plain": [
       "Plot with title “density.default(x = table_data$Freq)”"
      ]
     },
     "metadata": {
      "image/png": {
       "height": 420,
       "width": 420
      }
     },
     "output_type": "display_data"
    }
   ],
   "source": [
    "d <- density(table_data$Freq) # returns the density data\n",
    "plot(d) # plots the results"
   ]
  },
  {
   "cell_type": "code",
   "execution_count": 23,
   "id": "daee082e",
   "metadata": {},
   "outputs": [],
   "source": [
    "table_data <- as.data.frame(table(pt_interactions$complex_pair))"
   ]
  },
  {
   "cell_type": "code",
   "execution_count": 24,
   "id": "2ece65ed",
   "metadata": {},
   "outputs": [
    {
     "name": "stderr",
     "output_type": "stream",
     "text": [
      "Warning message:\n",
      "“\u001b[1m\u001b[22mUsing `size` aesthetic for lines was deprecated in ggplot2 3.4.0.\n",
      "\u001b[36mℹ\u001b[39m Please use `linewidth` instead.”\n"
     ]
    },
    {
     "data": {
      "image/png": "[encoded data removed]",
      "text/plain": [
       "plot without title"
      ]
     },
     "metadata": {
      "image/png": {
       "height": 420,
       "width": 420
      }
     },
     "output_type": "display_data"
    }
   ],
   "source": [
    "ggplot(table_data, aes(x=Freq)) +\n",
    "    geom_histogram(binwidth=.5, colour=\"black\", fill=\"white\") +\n",
    "    geom_vline(aes(xintercept=mean(Freq, na.rm=T)),   # Ignore NA values for mean\n",
    "               color=\"red\", linetype=\"dashed\", size=1)\n",
    "# ggsave(\"binaries found.jpeg\")"
   ]
  },
  {
   "cell_type": "code",
   "execution_count": 25,
   "id": "858b7905",
   "metadata": {},
   "outputs": [],
   "source": [
    "# table_data <- table(pt_interactions$complex_pair)\n",
    "# hist(table_data, main = \"Number of binary pairs produced from complex\", xlab = \"# of binary originating from a single complex\", ylab = \"Count\")"
   ]
  },
  {
   "cell_type": "markdown",
   "id": "ba6316e3",
   "metadata": {},
   "source": [
    "# Complexes are broken down, now we can combine with the rest of the db"
   ]
  },
  {
   "cell_type": "code",
   "execution_count": null,
   "id": "2ddf0965",
   "metadata": {},
   "outputs": [],
   "source": []
  },
  {
   "cell_type": "code",
   "execution_count": 26,
   "id": "f526e668",
   "metadata": {},
   "outputs": [],
   "source": [
    "single_components = filter(both_db, !grepl('COMPLEX', target) & !grepl('COMPLEX',source))\n",
    "# remove pair column\n",
    "single_components$pair <- NULL\n",
    "\n",
    "single_components <- single_components %>%\n",
    "#       dplyr::select(source_genesymbol, target_genesymbol) %>%\n",
    "      dplyr::rename(Ligand=source_genesymbol, Receptor=target_genesymbol) %>%\n",
    "      dplyr::mutate(complex_pair = NA)"
   ]
  },
  {
   "cell_type": "code",
   "execution_count": 27,
   "id": "c910771c",
   "metadata": {},
   "outputs": [],
   "source": [
    "single_components$Pair.Name <- paste(single_components$Ligand, single_components$Receptor, sep=\"_\")"
   ]
  },
  {
   "cell_type": "code",
   "execution_count": 28,
   "id": "90c67e1d",
   "metadata": {},
   "outputs": [],
   "source": [
    "# switch column order\n",
    "single_components <- data.frame(Pair.Name = single_components$Pair.Name, single_components[, !(names(single_components) %in% \"Pair.Name\")])"
   ]
  },
  {
   "cell_type": "code",
   "execution_count": 29,
   "id": "7c835334",
   "metadata": {},
   "outputs": [],
   "source": [
    "pt_interactions$target_genesymbol  <- NULL\n",
    "pt_interactions$source_genesymbol  <- NULL"
   ]
  },
  {
   "cell_type": "code",
   "execution_count": 30,
   "id": "341252ed",
   "metadata": {},
   "outputs": [],
   "source": [
    "#merge the single ones, with complexes componenets that are detected via PT_DB\n",
    "complete <- rbind(single_components, pt_interactions)\n",
    "# drop duplicates, keep the last as it marks the complexes\n",
    "complete <- complete[ !duplicated(complete[, \"Pair.Name\"], fromLast=T),]"
   ]
  },
  {
   "cell_type": "markdown",
   "id": "f2137675",
   "metadata": {},
   "source": [
    "# Gene Descriptions\n",
    "\n",
    "We use mygene library to get the gene descriptions"
   ]
  },
  {
   "cell_type": "code",
   "execution_count": 31,
   "id": "20c86ffc",
   "metadata": {},
   "outputs": [
    {
     "name": "stderr",
     "output_type": "stream",
     "text": [
      "Loading required package: GenomicFeatures\n",
      "\n",
      "Loading required package: BiocGenerics\n",
      "\n",
      "\n",
      "Attaching package: ‘BiocGenerics’\n",
      "\n",
      "\n",
      "The following objects are masked from ‘package:dplyr’:\n",
      "\n",
      "    combine, intersect, setdiff, union\n",
      "\n",
      "\n",
      "The following objects are masked from ‘package:stats’:\n",
      "\n",
      "    IQR, mad, sd, var, xtabs\n",
      "\n",
      "\n",
      "The following objects are masked from ‘package:base’:\n",
      "\n",
      "    anyDuplicated, append, as.data.frame, basename, cbind, colnames,\n",
      "    dirname, do.call, duplicated, eval, evalq, Filter, Find, get, grep,\n",
      "    grepl, intersect, is.unsorted, lapply, Map, mapply, match, mget,\n",
      "    order, paste, pmax, pmax.int, pmin, pmin.int, Position, rank,\n",
      "    rbind, Reduce, rownames, sapply, setdiff, sort, table, tapply,\n",
      "    union, unique, unsplit, which.max, which.min\n",
      "\n",
      "\n",
      "Loading required package: S4Vectors\n",
      "\n",
      "Loading required package: stats4\n",
      "\n",
      "\n",
      "Attaching package: ‘S4Vectors’\n",
      "\n",
      "\n",
      "The following objects are masked from ‘package:dplyr’:\n",
      "\n",
      "    first, rename\n",
      "\n",
      "\n",
      "The following object is masked from ‘package:tidyr’:\n",
      "\n",
      "    expand\n",
      "\n",
      "\n",
      "The following objects are masked from ‘package:base’:\n",
      "\n",
      "    expand.grid, I, unname\n",
      "\n",
      "\n",
      "Loading required package: IRanges\n",
      "\n",
      "\n",
      "Attaching package: ‘IRanges’\n",
      "\n",
      "\n",
      "The following object is masked from ‘package:glue’:\n",
      "\n",
      "    trim\n",
      "\n",
      "\n",
      "The following objects are masked from ‘package:dplyr’:\n",
      "\n",
      "    collapse, desc, slice\n",
      "\n",
      "\n",
      "The following object is masked from ‘package:purrr’:\n",
      "\n",
      "    reduce\n",
      "\n",
      "\n",
      "Loading required package: GenomeInfoDb\n",
      "\n",
      "Loading required package: GenomicRanges\n",
      "\n",
      "Loading required package: AnnotationDbi\n",
      "\n",
      "Loading required package: Biobase\n",
      "\n",
      "Welcome to Bioconductor\n",
      "\n",
      "    Vignettes contain introductory material; view with\n",
      "    'browseVignettes()'. To cite Bioconductor, see\n",
      "    'citation(\"Biobase\")', and for packages 'citation(\"pkgname\")'.\n",
      "\n",
      "\n",
      "\n",
      "Attaching package: ‘AnnotationDbi’\n",
      "\n",
      "\n",
      "The following object is masked from ‘package:dplyr’:\n",
      "\n",
      "    select\n",
      "\n",
      "\n"
     ]
    }
   ],
   "source": [
    "library(mygene)"
   ]
  },
  {
   "cell_type": "code",
   "execution_count": 32,
   "id": "ddc9909a",
   "metadata": {},
   "outputs": [],
   "source": [
    "# map_gene_descriptions function:\n",
    "# 1. maps gene symbols to gene descriptions using the queryMany function\n",
    "# 2. maps the protein descriptions to the dataset\n",
    "# 3. reorders columns and renames columns\n",
    "\n",
    "map_gene_descriptions <- function(complete) {\n",
    "    # get gene symbols\n",
    "    gene_symbols <- unique(c(complete$source,complete$target))\n",
    "    \n",
    "    prot_descriptions <- queryMany(gene_symbols, scopes = \"symbol\", \n",
    "                              fields = c(\"name\"), \n",
    "                              species = \"human\", as_dataframe = \"True\")\n",
    "    \n",
    "    prot_descriptions <- as.data.frame(prot_descriptions)\n",
    "    \n",
    "    #map protein descriptions to complete set\n",
    "\n",
    "    for (x in 1:nrow(complete)) {\n",
    "        ligand_symbol=complete[x,]$source\n",
    "        receptor_symbol=complete[x,]$target\n",
    "        ligand_description=filter(prot_descriptions, query==ligand_symbol)$name\n",
    "        receptor_description=filter(prot_descriptions, query==receptor_symbol)$name\n",
    "        lig_id=filter(anno_raw, genesymbol==ligand_symbol)$uniprot[1]\n",
    "        rec_id=filter(anno_raw, genesymbol==receptor_symbol)$uniprot[1]\n",
    "\n",
    "        if (ligand_symbol==\"PIK3CD-AS1\") {\n",
    "          lig_id <- \"O00329\"\n",
    "        }\n",
    "\n",
    "    #     if (is.null(receptor_description)) {\n",
    "    #       receptor_description <- \"NA\"\n",
    "    #     }\n",
    "\n",
    "\n",
    "        complete[x, \"ligand.name\"] = ligand_description[1]\n",
    "        complete[x, \"receptor.name\"] = receptor_description[1]\n",
    "        complete[x, \"partner_a\"] = lig_id\n",
    "        complete[x, \"partner_b\"] = rec_id\n",
    "    }\n",
    "    \n",
    "#     #reorder columns\n",
    "#     complete <- complete[, c(\"pair\", \"source\", \"ligand.name\", \"target\", \"receptor.name\", \"complex_pair\",\n",
    "#                              \"partner_a\",\"partner_b\")]\n",
    "#     #rename column names\n",
    "#     names(complete) <- c(\"Pair.Name\", \"Ligand\", \"Ligand.Name\", \"Receptor\", \"Receptor.Name\", \"complex_pair\",\n",
    "#                         \"partner_a\",\"partner_b\")\n",
    "    \n",
    "    return(complete)\n",
    "}"
   ]
  },
  {
   "cell_type": "code",
   "execution_count": 33,
   "id": "896a6ac5",
   "metadata": {},
   "outputs": [
    {
     "name": "stderr",
     "output_type": "stream",
     "text": [
      "Querying chunk 1\n",
      "\n",
      "Querying chunk 2\n",
      "\n",
      "Querying chunk 3\n",
      "\n"
     ]
    },
    {
     "name": "stdout",
     "output_type": "stream",
     "text": [
      "Finished\n",
      "Pass returnall=TRUE to return lists of duplicate or missing query terms.\n"
     ]
    }
   ],
   "source": [
    "gene_symbols <- unique(c(complete$Ligand,complete$Receptor))\n",
    "\n",
    "prot_descriptions <- queryMany(gene_symbols, scopes = \"symbol\", \n",
    "                          fields = c(\"name\"), \n",
    "                          species = \"human\", as_dataframe = \"True\")\n",
    "\n",
    "prot_descriptions <- as.data.frame(prot_descriptions)\n",
    "\n",
    "#map protein descriptions to complete set\n",
    "\n",
    "for (x in 1:nrow(complete)) {\n",
    "    ligand_symbol=complete[x,]$Ligand\n",
    "    receptor_symbol=complete[x,]$Receptor\n",
    "    ligand_description=filter(prot_descriptions, query==ligand_symbol)$name\n",
    "    receptor_description=filter(prot_descriptions, query==receptor_symbol)$name\n",
    "    lig_id=filter(anno_raw, genesymbol==ligand_symbol)$uniprot[1]\n",
    "    rec_id=filter(anno_raw, genesymbol==receptor_symbol)$uniprot[1]\n",
    "\n",
    "    if (ligand_symbol==\"PIK3CD-AS1\") {\n",
    "      lig_id <- \"O00329\"\n",
    "    }\n",
    "\n",
    "#     if (is.null(receptor_description)) {\n",
    "#       receptor_description <- \"NA\"\n",
    "#     }\n",
    "\n",
    "\n",
    "    complete[x, \"Ligand.Name\"] = ligand_description[1]\n",
    "    complete[x, \"Receptor.Name\"] = receptor_description[1]\n",
    "#     complete[x, \"partner_a\"] = lig_id\n",
    "#     complete[x, \"partner_b\"] = rec_id\n",
    "    }"
   ]
  },
  {
   "cell_type": "code",
   "execution_count": 34,
   "id": "48e1ed93",
   "metadata": {},
   "outputs": [],
   "source": [
    "#reorder columns\n",
    "\n",
    "desired_order <- c(\"Pair.Name\", \"Ligand\", \"Ligand.Name\", \"Receptor\", \"Receptor.Name\", \"complex_pair\")\n",
    "\n",
    "remaining_cols <- setdiff(names(complete), desired_order)\n",
    "final_order <- c(desired_order, remaining_cols)\n",
    "\n",
    "# Reorder the dataframe columns\n",
    "complete <- complete[, final_order]"
   ]
  },
  {
   "cell_type": "code",
   "execution_count": null,
   "id": "2858ba0a",
   "metadata": {},
   "outputs": [],
   "source": []
  },
  {
   "cell_type": "code",
   "execution_count": 35,
   "id": "b55f4ece",
   "metadata": {},
   "outputs": [],
   "source": [
    "c <- complete"
   ]
  },
  {
   "cell_type": "code",
   "execution_count": 36,
   "id": "01fc774c",
   "metadata": {},
   "outputs": [
    {
     "data": {
      "text/html": [
       "<table class=\"dataframe\">\n",
       "<caption>A data.frame: 2 × 20</caption>\n",
       "<thead>\n",
       "\t<tr><th scope=col>Pair.Name</th><th scope=col>Ligand</th><th scope=col>Ligand.Name</th><th scope=col>Receptor</th><th scope=col>Receptor.Name</th><th scope=col>complex_pair</th><th scope=col>source</th><th scope=col>target</th><th scope=col>is_directed</th><th scope=col>is_stimulation</th><th scope=col>is_inhibition</th><th scope=col>consensus_direction</th><th scope=col>consensus_stimulation</th><th scope=col>consensus_inhibition</th><th scope=col>sources</th><th scope=col>references</th><th scope=col>curation_effort</th><th scope=col>n_references</th><th scope=col>n_resources</th><th scope=col>annotation_strategy</th></tr>\n",
       "\t<tr><th scope=col>&lt;chr&gt;</th><th scope=col>&lt;chr&gt;</th><th scope=col>&lt;chr&gt;</th><th scope=col>&lt;chr&gt;</th><th scope=col>&lt;chr&gt;</th><th scope=col>&lt;chr&gt;</th><th scope=col>&lt;chr&gt;</th><th scope=col>&lt;chr&gt;</th><th scope=col>&lt;dbl&gt;</th><th scope=col>&lt;dbl&gt;</th><th scope=col>&lt;dbl&gt;</th><th scope=col>&lt;dbl&gt;</th><th scope=col>&lt;dbl&gt;</th><th scope=col>&lt;dbl&gt;</th><th scope=col>&lt;chr&gt;</th><th scope=col>&lt;chr&gt;</th><th scope=col>&lt;dbl&gt;</th><th scope=col>&lt;dbl&gt;</th><th scope=col>&lt;int&gt;</th><th scope=col>&lt;chr&gt;</th></tr>\n",
       "</thead>\n",
       "<tbody>\n",
       "\t<tr><td>PIK3CD-AS1_LY6G6C </td><td>PIK3CD-AS1</td><td>PIK3CD antisense RNA 1</td><td>LY6G6C </td><td>lymphocyte antigen 6 family member G6C</td><td>NA</td><td>Q5SR53</td><td>O95867</td><td>1</td><td>0</td><td>0</td><td>0</td><td>0</td><td>0</td><td>Fantom5_LRdb;LRdb;iTALK</td><td>NA</td><td>0</td><td>0</td><td>2</td><td>LR</td></tr>\n",
       "\t<tr><td>PIK3CD-AS1_SLC16A4</td><td>PIK3CD-AS1</td><td>PIK3CD antisense RNA 1</td><td>SLC16A4</td><td>solute carrier family 16 member 4     </td><td>NA</td><td>Q5SR53</td><td>O15374</td><td>1</td><td>0</td><td>0</td><td>0</td><td>0</td><td>0</td><td>Fantom5_LRdb;LRdb;iTALK</td><td>NA</td><td>0</td><td>0</td><td>2</td><td>LR</td></tr>\n",
       "</tbody>\n",
       "</table>\n"
      ],
      "text/latex": [
       "A data.frame: 2 × 20\n",
       "\\begin{tabular}{llllllllllllllllllll}\n",
       " Pair.Name & Ligand & Ligand.Name & Receptor & Receptor.Name & complex\\_pair & source & target & is\\_directed & is\\_stimulation & is\\_inhibition & consensus\\_direction & consensus\\_stimulation & consensus\\_inhibition & sources & references & curation\\_effort & n\\_references & n\\_resources & annotation\\_strategy\\\\\n",
       " <chr> & <chr> & <chr> & <chr> & <chr> & <chr> & <chr> & <chr> & <dbl> & <dbl> & <dbl> & <dbl> & <dbl> & <dbl> & <chr> & <chr> & <dbl> & <dbl> & <int> & <chr>\\\\\n",
       "\\hline\n",
       "\t PIK3CD-AS1\\_LY6G6C  & PIK3CD-AS1 & PIK3CD antisense RNA 1 & LY6G6C  & lymphocyte antigen 6 family member G6C & NA & Q5SR53 & O95867 & 1 & 0 & 0 & 0 & 0 & 0 & Fantom5\\_LRdb;LRdb;iTALK & NA & 0 & 0 & 2 & LR\\\\\n",
       "\t PIK3CD-AS1\\_SLC16A4 & PIK3CD-AS1 & PIK3CD antisense RNA 1 & SLC16A4 & solute carrier family 16 member 4      & NA & Q5SR53 & O15374 & 1 & 0 & 0 & 0 & 0 & 0 & Fantom5\\_LRdb;LRdb;iTALK & NA & 0 & 0 & 2 & LR\\\\\n",
       "\\end{tabular}\n"
      ],
      "text/markdown": [
       "\n",
       "A data.frame: 2 × 20\n",
       "\n",
       "| Pair.Name &lt;chr&gt; | Ligand &lt;chr&gt; | Ligand.Name &lt;chr&gt; | Receptor &lt;chr&gt; | Receptor.Name &lt;chr&gt; | complex_pair &lt;chr&gt; | source &lt;chr&gt; | target &lt;chr&gt; | is_directed &lt;dbl&gt; | is_stimulation &lt;dbl&gt; | is_inhibition &lt;dbl&gt; | consensus_direction &lt;dbl&gt; | consensus_stimulation &lt;dbl&gt; | consensus_inhibition &lt;dbl&gt; | sources &lt;chr&gt; | references &lt;chr&gt; | curation_effort &lt;dbl&gt; | n_references &lt;dbl&gt; | n_resources &lt;int&gt; | annotation_strategy &lt;chr&gt; |\n",
       "|---|---|---|---|---|---|---|---|---|---|---|---|---|---|---|---|---|---|---|---|\n",
       "| PIK3CD-AS1_LY6G6C  | PIK3CD-AS1 | PIK3CD antisense RNA 1 | LY6G6C  | lymphocyte antigen 6 family member G6C | NA | Q5SR53 | O95867 | 1 | 0 | 0 | 0 | 0 | 0 | Fantom5_LRdb;LRdb;iTALK | NA | 0 | 0 | 2 | LR |\n",
       "| PIK3CD-AS1_SLC16A4 | PIK3CD-AS1 | PIK3CD antisense RNA 1 | SLC16A4 | solute carrier family 16 member 4      | NA | Q5SR53 | O15374 | 1 | 0 | 0 | 0 | 0 | 0 | Fantom5_LRdb;LRdb;iTALK | NA | 0 | 0 | 2 | LR |\n",
       "\n"
      ],
      "text/plain": [
       "  Pair.Name          Ligand     Ligand.Name            Receptor\n",
       "1 PIK3CD-AS1_LY6G6C  PIK3CD-AS1 PIK3CD antisense RNA 1 LY6G6C  \n",
       "2 PIK3CD-AS1_SLC16A4 PIK3CD-AS1 PIK3CD antisense RNA 1 SLC16A4 \n",
       "  Receptor.Name                          complex_pair source target is_directed\n",
       "1 lymphocyte antigen 6 family member G6C NA           Q5SR53 O95867 1          \n",
       "2 solute carrier family 16 member 4      NA           Q5SR53 O15374 1          \n",
       "  is_stimulation is_inhibition consensus_direction consensus_stimulation\n",
       "1 0              0             0                   0                    \n",
       "2 0              0             0                   0                    \n",
       "  consensus_inhibition sources                 references curation_effort\n",
       "1 0                    Fantom5_LRdb;LRdb;iTALK NA         0              \n",
       "2 0                    Fantom5_LRdb;LRdb;iTALK NA         0              \n",
       "  n_references n_resources annotation_strategy\n",
       "1 0            2           LR                 \n",
       "2 0            2           LR                 "
      ]
     },
     "metadata": {},
     "output_type": "display_data"
    }
   ],
   "source": [
    "filter(complete,Ligand==\"PIK3CD-AS1\")"
   ]
  },
  {
   "cell_type": "code",
   "execution_count": 37,
   "id": "92c292bf",
   "metadata": {},
   "outputs": [],
   "source": [
    "complete$Ligand <- str_replace(complete$Ligand, \"PIK3CD-AS1\", \"PIK3CD\")\n",
    "complete$Pair.Name <- paste(complete$Ligand, complete$Receptor, sep=\"_\")\n",
    "complete$dup <- paste(complete$Receptor, complete$Ligand, sep=\"_\")"
   ]
  },
  {
   "cell_type": "markdown",
   "id": "84279507",
   "metadata": {},
   "source": [
    "# Annotation of components\n",
    "\n",
    "The Omnipath Intercell annotation database is imported and used to annotate each component. If at least two databases categorize a component as a ligand or receptor, it is annotated as such. If not, we check other possible categories such as extracellular matrix, secreted, and transmembrane. Below is the list of resources used to annotote."
   ]
  },
  {
   "cell_type": "code",
   "execution_count": 38,
   "id": "92153987",
   "metadata": {},
   "outputs": [],
   "source": [
    "# This function is to annotate the components from the PPI network with their parent category\n",
    "# The input of this function is a df with columns of \"genesymbol\", \"score\", \"parent\"\n",
    "# The output of this function is a df with columns of \"genesymbol\", \"score\", \"parent\"\n",
    "# This function is used to annotate the components from the PPI network with their parent category\n",
    "\n",
    "annotate_components <- function(components) {\n",
    "    #create a df to store annotation\n",
    "    df <- data.frame(genesymbol = character(length(components)), score = numeric(length(components)),\n",
    "                     parent = character(length(components)), stringsAsFactors = FALSE)\n",
    "    \n",
    "    # Check if the components are categorized as ligands or receptors\n",
    "    for (x in 1:length(components)) {\n",
    "    #     maxvalue=max(filter(anno, uniprot==components[x])$consensus_score)\n",
    "        genename <- components[x]\n",
    "        parent_score <- sort(table(filter(anno_lig, genesymbol==components[x])$parent), decreasing = T, na.last = T)[1]\n",
    "        parent_category <- names(parent_score)\n",
    "\n",
    "        if (is.null(parent_category)) {\n",
    "          parent_category <- \"NA\"\n",
    "          parent_score <- 0\n",
    "        }\n",
    "\n",
    "        df[x, \"genesymbol\"] <- genename\n",
    "        df[x, \"score\"] <- parent_score\n",
    "        df[x, \"parent\"] <- parent_category\n",
    "\n",
    "    #     df$genesymbol[x] <- genename\n",
    "    #     df$score[x] <- parent_score\n",
    "    #     df$parent[x] <- parent_category\n",
    "    }\n",
    "    \n",
    "    # If a component is not classified as a ligand or receptor, we may consider other categories such as \n",
    "    # extracellular matrix, secreted, and transmembrane.# annotated others such as secreted, ecm etc\n",
    "\n",
    "    df_na <- filter(df, parent==\"NA\")$genesymbol\n",
    "\n",
    "    for (x in 1:length(df_na)) {\n",
    "    #     maxvalue=max(filter(anno, uniprot==components[x])$consensus_score)\n",
    "        genesymbol <- df_na[x]\n",
    "        parent_score <- sort(table(filter(anno_raw, genesymbol==df_na[x])$parent), decreasing = T, na.last = T)[1]\n",
    "        parent_category <- names(parent_score)\n",
    "\n",
    "        df <- df %>% mutate(parent = ifelse(genesymbol == df_na[x], parent_category, parent))\n",
    "        df <- df %>% mutate(score = ifelse(genesymbol == df_na[x], parent_score, score))\n",
    "\n",
    "    }\n",
    "    \n",
    "    # replace ecm and secreted with ligand\n",
    "    df$parent <- replace(df$parent, df$parent == \"ecm\", \"ligand\")\n",
    "    df$parent <- replace(df$parent, df$parent == \"secreted\", \"ligand\")\n",
    "    \n",
    "    return(df)\n",
    "\n",
    "}"
   ]
  },
  {
   "cell_type": "code",
   "execution_count": 39,
   "id": "d065509c",
   "metadata": {},
   "outputs": [],
   "source": [
    "components <- unique(c(complete$Ligand, complete$Receptor))"
   ]
  },
  {
   "cell_type": "code",
   "execution_count": 40,
   "id": "95c39d80",
   "metadata": {},
   "outputs": [],
   "source": [
    "annotation <- annotate_components(components)"
   ]
  },
  {
   "cell_type": "code",
   "execution_count": 41,
   "id": "75cd2ec6",
   "metadata": {},
   "outputs": [
    {
     "data": {
      "text/html": [
       "<style>\n",
       ".list-inline {list-style: none; margin:0; padding: 0}\n",
       ".list-inline>li {display: inline-block}\n",
       ".list-inline>li:not(:last-child)::after {content: \"\\00b7\"; padding: 0 .5ex}\n",
       "</style>\n",
       "<ol class=list-inline><li>'intracellular'</li><li>'ligand'</li><li>'receptor'</li><li>'transmembrane'</li><li>'cell_surface'</li><li>'ecm_regulator'</li><li>'cell_adhesion'</li><li>'gap_junction'</li><li>'plasma_membrane'</li><li>'ligand_regulator'</li></ol>\n"
      ],
      "text/latex": [
       "\\begin{enumerate*}\n",
       "\\item 'intracellular'\n",
       "\\item 'ligand'\n",
       "\\item 'receptor'\n",
       "\\item 'transmembrane'\n",
       "\\item 'cell\\_surface'\n",
       "\\item 'ecm\\_regulator'\n",
       "\\item 'cell\\_adhesion'\n",
       "\\item 'gap\\_junction'\n",
       "\\item 'plasma\\_membrane'\n",
       "\\item 'ligand\\_regulator'\n",
       "\\end{enumerate*}\n"
      ],
      "text/markdown": [
       "1. 'intracellular'\n",
       "2. 'ligand'\n",
       "3. 'receptor'\n",
       "4. 'transmembrane'\n",
       "5. 'cell_surface'\n",
       "6. 'ecm_regulator'\n",
       "7. 'cell_adhesion'\n",
       "8. 'gap_junction'\n",
       "9. 'plasma_membrane'\n",
       "10. 'ligand_regulator'\n",
       "\n",
       "\n"
      ],
      "text/plain": [
       " [1] \"intracellular\"    \"ligand\"           \"receptor\"         \"transmembrane\"   \n",
       " [5] \"cell_surface\"     \"ecm_regulator\"    \"cell_adhesion\"    \"gap_junction\"    \n",
       " [9] \"plasma_membrane\"  \"ligand_regulator\""
      ]
     },
     "metadata": {},
     "output_type": "display_data"
    }
   ],
   "source": [
    "unique(annotation$parent)"
   ]
  },
  {
   "cell_type": "code",
   "execution_count": 42,
   "id": "27fc43fa",
   "metadata": {},
   "outputs": [],
   "source": [
    "#TRUE LR genespace\n",
    "true_LR_anno <- filter(annotation, parent == \"receptor\" | parent == \"ligand\")\n",
    "# true_LR_genespace <- true_LR_anno$genesymbol"
   ]
  },
  {
   "cell_type": "code",
   "execution_count": 43,
   "id": "82978d1c",
   "metadata": {},
   "outputs": [
    {
     "data": {
      "text/html": [
       "<table class=\"dataframe\">\n",
       "<caption>A data.frame: 1 × 3</caption>\n",
       "<thead>\n",
       "\t<tr><th></th><th scope=col>genesymbol</th><th scope=col>score</th><th scope=col>parent</th></tr>\n",
       "\t<tr><th></th><th scope=col>&lt;chr&gt;</th><th scope=col>&lt;dbl&gt;</th><th scope=col>&lt;chr&gt;</th></tr>\n",
       "</thead>\n",
       "<tbody>\n",
       "\t<tr><th scope=row>1211</th><td>BMPR1B</td><td>20</td><td>receptor</td></tr>\n",
       "</tbody>\n",
       "</table>\n"
      ],
      "text/latex": [
       "A data.frame: 1 × 3\n",
       "\\begin{tabular}{r|lll}\n",
       "  & genesymbol & score & parent\\\\\n",
       "  & <chr> & <dbl> & <chr>\\\\\n",
       "\\hline\n",
       "\t1211 & BMPR1B & 20 & receptor\\\\\n",
       "\\end{tabular}\n"
      ],
      "text/markdown": [
       "\n",
       "A data.frame: 1 × 3\n",
       "\n",
       "| <!--/--> | genesymbol &lt;chr&gt; | score &lt;dbl&gt; | parent &lt;chr&gt; |\n",
       "|---|---|---|---|\n",
       "| 1211 | BMPR1B | 20 | receptor |\n",
       "\n"
      ],
      "text/plain": [
       "     genesymbol score parent  \n",
       "1211 BMPR1B     20    receptor"
      ]
     },
     "metadata": {},
     "output_type": "display_data"
    }
   ],
   "source": [
    "annotation[annotation$genesymbol==\"BMPR1B\",]"
   ]
  },
  {
   "cell_type": "code",
   "execution_count": 44,
   "id": "29c38464",
   "metadata": {},
   "outputs": [],
   "source": [
    "adhesive_genespace <- filter(annotation, !genesymbol %in% true_LR_anno$genesymbol)"
   ]
  },
  {
   "cell_type": "code",
   "execution_count": 45,
   "id": "71f80047",
   "metadata": {},
   "outputs": [],
   "source": [
    "ligands <- filter(true_LR_anno, parent==\"ligand\")$genesymbol\n",
    "receptors <- filter(true_LR_anno, parent==\"receptor\")$genesymbol"
   ]
  },
  {
   "cell_type": "code",
   "execution_count": 46,
   "id": "8f6a3bb7",
   "metadata": {},
   "outputs": [],
   "source": [
    "# Filter the LR pairs that are not in the correct direction\n",
    "# Exclude the pairs if the swapped (correct direction) counterparts exist in the database\n",
    "\n",
    "LR_fix_dir <- complete %>% \n",
    "  filter(Ligand %in% receptors & Receptor %in% ligands) #%>% \n",
    "  #anti_join(complete, by = c(\"dup\" = \"Pair.Name\"))\n",
    "#     filter(!dup %in% complete$Pair.Name)"
   ]
  },
  {
   "cell_type": "code",
   "execution_count": 47,
   "id": "420f6cd3",
   "metadata": {},
   "outputs": [],
   "source": [
    "# drop abpve\n",
    "complete <- filter(complete, !Pair.Name %in% LR_fix_dir$Pair.Name)"
   ]
  },
  {
   "cell_type": "code",
   "execution_count": 48,
   "id": "d129a3b5",
   "metadata": {},
   "outputs": [
    {
     "data": {
      "text/html": [
       "TRUE"
      ],
      "text/latex": [
       "TRUE"
      ],
      "text/markdown": [
       "TRUE"
      ],
      "text/plain": [
       "[1] TRUE"
      ]
     },
     "metadata": {},
     "output_type": "display_data"
    }
   ],
   "source": [
    "7415 - nrow(complete) == nrow(LR_fix_dir)"
   ]
  },
  {
   "cell_type": "code",
   "execution_count": 49,
   "id": "372dcf76",
   "metadata": {},
   "outputs": [
    {
     "data": {
      "text/html": [
       "<table class=\"dataframe\">\n",
       "<caption>A data.frame: 6 × 21</caption>\n",
       "<thead>\n",
       "\t<tr><th></th><th scope=col>Pair.Name</th><th scope=col>Ligand</th><th scope=col>Ligand.Name</th><th scope=col>Receptor</th><th scope=col>Receptor.Name</th><th scope=col>complex_pair</th><th scope=col>source</th><th scope=col>target</th><th scope=col>is_directed</th><th scope=col>is_stimulation</th><th scope=col>⋯</th><th scope=col>consensus_direction</th><th scope=col>consensus_stimulation</th><th scope=col>consensus_inhibition</th><th scope=col>sources</th><th scope=col>references</th><th scope=col>curation_effort</th><th scope=col>n_references</th><th scope=col>n_resources</th><th scope=col>annotation_strategy</th><th scope=col>dup</th></tr>\n",
       "\t<tr><th></th><th scope=col>&lt;chr&gt;</th><th scope=col>&lt;chr&gt;</th><th scope=col>&lt;chr&gt;</th><th scope=col>&lt;chr&gt;</th><th scope=col>&lt;chr&gt;</th><th scope=col>&lt;chr&gt;</th><th scope=col>&lt;chr&gt;</th><th scope=col>&lt;chr&gt;</th><th scope=col>&lt;dbl&gt;</th><th scope=col>&lt;dbl&gt;</th><th scope=col>⋯</th><th scope=col>&lt;dbl&gt;</th><th scope=col>&lt;dbl&gt;</th><th scope=col>&lt;dbl&gt;</th><th scope=col>&lt;chr&gt;</th><th scope=col>&lt;chr&gt;</th><th scope=col>&lt;dbl&gt;</th><th scope=col>&lt;dbl&gt;</th><th scope=col>&lt;int&gt;</th><th scope=col>&lt;chr&gt;</th><th scope=col>&lt;chr&gt;</th></tr>\n",
       "</thead>\n",
       "<tbody>\n",
       "\t<tr><th scope=row>1</th><td>NOTCH1_JAG2</td><td>NOTCH1</td><td>notch receptor 1                   </td><td>JAG2</td><td>jagged canonical Notch ligand 2    </td><td>NA</td><td>P46531</td><td>Q9Y219</td><td>1</td><td>0</td><td>⋯</td><td>0</td><td>0</td><td>0</td><td>Baccin2019;CellCall;HPRD;NetPath;Ramilowski2015_Baccin2019;SPIKE                                                              </td><td>HPRD:11006133;NetPath:11006133;SPIKE:15358736                                                                                                                                                                                                                         </td><td> 3</td><td>2</td><td> 5</td><td>LR  </td><td>JAG2_NOTCH1</td></tr>\n",
       "\t<tr><th scope=row>2</th><td>NOTCH1_DLL1</td><td>NOTCH1</td><td>notch receptor 1                   </td><td>DLL1</td><td>delta like canonical Notch ligand 1</td><td>NA</td><td>P46531</td><td>O00548</td><td>1</td><td>1</td><td>⋯</td><td>0</td><td>0</td><td>0</td><td>Baccin2019;CellCall;HPRD;NetPath;Ramilowski2015_Baccin2019;SPIKE;SignaLink3;Wang                                              </td><td>Baccin2019:11006133;HPRD:11006133;NetPath:11006133;SPIKE:11006133;SPIKE:15358736;SPIKE:17537801;SignaLink3:21985982                                                                                                                                                   </td><td> 7</td><td>4</td><td> 7</td><td>LR  </td><td>DLL1_NOTCH1</td></tr>\n",
       "\t<tr><th scope=row>3</th><td>NOTCH1_JAG1</td><td>NOTCH1</td><td>notch receptor 1                   </td><td>JAG1</td><td>jagged canonical Notch ligand 1    </td><td>NA</td><td>P46531</td><td>P78504</td><td>1</td><td>1</td><td>⋯</td><td>0</td><td>0</td><td>0</td><td>Baccin2019;BioGRID;CellCall;DIP;HPMR;HPRD;IntAct;Kirouac2010;Lit-BM-17;NetPath;Ramilowski2015_Baccin2019;SPIKE;SignaLink3;Wang</td><td>Baccin2019:11006133;BioGRID:11006133;DIP:18660822;HPMR:7697721;HPRD:11006133;IntAct:18660822;IntAct:23086448;Lit-BM-17:11006133;Lit-BM-17:18660822;Lit-BM-17:21820430;NetPath:11006133;SPIKE:11006133;SPIKE:16713569;SPIKE:17537801;SPIKE:18495817;SignaLink3:22390640</td><td>16</td><td>9</td><td>13</td><td>both</td><td>JAG1_NOTCH1</td></tr>\n",
       "\t<tr><th scope=row>4</th><td>SFRP1_WNT4 </td><td>SFRP1 </td><td>secreted frizzled related protein 1</td><td>WNT4</td><td>Wnt family member 4                </td><td>NA</td><td>Q8N474</td><td>P56705</td><td>1</td><td>1</td><td>⋯</td><td>1</td><td>1</td><td>0</td><td>CancerCellMap;CellChatDB-cofactors;HPRD;NetPath;SIGNOR;SPIKE;SignaLink3;Wang                                                  </td><td>CancerCellMap:11287180;HPRD:11287180;NetPath:11287180;SIGNOR:11287180;SPIKE:11287180;SignaLink3:11287180;SignaLink3:18988627;SignaLink3:23331499                                                                                                                      </td><td> 8</td><td>3</td><td> 8</td><td>LR  </td><td>WNT4_SFRP1 </td></tr>\n",
       "\t<tr><th scope=row>5</th><td>SFRP1_WNT2 </td><td>SFRP1 </td><td>secreted frizzled related protein 1</td><td>WNT2</td><td>Wnt family member 2                </td><td>NA</td><td>Q8N474</td><td>P09544</td><td>1</td><td>0</td><td>⋯</td><td>1</td><td>0</td><td>1</td><td>CellChatDB-cofactors;HPRD;NetPath;SPIKE;Wang                                                                                  </td><td>HPRD:10347172;NetPath:10347172;SPIKE:10347172                                                                                                                                                                                                                         </td><td> 3</td><td>1</td><td> 5</td><td>LR  </td><td>WNT2_SFRP1 </td></tr>\n",
       "\t<tr><th scope=row>6</th><td>SFRP1_WNT1 </td><td>SFRP1 </td><td>secreted frizzled related protein 1</td><td>WNT1</td><td>Wnt family member 1                </td><td>NA</td><td>Q8N474</td><td>P04628</td><td>1</td><td>1</td><td>⋯</td><td>1</td><td>1</td><td>0</td><td>CancerCellMap;CellChatDB-cofactors;HPRD;NetPath;SIGNOR;SPIKE;SignaLink3;Wang                                                  </td><td>CancerCellMap:10523516;HPRD:10347172;NetPath:10347172;NetPath:10523516;SIGNOR:10347172;SIGNOR:10523516;SPIKE:10347172;SignaLink3:10347172;SignaLink3:10523516;SignaLink3:18988627;SignaLink3:21071413;SignaLink3:23331499                                             </td><td>12</td><td>5</td><td> 8</td><td>LR  </td><td>WNT1_SFRP1 </td></tr>\n",
       "</tbody>\n",
       "</table>\n"
      ],
      "text/latex": [
       "A data.frame: 6 × 21\n",
       "\\begin{tabular}{r|lllllllllllllllllllll}\n",
       "  & Pair.Name & Ligand & Ligand.Name & Receptor & Receptor.Name & complex\\_pair & source & target & is\\_directed & is\\_stimulation & ⋯ & consensus\\_direction & consensus\\_stimulation & consensus\\_inhibition & sources & references & curation\\_effort & n\\_references & n\\_resources & annotation\\_strategy & dup\\\\\n",
       "  & <chr> & <chr> & <chr> & <chr> & <chr> & <chr> & <chr> & <chr> & <dbl> & <dbl> & ⋯ & <dbl> & <dbl> & <dbl> & <chr> & <chr> & <dbl> & <dbl> & <int> & <chr> & <chr>\\\\\n",
       "\\hline\n",
       "\t1 & NOTCH1\\_JAG2 & NOTCH1 & notch receptor 1                    & JAG2 & jagged canonical Notch ligand 2     & NA & P46531 & Q9Y219 & 1 & 0 & ⋯ & 0 & 0 & 0 & Baccin2019;CellCall;HPRD;NetPath;Ramilowski2015\\_Baccin2019;SPIKE                                                               & HPRD:11006133;NetPath:11006133;SPIKE:15358736                                                                                                                                                                                                                          &  3 & 2 &  5 & LR   & JAG2\\_NOTCH1\\\\\n",
       "\t2 & NOTCH1\\_DLL1 & NOTCH1 & notch receptor 1                    & DLL1 & delta like canonical Notch ligand 1 & NA & P46531 & O00548 & 1 & 1 & ⋯ & 0 & 0 & 0 & Baccin2019;CellCall;HPRD;NetPath;Ramilowski2015\\_Baccin2019;SPIKE;SignaLink3;Wang                                               & Baccin2019:11006133;HPRD:11006133;NetPath:11006133;SPIKE:11006133;SPIKE:15358736;SPIKE:17537801;SignaLink3:21985982                                                                                                                                                    &  7 & 4 &  7 & LR   & DLL1\\_NOTCH1\\\\\n",
       "\t3 & NOTCH1\\_JAG1 & NOTCH1 & notch receptor 1                    & JAG1 & jagged canonical Notch ligand 1     & NA & P46531 & P78504 & 1 & 1 & ⋯ & 0 & 0 & 0 & Baccin2019;BioGRID;CellCall;DIP;HPMR;HPRD;IntAct;Kirouac2010;Lit-BM-17;NetPath;Ramilowski2015\\_Baccin2019;SPIKE;SignaLink3;Wang & Baccin2019:11006133;BioGRID:11006133;DIP:18660822;HPMR:7697721;HPRD:11006133;IntAct:18660822;IntAct:23086448;Lit-BM-17:11006133;Lit-BM-17:18660822;Lit-BM-17:21820430;NetPath:11006133;SPIKE:11006133;SPIKE:16713569;SPIKE:17537801;SPIKE:18495817;SignaLink3:22390640 & 16 & 9 & 13 & both & JAG1\\_NOTCH1\\\\\n",
       "\t4 & SFRP1\\_WNT4  & SFRP1  & secreted frizzled related protein 1 & WNT4 & Wnt family member 4                 & NA & Q8N474 & P56705 & 1 & 1 & ⋯ & 1 & 1 & 0 & CancerCellMap;CellChatDB-cofactors;HPRD;NetPath;SIGNOR;SPIKE;SignaLink3;Wang                                                   & CancerCellMap:11287180;HPRD:11287180;NetPath:11287180;SIGNOR:11287180;SPIKE:11287180;SignaLink3:11287180;SignaLink3:18988627;SignaLink3:23331499                                                                                                                       &  8 & 3 &  8 & LR   & WNT4\\_SFRP1 \\\\\n",
       "\t5 & SFRP1\\_WNT2  & SFRP1  & secreted frizzled related protein 1 & WNT2 & Wnt family member 2                 & NA & Q8N474 & P09544 & 1 & 0 & ⋯ & 1 & 0 & 1 & CellChatDB-cofactors;HPRD;NetPath;SPIKE;Wang                                                                                   & HPRD:10347172;NetPath:10347172;SPIKE:10347172                                                                                                                                                                                                                          &  3 & 1 &  5 & LR   & WNT2\\_SFRP1 \\\\\n",
       "\t6 & SFRP1\\_WNT1  & SFRP1  & secreted frizzled related protein 1 & WNT1 & Wnt family member 1                 & NA & Q8N474 & P04628 & 1 & 1 & ⋯ & 1 & 1 & 0 & CancerCellMap;CellChatDB-cofactors;HPRD;NetPath;SIGNOR;SPIKE;SignaLink3;Wang                                                   & CancerCellMap:10523516;HPRD:10347172;NetPath:10347172;NetPath:10523516;SIGNOR:10347172;SIGNOR:10523516;SPIKE:10347172;SignaLink3:10347172;SignaLink3:10523516;SignaLink3:18988627;SignaLink3:21071413;SignaLink3:23331499                                              & 12 & 5 &  8 & LR   & WNT1\\_SFRP1 \\\\\n",
       "\\end{tabular}\n"
      ],
      "text/markdown": [
       "\n",
       "A data.frame: 6 × 21\n",
       "\n",
       "| <!--/--> | Pair.Name &lt;chr&gt; | Ligand &lt;chr&gt; | Ligand.Name &lt;chr&gt; | Receptor &lt;chr&gt; | Receptor.Name &lt;chr&gt; | complex_pair &lt;chr&gt; | source &lt;chr&gt; | target &lt;chr&gt; | is_directed &lt;dbl&gt; | is_stimulation &lt;dbl&gt; | ⋯ ⋯ | consensus_direction &lt;dbl&gt; | consensus_stimulation &lt;dbl&gt; | consensus_inhibition &lt;dbl&gt; | sources &lt;chr&gt; | references &lt;chr&gt; | curation_effort &lt;dbl&gt; | n_references &lt;dbl&gt; | n_resources &lt;int&gt; | annotation_strategy &lt;chr&gt; | dup &lt;chr&gt; |\n",
       "|---|---|---|---|---|---|---|---|---|---|---|---|---|---|---|---|---|---|---|---|---|---|\n",
       "| 1 | NOTCH1_JAG2 | NOTCH1 | notch receptor 1                    | JAG2 | jagged canonical Notch ligand 2     | NA | P46531 | Q9Y219 | 1 | 0 | ⋯ | 0 | 0 | 0 | Baccin2019;CellCall;HPRD;NetPath;Ramilowski2015_Baccin2019;SPIKE                                                               | HPRD:11006133;NetPath:11006133;SPIKE:15358736                                                                                                                                                                                                                          |  3 | 2 |  5 | LR   | JAG2_NOTCH1 |\n",
       "| 2 | NOTCH1_DLL1 | NOTCH1 | notch receptor 1                    | DLL1 | delta like canonical Notch ligand 1 | NA | P46531 | O00548 | 1 | 1 | ⋯ | 0 | 0 | 0 | Baccin2019;CellCall;HPRD;NetPath;Ramilowski2015_Baccin2019;SPIKE;SignaLink3;Wang                                               | Baccin2019:11006133;HPRD:11006133;NetPath:11006133;SPIKE:11006133;SPIKE:15358736;SPIKE:17537801;SignaLink3:21985982                                                                                                                                                    |  7 | 4 |  7 | LR   | DLL1_NOTCH1 |\n",
       "| 3 | NOTCH1_JAG1 | NOTCH1 | notch receptor 1                    | JAG1 | jagged canonical Notch ligand 1     | NA | P46531 | P78504 | 1 | 1 | ⋯ | 0 | 0 | 0 | Baccin2019;BioGRID;CellCall;DIP;HPMR;HPRD;IntAct;Kirouac2010;Lit-BM-17;NetPath;Ramilowski2015_Baccin2019;SPIKE;SignaLink3;Wang | Baccin2019:11006133;BioGRID:11006133;DIP:18660822;HPMR:7697721;HPRD:11006133;IntAct:18660822;IntAct:23086448;Lit-BM-17:11006133;Lit-BM-17:18660822;Lit-BM-17:21820430;NetPath:11006133;SPIKE:11006133;SPIKE:16713569;SPIKE:17537801;SPIKE:18495817;SignaLink3:22390640 | 16 | 9 | 13 | both | JAG1_NOTCH1 |\n",
       "| 4 | SFRP1_WNT4  | SFRP1  | secreted frizzled related protein 1 | WNT4 | Wnt family member 4                 | NA | Q8N474 | P56705 | 1 | 1 | ⋯ | 1 | 1 | 0 | CancerCellMap;CellChatDB-cofactors;HPRD;NetPath;SIGNOR;SPIKE;SignaLink3;Wang                                                   | CancerCellMap:11287180;HPRD:11287180;NetPath:11287180;SIGNOR:11287180;SPIKE:11287180;SignaLink3:11287180;SignaLink3:18988627;SignaLink3:23331499                                                                                                                       |  8 | 3 |  8 | LR   | WNT4_SFRP1  |\n",
       "| 5 | SFRP1_WNT2  | SFRP1  | secreted frizzled related protein 1 | WNT2 | Wnt family member 2                 | NA | Q8N474 | P09544 | 1 | 0 | ⋯ | 1 | 0 | 1 | CellChatDB-cofactors;HPRD;NetPath;SPIKE;Wang                                                                                   | HPRD:10347172;NetPath:10347172;SPIKE:10347172                                                                                                                                                                                                                          |  3 | 1 |  5 | LR   | WNT2_SFRP1  |\n",
       "| 6 | SFRP1_WNT1  | SFRP1  | secreted frizzled related protein 1 | WNT1 | Wnt family member 1                 | NA | Q8N474 | P04628 | 1 | 1 | ⋯ | 1 | 1 | 0 | CancerCellMap;CellChatDB-cofactors;HPRD;NetPath;SIGNOR;SPIKE;SignaLink3;Wang                                                   | CancerCellMap:10523516;HPRD:10347172;NetPath:10347172;NetPath:10523516;SIGNOR:10347172;SIGNOR:10523516;SPIKE:10347172;SignaLink3:10347172;SignaLink3:10523516;SignaLink3:18988627;SignaLink3:21071413;SignaLink3:23331499                                              | 12 | 5 |  8 | LR   | WNT1_SFRP1  |\n",
       "\n"
      ],
      "text/plain": [
       "  Pair.Name   Ligand Ligand.Name                         Receptor\n",
       "1 NOTCH1_JAG2 NOTCH1 notch receptor 1                    JAG2    \n",
       "2 NOTCH1_DLL1 NOTCH1 notch receptor 1                    DLL1    \n",
       "3 NOTCH1_JAG1 NOTCH1 notch receptor 1                    JAG1    \n",
       "4 SFRP1_WNT4  SFRP1  secreted frizzled related protein 1 WNT4    \n",
       "5 SFRP1_WNT2  SFRP1  secreted frizzled related protein 1 WNT2    \n",
       "6 SFRP1_WNT1  SFRP1  secreted frizzled related protein 1 WNT1    \n",
       "  Receptor.Name                       complex_pair source target is_directed\n",
       "1 jagged canonical Notch ligand 2     NA           P46531 Q9Y219 1          \n",
       "2 delta like canonical Notch ligand 1 NA           P46531 O00548 1          \n",
       "3 jagged canonical Notch ligand 1     NA           P46531 P78504 1          \n",
       "4 Wnt family member 4                 NA           Q8N474 P56705 1          \n",
       "5 Wnt family member 2                 NA           Q8N474 P09544 1          \n",
       "6 Wnt family member 1                 NA           Q8N474 P04628 1          \n",
       "  is_stimulation ⋯ consensus_direction consensus_stimulation\n",
       "1 0              ⋯ 0                   0                    \n",
       "2 1              ⋯ 0                   0                    \n",
       "3 1              ⋯ 0                   0                    \n",
       "4 1              ⋯ 1                   1                    \n",
       "5 0              ⋯ 1                   0                    \n",
       "6 1              ⋯ 1                   1                    \n",
       "  consensus_inhibition\n",
       "1 0                   \n",
       "2 0                   \n",
       "3 0                   \n",
       "4 0                   \n",
       "5 1                   \n",
       "6 0                   \n",
       "  sources                                                                                                                       \n",
       "1 Baccin2019;CellCall;HPRD;NetPath;Ramilowski2015_Baccin2019;SPIKE                                                              \n",
       "2 Baccin2019;CellCall;HPRD;NetPath;Ramilowski2015_Baccin2019;SPIKE;SignaLink3;Wang                                              \n",
       "3 Baccin2019;BioGRID;CellCall;DIP;HPMR;HPRD;IntAct;Kirouac2010;Lit-BM-17;NetPath;Ramilowski2015_Baccin2019;SPIKE;SignaLink3;Wang\n",
       "4 CancerCellMap;CellChatDB-cofactors;HPRD;NetPath;SIGNOR;SPIKE;SignaLink3;Wang                                                  \n",
       "5 CellChatDB-cofactors;HPRD;NetPath;SPIKE;Wang                                                                                  \n",
       "6 CancerCellMap;CellChatDB-cofactors;HPRD;NetPath;SIGNOR;SPIKE;SignaLink3;Wang                                                  \n",
       "  references                                                                                                                                                                                                                                                            \n",
       "1 HPRD:11006133;NetPath:11006133;SPIKE:15358736                                                                                                                                                                                                                         \n",
       "2 Baccin2019:11006133;HPRD:11006133;NetPath:11006133;SPIKE:11006133;SPIKE:15358736;SPIKE:17537801;SignaLink3:21985982                                                                                                                                                   \n",
       "3 Baccin2019:11006133;BioGRID:11006133;DIP:18660822;HPMR:7697721;HPRD:11006133;IntAct:18660822;IntAct:23086448;Lit-BM-17:11006133;Lit-BM-17:18660822;Lit-BM-17:21820430;NetPath:11006133;SPIKE:11006133;SPIKE:16713569;SPIKE:17537801;SPIKE:18495817;SignaLink3:22390640\n",
       "4 CancerCellMap:11287180;HPRD:11287180;NetPath:11287180;SIGNOR:11287180;SPIKE:11287180;SignaLink3:11287180;SignaLink3:18988627;SignaLink3:23331499                                                                                                                      \n",
       "5 HPRD:10347172;NetPath:10347172;SPIKE:10347172                                                                                                                                                                                                                         \n",
       "6 CancerCellMap:10523516;HPRD:10347172;NetPath:10347172;NetPath:10523516;SIGNOR:10347172;SIGNOR:10523516;SPIKE:10347172;SignaLink3:10347172;SignaLink3:10523516;SignaLink3:18988627;SignaLink3:21071413;SignaLink3:23331499                                             \n",
       "  curation_effort n_references n_resources annotation_strategy dup        \n",
       "1  3              2             5          LR                  JAG2_NOTCH1\n",
       "2  7              4             7          LR                  DLL1_NOTCH1\n",
       "3 16              9            13          both                JAG1_NOTCH1\n",
       "4  8              3             8          LR                  WNT4_SFRP1 \n",
       "5  3              1             5          LR                  WNT2_SFRP1 \n",
       "6 12              5             8          LR                  WNT1_SFRP1 "
      ]
     },
     "metadata": {},
     "output_type": "display_data"
    }
   ],
   "source": [
    "head(LR_fix_dir)"
   ]
  },
  {
   "cell_type": "code",
   "execution_count": null,
   "id": "83f1f07e",
   "metadata": {},
   "outputs": [],
   "source": []
  },
  {
   "cell_type": "code",
   "execution_count": 50,
   "id": "c1ed4f53",
   "metadata": {},
   "outputs": [
    {
     "data": {
      "text/html": [
       "<style>\n",
       ".list-inline {list-style: none; margin:0; padding: 0}\n",
       ".list-inline>li {display: inline-block}\n",
       ".list-inline>li:not(:last-child)::after {content: \"\\00b7\"; padding: 0 .5ex}\n",
       "</style>\n",
       "<ol class=list-inline><li>'Pair.Name'</li><li>'Ligand'</li><li>'Ligand.Name'</li><li>'Receptor'</li><li>'Receptor.Name'</li><li>'complex_pair'</li><li>'source'</li><li>'target'</li><li>'is_directed'</li><li>'is_stimulation'</li><li>'is_inhibition'</li><li>'consensus_direction'</li><li>'consensus_stimulation'</li><li>'consensus_inhibition'</li><li>'sources'</li><li>'references'</li><li>'curation_effort'</li><li>'n_references'</li><li>'n_resources'</li><li>'annotation_strategy'</li><li>'dup'</li></ol>\n"
      ],
      "text/latex": [
       "\\begin{enumerate*}\n",
       "\\item 'Pair.Name'\n",
       "\\item 'Ligand'\n",
       "\\item 'Ligand.Name'\n",
       "\\item 'Receptor'\n",
       "\\item 'Receptor.Name'\n",
       "\\item 'complex\\_pair'\n",
       "\\item 'source'\n",
       "\\item 'target'\n",
       "\\item 'is\\_directed'\n",
       "\\item 'is\\_stimulation'\n",
       "\\item 'is\\_inhibition'\n",
       "\\item 'consensus\\_direction'\n",
       "\\item 'consensus\\_stimulation'\n",
       "\\item 'consensus\\_inhibition'\n",
       "\\item 'sources'\n",
       "\\item 'references'\n",
       "\\item 'curation\\_effort'\n",
       "\\item 'n\\_references'\n",
       "\\item 'n\\_resources'\n",
       "\\item 'annotation\\_strategy'\n",
       "\\item 'dup'\n",
       "\\end{enumerate*}\n"
      ],
      "text/markdown": [
       "1. 'Pair.Name'\n",
       "2. 'Ligand'\n",
       "3. 'Ligand.Name'\n",
       "4. 'Receptor'\n",
       "5. 'Receptor.Name'\n",
       "6. 'complex_pair'\n",
       "7. 'source'\n",
       "8. 'target'\n",
       "9. 'is_directed'\n",
       "10. 'is_stimulation'\n",
       "11. 'is_inhibition'\n",
       "12. 'consensus_direction'\n",
       "13. 'consensus_stimulation'\n",
       "14. 'consensus_inhibition'\n",
       "15. 'sources'\n",
       "16. 'references'\n",
       "17. 'curation_effort'\n",
       "18. 'n_references'\n",
       "19. 'n_resources'\n",
       "20. 'annotation_strategy'\n",
       "21. 'dup'\n",
       "\n",
       "\n"
      ],
      "text/plain": [
       " [1] \"Pair.Name\"             \"Ligand\"                \"Ligand.Name\"          \n",
       " [4] \"Receptor\"              \"Receptor.Name\"         \"complex_pair\"         \n",
       " [7] \"source\"                \"target\"                \"is_directed\"          \n",
       "[10] \"is_stimulation\"        \"is_inhibition\"         \"consensus_direction\"  \n",
       "[13] \"consensus_stimulation\" \"consensus_inhibition\"  \"sources\"              \n",
       "[16] \"references\"            \"curation_effort\"       \"n_references\"         \n",
       "[19] \"n_resources\"           \"annotation_strategy\"   \"dup\"                  "
      ]
     },
     "metadata": {},
     "output_type": "display_data"
    }
   ],
   "source": [
    "colnames(LR_fix_dir)"
   ]
  },
  {
   "cell_type": "code",
   "execution_count": 51,
   "id": "dc36f554",
   "metadata": {},
   "outputs": [],
   "source": [
    "#fix the directions\n",
    "\n",
    "# Swap values in Ligand and Receptor columns\n",
    "temp <- LR_fix_dir$Ligand\n",
    "LR_fix_dir$Ligand <- LR_fix_dir$Receptor\n",
    "LR_fix_dir$Receptor <- temp\n",
    "\n",
    "# Swap values in Ligand.Name and Receptor.Name columns\n",
    "temp <- LR_fix_dir$Ligand.Name\n",
    "LR_fix_dir$Ligand.Name <- LR_fix_dir$Receptor.Name\n",
    "LR_fix_dir$Receptor.Name <- temp\n",
    "\n",
    "# Swap values in source and target columns\n",
    "temp <- LR_fix_dir$source\n",
    "LR_fix_dir$source <- LR_fix_dir$target\n",
    "LR_fix_dir$target <- temp\n",
    "\n",
    "rm(temp)\n",
    "\n",
    "\n",
    "LR_fix_dir[\"Pair.Name\"] <- paste(LR_fix_dir$Ligand, LR_fix_dir$Receptor, sep=\"_\")\n",
    "LR_fix_dir[\"dup\"] <- paste(LR_fix_dir$Receptor, LR_fix_dir$Ligand, sep=\"_\")"
   ]
  },
  {
   "cell_type": "code",
   "execution_count": 52,
   "id": "fe61c97c",
   "metadata": {},
   "outputs": [],
   "source": [
    "# these are the list of interactions that are strictly in LR direction\n",
    "true_LR_DB <- complete %>% filter(Ligand %in% ligands & Receptor %in% receptors)"
   ]
  },
  {
   "cell_type": "code",
   "execution_count": 53,
   "id": "7949cfe1",
   "metadata": {},
   "outputs": [],
   "source": [
    "#drop above, should be only adhesive\n",
    "complete <- filter(complete, !Pair.Name %in% true_LR_DB$Pair.Name)"
   ]
  },
  {
   "cell_type": "code",
   "execution_count": null,
   "id": "b1adfcc2",
   "metadata": {},
   "outputs": [],
   "source": []
  },
  {
   "cell_type": "code",
   "execution_count": 54,
   "id": "4a311a8a",
   "metadata": {},
   "outputs": [],
   "source": [
    "# after fix, it might be duplicated\n",
    "LR_fix_dir <- LR_fix_dir[!LR_fix_dir$Pair.Name %in% true_LR_DB$Pair.Name,]"
   ]
  },
  {
   "cell_type": "code",
   "execution_count": null,
   "id": "98ad5317",
   "metadata": {},
   "outputs": [],
   "source": []
  },
  {
   "cell_type": "code",
   "execution_count": 55,
   "id": "83e2926b",
   "metadata": {},
   "outputs": [],
   "source": [
    "true_LR_DB[\"True_LR\"]=TRUE\n",
    "LR_fix_dir[\"True_LR\"]=TRUE\n",
    "true_LR_DB <- rbind(true_LR_DB,LR_fix_dir)"
   ]
  },
  {
   "cell_type": "code",
   "execution_count": 56,
   "id": "857607ae",
   "metadata": {},
   "outputs": [],
   "source": [
    "adhesive_DB <- filter(complete, !Pair.Name %in% true_LR_DB$Pair.Name)"
   ]
  },
  {
   "cell_type": "code",
   "execution_count": 57,
   "id": "635c5a1c",
   "metadata": {},
   "outputs": [],
   "source": [
    "adhesive_DB[\"True_LR\"]=FALSE"
   ]
  },
  {
   "cell_type": "code",
   "execution_count": 58,
   "id": "2ad09e19",
   "metadata": {},
   "outputs": [
    {
     "data": {
      "text/html": [
       "7112"
      ],
      "text/latex": [
       "7112"
      ],
      "text/markdown": [
       "7112"
      ],
      "text/plain": [
       "[1] 7112"
      ]
     },
     "metadata": {},
     "output_type": "display_data"
    }
   ],
   "source": [
    "nrow(true_LR_DB) + nrow (adhesive_DB)"
   ]
  },
  {
   "cell_type": "code",
   "execution_count": 59,
   "id": "52d6d21d",
   "metadata": {},
   "outputs": [],
   "source": [
    "reversed <- adhesive_DB[adhesive_DB$dup %in% adhesive_DB$Pair.Name,  ]"
   ]
  },
  {
   "cell_type": "code",
   "execution_count": 60,
   "id": "fbc40062",
   "metadata": {},
   "outputs": [
    {
     "name": "stderr",
     "output_type": "stream",
     "text": [
      "Warning message in cbind(parts$left, ellip_h, parts$right, deparse.level = 0L):\n",
      "“number of rows of result is not a multiple of vector length (arg 2)”\n",
      "Warning message in cbind(parts$left, ellip_h, parts$right, deparse.level = 0L):\n",
      "“number of rows of result is not a multiple of vector length (arg 2)”\n",
      "Warning message in cbind(parts$left, ellip_h, parts$right, deparse.level = 0L):\n",
      "“number of rows of result is not a multiple of vector length (arg 2)”\n",
      "Warning message in cbind(parts$left, ellip_h, parts$right, deparse.level = 0L):\n",
      "“number of rows of result is not a multiple of vector length (arg 2)”\n"
     ]
    },
    {
     "data": {
      "text/html": [
       "<table class=\"dataframe\">\n",
       "<caption>A data.frame: 0 × 22</caption>\n",
       "<thead>\n",
       "\t<tr><th scope=col>Pair.Name</th><th scope=col>Ligand</th><th scope=col>Ligand.Name</th><th scope=col>Receptor</th><th scope=col>Receptor.Name</th><th scope=col>complex_pair</th><th scope=col>source</th><th scope=col>target</th><th scope=col>is_directed</th><th scope=col>is_stimulation</th><th scope=col>⋯</th><th scope=col>consensus_stimulation</th><th scope=col>consensus_inhibition</th><th scope=col>sources</th><th scope=col>references</th><th scope=col>curation_effort</th><th scope=col>n_references</th><th scope=col>n_resources</th><th scope=col>annotation_strategy</th><th scope=col>dup</th><th scope=col>True_LR</th></tr>\n",
       "\t<tr><th scope=col>&lt;chr&gt;</th><th scope=col>&lt;chr&gt;</th><th scope=col>&lt;chr&gt;</th><th scope=col>&lt;chr&gt;</th><th scope=col>&lt;chr&gt;</th><th scope=col>&lt;chr&gt;</th><th scope=col>&lt;chr&gt;</th><th scope=col>&lt;chr&gt;</th><th scope=col>&lt;dbl&gt;</th><th scope=col>&lt;dbl&gt;</th><th scope=col>⋯</th><th scope=col>&lt;dbl&gt;</th><th scope=col>&lt;dbl&gt;</th><th scope=col>&lt;chr&gt;</th><th scope=col>&lt;chr&gt;</th><th scope=col>&lt;dbl&gt;</th><th scope=col>&lt;dbl&gt;</th><th scope=col>&lt;int&gt;</th><th scope=col>&lt;chr&gt;</th><th scope=col>&lt;chr&gt;</th><th scope=col>&lt;lgl&gt;</th></tr>\n",
       "</thead>\n",
       "<tbody>\n",
       "</tbody>\n",
       "</table>\n"
      ],
      "text/latex": [
       "A data.frame: 0 × 22\n",
       "\\begin{tabular}{lllllllllllllllllllll}\n",
       " Pair.Name & Ligand & Ligand.Name & Receptor & Receptor.Name & complex\\_pair & source & target & is\\_directed & is\\_stimulation & ⋯ & consensus\\_stimulation & consensus\\_inhibition & sources & references & curation\\_effort & n\\_references & n\\_resources & annotation\\_strategy & dup & True\\_LR\\\\\n",
       " <chr> & <chr> & <chr> & <chr> & <chr> & <chr> & <chr> & <chr> & <dbl> & <dbl> & ⋯ & <dbl> & <dbl> & <chr> & <chr> & <dbl> & <dbl> & <int> & <chr> & <chr> & <lgl>\\\\\n",
       "\\hline\n",
       "\\end{tabular}\n"
      ],
      "text/markdown": [
       "\n",
       "A data.frame: 0 × 22\n",
       "\n",
       "| Pair.Name &lt;chr&gt; | Ligand &lt;chr&gt; | Ligand.Name &lt;chr&gt; | Receptor &lt;chr&gt; | Receptor.Name &lt;chr&gt; | complex_pair &lt;chr&gt; | source &lt;chr&gt; | target &lt;chr&gt; | is_directed &lt;dbl&gt; | is_stimulation &lt;dbl&gt; | ⋯ ⋯ | consensus_stimulation &lt;dbl&gt; | consensus_inhibition &lt;dbl&gt; | sources &lt;chr&gt; | references &lt;chr&gt; | curation_effort &lt;dbl&gt; | n_references &lt;dbl&gt; | n_resources &lt;int&gt; | annotation_strategy &lt;chr&gt; | dup &lt;chr&gt; | True_LR &lt;lgl&gt; |\n",
       "|---|---|---|---|---|---|---|---|---|---|---|---|---|---|---|---|---|---|---|---|---|\n",
       "\n"
      ],
      "text/plain": [
       "     Pair.Name Ligand Ligand.Name Receptor Receptor.Name complex_pair source\n",
       "     target is_directed is_stimulation ⋯ consensus_stimulation\n",
       "     consensus_inhibition sources references curation_effort n_references\n",
       "     n_resources annotation_strategy dup True_LR"
      ]
     },
     "metadata": {},
     "output_type": "display_data"
    }
   ],
   "source": [
    "# check if any of them in true_LR, it should not\n",
    "filter(reversed, dup %in% true_LR_DB$Pair.Name)"
   ]
  },
  {
   "cell_type": "code",
   "execution_count": 61,
   "id": "6c8914a8",
   "metadata": {},
   "outputs": [
    {
     "data": {
      "text/html": [
       "2955"
      ],
      "text/latex": [
       "2955"
      ],
      "text/markdown": [
       "2955"
      ],
      "text/plain": [
       "[1] 2955"
      ]
     },
     "metadata": {},
     "output_type": "display_data"
    }
   ],
   "source": [
    "nrow(adhesive_DB)"
   ]
  },
  {
   "cell_type": "code",
   "execution_count": null,
   "id": "40fa535e",
   "metadata": {},
   "outputs": [],
   "source": []
  },
  {
   "cell_type": "code",
   "execution_count": 62,
   "id": "87b75158",
   "metadata": {},
   "outputs": [],
   "source": [
    "# remove the subsetted partition from the original df\n",
    "adhesive_DB <- adhesive_DB[!adhesive_DB$Pair.Name %in% reversed$Pair.Name,  ]"
   ]
  },
  {
   "cell_type": "code",
   "execution_count": 63,
   "id": "1e57d171",
   "metadata": {},
   "outputs": [
    {
     "data": {
      "text/html": [
       "TRUE"
      ],
      "text/latex": [
       "TRUE"
      ],
      "text/markdown": [
       "TRUE"
      ],
      "text/plain": [
       "[1] TRUE"
      ]
     },
     "metadata": {},
     "output_type": "display_data"
    }
   ],
   "source": [
    "2955-nrow(reversed) == nrow(adhesive_DB)"
   ]
  },
  {
   "cell_type": "code",
   "execution_count": 64,
   "id": "f84af25c",
   "metadata": {},
   "outputs": [
    {
     "data": {
      "text/html": [
       "2613"
      ],
      "text/latex": [
       "2613"
      ],
      "text/markdown": [
       "2613"
      ],
      "text/plain": [
       "[1] 2613"
      ]
     },
     "metadata": {},
     "output_type": "display_data"
    }
   ],
   "source": [
    "2955-nrow(reversed)"
   ]
  },
  {
   "cell_type": "code",
   "execution_count": 65,
   "id": "1e65c980",
   "metadata": {},
   "outputs": [],
   "source": [
    "# remove the subsetted partition from the original df\n",
    "adhesive_DB <- adhesive_DB[!adhesive_DB$Pair.Name %in% reversed$Pair.Name,  ]"
   ]
  },
  {
   "cell_type": "code",
   "execution_count": 66,
   "id": "90d127a7",
   "metadata": {},
   "outputs": [],
   "source": [
    "# Extract all the unique proteins/genes from the subset_lr data frame that have \"plexin\",\n",
    "# \"neuroligin\" or \"ADAM\" in their Receptor.Name column\n",
    "# these will be corrected as ligands\n",
    "\n",
    "plexin_family <- as.vector(reversed[grep(\"plexin\", reversed$Receptor.Name), ]$Receptor)\n",
    "\n",
    "neuroligin_family <- as.vector(reversed[grep(\"neuroligin\", reversed$Receptor.Name), ]$Receptor)\n",
    "\n",
    "adam_family <- as.vector(reversed[grep(\"ADAM\", reversed$Receptor.Name), ]$Receptor)\n",
    "\n",
    "#extract receptors that has annotation of \"receptor\" under Ligand.Name\n",
    "receptor_anno <- as.vector(reversed[grep(\"receptor\", reversed$Ligand.Name), ]$Ligand)"
   ]
  },
  {
   "cell_type": "code",
   "execution_count": 67,
   "id": "f312a6ae",
   "metadata": {},
   "outputs": [],
   "source": [
    "ligand <- c(\"AGRN\", \"BMP2\", \"BMP4\", \"VTCN1\", \"CD244\", \"CD38\", \"GAS6\", \"GDNF\", \"GUCA2A\", \n",
    "\"HHLA2\", \"IHH\", \"PSEN1\", \"NLGN\", \"NRTN\", \"RPH3A\", \"SHH\",\"FLT3LG\")\n",
    "\n",
    "receptor <- c(\"CD2\", \"CD27\", \"CD80\", \"CD86\", \"SELL\", \"CD44\", \"CD81\", \"CD8A\", \"CLEC1B\", \n",
    "\"GLG1\", \"TYROBP\", \"FLT3\", \"ERBB2\", \"EGFR\", \"IL1R1\", \"IL1RAP\", \"KDR\", \"NRP1\")"
   ]
  },
  {
   "cell_type": "code",
   "execution_count": 68,
   "id": "eec1e1b4",
   "metadata": {},
   "outputs": [],
   "source": [
    "# Combine the additional ligands with the plexin, neuroligin, and ADAM families into a vector called ligand\n",
    "ligand <- unique(c(ligand,plexin_family,neuroligin_family,adam_family))\n",
    "receptor <- unique(c(receptor,receptor_anno))"
   ]
  },
  {
   "cell_type": "code",
   "execution_count": 69,
   "id": "078874f6",
   "metadata": {},
   "outputs": [
    {
     "name": "stderr",
     "output_type": "stream",
     "text": [
      "Warning message in cbind(parts$left, ellip_h, parts$right, deparse.level = 0L):\n",
      "“number of rows of result is not a multiple of vector length (arg 2)”\n",
      "Warning message in cbind(parts$left, ellip_h, parts$right, deparse.level = 0L):\n",
      "“number of rows of result is not a multiple of vector length (arg 2)”\n",
      "Warning message in cbind(parts$left, ellip_h, parts$right, deparse.level = 0L):\n",
      "“number of rows of result is not a multiple of vector length (arg 2)”\n",
      "Warning message in cbind(parts$left, ellip_h, parts$right, deparse.level = 0L):\n",
      "“number of rows of result is not a multiple of vector length (arg 2)”\n"
     ]
    },
    {
     "data": {
      "text/html": [
       "<table class=\"dataframe\">\n",
       "<caption>A data.frame: 0 × 22</caption>\n",
       "<thead>\n",
       "\t<tr><th scope=col>Pair.Name</th><th scope=col>Ligand</th><th scope=col>Ligand.Name</th><th scope=col>Receptor</th><th scope=col>Receptor.Name</th><th scope=col>complex_pair</th><th scope=col>source</th><th scope=col>target</th><th scope=col>is_directed</th><th scope=col>is_stimulation</th><th scope=col>⋯</th><th scope=col>consensus_stimulation</th><th scope=col>consensus_inhibition</th><th scope=col>sources</th><th scope=col>references</th><th scope=col>curation_effort</th><th scope=col>n_references</th><th scope=col>n_resources</th><th scope=col>annotation_strategy</th><th scope=col>dup</th><th scope=col>True_LR</th></tr>\n",
       "\t<tr><th scope=col>&lt;chr&gt;</th><th scope=col>&lt;chr&gt;</th><th scope=col>&lt;chr&gt;</th><th scope=col>&lt;chr&gt;</th><th scope=col>&lt;chr&gt;</th><th scope=col>&lt;chr&gt;</th><th scope=col>&lt;chr&gt;</th><th scope=col>&lt;chr&gt;</th><th scope=col>&lt;dbl&gt;</th><th scope=col>&lt;dbl&gt;</th><th scope=col>⋯</th><th scope=col>&lt;dbl&gt;</th><th scope=col>&lt;dbl&gt;</th><th scope=col>&lt;chr&gt;</th><th scope=col>&lt;chr&gt;</th><th scope=col>&lt;dbl&gt;</th><th scope=col>&lt;dbl&gt;</th><th scope=col>&lt;int&gt;</th><th scope=col>&lt;chr&gt;</th><th scope=col>&lt;chr&gt;</th><th scope=col>&lt;lgl&gt;</th></tr>\n",
       "</thead>\n",
       "<tbody>\n",
       "</tbody>\n",
       "</table>\n"
      ],
      "text/latex": [
       "A data.frame: 0 × 22\n",
       "\\begin{tabular}{lllllllllllllllllllll}\n",
       " Pair.Name & Ligand & Ligand.Name & Receptor & Receptor.Name & complex\\_pair & source & target & is\\_directed & is\\_stimulation & ⋯ & consensus\\_stimulation & consensus\\_inhibition & sources & references & curation\\_effort & n\\_references & n\\_resources & annotation\\_strategy & dup & True\\_LR\\\\\n",
       " <chr> & <chr> & <chr> & <chr> & <chr> & <chr> & <chr> & <chr> & <dbl> & <dbl> & ⋯ & <dbl> & <dbl> & <chr> & <chr> & <dbl> & <dbl> & <int> & <chr> & <chr> & <lgl>\\\\\n",
       "\\hline\n",
       "\\end{tabular}\n"
      ],
      "text/markdown": [
       "\n",
       "A data.frame: 0 × 22\n",
       "\n",
       "| Pair.Name &lt;chr&gt; | Ligand &lt;chr&gt; | Ligand.Name &lt;chr&gt; | Receptor &lt;chr&gt; | Receptor.Name &lt;chr&gt; | complex_pair &lt;chr&gt; | source &lt;chr&gt; | target &lt;chr&gt; | is_directed &lt;dbl&gt; | is_stimulation &lt;dbl&gt; | ⋯ ⋯ | consensus_stimulation &lt;dbl&gt; | consensus_inhibition &lt;dbl&gt; | sources &lt;chr&gt; | references &lt;chr&gt; | curation_effort &lt;dbl&gt; | n_references &lt;dbl&gt; | n_resources &lt;int&gt; | annotation_strategy &lt;chr&gt; | dup &lt;chr&gt; | True_LR &lt;lgl&gt; |\n",
       "|---|---|---|---|---|---|---|---|---|---|---|---|---|---|---|---|---|---|---|---|---|\n",
       "\n"
      ],
      "text/plain": [
       "     Pair.Name Ligand Ligand.Name Receptor Receptor.Name complex_pair source\n",
       "     target is_directed is_stimulation ⋯ consensus_stimulation\n",
       "     consensus_inhibition sources references curation_effort n_references\n",
       "     n_resources annotation_strategy dup True_LR"
      ]
     },
     "metadata": {},
     "output_type": "display_data"
    }
   ],
   "source": [
    "filter(reversed, dup %in% true_LR_DB$Pair.Name)"
   ]
  },
  {
   "cell_type": "code",
   "execution_count": 70,
   "id": "a328c500",
   "metadata": {},
   "outputs": [
    {
     "data": {
      "text/html": [
       "342"
      ],
      "text/latex": [
       "342"
      ],
      "text/markdown": [
       "342"
      ],
      "text/plain": [
       "[1] 342"
      ]
     },
     "metadata": {},
     "output_type": "display_data"
    }
   ],
   "source": [
    "nrow(reversed)"
   ]
  },
  {
   "cell_type": "code",
   "execution_count": 71,
   "id": "b447311e",
   "metadata": {},
   "outputs": [],
   "source": [
    "# Subset the subset_lr data frame to only include rows where the consensus_direction column is 1\n",
    "dir <- reversed %>% filter(Pair.Name %in% reversed$dup & consensus_direction == 1)"
   ]
  },
  {
   "cell_type": "code",
   "execution_count": 72,
   "id": "9148cecf",
   "metadata": {},
   "outputs": [
    {
     "data": {
      "text/html": [
       "<table class=\"dataframe\">\n",
       "<caption>A data.frame: 51 × 22</caption>\n",
       "<thead>\n",
       "\t<tr><th scope=col>Pair.Name</th><th scope=col>Ligand</th><th scope=col>Ligand.Name</th><th scope=col>Receptor</th><th scope=col>Receptor.Name</th><th scope=col>complex_pair</th><th scope=col>source</th><th scope=col>target</th><th scope=col>is_directed</th><th scope=col>is_stimulation</th><th scope=col>⋯</th><th scope=col>consensus_stimulation</th><th scope=col>consensus_inhibition</th><th scope=col>sources</th><th scope=col>references</th><th scope=col>curation_effort</th><th scope=col>n_references</th><th scope=col>n_resources</th><th scope=col>annotation_strategy</th><th scope=col>dup</th><th scope=col>True_LR</th></tr>\n",
       "\t<tr><th scope=col>&lt;chr&gt;</th><th scope=col>&lt;chr&gt;</th><th scope=col>&lt;chr&gt;</th><th scope=col>&lt;chr&gt;</th><th scope=col>&lt;chr&gt;</th><th scope=col>&lt;chr&gt;</th><th scope=col>&lt;chr&gt;</th><th scope=col>&lt;chr&gt;</th><th scope=col>&lt;dbl&gt;</th><th scope=col>&lt;dbl&gt;</th><th scope=col>⋯</th><th scope=col>&lt;dbl&gt;</th><th scope=col>&lt;dbl&gt;</th><th scope=col>&lt;chr&gt;</th><th scope=col>&lt;chr&gt;</th><th scope=col>&lt;dbl&gt;</th><th scope=col>&lt;dbl&gt;</th><th scope=col>&lt;int&gt;</th><th scope=col>&lt;chr&gt;</th><th scope=col>&lt;chr&gt;</th><th scope=col>&lt;lgl&gt;</th></tr>\n",
       "</thead>\n",
       "<tbody>\n",
       "\t<tr><td>TIMD4_HAVCR1 </td><td>TIMD4 </td><td>T cell immunoglobulin and mucin domain containing 4       </td><td>HAVCR1</td><td>hepatitis A virus cellular receptor 1                                   </td><td>NA                 </td><td>Q96H15</td><td>Q96D42               </td><td>1</td><td>1</td><td>⋯</td><td>1</td><td>0</td><td>SPIKE;Wojtowicz2020;connectomeDB2020                                                                                                                                                                                                                                    </td><td>SPIKE:15793576;connectomeDB2020:28949386                                                                                                                                                                                                                                                                                                                                                                                                                                                                                                                                              </td><td> 3</td><td> 2</td><td> 3</td><td>both</td><td>HAVCR1_TIMD4 </td><td>FALSE</td></tr>\n",
       "\t<tr><td>CD80_CD28    </td><td>CD80  </td><td>CD80 molecule                                             </td><td>CD28  </td><td>CD28 molecule                                                           </td><td>NA                 </td><td>P33681</td><td>P10747               </td><td>1</td><td>1</td><td>⋯</td><td>1</td><td>0</td><td>BioGRID;CellChatDB;CellPhoneDB_Cellinker;Cellinker;DIP;HPRD;ICELLNET;KEGG-MEDICUS;LRdb;Lit-BM-17;NetPath;SPIKE;Wang;Wojtowicz2020;connectomeDB2020;iTALK                                                                                                                </td><td>BioGRID:1847722;CellChatDB:23954143;Cellinker:21530327;Cellinker:23954143;DIP:1847722;DIP:2164219;DIP:7964482;HPRD:7545666;ICELLNET:7545666;LRdb:22437870;Lit-BM-17:1847722;Lit-BM-17:2164219;Lit-BM-17:21982860;Lit-BM-17:7545666;Lit-BM-17:7964482;NetPath:2164219;SPIKE:15610849;SPIKE:21487479;connectomeDB2020:7545666                                                                                                                                                                                                                                                           </td><td>19</td><td>10</td><td>15</td><td>both</td><td>CD28_CD80    </td><td>FALSE</td></tr>\n",
       "\t<tr><td>CD86_CD28    </td><td>CD86  </td><td>CD86 molecule                                             </td><td>CD28  </td><td>CD28 molecule                                                           </td><td>NA                 </td><td>P42081</td><td>P10747               </td><td>1</td><td>1</td><td>⋯</td><td>1</td><td>0</td><td>Baccin2019;CellChatDB;CellPhoneDB_Cellinker;CellTalkDB;Cellinker;DIP;HPRD;ICELLNET;KEGG-MEDICUS;LRdb;SPIKE;Wang;Wojtowicz2020;connectomeDB2020;iTALK                                                                                                                    </td><td>CellChatDB:23954143;CellTalkDB:23954143;Cellinker:21530327;Cellinker:23954143;DIP:21931534;HPRD:11021528;HPRD:7513726;ICELLNET:18205792;LRdb:22437870;SPIKE:11021528;SPIKE:21487479;connectomeDB2020:23954143                                                                                                                                                                                                                                                                                                                                                                         </td><td>12</td><td> 8</td><td>14</td><td>both</td><td>CD28_CD86    </td><td>FALSE</td></tr>\n",
       "\t<tr><td>PSEN1_NCSTN  </td><td>PSEN1 </td><td>presenilin 1                                              </td><td>NCSTN </td><td>nicastrin                                                               </td><td>NA                 </td><td>P49768</td><td>Q92542               </td><td>1</td><td>1</td><td>⋯</td><td>1</td><td>0</td><td>CellTalkDB;Cellinker;EMBRACE;Fantom5_LRdb;HPMR;HPMR_Cellinker;HPMR_LRdb;HPMR_talklr;HPRD;HPRD_LRdb;HPRD_talklr;IntAct;LRdb;Ramilowski2015;STRING_talklr;Wang;connectomeDB2020;iTALK;talklr                                                                              </td><td>CellTalkDB:10993067;Cellinker:10993067;Cellinker:12603837;HPMR:10993067;HPRD:10993067;HPRD:12603837;IntAct:18201567;LRdb:10993067;LRdb:13;connectomeDB2020:10993067;connectomeDB2020:12603837                                                                                                                                                                                                                                                                                                                                                                                         </td><td>11</td><td> 4</td><td>12</td><td>both</td><td>NCSTN_PSEN1  </td><td>FALSE</td></tr>\n",
       "\t<tr><td>SELPLG_SELP  </td><td>SELPLG</td><td>selectin P ligand                                         </td><td>SELP  </td><td>selectin P                                                              </td><td>NA                 </td><td>Q14242</td><td>P16109               </td><td>1</td><td>1</td><td>⋯</td><td>1</td><td>0</td><td>CellChatDB;CellPhoneDB_Cellinker;CellTalkDB;Cellinker;DIP;Fantom5_LRdb;Guide2Pharma;HPMR;HPMR_Cellinker;HPMR_LRdb;HPMR_talklr;HPRD;HPRD_LRdb;HPRD_talklr;InnateDB;IntAct;LRdb;Lit-BM-17;Ramilowski2015;SIGNOR;STRING_talklr;Wang;connectomeDB2020;iTALK;scConnect;talklr</td><td>CellChatDB:19118202;CellChatDB:9829984;CellTalkDB:12393589;Cellinker:10713099;Cellinker:19118202;Cellinker:9128259;Cellinker:9129046;Cellinker:9829984;DIP:19118202;Guide2Pharma:9829984;HPMR:9129046;HPRD:10713099;HPRD:17064811;HPRD:9128259;InnateDB:11081633;IntAct:11081633;IntAct:19118202;IntAct:26627825;LRdb:10713099;LRdb:17064811;LRdb:9128259;LRdb:9129046;Lit-BM-17:10713099;Lit-BM-17:11081633;Lit-BM-17:19118202;SIGNOR:23994464;SIGNOR:9129046;connectomeDB2020:10713099;connectomeDB2020:17064811;connectomeDB2020:9128259;connectomeDB2020:9129046;scConnect:9829984</td><td>32</td><td>10</td><td>18</td><td>both</td><td>SELP_SELPLG  </td><td>FALSE</td></tr>\n",
       "\t<tr><td>RTN4_LINGO1  </td><td>RTN4  </td><td>reticulon 4                                               </td><td>LINGO1</td><td>leucine rich repeat and Ig domain containing 1                          </td><td>NA                 </td><td>Q9NQC3</td><td>Q96FE5               </td><td>1</td><td>1</td><td>⋯</td><td>1</td><td>0</td><td>Baccin2019;CellTalkDB;EMBRACE;Fantom5_LRdb;HPMR_LRdb;HPMR_talklr;LRdb;Ramilowski2015;Ramilowski2015_Baccin2019;SIGNOR;Wang;connectomeDB2020;iTALK;talklr                                                                                                                </td><td>Baccin2019:15694322;CellTalkDB:15694322;LRdb:15694322;SIGNOR:15694321;connectomeDB2020:15694322                                                                                                                                                                                                                                                                                                                                                                                                                                                                                       </td><td> 5</td><td> 2</td><td>10</td><td>both</td><td>LINGO1_RTN4  </td><td>FALSE</td></tr>\n",
       "\t<tr><td>NTNG1_LRRC4C </td><td>NTNG1 </td><td>netrin G1                                                 </td><td>LRRC4C</td><td>leucine rich repeat containing 4C                                       </td><td>NA                 </td><td>Q9Y2I2</td><td>Q9HCJ2               </td><td>1</td><td>1</td><td>⋯</td><td>1</td><td>0</td><td>Baccin2019;BioGRID;CellTalkDB;EMBRACE;Fantom5_LRdb;HPMR;HPMR_LRdb;HPMR_talklr;HPRD;HPRD_LRdb;HPRD_talklr;IntAct;LRdb;Lit-BM-17;Ramilowski2015;Ramilowski2015_Baccin2019;SIGNOR;STRING_talklr;Wang;connectomeDB2020;iTALK;talklr                                         </td><td>Baccin2019:1459544314595440;BioGRID:21946559;CellTalkDB:14595443;HPMR:14595443;HPRD:14595443;IntAct:21946559;LRdb:14595443;Lit-BM-17:14595443;Lit-BM-17:21946559;SIGNOR:19467332;connectomeDB2020:14595443                                                                                                                                                                                                                                                                                                                                                                            </td><td>11</td><td> 4</td><td>15</td><td>both</td><td>LRRC4C_NTNG1 </td><td>FALSE</td></tr>\n",
       "\t<tr><td>GNAI2_ADCY1  </td><td>GNAI2 </td><td>G protein subunit alpha i2                                </td><td>ADCY1 </td><td>adenylate cyclase 1                                                     </td><td>NA                 </td><td>P04899</td><td>Q08828               </td><td>1</td><td>0</td><td>⋯</td><td>0</td><td>1</td><td>Baccin2019;CellTalkDB;EMBRACE;Fantom5_LRdb;HPRD;HPRD_LRdb;HPRD_talklr;KEGG-MEDICUS;LRdb;Ramilowski2015;Ramilowski2015_Baccin2019;SIGNOR;STRING_talklr;Wang;connectomeDB2020;iTALK;talklr                                                                                </td><td>Baccin2019:2121366;CellTalkDB:2121366;HPRD:2121366;LRdb:2121366;SIGNOR:19703466;SIGNOR:8327893;connectomeDB2020:2121366                                                                                                                                                                                                                                                                                                                                                                                                                                                               </td><td> 7</td><td> 3</td><td>12</td><td>both</td><td>ADCY1_GNAI2  </td><td>FALSE</td></tr>\n",
       "\t<tr><td>LRRC4B_PTPRF </td><td>LRRC4B</td><td>leucine rich repeat containing 4B                         </td><td>PTPRF </td><td>protein tyrosine phosphatase receptor type F                            </td><td>NA                 </td><td>Q9NT99</td><td>P10586               </td><td>1</td><td>1</td><td>⋯</td><td>1</td><td>0</td><td>Baccin2019;CellChatDB;Cellinker;Wojtowicz2020;connectomeDB2020                                                                                                                                                                                                          </td><td>Cellinker:32589946;connectomeDB2020:19252495;connectomeDB2020:23345436                                                                                                                                                                                                                                                                                                                                                                                                                                                                                                                </td><td> 3</td><td> 3</td><td> 5</td><td>both</td><td>PTPRF_LRRC4B </td><td>FALSE</td></tr>\n",
       "\t<tr><td>PECAM1_CD38  </td><td>PECAM1</td><td>platelet and endothelial cell adhesion molecule 1         </td><td>CD38  </td><td>CD38 molecule                                                           </td><td>NA                 </td><td>P16284</td><td>P28907               </td><td>1</td><td>1</td><td>⋯</td><td>1</td><td>0</td><td>Baccin2019;CellPhoneDB;CellPhoneDB_Cellinker;Cellinker;HPRD;LRdb;SIGNOR;Wang;connectomeDB2020                                                                                                                                                                           </td><td>Baccin2019:23308177;Cellinker:9551996;HPRD:9551996;LRdb:9551996;SIGNOR:18626062;connectomeDB2020:26407101;connectomeDB2020:9551996                                                                                                                                                                                                                                                                                                                                                                                                                                                    </td><td> 7</td><td> 4</td><td> 8</td><td>both</td><td>CD38_PECAM1  </td><td>FALSE</td></tr>\n",
       "\t<tr><td>ADAM17_NOTCH1</td><td>ADAM17</td><td>ADAM metallopeptidase domain 17                           </td><td>NOTCH1</td><td>notch receptor 1                                                        </td><td>NA                 </td><td>P78536</td><td>P46531               </td><td>1</td><td>1</td><td>⋯</td><td>1</td><td>0</td><td>ACSN;CellCall;CellTalkDB;Cellinker;EMBRACE;Fantom5_LRdb;HPRD;HPRD-phos;HPRD_LRdb;HPRD_talklr;LRdb;Ramilowski2015;SIGNOR;STRING_talklr;Wang;connectomeDB2020;iTALK;talklr                                                                                                </td><td>ACSN:19601831;ACSN:19704010;ACSN:19726682;CellTalkDB:10882063;Cellinker:10882063;Cellinker:9620803;HPRD-phos:10882063;HPRD-phos:9620803;HPRD:10882063;HPRD:9620803;LRdb:10882063;LRdb:96;SIGNOR:10882063;connectomeDB2020:10882063;connectomeDB2020:9620803                                                                                                                                                                                                                                                                                                                           </td><td>15</td><td> 6</td><td>14</td><td>both</td><td>NOTCH1_ADAM17</td><td>FALSE</td></tr>\n",
       "\t<tr><td>ADAM12_SDC4  </td><td>ADAM12</td><td>ADAM metallopeptidase domain 12                           </td><td>SDC4  </td><td>syndecan 4                                                              </td><td>NA                 </td><td>O43184</td><td>P31431               </td><td>1</td><td>1</td><td>⋯</td><td>1</td><td>0</td><td>Adhesome;CellTalkDB;EMBRACE;Fantom5_LRdb;HPMR_LRdb;HPMR_talklr;LRdb;Ramilowski2015;SIGNOR;STRING_talklr;Wang;connectomeDB2020;iTALK;talklr                                                                                                                              </td><td>Adhesome:12509413;CellTalkDB:12509413;LRdb:12509413;SIGNOR:12509413;connectomeDB2020:12509413                                                                                                                                                                                                                                                                                                                                                                                                                                                                                         </td><td> 5</td><td> 1</td><td>10</td><td>both</td><td>SDC4_ADAM12  </td><td>FALSE</td></tr>\n",
       "\t<tr><td>PLAU_PLAUR   </td><td>PLAU  </td><td>plasminogen activator, urokinase                          </td><td>PLAUR </td><td>plasminogen activator, urokinase receptor                               </td><td>NA                 </td><td>P00749</td><td>Q03405               </td><td>1</td><td>1</td><td>⋯</td><td>1</td><td>0</td><td>Baccin2019;BioGRID;CellTalkDB;Cellinker;DIP;EMBRACE;Fantom5_LRdb;HPMR;HPMR_Cellinker;HPMR_LRdb;HPMR_talklr;HPRD;HPRD_LRdb;HPRD_talklr;ICELLNET;Kirouac2010;LRdb;Ramilowski2015;Ramilowski2015_Baccin2019;SIGNOR;STRING_talklr;Wang;connectomeDB2020;iTALK;talklr        </td><td>Baccin2019:11501527;Baccin2019:16456079;Baccin2019:3023326;Baccin2019:3031025;BioGRID:11501527;BioGRID:16879932;BioGRID:19017363;CellTalkDB:16456079;Cellinker:11501527;Cellinker:16456079;Cellinker:3023326;Cellinker:3031025;DIP:18376415;HPMR:16456079;HPRD:11501527;HPRD:3023326;HPRD:3031025;ICELLNET:11501527;LRdb:11501527;LRdb:16456079;LRdb:3023326;LRdb:3031025;SIGNOR:16456079;connectomeDB2020:11501527;connectomeDB2020:16456079;connectomeDB2020:3023326;connectomeDB2020:3031025                                                                                       </td><td>27</td><td> 7</td><td>17</td><td>both</td><td>PLAUR_PLAU   </td><td>FALSE</td></tr>\n",
       "\t<tr><td>CD55_ADGRE5  </td><td>CD55  </td><td>CD55 molecule (Cromer blood group)                        </td><td>ADGRE5</td><td>adhesion G protein-coupled receptor E5                                  </td><td>NA                 </td><td>P08174</td><td>P48960               </td><td>1</td><td>1</td><td>⋯</td><td>1</td><td>0</td><td>Baccin2019;CellPhoneDB;CellPhoneDB_Cellinker;CellTalkDB;Cellinker;Fantom5_LRdb;HPMR;HPMR_LRdb;HPMR_talklr;HPRD;HPRD_LRdb;HPRD_talklr;LRdb;Ramilowski2015;SIGNOR;STRING_talklr;Wang;connectomeDB2020;iTALK;talklr                                                        </td><td>Baccin2019:23447688;CellTalkDB:12417446;Cellinker:10540231;Cellinker:12417446;HPMR:12417446;HPRD:10540231;LRdb:11;LRdb:12417446;SIGNOR:12417446;connectomeDB2020:10540231;connectomeDB2020:12417446                                                                                                                                                                                                                                                                                                                                                                                   </td><td>11</td><td> 4</td><td>13</td><td>both</td><td>ADGRE5_CD55  </td><td>FALSE</td></tr>\n",
       "\t<tr><td>PVR_CD226    </td><td>PVR   </td><td>PVR cell adhesion molecule                                </td><td>CD226 </td><td>CD226 molecule                                                          </td><td>NA                 </td><td>P15151</td><td>Q15762               </td><td>1</td><td>1</td><td>⋯</td><td>1</td><td>0</td><td>CellChatDB;CellPhoneDB;HPRD;ICELLNET;LRdb;Lit-BM-17;SIGNOR;UniProt_LRdb;Wang;Wojtowicz2020;connectomeDB2020                                                                                                                                                             </td><td>CellPhoneDB:15607800;CellPhoneDB:24440149;HPRD:12913096;ICELLNET:15034010;Lit-BM-17:12913096;Lit-BM-17:21982860;SIGNOR:30591568;connectomeDB2020:15607800                                                                                                                                                                                                                                                                                                                                                                                                                             </td><td> 8</td><td> 6</td><td>10</td><td>both</td><td>CD226_PVR    </td><td>FALSE</td></tr>\n",
       "\t<tr><td>OMG_LINGO1   </td><td>OMG   </td><td>oligodendrocyte myelin glycoprotein                       </td><td>LINGO1</td><td>leucine rich repeat and Ig domain containing 1                          </td><td>NA                 </td><td>P23515</td><td>Q96FE5               </td><td>1</td><td>1</td><td>⋯</td><td>1</td><td>0</td><td>Baccin2019;CellTalkDB;Cellinker;EMBRACE;Fantom5_LRdb;HPMR;HPMR_Cellinker;HPMR_LRdb;HPMR_talklr;LRdb;Ramilowski2015;Ramilowski2015_Baccin2019;SIGNOR;Wang;connectomeDB2020;iTALK;talklr                                                                                  </td><td>Baccin2019:14966521;CellTalkDB:14966521;Cellinker:14966521;HPMR:14966521;LRdb:14966521;SIGNOR:15694321;connectomeDB2020:14966521                                                                                                                                                                                                                                                                                                                                                                                                                                                      </td><td> 7</td><td> 2</td><td>12</td><td>both</td><td>LINGO1_OMG   </td><td>FALSE</td></tr>\n",
       "\t<tr><td>SELPLG_SELE  </td><td>SELPLG</td><td>selectin P ligand                                         </td><td>SELE  </td><td>selectin E                                                              </td><td>NA                 </td><td>Q14242</td><td>P16581               </td><td>1</td><td>1</td><td>⋯</td><td>1</td><td>0</td><td>CellChatDB;CellPhoneDB_Cellinker;CellTalkDB;Cellinker;Fantom5_LRdb;HPMR_Cellinker;HPMR_LRdb;HPMR_talklr;HPRD;HPRD_LRdb;HPRD_talklr;LRdb;Ramilowski2015;SIGNOR;STRING_talklr;Wang;connectomeDB2020;iTALK;talklr                                                          </td><td>CellChatDB:26124272;CellTalkDB:11402070;Cellinker:11402070;Cellinker:26124272;Cellinker:8621728;Cellinker:9128259;HPRD:8621728;HPRD:9128259;LRdb:11402070;LRdb:8621728;LRdb:9128259;SIGNOR:9024699;connectomeDB2020:11402070;connectomeDB2020:8621728;connectomeDB2020:9128259                                                                                                                                                                                                                                                                                                        </td><td>15</td><td> 5</td><td>11</td><td>both</td><td>SELE_SELPLG  </td><td>FALSE</td></tr>\n",
       "\t<tr><td>ADAM12_ITGB1 </td><td>ADAM12</td><td>ADAM metallopeptidase domain 12                           </td><td>ITGB1 </td><td>integrin subunit beta 1                                                 </td><td>NA                 </td><td>O43184</td><td>P05556               </td><td>1</td><td>1</td><td>⋯</td><td>1</td><td>0</td><td>Adhesome;CellTalkDB;EMBRACE;Fantom5_LRdb;HPMR_LRdb;HPMR_talklr;LRdb;Ramilowski2015;STRING_talklr;Wang;connectomeDB2020;iTALK;talklr                                                                                                                                     </td><td>Adhesome:15242759;CellTalkDB:10944520;LRdb:10944520;connectomeDB2020:10944520                                                                                                                                                                                                                                                                                                                                                                                                                                                                                                         </td><td> 4</td><td> 2</td><td> 9</td><td>both</td><td>ITGB1_ADAM12 </td><td>FALSE</td></tr>\n",
       "\t<tr><td>CD80_CTLA4   </td><td>CD80  </td><td>CD80 molecule                                             </td><td>CTLA4 </td><td>cytotoxic T-lymphocyte associated protein 4                             </td><td>NA                 </td><td>P33681</td><td>P16410               </td><td>1</td><td>1</td><td>⋯</td><td>1</td><td>0</td><td>BioGRID;CellChatDB;CellPhoneDB_Cellinker;Cellinker;HPRD;ICELLNET;InnateDB;IntAct;LRdb;Lit-BM-17;NetPath;Wang;Wojtowicz2020;connectomeDB2020;iTALK                                                                                                                       </td><td>BioGRID:11279502;CellChatDB:23954143;Cellinker:21530327;Cellinker:23954143;Cellinker:31757674;HPRD:7545666;ICELLNET:10583602;InnateDB:21422170;IntAct:11279502;IntAct:20587542;IntAct:21982860;LRdb:22437870;Lit-BM-17:11279502;Lit-BM-17:21982860;Lit-BM-17:7545666;NetPath:11279501;connectomeDB2020:17953528;connectomeDB2020:23954143                                                                                                                                                                                                                                             </td><td>18</td><td>12</td><td>14</td><td>both</td><td>CTLA4_CD80   </td><td>FALSE</td></tr>\n",
       "\t<tr><td>CD86_CTLA4   </td><td>CD86  </td><td>CD86 molecule                                             </td><td>CTLA4 </td><td>cytotoxic T-lymphocyte associated protein 4                             </td><td>NA                 </td><td>P42081</td><td>P16410               </td><td>1</td><td>1</td><td>⋯</td><td>1</td><td>0</td><td>BioGRID;CellChatDB;CellPhoneDB_Cellinker;CellTalkDB;Cellinker;HPRD;ICELLNET;IntAct;LRdb;Lit-BM-17;Wang;Wojtowicz2020;connectomeDB2020;iTALK                                                                                                                             </td><td>BioGRID:11279501;CellChatDB:23954143;CellTalkDB:23954143;Cellinker:21530327;Cellinker:23223433;Cellinker:23954143;HPRD:11021528;HPRD:11162656;HPRD:11279501;HPRD:12071705;HPRD:12582153;HPRD:12606712;HPRD:7513726;HPRD:7694153;ICELLNET:10583602;ICELLNET:11976720;IntAct:11279501;IntAct:21982860;IntAct:25241761;LRdb:22437870;Lit-BM-17:11279501;Lit-BM-17:21982860;Lit-BM-17:25241761;connectomeDB2020:23954143                                                                                                                                                                  </td><td>24</td><td>16</td><td>13</td><td>both</td><td>CTLA4_CD86   </td><td>FALSE</td></tr>\n",
       "\t<tr><td>CDH1_EGFR    </td><td>CDH1  </td><td>cadherin 1                                                </td><td>EGFR  </td><td>epidermal growth factor receptor                                        </td><td>NA                 </td><td>P12830</td><td>P00533               </td><td>1</td><td>1</td><td>⋯</td><td>1</td><td>0</td><td>Baccin2019;BioGRID;CellTalkDB;Cellinker;EMBRACE;Fantom5_LRdb;HPRD;HPRD_LRdb;HPRD_talklr;InnateDB;IntAct;LRdb;Lit-BM-17;Ramilowski2015;Ramilowski2015_Baccin2019;STRING_talklr;Wang;connectomeDB2020;iTALK;talklr                                                        </td><td>Baccin2019:10969083;BioGRID:10969083;CellTalkDB:10969083;Cellinker:10969083;HPRD:10969083;InnateDB:17548604;IntAct:24658140;IntAct:25241761;IntAct:31980649;LRdb:10969083;Lit-BM-17:24189400;Lit-BM-17:24658140;Lit-BM-17:25241761;Lit-BM-17:25402006;Lit-BM-17:25468996;connectomeDB2020:10969083                                                                                                                                                                                                                                                                                    </td><td>16</td><td> 8</td><td>15</td><td>both</td><td>EGFR_CDH1    </td><td>FALSE</td></tr>\n",
       "\t<tr><td>CDH1_IGF1R   </td><td>CDH1  </td><td>cadherin 1                                                </td><td>IGF1R </td><td>insulin like growth factor 1 receptor                                   </td><td>NA                 </td><td>P12830</td><td>P08069               </td><td>1</td><td>0</td><td>⋯</td><td>0</td><td>1</td><td>Baccin2019;CellTalkDB;EMBRACE;Fantom5_LRdb;LRdb;Ramilowski2015;Ramilowski2015_Baccin2019;STRING_talklr;Wang;connectomeDB2020;iTALK;talklr                                                                                                                               </td><td>CellTalkDB:22479204;LRdb:22479204;Ramilowski2015:22479204;connectomeDB2020:22479204;talklr:22479204                                                                                                                                                                                                                                                                                                                                                                                                                                                                                   </td><td> 5</td><td> 1</td><td> 9</td><td>both</td><td>IGF1R_CDH1   </td><td>FALSE</td></tr>\n",
       "\t<tr><td>ADAM2_ITGB1  </td><td>ADAM2 </td><td>ADAM metallopeptidase domain 2                            </td><td>ITGB1 </td><td>integrin subunit beta 1                                                 </td><td>NA                 </td><td>Q99965</td><td>P05556               </td><td>1</td><td>1</td><td>⋯</td><td>1</td><td>0</td><td>CellTalkDB;Fantom5_LRdb;HPMR_LRdb;HPMR_talklr;LRdb;Ramilowski2015;STRING_talklr;Wang;connectomeDB2020;iTALK;talklr                                                                                                                                                      </td><td>CellTalkDB:9889149;LRdb:9889149;connectomeDB2020:9889149                                                                                                                                                                                                                                                                                                                                                                                                                                                                                                                              </td><td> 3</td><td> 1</td><td> 7</td><td>both</td><td>ITGB1_ADAM2  </td><td>FALSE</td></tr>\n",
       "\t<tr><td>ADAM2_ITGA6  </td><td>ADAM2 </td><td>ADAM metallopeptidase domain 2                            </td><td>ITGA6 </td><td>integrin subunit alpha 6                                                </td><td>NA                 </td><td>Q99965</td><td>P23229               </td><td>1</td><td>1</td><td>⋯</td><td>1</td><td>0</td><td>CellTalkDB;Fantom5_LRdb;HPMR_LRdb;HPMR_talklr;LRdb;Ramilowski2015;Wang;connectomeDB2020;iTALK;talklr                                                                                                                                                                    </td><td>CellTalkDB:9889149;LRdb:9889149;connectomeDB2020:9889149                                                                                                                                                                                                                                                                                                                                                                                                                                                                                                                              </td><td> 3</td><td> 1</td><td> 7</td><td>both</td><td>ITGA6_ADAM2  </td><td>FALSE</td></tr>\n",
       "\t<tr><td>HAS2_HMMR    </td><td>HAS2  </td><td>hyaluronan synthase 2                                     </td><td>HMMR  </td><td>hyaluronan mediated motility receptor                                   </td><td>NA                 </td><td>Q92819</td><td>O75330               </td><td>1</td><td>1</td><td>⋯</td><td>1</td><td>0</td><td>Baccin2019;CellTalkDB;Cellinker;EMBRACE;Fantom5_LRdb;HPMR;HPMR_Cellinker;HPMR_LRdb;HPMR_talklr;LRdb;Ramilowski2015;Ramilowski2015_Baccin2019;Wang;connectomeDB2020;iTALK;talklr                                                                                         </td><td>Baccin2019:1376732;CellTalkDB:1376732;Cellinker:1376732;HPMR:1376732;LRdb:1376732;connectomeDB2020:1376732                                                                                                                                                                                                                                                                                                                                                                                                                                                                            </td><td> 6</td><td> 1</td><td>11</td><td>both</td><td>HMMR_HAS2    </td><td>FALSE</td></tr>\n",
       "\t<tr><td>ADAM17_ERBB4 </td><td>ADAM17</td><td>ADAM metallopeptidase domain 17                           </td><td>ERBB4 </td><td>erb-b2 receptor tyrosine kinase 4                                       </td><td>NA                 </td><td>P78536</td><td>Q15303               </td><td>1</td><td>1</td><td>⋯</td><td>1</td><td>0</td><td>Baccin2019;CellTalkDB;EMBRACE;Fantom5_LRdb;HPRD;HPRD_LRdb;HPRD_talklr;LRdb;NCI-PID_ProtMapper;ProtMapper;Ramilowski2015;Ramilowski2015_Baccin2019;Reactome_ProtMapper;Wang;iTALK;talklr                                                                                 </td><td>Baccin2019:15534001;CellTalkDB:26554003;HPRD:15534001;LRdb:15534001;ProtMapper:10744726;ProtMapper:15746097;ProtMapper:17486069;ProtMapper:9685416                                                                                                                                                                                                                                                                                                                                                                                                                                    </td><td> 8</td><td> 6</td><td>10</td><td>both</td><td>ERBB4_ADAM17 </td><td>FALSE</td></tr>\n",
       "\t<tr><td>RTN4_RTN4R   </td><td>RTN4  </td><td>reticulon 4                                               </td><td>RTN4R </td><td>reticulon 4 receptor                                                    </td><td>NA                 </td><td>Q9NQC3</td><td>Q9BZR6               </td><td>1</td><td>1</td><td>⋯</td><td>1</td><td>0</td><td>Baccin2019;CellTalkDB;EMBRACE;Fantom5_LRdb;HPMR;HPMR_LRdb;HPMR_talklr;HPRD;HPRD_LRdb;HPRD_talklr;LRdb;Ramilowski2015;Ramilowski2015_Baccin2019;STRING_talklr;Wang;connectomeDB2020;iTALK;talklr                                                                         </td><td>Baccin2019:11201742;Baccin2019:15694322;CellTalkDB:11201742;HPMR:11201742;HPRD:11201742;LRdb:11201742;LRdb:16;connectomeDB2020:11201742;connectomeDB2020:15694322                                                                                                                                                                                                                                                                                                                                                                                                                     </td><td> 9</td><td> 3</td><td>11</td><td>both</td><td>RTN4R_RTN4   </td><td>FALSE</td></tr>\n",
       "\t<tr><td>PROC_PROCR   </td><td>PROC  </td><td>protein C, inactivator of coagulation factors Va and VIIIa</td><td>PROCR </td><td>protein C receptor                                                      </td><td>NA                 </td><td>P04070</td><td>Q9UNN8               </td><td>1</td><td>1</td><td>⋯</td><td>1</td><td>0</td><td>Baccin2019;CellTalkDB;Cellinker;Fantom5_LRdb;HPMR;HPMR_Cellinker;HPMR_LRdb;HPMR_talklr;HPRD;HPRD_LRdb;HPRD_talklr;LRdb;Ramilowski2015;Ramilowski2015_Baccin2019;STRING_talklr;Wang;connectomeDB2020;iTALK;talklr                                                        </td><td>Baccin2019:10681521;Baccin2019:11099506;Baccin2019:7929370;CellTalkDB:11099506;Cellinker:10681521;Cellinker:11099506;Cellinker:7929370;HPMR:7929370;HPRD:10681521;HPRD:11099506;LRdb:10681521;LRdb:11099506;LRdb:7929370;connectomeDB2020:10681521;connectomeDB2020:11099506;connectomeDB2020:7929370                                                                                                                                                                                                                                                                                 </td><td>16</td><td> 3</td><td>11</td><td>both</td><td>PROCR_PROC   </td><td>FALSE</td></tr>\n",
       "\t<tr><td>ADAM9_ITGAV  </td><td>ADAM9 </td><td>ADAM metallopeptidase domain 9                            </td><td>ITGAV </td><td>integrin subunit alpha V                                                </td><td>NA                 </td><td>Q13443</td><td>P06756               </td><td>1</td><td>1</td><td>⋯</td><td>1</td><td>0</td><td>CellTalkDB;EMBRACE;Fantom5_LRdb;HPMR;HPMR_LRdb;HPMR_talklr;HPRD;HPRD_LRdb;HPRD_talklr;LRdb;Ramilowski2015;Wang;connectomeDB2020;iTALK;talklr                                                                                                                            </td><td>CellTalkDB:11162558;HPMR:11162558;HPRD:15361064;LRdb:11162558;LRdb:15;connectomeDB2020:11162558;connectomeDB2020:15361064                                                                                                                                                                                                                                                                                                                                                                                                                                                             </td><td> 7</td><td> 3</td><td>10</td><td>both</td><td>ITGAV_ADAM9  </td><td>FALSE</td></tr>\n",
       "\t<tr><td>ADAM15_ITGA9 </td><td>ADAM15</td><td>ADAM metallopeptidase domain 15                           </td><td>ITGA9 </td><td>integrin subunit alpha 9                                                </td><td>NA                 </td><td>Q13444</td><td>Q13797               </td><td>1</td><td>1</td><td>⋯</td><td>1</td><td>0</td><td>CellTalkDB;EMBRACE;Fantom5_LRdb;HPMR_LRdb;HPMR_talklr;LRdb;Ramilowski2015;STRING_talklr;Wang;connectomeDB2020;iTALK;talklr                                                                                                                                              </td><td>CellTalkDB:10944520;LRdb:10944520;connectomeDB2020:10944520                                                                                                                                                                                                                                                                                                                                                                                                                                                                                                                           </td><td> 3</td><td> 1</td><td> 8</td><td>both</td><td>ITGA9_ADAM15 </td><td>FALSE</td></tr>\n",
       "\t<tr><td>ADAM15_ITGA5 </td><td>ADAM15</td><td>ADAM metallopeptidase domain 15                           </td><td>ITGA5 </td><td>integrin subunit alpha 5                                                </td><td>NA                 </td><td>Q13444</td><td>P08648               </td><td>1</td><td>1</td><td>⋯</td><td>1</td><td>0</td><td>CellTalkDB;EMBRACE;Fantom5_LRdb;HPMR;HPMR_LRdb;HPMR_talklr;LRdb;Ramilowski2015;Wang;connectomeDB2020;iTALK;talklr                                                                                                                                                       </td><td>CellTalkDB:9914169;HPMR:9516430;HPMR:9914169;LRdb:952;LRdb:9914169;connectomeDB2020:9516430;connectomeDB2020:9914169                                                                                                                                                                                                                                                                                                                                                                                                                                                                  </td><td> 7</td><td> 3</td><td> 9</td><td>both</td><td>ITGA5_ADAM15 </td><td>FALSE</td></tr>\n",
       "\t<tr><td>ADAM17_ITGA5 </td><td>ADAM17</td><td>ADAM metallopeptidase domain 17                           </td><td>ITGA5 </td><td>integrin subunit alpha 5                                                </td><td>NA                 </td><td>P78536</td><td>P08648               </td><td>1</td><td>1</td><td>⋯</td><td>1</td><td>0</td><td>CellTalkDB;EMBRACE;Fantom5_LRdb;HPMR_LRdb;HPMR_talklr;LRdb;Ramilowski2015;Wang;connectomeDB2020;iTALK;talklr                                                                                                                                                            </td><td>CellTalkDB:14970227;LRdb:14970227;connectomeDB2020:14970227                                                                                                                                                                                                                                                                                                                                                                                                                                                                                                                           </td><td> 3</td><td> 1</td><td> 8</td><td>both</td><td>ITGA5_ADAM17 </td><td>FALSE</td></tr>\n",
       "\t<tr><td>ADAM9_ITGB5  </td><td>ADAM9 </td><td>ADAM metallopeptidase domain 9                            </td><td>ITGB5 </td><td>integrin subunit beta 5                                                 </td><td>NA                 </td><td>Q13443</td><td>P18084               </td><td>1</td><td>1</td><td>⋯</td><td>1</td><td>0</td><td>CellTalkDB;EMBRACE;Fantom5_LRdb;HPMR;HPMR_LRdb;HPMR_talklr;LRdb;Ramilowski2015;Wang;connectomeDB2020;iTALK;talklr                                                                                                                                                       </td><td>CellTalkDB:11162558;HPMR:11162558;LRdb:11162558;connectomeDB2020:11162558                                                                                                                                                                                                                                                                                                                                                                                                                                                                                                             </td><td> 4</td><td> 1</td><td> 9</td><td>both</td><td>ITGB5_ADAM9  </td><td>FALSE</td></tr>\n",
       "\t<tr><td>ADAM9_ITGB1  </td><td>ADAM9 </td><td>ADAM metallopeptidase domain 9                            </td><td>ITGB1 </td><td>integrin subunit beta 1                                                 </td><td>NA                 </td><td>Q13443</td><td>P05556               </td><td>1</td><td>1</td><td>⋯</td><td>1</td><td>0</td><td>CellTalkDB;EMBRACE;Fantom5_LRdb;HPMR_LRdb;HPMR_talklr;LRdb;Ramilowski2015;Wang;connectomeDB2020;iTALK;talklr                                                                                                                                                            </td><td>CellTalkDB:10825303;LRdb:10825303;connectomeDB2020:10825303                                                                                                                                                                                                                                                                                                                                                                                                                                                                                                                           </td><td> 3</td><td> 1</td><td> 8</td><td>both</td><td>ITGB1_ADAM9  </td><td>FALSE</td></tr>\n",
       "\t<tr><td>ADAM9_ITGA6  </td><td>ADAM9 </td><td>ADAM metallopeptidase domain 9                            </td><td>ITGA6 </td><td>integrin subunit alpha 6                                                </td><td>NA                 </td><td>Q13443</td><td>P23229               </td><td>1</td><td>1</td><td>⋯</td><td>1</td><td>0</td><td>CellTalkDB;EMBRACE;Fantom5_LRdb;HPMR_LRdb;HPMR_talklr;HPRD;HPRD_LRdb;HPRD_talklr;LRdb;Ramilowski2015;Wang;connectomeDB2020;iTALK;talklr                                                                                                                                 </td><td>CellTalkDB:10825303;HPRD:15361064;LRdb:10825303;LRdb:15;connectomeDB2020:10825303;connectomeDB2020:15361064                                                                                                                                                                                                                                                                                                                                                                                                                                                                           </td><td> 6</td><td> 3</td><td> 9</td><td>both</td><td>ITGA6_ADAM9  </td><td>FALSE</td></tr>\n",
       "\t<tr><td>NCAM1_FGFR1  </td><td>NCAM1 </td><td>neural cell adhesion molecule 1                           </td><td>FGFR1 </td><td>fibroblast growth factor receptor 1                                     </td><td>NA                 </td><td>P13591</td><td>P11362               </td><td>1</td><td>1</td><td>⋯</td><td>1</td><td>0</td><td>Baccin2019;BioGRID;CellChatDB;CellPhoneDB;CellPhoneDB_Cellinker;CellTalkDB;Cellinker;EMBRACE;Fantom5_LRdb;HPRD;HPRD_LRdb;HPRD_talklr;LRdb;Ramilowski2015;Ramilowski2015_Baccin2019;STRING_talklr;Wang;connectomeDB2020;iTALK;talklr                                     </td><td>Baccin2019:12121226;BioGRID:12121226;BioGRID:12791257;CellChatDB:12791257;CellTalkDB:12121226;Cellinker:12121226;Cellinker:12791257;HPRD:12121226;LRdb:12121226;connectomeDB2020:12121226                                                                                                                                                                                                                                                                                                                                                                                             </td><td>10</td><td> 2</td><td>14</td><td>both</td><td>FGFR1_NCAM1  </td><td>FALSE</td></tr>\n",
       "\t<tr><td>NCAM1_ROBO1  </td><td>NCAM1 </td><td>neural cell adhesion molecule 1                           </td><td>ROBO1 </td><td>roundabout guidance receptor 1                                          </td><td>NA                 </td><td>P13591</td><td>Q9Y6N7               </td><td>1</td><td>1</td><td>⋯</td><td>1</td><td>0</td><td>Baccin2019;CellTalkDB;Cellinker;EMBRACE;Fantom5_LRdb;HPMR;HPMR_Cellinker;HPMR_LRdb;HPMR_talklr;LRdb;Ramilowski2015;Ramilowski2015_Baccin2019;Wang;connectomeDB2020;iTALK;talklr                                                                                         </td><td>Baccin2019:16226035;CellTalkDB:16226035;Cellinker:16226035;HPMR:16226035;LRdb:16226035;connectomeDB2020:16226035                                                                                                                                                                                                                                                                                                                                                                                                                                                                      </td><td> 6</td><td> 1</td><td>11</td><td>both</td><td>ROBO1_NCAM1  </td><td>FALSE</td></tr>\n",
       "\t<tr><td>VSIR_IGSF11  </td><td>VSIR  </td><td>V-set immunoregulatory receptor                           </td><td>IGSF11</td><td>immunoglobulin superfamily member 11                                    </td><td>NA                 </td><td>Q9H7M9</td><td>Q5DX21               </td><td>1</td><td>1</td><td>⋯</td><td>1</td><td>0</td><td>CellChatDB;Cellinker                                                                                                                                                                                                                                                    </td><td>Cellinker:32589946                                                                                                                                                                                                                                                                                                                                                                                                                                                                                                                                                                    </td><td> 1</td><td> 1</td><td> 2</td><td>LR  </td><td>IGSF11_VSIR  </td><td>FALSE</td></tr>\n",
       "\t<tr><td>ADAM23_ITGA5 </td><td>ADAM23</td><td>ADAM metallopeptidase domain 23                           </td><td>ITGA5 </td><td>integrin subunit alpha 5                                                </td><td>NA                 </td><td>O75077</td><td>P08648               </td><td>1</td><td>1</td><td>⋯</td><td>1</td><td>0</td><td>EMBRACE;Fantom5_LRdb;HPMR_LRdb;HPMR_talklr;LRdb;Ramilowski2015;Wang;connectomeDB2020;iTALK;talklr                                                                                                                                                                       </td><td>LRdb:10749942;connectomeDB2020:10749942                                                                                                                                                                                                                                                                                                                                                                                                                                                                                                                                               </td><td> 2</td><td> 1</td><td> 7</td><td>both</td><td>ITGA5_ADAM23 </td><td>FALSE</td></tr>\n",
       "\t<tr><td>ADAM23_ITGB3 </td><td>ADAM23</td><td>ADAM metallopeptidase domain 23                           </td><td>ITGB3 </td><td>integrin subunit beta 3                                                 </td><td>NA                 </td><td>O75077</td><td>P05106               </td><td>1</td><td>1</td><td>⋯</td><td>1</td><td>0</td><td>EMBRACE;Fantom5_LRdb;HPMR_LRdb;HPMR_talklr;LRdb;Ramilowski2015;Wang;connectomeDB2020;iTALK;talklr                                                                                                                                                                       </td><td>LRdb:10749942;connectomeDB2020:10749942                                                                                                                                                                                                                                                                                                                                                                                                                                                                                                                                               </td><td> 2</td><td> 1</td><td> 7</td><td>both</td><td>ITGB3_ADAM23 </td><td>FALSE</td></tr>\n",
       "\t<tr><td>NCAM1_ROBO3  </td><td>NCAM1 </td><td>neural cell adhesion molecule 1                           </td><td>ROBO3 </td><td>roundabout guidance receptor 3                                          </td><td>NA                 </td><td>P13591</td><td>Q96MS0               </td><td>1</td><td>1</td><td>⋯</td><td>1</td><td>0</td><td>Baccin2019;Cellinker;EMBRACE;Fantom5_LRdb;HPMR;HPMR_Cellinker;HPMR_LRdb;HPMR_talklr;LRdb;Ramilowski2015;Ramilowski2015_Baccin2019;Wang;connectomeDB2020;iTALK;talklr                                                                                                    </td><td>Baccin2019:16226035;Cellinker:16226035;HPMR:16226035;LRdb:16226035;connectomeDB2020:16226035                                                                                                                                                                                                                                                                                                                                                                                                                                                                                          </td><td> 5</td><td> 1</td><td>10</td><td>both</td><td>ROBO3_NCAM1  </td><td>FALSE</td></tr>\n",
       "\t<tr><td>PTDSS1_JMJD6 </td><td>PTDSS1</td><td>phosphatidylserine synthase 1                             </td><td>JMJD6 </td><td>jumonji domain containing 6, arginine demethylase and lysine hydroxylase</td><td>NA                 </td><td>P48651</td><td>Q6NYC1               </td><td>1</td><td>1</td><td>⋯</td><td>1</td><td>0</td><td>Baccin2019;EMBRACE;Fantom5_LRdb;HPMR;HPMR_LRdb;HPMR_talklr;LRdb;Ramilowski2015;Ramilowski2015_Baccin2019;Wang;connectomeDB2020;iTALK;talklr                                                                                                                             </td><td>Baccin2019:10811223;HPMR:10811223;LRdb:10811223;connectomeDB2020:10811223                                                                                                                                                                                                                                                                                                                                                                                                                                                                                                             </td><td> 4</td><td> 1</td><td> 9</td><td>both</td><td>JMJD6_PTDSS1 </td><td>FALSE</td></tr>\n",
       "\t<tr><td>PTDSS1_SCARB1</td><td>PTDSS1</td><td>phosphatidylserine synthase 1                             </td><td>SCARB1</td><td>scavenger receptor class B member 1                                     </td><td>NA                 </td><td>P48651</td><td>Q8WTV0               </td><td>1</td><td>1</td><td>⋯</td><td>1</td><td>0</td><td>Baccin2019;EMBRACE;Fantom5_LRdb;HPMR;HPMR_LRdb;HPMR_talklr;LRdb;Ramilowski2015;Ramilowski2015_Baccin2019;Wang;connectomeDB2020;iTALK;talklr                                                                                                                             </td><td>Baccin2019:8999945;HPMR:12016218;HPMR:8999945;LRdb:8999945;connectomeDB2020:8999945                                                                                                                                                                                                                                                                                                                                                                                                                                                                                                   </td><td> 5</td><td> 2</td><td> 9</td><td>both</td><td>SCARB1_PTDSS1</td><td>FALSE</td></tr>\n",
       "\t<tr><td>IL1R1_IL1RAP </td><td>IL1R1 </td><td>interleukin 1 receptor type 1                             </td><td>IL1RAP</td><td>interleukin 1 receptor accessory protein                                </td><td>IL1A_IL1R1_IL1RAP  </td><td>P01583</td><td>COMPLEX:P14778_Q9NPH3</td><td>1</td><td>1</td><td>⋯</td><td>1</td><td>0</td><td>CellChatDB;Cellinker;DLRP_Cellinker;HPMR_Cellinker;ICELLNET;KEGG-MEDICUS                                                                                                                                                                                                </td><td>Cellinker:2946959;Cellinker:9820540;ICELLNET:20959797;ICELLNET:24332029                                                                                                                                                                                                                                                                                                                                                                                                                                                                                                               </td><td> 4</td><td> 4</td><td> 4</td><td>both</td><td>IL1RAP_IL1R1 </td><td>FALSE</td></tr>\n",
       "\t<tr><td>IL1RAP_IL1R1 </td><td>IL1RAP</td><td>interleukin 1 receptor accessory protein                  </td><td>IL1R1 </td><td>interleukin 1 receptor type 1                                           </td><td>IL1A_IL1R1_IL1RAP  </td><td>P01583</td><td>COMPLEX:P14778_Q9NPH3</td><td>1</td><td>1</td><td>⋯</td><td>1</td><td>0</td><td>CellChatDB;Cellinker;DLRP_Cellinker;HPMR_Cellinker;ICELLNET;KEGG-MEDICUS                                                                                                                                                                                                </td><td>Cellinker:2946959;Cellinker:9820540;ICELLNET:20959797;ICELLNET:24332029                                                                                                                                                                                                                                                                                                                                                                                                                                                                                                               </td><td> 4</td><td> 4</td><td> 4</td><td>both</td><td>IL1R1_IL1RAP </td><td>FALSE</td></tr>\n",
       "\t<tr><td>TGFBR1_TGFBR2</td><td>TGFBR1</td><td>transforming growth factor beta receptor 1                </td><td>TGFBR2</td><td>transforming growth factor beta receptor 2                              </td><td>TGFB1_TGFBR1_TGFBR2</td><td>P01137</td><td>COMPLEX:P36897_P37173</td><td>1</td><td>1</td><td>⋯</td><td>1</td><td>0</td><td>CellChatDB;CellPhoneDB;ICELLNET;KEGG-MEDICUS                                                                                                                                                                                                                            </td><td>ICELLNET:1333888;ICELLNET:7693660;ICELLNET:8242743                                                                                                                                                                                                                                                                                                                                                                                                                                                                                                                                    </td><td> 3</td><td> 3</td><td> 4</td><td>both</td><td>TGFBR2_TGFBR1</td><td>FALSE</td></tr>\n",
       "\t<tr><td>TGFBR2_TGFBR1</td><td>TGFBR2</td><td>transforming growth factor beta receptor 2                </td><td>TGFBR1</td><td>transforming growth factor beta receptor 1                              </td><td>TGFB1_TGFBR1_TGFBR2</td><td>P01137</td><td>COMPLEX:P36897_P37173</td><td>1</td><td>1</td><td>⋯</td><td>1</td><td>0</td><td>CellChatDB;CellPhoneDB;ICELLNET;KEGG-MEDICUS                                                                                                                                                                                                                            </td><td>ICELLNET:1333888;ICELLNET:7693660;ICELLNET:8242743                                                                                                                                                                                                                                                                                                                                                                                                                                                                                                                                    </td><td> 3</td><td> 3</td><td> 4</td><td>both</td><td>TGFBR1_TGFBR2</td><td>FALSE</td></tr>\n",
       "\t<tr><td>EGFR_ERBB2   </td><td>EGFR  </td><td>epidermal growth factor receptor                          </td><td>ERBB2 </td><td>erb-b2 receptor tyrosine kinase 2                                       </td><td>EGF_EGFR_ERBB2     </td><td>P01133</td><td>COMPLEX:P00533_P04626</td><td>1</td><td>1</td><td>⋯</td><td>1</td><td>0</td><td>CellChatDB;Cellinker;DLRP_Cellinker;Guide2Pharma_Cellinker;HPMR_Cellinker;KEGG-MEDICUS                                                                                                                                                                                  </td><td>Cellinker:10788520;Cellinker:12093292;Cellinker:12297050;Cellinker:12620237;Cellinker:15620700;Cellinker:16274239;Cellinker:6289330                                                                                                                                                                                                                                                                                                                                                                                                                                                   </td><td> 7</td><td> 7</td><td> 3</td><td>LR  </td><td>ERBB2_EGFR   </td><td>FALSE</td></tr>\n",
       "\t<tr><td>ERBB2_EGFR   </td><td>ERBB2 </td><td>erb-b2 receptor tyrosine kinase 2                         </td><td>EGFR  </td><td>epidermal growth factor receptor                                        </td><td>EGF_EGFR_ERBB2     </td><td>P01133</td><td>COMPLEX:P00533_P04626</td><td>1</td><td>1</td><td>⋯</td><td>1</td><td>0</td><td>CellChatDB;Cellinker;DLRP_Cellinker;Guide2Pharma_Cellinker;HPMR_Cellinker;KEGG-MEDICUS                                                                                                                                                                                  </td><td>Cellinker:10788520;Cellinker:12093292;Cellinker:12297050;Cellinker:12620237;Cellinker:15620700;Cellinker:16274239;Cellinker:6289330                                                                                                                                                                                                                                                                                                                                                                                                                                                   </td><td> 7</td><td> 7</td><td> 3</td><td>LR  </td><td>EGFR_ERBB2   </td><td>FALSE</td></tr>\n",
       "\t<tr><td>NRP1_KDR     </td><td>NRP1  </td><td>neuropilin 1                                              </td><td>KDR   </td><td>kinase insert domain receptor                                           </td><td>NRP1_FLT1_KDR      </td><td>O14786</td><td>COMPLEX:P17948_P35968</td><td>1</td><td>1</td><td>⋯</td><td>1</td><td>0</td><td>CellChatDB-cofactors                                                                                                                                                                                                                                                    </td><td>NA                                                                                                                                                                                                                                                                                                                                                                                                                                                                                                                                                                                    </td><td> 0</td><td> 0</td><td> 1</td><td>LR  </td><td>KDR_NRP1     </td><td>FALSE</td></tr>\n",
       "\t<tr><td>KDR_NRP1     </td><td>KDR   </td><td>kinase insert domain receptor                             </td><td>NRP1  </td><td>neuropilin 1                                                            </td><td>NRP1_FLT1_KDR      </td><td>O14786</td><td>COMPLEX:P17948_P35968</td><td>1</td><td>1</td><td>⋯</td><td>1</td><td>0</td><td>CellChatDB-cofactors                                                                                                                                                                                                                                                    </td><td>NA                                                                                                                                                                                                                                                                                                                                                                                                                                                                                                                                                                                    </td><td> 0</td><td> 0</td><td> 1</td><td>LR  </td><td>NRP1_KDR     </td><td>FALSE</td></tr>\n",
       "</tbody>\n",
       "</table>\n"
      ],
      "text/latex": [
       "A data.frame: 51 × 22\n",
       "\\begin{tabular}{lllllllllllllllllllll}\n",
       " Pair.Name & Ligand & Ligand.Name & Receptor & Receptor.Name & complex\\_pair & source & target & is\\_directed & is\\_stimulation & ⋯ & consensus\\_stimulation & consensus\\_inhibition & sources & references & curation\\_effort & n\\_references & n\\_resources & annotation\\_strategy & dup & True\\_LR\\\\\n",
       " <chr> & <chr> & <chr> & <chr> & <chr> & <chr> & <chr> & <chr> & <dbl> & <dbl> & ⋯ & <dbl> & <dbl> & <chr> & <chr> & <dbl> & <dbl> & <int> & <chr> & <chr> & <lgl>\\\\\n",
       "\\hline\n",
       "\t TIMD4\\_HAVCR1  & TIMD4  & T cell immunoglobulin and mucin domain containing 4        & HAVCR1 & hepatitis A virus cellular receptor 1                                    & NA                  & Q96H15 & Q96D42                & 1 & 1 & ⋯ & 1 & 0 & SPIKE;Wojtowicz2020;connectomeDB2020                                                                                                                                                                                                                                     & SPIKE:15793576;connectomeDB2020:28949386                                                                                                                                                                                                                                                                                                                                                                                                                                                                                                                                               &  3 &  2 &  3 & both & HAVCR1\\_TIMD4  & FALSE\\\\\n",
       "\t CD80\\_CD28     & CD80   & CD80 molecule                                              & CD28   & CD28 molecule                                                            & NA                  & P33681 & P10747                & 1 & 1 & ⋯ & 1 & 0 & BioGRID;CellChatDB;CellPhoneDB\\_Cellinker;Cellinker;DIP;HPRD;ICELLNET;KEGG-MEDICUS;LRdb;Lit-BM-17;NetPath;SPIKE;Wang;Wojtowicz2020;connectomeDB2020;iTALK                                                                                                                 & BioGRID:1847722;CellChatDB:23954143;Cellinker:21530327;Cellinker:23954143;DIP:1847722;DIP:2164219;DIP:7964482;HPRD:7545666;ICELLNET:7545666;LRdb:22437870;Lit-BM-17:1847722;Lit-BM-17:2164219;Lit-BM-17:21982860;Lit-BM-17:7545666;Lit-BM-17:7964482;NetPath:2164219;SPIKE:15610849;SPIKE:21487479;connectomeDB2020:7545666                                                                                                                                                                                                                                                            & 19 & 10 & 15 & both & CD28\\_CD80     & FALSE\\\\\n",
       "\t CD86\\_CD28     & CD86   & CD86 molecule                                              & CD28   & CD28 molecule                                                            & NA                  & P42081 & P10747                & 1 & 1 & ⋯ & 1 & 0 & Baccin2019;CellChatDB;CellPhoneDB\\_Cellinker;CellTalkDB;Cellinker;DIP;HPRD;ICELLNET;KEGG-MEDICUS;LRdb;SPIKE;Wang;Wojtowicz2020;connectomeDB2020;iTALK                                                                                                                     & CellChatDB:23954143;CellTalkDB:23954143;Cellinker:21530327;Cellinker:23954143;DIP:21931534;HPRD:11021528;HPRD:7513726;ICELLNET:18205792;LRdb:22437870;SPIKE:11021528;SPIKE:21487479;connectomeDB2020:23954143                                                                                                                                                                                                                                                                                                                                                                          & 12 &  8 & 14 & both & CD28\\_CD86     & FALSE\\\\\n",
       "\t PSEN1\\_NCSTN   & PSEN1  & presenilin 1                                               & NCSTN  & nicastrin                                                                & NA                  & P49768 & Q92542                & 1 & 1 & ⋯ & 1 & 0 & CellTalkDB;Cellinker;EMBRACE;Fantom5\\_LRdb;HPMR;HPMR\\_Cellinker;HPMR\\_LRdb;HPMR\\_talklr;HPRD;HPRD\\_LRdb;HPRD\\_talklr;IntAct;LRdb;Ramilowski2015;STRING\\_talklr;Wang;connectomeDB2020;iTALK;talklr                                                                               & CellTalkDB:10993067;Cellinker:10993067;Cellinker:12603837;HPMR:10993067;HPRD:10993067;HPRD:12603837;IntAct:18201567;LRdb:10993067;LRdb:13;connectomeDB2020:10993067;connectomeDB2020:12603837                                                                                                                                                                                                                                                                                                                                                                                          & 11 &  4 & 12 & both & NCSTN\\_PSEN1   & FALSE\\\\\n",
       "\t SELPLG\\_SELP   & SELPLG & selectin P ligand                                          & SELP   & selectin P                                                               & NA                  & Q14242 & P16109                & 1 & 1 & ⋯ & 1 & 0 & CellChatDB;CellPhoneDB\\_Cellinker;CellTalkDB;Cellinker;DIP;Fantom5\\_LRdb;Guide2Pharma;HPMR;HPMR\\_Cellinker;HPMR\\_LRdb;HPMR\\_talklr;HPRD;HPRD\\_LRdb;HPRD\\_talklr;InnateDB;IntAct;LRdb;Lit-BM-17;Ramilowski2015;SIGNOR;STRING\\_talklr;Wang;connectomeDB2020;iTALK;scConnect;talklr & CellChatDB:19118202;CellChatDB:9829984;CellTalkDB:12393589;Cellinker:10713099;Cellinker:19118202;Cellinker:9128259;Cellinker:9129046;Cellinker:9829984;DIP:19118202;Guide2Pharma:9829984;HPMR:9129046;HPRD:10713099;HPRD:17064811;HPRD:9128259;InnateDB:11081633;IntAct:11081633;IntAct:19118202;IntAct:26627825;LRdb:10713099;LRdb:17064811;LRdb:9128259;LRdb:9129046;Lit-BM-17:10713099;Lit-BM-17:11081633;Lit-BM-17:19118202;SIGNOR:23994464;SIGNOR:9129046;connectomeDB2020:10713099;connectomeDB2020:17064811;connectomeDB2020:9128259;connectomeDB2020:9129046;scConnect:9829984 & 32 & 10 & 18 & both & SELP\\_SELPLG   & FALSE\\\\\n",
       "\t RTN4\\_LINGO1   & RTN4   & reticulon 4                                                & LINGO1 & leucine rich repeat and Ig domain containing 1                           & NA                  & Q9NQC3 & Q96FE5                & 1 & 1 & ⋯ & 1 & 0 & Baccin2019;CellTalkDB;EMBRACE;Fantom5\\_LRdb;HPMR\\_LRdb;HPMR\\_talklr;LRdb;Ramilowski2015;Ramilowski2015\\_Baccin2019;SIGNOR;Wang;connectomeDB2020;iTALK;talklr                                                                                                                 & Baccin2019:15694322;CellTalkDB:15694322;LRdb:15694322;SIGNOR:15694321;connectomeDB2020:15694322                                                                                                                                                                                                                                                                                                                                                                                                                                                                                        &  5 &  2 & 10 & both & LINGO1\\_RTN4   & FALSE\\\\\n",
       "\t NTNG1\\_LRRC4C  & NTNG1  & netrin G1                                                  & LRRC4C & leucine rich repeat containing 4C                                        & NA                  & Q9Y2I2 & Q9HCJ2                & 1 & 1 & ⋯ & 1 & 0 & Baccin2019;BioGRID;CellTalkDB;EMBRACE;Fantom5\\_LRdb;HPMR;HPMR\\_LRdb;HPMR\\_talklr;HPRD;HPRD\\_LRdb;HPRD\\_talklr;IntAct;LRdb;Lit-BM-17;Ramilowski2015;Ramilowski2015\\_Baccin2019;SIGNOR;STRING\\_talklr;Wang;connectomeDB2020;iTALK;talklr                                          & Baccin2019:1459544314595440;BioGRID:21946559;CellTalkDB:14595443;HPMR:14595443;HPRD:14595443;IntAct:21946559;LRdb:14595443;Lit-BM-17:14595443;Lit-BM-17:21946559;SIGNOR:19467332;connectomeDB2020:14595443                                                                                                                                                                                                                                                                                                                                                                             & 11 &  4 & 15 & both & LRRC4C\\_NTNG1  & FALSE\\\\\n",
       "\t GNAI2\\_ADCY1   & GNAI2  & G protein subunit alpha i2                                 & ADCY1  & adenylate cyclase 1                                                      & NA                  & P04899 & Q08828                & 1 & 0 & ⋯ & 0 & 1 & Baccin2019;CellTalkDB;EMBRACE;Fantom5\\_LRdb;HPRD;HPRD\\_LRdb;HPRD\\_talklr;KEGG-MEDICUS;LRdb;Ramilowski2015;Ramilowski2015\\_Baccin2019;SIGNOR;STRING\\_talklr;Wang;connectomeDB2020;iTALK;talklr                                                                                 & Baccin2019:2121366;CellTalkDB:2121366;HPRD:2121366;LRdb:2121366;SIGNOR:19703466;SIGNOR:8327893;connectomeDB2020:2121366                                                                                                                                                                                                                                                                                                                                                                                                                                                                &  7 &  3 & 12 & both & ADCY1\\_GNAI2   & FALSE\\\\\n",
       "\t LRRC4B\\_PTPRF  & LRRC4B & leucine rich repeat containing 4B                          & PTPRF  & protein tyrosine phosphatase receptor type F                             & NA                  & Q9NT99 & P10586                & 1 & 1 & ⋯ & 1 & 0 & Baccin2019;CellChatDB;Cellinker;Wojtowicz2020;connectomeDB2020                                                                                                                                                                                                           & Cellinker:32589946;connectomeDB2020:19252495;connectomeDB2020:23345436                                                                                                                                                                                                                                                                                                                                                                                                                                                                                                                 &  3 &  3 &  5 & both & PTPRF\\_LRRC4B  & FALSE\\\\\n",
       "\t PECAM1\\_CD38   & PECAM1 & platelet and endothelial cell adhesion molecule 1          & CD38   & CD38 molecule                                                            & NA                  & P16284 & P28907                & 1 & 1 & ⋯ & 1 & 0 & Baccin2019;CellPhoneDB;CellPhoneDB\\_Cellinker;Cellinker;HPRD;LRdb;SIGNOR;Wang;connectomeDB2020                                                                                                                                                                            & Baccin2019:23308177;Cellinker:9551996;HPRD:9551996;LRdb:9551996;SIGNOR:18626062;connectomeDB2020:26407101;connectomeDB2020:9551996                                                                                                                                                                                                                                                                                                                                                                                                                                                     &  7 &  4 &  8 & both & CD38\\_PECAM1   & FALSE\\\\\n",
       "\t ADAM17\\_NOTCH1 & ADAM17 & ADAM metallopeptidase domain 17                            & NOTCH1 & notch receptor 1                                                         & NA                  & P78536 & P46531                & 1 & 1 & ⋯ & 1 & 0 & ACSN;CellCall;CellTalkDB;Cellinker;EMBRACE;Fantom5\\_LRdb;HPRD;HPRD-phos;HPRD\\_LRdb;HPRD\\_talklr;LRdb;Ramilowski2015;SIGNOR;STRING\\_talklr;Wang;connectomeDB2020;iTALK;talklr                                                                                                 & ACSN:19601831;ACSN:19704010;ACSN:19726682;CellTalkDB:10882063;Cellinker:10882063;Cellinker:9620803;HPRD-phos:10882063;HPRD-phos:9620803;HPRD:10882063;HPRD:9620803;LRdb:10882063;LRdb:96;SIGNOR:10882063;connectomeDB2020:10882063;connectomeDB2020:9620803                                                                                                                                                                                                                                                                                                                            & 15 &  6 & 14 & both & NOTCH1\\_ADAM17 & FALSE\\\\\n",
       "\t ADAM12\\_SDC4   & ADAM12 & ADAM metallopeptidase domain 12                            & SDC4   & syndecan 4                                                               & NA                  & O43184 & P31431                & 1 & 1 & ⋯ & 1 & 0 & Adhesome;CellTalkDB;EMBRACE;Fantom5\\_LRdb;HPMR\\_LRdb;HPMR\\_talklr;LRdb;Ramilowski2015;SIGNOR;STRING\\_talklr;Wang;connectomeDB2020;iTALK;talklr                                                                                                                               & Adhesome:12509413;CellTalkDB:12509413;LRdb:12509413;SIGNOR:12509413;connectomeDB2020:12509413                                                                                                                                                                                                                                                                                                                                                                                                                                                                                          &  5 &  1 & 10 & both & SDC4\\_ADAM12   & FALSE\\\\\n",
       "\t PLAU\\_PLAUR    & PLAU   & plasminogen activator, urokinase                           & PLAUR  & plasminogen activator, urokinase receptor                                & NA                  & P00749 & Q03405                & 1 & 1 & ⋯ & 1 & 0 & Baccin2019;BioGRID;CellTalkDB;Cellinker;DIP;EMBRACE;Fantom5\\_LRdb;HPMR;HPMR\\_Cellinker;HPMR\\_LRdb;HPMR\\_talklr;HPRD;HPRD\\_LRdb;HPRD\\_talklr;ICELLNET;Kirouac2010;LRdb;Ramilowski2015;Ramilowski2015\\_Baccin2019;SIGNOR;STRING\\_talklr;Wang;connectomeDB2020;iTALK;talklr         & Baccin2019:11501527;Baccin2019:16456079;Baccin2019:3023326;Baccin2019:3031025;BioGRID:11501527;BioGRID:16879932;BioGRID:19017363;CellTalkDB:16456079;Cellinker:11501527;Cellinker:16456079;Cellinker:3023326;Cellinker:3031025;DIP:18376415;HPMR:16456079;HPRD:11501527;HPRD:3023326;HPRD:3031025;ICELLNET:11501527;LRdb:11501527;LRdb:16456079;LRdb:3023326;LRdb:3031025;SIGNOR:16456079;connectomeDB2020:11501527;connectomeDB2020:16456079;connectomeDB2020:3023326;connectomeDB2020:3031025                                                                                        & 27 &  7 & 17 & both & PLAUR\\_PLAU    & FALSE\\\\\n",
       "\t CD55\\_ADGRE5   & CD55   & CD55 molecule (Cromer blood group)                         & ADGRE5 & adhesion G protein-coupled receptor E5                                   & NA                  & P08174 & P48960                & 1 & 1 & ⋯ & 1 & 0 & Baccin2019;CellPhoneDB;CellPhoneDB\\_Cellinker;CellTalkDB;Cellinker;Fantom5\\_LRdb;HPMR;HPMR\\_LRdb;HPMR\\_talklr;HPRD;HPRD\\_LRdb;HPRD\\_talklr;LRdb;Ramilowski2015;SIGNOR;STRING\\_talklr;Wang;connectomeDB2020;iTALK;talklr                                                         & Baccin2019:23447688;CellTalkDB:12417446;Cellinker:10540231;Cellinker:12417446;HPMR:12417446;HPRD:10540231;LRdb:11;LRdb:12417446;SIGNOR:12417446;connectomeDB2020:10540231;connectomeDB2020:12417446                                                                                                                                                                                                                                                                                                                                                                                    & 11 &  4 & 13 & both & ADGRE5\\_CD55   & FALSE\\\\\n",
       "\t PVR\\_CD226     & PVR    & PVR cell adhesion molecule                                 & CD226  & CD226 molecule                                                           & NA                  & P15151 & Q15762                & 1 & 1 & ⋯ & 1 & 0 & CellChatDB;CellPhoneDB;HPRD;ICELLNET;LRdb;Lit-BM-17;SIGNOR;UniProt\\_LRdb;Wang;Wojtowicz2020;connectomeDB2020                                                                                                                                                              & CellPhoneDB:15607800;CellPhoneDB:24440149;HPRD:12913096;ICELLNET:15034010;Lit-BM-17:12913096;Lit-BM-17:21982860;SIGNOR:30591568;connectomeDB2020:15607800                                                                                                                                                                                                                                                                                                                                                                                                                              &  8 &  6 & 10 & both & CD226\\_PVR     & FALSE\\\\\n",
       "\t OMG\\_LINGO1    & OMG    & oligodendrocyte myelin glycoprotein                        & LINGO1 & leucine rich repeat and Ig domain containing 1                           & NA                  & P23515 & Q96FE5                & 1 & 1 & ⋯ & 1 & 0 & Baccin2019;CellTalkDB;Cellinker;EMBRACE;Fantom5\\_LRdb;HPMR;HPMR\\_Cellinker;HPMR\\_LRdb;HPMR\\_talklr;LRdb;Ramilowski2015;Ramilowski2015\\_Baccin2019;SIGNOR;Wang;connectomeDB2020;iTALK;talklr                                                                                   & Baccin2019:14966521;CellTalkDB:14966521;Cellinker:14966521;HPMR:14966521;LRdb:14966521;SIGNOR:15694321;connectomeDB2020:14966521                                                                                                                                                                                                                                                                                                                                                                                                                                                       &  7 &  2 & 12 & both & LINGO1\\_OMG    & FALSE\\\\\n",
       "\t SELPLG\\_SELE   & SELPLG & selectin P ligand                                          & SELE   & selectin E                                                               & NA                  & Q14242 & P16581                & 1 & 1 & ⋯ & 1 & 0 & CellChatDB;CellPhoneDB\\_Cellinker;CellTalkDB;Cellinker;Fantom5\\_LRdb;HPMR\\_Cellinker;HPMR\\_LRdb;HPMR\\_talklr;HPRD;HPRD\\_LRdb;HPRD\\_talklr;LRdb;Ramilowski2015;SIGNOR;STRING\\_talklr;Wang;connectomeDB2020;iTALK;talklr                                                           & CellChatDB:26124272;CellTalkDB:11402070;Cellinker:11402070;Cellinker:26124272;Cellinker:8621728;Cellinker:9128259;HPRD:8621728;HPRD:9128259;LRdb:11402070;LRdb:8621728;LRdb:9128259;SIGNOR:9024699;connectomeDB2020:11402070;connectomeDB2020:8621728;connectomeDB2020:9128259                                                                                                                                                                                                                                                                                                         & 15 &  5 & 11 & both & SELE\\_SELPLG   & FALSE\\\\\n",
       "\t ADAM12\\_ITGB1  & ADAM12 & ADAM metallopeptidase domain 12                            & ITGB1  & integrin subunit beta 1                                                  & NA                  & O43184 & P05556                & 1 & 1 & ⋯ & 1 & 0 & Adhesome;CellTalkDB;EMBRACE;Fantom5\\_LRdb;HPMR\\_LRdb;HPMR\\_talklr;LRdb;Ramilowski2015;STRING\\_talklr;Wang;connectomeDB2020;iTALK;talklr                                                                                                                                      & Adhesome:15242759;CellTalkDB:10944520;LRdb:10944520;connectomeDB2020:10944520                                                                                                                                                                                                                                                                                                                                                                                                                                                                                                          &  4 &  2 &  9 & both & ITGB1\\_ADAM12  & FALSE\\\\\n",
       "\t CD80\\_CTLA4    & CD80   & CD80 molecule                                              & CTLA4  & cytotoxic T-lymphocyte associated protein 4                              & NA                  & P33681 & P16410                & 1 & 1 & ⋯ & 1 & 0 & BioGRID;CellChatDB;CellPhoneDB\\_Cellinker;Cellinker;HPRD;ICELLNET;InnateDB;IntAct;LRdb;Lit-BM-17;NetPath;Wang;Wojtowicz2020;connectomeDB2020;iTALK                                                                                                                        & BioGRID:11279502;CellChatDB:23954143;Cellinker:21530327;Cellinker:23954143;Cellinker:31757674;HPRD:7545666;ICELLNET:10583602;InnateDB:21422170;IntAct:11279502;IntAct:20587542;IntAct:21982860;LRdb:22437870;Lit-BM-17:11279502;Lit-BM-17:21982860;Lit-BM-17:7545666;NetPath:11279501;connectomeDB2020:17953528;connectomeDB2020:23954143                                                                                                                                                                                                                                              & 18 & 12 & 14 & both & CTLA4\\_CD80    & FALSE\\\\\n",
       "\t CD86\\_CTLA4    & CD86   & CD86 molecule                                              & CTLA4  & cytotoxic T-lymphocyte associated protein 4                              & NA                  & P42081 & P16410                & 1 & 1 & ⋯ & 1 & 0 & BioGRID;CellChatDB;CellPhoneDB\\_Cellinker;CellTalkDB;Cellinker;HPRD;ICELLNET;IntAct;LRdb;Lit-BM-17;Wang;Wojtowicz2020;connectomeDB2020;iTALK                                                                                                                              & BioGRID:11279501;CellChatDB:23954143;CellTalkDB:23954143;Cellinker:21530327;Cellinker:23223433;Cellinker:23954143;HPRD:11021528;HPRD:11162656;HPRD:11279501;HPRD:12071705;HPRD:12582153;HPRD:12606712;HPRD:7513726;HPRD:7694153;ICELLNET:10583602;ICELLNET:11976720;IntAct:11279501;IntAct:21982860;IntAct:25241761;LRdb:22437870;Lit-BM-17:11279501;Lit-BM-17:21982860;Lit-BM-17:25241761;connectomeDB2020:23954143                                                                                                                                                                   & 24 & 16 & 13 & both & CTLA4\\_CD86    & FALSE\\\\\n",
       "\t CDH1\\_EGFR     & CDH1   & cadherin 1                                                 & EGFR   & epidermal growth factor receptor                                         & NA                  & P12830 & P00533                & 1 & 1 & ⋯ & 1 & 0 & Baccin2019;BioGRID;CellTalkDB;Cellinker;EMBRACE;Fantom5\\_LRdb;HPRD;HPRD\\_LRdb;HPRD\\_talklr;InnateDB;IntAct;LRdb;Lit-BM-17;Ramilowski2015;Ramilowski2015\\_Baccin2019;STRING\\_talklr;Wang;connectomeDB2020;iTALK;talklr                                                         & Baccin2019:10969083;BioGRID:10969083;CellTalkDB:10969083;Cellinker:10969083;HPRD:10969083;InnateDB:17548604;IntAct:24658140;IntAct:25241761;IntAct:31980649;LRdb:10969083;Lit-BM-17:24189400;Lit-BM-17:24658140;Lit-BM-17:25241761;Lit-BM-17:25402006;Lit-BM-17:25468996;connectomeDB2020:10969083                                                                                                                                                                                                                                                                                     & 16 &  8 & 15 & both & EGFR\\_CDH1     & FALSE\\\\\n",
       "\t CDH1\\_IGF1R    & CDH1   & cadherin 1                                                 & IGF1R  & insulin like growth factor 1 receptor                                    & NA                  & P12830 & P08069                & 1 & 0 & ⋯ & 0 & 1 & Baccin2019;CellTalkDB;EMBRACE;Fantom5\\_LRdb;LRdb;Ramilowski2015;Ramilowski2015\\_Baccin2019;STRING\\_talklr;Wang;connectomeDB2020;iTALK;talklr                                                                                                                                & CellTalkDB:22479204;LRdb:22479204;Ramilowski2015:22479204;connectomeDB2020:22479204;talklr:22479204                                                                                                                                                                                                                                                                                                                                                                                                                                                                                    &  5 &  1 &  9 & both & IGF1R\\_CDH1    & FALSE\\\\\n",
       "\t ADAM2\\_ITGB1   & ADAM2  & ADAM metallopeptidase domain 2                             & ITGB1  & integrin subunit beta 1                                                  & NA                  & Q99965 & P05556                & 1 & 1 & ⋯ & 1 & 0 & CellTalkDB;Fantom5\\_LRdb;HPMR\\_LRdb;HPMR\\_talklr;LRdb;Ramilowski2015;STRING\\_talklr;Wang;connectomeDB2020;iTALK;talklr                                                                                                                                                       & CellTalkDB:9889149;LRdb:9889149;connectomeDB2020:9889149                                                                                                                                                                                                                                                                                                                                                                                                                                                                                                                               &  3 &  1 &  7 & both & ITGB1\\_ADAM2   & FALSE\\\\\n",
       "\t ADAM2\\_ITGA6   & ADAM2  & ADAM metallopeptidase domain 2                             & ITGA6  & integrin subunit alpha 6                                                 & NA                  & Q99965 & P23229                & 1 & 1 & ⋯ & 1 & 0 & CellTalkDB;Fantom5\\_LRdb;HPMR\\_LRdb;HPMR\\_talklr;LRdb;Ramilowski2015;Wang;connectomeDB2020;iTALK;talklr                                                                                                                                                                     & CellTalkDB:9889149;LRdb:9889149;connectomeDB2020:9889149                                                                                                                                                                                                                                                                                                                                                                                                                                                                                                                               &  3 &  1 &  7 & both & ITGA6\\_ADAM2   & FALSE\\\\\n",
       "\t HAS2\\_HMMR     & HAS2   & hyaluronan synthase 2                                      & HMMR   & hyaluronan mediated motility receptor                                    & NA                  & Q92819 & O75330                & 1 & 1 & ⋯ & 1 & 0 & Baccin2019;CellTalkDB;Cellinker;EMBRACE;Fantom5\\_LRdb;HPMR;HPMR\\_Cellinker;HPMR\\_LRdb;HPMR\\_talklr;LRdb;Ramilowski2015;Ramilowski2015\\_Baccin2019;Wang;connectomeDB2020;iTALK;talklr                                                                                          & Baccin2019:1376732;CellTalkDB:1376732;Cellinker:1376732;HPMR:1376732;LRdb:1376732;connectomeDB2020:1376732                                                                                                                                                                                                                                                                                                                                                                                                                                                                             &  6 &  1 & 11 & both & HMMR\\_HAS2     & FALSE\\\\\n",
       "\t ADAM17\\_ERBB4  & ADAM17 & ADAM metallopeptidase domain 17                            & ERBB4  & erb-b2 receptor tyrosine kinase 4                                        & NA                  & P78536 & Q15303                & 1 & 1 & ⋯ & 1 & 0 & Baccin2019;CellTalkDB;EMBRACE;Fantom5\\_LRdb;HPRD;HPRD\\_LRdb;HPRD\\_talklr;LRdb;NCI-PID\\_ProtMapper;ProtMapper;Ramilowski2015;Ramilowski2015\\_Baccin2019;Reactome\\_ProtMapper;Wang;iTALK;talklr                                                                                  & Baccin2019:15534001;CellTalkDB:26554003;HPRD:15534001;LRdb:15534001;ProtMapper:10744726;ProtMapper:15746097;ProtMapper:17486069;ProtMapper:9685416                                                                                                                                                                                                                                                                                                                                                                                                                                     &  8 &  6 & 10 & both & ERBB4\\_ADAM17  & FALSE\\\\\n",
       "\t RTN4\\_RTN4R    & RTN4   & reticulon 4                                                & RTN4R  & reticulon 4 receptor                                                     & NA                  & Q9NQC3 & Q9BZR6                & 1 & 1 & ⋯ & 1 & 0 & Baccin2019;CellTalkDB;EMBRACE;Fantom5\\_LRdb;HPMR;HPMR\\_LRdb;HPMR\\_talklr;HPRD;HPRD\\_LRdb;HPRD\\_talklr;LRdb;Ramilowski2015;Ramilowski2015\\_Baccin2019;STRING\\_talklr;Wang;connectomeDB2020;iTALK;talklr                                                                          & Baccin2019:11201742;Baccin2019:15694322;CellTalkDB:11201742;HPMR:11201742;HPRD:11201742;LRdb:11201742;LRdb:16;connectomeDB2020:11201742;connectomeDB2020:15694322                                                                                                                                                                                                                                                                                                                                                                                                                      &  9 &  3 & 11 & both & RTN4R\\_RTN4    & FALSE\\\\\n",
       "\t PROC\\_PROCR    & PROC   & protein C, inactivator of coagulation factors Va and VIIIa & PROCR  & protein C receptor                                                       & NA                  & P04070 & Q9UNN8                & 1 & 1 & ⋯ & 1 & 0 & Baccin2019;CellTalkDB;Cellinker;Fantom5\\_LRdb;HPMR;HPMR\\_Cellinker;HPMR\\_LRdb;HPMR\\_talklr;HPRD;HPRD\\_LRdb;HPRD\\_talklr;LRdb;Ramilowski2015;Ramilowski2015\\_Baccin2019;STRING\\_talklr;Wang;connectomeDB2020;iTALK;talklr                                                         & Baccin2019:10681521;Baccin2019:11099506;Baccin2019:7929370;CellTalkDB:11099506;Cellinker:10681521;Cellinker:11099506;Cellinker:7929370;HPMR:7929370;HPRD:10681521;HPRD:11099506;LRdb:10681521;LRdb:11099506;LRdb:7929370;connectomeDB2020:10681521;connectomeDB2020:11099506;connectomeDB2020:7929370                                                                                                                                                                                                                                                                                  & 16 &  3 & 11 & both & PROCR\\_PROC    & FALSE\\\\\n",
       "\t ADAM9\\_ITGAV   & ADAM9  & ADAM metallopeptidase domain 9                             & ITGAV  & integrin subunit alpha V                                                 & NA                  & Q13443 & P06756                & 1 & 1 & ⋯ & 1 & 0 & CellTalkDB;EMBRACE;Fantom5\\_LRdb;HPMR;HPMR\\_LRdb;HPMR\\_talklr;HPRD;HPRD\\_LRdb;HPRD\\_talklr;LRdb;Ramilowski2015;Wang;connectomeDB2020;iTALK;talklr                                                                                                                             & CellTalkDB:11162558;HPMR:11162558;HPRD:15361064;LRdb:11162558;LRdb:15;connectomeDB2020:11162558;connectomeDB2020:15361064                                                                                                                                                                                                                                                                                                                                                                                                                                                              &  7 &  3 & 10 & both & ITGAV\\_ADAM9   & FALSE\\\\\n",
       "\t ADAM15\\_ITGA9  & ADAM15 & ADAM metallopeptidase domain 15                            & ITGA9  & integrin subunit alpha 9                                                 & NA                  & Q13444 & Q13797                & 1 & 1 & ⋯ & 1 & 0 & CellTalkDB;EMBRACE;Fantom5\\_LRdb;HPMR\\_LRdb;HPMR\\_talklr;LRdb;Ramilowski2015;STRING\\_talklr;Wang;connectomeDB2020;iTALK;talklr                                                                                                                                               & CellTalkDB:10944520;LRdb:10944520;connectomeDB2020:10944520                                                                                                                                                                                                                                                                                                                                                                                                                                                                                                                            &  3 &  1 &  8 & both & ITGA9\\_ADAM15  & FALSE\\\\\n",
       "\t ADAM15\\_ITGA5  & ADAM15 & ADAM metallopeptidase domain 15                            & ITGA5  & integrin subunit alpha 5                                                 & NA                  & Q13444 & P08648                & 1 & 1 & ⋯ & 1 & 0 & CellTalkDB;EMBRACE;Fantom5\\_LRdb;HPMR;HPMR\\_LRdb;HPMR\\_talklr;LRdb;Ramilowski2015;Wang;connectomeDB2020;iTALK;talklr                                                                                                                                                        & CellTalkDB:9914169;HPMR:9516430;HPMR:9914169;LRdb:952;LRdb:9914169;connectomeDB2020:9516430;connectomeDB2020:9914169                                                                                                                                                                                                                                                                                                                                                                                                                                                                   &  7 &  3 &  9 & both & ITGA5\\_ADAM15  & FALSE\\\\\n",
       "\t ADAM17\\_ITGA5  & ADAM17 & ADAM metallopeptidase domain 17                            & ITGA5  & integrin subunit alpha 5                                                 & NA                  & P78536 & P08648                & 1 & 1 & ⋯ & 1 & 0 & CellTalkDB;EMBRACE;Fantom5\\_LRdb;HPMR\\_LRdb;HPMR\\_talklr;LRdb;Ramilowski2015;Wang;connectomeDB2020;iTALK;talklr                                                                                                                                                             & CellTalkDB:14970227;LRdb:14970227;connectomeDB2020:14970227                                                                                                                                                                                                                                                                                                                                                                                                                                                                                                                            &  3 &  1 &  8 & both & ITGA5\\_ADAM17  & FALSE\\\\\n",
       "\t ADAM9\\_ITGB5   & ADAM9  & ADAM metallopeptidase domain 9                             & ITGB5  & integrin subunit beta 5                                                  & NA                  & Q13443 & P18084                & 1 & 1 & ⋯ & 1 & 0 & CellTalkDB;EMBRACE;Fantom5\\_LRdb;HPMR;HPMR\\_LRdb;HPMR\\_talklr;LRdb;Ramilowski2015;Wang;connectomeDB2020;iTALK;talklr                                                                                                                                                        & CellTalkDB:11162558;HPMR:11162558;LRdb:11162558;connectomeDB2020:11162558                                                                                                                                                                                                                                                                                                                                                                                                                                                                                                              &  4 &  1 &  9 & both & ITGB5\\_ADAM9   & FALSE\\\\\n",
       "\t ADAM9\\_ITGB1   & ADAM9  & ADAM metallopeptidase domain 9                             & ITGB1  & integrin subunit beta 1                                                  & NA                  & Q13443 & P05556                & 1 & 1 & ⋯ & 1 & 0 & CellTalkDB;EMBRACE;Fantom5\\_LRdb;HPMR\\_LRdb;HPMR\\_talklr;LRdb;Ramilowski2015;Wang;connectomeDB2020;iTALK;talklr                                                                                                                                                             & CellTalkDB:10825303;LRdb:10825303;connectomeDB2020:10825303                                                                                                                                                                                                                                                                                                                                                                                                                                                                                                                            &  3 &  1 &  8 & both & ITGB1\\_ADAM9   & FALSE\\\\\n",
       "\t ADAM9\\_ITGA6   & ADAM9  & ADAM metallopeptidase domain 9                             & ITGA6  & integrin subunit alpha 6                                                 & NA                  & Q13443 & P23229                & 1 & 1 & ⋯ & 1 & 0 & CellTalkDB;EMBRACE;Fantom5\\_LRdb;HPMR\\_LRdb;HPMR\\_talklr;HPRD;HPRD\\_LRdb;HPRD\\_talklr;LRdb;Ramilowski2015;Wang;connectomeDB2020;iTALK;talklr                                                                                                                                  & CellTalkDB:10825303;HPRD:15361064;LRdb:10825303;LRdb:15;connectomeDB2020:10825303;connectomeDB2020:15361064                                                                                                                                                                                                                                                                                                                                                                                                                                                                            &  6 &  3 &  9 & both & ITGA6\\_ADAM9   & FALSE\\\\\n",
       "\t NCAM1\\_FGFR1   & NCAM1  & neural cell adhesion molecule 1                            & FGFR1  & fibroblast growth factor receptor 1                                      & NA                  & P13591 & P11362                & 1 & 1 & ⋯ & 1 & 0 & Baccin2019;BioGRID;CellChatDB;CellPhoneDB;CellPhoneDB\\_Cellinker;CellTalkDB;Cellinker;EMBRACE;Fantom5\\_LRdb;HPRD;HPRD\\_LRdb;HPRD\\_talklr;LRdb;Ramilowski2015;Ramilowski2015\\_Baccin2019;STRING\\_talklr;Wang;connectomeDB2020;iTALK;talklr                                      & Baccin2019:12121226;BioGRID:12121226;BioGRID:12791257;CellChatDB:12791257;CellTalkDB:12121226;Cellinker:12121226;Cellinker:12791257;HPRD:12121226;LRdb:12121226;connectomeDB2020:12121226                                                                                                                                                                                                                                                                                                                                                                                              & 10 &  2 & 14 & both & FGFR1\\_NCAM1   & FALSE\\\\\n",
       "\t NCAM1\\_ROBO1   & NCAM1  & neural cell adhesion molecule 1                            & ROBO1  & roundabout guidance receptor 1                                           & NA                  & P13591 & Q9Y6N7                & 1 & 1 & ⋯ & 1 & 0 & Baccin2019;CellTalkDB;Cellinker;EMBRACE;Fantom5\\_LRdb;HPMR;HPMR\\_Cellinker;HPMR\\_LRdb;HPMR\\_talklr;LRdb;Ramilowski2015;Ramilowski2015\\_Baccin2019;Wang;connectomeDB2020;iTALK;talklr                                                                                          & Baccin2019:16226035;CellTalkDB:16226035;Cellinker:16226035;HPMR:16226035;LRdb:16226035;connectomeDB2020:16226035                                                                                                                                                                                                                                                                                                                                                                                                                                                                       &  6 &  1 & 11 & both & ROBO1\\_NCAM1   & FALSE\\\\\n",
       "\t VSIR\\_IGSF11   & VSIR   & V-set immunoregulatory receptor                            & IGSF11 & immunoglobulin superfamily member 11                                     & NA                  & Q9H7M9 & Q5DX21                & 1 & 1 & ⋯ & 1 & 0 & CellChatDB;Cellinker                                                                                                                                                                                                                                                     & Cellinker:32589946                                                                                                                                                                                                                                                                                                                                                                                                                                                                                                                                                                     &  1 &  1 &  2 & LR   & IGSF11\\_VSIR   & FALSE\\\\\n",
       "\t ADAM23\\_ITGA5  & ADAM23 & ADAM metallopeptidase domain 23                            & ITGA5  & integrin subunit alpha 5                                                 & NA                  & O75077 & P08648                & 1 & 1 & ⋯ & 1 & 0 & EMBRACE;Fantom5\\_LRdb;HPMR\\_LRdb;HPMR\\_talklr;LRdb;Ramilowski2015;Wang;connectomeDB2020;iTALK;talklr                                                                                                                                                                        & LRdb:10749942;connectomeDB2020:10749942                                                                                                                                                                                                                                                                                                                                                                                                                                                                                                                                                &  2 &  1 &  7 & both & ITGA5\\_ADAM23  & FALSE\\\\\n",
       "\t ADAM23\\_ITGB3  & ADAM23 & ADAM metallopeptidase domain 23                            & ITGB3  & integrin subunit beta 3                                                  & NA                  & O75077 & P05106                & 1 & 1 & ⋯ & 1 & 0 & EMBRACE;Fantom5\\_LRdb;HPMR\\_LRdb;HPMR\\_talklr;LRdb;Ramilowski2015;Wang;connectomeDB2020;iTALK;talklr                                                                                                                                                                        & LRdb:10749942;connectomeDB2020:10749942                                                                                                                                                                                                                                                                                                                                                                                                                                                                                                                                                &  2 &  1 &  7 & both & ITGB3\\_ADAM23  & FALSE\\\\\n",
       "\t NCAM1\\_ROBO3   & NCAM1  & neural cell adhesion molecule 1                            & ROBO3  & roundabout guidance receptor 3                                           & NA                  & P13591 & Q96MS0                & 1 & 1 & ⋯ & 1 & 0 & Baccin2019;Cellinker;EMBRACE;Fantom5\\_LRdb;HPMR;HPMR\\_Cellinker;HPMR\\_LRdb;HPMR\\_talklr;LRdb;Ramilowski2015;Ramilowski2015\\_Baccin2019;Wang;connectomeDB2020;iTALK;talklr                                                                                                     & Baccin2019:16226035;Cellinker:16226035;HPMR:16226035;LRdb:16226035;connectomeDB2020:16226035                                                                                                                                                                                                                                                                                                                                                                                                                                                                                           &  5 &  1 & 10 & both & ROBO3\\_NCAM1   & FALSE\\\\\n",
       "\t PTDSS1\\_JMJD6  & PTDSS1 & phosphatidylserine synthase 1                              & JMJD6  & jumonji domain containing 6, arginine demethylase and lysine hydroxylase & NA                  & P48651 & Q6NYC1                & 1 & 1 & ⋯ & 1 & 0 & Baccin2019;EMBRACE;Fantom5\\_LRdb;HPMR;HPMR\\_LRdb;HPMR\\_talklr;LRdb;Ramilowski2015;Ramilowski2015\\_Baccin2019;Wang;connectomeDB2020;iTALK;talklr                                                                                                                              & Baccin2019:10811223;HPMR:10811223;LRdb:10811223;connectomeDB2020:10811223                                                                                                                                                                                                                                                                                                                                                                                                                                                                                                              &  4 &  1 &  9 & both & JMJD6\\_PTDSS1  & FALSE\\\\\n",
       "\t PTDSS1\\_SCARB1 & PTDSS1 & phosphatidylserine synthase 1                              & SCARB1 & scavenger receptor class B member 1                                      & NA                  & P48651 & Q8WTV0                & 1 & 1 & ⋯ & 1 & 0 & Baccin2019;EMBRACE;Fantom5\\_LRdb;HPMR;HPMR\\_LRdb;HPMR\\_talklr;LRdb;Ramilowski2015;Ramilowski2015\\_Baccin2019;Wang;connectomeDB2020;iTALK;talklr                                                                                                                              & Baccin2019:8999945;HPMR:12016218;HPMR:8999945;LRdb:8999945;connectomeDB2020:8999945                                                                                                                                                                                                                                                                                                                                                                                                                                                                                                    &  5 &  2 &  9 & both & SCARB1\\_PTDSS1 & FALSE\\\\\n",
       "\t IL1R1\\_IL1RAP  & IL1R1  & interleukin 1 receptor type 1                              & IL1RAP & interleukin 1 receptor accessory protein                                 & IL1A\\_IL1R1\\_IL1RAP   & P01583 & COMPLEX:P14778\\_Q9NPH3 & 1 & 1 & ⋯ & 1 & 0 & CellChatDB;Cellinker;DLRP\\_Cellinker;HPMR\\_Cellinker;ICELLNET;KEGG-MEDICUS                                                                                                                                                                                                 & Cellinker:2946959;Cellinker:9820540;ICELLNET:20959797;ICELLNET:24332029                                                                                                                                                                                                                                                                                                                                                                                                                                                                                                                &  4 &  4 &  4 & both & IL1RAP\\_IL1R1  & FALSE\\\\\n",
       "\t IL1RAP\\_IL1R1  & IL1RAP & interleukin 1 receptor accessory protein                   & IL1R1  & interleukin 1 receptor type 1                                            & IL1A\\_IL1R1\\_IL1RAP   & P01583 & COMPLEX:P14778\\_Q9NPH3 & 1 & 1 & ⋯ & 1 & 0 & CellChatDB;Cellinker;DLRP\\_Cellinker;HPMR\\_Cellinker;ICELLNET;KEGG-MEDICUS                                                                                                                                                                                                 & Cellinker:2946959;Cellinker:9820540;ICELLNET:20959797;ICELLNET:24332029                                                                                                                                                                                                                                                                                                                                                                                                                                                                                                                &  4 &  4 &  4 & both & IL1R1\\_IL1RAP  & FALSE\\\\\n",
       "\t TGFBR1\\_TGFBR2 & TGFBR1 & transforming growth factor beta receptor 1                 & TGFBR2 & transforming growth factor beta receptor 2                               & TGFB1\\_TGFBR1\\_TGFBR2 & P01137 & COMPLEX:P36897\\_P37173 & 1 & 1 & ⋯ & 1 & 0 & CellChatDB;CellPhoneDB;ICELLNET;KEGG-MEDICUS                                                                                                                                                                                                                             & ICELLNET:1333888;ICELLNET:7693660;ICELLNET:8242743                                                                                                                                                                                                                                                                                                                                                                                                                                                                                                                                     &  3 &  3 &  4 & both & TGFBR2\\_TGFBR1 & FALSE\\\\\n",
       "\t TGFBR2\\_TGFBR1 & TGFBR2 & transforming growth factor beta receptor 2                 & TGFBR1 & transforming growth factor beta receptor 1                               & TGFB1\\_TGFBR1\\_TGFBR2 & P01137 & COMPLEX:P36897\\_P37173 & 1 & 1 & ⋯ & 1 & 0 & CellChatDB;CellPhoneDB;ICELLNET;KEGG-MEDICUS                                                                                                                                                                                                                             & ICELLNET:1333888;ICELLNET:7693660;ICELLNET:8242743                                                                                                                                                                                                                                                                                                                                                                                                                                                                                                                                     &  3 &  3 &  4 & both & TGFBR1\\_TGFBR2 & FALSE\\\\\n",
       "\t EGFR\\_ERBB2    & EGFR   & epidermal growth factor receptor                           & ERBB2  & erb-b2 receptor tyrosine kinase 2                                        & EGF\\_EGFR\\_ERBB2      & P01133 & COMPLEX:P00533\\_P04626 & 1 & 1 & ⋯ & 1 & 0 & CellChatDB;Cellinker;DLRP\\_Cellinker;Guide2Pharma\\_Cellinker;HPMR\\_Cellinker;KEGG-MEDICUS                                                                                                                                                                                   & Cellinker:10788520;Cellinker:12093292;Cellinker:12297050;Cellinker:12620237;Cellinker:15620700;Cellinker:16274239;Cellinker:6289330                                                                                                                                                                                                                                                                                                                                                                                                                                                    &  7 &  7 &  3 & LR   & ERBB2\\_EGFR    & FALSE\\\\\n",
       "\t ERBB2\\_EGFR    & ERBB2  & erb-b2 receptor tyrosine kinase 2                          & EGFR   & epidermal growth factor receptor                                         & EGF\\_EGFR\\_ERBB2      & P01133 & COMPLEX:P00533\\_P04626 & 1 & 1 & ⋯ & 1 & 0 & CellChatDB;Cellinker;DLRP\\_Cellinker;Guide2Pharma\\_Cellinker;HPMR\\_Cellinker;KEGG-MEDICUS                                                                                                                                                                                   & Cellinker:10788520;Cellinker:12093292;Cellinker:12297050;Cellinker:12620237;Cellinker:15620700;Cellinker:16274239;Cellinker:6289330                                                                                                                                                                                                                                                                                                                                                                                                                                                    &  7 &  7 &  3 & LR   & EGFR\\_ERBB2    & FALSE\\\\\n",
       "\t NRP1\\_KDR      & NRP1   & neuropilin 1                                               & KDR    & kinase insert domain receptor                                            & NRP1\\_FLT1\\_KDR       & O14786 & COMPLEX:P17948\\_P35968 & 1 & 1 & ⋯ & 1 & 0 & CellChatDB-cofactors                                                                                                                                                                                                                                                     & NA                                                                                                                                                                                                                                                                                                                                                                                                                                                                                                                                                                                     &  0 &  0 &  1 & LR   & KDR\\_NRP1      & FALSE\\\\\n",
       "\t KDR\\_NRP1      & KDR    & kinase insert domain receptor                              & NRP1   & neuropilin 1                                                             & NRP1\\_FLT1\\_KDR       & O14786 & COMPLEX:P17948\\_P35968 & 1 & 1 & ⋯ & 1 & 0 & CellChatDB-cofactors                                                                                                                                                                                                                                                     & NA                                                                                                                                                                                                                                                                                                                                                                                                                                                                                                                                                                                     &  0 &  0 &  1 & LR   & NRP1\\_KDR      & FALSE\\\\\n",
       "\\end{tabular}\n"
      ],
      "text/markdown": [
       "\n",
       "A data.frame: 51 × 22\n",
       "\n",
       "| Pair.Name &lt;chr&gt; | Ligand &lt;chr&gt; | Ligand.Name &lt;chr&gt; | Receptor &lt;chr&gt; | Receptor.Name &lt;chr&gt; | complex_pair &lt;chr&gt; | source &lt;chr&gt; | target &lt;chr&gt; | is_directed &lt;dbl&gt; | is_stimulation &lt;dbl&gt; | ⋯ ⋯ | consensus_stimulation &lt;dbl&gt; | consensus_inhibition &lt;dbl&gt; | sources &lt;chr&gt; | references &lt;chr&gt; | curation_effort &lt;dbl&gt; | n_references &lt;dbl&gt; | n_resources &lt;int&gt; | annotation_strategy &lt;chr&gt; | dup &lt;chr&gt; | True_LR &lt;lgl&gt; |\n",
       "|---|---|---|---|---|---|---|---|---|---|---|---|---|---|---|---|---|---|---|---|---|\n",
       "| TIMD4_HAVCR1  | TIMD4  | T cell immunoglobulin and mucin domain containing 4        | HAVCR1 | hepatitis A virus cellular receptor 1                                    | NA                  | Q96H15 | Q96D42                | 1 | 1 | ⋯ | 1 | 0 | SPIKE;Wojtowicz2020;connectomeDB2020                                                                                                                                                                                                                                     | SPIKE:15793576;connectomeDB2020:28949386                                                                                                                                                                                                                                                                                                                                                                                                                                                                                                                                               |  3 |  2 |  3 | both | HAVCR1_TIMD4  | FALSE |\n",
       "| CD80_CD28     | CD80   | CD80 molecule                                              | CD28   | CD28 molecule                                                            | NA                  | P33681 | P10747                | 1 | 1 | ⋯ | 1 | 0 | BioGRID;CellChatDB;CellPhoneDB_Cellinker;Cellinker;DIP;HPRD;ICELLNET;KEGG-MEDICUS;LRdb;Lit-BM-17;NetPath;SPIKE;Wang;Wojtowicz2020;connectomeDB2020;iTALK                                                                                                                 | BioGRID:1847722;CellChatDB:23954143;Cellinker:21530327;Cellinker:23954143;DIP:1847722;DIP:2164219;DIP:7964482;HPRD:7545666;ICELLNET:7545666;LRdb:22437870;Lit-BM-17:1847722;Lit-BM-17:2164219;Lit-BM-17:21982860;Lit-BM-17:7545666;Lit-BM-17:7964482;NetPath:2164219;SPIKE:15610849;SPIKE:21487479;connectomeDB2020:7545666                                                                                                                                                                                                                                                            | 19 | 10 | 15 | both | CD28_CD80     | FALSE |\n",
       "| CD86_CD28     | CD86   | CD86 molecule                                              | CD28   | CD28 molecule                                                            | NA                  | P42081 | P10747                | 1 | 1 | ⋯ | 1 | 0 | Baccin2019;CellChatDB;CellPhoneDB_Cellinker;CellTalkDB;Cellinker;DIP;HPRD;ICELLNET;KEGG-MEDICUS;LRdb;SPIKE;Wang;Wojtowicz2020;connectomeDB2020;iTALK                                                                                                                     | CellChatDB:23954143;CellTalkDB:23954143;Cellinker:21530327;Cellinker:23954143;DIP:21931534;HPRD:11021528;HPRD:7513726;ICELLNET:18205792;LRdb:22437870;SPIKE:11021528;SPIKE:21487479;connectomeDB2020:23954143                                                                                                                                                                                                                                                                                                                                                                          | 12 |  8 | 14 | both | CD28_CD86     | FALSE |\n",
       "| PSEN1_NCSTN   | PSEN1  | presenilin 1                                               | NCSTN  | nicastrin                                                                | NA                  | P49768 | Q92542                | 1 | 1 | ⋯ | 1 | 0 | CellTalkDB;Cellinker;EMBRACE;Fantom5_LRdb;HPMR;HPMR_Cellinker;HPMR_LRdb;HPMR_talklr;HPRD;HPRD_LRdb;HPRD_talklr;IntAct;LRdb;Ramilowski2015;STRING_talklr;Wang;connectomeDB2020;iTALK;talklr                                                                               | CellTalkDB:10993067;Cellinker:10993067;Cellinker:12603837;HPMR:10993067;HPRD:10993067;HPRD:12603837;IntAct:18201567;LRdb:10993067;LRdb:13;connectomeDB2020:10993067;connectomeDB2020:12603837                                                                                                                                                                                                                                                                                                                                                                                          | 11 |  4 | 12 | both | NCSTN_PSEN1   | FALSE |\n",
       "| SELPLG_SELP   | SELPLG | selectin P ligand                                          | SELP   | selectin P                                                               | NA                  | Q14242 | P16109                | 1 | 1 | ⋯ | 1 | 0 | CellChatDB;CellPhoneDB_Cellinker;CellTalkDB;Cellinker;DIP;Fantom5_LRdb;Guide2Pharma;HPMR;HPMR_Cellinker;HPMR_LRdb;HPMR_talklr;HPRD;HPRD_LRdb;HPRD_talklr;InnateDB;IntAct;LRdb;Lit-BM-17;Ramilowski2015;SIGNOR;STRING_talklr;Wang;connectomeDB2020;iTALK;scConnect;talklr | CellChatDB:19118202;CellChatDB:9829984;CellTalkDB:12393589;Cellinker:10713099;Cellinker:19118202;Cellinker:9128259;Cellinker:9129046;Cellinker:9829984;DIP:19118202;Guide2Pharma:9829984;HPMR:9129046;HPRD:10713099;HPRD:17064811;HPRD:9128259;InnateDB:11081633;IntAct:11081633;IntAct:19118202;IntAct:26627825;LRdb:10713099;LRdb:17064811;LRdb:9128259;LRdb:9129046;Lit-BM-17:10713099;Lit-BM-17:11081633;Lit-BM-17:19118202;SIGNOR:23994464;SIGNOR:9129046;connectomeDB2020:10713099;connectomeDB2020:17064811;connectomeDB2020:9128259;connectomeDB2020:9129046;scConnect:9829984 | 32 | 10 | 18 | both | SELP_SELPLG   | FALSE |\n",
       "| RTN4_LINGO1   | RTN4   | reticulon 4                                                | LINGO1 | leucine rich repeat and Ig domain containing 1                           | NA                  | Q9NQC3 | Q96FE5                | 1 | 1 | ⋯ | 1 | 0 | Baccin2019;CellTalkDB;EMBRACE;Fantom5_LRdb;HPMR_LRdb;HPMR_talklr;LRdb;Ramilowski2015;Ramilowski2015_Baccin2019;SIGNOR;Wang;connectomeDB2020;iTALK;talklr                                                                                                                 | Baccin2019:15694322;CellTalkDB:15694322;LRdb:15694322;SIGNOR:15694321;connectomeDB2020:15694322                                                                                                                                                                                                                                                                                                                                                                                                                                                                                        |  5 |  2 | 10 | both | LINGO1_RTN4   | FALSE |\n",
       "| NTNG1_LRRC4C  | NTNG1  | netrin G1                                                  | LRRC4C | leucine rich repeat containing 4C                                        | NA                  | Q9Y2I2 | Q9HCJ2                | 1 | 1 | ⋯ | 1 | 0 | Baccin2019;BioGRID;CellTalkDB;EMBRACE;Fantom5_LRdb;HPMR;HPMR_LRdb;HPMR_talklr;HPRD;HPRD_LRdb;HPRD_talklr;IntAct;LRdb;Lit-BM-17;Ramilowski2015;Ramilowski2015_Baccin2019;SIGNOR;STRING_talklr;Wang;connectomeDB2020;iTALK;talklr                                          | Baccin2019:1459544314595440;BioGRID:21946559;CellTalkDB:14595443;HPMR:14595443;HPRD:14595443;IntAct:21946559;LRdb:14595443;Lit-BM-17:14595443;Lit-BM-17:21946559;SIGNOR:19467332;connectomeDB2020:14595443                                                                                                                                                                                                                                                                                                                                                                             | 11 |  4 | 15 | both | LRRC4C_NTNG1  | FALSE |\n",
       "| GNAI2_ADCY1   | GNAI2  | G protein subunit alpha i2                                 | ADCY1  | adenylate cyclase 1                                                      | NA                  | P04899 | Q08828                | 1 | 0 | ⋯ | 0 | 1 | Baccin2019;CellTalkDB;EMBRACE;Fantom5_LRdb;HPRD;HPRD_LRdb;HPRD_talklr;KEGG-MEDICUS;LRdb;Ramilowski2015;Ramilowski2015_Baccin2019;SIGNOR;STRING_talklr;Wang;connectomeDB2020;iTALK;talklr                                                                                 | Baccin2019:2121366;CellTalkDB:2121366;HPRD:2121366;LRdb:2121366;SIGNOR:19703466;SIGNOR:8327893;connectomeDB2020:2121366                                                                                                                                                                                                                                                                                                                                                                                                                                                                |  7 |  3 | 12 | both | ADCY1_GNAI2   | FALSE |\n",
       "| LRRC4B_PTPRF  | LRRC4B | leucine rich repeat containing 4B                          | PTPRF  | protein tyrosine phosphatase receptor type F                             | NA                  | Q9NT99 | P10586                | 1 | 1 | ⋯ | 1 | 0 | Baccin2019;CellChatDB;Cellinker;Wojtowicz2020;connectomeDB2020                                                                                                                                                                                                           | Cellinker:32589946;connectomeDB2020:19252495;connectomeDB2020:23345436                                                                                                                                                                                                                                                                                                                                                                                                                                                                                                                 |  3 |  3 |  5 | both | PTPRF_LRRC4B  | FALSE |\n",
       "| PECAM1_CD38   | PECAM1 | platelet and endothelial cell adhesion molecule 1          | CD38   | CD38 molecule                                                            | NA                  | P16284 | P28907                | 1 | 1 | ⋯ | 1 | 0 | Baccin2019;CellPhoneDB;CellPhoneDB_Cellinker;Cellinker;HPRD;LRdb;SIGNOR;Wang;connectomeDB2020                                                                                                                                                                            | Baccin2019:23308177;Cellinker:9551996;HPRD:9551996;LRdb:9551996;SIGNOR:18626062;connectomeDB2020:26407101;connectomeDB2020:9551996                                                                                                                                                                                                                                                                                                                                                                                                                                                     |  7 |  4 |  8 | both | CD38_PECAM1   | FALSE |\n",
       "| ADAM17_NOTCH1 | ADAM17 | ADAM metallopeptidase domain 17                            | NOTCH1 | notch receptor 1                                                         | NA                  | P78536 | P46531                | 1 | 1 | ⋯ | 1 | 0 | ACSN;CellCall;CellTalkDB;Cellinker;EMBRACE;Fantom5_LRdb;HPRD;HPRD-phos;HPRD_LRdb;HPRD_talklr;LRdb;Ramilowski2015;SIGNOR;STRING_talklr;Wang;connectomeDB2020;iTALK;talklr                                                                                                 | ACSN:19601831;ACSN:19704010;ACSN:19726682;CellTalkDB:10882063;Cellinker:10882063;Cellinker:9620803;HPRD-phos:10882063;HPRD-phos:9620803;HPRD:10882063;HPRD:9620803;LRdb:10882063;LRdb:96;SIGNOR:10882063;connectomeDB2020:10882063;connectomeDB2020:9620803                                                                                                                                                                                                                                                                                                                            | 15 |  6 | 14 | both | NOTCH1_ADAM17 | FALSE |\n",
       "| ADAM12_SDC4   | ADAM12 | ADAM metallopeptidase domain 12                            | SDC4   | syndecan 4                                                               | NA                  | O43184 | P31431                | 1 | 1 | ⋯ | 1 | 0 | Adhesome;CellTalkDB;EMBRACE;Fantom5_LRdb;HPMR_LRdb;HPMR_talklr;LRdb;Ramilowski2015;SIGNOR;STRING_talklr;Wang;connectomeDB2020;iTALK;talklr                                                                                                                               | Adhesome:12509413;CellTalkDB:12509413;LRdb:12509413;SIGNOR:12509413;connectomeDB2020:12509413                                                                                                                                                                                                                                                                                                                                                                                                                                                                                          |  5 |  1 | 10 | both | SDC4_ADAM12   | FALSE |\n",
       "| PLAU_PLAUR    | PLAU   | plasminogen activator, urokinase                           | PLAUR  | plasminogen activator, urokinase receptor                                | NA                  | P00749 | Q03405                | 1 | 1 | ⋯ | 1 | 0 | Baccin2019;BioGRID;CellTalkDB;Cellinker;DIP;EMBRACE;Fantom5_LRdb;HPMR;HPMR_Cellinker;HPMR_LRdb;HPMR_talklr;HPRD;HPRD_LRdb;HPRD_talklr;ICELLNET;Kirouac2010;LRdb;Ramilowski2015;Ramilowski2015_Baccin2019;SIGNOR;STRING_talklr;Wang;connectomeDB2020;iTALK;talklr         | Baccin2019:11501527;Baccin2019:16456079;Baccin2019:3023326;Baccin2019:3031025;BioGRID:11501527;BioGRID:16879932;BioGRID:19017363;CellTalkDB:16456079;Cellinker:11501527;Cellinker:16456079;Cellinker:3023326;Cellinker:3031025;DIP:18376415;HPMR:16456079;HPRD:11501527;HPRD:3023326;HPRD:3031025;ICELLNET:11501527;LRdb:11501527;LRdb:16456079;LRdb:3023326;LRdb:3031025;SIGNOR:16456079;connectomeDB2020:11501527;connectomeDB2020:16456079;connectomeDB2020:3023326;connectomeDB2020:3031025                                                                                        | 27 |  7 | 17 | both | PLAUR_PLAU    | FALSE |\n",
       "| CD55_ADGRE5   | CD55   | CD55 molecule (Cromer blood group)                         | ADGRE5 | adhesion G protein-coupled receptor E5                                   | NA                  | P08174 | P48960                | 1 | 1 | ⋯ | 1 | 0 | Baccin2019;CellPhoneDB;CellPhoneDB_Cellinker;CellTalkDB;Cellinker;Fantom5_LRdb;HPMR;HPMR_LRdb;HPMR_talklr;HPRD;HPRD_LRdb;HPRD_talklr;LRdb;Ramilowski2015;SIGNOR;STRING_talklr;Wang;connectomeDB2020;iTALK;talklr                                                         | Baccin2019:23447688;CellTalkDB:12417446;Cellinker:10540231;Cellinker:12417446;HPMR:12417446;HPRD:10540231;LRdb:11;LRdb:12417446;SIGNOR:12417446;connectomeDB2020:10540231;connectomeDB2020:12417446                                                                                                                                                                                                                                                                                                                                                                                    | 11 |  4 | 13 | both | ADGRE5_CD55   | FALSE |\n",
       "| PVR_CD226     | PVR    | PVR cell adhesion molecule                                 | CD226  | CD226 molecule                                                           | NA                  | P15151 | Q15762                | 1 | 1 | ⋯ | 1 | 0 | CellChatDB;CellPhoneDB;HPRD;ICELLNET;LRdb;Lit-BM-17;SIGNOR;UniProt_LRdb;Wang;Wojtowicz2020;connectomeDB2020                                                                                                                                                              | CellPhoneDB:15607800;CellPhoneDB:24440149;HPRD:12913096;ICELLNET:15034010;Lit-BM-17:12913096;Lit-BM-17:21982860;SIGNOR:30591568;connectomeDB2020:15607800                                                                                                                                                                                                                                                                                                                                                                                                                              |  8 |  6 | 10 | both | CD226_PVR     | FALSE |\n",
       "| OMG_LINGO1    | OMG    | oligodendrocyte myelin glycoprotein                        | LINGO1 | leucine rich repeat and Ig domain containing 1                           | NA                  | P23515 | Q96FE5                | 1 | 1 | ⋯ | 1 | 0 | Baccin2019;CellTalkDB;Cellinker;EMBRACE;Fantom5_LRdb;HPMR;HPMR_Cellinker;HPMR_LRdb;HPMR_talklr;LRdb;Ramilowski2015;Ramilowski2015_Baccin2019;SIGNOR;Wang;connectomeDB2020;iTALK;talklr                                                                                   | Baccin2019:14966521;CellTalkDB:14966521;Cellinker:14966521;HPMR:14966521;LRdb:14966521;SIGNOR:15694321;connectomeDB2020:14966521                                                                                                                                                                                                                                                                                                                                                                                                                                                       |  7 |  2 | 12 | both | LINGO1_OMG    | FALSE |\n",
       "| SELPLG_SELE   | SELPLG | selectin P ligand                                          | SELE   | selectin E                                                               | NA                  | Q14242 | P16581                | 1 | 1 | ⋯ | 1 | 0 | CellChatDB;CellPhoneDB_Cellinker;CellTalkDB;Cellinker;Fantom5_LRdb;HPMR_Cellinker;HPMR_LRdb;HPMR_talklr;HPRD;HPRD_LRdb;HPRD_talklr;LRdb;Ramilowski2015;SIGNOR;STRING_talklr;Wang;connectomeDB2020;iTALK;talklr                                                           | CellChatDB:26124272;CellTalkDB:11402070;Cellinker:11402070;Cellinker:26124272;Cellinker:8621728;Cellinker:9128259;HPRD:8621728;HPRD:9128259;LRdb:11402070;LRdb:8621728;LRdb:9128259;SIGNOR:9024699;connectomeDB2020:11402070;connectomeDB2020:8621728;connectomeDB2020:9128259                                                                                                                                                                                                                                                                                                         | 15 |  5 | 11 | both | SELE_SELPLG   | FALSE |\n",
       "| ADAM12_ITGB1  | ADAM12 | ADAM metallopeptidase domain 12                            | ITGB1  | integrin subunit beta 1                                                  | NA                  | O43184 | P05556                | 1 | 1 | ⋯ | 1 | 0 | Adhesome;CellTalkDB;EMBRACE;Fantom5_LRdb;HPMR_LRdb;HPMR_talklr;LRdb;Ramilowski2015;STRING_talklr;Wang;connectomeDB2020;iTALK;talklr                                                                                                                                      | Adhesome:15242759;CellTalkDB:10944520;LRdb:10944520;connectomeDB2020:10944520                                                                                                                                                                                                                                                                                                                                                                                                                                                                                                          |  4 |  2 |  9 | both | ITGB1_ADAM12  | FALSE |\n",
       "| CD80_CTLA4    | CD80   | CD80 molecule                                              | CTLA4  | cytotoxic T-lymphocyte associated protein 4                              | NA                  | P33681 | P16410                | 1 | 1 | ⋯ | 1 | 0 | BioGRID;CellChatDB;CellPhoneDB_Cellinker;Cellinker;HPRD;ICELLNET;InnateDB;IntAct;LRdb;Lit-BM-17;NetPath;Wang;Wojtowicz2020;connectomeDB2020;iTALK                                                                                                                        | BioGRID:11279502;CellChatDB:23954143;Cellinker:21530327;Cellinker:23954143;Cellinker:31757674;HPRD:7545666;ICELLNET:10583602;InnateDB:21422170;IntAct:11279502;IntAct:20587542;IntAct:21982860;LRdb:22437870;Lit-BM-17:11279502;Lit-BM-17:21982860;Lit-BM-17:7545666;NetPath:11279501;connectomeDB2020:17953528;connectomeDB2020:23954143                                                                                                                                                                                                                                              | 18 | 12 | 14 | both | CTLA4_CD80    | FALSE |\n",
       "| CD86_CTLA4    | CD86   | CD86 molecule                                              | CTLA4  | cytotoxic T-lymphocyte associated protein 4                              | NA                  | P42081 | P16410                | 1 | 1 | ⋯ | 1 | 0 | BioGRID;CellChatDB;CellPhoneDB_Cellinker;CellTalkDB;Cellinker;HPRD;ICELLNET;IntAct;LRdb;Lit-BM-17;Wang;Wojtowicz2020;connectomeDB2020;iTALK                                                                                                                              | BioGRID:11279501;CellChatDB:23954143;CellTalkDB:23954143;Cellinker:21530327;Cellinker:23223433;Cellinker:23954143;HPRD:11021528;HPRD:11162656;HPRD:11279501;HPRD:12071705;HPRD:12582153;HPRD:12606712;HPRD:7513726;HPRD:7694153;ICELLNET:10583602;ICELLNET:11976720;IntAct:11279501;IntAct:21982860;IntAct:25241761;LRdb:22437870;Lit-BM-17:11279501;Lit-BM-17:21982860;Lit-BM-17:25241761;connectomeDB2020:23954143                                                                                                                                                                   | 24 | 16 | 13 | both | CTLA4_CD86    | FALSE |\n",
       "| CDH1_EGFR     | CDH1   | cadherin 1                                                 | EGFR   | epidermal growth factor receptor                                         | NA                  | P12830 | P00533                | 1 | 1 | ⋯ | 1 | 0 | Baccin2019;BioGRID;CellTalkDB;Cellinker;EMBRACE;Fantom5_LRdb;HPRD;HPRD_LRdb;HPRD_talklr;InnateDB;IntAct;LRdb;Lit-BM-17;Ramilowski2015;Ramilowski2015_Baccin2019;STRING_talklr;Wang;connectomeDB2020;iTALK;talklr                                                         | Baccin2019:10969083;BioGRID:10969083;CellTalkDB:10969083;Cellinker:10969083;HPRD:10969083;InnateDB:17548604;IntAct:24658140;IntAct:25241761;IntAct:31980649;LRdb:10969083;Lit-BM-17:24189400;Lit-BM-17:24658140;Lit-BM-17:25241761;Lit-BM-17:25402006;Lit-BM-17:25468996;connectomeDB2020:10969083                                                                                                                                                                                                                                                                                     | 16 |  8 | 15 | both | EGFR_CDH1     | FALSE |\n",
       "| CDH1_IGF1R    | CDH1   | cadherin 1                                                 | IGF1R  | insulin like growth factor 1 receptor                                    | NA                  | P12830 | P08069                | 1 | 0 | ⋯ | 0 | 1 | Baccin2019;CellTalkDB;EMBRACE;Fantom5_LRdb;LRdb;Ramilowski2015;Ramilowski2015_Baccin2019;STRING_talklr;Wang;connectomeDB2020;iTALK;talklr                                                                                                                                | CellTalkDB:22479204;LRdb:22479204;Ramilowski2015:22479204;connectomeDB2020:22479204;talklr:22479204                                                                                                                                                                                                                                                                                                                                                                                                                                                                                    |  5 |  1 |  9 | both | IGF1R_CDH1    | FALSE |\n",
       "| ADAM2_ITGB1   | ADAM2  | ADAM metallopeptidase domain 2                             | ITGB1  | integrin subunit beta 1                                                  | NA                  | Q99965 | P05556                | 1 | 1 | ⋯ | 1 | 0 | CellTalkDB;Fantom5_LRdb;HPMR_LRdb;HPMR_talklr;LRdb;Ramilowski2015;STRING_talklr;Wang;connectomeDB2020;iTALK;talklr                                                                                                                                                       | CellTalkDB:9889149;LRdb:9889149;connectomeDB2020:9889149                                                                                                                                                                                                                                                                                                                                                                                                                                                                                                                               |  3 |  1 |  7 | both | ITGB1_ADAM2   | FALSE |\n",
       "| ADAM2_ITGA6   | ADAM2  | ADAM metallopeptidase domain 2                             | ITGA6  | integrin subunit alpha 6                                                 | NA                  | Q99965 | P23229                | 1 | 1 | ⋯ | 1 | 0 | CellTalkDB;Fantom5_LRdb;HPMR_LRdb;HPMR_talklr;LRdb;Ramilowski2015;Wang;connectomeDB2020;iTALK;talklr                                                                                                                                                                     | CellTalkDB:9889149;LRdb:9889149;connectomeDB2020:9889149                                                                                                                                                                                                                                                                                                                                                                                                                                                                                                                               |  3 |  1 |  7 | both | ITGA6_ADAM2   | FALSE |\n",
       "| HAS2_HMMR     | HAS2   | hyaluronan synthase 2                                      | HMMR   | hyaluronan mediated motility receptor                                    | NA                  | Q92819 | O75330                | 1 | 1 | ⋯ | 1 | 0 | Baccin2019;CellTalkDB;Cellinker;EMBRACE;Fantom5_LRdb;HPMR;HPMR_Cellinker;HPMR_LRdb;HPMR_talklr;LRdb;Ramilowski2015;Ramilowski2015_Baccin2019;Wang;connectomeDB2020;iTALK;talklr                                                                                          | Baccin2019:1376732;CellTalkDB:1376732;Cellinker:1376732;HPMR:1376732;LRdb:1376732;connectomeDB2020:1376732                                                                                                                                                                                                                                                                                                                                                                                                                                                                             |  6 |  1 | 11 | both | HMMR_HAS2     | FALSE |\n",
       "| ADAM17_ERBB4  | ADAM17 | ADAM metallopeptidase domain 17                            | ERBB4  | erb-b2 receptor tyrosine kinase 4                                        | NA                  | P78536 | Q15303                | 1 | 1 | ⋯ | 1 | 0 | Baccin2019;CellTalkDB;EMBRACE;Fantom5_LRdb;HPRD;HPRD_LRdb;HPRD_talklr;LRdb;NCI-PID_ProtMapper;ProtMapper;Ramilowski2015;Ramilowski2015_Baccin2019;Reactome_ProtMapper;Wang;iTALK;talklr                                                                                  | Baccin2019:15534001;CellTalkDB:26554003;HPRD:15534001;LRdb:15534001;ProtMapper:10744726;ProtMapper:15746097;ProtMapper:17486069;ProtMapper:9685416                                                                                                                                                                                                                                                                                                                                                                                                                                     |  8 |  6 | 10 | both | ERBB4_ADAM17  | FALSE |\n",
       "| RTN4_RTN4R    | RTN4   | reticulon 4                                                | RTN4R  | reticulon 4 receptor                                                     | NA                  | Q9NQC3 | Q9BZR6                | 1 | 1 | ⋯ | 1 | 0 | Baccin2019;CellTalkDB;EMBRACE;Fantom5_LRdb;HPMR;HPMR_LRdb;HPMR_talklr;HPRD;HPRD_LRdb;HPRD_talklr;LRdb;Ramilowski2015;Ramilowski2015_Baccin2019;STRING_talklr;Wang;connectomeDB2020;iTALK;talklr                                                                          | Baccin2019:11201742;Baccin2019:15694322;CellTalkDB:11201742;HPMR:11201742;HPRD:11201742;LRdb:11201742;LRdb:16;connectomeDB2020:11201742;connectomeDB2020:15694322                                                                                                                                                                                                                                                                                                                                                                                                                      |  9 |  3 | 11 | both | RTN4R_RTN4    | FALSE |\n",
       "| PROC_PROCR    | PROC   | protein C, inactivator of coagulation factors Va and VIIIa | PROCR  | protein C receptor                                                       | NA                  | P04070 | Q9UNN8                | 1 | 1 | ⋯ | 1 | 0 | Baccin2019;CellTalkDB;Cellinker;Fantom5_LRdb;HPMR;HPMR_Cellinker;HPMR_LRdb;HPMR_talklr;HPRD;HPRD_LRdb;HPRD_talklr;LRdb;Ramilowski2015;Ramilowski2015_Baccin2019;STRING_talklr;Wang;connectomeDB2020;iTALK;talklr                                                         | Baccin2019:10681521;Baccin2019:11099506;Baccin2019:7929370;CellTalkDB:11099506;Cellinker:10681521;Cellinker:11099506;Cellinker:7929370;HPMR:7929370;HPRD:10681521;HPRD:11099506;LRdb:10681521;LRdb:11099506;LRdb:7929370;connectomeDB2020:10681521;connectomeDB2020:11099506;connectomeDB2020:7929370                                                                                                                                                                                                                                                                                  | 16 |  3 | 11 | both | PROCR_PROC    | FALSE |\n",
       "| ADAM9_ITGAV   | ADAM9  | ADAM metallopeptidase domain 9                             | ITGAV  | integrin subunit alpha V                                                 | NA                  | Q13443 | P06756                | 1 | 1 | ⋯ | 1 | 0 | CellTalkDB;EMBRACE;Fantom5_LRdb;HPMR;HPMR_LRdb;HPMR_talklr;HPRD;HPRD_LRdb;HPRD_talklr;LRdb;Ramilowski2015;Wang;connectomeDB2020;iTALK;talklr                                                                                                                             | CellTalkDB:11162558;HPMR:11162558;HPRD:15361064;LRdb:11162558;LRdb:15;connectomeDB2020:11162558;connectomeDB2020:15361064                                                                                                                                                                                                                                                                                                                                                                                                                                                              |  7 |  3 | 10 | both | ITGAV_ADAM9   | FALSE |\n",
       "| ADAM15_ITGA9  | ADAM15 | ADAM metallopeptidase domain 15                            | ITGA9  | integrin subunit alpha 9                                                 | NA                  | Q13444 | Q13797                | 1 | 1 | ⋯ | 1 | 0 | CellTalkDB;EMBRACE;Fantom5_LRdb;HPMR_LRdb;HPMR_talklr;LRdb;Ramilowski2015;STRING_talklr;Wang;connectomeDB2020;iTALK;talklr                                                                                                                                               | CellTalkDB:10944520;LRdb:10944520;connectomeDB2020:10944520                                                                                                                                                                                                                                                                                                                                                                                                                                                                                                                            |  3 |  1 |  8 | both | ITGA9_ADAM15  | FALSE |\n",
       "| ADAM15_ITGA5  | ADAM15 | ADAM metallopeptidase domain 15                            | ITGA5  | integrin subunit alpha 5                                                 | NA                  | Q13444 | P08648                | 1 | 1 | ⋯ | 1 | 0 | CellTalkDB;EMBRACE;Fantom5_LRdb;HPMR;HPMR_LRdb;HPMR_talklr;LRdb;Ramilowski2015;Wang;connectomeDB2020;iTALK;talklr                                                                                                                                                        | CellTalkDB:9914169;HPMR:9516430;HPMR:9914169;LRdb:952;LRdb:9914169;connectomeDB2020:9516430;connectomeDB2020:9914169                                                                                                                                                                                                                                                                                                                                                                                                                                                                   |  7 |  3 |  9 | both | ITGA5_ADAM15  | FALSE |\n",
       "| ADAM17_ITGA5  | ADAM17 | ADAM metallopeptidase domain 17                            | ITGA5  | integrin subunit alpha 5                                                 | NA                  | P78536 | P08648                | 1 | 1 | ⋯ | 1 | 0 | CellTalkDB;EMBRACE;Fantom5_LRdb;HPMR_LRdb;HPMR_talklr;LRdb;Ramilowski2015;Wang;connectomeDB2020;iTALK;talklr                                                                                                                                                             | CellTalkDB:14970227;LRdb:14970227;connectomeDB2020:14970227                                                                                                                                                                                                                                                                                                                                                                                                                                                                                                                            |  3 |  1 |  8 | both | ITGA5_ADAM17  | FALSE |\n",
       "| ADAM9_ITGB5   | ADAM9  | ADAM metallopeptidase domain 9                             | ITGB5  | integrin subunit beta 5                                                  | NA                  | Q13443 | P18084                | 1 | 1 | ⋯ | 1 | 0 | CellTalkDB;EMBRACE;Fantom5_LRdb;HPMR;HPMR_LRdb;HPMR_talklr;LRdb;Ramilowski2015;Wang;connectomeDB2020;iTALK;talklr                                                                                                                                                        | CellTalkDB:11162558;HPMR:11162558;LRdb:11162558;connectomeDB2020:11162558                                                                                                                                                                                                                                                                                                                                                                                                                                                                                                              |  4 |  1 |  9 | both | ITGB5_ADAM9   | FALSE |\n",
       "| ADAM9_ITGB1   | ADAM9  | ADAM metallopeptidase domain 9                             | ITGB1  | integrin subunit beta 1                                                  | NA                  | Q13443 | P05556                | 1 | 1 | ⋯ | 1 | 0 | CellTalkDB;EMBRACE;Fantom5_LRdb;HPMR_LRdb;HPMR_talklr;LRdb;Ramilowski2015;Wang;connectomeDB2020;iTALK;talklr                                                                                                                                                             | CellTalkDB:10825303;LRdb:10825303;connectomeDB2020:10825303                                                                                                                                                                                                                                                                                                                                                                                                                                                                                                                            |  3 |  1 |  8 | both | ITGB1_ADAM9   | FALSE |\n",
       "| ADAM9_ITGA6   | ADAM9  | ADAM metallopeptidase domain 9                             | ITGA6  | integrin subunit alpha 6                                                 | NA                  | Q13443 | P23229                | 1 | 1 | ⋯ | 1 | 0 | CellTalkDB;EMBRACE;Fantom5_LRdb;HPMR_LRdb;HPMR_talklr;HPRD;HPRD_LRdb;HPRD_talklr;LRdb;Ramilowski2015;Wang;connectomeDB2020;iTALK;talklr                                                                                                                                  | CellTalkDB:10825303;HPRD:15361064;LRdb:10825303;LRdb:15;connectomeDB2020:10825303;connectomeDB2020:15361064                                                                                                                                                                                                                                                                                                                                                                                                                                                                            |  6 |  3 |  9 | both | ITGA6_ADAM9   | FALSE |\n",
       "| NCAM1_FGFR1   | NCAM1  | neural cell adhesion molecule 1                            | FGFR1  | fibroblast growth factor receptor 1                                      | NA                  | P13591 | P11362                | 1 | 1 | ⋯ | 1 | 0 | Baccin2019;BioGRID;CellChatDB;CellPhoneDB;CellPhoneDB_Cellinker;CellTalkDB;Cellinker;EMBRACE;Fantom5_LRdb;HPRD;HPRD_LRdb;HPRD_talklr;LRdb;Ramilowski2015;Ramilowski2015_Baccin2019;STRING_talklr;Wang;connectomeDB2020;iTALK;talklr                                      | Baccin2019:12121226;BioGRID:12121226;BioGRID:12791257;CellChatDB:12791257;CellTalkDB:12121226;Cellinker:12121226;Cellinker:12791257;HPRD:12121226;LRdb:12121226;connectomeDB2020:12121226                                                                                                                                                                                                                                                                                                                                                                                              | 10 |  2 | 14 | both | FGFR1_NCAM1   | FALSE |\n",
       "| NCAM1_ROBO1   | NCAM1  | neural cell adhesion molecule 1                            | ROBO1  | roundabout guidance receptor 1                                           | NA                  | P13591 | Q9Y6N7                | 1 | 1 | ⋯ | 1 | 0 | Baccin2019;CellTalkDB;Cellinker;EMBRACE;Fantom5_LRdb;HPMR;HPMR_Cellinker;HPMR_LRdb;HPMR_talklr;LRdb;Ramilowski2015;Ramilowski2015_Baccin2019;Wang;connectomeDB2020;iTALK;talklr                                                                                          | Baccin2019:16226035;CellTalkDB:16226035;Cellinker:16226035;HPMR:16226035;LRdb:16226035;connectomeDB2020:16226035                                                                                                                                                                                                                                                                                                                                                                                                                                                                       |  6 |  1 | 11 | both | ROBO1_NCAM1   | FALSE |\n",
       "| VSIR_IGSF11   | VSIR   | V-set immunoregulatory receptor                            | IGSF11 | immunoglobulin superfamily member 11                                     | NA                  | Q9H7M9 | Q5DX21                | 1 | 1 | ⋯ | 1 | 0 | CellChatDB;Cellinker                                                                                                                                                                                                                                                     | Cellinker:32589946                                                                                                                                                                                                                                                                                                                                                                                                                                                                                                                                                                     |  1 |  1 |  2 | LR   | IGSF11_VSIR   | FALSE |\n",
       "| ADAM23_ITGA5  | ADAM23 | ADAM metallopeptidase domain 23                            | ITGA5  | integrin subunit alpha 5                                                 | NA                  | O75077 | P08648                | 1 | 1 | ⋯ | 1 | 0 | EMBRACE;Fantom5_LRdb;HPMR_LRdb;HPMR_talklr;LRdb;Ramilowski2015;Wang;connectomeDB2020;iTALK;talklr                                                                                                                                                                        | LRdb:10749942;connectomeDB2020:10749942                                                                                                                                                                                                                                                                                                                                                                                                                                                                                                                                                |  2 |  1 |  7 | both | ITGA5_ADAM23  | FALSE |\n",
       "| ADAM23_ITGB3  | ADAM23 | ADAM metallopeptidase domain 23                            | ITGB3  | integrin subunit beta 3                                                  | NA                  | O75077 | P05106                | 1 | 1 | ⋯ | 1 | 0 | EMBRACE;Fantom5_LRdb;HPMR_LRdb;HPMR_talklr;LRdb;Ramilowski2015;Wang;connectomeDB2020;iTALK;talklr                                                                                                                                                                        | LRdb:10749942;connectomeDB2020:10749942                                                                                                                                                                                                                                                                                                                                                                                                                                                                                                                                                |  2 |  1 |  7 | both | ITGB3_ADAM23  | FALSE |\n",
       "| NCAM1_ROBO3   | NCAM1  | neural cell adhesion molecule 1                            | ROBO3  | roundabout guidance receptor 3                                           | NA                  | P13591 | Q96MS0                | 1 | 1 | ⋯ | 1 | 0 | Baccin2019;Cellinker;EMBRACE;Fantom5_LRdb;HPMR;HPMR_Cellinker;HPMR_LRdb;HPMR_talklr;LRdb;Ramilowski2015;Ramilowski2015_Baccin2019;Wang;connectomeDB2020;iTALK;talklr                                                                                                     | Baccin2019:16226035;Cellinker:16226035;HPMR:16226035;LRdb:16226035;connectomeDB2020:16226035                                                                                                                                                                                                                                                                                                                                                                                                                                                                                           |  5 |  1 | 10 | both | ROBO3_NCAM1   | FALSE |\n",
       "| PTDSS1_JMJD6  | PTDSS1 | phosphatidylserine synthase 1                              | JMJD6  | jumonji domain containing 6, arginine demethylase and lysine hydroxylase | NA                  | P48651 | Q6NYC1                | 1 | 1 | ⋯ | 1 | 0 | Baccin2019;EMBRACE;Fantom5_LRdb;HPMR;HPMR_LRdb;HPMR_talklr;LRdb;Ramilowski2015;Ramilowski2015_Baccin2019;Wang;connectomeDB2020;iTALK;talklr                                                                                                                              | Baccin2019:10811223;HPMR:10811223;LRdb:10811223;connectomeDB2020:10811223                                                                                                                                                                                                                                                                                                                                                                                                                                                                                                              |  4 |  1 |  9 | both | JMJD6_PTDSS1  | FALSE |\n",
       "| PTDSS1_SCARB1 | PTDSS1 | phosphatidylserine synthase 1                              | SCARB1 | scavenger receptor class B member 1                                      | NA                  | P48651 | Q8WTV0                | 1 | 1 | ⋯ | 1 | 0 | Baccin2019;EMBRACE;Fantom5_LRdb;HPMR;HPMR_LRdb;HPMR_talklr;LRdb;Ramilowski2015;Ramilowski2015_Baccin2019;Wang;connectomeDB2020;iTALK;talklr                                                                                                                              | Baccin2019:8999945;HPMR:12016218;HPMR:8999945;LRdb:8999945;connectomeDB2020:8999945                                                                                                                                                                                                                                                                                                                                                                                                                                                                                                    |  5 |  2 |  9 | both | SCARB1_PTDSS1 | FALSE |\n",
       "| IL1R1_IL1RAP  | IL1R1  | interleukin 1 receptor type 1                              | IL1RAP | interleukin 1 receptor accessory protein                                 | IL1A_IL1R1_IL1RAP   | P01583 | COMPLEX:P14778_Q9NPH3 | 1 | 1 | ⋯ | 1 | 0 | CellChatDB;Cellinker;DLRP_Cellinker;HPMR_Cellinker;ICELLNET;KEGG-MEDICUS                                                                                                                                                                                                 | Cellinker:2946959;Cellinker:9820540;ICELLNET:20959797;ICELLNET:24332029                                                                                                                                                                                                                                                                                                                                                                                                                                                                                                                |  4 |  4 |  4 | both | IL1RAP_IL1R1  | FALSE |\n",
       "| IL1RAP_IL1R1  | IL1RAP | interleukin 1 receptor accessory protein                   | IL1R1  | interleukin 1 receptor type 1                                            | IL1A_IL1R1_IL1RAP   | P01583 | COMPLEX:P14778_Q9NPH3 | 1 | 1 | ⋯ | 1 | 0 | CellChatDB;Cellinker;DLRP_Cellinker;HPMR_Cellinker;ICELLNET;KEGG-MEDICUS                                                                                                                                                                                                 | Cellinker:2946959;Cellinker:9820540;ICELLNET:20959797;ICELLNET:24332029                                                                                                                                                                                                                                                                                                                                                                                                                                                                                                                |  4 |  4 |  4 | both | IL1R1_IL1RAP  | FALSE |\n",
       "| TGFBR1_TGFBR2 | TGFBR1 | transforming growth factor beta receptor 1                 | TGFBR2 | transforming growth factor beta receptor 2                               | TGFB1_TGFBR1_TGFBR2 | P01137 | COMPLEX:P36897_P37173 | 1 | 1 | ⋯ | 1 | 0 | CellChatDB;CellPhoneDB;ICELLNET;KEGG-MEDICUS                                                                                                                                                                                                                             | ICELLNET:1333888;ICELLNET:7693660;ICELLNET:8242743                                                                                                                                                                                                                                                                                                                                                                                                                                                                                                                                     |  3 |  3 |  4 | both | TGFBR2_TGFBR1 | FALSE |\n",
       "| TGFBR2_TGFBR1 | TGFBR2 | transforming growth factor beta receptor 2                 | TGFBR1 | transforming growth factor beta receptor 1                               | TGFB1_TGFBR1_TGFBR2 | P01137 | COMPLEX:P36897_P37173 | 1 | 1 | ⋯ | 1 | 0 | CellChatDB;CellPhoneDB;ICELLNET;KEGG-MEDICUS                                                                                                                                                                                                                             | ICELLNET:1333888;ICELLNET:7693660;ICELLNET:8242743                                                                                                                                                                                                                                                                                                                                                                                                                                                                                                                                     |  3 |  3 |  4 | both | TGFBR1_TGFBR2 | FALSE |\n",
       "| EGFR_ERBB2    | EGFR   | epidermal growth factor receptor                           | ERBB2  | erb-b2 receptor tyrosine kinase 2                                        | EGF_EGFR_ERBB2      | P01133 | COMPLEX:P00533_P04626 | 1 | 1 | ⋯ | 1 | 0 | CellChatDB;Cellinker;DLRP_Cellinker;Guide2Pharma_Cellinker;HPMR_Cellinker;KEGG-MEDICUS                                                                                                                                                                                   | Cellinker:10788520;Cellinker:12093292;Cellinker:12297050;Cellinker:12620237;Cellinker:15620700;Cellinker:16274239;Cellinker:6289330                                                                                                                                                                                                                                                                                                                                                                                                                                                    |  7 |  7 |  3 | LR   | ERBB2_EGFR    | FALSE |\n",
       "| ERBB2_EGFR    | ERBB2  | erb-b2 receptor tyrosine kinase 2                          | EGFR   | epidermal growth factor receptor                                         | EGF_EGFR_ERBB2      | P01133 | COMPLEX:P00533_P04626 | 1 | 1 | ⋯ | 1 | 0 | CellChatDB;Cellinker;DLRP_Cellinker;Guide2Pharma_Cellinker;HPMR_Cellinker;KEGG-MEDICUS                                                                                                                                                                                   | Cellinker:10788520;Cellinker:12093292;Cellinker:12297050;Cellinker:12620237;Cellinker:15620700;Cellinker:16274239;Cellinker:6289330                                                                                                                                                                                                                                                                                                                                                                                                                                                    |  7 |  7 |  3 | LR   | EGFR_ERBB2    | FALSE |\n",
       "| NRP1_KDR      | NRP1   | neuropilin 1                                               | KDR    | kinase insert domain receptor                                            | NRP1_FLT1_KDR       | O14786 | COMPLEX:P17948_P35968 | 1 | 1 | ⋯ | 1 | 0 | CellChatDB-cofactors                                                                                                                                                                                                                                                     | NA                                                                                                                                                                                                                                                                                                                                                                                                                                                                                                                                                                                     |  0 |  0 |  1 | LR   | KDR_NRP1      | FALSE |\n",
       "| KDR_NRP1      | KDR    | kinase insert domain receptor                              | NRP1   | neuropilin 1                                                             | NRP1_FLT1_KDR       | O14786 | COMPLEX:P17948_P35968 | 1 | 1 | ⋯ | 1 | 0 | CellChatDB-cofactors                                                                                                                                                                                                                                                     | NA                                                                                                                                                                                                                                                                                                                                                                                                                                                                                                                                                                                     |  0 |  0 |  1 | LR   | NRP1_KDR      | FALSE |\n",
       "\n"
      ],
      "text/plain": [
       "   Pair.Name     Ligand\n",
       "1  TIMD4_HAVCR1  TIMD4 \n",
       "2  CD80_CD28     CD80  \n",
       "3  CD86_CD28     CD86  \n",
       "4  PSEN1_NCSTN   PSEN1 \n",
       "5  SELPLG_SELP   SELPLG\n",
       "6  RTN4_LINGO1   RTN4  \n",
       "7  NTNG1_LRRC4C  NTNG1 \n",
       "8  GNAI2_ADCY1   GNAI2 \n",
       "9  LRRC4B_PTPRF  LRRC4B\n",
       "10 PECAM1_CD38   PECAM1\n",
       "11 ADAM17_NOTCH1 ADAM17\n",
       "12 ADAM12_SDC4   ADAM12\n",
       "13 PLAU_PLAUR    PLAU  \n",
       "14 CD55_ADGRE5   CD55  \n",
       "15 PVR_CD226     PVR   \n",
       "16 OMG_LINGO1    OMG   \n",
       "17 SELPLG_SELE   SELPLG\n",
       "18 ADAM12_ITGB1  ADAM12\n",
       "19 CD80_CTLA4    CD80  \n",
       "20 CD86_CTLA4    CD86  \n",
       "21 CDH1_EGFR     CDH1  \n",
       "22 CDH1_IGF1R    CDH1  \n",
       "23 ADAM2_ITGB1   ADAM2 \n",
       "24 ADAM2_ITGA6   ADAM2 \n",
       "25 HAS2_HMMR     HAS2  \n",
       "26 ADAM17_ERBB4  ADAM17\n",
       "27 RTN4_RTN4R    RTN4  \n",
       "28 PROC_PROCR    PROC  \n",
       "29 ADAM9_ITGAV   ADAM9 \n",
       "30 ADAM15_ITGA9  ADAM15\n",
       "31 ADAM15_ITGA5  ADAM15\n",
       "32 ADAM17_ITGA5  ADAM17\n",
       "33 ADAM9_ITGB5   ADAM9 \n",
       "34 ADAM9_ITGB1   ADAM9 \n",
       "35 ADAM9_ITGA6   ADAM9 \n",
       "36 NCAM1_FGFR1   NCAM1 \n",
       "37 NCAM1_ROBO1   NCAM1 \n",
       "38 VSIR_IGSF11   VSIR  \n",
       "39 ADAM23_ITGA5  ADAM23\n",
       "40 ADAM23_ITGB3  ADAM23\n",
       "41 NCAM1_ROBO3   NCAM1 \n",
       "42 PTDSS1_JMJD6  PTDSS1\n",
       "43 PTDSS1_SCARB1 PTDSS1\n",
       "44 IL1R1_IL1RAP  IL1R1 \n",
       "45 IL1RAP_IL1R1  IL1RAP\n",
       "46 TGFBR1_TGFBR2 TGFBR1\n",
       "47 TGFBR2_TGFBR1 TGFBR2\n",
       "48 EGFR_ERBB2    EGFR  \n",
       "49 ERBB2_EGFR    ERBB2 \n",
       "50 NRP1_KDR      NRP1  \n",
       "51 KDR_NRP1      KDR   \n",
       "   Ligand.Name                                                Receptor\n",
       "1  T cell immunoglobulin and mucin domain containing 4        HAVCR1  \n",
       "2  CD80 molecule                                              CD28    \n",
       "3  CD86 molecule                                              CD28    \n",
       "4  presenilin 1                                               NCSTN   \n",
       "5  selectin P ligand                                          SELP    \n",
       "6  reticulon 4                                                LINGO1  \n",
       "7  netrin G1                                                  LRRC4C  \n",
       "8  G protein subunit alpha i2                                 ADCY1   \n",
       "9  leucine rich repeat containing 4B                          PTPRF   \n",
       "10 platelet and endothelial cell adhesion molecule 1          CD38    \n",
       "11 ADAM metallopeptidase domain 17                            NOTCH1  \n",
       "12 ADAM metallopeptidase domain 12                            SDC4    \n",
       "13 plasminogen activator, urokinase                           PLAUR   \n",
       "14 CD55 molecule (Cromer blood group)                         ADGRE5  \n",
       "15 PVR cell adhesion molecule                                 CD226   \n",
       "16 oligodendrocyte myelin glycoprotein                        LINGO1  \n",
       "17 selectin P ligand                                          SELE    \n",
       "18 ADAM metallopeptidase domain 12                            ITGB1   \n",
       "19 CD80 molecule                                              CTLA4   \n",
       "20 CD86 molecule                                              CTLA4   \n",
       "21 cadherin 1                                                 EGFR    \n",
       "22 cadherin 1                                                 IGF1R   \n",
       "23 ADAM metallopeptidase domain 2                             ITGB1   \n",
       "24 ADAM metallopeptidase domain 2                             ITGA6   \n",
       "25 hyaluronan synthase 2                                      HMMR    \n",
       "26 ADAM metallopeptidase domain 17                            ERBB4   \n",
       "27 reticulon 4                                                RTN4R   \n",
       "28 protein C, inactivator of coagulation factors Va and VIIIa PROCR   \n",
       "29 ADAM metallopeptidase domain 9                             ITGAV   \n",
       "30 ADAM metallopeptidase domain 15                            ITGA9   \n",
       "31 ADAM metallopeptidase domain 15                            ITGA5   \n",
       "32 ADAM metallopeptidase domain 17                            ITGA5   \n",
       "33 ADAM metallopeptidase domain 9                             ITGB5   \n",
       "34 ADAM metallopeptidase domain 9                             ITGB1   \n",
       "35 ADAM metallopeptidase domain 9                             ITGA6   \n",
       "36 neural cell adhesion molecule 1                            FGFR1   \n",
       "37 neural cell adhesion molecule 1                            ROBO1   \n",
       "38 V-set immunoregulatory receptor                            IGSF11  \n",
       "39 ADAM metallopeptidase domain 23                            ITGA5   \n",
       "40 ADAM metallopeptidase domain 23                            ITGB3   \n",
       "41 neural cell adhesion molecule 1                            ROBO3   \n",
       "42 phosphatidylserine synthase 1                              JMJD6   \n",
       "43 phosphatidylserine synthase 1                              SCARB1  \n",
       "44 interleukin 1 receptor type 1                              IL1RAP  \n",
       "45 interleukin 1 receptor accessory protein                   IL1R1   \n",
       "46 transforming growth factor beta receptor 1                 TGFBR2  \n",
       "47 transforming growth factor beta receptor 2                 TGFBR1  \n",
       "48 epidermal growth factor receptor                           ERBB2   \n",
       "49 erb-b2 receptor tyrosine kinase 2                          EGFR    \n",
       "50 neuropilin 1                                               KDR     \n",
       "51 kinase insert domain receptor                              NRP1    \n",
       "   Receptor.Name                                                           \n",
       "1  hepatitis A virus cellular receptor 1                                   \n",
       "2  CD28 molecule                                                           \n",
       "3  CD28 molecule                                                           \n",
       "4  nicastrin                                                               \n",
       "5  selectin P                                                              \n",
       "6  leucine rich repeat and Ig domain containing 1                          \n",
       "7  leucine rich repeat containing 4C                                       \n",
       "8  adenylate cyclase 1                                                     \n",
       "9  protein tyrosine phosphatase receptor type F                            \n",
       "10 CD38 molecule                                                           \n",
       "11 notch receptor 1                                                        \n",
       "12 syndecan 4                                                              \n",
       "13 plasminogen activator, urokinase receptor                               \n",
       "14 adhesion G protein-coupled receptor E5                                  \n",
       "15 CD226 molecule                                                          \n",
       "16 leucine rich repeat and Ig domain containing 1                          \n",
       "17 selectin E                                                              \n",
       "18 integrin subunit beta 1                                                 \n",
       "19 cytotoxic T-lymphocyte associated protein 4                             \n",
       "20 cytotoxic T-lymphocyte associated protein 4                             \n",
       "21 epidermal growth factor receptor                                        \n",
       "22 insulin like growth factor 1 receptor                                   \n",
       "23 integrin subunit beta 1                                                 \n",
       "24 integrin subunit alpha 6                                                \n",
       "25 hyaluronan mediated motility receptor                                   \n",
       "26 erb-b2 receptor tyrosine kinase 4                                       \n",
       "27 reticulon 4 receptor                                                    \n",
       "28 protein C receptor                                                      \n",
       "29 integrin subunit alpha V                                                \n",
       "30 integrin subunit alpha 9                                                \n",
       "31 integrin subunit alpha 5                                                \n",
       "32 integrin subunit alpha 5                                                \n",
       "33 integrin subunit beta 5                                                 \n",
       "34 integrin subunit beta 1                                                 \n",
       "35 integrin subunit alpha 6                                                \n",
       "36 fibroblast growth factor receptor 1                                     \n",
       "37 roundabout guidance receptor 1                                          \n",
       "38 immunoglobulin superfamily member 11                                    \n",
       "39 integrin subunit alpha 5                                                \n",
       "40 integrin subunit beta 3                                                 \n",
       "41 roundabout guidance receptor 3                                          \n",
       "42 jumonji domain containing 6, arginine demethylase and lysine hydroxylase\n",
       "43 scavenger receptor class B member 1                                     \n",
       "44 interleukin 1 receptor accessory protein                                \n",
       "45 interleukin 1 receptor type 1                                           \n",
       "46 transforming growth factor beta receptor 2                              \n",
       "47 transforming growth factor beta receptor 1                              \n",
       "48 erb-b2 receptor tyrosine kinase 2                                       \n",
       "49 epidermal growth factor receptor                                        \n",
       "50 kinase insert domain receptor                                           \n",
       "51 neuropilin 1                                                            \n",
       "   complex_pair        source target                is_directed is_stimulation\n",
       "1  NA                  Q96H15 Q96D42                1           1             \n",
       "2  NA                  P33681 P10747                1           1             \n",
       "3  NA                  P42081 P10747                1           1             \n",
       "4  NA                  P49768 Q92542                1           1             \n",
       "5  NA                  Q14242 P16109                1           1             \n",
       "6  NA                  Q9NQC3 Q96FE5                1           1             \n",
       "7  NA                  Q9Y2I2 Q9HCJ2                1           1             \n",
       "8  NA                  P04899 Q08828                1           0             \n",
       "9  NA                  Q9NT99 P10586                1           1             \n",
       "10 NA                  P16284 P28907                1           1             \n",
       "11 NA                  P78536 P46531                1           1             \n",
       "12 NA                  O43184 P31431                1           1             \n",
       "13 NA                  P00749 Q03405                1           1             \n",
       "14 NA                  P08174 P48960                1           1             \n",
       "15 NA                  P15151 Q15762                1           1             \n",
       "16 NA                  P23515 Q96FE5                1           1             \n",
       "17 NA                  Q14242 P16581                1           1             \n",
       "18 NA                  O43184 P05556                1           1             \n",
       "19 NA                  P33681 P16410                1           1             \n",
       "20 NA                  P42081 P16410                1           1             \n",
       "21 NA                  P12830 P00533                1           1             \n",
       "22 NA                  P12830 P08069                1           0             \n",
       "23 NA                  Q99965 P05556                1           1             \n",
       "24 NA                  Q99965 P23229                1           1             \n",
       "25 NA                  Q92819 O75330                1           1             \n",
       "26 NA                  P78536 Q15303                1           1             \n",
       "27 NA                  Q9NQC3 Q9BZR6                1           1             \n",
       "28 NA                  P04070 Q9UNN8                1           1             \n",
       "29 NA                  Q13443 P06756                1           1             \n",
       "30 NA                  Q13444 Q13797                1           1             \n",
       "31 NA                  Q13444 P08648                1           1             \n",
       "32 NA                  P78536 P08648                1           1             \n",
       "33 NA                  Q13443 P18084                1           1             \n",
       "34 NA                  Q13443 P05556                1           1             \n",
       "35 NA                  Q13443 P23229                1           1             \n",
       "36 NA                  P13591 P11362                1           1             \n",
       "37 NA                  P13591 Q9Y6N7                1           1             \n",
       "38 NA                  Q9H7M9 Q5DX21                1           1             \n",
       "39 NA                  O75077 P08648                1           1             \n",
       "40 NA                  O75077 P05106                1           1             \n",
       "41 NA                  P13591 Q96MS0                1           1             \n",
       "42 NA                  P48651 Q6NYC1                1           1             \n",
       "43 NA                  P48651 Q8WTV0                1           1             \n",
       "44 IL1A_IL1R1_IL1RAP   P01583 COMPLEX:P14778_Q9NPH3 1           1             \n",
       "45 IL1A_IL1R1_IL1RAP   P01583 COMPLEX:P14778_Q9NPH3 1           1             \n",
       "46 TGFB1_TGFBR1_TGFBR2 P01137 COMPLEX:P36897_P37173 1           1             \n",
       "47 TGFB1_TGFBR1_TGFBR2 P01137 COMPLEX:P36897_P37173 1           1             \n",
       "48 EGF_EGFR_ERBB2      P01133 COMPLEX:P00533_P04626 1           1             \n",
       "49 EGF_EGFR_ERBB2      P01133 COMPLEX:P00533_P04626 1           1             \n",
       "50 NRP1_FLT1_KDR       O14786 COMPLEX:P17948_P35968 1           1             \n",
       "51 NRP1_FLT1_KDR       O14786 COMPLEX:P17948_P35968 1           1             \n",
       "   ⋯ consensus_stimulation consensus_inhibition\n",
       "1  ⋯ 1                     0                   \n",
       "2  ⋯ 1                     0                   \n",
       "3  ⋯ 1                     0                   \n",
       "4  ⋯ 1                     0                   \n",
       "5  ⋯ 1                     0                   \n",
       "6  ⋯ 1                     0                   \n",
       "7  ⋯ 1                     0                   \n",
       "8  ⋯ 0                     1                   \n",
       "9  ⋯ 1                     0                   \n",
       "10 ⋯ 1                     0                   \n",
       "11 ⋯ 1                     0                   \n",
       "12 ⋯ 1                     0                   \n",
       "13 ⋯ 1                     0                   \n",
       "14 ⋯ 1                     0                   \n",
       "15 ⋯ 1                     0                   \n",
       "16 ⋯ 1                     0                   \n",
       "17 ⋯ 1                     0                   \n",
       "18 ⋯ 1                     0                   \n",
       "19 ⋯ 1                     0                   \n",
       "20 ⋯ 1                     0                   \n",
       "21 ⋯ 1                     0                   \n",
       "22 ⋯ 0                     1                   \n",
       "23 ⋯ 1                     0                   \n",
       "24 ⋯ 1                     0                   \n",
       "25 ⋯ 1                     0                   \n",
       "26 ⋯ 1                     0                   \n",
       "27 ⋯ 1                     0                   \n",
       "28 ⋯ 1                     0                   \n",
       "29 ⋯ 1                     0                   \n",
       "30 ⋯ 1                     0                   \n",
       "31 ⋯ 1                     0                   \n",
       "32 ⋯ 1                     0                   \n",
       "33 ⋯ 1                     0                   \n",
       "34 ⋯ 1                     0                   \n",
       "35 ⋯ 1                     0                   \n",
       "36 ⋯ 1                     0                   \n",
       "37 ⋯ 1                     0                   \n",
       "38 ⋯ 1                     0                   \n",
       "39 ⋯ 1                     0                   \n",
       "40 ⋯ 1                     0                   \n",
       "41 ⋯ 1                     0                   \n",
       "42 ⋯ 1                     0                   \n",
       "43 ⋯ 1                     0                   \n",
       "44 ⋯ 1                     0                   \n",
       "45 ⋯ 1                     0                   \n",
       "46 ⋯ 1                     0                   \n",
       "47 ⋯ 1                     0                   \n",
       "48 ⋯ 1                     0                   \n",
       "49 ⋯ 1                     0                   \n",
       "50 ⋯ 1                     0                   \n",
       "51 ⋯ 1                     0                   \n",
       "   sources                                                                                                                                                                                                                                                                 \n",
       "1  SPIKE;Wojtowicz2020;connectomeDB2020                                                                                                                                                                                                                                    \n",
       "2  BioGRID;CellChatDB;CellPhoneDB_Cellinker;Cellinker;DIP;HPRD;ICELLNET;KEGG-MEDICUS;LRdb;Lit-BM-17;NetPath;SPIKE;Wang;Wojtowicz2020;connectomeDB2020;iTALK                                                                                                                \n",
       "3  Baccin2019;CellChatDB;CellPhoneDB_Cellinker;CellTalkDB;Cellinker;DIP;HPRD;ICELLNET;KEGG-MEDICUS;LRdb;SPIKE;Wang;Wojtowicz2020;connectomeDB2020;iTALK                                                                                                                    \n",
       "4  CellTalkDB;Cellinker;EMBRACE;Fantom5_LRdb;HPMR;HPMR_Cellinker;HPMR_LRdb;HPMR_talklr;HPRD;HPRD_LRdb;HPRD_talklr;IntAct;LRdb;Ramilowski2015;STRING_talklr;Wang;connectomeDB2020;iTALK;talklr                                                                              \n",
       "5  CellChatDB;CellPhoneDB_Cellinker;CellTalkDB;Cellinker;DIP;Fantom5_LRdb;Guide2Pharma;HPMR;HPMR_Cellinker;HPMR_LRdb;HPMR_talklr;HPRD;HPRD_LRdb;HPRD_talklr;InnateDB;IntAct;LRdb;Lit-BM-17;Ramilowski2015;SIGNOR;STRING_talklr;Wang;connectomeDB2020;iTALK;scConnect;talklr\n",
       "6  Baccin2019;CellTalkDB;EMBRACE;Fantom5_LRdb;HPMR_LRdb;HPMR_talklr;LRdb;Ramilowski2015;Ramilowski2015_Baccin2019;SIGNOR;Wang;connectomeDB2020;iTALK;talklr                                                                                                                \n",
       "7  Baccin2019;BioGRID;CellTalkDB;EMBRACE;Fantom5_LRdb;HPMR;HPMR_LRdb;HPMR_talklr;HPRD;HPRD_LRdb;HPRD_talklr;IntAct;LRdb;Lit-BM-17;Ramilowski2015;Ramilowski2015_Baccin2019;SIGNOR;STRING_talklr;Wang;connectomeDB2020;iTALK;talklr                                         \n",
       "8  Baccin2019;CellTalkDB;EMBRACE;Fantom5_LRdb;HPRD;HPRD_LRdb;HPRD_talklr;KEGG-MEDICUS;LRdb;Ramilowski2015;Ramilowski2015_Baccin2019;SIGNOR;STRING_talklr;Wang;connectomeDB2020;iTALK;talklr                                                                                \n",
       "9  Baccin2019;CellChatDB;Cellinker;Wojtowicz2020;connectomeDB2020                                                                                                                                                                                                          \n",
       "10 Baccin2019;CellPhoneDB;CellPhoneDB_Cellinker;Cellinker;HPRD;LRdb;SIGNOR;Wang;connectomeDB2020                                                                                                                                                                           \n",
       "11 ACSN;CellCall;CellTalkDB;Cellinker;EMBRACE;Fantom5_LRdb;HPRD;HPRD-phos;HPRD_LRdb;HPRD_talklr;LRdb;Ramilowski2015;SIGNOR;STRING_talklr;Wang;connectomeDB2020;iTALK;talklr                                                                                                \n",
       "12 Adhesome;CellTalkDB;EMBRACE;Fantom5_LRdb;HPMR_LRdb;HPMR_talklr;LRdb;Ramilowski2015;SIGNOR;STRING_talklr;Wang;connectomeDB2020;iTALK;talklr                                                                                                                              \n",
       "13 Baccin2019;BioGRID;CellTalkDB;Cellinker;DIP;EMBRACE;Fantom5_LRdb;HPMR;HPMR_Cellinker;HPMR_LRdb;HPMR_talklr;HPRD;HPRD_LRdb;HPRD_talklr;ICELLNET;Kirouac2010;LRdb;Ramilowski2015;Ramilowski2015_Baccin2019;SIGNOR;STRING_talklr;Wang;connectomeDB2020;iTALK;talklr        \n",
       "14 Baccin2019;CellPhoneDB;CellPhoneDB_Cellinker;CellTalkDB;Cellinker;Fantom5_LRdb;HPMR;HPMR_LRdb;HPMR_talklr;HPRD;HPRD_LRdb;HPRD_talklr;LRdb;Ramilowski2015;SIGNOR;STRING_talklr;Wang;connectomeDB2020;iTALK;talklr                                                        \n",
       "15 CellChatDB;CellPhoneDB;HPRD;ICELLNET;LRdb;Lit-BM-17;SIGNOR;UniProt_LRdb;Wang;Wojtowicz2020;connectomeDB2020                                                                                                                                                             \n",
       "16 Baccin2019;CellTalkDB;Cellinker;EMBRACE;Fantom5_LRdb;HPMR;HPMR_Cellinker;HPMR_LRdb;HPMR_talklr;LRdb;Ramilowski2015;Ramilowski2015_Baccin2019;SIGNOR;Wang;connectomeDB2020;iTALK;talklr                                                                                  \n",
       "17 CellChatDB;CellPhoneDB_Cellinker;CellTalkDB;Cellinker;Fantom5_LRdb;HPMR_Cellinker;HPMR_LRdb;HPMR_talklr;HPRD;HPRD_LRdb;HPRD_talklr;LRdb;Ramilowski2015;SIGNOR;STRING_talklr;Wang;connectomeDB2020;iTALK;talklr                                                          \n",
       "18 Adhesome;CellTalkDB;EMBRACE;Fantom5_LRdb;HPMR_LRdb;HPMR_talklr;LRdb;Ramilowski2015;STRING_talklr;Wang;connectomeDB2020;iTALK;talklr                                                                                                                                     \n",
       "19 BioGRID;CellChatDB;CellPhoneDB_Cellinker;Cellinker;HPRD;ICELLNET;InnateDB;IntAct;LRdb;Lit-BM-17;NetPath;Wang;Wojtowicz2020;connectomeDB2020;iTALK                                                                                                                       \n",
       "20 BioGRID;CellChatDB;CellPhoneDB_Cellinker;CellTalkDB;Cellinker;HPRD;ICELLNET;IntAct;LRdb;Lit-BM-17;Wang;Wojtowicz2020;connectomeDB2020;iTALK                                                                                                                             \n",
       "21 Baccin2019;BioGRID;CellTalkDB;Cellinker;EMBRACE;Fantom5_LRdb;HPRD;HPRD_LRdb;HPRD_talklr;InnateDB;IntAct;LRdb;Lit-BM-17;Ramilowski2015;Ramilowski2015_Baccin2019;STRING_talklr;Wang;connectomeDB2020;iTALK;talklr                                                        \n",
       "22 Baccin2019;CellTalkDB;EMBRACE;Fantom5_LRdb;LRdb;Ramilowski2015;Ramilowski2015_Baccin2019;STRING_talklr;Wang;connectomeDB2020;iTALK;talklr                                                                                                                               \n",
       "23 CellTalkDB;Fantom5_LRdb;HPMR_LRdb;HPMR_talklr;LRdb;Ramilowski2015;STRING_talklr;Wang;connectomeDB2020;iTALK;talklr                                                                                                                                                      \n",
       "24 CellTalkDB;Fantom5_LRdb;HPMR_LRdb;HPMR_talklr;LRdb;Ramilowski2015;Wang;connectomeDB2020;iTALK;talklr                                                                                                                                                                    \n",
       "25 Baccin2019;CellTalkDB;Cellinker;EMBRACE;Fantom5_LRdb;HPMR;HPMR_Cellinker;HPMR_LRdb;HPMR_talklr;LRdb;Ramilowski2015;Ramilowski2015_Baccin2019;Wang;connectomeDB2020;iTALK;talklr                                                                                         \n",
       "26 Baccin2019;CellTalkDB;EMBRACE;Fantom5_LRdb;HPRD;HPRD_LRdb;HPRD_talklr;LRdb;NCI-PID_ProtMapper;ProtMapper;Ramilowski2015;Ramilowski2015_Baccin2019;Reactome_ProtMapper;Wang;iTALK;talklr                                                                                 \n",
       "27 Baccin2019;CellTalkDB;EMBRACE;Fantom5_LRdb;HPMR;HPMR_LRdb;HPMR_talklr;HPRD;HPRD_LRdb;HPRD_talklr;LRdb;Ramilowski2015;Ramilowski2015_Baccin2019;STRING_talklr;Wang;connectomeDB2020;iTALK;talklr                                                                         \n",
       "28 Baccin2019;CellTalkDB;Cellinker;Fantom5_LRdb;HPMR;HPMR_Cellinker;HPMR_LRdb;HPMR_talklr;HPRD;HPRD_LRdb;HPRD_talklr;LRdb;Ramilowski2015;Ramilowski2015_Baccin2019;STRING_talklr;Wang;connectomeDB2020;iTALK;talklr                                                        \n",
       "29 CellTalkDB;EMBRACE;Fantom5_LRdb;HPMR;HPMR_LRdb;HPMR_talklr;HPRD;HPRD_LRdb;HPRD_talklr;LRdb;Ramilowski2015;Wang;connectomeDB2020;iTALK;talklr                                                                                                                            \n",
       "30 CellTalkDB;EMBRACE;Fantom5_LRdb;HPMR_LRdb;HPMR_talklr;LRdb;Ramilowski2015;STRING_talklr;Wang;connectomeDB2020;iTALK;talklr                                                                                                                                              \n",
       "31 CellTalkDB;EMBRACE;Fantom5_LRdb;HPMR;HPMR_LRdb;HPMR_talklr;LRdb;Ramilowski2015;Wang;connectomeDB2020;iTALK;talklr                                                                                                                                                       \n",
       "32 CellTalkDB;EMBRACE;Fantom5_LRdb;HPMR_LRdb;HPMR_talklr;LRdb;Ramilowski2015;Wang;connectomeDB2020;iTALK;talklr                                                                                                                                                            \n",
       "33 CellTalkDB;EMBRACE;Fantom5_LRdb;HPMR;HPMR_LRdb;HPMR_talklr;LRdb;Ramilowski2015;Wang;connectomeDB2020;iTALK;talklr                                                                                                                                                       \n",
       "34 CellTalkDB;EMBRACE;Fantom5_LRdb;HPMR_LRdb;HPMR_talklr;LRdb;Ramilowski2015;Wang;connectomeDB2020;iTALK;talklr                                                                                                                                                            \n",
       "35 CellTalkDB;EMBRACE;Fantom5_LRdb;HPMR_LRdb;HPMR_talklr;HPRD;HPRD_LRdb;HPRD_talklr;LRdb;Ramilowski2015;Wang;connectomeDB2020;iTALK;talklr                                                                                                                                 \n",
       "36 Baccin2019;BioGRID;CellChatDB;CellPhoneDB;CellPhoneDB_Cellinker;CellTalkDB;Cellinker;EMBRACE;Fantom5_LRdb;HPRD;HPRD_LRdb;HPRD_talklr;LRdb;Ramilowski2015;Ramilowski2015_Baccin2019;STRING_talklr;Wang;connectomeDB2020;iTALK;talklr                                     \n",
       "37 Baccin2019;CellTalkDB;Cellinker;EMBRACE;Fantom5_LRdb;HPMR;HPMR_Cellinker;HPMR_LRdb;HPMR_talklr;LRdb;Ramilowski2015;Ramilowski2015_Baccin2019;Wang;connectomeDB2020;iTALK;talklr                                                                                         \n",
       "38 CellChatDB;Cellinker                                                                                                                                                                                                                                                    \n",
       "39 EMBRACE;Fantom5_LRdb;HPMR_LRdb;HPMR_talklr;LRdb;Ramilowski2015;Wang;connectomeDB2020;iTALK;talklr                                                                                                                                                                       \n",
       "40 EMBRACE;Fantom5_LRdb;HPMR_LRdb;HPMR_talklr;LRdb;Ramilowski2015;Wang;connectomeDB2020;iTALK;talklr                                                                                                                                                                       \n",
       "41 Baccin2019;Cellinker;EMBRACE;Fantom5_LRdb;HPMR;HPMR_Cellinker;HPMR_LRdb;HPMR_talklr;LRdb;Ramilowski2015;Ramilowski2015_Baccin2019;Wang;connectomeDB2020;iTALK;talklr                                                                                                    \n",
       "42 Baccin2019;EMBRACE;Fantom5_LRdb;HPMR;HPMR_LRdb;HPMR_talklr;LRdb;Ramilowski2015;Ramilowski2015_Baccin2019;Wang;connectomeDB2020;iTALK;talklr                                                                                                                             \n",
       "43 Baccin2019;EMBRACE;Fantom5_LRdb;HPMR;HPMR_LRdb;HPMR_talklr;LRdb;Ramilowski2015;Ramilowski2015_Baccin2019;Wang;connectomeDB2020;iTALK;talklr                                                                                                                             \n",
       "44 CellChatDB;Cellinker;DLRP_Cellinker;HPMR_Cellinker;ICELLNET;KEGG-MEDICUS                                                                                                                                                                                                \n",
       "45 CellChatDB;Cellinker;DLRP_Cellinker;HPMR_Cellinker;ICELLNET;KEGG-MEDICUS                                                                                                                                                                                                \n",
       "46 CellChatDB;CellPhoneDB;ICELLNET;KEGG-MEDICUS                                                                                                                                                                                                                            \n",
       "47 CellChatDB;CellPhoneDB;ICELLNET;KEGG-MEDICUS                                                                                                                                                                                                                            \n",
       "48 CellChatDB;Cellinker;DLRP_Cellinker;Guide2Pharma_Cellinker;HPMR_Cellinker;KEGG-MEDICUS                                                                                                                                                                                  \n",
       "49 CellChatDB;Cellinker;DLRP_Cellinker;Guide2Pharma_Cellinker;HPMR_Cellinker;KEGG-MEDICUS                                                                                                                                                                                  \n",
       "50 CellChatDB-cofactors                                                                                                                                                                                                                                                    \n",
       "51 CellChatDB-cofactors                                                                                                                                                                                                                                                    \n",
       "   references                                                                                                                                                                                                                                                                                                                                                                                                                                                                                                                                                                            \n",
       "1  SPIKE:15793576;connectomeDB2020:28949386                                                                                                                                                                                                                                                                                                                                                                                                                                                                                                                                              \n",
       "2  BioGRID:1847722;CellChatDB:23954143;Cellinker:21530327;Cellinker:23954143;DIP:1847722;DIP:2164219;DIP:7964482;HPRD:7545666;ICELLNET:7545666;LRdb:22437870;Lit-BM-17:1847722;Lit-BM-17:2164219;Lit-BM-17:21982860;Lit-BM-17:7545666;Lit-BM-17:7964482;NetPath:2164219;SPIKE:15610849;SPIKE:21487479;connectomeDB2020:7545666                                                                                                                                                                                                                                                           \n",
       "3  CellChatDB:23954143;CellTalkDB:23954143;Cellinker:21530327;Cellinker:23954143;DIP:21931534;HPRD:11021528;HPRD:7513726;ICELLNET:18205792;LRdb:22437870;SPIKE:11021528;SPIKE:21487479;connectomeDB2020:23954143                                                                                                                                                                                                                                                                                                                                                                         \n",
       "4  CellTalkDB:10993067;Cellinker:10993067;Cellinker:12603837;HPMR:10993067;HPRD:10993067;HPRD:12603837;IntAct:18201567;LRdb:10993067;LRdb:13;connectomeDB2020:10993067;connectomeDB2020:12603837                                                                                                                                                                                                                                                                                                                                                                                         \n",
       "5  CellChatDB:19118202;CellChatDB:9829984;CellTalkDB:12393589;Cellinker:10713099;Cellinker:19118202;Cellinker:9128259;Cellinker:9129046;Cellinker:9829984;DIP:19118202;Guide2Pharma:9829984;HPMR:9129046;HPRD:10713099;HPRD:17064811;HPRD:9128259;InnateDB:11081633;IntAct:11081633;IntAct:19118202;IntAct:26627825;LRdb:10713099;LRdb:17064811;LRdb:9128259;LRdb:9129046;Lit-BM-17:10713099;Lit-BM-17:11081633;Lit-BM-17:19118202;SIGNOR:23994464;SIGNOR:9129046;connectomeDB2020:10713099;connectomeDB2020:17064811;connectomeDB2020:9128259;connectomeDB2020:9129046;scConnect:9829984\n",
       "6  Baccin2019:15694322;CellTalkDB:15694322;LRdb:15694322;SIGNOR:15694321;connectomeDB2020:15694322                                                                                                                                                                                                                                                                                                                                                                                                                                                                                       \n",
       "7  Baccin2019:1459544314595440;BioGRID:21946559;CellTalkDB:14595443;HPMR:14595443;HPRD:14595443;IntAct:21946559;LRdb:14595443;Lit-BM-17:14595443;Lit-BM-17:21946559;SIGNOR:19467332;connectomeDB2020:14595443                                                                                                                                                                                                                                                                                                                                                                            \n",
       "8  Baccin2019:2121366;CellTalkDB:2121366;HPRD:2121366;LRdb:2121366;SIGNOR:19703466;SIGNOR:8327893;connectomeDB2020:2121366                                                                                                                                                                                                                                                                                                                                                                                                                                                               \n",
       "9  Cellinker:32589946;connectomeDB2020:19252495;connectomeDB2020:23345436                                                                                                                                                                                                                                                                                                                                                                                                                                                                                                                \n",
       "10 Baccin2019:23308177;Cellinker:9551996;HPRD:9551996;LRdb:9551996;SIGNOR:18626062;connectomeDB2020:26407101;connectomeDB2020:9551996                                                                                                                                                                                                                                                                                                                                                                                                                                                    \n",
       "11 ACSN:19601831;ACSN:19704010;ACSN:19726682;CellTalkDB:10882063;Cellinker:10882063;Cellinker:9620803;HPRD-phos:10882063;HPRD-phos:9620803;HPRD:10882063;HPRD:9620803;LRdb:10882063;LRdb:96;SIGNOR:10882063;connectomeDB2020:10882063;connectomeDB2020:9620803                                                                                                                                                                                                                                                                                                                           \n",
       "12 Adhesome:12509413;CellTalkDB:12509413;LRdb:12509413;SIGNOR:12509413;connectomeDB2020:12509413                                                                                                                                                                                                                                                                                                                                                                                                                                                                                         \n",
       "13 Baccin2019:11501527;Baccin2019:16456079;Baccin2019:3023326;Baccin2019:3031025;BioGRID:11501527;BioGRID:16879932;BioGRID:19017363;CellTalkDB:16456079;Cellinker:11501527;Cellinker:16456079;Cellinker:3023326;Cellinker:3031025;DIP:18376415;HPMR:16456079;HPRD:11501527;HPRD:3023326;HPRD:3031025;ICELLNET:11501527;LRdb:11501527;LRdb:16456079;LRdb:3023326;LRdb:3031025;SIGNOR:16456079;connectomeDB2020:11501527;connectomeDB2020:16456079;connectomeDB2020:3023326;connectomeDB2020:3031025                                                                                       \n",
       "14 Baccin2019:23447688;CellTalkDB:12417446;Cellinker:10540231;Cellinker:12417446;HPMR:12417446;HPRD:10540231;LRdb:11;LRdb:12417446;SIGNOR:12417446;connectomeDB2020:10540231;connectomeDB2020:12417446                                                                                                                                                                                                                                                                                                                                                                                   \n",
       "15 CellPhoneDB:15607800;CellPhoneDB:24440149;HPRD:12913096;ICELLNET:15034010;Lit-BM-17:12913096;Lit-BM-17:21982860;SIGNOR:30591568;connectomeDB2020:15607800                                                                                                                                                                                                                                                                                                                                                                                                                             \n",
       "16 Baccin2019:14966521;CellTalkDB:14966521;Cellinker:14966521;HPMR:14966521;LRdb:14966521;SIGNOR:15694321;connectomeDB2020:14966521                                                                                                                                                                                                                                                                                                                                                                                                                                                      \n",
       "17 CellChatDB:26124272;CellTalkDB:11402070;Cellinker:11402070;Cellinker:26124272;Cellinker:8621728;Cellinker:9128259;HPRD:8621728;HPRD:9128259;LRdb:11402070;LRdb:8621728;LRdb:9128259;SIGNOR:9024699;connectomeDB2020:11402070;connectomeDB2020:8621728;connectomeDB2020:9128259                                                                                                                                                                                                                                                                                                        \n",
       "18 Adhesome:15242759;CellTalkDB:10944520;LRdb:10944520;connectomeDB2020:10944520                                                                                                                                                                                                                                                                                                                                                                                                                                                                                                         \n",
       "19 BioGRID:11279502;CellChatDB:23954143;Cellinker:21530327;Cellinker:23954143;Cellinker:31757674;HPRD:7545666;ICELLNET:10583602;InnateDB:21422170;IntAct:11279502;IntAct:20587542;IntAct:21982860;LRdb:22437870;Lit-BM-17:11279502;Lit-BM-17:21982860;Lit-BM-17:7545666;NetPath:11279501;connectomeDB2020:17953528;connectomeDB2020:23954143                                                                                                                                                                                                                                             \n",
       "20 BioGRID:11279501;CellChatDB:23954143;CellTalkDB:23954143;Cellinker:21530327;Cellinker:23223433;Cellinker:23954143;HPRD:11021528;HPRD:11162656;HPRD:11279501;HPRD:12071705;HPRD:12582153;HPRD:12606712;HPRD:7513726;HPRD:7694153;ICELLNET:10583602;ICELLNET:11976720;IntAct:11279501;IntAct:21982860;IntAct:25241761;LRdb:22437870;Lit-BM-17:11279501;Lit-BM-17:21982860;Lit-BM-17:25241761;connectomeDB2020:23954143                                                                                                                                                                  \n",
       "21 Baccin2019:10969083;BioGRID:10969083;CellTalkDB:10969083;Cellinker:10969083;HPRD:10969083;InnateDB:17548604;IntAct:24658140;IntAct:25241761;IntAct:31980649;LRdb:10969083;Lit-BM-17:24189400;Lit-BM-17:24658140;Lit-BM-17:25241761;Lit-BM-17:25402006;Lit-BM-17:25468996;connectomeDB2020:10969083                                                                                                                                                                                                                                                                                    \n",
       "22 CellTalkDB:22479204;LRdb:22479204;Ramilowski2015:22479204;connectomeDB2020:22479204;talklr:22479204                                                                                                                                                                                                                                                                                                                                                                                                                                                                                   \n",
       "23 CellTalkDB:9889149;LRdb:9889149;connectomeDB2020:9889149                                                                                                                                                                                                                                                                                                                                                                                                                                                                                                                              \n",
       "24 CellTalkDB:9889149;LRdb:9889149;connectomeDB2020:9889149                                                                                                                                                                                                                                                                                                                                                                                                                                                                                                                              \n",
       "25 Baccin2019:1376732;CellTalkDB:1376732;Cellinker:1376732;HPMR:1376732;LRdb:1376732;connectomeDB2020:1376732                                                                                                                                                                                                                                                                                                                                                                                                                                                                            \n",
       "26 Baccin2019:15534001;CellTalkDB:26554003;HPRD:15534001;LRdb:15534001;ProtMapper:10744726;ProtMapper:15746097;ProtMapper:17486069;ProtMapper:9685416                                                                                                                                                                                                                                                                                                                                                                                                                                    \n",
       "27 Baccin2019:11201742;Baccin2019:15694322;CellTalkDB:11201742;HPMR:11201742;HPRD:11201742;LRdb:11201742;LRdb:16;connectomeDB2020:11201742;connectomeDB2020:15694322                                                                                                                                                                                                                                                                                                                                                                                                                     \n",
       "28 Baccin2019:10681521;Baccin2019:11099506;Baccin2019:7929370;CellTalkDB:11099506;Cellinker:10681521;Cellinker:11099506;Cellinker:7929370;HPMR:7929370;HPRD:10681521;HPRD:11099506;LRdb:10681521;LRdb:11099506;LRdb:7929370;connectomeDB2020:10681521;connectomeDB2020:11099506;connectomeDB2020:7929370                                                                                                                                                                                                                                                                                 \n",
       "29 CellTalkDB:11162558;HPMR:11162558;HPRD:15361064;LRdb:11162558;LRdb:15;connectomeDB2020:11162558;connectomeDB2020:15361064                                                                                                                                                                                                                                                                                                                                                                                                                                                             \n",
       "30 CellTalkDB:10944520;LRdb:10944520;connectomeDB2020:10944520                                                                                                                                                                                                                                                                                                                                                                                                                                                                                                                           \n",
       "31 CellTalkDB:9914169;HPMR:9516430;HPMR:9914169;LRdb:952;LRdb:9914169;connectomeDB2020:9516430;connectomeDB2020:9914169                                                                                                                                                                                                                                                                                                                                                                                                                                                                  \n",
       "32 CellTalkDB:14970227;LRdb:14970227;connectomeDB2020:14970227                                                                                                                                                                                                                                                                                                                                                                                                                                                                                                                           \n",
       "33 CellTalkDB:11162558;HPMR:11162558;LRdb:11162558;connectomeDB2020:11162558                                                                                                                                                                                                                                                                                                                                                                                                                                                                                                             \n",
       "34 CellTalkDB:10825303;LRdb:10825303;connectomeDB2020:10825303                                                                                                                                                                                                                                                                                                                                                                                                                                                                                                                           \n",
       "35 CellTalkDB:10825303;HPRD:15361064;LRdb:10825303;LRdb:15;connectomeDB2020:10825303;connectomeDB2020:15361064                                                                                                                                                                                                                                                                                                                                                                                                                                                                           \n",
       "36 Baccin2019:12121226;BioGRID:12121226;BioGRID:12791257;CellChatDB:12791257;CellTalkDB:12121226;Cellinker:12121226;Cellinker:12791257;HPRD:12121226;LRdb:12121226;connectomeDB2020:12121226                                                                                                                                                                                                                                                                                                                                                                                             \n",
       "37 Baccin2019:16226035;CellTalkDB:16226035;Cellinker:16226035;HPMR:16226035;LRdb:16226035;connectomeDB2020:16226035                                                                                                                                                                                                                                                                                                                                                                                                                                                                      \n",
       "38 Cellinker:32589946                                                                                                                                                                                                                                                                                                                                                                                                                                                                                                                                                                    \n",
       "39 LRdb:10749942;connectomeDB2020:10749942                                                                                                                                                                                                                                                                                                                                                                                                                                                                                                                                               \n",
       "40 LRdb:10749942;connectomeDB2020:10749942                                                                                                                                                                                                                                                                                                                                                                                                                                                                                                                                               \n",
       "41 Baccin2019:16226035;Cellinker:16226035;HPMR:16226035;LRdb:16226035;connectomeDB2020:16226035                                                                                                                                                                                                                                                                                                                                                                                                                                                                                          \n",
       "42 Baccin2019:10811223;HPMR:10811223;LRdb:10811223;connectomeDB2020:10811223                                                                                                                                                                                                                                                                                                                                                                                                                                                                                                             \n",
       "43 Baccin2019:8999945;HPMR:12016218;HPMR:8999945;LRdb:8999945;connectomeDB2020:8999945                                                                                                                                                                                                                                                                                                                                                                                                                                                                                                   \n",
       "44 Cellinker:2946959;Cellinker:9820540;ICELLNET:20959797;ICELLNET:24332029                                                                                                                                                                                                                                                                                                                                                                                                                                                                                                               \n",
       "45 Cellinker:2946959;Cellinker:9820540;ICELLNET:20959797;ICELLNET:24332029                                                                                                                                                                                                                                                                                                                                                                                                                                                                                                               \n",
       "46 ICELLNET:1333888;ICELLNET:7693660;ICELLNET:8242743                                                                                                                                                                                                                                                                                                                                                                                                                                                                                                                                    \n",
       "47 ICELLNET:1333888;ICELLNET:7693660;ICELLNET:8242743                                                                                                                                                                                                                                                                                                                                                                                                                                                                                                                                    \n",
       "48 Cellinker:10788520;Cellinker:12093292;Cellinker:12297050;Cellinker:12620237;Cellinker:15620700;Cellinker:16274239;Cellinker:6289330                                                                                                                                                                                                                                                                                                                                                                                                                                                   \n",
       "49 Cellinker:10788520;Cellinker:12093292;Cellinker:12297050;Cellinker:12620237;Cellinker:15620700;Cellinker:16274239;Cellinker:6289330                                                                                                                                                                                                                                                                                                                                                                                                                                                   \n",
       "50 NA                                                                                                                                                                                                                                                                                                                                                                                                                                                                                                                                                                                    \n",
       "51 NA                                                                                                                                                                                                                                                                                                                                                                                                                                                                                                                                                                                    \n",
       "   curation_effort n_references n_resources annotation_strategy dup          \n",
       "1   3               2            3          both                HAVCR1_TIMD4 \n",
       "2  19              10           15          both                CD28_CD80    \n",
       "3  12               8           14          both                CD28_CD86    \n",
       "4  11               4           12          both                NCSTN_PSEN1  \n",
       "5  32              10           18          both                SELP_SELPLG  \n",
       "6   5               2           10          both                LINGO1_RTN4  \n",
       "7  11               4           15          both                LRRC4C_NTNG1 \n",
       "8   7               3           12          both                ADCY1_GNAI2  \n",
       "9   3               3            5          both                PTPRF_LRRC4B \n",
       "10  7               4            8          both                CD38_PECAM1  \n",
       "11 15               6           14          both                NOTCH1_ADAM17\n",
       "12  5               1           10          both                SDC4_ADAM12  \n",
       "13 27               7           17          both                PLAUR_PLAU   \n",
       "14 11               4           13          both                ADGRE5_CD55  \n",
       "15  8               6           10          both                CD226_PVR    \n",
       "16  7               2           12          both                LINGO1_OMG   \n",
       "17 15               5           11          both                SELE_SELPLG  \n",
       "18  4               2            9          both                ITGB1_ADAM12 \n",
       "19 18              12           14          both                CTLA4_CD80   \n",
       "20 24              16           13          both                CTLA4_CD86   \n",
       "21 16               8           15          both                EGFR_CDH1    \n",
       "22  5               1            9          both                IGF1R_CDH1   \n",
       "23  3               1            7          both                ITGB1_ADAM2  \n",
       "24  3               1            7          both                ITGA6_ADAM2  \n",
       "25  6               1           11          both                HMMR_HAS2    \n",
       "26  8               6           10          both                ERBB4_ADAM17 \n",
       "27  9               3           11          both                RTN4R_RTN4   \n",
       "28 16               3           11          both                PROCR_PROC   \n",
       "29  7               3           10          both                ITGAV_ADAM9  \n",
       "30  3               1            8          both                ITGA9_ADAM15 \n",
       "31  7               3            9          both                ITGA5_ADAM15 \n",
       "32  3               1            8          both                ITGA5_ADAM17 \n",
       "33  4               1            9          both                ITGB5_ADAM9  \n",
       "34  3               1            8          both                ITGB1_ADAM9  \n",
       "35  6               3            9          both                ITGA6_ADAM9  \n",
       "36 10               2           14          both                FGFR1_NCAM1  \n",
       "37  6               1           11          both                ROBO1_NCAM1  \n",
       "38  1               1            2          LR                  IGSF11_VSIR  \n",
       "39  2               1            7          both                ITGA5_ADAM23 \n",
       "40  2               1            7          both                ITGB3_ADAM23 \n",
       "41  5               1           10          both                ROBO3_NCAM1  \n",
       "42  4               1            9          both                JMJD6_PTDSS1 \n",
       "43  5               2            9          both                SCARB1_PTDSS1\n",
       "44  4               4            4          both                IL1RAP_IL1R1 \n",
       "45  4               4            4          both                IL1R1_IL1RAP \n",
       "46  3               3            4          both                TGFBR2_TGFBR1\n",
       "47  3               3            4          both                TGFBR1_TGFBR2\n",
       "48  7               7            3          LR                  ERBB2_EGFR   \n",
       "49  7               7            3          LR                  EGFR_ERBB2   \n",
       "50  0               0            1          LR                  KDR_NRP1     \n",
       "51  0               0            1          LR                  NRP1_KDR     \n",
       "   True_LR\n",
       "1  FALSE  \n",
       "2  FALSE  \n",
       "3  FALSE  \n",
       "4  FALSE  \n",
       "5  FALSE  \n",
       "6  FALSE  \n",
       "7  FALSE  \n",
       "8  FALSE  \n",
       "9  FALSE  \n",
       "10 FALSE  \n",
       "11 FALSE  \n",
       "12 FALSE  \n",
       "13 FALSE  \n",
       "14 FALSE  \n",
       "15 FALSE  \n",
       "16 FALSE  \n",
       "17 FALSE  \n",
       "18 FALSE  \n",
       "19 FALSE  \n",
       "20 FALSE  \n",
       "21 FALSE  \n",
       "22 FALSE  \n",
       "23 FALSE  \n",
       "24 FALSE  \n",
       "25 FALSE  \n",
       "26 FALSE  \n",
       "27 FALSE  \n",
       "28 FALSE  \n",
       "29 FALSE  \n",
       "30 FALSE  \n",
       "31 FALSE  \n",
       "32 FALSE  \n",
       "33 FALSE  \n",
       "34 FALSE  \n",
       "35 FALSE  \n",
       "36 FALSE  \n",
       "37 FALSE  \n",
       "38 FALSE  \n",
       "39 FALSE  \n",
       "40 FALSE  \n",
       "41 FALSE  \n",
       "42 FALSE  \n",
       "43 FALSE  \n",
       "44 FALSE  \n",
       "45 FALSE  \n",
       "46 FALSE  \n",
       "47 FALSE  \n",
       "48 FALSE  \n",
       "49 FALSE  \n",
       "50 FALSE  \n",
       "51 FALSE  "
      ]
     },
     "metadata": {},
     "output_type": "display_data"
    }
   ],
   "source": [
    "reversed %>% filter(Pair.Name %in% reversed$dup & consensus_direction == 1)"
   ]
  },
  {
   "cell_type": "code",
   "execution_count": 73,
   "id": "1a0b4963",
   "metadata": {},
   "outputs": [],
   "source": [
    "reversed$dup = paste(reversed$Receptor, reversed$Ligand, sep=\"_\")"
   ]
  },
  {
   "cell_type": "code",
   "execution_count": 74,
   "id": "ccfad77e",
   "metadata": {
    "scrolled": false
   },
   "outputs": [],
   "source": [
    "# pre_dir = read.csv(\"reversed_dir.csv\")"
   ]
  },
  {
   "cell_type": "code",
   "execution_count": 75,
   "id": "d3b80b02",
   "metadata": {},
   "outputs": [],
   "source": [
    "# pre_reversed = read.csv(\"reversed_previous.csv\")"
   ]
  },
  {
   "cell_type": "code",
   "execution_count": 76,
   "id": "f2c5129e",
   "metadata": {},
   "outputs": [],
   "source": [
    "dir = reversed[reversed$Pair.Name %in% reversed$dup & reversed$consensus_direction == 1, ]"
   ]
  },
  {
   "cell_type": "code",
   "execution_count": null,
   "id": "be18d084",
   "metadata": {},
   "outputs": [],
   "source": []
  },
  {
   "cell_type": "code",
   "execution_count": 77,
   "id": "13686f04",
   "metadata": {},
   "outputs": [],
   "source": [
    "# not_in = pre_dir[!pre_dir$Pair.Name %in% x$Pair.Name,]"
   ]
  },
  {
   "cell_type": "code",
   "execution_count": 78,
   "id": "ebff2f9d",
   "metadata": {},
   "outputs": [],
   "source": [
    "# pre_dir[pre_dir$Pair.Name==\"CD74_CXCR4\",]"
   ]
  },
  {
   "cell_type": "code",
   "execution_count": 79,
   "id": "882c3198",
   "metadata": {},
   "outputs": [],
   "source": [
    "# reversed[reversed$Pair.Name==\"CD74_CXCR4\",]"
   ]
  },
  {
   "cell_type": "code",
   "execution_count": 80,
   "id": "2ab1a684",
   "metadata": {},
   "outputs": [],
   "source": [
    "# reversed[reversed$Pair.Name==\"CD74_CXCR4\",]$consensus_direction"
   ]
  },
  {
   "cell_type": "code",
   "execution_count": 81,
   "id": "5dfc2940",
   "metadata": {},
   "outputs": [],
   "source": [
    "# non_curated[non_curated$pair==\"CD74_CXCR4\",]"
   ]
  },
  {
   "cell_type": "markdown",
   "id": "3a791700",
   "metadata": {},
   "source": [
    "Difference is coming from complexes molecules. Pair of complex molecule can be found in the non_curated or curated_db. and the pair annotation for direction might differ. In this case, we are taking the complex molecule annotations.\n",
    "\n",
    "example: CD74_CXCR4 pair is not in dir. \n",
    "\n",
    "check\n",
    "```R\n",
    "reversed[reversed$Pair.Name==\"CD74_CXCR4\",]$consensus_direction\n",
    "```\n",
    "and\n",
    "```R\n",
    "non_curated[non_curated$pair==\"CD74_CXCR4\",]\n",
    "```"
   ]
  },
  {
   "cell_type": "code",
   "execution_count": 82,
   "id": "6be00d9c",
   "metadata": {},
   "outputs": [],
   "source": [
    "# Subset the subset_lr data frame to only include rows where the consensus_direction column is 0\n",
    "no_dir <- reversed %>% filter(Pair.Name %in% reversed$dup & consensus_direction == 0)"
   ]
  },
  {
   "cell_type": "code",
   "execution_count": 83,
   "id": "693a5358",
   "metadata": {},
   "outputs": [],
   "source": [
    "#no_dir 291"
   ]
  },
  {
   "cell_type": "code",
   "execution_count": 84,
   "id": "0f862999",
   "metadata": {},
   "outputs": [
    {
     "data": {
      "text/html": [
       "342"
      ],
      "text/latex": [
       "342"
      ],
      "text/markdown": [
       "342"
      ],
      "text/plain": [
       "[1] 342"
      ]
     },
     "metadata": {},
     "output_type": "display_data"
    }
   ],
   "source": [
    "nrow(no_dir) + nrow(dir)"
   ]
  },
  {
   "cell_type": "code",
   "execution_count": 85,
   "id": "a7f6cc3f",
   "metadata": {},
   "outputs": [
    {
     "data": {
      "text/html": [
       "TRUE"
      ],
      "text/latex": [
       "TRUE"
      ],
      "text/markdown": [
       "TRUE"
      ],
      "text/plain": [
       "[1] TRUE"
      ]
     },
     "metadata": {},
     "output_type": "display_data"
    }
   ],
   "source": [
    "\"CD80_CTLA4\" %in% dir$Pair.Name"
   ]
  },
  {
   "cell_type": "code",
   "execution_count": 86,
   "id": "bd7c4232",
   "metadata": {},
   "outputs": [
    {
     "data": {
      "text/html": [
       "TRUE"
      ],
      "text/latex": [
       "TRUE"
      ],
      "text/markdown": [
       "TRUE"
      ],
      "text/plain": [
       "[1] TRUE"
      ]
     },
     "metadata": {},
     "output_type": "display_data"
    }
   ],
   "source": [
    "\"CTLA4_CD80\" %in% no_dir$Pair.Name"
   ]
  },
  {
   "cell_type": "code",
   "execution_count": null,
   "id": "0a298484",
   "metadata": {},
   "outputs": [],
   "source": []
  },
  {
   "cell_type": "code",
   "execution_count": 87,
   "id": "a92abd0d",
   "metadata": {},
   "outputs": [],
   "source": [
    "# Remove rows from no_dir where the pair is already present in dir\n",
    "in_dir <- dir[dir$dup %in% no_dir$Pair.Name,] \n",
    "no_dir <- no_dir[!no_dir$dup %in% in_dir$Pair.Name,  ] #removal of those in dir below is rm of nodir"
   ]
  },
  {
   "cell_type": "code",
   "execution_count": 88,
   "id": "420d46ea",
   "metadata": {},
   "outputs": [],
   "source": [
    "dir <- dir[!dir$Pair.Name %in% in_dir$Pair.Name,]"
   ]
  },
  {
   "cell_type": "code",
   "execution_count": 89,
   "id": "961bb4b4",
   "metadata": {},
   "outputs": [
    {
     "data": {
      "text/html": [
       "299"
      ],
      "text/latex": [
       "299"
      ],
      "text/markdown": [
       "299"
      ],
      "text/plain": [
       "[1] 299"
      ]
     },
     "metadata": {},
     "output_type": "display_data"
    }
   ],
   "source": [
    "nrow(in_dir) + nrow(dir) + nrow(no_dir)"
   ]
  },
  {
   "cell_type": "code",
   "execution_count": 90,
   "id": "22c0d9b7",
   "metadata": {},
   "outputs": [
    {
     "data": {
      "text/html": [
       "FALSE"
      ],
      "text/latex": [
       "FALSE"
      ],
      "text/markdown": [
       "FALSE"
      ],
      "text/plain": [
       "[1] FALSE"
      ]
     },
     "metadata": {},
     "output_type": "display_data"
    }
   ],
   "source": [
    "\"CD80_CTLA4\" %in% dir$Pair.Name"
   ]
  },
  {
   "cell_type": "code",
   "execution_count": 91,
   "id": "9998deea",
   "metadata": {},
   "outputs": [
    {
     "data": {
      "text/html": [
       "FALSE"
      ],
      "text/latex": [
       "FALSE"
      ],
      "text/markdown": [
       "FALSE"
      ],
      "text/plain": [
       "[1] FALSE"
      ]
     },
     "metadata": {},
     "output_type": "display_data"
    }
   ],
   "source": [
    "\"CTLA4_CD80\" %in% no_dir$Pair.Name"
   ]
  },
  {
   "cell_type": "code",
   "execution_count": 92,
   "id": "9bd2aff9",
   "metadata": {},
   "outputs": [
    {
     "data": {
      "text/html": [
       "TRUE"
      ],
      "text/latex": [
       "TRUE"
      ],
      "text/markdown": [
       "TRUE"
      ],
      "text/plain": [
       "[1] TRUE"
      ]
     },
     "metadata": {},
     "output_type": "display_data"
    }
   ],
   "source": [
    "\"CD80_CTLA4\" %in% in_dir$Pair.Name"
   ]
  },
  {
   "cell_type": "code",
   "execution_count": 93,
   "id": "068e9ea4",
   "metadata": {},
   "outputs": [
    {
     "data": {
      "text/html": [
       "248"
      ],
      "text/latex": [
       "248"
      ],
      "text/markdown": [
       "248"
      ],
      "text/plain": [
       "[1] 248"
      ]
     },
     "metadata": {},
     "output_type": "display_data"
    }
   ],
   "source": [
    "nrow(no_dir)"
   ]
  },
  {
   "cell_type": "code",
   "execution_count": 94,
   "id": "46322f97",
   "metadata": {},
   "outputs": [],
   "source": [
    "# remove the interactions where receptor is annotated as ligand\n",
    "wrong_lig <- no_dir[no_dir$Receptor %in% ligand,]\n",
    "correct_lig <- no_dir[no_dir$dup %in% wrong_lig$Pair.Name,]\n",
    "no_dir <- no_dir[!no_dir$Pair.Name %in% c(wrong_lig$Pair.Name, correct_lig$Pair.Name),]"
   ]
  },
  {
   "cell_type": "code",
   "execution_count": 95,
   "id": "71738e58",
   "metadata": {},
   "outputs": [],
   "source": [
    "wrong_rec <- no_dir[no_dir$Ligand %in% receptor,]\n",
    "wrong_rec <- wrong_rec[!wrong_rec$Pair.Name %in% wrong_rec$dup,]"
   ]
  },
  {
   "cell_type": "code",
   "execution_count": 96,
   "id": "ee8b5dce",
   "metadata": {},
   "outputs": [],
   "source": [
    "# remove the interactions where receptor is annotated as ligand\n",
    "wrong_rec <- no_dir[no_dir$Ligand %in% receptor,]\n",
    "wrong_rec <- wrong_rec[!wrong_rec$Pair.Name %in% wrong_rec$dup,]\n",
    "correct_rec <- no_dir[no_dir$dup %in% wrong_rec$Pair.Name,]\n",
    "no_dir <- no_dir[!no_dir$Pair.Name %in% c(wrong_rec$Pair.Name, correct_rec$Pair.Name),]"
   ]
  },
  {
   "cell_type": "code",
   "execution_count": 97,
   "id": "3b2b6171",
   "metadata": {},
   "outputs": [
    {
     "data": {
      "text/html": [
       "114"
      ],
      "text/latex": [
       "114"
      ],
      "text/markdown": [
       "114"
      ],
      "text/plain": [
       "[1] 114"
      ]
     },
     "metadata": {},
     "output_type": "display_data"
    }
   ],
   "source": [
    "nrow(no_dir)"
   ]
  },
  {
   "cell_type": "code",
   "execution_count": 98,
   "id": "7d37bebb",
   "metadata": {},
   "outputs": [],
   "source": [
    "# Function to lexographically sort the gene pairs\n",
    "sort_pairs <- function(pair) {\n",
    "  parts <- strsplit(pair, \"_\")[[1]]\n",
    "  sorted_parts <- sort(parts)\n",
    "  return(paste(sorted_parts, collapse = \"_\"))\n",
    "}"
   ]
  },
  {
   "cell_type": "code",
   "execution_count": 99,
   "id": "a0874915",
   "metadata": {},
   "outputs": [],
   "source": [
    "no_dir <- no_dir[order( no_dir[,2], no_dir[,4] ),]"
   ]
  },
  {
   "cell_type": "code",
   "execution_count": 100,
   "id": "d8b2ad88",
   "metadata": {},
   "outputs": [],
   "source": [
    "no_dir$sort <- sapply(no_dir$Pair.Name, sort_pairs)"
   ]
  },
  {
   "cell_type": "code",
   "execution_count": 103,
   "id": "f8128b94",
   "metadata": {},
   "outputs": [],
   "source": [
    "no_dir <- no_dir %>% distinct(sort, .keep_all = TRUE)"
   ]
  },
  {
   "cell_type": "code",
   "execution_count": 104,
   "id": "537c8b90",
   "metadata": {},
   "outputs": [],
   "source": [
    "no_dir$sort <- NULL"
   ]
  },
  {
   "cell_type": "code",
   "execution_count": 106,
   "id": "5da32f3a",
   "metadata": {},
   "outputs": [],
   "source": [
    "# some of the swapped duplicates are both directional, for this one, we also keep the lexograph order\n",
    "dir <- dir[order( dir[,2], dir[,4] ),]\n",
    "\n",
    "dir$sort <- sapply(dir$Pair.Name, sort_pairs)\n",
    "\n",
    "dir <- dir %>% distinct(sort, .keep_all = TRUE)\n",
    "\n",
    "dir$sort <- NULL"
   ]
  },
  {
   "cell_type": "code",
   "execution_count": null,
   "id": "c3838e93",
   "metadata": {},
   "outputs": [],
   "source": []
  },
  {
   "cell_type": "code",
   "execution_count": 108,
   "id": "94c99cb8",
   "metadata": {},
   "outputs": [
    {
     "data": {
      "text/html": [
       "FALSE"
      ],
      "text/latex": [
       "FALSE"
      ],
      "text/markdown": [
       "FALSE"
      ],
      "text/plain": [
       "[1] FALSE"
      ]
     },
     "metadata": {},
     "output_type": "display_data"
    }
   ],
   "source": [
    "\"IL1RAP_IL1R1\" %in% dir$Pair.Name"
   ]
  },
  {
   "cell_type": "code",
   "execution_count": 109,
   "id": "b579c4f7",
   "metadata": {},
   "outputs": [
    {
     "data": {
      "text/html": [
       "TRUE"
      ],
      "text/latex": [
       "TRUE"
      ],
      "text/markdown": [
       "TRUE"
      ],
      "text/plain": [
       "[1] TRUE"
      ]
     },
     "metadata": {},
     "output_type": "display_data"
    }
   ],
   "source": [
    "\"IL1R1_IL1RAP\" %in% dir$Pair.Name"
   ]
  },
  {
   "cell_type": "code",
   "execution_count": 110,
   "id": "b46abb96",
   "metadata": {},
   "outputs": [],
   "source": [
    "# dir <- dir[duplicated(dir$Pair.Name, fromLast = TRUE),]\n",
    "# dir$Pair.Name <- paste(dir$Ligand, dir$Receptor, sep=\"_\")"
   ]
  },
  {
   "cell_type": "code",
   "execution_count": 111,
   "id": "425a2090",
   "metadata": {},
   "outputs": [],
   "source": [
    "# Combine the dir and no_dir_df data frames\n",
    "subset_lr <- rbind(dir,no_dir,in_dir,correct_lig,correct_rec)"
   ]
  },
  {
   "cell_type": "code",
   "execution_count": 112,
   "id": "6b8f7523",
   "metadata": {},
   "outputs": [],
   "source": [
    "subset_lr[\"True_LR\"] <- FALSE"
   ]
  },
  {
   "cell_type": "code",
   "execution_count": 113,
   "id": "806fb902",
   "metadata": {},
   "outputs": [],
   "source": [
    "# Add the remaining rows of LR_database to subset_lr\n",
    "adhesive_DB <- rbind(subset_lr,adhesive_DB)"
   ]
  },
  {
   "cell_type": "code",
   "execution_count": 114,
   "id": "ac952dcd",
   "metadata": {},
   "outputs": [],
   "source": [
    "LR_database <- rbind(true_LR_DB, adhesive_DB)"
   ]
  },
  {
   "cell_type": "code",
   "execution_count": 115,
   "id": "f6b78689",
   "metadata": {},
   "outputs": [],
   "source": [
    "LR_database$Pair.Name <- paste(LR_database$Ligand, LR_database$Receptor, sep = \"_\")\n",
    "LR_database$dup <- paste(LR_database$Receptor, LR_database$Ligand, sep = \"_\")"
   ]
  },
  {
   "cell_type": "code",
   "execution_count": 116,
   "id": "cdaf5863",
   "metadata": {},
   "outputs": [
    {
     "name": "stderr",
     "output_type": "stream",
     "text": [
      "Warning message in cbind(parts$left, ellip_h, parts$right, deparse.level = 0L):\n",
      "“number of rows of result is not a multiple of vector length (arg 2)”\n",
      "Warning message in cbind(parts$left, ellip_h, parts$right, deparse.level = 0L):\n",
      "“number of rows of result is not a multiple of vector length (arg 2)”\n",
      "Warning message in cbind(parts$left, ellip_h, parts$right, deparse.level = 0L):\n",
      "“number of rows of result is not a multiple of vector length (arg 2)”\n",
      "Warning message in cbind(parts$left, ellip_h, parts$right, deparse.level = 0L):\n",
      "“number of rows of result is not a multiple of vector length (arg 2)”\n"
     ]
    },
    {
     "data": {
      "text/html": [
       "<table class=\"dataframe\">\n",
       "<caption>A data.frame: 0 × 22</caption>\n",
       "<thead>\n",
       "\t<tr><th scope=col>Pair.Name</th><th scope=col>Ligand</th><th scope=col>Ligand.Name</th><th scope=col>Receptor</th><th scope=col>Receptor.Name</th><th scope=col>complex_pair</th><th scope=col>source</th><th scope=col>target</th><th scope=col>is_directed</th><th scope=col>is_stimulation</th><th scope=col>⋯</th><th scope=col>consensus_stimulation</th><th scope=col>consensus_inhibition</th><th scope=col>sources</th><th scope=col>references</th><th scope=col>curation_effort</th><th scope=col>n_references</th><th scope=col>n_resources</th><th scope=col>annotation_strategy</th><th scope=col>dup</th><th scope=col>True_LR</th></tr>\n",
       "\t<tr><th scope=col>&lt;chr&gt;</th><th scope=col>&lt;chr&gt;</th><th scope=col>&lt;chr&gt;</th><th scope=col>&lt;chr&gt;</th><th scope=col>&lt;chr&gt;</th><th scope=col>&lt;chr&gt;</th><th scope=col>&lt;chr&gt;</th><th scope=col>&lt;chr&gt;</th><th scope=col>&lt;dbl&gt;</th><th scope=col>&lt;dbl&gt;</th><th scope=col>⋯</th><th scope=col>&lt;dbl&gt;</th><th scope=col>&lt;dbl&gt;</th><th scope=col>&lt;chr&gt;</th><th scope=col>&lt;chr&gt;</th><th scope=col>&lt;dbl&gt;</th><th scope=col>&lt;dbl&gt;</th><th scope=col>&lt;int&gt;</th><th scope=col>&lt;chr&gt;</th><th scope=col>&lt;chr&gt;</th><th scope=col>&lt;lgl&gt;</th></tr>\n",
       "</thead>\n",
       "<tbody>\n",
       "</tbody>\n",
       "</table>\n"
      ],
      "text/latex": [
       "A data.frame: 0 × 22\n",
       "\\begin{tabular}{lllllllllllllllllllll}\n",
       " Pair.Name & Ligand & Ligand.Name & Receptor & Receptor.Name & complex\\_pair & source & target & is\\_directed & is\\_stimulation & ⋯ & consensus\\_stimulation & consensus\\_inhibition & sources & references & curation\\_effort & n\\_references & n\\_resources & annotation\\_strategy & dup & True\\_LR\\\\\n",
       " <chr> & <chr> & <chr> & <chr> & <chr> & <chr> & <chr> & <chr> & <dbl> & <dbl> & ⋯ & <dbl> & <dbl> & <chr> & <chr> & <dbl> & <dbl> & <int> & <chr> & <chr> & <lgl>\\\\\n",
       "\\hline\n",
       "\\end{tabular}\n"
      ],
      "text/markdown": [
       "\n",
       "A data.frame: 0 × 22\n",
       "\n",
       "| Pair.Name &lt;chr&gt; | Ligand &lt;chr&gt; | Ligand.Name &lt;chr&gt; | Receptor &lt;chr&gt; | Receptor.Name &lt;chr&gt; | complex_pair &lt;chr&gt; | source &lt;chr&gt; | target &lt;chr&gt; | is_directed &lt;dbl&gt; | is_stimulation &lt;dbl&gt; | ⋯ ⋯ | consensus_stimulation &lt;dbl&gt; | consensus_inhibition &lt;dbl&gt; | sources &lt;chr&gt; | references &lt;chr&gt; | curation_effort &lt;dbl&gt; | n_references &lt;dbl&gt; | n_resources &lt;int&gt; | annotation_strategy &lt;chr&gt; | dup &lt;chr&gt; | True_LR &lt;lgl&gt; |\n",
       "|---|---|---|---|---|---|---|---|---|---|---|---|---|---|---|---|---|---|---|---|---|\n",
       "\n"
      ],
      "text/plain": [
       "     Pair.Name Ligand Ligand.Name Receptor Receptor.Name complex_pair source\n",
       "     target is_directed is_stimulation ⋯ consensus_stimulation\n",
       "     consensus_inhibition sources references curation_effort n_references\n",
       "     n_resources annotation_strategy dup True_LR"
      ]
     },
     "metadata": {},
     "output_type": "display_data"
    }
   ],
   "source": [
    "LR_database[LR_database$Pair.Name %in% LR_database$dup,]"
   ]
  },
  {
   "cell_type": "code",
   "execution_count": null,
   "id": "8f03316c",
   "metadata": {},
   "outputs": [],
   "source": []
  },
  {
   "cell_type": "code",
   "execution_count": 117,
   "id": "81add0af",
   "metadata": {},
   "outputs": [
    {
     "data": {
      "text/html": [
       "<style>\n",
       ".list-inline {list-style: none; margin:0; padding: 0}\n",
       ".list-inline>li {display: inline-block}\n",
       ".list-inline>li:not(:last-child)::after {content: \"\\00b7\"; padding: 0 .5ex}\n",
       "</style>\n",
       "<ol class=list-inline><li>'Pair.Name'</li><li>'Ligand'</li><li>'Ligand.Name'</li><li>'Receptor'</li><li>'Receptor.Name'</li><li>'complex_pair'</li><li>'source'</li><li>'target'</li><li>'is_directed'</li><li>'is_stimulation'</li><li>'is_inhibition'</li><li>'consensus_direction'</li><li>'consensus_stimulation'</li><li>'consensus_inhibition'</li><li>'sources'</li><li>'references'</li><li>'curation_effort'</li><li>'n_references'</li><li>'n_resources'</li><li>'annotation_strategy'</li><li>'dup'</li><li>'True_LR'</li></ol>\n"
      ],
      "text/latex": [
       "\\begin{enumerate*}\n",
       "\\item 'Pair.Name'\n",
       "\\item 'Ligand'\n",
       "\\item 'Ligand.Name'\n",
       "\\item 'Receptor'\n",
       "\\item 'Receptor.Name'\n",
       "\\item 'complex\\_pair'\n",
       "\\item 'source'\n",
       "\\item 'target'\n",
       "\\item 'is\\_directed'\n",
       "\\item 'is\\_stimulation'\n",
       "\\item 'is\\_inhibition'\n",
       "\\item 'consensus\\_direction'\n",
       "\\item 'consensus\\_stimulation'\n",
       "\\item 'consensus\\_inhibition'\n",
       "\\item 'sources'\n",
       "\\item 'references'\n",
       "\\item 'curation\\_effort'\n",
       "\\item 'n\\_references'\n",
       "\\item 'n\\_resources'\n",
       "\\item 'annotation\\_strategy'\n",
       "\\item 'dup'\n",
       "\\item 'True\\_LR'\n",
       "\\end{enumerate*}\n"
      ],
      "text/markdown": [
       "1. 'Pair.Name'\n",
       "2. 'Ligand'\n",
       "3. 'Ligand.Name'\n",
       "4. 'Receptor'\n",
       "5. 'Receptor.Name'\n",
       "6. 'complex_pair'\n",
       "7. 'source'\n",
       "8. 'target'\n",
       "9. 'is_directed'\n",
       "10. 'is_stimulation'\n",
       "11. 'is_inhibition'\n",
       "12. 'consensus_direction'\n",
       "13. 'consensus_stimulation'\n",
       "14. 'consensus_inhibition'\n",
       "15. 'sources'\n",
       "16. 'references'\n",
       "17. 'curation_effort'\n",
       "18. 'n_references'\n",
       "19. 'n_resources'\n",
       "20. 'annotation_strategy'\n",
       "21. 'dup'\n",
       "22. 'True_LR'\n",
       "\n",
       "\n"
      ],
      "text/plain": [
       " [1] \"Pair.Name\"             \"Ligand\"                \"Ligand.Name\"          \n",
       " [4] \"Receptor\"              \"Receptor.Name\"         \"complex_pair\"         \n",
       " [7] \"source\"                \"target\"                \"is_directed\"          \n",
       "[10] \"is_stimulation\"        \"is_inhibition\"         \"consensus_direction\"  \n",
       "[13] \"consensus_stimulation\" \"consensus_inhibition\"  \"sources\"              \n",
       "[16] \"references\"            \"curation_effort\"       \"n_references\"         \n",
       "[19] \"n_resources\"           \"annotation_strategy\"   \"dup\"                  \n",
       "[22] \"True_LR\"              "
      ]
     },
     "metadata": {},
     "output_type": "display_data"
    }
   ],
   "source": [
    "colnames(LR_database)"
   ]
  },
  {
   "cell_type": "code",
   "execution_count": 118,
   "id": "2a3e66b5",
   "metadata": {},
   "outputs": [],
   "source": [
    "LR_database$dup <- NULL"
   ]
  },
  {
   "cell_type": "code",
   "execution_count": 121,
   "id": "dfa538b4",
   "metadata": {},
   "outputs": [],
   "source": [
    "post_LR <- LR_database"
   ]
  },
  {
   "cell_type": "code",
   "execution_count": null,
   "id": "de5107e7",
   "metadata": {},
   "outputs": [],
   "source": []
  },
  {
   "cell_type": "code",
   "execution_count": 122,
   "id": "e7a684c4",
   "metadata": {},
   "outputs": [],
   "source": [
    "library(community)"
   ]
  },
  {
   "cell_type": "code",
   "execution_count": 123,
   "id": "6ffe19c8",
   "metadata": {},
   "outputs": [],
   "source": [
    "data(LR_database)"
   ]
  },
  {
   "cell_type": "code",
   "execution_count": 127,
   "id": "c0cfb72b",
   "metadata": {},
   "outputs": [
    {
     "data": {
      "text/html": [
       "<table class=\"dataframe\">\n",
       "<caption>A data.frame: 6 × 26</caption>\n",
       "<thead>\n",
       "\t<tr><th></th><th scope=col>Pair.Name</th><th scope=col>Ligand</th><th scope=col>Ligand.Name</th><th scope=col>Receptor</th><th scope=col>Receptor.Name</th><th scope=col>complex_pair</th><th scope=col>partner_a</th><th scope=col>partner_b</th><th scope=col>source</th><th scope=col>target</th><th scope=col>⋯</th><th scope=col>consensus_stimulation</th><th scope=col>consensus_inhibition</th><th scope=col>sources</th><th scope=col>references</th><th scope=col>curation_effort</th><th scope=col>n_references</th><th scope=col>n_resources</th><th scope=col>annotation_strategy</th><th scope=col>db</th><th scope=col>True_LR</th></tr>\n",
       "\t<tr><th></th><th scope=col>&lt;chr&gt;</th><th scope=col>&lt;chr&gt;</th><th scope=col>&lt;chr&gt;</th><th scope=col>&lt;chr&gt;</th><th scope=col>&lt;chr&gt;</th><th scope=col>&lt;chr&gt;</th><th scope=col>&lt;chr&gt;</th><th scope=col>&lt;chr&gt;</th><th scope=col>&lt;chr&gt;</th><th scope=col>&lt;chr&gt;</th><th scope=col>⋯</th><th scope=col>&lt;dbl&gt;</th><th scope=col>&lt;dbl&gt;</th><th scope=col>&lt;chr&gt;</th><th scope=col>&lt;chr&gt;</th><th scope=col>&lt;dbl&gt;</th><th scope=col>&lt;dbl&gt;</th><th scope=col>&lt;int&gt;</th><th scope=col>&lt;chr&gt;</th><th scope=col>&lt;chr&gt;</th><th scope=col>&lt;lgl&gt;</th></tr>\n",
       "</thead>\n",
       "<tbody>\n",
       "\t<tr><th scope=row>21000</th><td>ACVRL1_ACVR2A</td><td>ACVRL1</td><td>activin A receptor like type 1                </td><td>ACVR2A</td><td>activin A receptor type 2A                </td><td>BMP10_ACVR2A_ACVRL1</td><td>P37023</td><td>P27037</td><td>P37023</td><td>P27037               </td><td>⋯</td><td>0</td><td>0</td><td>Cellinker;DIP;HPRD;Wang                                                                                                                                                                                                                                                             </td><td>Cellinker:30761306;DIP:10187774;DIP:8612709;HPRD:10187774                                                                                                                                                                                                                                                                                                                                                            </td><td> 4</td><td>3</td><td> 4</td><td>LR</td><td>both</td><td>FALSE</td></tr>\n",
       "\t<tr><th scope=row>11100</th><td>BMPR1B_AMHR2 </td><td>BMPR1B</td><td>bone morphogenetic protein receptor type 1B   </td><td>AMHR2 </td><td>anti-Mullerian hormone receptor type 2    </td><td>AMH_AMHR2_BMPR1B   </td><td>O00238</td><td>Q16671</td><td>P03971</td><td>COMPLEX:O00238_Q16671</td><td>⋯</td><td>0</td><td>0</td><td>CellPhoneDB;CellPhoneDB_Cellinker;Cellinker                                                                                                                                                                                                                                         </td><td>CellPhoneDB:22710174;Cellinker:22710174                                                                                                                                                                                                                                                                                                                                                                              </td><td> 2</td><td>1</td><td> 2</td><td>LR</td><td>both</td><td>FALSE</td></tr>\n",
       "\t<tr><th scope=row>13111</th><td>ERBB4_EGFR   </td><td>ERBB4 </td><td>erb-b2 receptor tyrosine kinase 4             </td><td>EGFR  </td><td>epidermal growth factor receptor          </td><td>EGF_EGFR_ERBB4     </td><td>Q15303</td><td>P00533</td><td>P01133</td><td>COMPLEX:P00533_Q15303</td><td>⋯</td><td>0</td><td>0</td><td>Cellinker                                                                                                                                                                                                                                                                           </td><td>Cellinker:24269963                                                                                                                                                                                                                                                                                                                                                                                                   </td><td> 1</td><td>1</td><td> 1</td><td>LR</td><td>both</td><td>FALSE</td></tr>\n",
       "\t<tr><th scope=row>14911</th><td>LCK_CD8B     </td><td>LCK   </td><td>LCK proto-oncogene, Src family tyrosine kinase</td><td>CD8B  </td><td>CD8 subunit beta                          </td><td>LCK_CD8A_CD8B      </td><td>P06239</td><td>P10966</td><td>P06239</td><td>COMPLEX:P01732_P10966</td><td>⋯</td><td>0</td><td>0</td><td>CellChatDB;CellPhoneDB;Cellinker                                                                                                                                                                                                                                                    </td><td>CellChatDB:25427562;Cellinker:25427562                                                                                                                                                                                                                                                                                                                                                                               </td><td> 2</td><td>1</td><td> 3</td><td>LR</td><td>both</td><td>FALSE</td></tr>\n",
       "\t<tr><th scope=row>5112</th><td>SEMA4D_PLXNB1</td><td>SEMA4D</td><td>semaphorin 4D                                 </td><td>PLXNB1</td><td>plexin B1                                 </td><td>SEMA4D_MET_PLXNB1  </td><td>Q92854</td><td>O43157</td><td>Q92854</td><td>O43157               </td><td>⋯</td><td>1</td><td>0</td><td>Baccin2019;CellChatDB;CellPhoneDB_Cellinker;CellTalkDB;Cellinker;DIP;EMBRACE;Fantom5_LRdb;HPMR;HPMR_Cellinker;HPMR_LRdb;HPMR_talklr;HPRD;HPRD_LRdb;HPRD_talklr;ICELLNET;IntAct;LRdb;Ramilowski2015;Ramilowski2015_Baccin2019;SIGNOR;STRING_talklr;Wang;connectomeDB2020;iTALK;talklr</td><td>Baccin2019:10520995;Baccin2019:11937491;Baccin2019:12198496;CellChatDB:27533782;CellTalkDB:10520995;Cellinker:10520995;Cellinker:11937491;Cellinker:12198496;Cellinker:24043639;Cellinker:27533782;DIP:20877282;HPMR:10520995;HPRD:11937491;ICELLNET:11245885;IntAct:20877282;LRdb:10520995;LRdb:11937491;LRdb:12198496;SIGNOR:12198496;connectomeDB2020:10520995;connectomeDB2020:11937491;connectomeDB2020:12198496</td><td>22</td><td>7</td><td>17</td><td>LR</td><td>both</td><td>FALSE</td></tr>\n",
       "\t<tr><th scope=row>5310</th><td>TGFBR2_TGFBR1</td><td>TGFBR2</td><td>transforming growth factor beta receptor 2    </td><td>TGFBR1</td><td>transforming growth factor beta receptor 1</td><td>TGFB1_TGFBR1_TGFBR2</td><td>P37173</td><td>P36897</td><td>P01137</td><td>COMPLEX:P36897_P37173</td><td>⋯</td><td>1</td><td>0</td><td>CellChatDB;CellPhoneDB;ICELLNET;KEGG-MEDICUS                                                                                                                                                                                                                                        </td><td>ICELLNET:1333888;ICELLNET:7693660;ICELLNET:8242743                                                                                                                                                                                                                                                                                                                                                                   </td><td> 3</td><td>3</td><td> 4</td><td>LR</td><td>both</td><td>FALSE</td></tr>\n",
       "</tbody>\n",
       "</table>\n"
      ],
      "text/latex": [
       "A data.frame: 6 × 26\n",
       "\\begin{tabular}{r|lllllllllllllllllllll}\n",
       "  & Pair.Name & Ligand & Ligand.Name & Receptor & Receptor.Name & complex\\_pair & partner\\_a & partner\\_b & source & target & ⋯ & consensus\\_stimulation & consensus\\_inhibition & sources & references & curation\\_effort & n\\_references & n\\_resources & annotation\\_strategy & db & True\\_LR\\\\\n",
       "  & <chr> & <chr> & <chr> & <chr> & <chr> & <chr> & <chr> & <chr> & <chr> & <chr> & ⋯ & <dbl> & <dbl> & <chr> & <chr> & <dbl> & <dbl> & <int> & <chr> & <chr> & <lgl>\\\\\n",
       "\\hline\n",
       "\t21000 & ACVRL1\\_ACVR2A & ACVRL1 & activin A receptor like type 1                 & ACVR2A & activin A receptor type 2A                 & BMP10\\_ACVR2A\\_ACVRL1 & P37023 & P27037 & P37023 & P27037                & ⋯ & 0 & 0 & Cellinker;DIP;HPRD;Wang                                                                                                                                                                                                                                                              & Cellinker:30761306;DIP:10187774;DIP:8612709;HPRD:10187774                                                                                                                                                                                                                                                                                                                                                             &  4 & 3 &  4 & LR & both & FALSE\\\\\n",
       "\t11100 & BMPR1B\\_AMHR2  & BMPR1B & bone morphogenetic protein receptor type 1B    & AMHR2  & anti-Mullerian hormone receptor type 2     & AMH\\_AMHR2\\_BMPR1B    & O00238 & Q16671 & P03971 & COMPLEX:O00238\\_Q16671 & ⋯ & 0 & 0 & CellPhoneDB;CellPhoneDB\\_Cellinker;Cellinker                                                                                                                                                                                                                                          & CellPhoneDB:22710174;Cellinker:22710174                                                                                                                                                                                                                                                                                                                                                                               &  2 & 1 &  2 & LR & both & FALSE\\\\\n",
       "\t13111 & ERBB4\\_EGFR    & ERBB4  & erb-b2 receptor tyrosine kinase 4              & EGFR   & epidermal growth factor receptor           & EGF\\_EGFR\\_ERBB4      & Q15303 & P00533 & P01133 & COMPLEX:P00533\\_Q15303 & ⋯ & 0 & 0 & Cellinker                                                                                                                                                                                                                                                                            & Cellinker:24269963                                                                                                                                                                                                                                                                                                                                                                                                    &  1 & 1 &  1 & LR & both & FALSE\\\\\n",
       "\t14911 & LCK\\_CD8B      & LCK    & LCK proto-oncogene, Src family tyrosine kinase & CD8B   & CD8 subunit beta                           & LCK\\_CD8A\\_CD8B       & P06239 & P10966 & P06239 & COMPLEX:P01732\\_P10966 & ⋯ & 0 & 0 & CellChatDB;CellPhoneDB;Cellinker                                                                                                                                                                                                                                                     & CellChatDB:25427562;Cellinker:25427562                                                                                                                                                                                                                                                                                                                                                                                &  2 & 1 &  3 & LR & both & FALSE\\\\\n",
       "\t5112 & SEMA4D\\_PLXNB1 & SEMA4D & semaphorin 4D                                  & PLXNB1 & plexin B1                                  & SEMA4D\\_MET\\_PLXNB1   & Q92854 & O43157 & Q92854 & O43157                & ⋯ & 1 & 0 & Baccin2019;CellChatDB;CellPhoneDB\\_Cellinker;CellTalkDB;Cellinker;DIP;EMBRACE;Fantom5\\_LRdb;HPMR;HPMR\\_Cellinker;HPMR\\_LRdb;HPMR\\_talklr;HPRD;HPRD\\_LRdb;HPRD\\_talklr;ICELLNET;IntAct;LRdb;Ramilowski2015;Ramilowski2015\\_Baccin2019;SIGNOR;STRING\\_talklr;Wang;connectomeDB2020;iTALK;talklr & Baccin2019:10520995;Baccin2019:11937491;Baccin2019:12198496;CellChatDB:27533782;CellTalkDB:10520995;Cellinker:10520995;Cellinker:11937491;Cellinker:12198496;Cellinker:24043639;Cellinker:27533782;DIP:20877282;HPMR:10520995;HPRD:11937491;ICELLNET:11245885;IntAct:20877282;LRdb:10520995;LRdb:11937491;LRdb:12198496;SIGNOR:12198496;connectomeDB2020:10520995;connectomeDB2020:11937491;connectomeDB2020:12198496 & 22 & 7 & 17 & LR & both & FALSE\\\\\n",
       "\t5310 & TGFBR2\\_TGFBR1 & TGFBR2 & transforming growth factor beta receptor 2     & TGFBR1 & transforming growth factor beta receptor 1 & TGFB1\\_TGFBR1\\_TGFBR2 & P37173 & P36897 & P01137 & COMPLEX:P36897\\_P37173 & ⋯ & 1 & 0 & CellChatDB;CellPhoneDB;ICELLNET;KEGG-MEDICUS                                                                                                                                                                                                                                         & ICELLNET:1333888;ICELLNET:7693660;ICELLNET:8242743                                                                                                                                                                                                                                                                                                                                                                    &  3 & 3 &  4 & LR & both & FALSE\\\\\n",
       "\\end{tabular}\n"
      ],
      "text/markdown": [
       "\n",
       "A data.frame: 6 × 26\n",
       "\n",
       "| <!--/--> | Pair.Name &lt;chr&gt; | Ligand &lt;chr&gt; | Ligand.Name &lt;chr&gt; | Receptor &lt;chr&gt; | Receptor.Name &lt;chr&gt; | complex_pair &lt;chr&gt; | partner_a &lt;chr&gt; | partner_b &lt;chr&gt; | source &lt;chr&gt; | target &lt;chr&gt; | ⋯ ⋯ | consensus_stimulation &lt;dbl&gt; | consensus_inhibition &lt;dbl&gt; | sources &lt;chr&gt; | references &lt;chr&gt; | curation_effort &lt;dbl&gt; | n_references &lt;dbl&gt; | n_resources &lt;int&gt; | annotation_strategy &lt;chr&gt; | db &lt;chr&gt; | True_LR &lt;lgl&gt; |\n",
       "|---|---|---|---|---|---|---|---|---|---|---|---|---|---|---|---|---|---|---|---|---|---|\n",
       "| 21000 | ACVRL1_ACVR2A | ACVRL1 | activin A receptor like type 1                 | ACVR2A | activin A receptor type 2A                 | BMP10_ACVR2A_ACVRL1 | P37023 | P27037 | P37023 | P27037                | ⋯ | 0 | 0 | Cellinker;DIP;HPRD;Wang                                                                                                                                                                                                                                                              | Cellinker:30761306;DIP:10187774;DIP:8612709;HPRD:10187774                                                                                                                                                                                                                                                                                                                                                             |  4 | 3 |  4 | LR | both | FALSE |\n",
       "| 11100 | BMPR1B_AMHR2  | BMPR1B | bone morphogenetic protein receptor type 1B    | AMHR2  | anti-Mullerian hormone receptor type 2     | AMH_AMHR2_BMPR1B    | O00238 | Q16671 | P03971 | COMPLEX:O00238_Q16671 | ⋯ | 0 | 0 | CellPhoneDB;CellPhoneDB_Cellinker;Cellinker                                                                                                                                                                                                                                          | CellPhoneDB:22710174;Cellinker:22710174                                                                                                                                                                                                                                                                                                                                                                               |  2 | 1 |  2 | LR | both | FALSE |\n",
       "| 13111 | ERBB4_EGFR    | ERBB4  | erb-b2 receptor tyrosine kinase 4              | EGFR   | epidermal growth factor receptor           | EGF_EGFR_ERBB4      | Q15303 | P00533 | P01133 | COMPLEX:P00533_Q15303 | ⋯ | 0 | 0 | Cellinker                                                                                                                                                                                                                                                                            | Cellinker:24269963                                                                                                                                                                                                                                                                                                                                                                                                    |  1 | 1 |  1 | LR | both | FALSE |\n",
       "| 14911 | LCK_CD8B      | LCK    | LCK proto-oncogene, Src family tyrosine kinase | CD8B   | CD8 subunit beta                           | LCK_CD8A_CD8B       | P06239 | P10966 | P06239 | COMPLEX:P01732_P10966 | ⋯ | 0 | 0 | CellChatDB;CellPhoneDB;Cellinker                                                                                                                                                                                                                                                     | CellChatDB:25427562;Cellinker:25427562                                                                                                                                                                                                                                                                                                                                                                                |  2 | 1 |  3 | LR | both | FALSE |\n",
       "| 5112 | SEMA4D_PLXNB1 | SEMA4D | semaphorin 4D                                  | PLXNB1 | plexin B1                                  | SEMA4D_MET_PLXNB1   | Q92854 | O43157 | Q92854 | O43157                | ⋯ | 1 | 0 | Baccin2019;CellChatDB;CellPhoneDB_Cellinker;CellTalkDB;Cellinker;DIP;EMBRACE;Fantom5_LRdb;HPMR;HPMR_Cellinker;HPMR_LRdb;HPMR_talklr;HPRD;HPRD_LRdb;HPRD_talklr;ICELLNET;IntAct;LRdb;Ramilowski2015;Ramilowski2015_Baccin2019;SIGNOR;STRING_talklr;Wang;connectomeDB2020;iTALK;talklr | Baccin2019:10520995;Baccin2019:11937491;Baccin2019:12198496;CellChatDB:27533782;CellTalkDB:10520995;Cellinker:10520995;Cellinker:11937491;Cellinker:12198496;Cellinker:24043639;Cellinker:27533782;DIP:20877282;HPMR:10520995;HPRD:11937491;ICELLNET:11245885;IntAct:20877282;LRdb:10520995;LRdb:11937491;LRdb:12198496;SIGNOR:12198496;connectomeDB2020:10520995;connectomeDB2020:11937491;connectomeDB2020:12198496 | 22 | 7 | 17 | LR | both | FALSE |\n",
       "| 5310 | TGFBR2_TGFBR1 | TGFBR2 | transforming growth factor beta receptor 2     | TGFBR1 | transforming growth factor beta receptor 1 | TGFB1_TGFBR1_TGFBR2 | P37173 | P36897 | P01137 | COMPLEX:P36897_P37173 | ⋯ | 1 | 0 | CellChatDB;CellPhoneDB;ICELLNET;KEGG-MEDICUS                                                                                                                                                                                                                                         | ICELLNET:1333888;ICELLNET:7693660;ICELLNET:8242743                                                                                                                                                                                                                                                                                                                                                                    |  3 | 3 |  4 | LR | both | FALSE |\n",
       "\n"
      ],
      "text/plain": [
       "      Pair.Name     Ligand Ligand.Name                                   \n",
       "21000 ACVRL1_ACVR2A ACVRL1 activin A receptor like type 1                \n",
       "11100 BMPR1B_AMHR2  BMPR1B bone morphogenetic protein receptor type 1B   \n",
       "13111 ERBB4_EGFR    ERBB4  erb-b2 receptor tyrosine kinase 4             \n",
       "14911 LCK_CD8B      LCK    LCK proto-oncogene, Src family tyrosine kinase\n",
       "5112  SEMA4D_PLXNB1 SEMA4D semaphorin 4D                                 \n",
       "5310  TGFBR2_TGFBR1 TGFBR2 transforming growth factor beta receptor 2    \n",
       "      Receptor Receptor.Name                              complex_pair       \n",
       "21000 ACVR2A   activin A receptor type 2A                 BMP10_ACVR2A_ACVRL1\n",
       "11100 AMHR2    anti-Mullerian hormone receptor type 2     AMH_AMHR2_BMPR1B   \n",
       "13111 EGFR     epidermal growth factor receptor           EGF_EGFR_ERBB4     \n",
       "14911 CD8B     CD8 subunit beta                           LCK_CD8A_CD8B      \n",
       "5112  PLXNB1   plexin B1                                  SEMA4D_MET_PLXNB1  \n",
       "5310  TGFBR1   transforming growth factor beta receptor 1 TGFB1_TGFBR1_TGFBR2\n",
       "      partner_a partner_b source target                ⋯ consensus_stimulation\n",
       "21000 P37023    P27037    P37023 P27037                ⋯ 0                    \n",
       "11100 O00238    Q16671    P03971 COMPLEX:O00238_Q16671 ⋯ 0                    \n",
       "13111 Q15303    P00533    P01133 COMPLEX:P00533_Q15303 ⋯ 0                    \n",
       "14911 P06239    P10966    P06239 COMPLEX:P01732_P10966 ⋯ 0                    \n",
       "5112  Q92854    O43157    Q92854 O43157                ⋯ 1                    \n",
       "5310  P37173    P36897    P01137 COMPLEX:P36897_P37173 ⋯ 1                    \n",
       "      consensus_inhibition\n",
       "21000 0                   \n",
       "11100 0                   \n",
       "13111 0                   \n",
       "14911 0                   \n",
       "5112  0                   \n",
       "5310  0                   \n",
       "      sources                                                                                                                                                                                                                                                                             \n",
       "21000 Cellinker;DIP;HPRD;Wang                                                                                                                                                                                                                                                             \n",
       "11100 CellPhoneDB;CellPhoneDB_Cellinker;Cellinker                                                                                                                                                                                                                                         \n",
       "13111 Cellinker                                                                                                                                                                                                                                                                           \n",
       "14911 CellChatDB;CellPhoneDB;Cellinker                                                                                                                                                                                                                                                    \n",
       "5112  Baccin2019;CellChatDB;CellPhoneDB_Cellinker;CellTalkDB;Cellinker;DIP;EMBRACE;Fantom5_LRdb;HPMR;HPMR_Cellinker;HPMR_LRdb;HPMR_talklr;HPRD;HPRD_LRdb;HPRD_talklr;ICELLNET;IntAct;LRdb;Ramilowski2015;Ramilowski2015_Baccin2019;SIGNOR;STRING_talklr;Wang;connectomeDB2020;iTALK;talklr\n",
       "5310  CellChatDB;CellPhoneDB;ICELLNET;KEGG-MEDICUS                                                                                                                                                                                                                                        \n",
       "      references                                                                                                                                                                                                                                                                                                                                                                                                           \n",
       "21000 Cellinker:30761306;DIP:10187774;DIP:8612709;HPRD:10187774                                                                                                                                                                                                                                                                                                                                                            \n",
       "11100 CellPhoneDB:22710174;Cellinker:22710174                                                                                                                                                                                                                                                                                                                                                                              \n",
       "13111 Cellinker:24269963                                                                                                                                                                                                                                                                                                                                                                                                   \n",
       "14911 CellChatDB:25427562;Cellinker:25427562                                                                                                                                                                                                                                                                                                                                                                               \n",
       "5112  Baccin2019:10520995;Baccin2019:11937491;Baccin2019:12198496;CellChatDB:27533782;CellTalkDB:10520995;Cellinker:10520995;Cellinker:11937491;Cellinker:12198496;Cellinker:24043639;Cellinker:27533782;DIP:20877282;HPMR:10520995;HPRD:11937491;ICELLNET:11245885;IntAct:20877282;LRdb:10520995;LRdb:11937491;LRdb:12198496;SIGNOR:12198496;connectomeDB2020:10520995;connectomeDB2020:11937491;connectomeDB2020:12198496\n",
       "5310  ICELLNET:1333888;ICELLNET:7693660;ICELLNET:8242743                                                                                                                                                                                                                                                                                                                                                                   \n",
       "      curation_effort n_references n_resources annotation_strategy db   True_LR\n",
       "21000  4              3             4          LR                  both FALSE  \n",
       "11100  2              1             2          LR                  both FALSE  \n",
       "13111  1              1             1          LR                  both FALSE  \n",
       "14911  2              1             3          LR                  both FALSE  \n",
       "5112  22              7            17          LR                  both FALSE  \n",
       "5310   3              3             4          LR                  both FALSE  "
      ]
     },
     "metadata": {},
     "output_type": "display_data"
    }
   ],
   "source": [
    "LR_database[!LR_database$Pair.Name %in% post_LR$Pair.Name,]"
   ]
  },
  {
   "cell_type": "code",
   "execution_count": 129,
   "id": "6b6e89ce",
   "metadata": {},
   "outputs": [
    {
     "data": {
      "text/html": [
       "<table class=\"dataframe\">\n",
       "<caption>A data.frame: 6 × 21</caption>\n",
       "<thead>\n",
       "\t<tr><th></th><th scope=col>Pair.Name</th><th scope=col>Ligand</th><th scope=col>Ligand.Name</th><th scope=col>Receptor</th><th scope=col>Receptor.Name</th><th scope=col>complex_pair</th><th scope=col>source</th><th scope=col>target</th><th scope=col>is_directed</th><th scope=col>is_stimulation</th><th scope=col>⋯</th><th scope=col>consensus_direction</th><th scope=col>consensus_stimulation</th><th scope=col>consensus_inhibition</th><th scope=col>sources</th><th scope=col>references</th><th scope=col>curation_effort</th><th scope=col>n_references</th><th scope=col>n_resources</th><th scope=col>annotation_strategy</th><th scope=col>True_LR</th></tr>\n",
       "\t<tr><th></th><th scope=col>&lt;chr&gt;</th><th scope=col>&lt;chr&gt;</th><th scope=col>&lt;chr&gt;</th><th scope=col>&lt;chr&gt;</th><th scope=col>&lt;chr&gt;</th><th scope=col>&lt;chr&gt;</th><th scope=col>&lt;chr&gt;</th><th scope=col>&lt;chr&gt;</th><th scope=col>&lt;dbl&gt;</th><th scope=col>&lt;dbl&gt;</th><th scope=col>⋯</th><th scope=col>&lt;dbl&gt;</th><th scope=col>&lt;dbl&gt;</th><th scope=col>&lt;dbl&gt;</th><th scope=col>&lt;chr&gt;</th><th scope=col>&lt;chr&gt;</th><th scope=col>&lt;dbl&gt;</th><th scope=col>&lt;dbl&gt;</th><th scope=col>&lt;int&gt;</th><th scope=col>&lt;chr&gt;</th><th scope=col>&lt;lgl&gt;</th></tr>\n",
       "</thead>\n",
       "<tbody>\n",
       "\t<tr><th scope=row>4101</th><td>TGFBR1_TGFBR2</td><td>TGFBR1</td><td>transforming growth factor beta receptor 1</td><td>TGFBR2</td><td>transforming growth factor beta receptor 2    </td><td>TGFB1_TGFBR1_TGFBR2</td><td>P01137               </td><td>COMPLEX:P36897_P37173</td><td>1</td><td>1</td><td>⋯</td><td>1</td><td>1</td><td>0</td><td>CellChatDB;CellPhoneDB;ICELLNET;KEGG-MEDICUS</td><td>ICELLNET:1333888;ICELLNET:7693660;ICELLNET:8242743                                                                                                      </td><td>3</td><td>3</td><td>4</td><td>both</td><td>FALSE</td></tr>\n",
       "\t<tr><th scope=row>6101</th><td>ACVR2A_ACVRL1</td><td>ACVR2A</td><td>activin A receptor type 2A                </td><td>ACVRL1</td><td>activin A receptor like type 1                </td><td>BMP10_ACVR2A_ACVRL1</td><td>O95393               </td><td>COMPLEX:P27037_P37023</td><td>1</td><td>0</td><td>⋯</td><td>0</td><td>0</td><td>0</td><td>CellChatDB;Cellinker;HPMR_Cellinker;ICELLNET</td><td>CellChatDB:25620979;CellChatDB:26893264;Cellinker:16049014;Cellinker:17068149;Cellinker:26893264;Cellinker:27252362;Cellinker:30246252;ICELLNET:17878607</td><td>8</td><td>7</td><td>3</td><td>both</td><td>FALSE</td></tr>\n",
       "\t<tr><th scope=row>10100</th><td>AMHR2_BMPR1B </td><td>AMHR2 </td><td>anti-Mullerian hormone receptor type 2    </td><td>BMPR1B</td><td>bone morphogenetic protein receptor type 1B   </td><td>AMH_AMHR2_BMPR1B   </td><td>P03971               </td><td>COMPLEX:O00238_Q16671</td><td>1</td><td>0</td><td>⋯</td><td>0</td><td>0</td><td>0</td><td>CellPhoneDB;CellPhoneDB_Cellinker;Cellinker </td><td>CellPhoneDB:22710174;Cellinker:22710174                                                                                                                 </td><td>2</td><td>1</td><td>2</td><td>both</td><td>FALSE</td></tr>\n",
       "\t<tr><th scope=row>29100</th><td>CD8B_LCK     </td><td>CD8B  </td><td>CD8 subunit beta                          </td><td>LCK   </td><td>LCK proto-oncogene, Src family tyrosine kinase</td><td>LCK_CD8A_CD8B      </td><td>P06239               </td><td>COMPLEX:P01732_P10966</td><td>1</td><td>0</td><td>⋯</td><td>0</td><td>0</td><td>0</td><td>CellChatDB;CellPhoneDB;Cellinker            </td><td>CellChatDB:25427562;Cellinker:25427562                                                                                                                  </td><td>2</td><td>1</td><td>3</td><td>both</td><td>FALSE</td></tr>\n",
       "\t<tr><th scope=row>4311</th><td>EGFR_ERBB4   </td><td>EGFR  </td><td>epidermal growth factor receptor          </td><td>ERBB4 </td><td>erb-b2 receptor tyrosine kinase 4             </td><td>EGF_EGFR_ERBB4     </td><td>P01133               </td><td>COMPLEX:P00533_Q15303</td><td>1</td><td>0</td><td>⋯</td><td>0</td><td>0</td><td>0</td><td>Cellinker                                   </td><td>Cellinker:24269963                                                                                                                                      </td><td>1</td><td>1</td><td>1</td><td>both</td><td>FALSE</td></tr>\n",
       "\t<tr><th scope=row>28910</th><td>PLXNB1_SEMA4D</td><td>PLXNB1</td><td>plexin B1                                 </td><td>SEMA4D</td><td>semaphorin 4D                                 </td><td>MET_PLXNB1_SEMA4D  </td><td>COMPLEX:O43157_P08581</td><td>Q92854               </td><td>1</td><td>0</td><td>⋯</td><td>0</td><td>0</td><td>0</td><td>Baccin2019                                  </td><td>Baccin2019:22189792                                                                                                                                     </td><td>1</td><td>1</td><td>1</td><td>LR  </td><td>FALSE</td></tr>\n",
       "</tbody>\n",
       "</table>\n"
      ],
      "text/latex": [
       "A data.frame: 6 × 21\n",
       "\\begin{tabular}{r|lllllllllllllllllllll}\n",
       "  & Pair.Name & Ligand & Ligand.Name & Receptor & Receptor.Name & complex\\_pair & source & target & is\\_directed & is\\_stimulation & ⋯ & consensus\\_direction & consensus\\_stimulation & consensus\\_inhibition & sources & references & curation\\_effort & n\\_references & n\\_resources & annotation\\_strategy & True\\_LR\\\\\n",
       "  & <chr> & <chr> & <chr> & <chr> & <chr> & <chr> & <chr> & <chr> & <dbl> & <dbl> & ⋯ & <dbl> & <dbl> & <dbl> & <chr> & <chr> & <dbl> & <dbl> & <int> & <chr> & <lgl>\\\\\n",
       "\\hline\n",
       "\t4101 & TGFBR1\\_TGFBR2 & TGFBR1 & transforming growth factor beta receptor 1 & TGFBR2 & transforming growth factor beta receptor 2     & TGFB1\\_TGFBR1\\_TGFBR2 & P01137                & COMPLEX:P36897\\_P37173 & 1 & 1 & ⋯ & 1 & 1 & 0 & CellChatDB;CellPhoneDB;ICELLNET;KEGG-MEDICUS & ICELLNET:1333888;ICELLNET:7693660;ICELLNET:8242743                                                                                                       & 3 & 3 & 4 & both & FALSE\\\\\n",
       "\t6101 & ACVR2A\\_ACVRL1 & ACVR2A & activin A receptor type 2A                 & ACVRL1 & activin A receptor like type 1                 & BMP10\\_ACVR2A\\_ACVRL1 & O95393                & COMPLEX:P27037\\_P37023 & 1 & 0 & ⋯ & 0 & 0 & 0 & CellChatDB;Cellinker;HPMR\\_Cellinker;ICELLNET & CellChatDB:25620979;CellChatDB:26893264;Cellinker:16049014;Cellinker:17068149;Cellinker:26893264;Cellinker:27252362;Cellinker:30246252;ICELLNET:17878607 & 8 & 7 & 3 & both & FALSE\\\\\n",
       "\t10100 & AMHR2\\_BMPR1B  & AMHR2  & anti-Mullerian hormone receptor type 2     & BMPR1B & bone morphogenetic protein receptor type 1B    & AMH\\_AMHR2\\_BMPR1B    & P03971                & COMPLEX:O00238\\_Q16671 & 1 & 0 & ⋯ & 0 & 0 & 0 & CellPhoneDB;CellPhoneDB\\_Cellinker;Cellinker  & CellPhoneDB:22710174;Cellinker:22710174                                                                                                                  & 2 & 1 & 2 & both & FALSE\\\\\n",
       "\t29100 & CD8B\\_LCK      & CD8B   & CD8 subunit beta                           & LCK    & LCK proto-oncogene, Src family tyrosine kinase & LCK\\_CD8A\\_CD8B       & P06239                & COMPLEX:P01732\\_P10966 & 1 & 0 & ⋯ & 0 & 0 & 0 & CellChatDB;CellPhoneDB;Cellinker             & CellChatDB:25427562;Cellinker:25427562                                                                                                                   & 2 & 1 & 3 & both & FALSE\\\\\n",
       "\t4311 & EGFR\\_ERBB4    & EGFR   & epidermal growth factor receptor           & ERBB4  & erb-b2 receptor tyrosine kinase 4              & EGF\\_EGFR\\_ERBB4      & P01133                & COMPLEX:P00533\\_Q15303 & 1 & 0 & ⋯ & 0 & 0 & 0 & Cellinker                                    & Cellinker:24269963                                                                                                                                       & 1 & 1 & 1 & both & FALSE\\\\\n",
       "\t28910 & PLXNB1\\_SEMA4D & PLXNB1 & plexin B1                                  & SEMA4D & semaphorin 4D                                  & MET\\_PLXNB1\\_SEMA4D   & COMPLEX:O43157\\_P08581 & Q92854                & 1 & 0 & ⋯ & 0 & 0 & 0 & Baccin2019                                   & Baccin2019:22189792                                                                                                                                      & 1 & 1 & 1 & LR   & FALSE\\\\\n",
       "\\end{tabular}\n"
      ],
      "text/markdown": [
       "\n",
       "A data.frame: 6 × 21\n",
       "\n",
       "| <!--/--> | Pair.Name &lt;chr&gt; | Ligand &lt;chr&gt; | Ligand.Name &lt;chr&gt; | Receptor &lt;chr&gt; | Receptor.Name &lt;chr&gt; | complex_pair &lt;chr&gt; | source &lt;chr&gt; | target &lt;chr&gt; | is_directed &lt;dbl&gt; | is_stimulation &lt;dbl&gt; | ⋯ ⋯ | consensus_direction &lt;dbl&gt; | consensus_stimulation &lt;dbl&gt; | consensus_inhibition &lt;dbl&gt; | sources &lt;chr&gt; | references &lt;chr&gt; | curation_effort &lt;dbl&gt; | n_references &lt;dbl&gt; | n_resources &lt;int&gt; | annotation_strategy &lt;chr&gt; | True_LR &lt;lgl&gt; |\n",
       "|---|---|---|---|---|---|---|---|---|---|---|---|---|---|---|---|---|---|---|---|---|---|\n",
       "| 4101 | TGFBR1_TGFBR2 | TGFBR1 | transforming growth factor beta receptor 1 | TGFBR2 | transforming growth factor beta receptor 2     | TGFB1_TGFBR1_TGFBR2 | P01137                | COMPLEX:P36897_P37173 | 1 | 1 | ⋯ | 1 | 1 | 0 | CellChatDB;CellPhoneDB;ICELLNET;KEGG-MEDICUS | ICELLNET:1333888;ICELLNET:7693660;ICELLNET:8242743                                                                                                       | 3 | 3 | 4 | both | FALSE |\n",
       "| 6101 | ACVR2A_ACVRL1 | ACVR2A | activin A receptor type 2A                 | ACVRL1 | activin A receptor like type 1                 | BMP10_ACVR2A_ACVRL1 | O95393                | COMPLEX:P27037_P37023 | 1 | 0 | ⋯ | 0 | 0 | 0 | CellChatDB;Cellinker;HPMR_Cellinker;ICELLNET | CellChatDB:25620979;CellChatDB:26893264;Cellinker:16049014;Cellinker:17068149;Cellinker:26893264;Cellinker:27252362;Cellinker:30246252;ICELLNET:17878607 | 8 | 7 | 3 | both | FALSE |\n",
       "| 10100 | AMHR2_BMPR1B  | AMHR2  | anti-Mullerian hormone receptor type 2     | BMPR1B | bone morphogenetic protein receptor type 1B    | AMH_AMHR2_BMPR1B    | P03971                | COMPLEX:O00238_Q16671 | 1 | 0 | ⋯ | 0 | 0 | 0 | CellPhoneDB;CellPhoneDB_Cellinker;Cellinker  | CellPhoneDB:22710174;Cellinker:22710174                                                                                                                  | 2 | 1 | 2 | both | FALSE |\n",
       "| 29100 | CD8B_LCK      | CD8B   | CD8 subunit beta                           | LCK    | LCK proto-oncogene, Src family tyrosine kinase | LCK_CD8A_CD8B       | P06239                | COMPLEX:P01732_P10966 | 1 | 0 | ⋯ | 0 | 0 | 0 | CellChatDB;CellPhoneDB;Cellinker             | CellChatDB:25427562;Cellinker:25427562                                                                                                                   | 2 | 1 | 3 | both | FALSE |\n",
       "| 4311 | EGFR_ERBB4    | EGFR   | epidermal growth factor receptor           | ERBB4  | erb-b2 receptor tyrosine kinase 4              | EGF_EGFR_ERBB4      | P01133                | COMPLEX:P00533_Q15303 | 1 | 0 | ⋯ | 0 | 0 | 0 | Cellinker                                    | Cellinker:24269963                                                                                                                                       | 1 | 1 | 1 | both | FALSE |\n",
       "| 28910 | PLXNB1_SEMA4D | PLXNB1 | plexin B1                                  | SEMA4D | semaphorin 4D                                  | MET_PLXNB1_SEMA4D   | COMPLEX:O43157_P08581 | Q92854                | 1 | 0 | ⋯ | 0 | 0 | 0 | Baccin2019                                   | Baccin2019:22189792                                                                                                                                      | 1 | 1 | 1 | LR   | FALSE |\n",
       "\n"
      ],
      "text/plain": [
       "      Pair.Name     Ligand Ligand.Name                                Receptor\n",
       "4101  TGFBR1_TGFBR2 TGFBR1 transforming growth factor beta receptor 1 TGFBR2  \n",
       "6101  ACVR2A_ACVRL1 ACVR2A activin A receptor type 2A                 ACVRL1  \n",
       "10100 AMHR2_BMPR1B  AMHR2  anti-Mullerian hormone receptor type 2     BMPR1B  \n",
       "29100 CD8B_LCK      CD8B   CD8 subunit beta                           LCK     \n",
       "4311  EGFR_ERBB4    EGFR   epidermal growth factor receptor           ERBB4   \n",
       "28910 PLXNB1_SEMA4D PLXNB1 plexin B1                                  SEMA4D  \n",
       "      Receptor.Name                                  complex_pair       \n",
       "4101  transforming growth factor beta receptor 2     TGFB1_TGFBR1_TGFBR2\n",
       "6101  activin A receptor like type 1                 BMP10_ACVR2A_ACVRL1\n",
       "10100 bone morphogenetic protein receptor type 1B    AMH_AMHR2_BMPR1B   \n",
       "29100 LCK proto-oncogene, Src family tyrosine kinase LCK_CD8A_CD8B      \n",
       "4311  erb-b2 receptor tyrosine kinase 4              EGF_EGFR_ERBB4     \n",
       "28910 semaphorin 4D                                  MET_PLXNB1_SEMA4D  \n",
       "      source                target                is_directed is_stimulation ⋯\n",
       "4101  P01137                COMPLEX:P36897_P37173 1           1              ⋯\n",
       "6101  O95393                COMPLEX:P27037_P37023 1           0              ⋯\n",
       "10100 P03971                COMPLEX:O00238_Q16671 1           0              ⋯\n",
       "29100 P06239                COMPLEX:P01732_P10966 1           0              ⋯\n",
       "4311  P01133                COMPLEX:P00533_Q15303 1           0              ⋯\n",
       "28910 COMPLEX:O43157_P08581 Q92854                1           0              ⋯\n",
       "      consensus_direction consensus_stimulation consensus_inhibition\n",
       "4101  1                   1                     0                   \n",
       "6101  0                   0                     0                   \n",
       "10100 0                   0                     0                   \n",
       "29100 0                   0                     0                   \n",
       "4311  0                   0                     0                   \n",
       "28910 0                   0                     0                   \n",
       "      sources                                     \n",
       "4101  CellChatDB;CellPhoneDB;ICELLNET;KEGG-MEDICUS\n",
       "6101  CellChatDB;Cellinker;HPMR_Cellinker;ICELLNET\n",
       "10100 CellPhoneDB;CellPhoneDB_Cellinker;Cellinker \n",
       "29100 CellChatDB;CellPhoneDB;Cellinker            \n",
       "4311  Cellinker                                   \n",
       "28910 Baccin2019                                  \n",
       "      references                                                                                                                                              \n",
       "4101  ICELLNET:1333888;ICELLNET:7693660;ICELLNET:8242743                                                                                                      \n",
       "6101  CellChatDB:25620979;CellChatDB:26893264;Cellinker:16049014;Cellinker:17068149;Cellinker:26893264;Cellinker:27252362;Cellinker:30246252;ICELLNET:17878607\n",
       "10100 CellPhoneDB:22710174;Cellinker:22710174                                                                                                                 \n",
       "29100 CellChatDB:25427562;Cellinker:25427562                                                                                                                  \n",
       "4311  Cellinker:24269963                                                                                                                                      \n",
       "28910 Baccin2019:22189792                                                                                                                                     \n",
       "      curation_effort n_references n_resources annotation_strategy True_LR\n",
       "4101  3               3            4           both                FALSE  \n",
       "6101  8               7            3           both                FALSE  \n",
       "10100 2               1            2           both                FALSE  \n",
       "29100 2               1            3           both                FALSE  \n",
       "4311  1               1            1           both                FALSE  \n",
       "28910 1               1            1           LR                  FALSE  "
      ]
     },
     "metadata": {},
     "output_type": "display_data"
    }
   ],
   "source": [
    "post_LR[!post_LR$Pair.Name %in% LR_database$Pair.Name,]"
   ]
  },
  {
   "cell_type": "code",
   "execution_count": 130,
   "id": "98b4c5ae",
   "metadata": {},
   "outputs": [],
   "source": [
    "write.csv(post_LR, \"LR_database.csv\")"
   ]
  },
  {
   "cell_type": "code",
   "execution_count": 132,
   "id": "46998b14",
   "metadata": {},
   "outputs": [
    {
     "ename": "ERROR",
     "evalue": "Error in save(post_LR, \"LR_database.rda\"): object ‘LR_database.rda’ not found\n",
     "output_type": "error",
     "traceback": [
      "Error in save(post_LR, \"LR_database.rda\"): object ‘LR_database.rda’ not found\nTraceback:\n",
      "1. save(post_LR, \"LR_database.rda\")",
      "2. stop(sprintf(ngettext(n, \"object %s not found\", \"objects %s not found\"), \n .     paste(sQuote(list[!ok]), collapse = \", \")), domain = NA)"
     ]
    }
   ],
   "source": [
    "save(post_LR, \"LR_database.rda\")"
   ]
  },
  {
   "cell_type": "code",
   "execution_count": null,
   "id": "3b29ff12",
   "metadata": {},
   "outputs": [],
   "source": []
  }
 ],
 "metadata": {
  "kernelspec": {
   "display_name": "R",
   "language": "R",
   "name": "ir"
  },
  "language_info": {
   "codemirror_mode": "r",
   "file_extension": ".r",
   "mimetype": "text/x-r-source",
   "name": "R",
   "pygments_lexer": "r",
   "version": "4.1.2"
  }
 },
 "nbformat": 4,
 "nbformat_minor": 5
}
