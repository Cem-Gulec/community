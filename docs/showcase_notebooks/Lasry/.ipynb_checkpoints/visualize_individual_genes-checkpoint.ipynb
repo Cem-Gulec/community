{
 "cells": [
  {
   "cell_type": "code",
   "execution_count": 1,
   "id": "430863c6-564a-40a6-b691-4f283372bd12",
   "metadata": {},
   "outputs": [],
   "source": [
    "import pandas as pd\n",
    "import scanpy as sc\n",
    "import anndata as ad\n",
    "import matplotlib.pyplot as plt \n",
    "# from matplotlib.colors import LinearSegmentedColormap # DO WE NEED IT??\n",
    "import scipy"
   ]
  },
  {
   "cell_type": "markdown",
   "id": "0f0784b8-cf9c-441f-bce8-a0c7555a399b",
   "metadata": {},
   "source": [
    "### Read in data"
   ]
  },
  {
   "cell_type": "code",
   "execution_count": 2,
   "id": "739774ea",
   "metadata": {},
   "outputs": [],
   "source": [
    "input_dir = \"input_data/\""
   ]
  },
  {
   "cell_type": "code",
   "execution_count": 3,
   "id": "982cc183",
   "metadata": {},
   "outputs": [],
   "source": [
    "data=sc.read_csv(\"input_data/counts_norm.csv.gz\") # CHANGE NAMING!!!!"
   ]
  },
  {
   "cell_type": "code",
   "execution_count": 4,
   "id": "62ace87b-87bb-4934-b99a-ce60a3aeac3f",
   "metadata": {},
   "outputs": [
    {
     "name": "stderr",
     "output_type": "stream",
     "text": [
      "/tmp/ipykernel_56177/1498478408.py:1: DtypeWarning: Columns (22,26,27,28,29,30,32,33,34,35,36,37,38,41,42,43,44,47,48,50,55,57,58,61,65,67,68,70) have mixed types. Specify dtype option on import or set low_memory=False.\n",
      "  anno_cells = pd.read_csv(\"input_data/anno_cells_norm.txt\", sep = \"\\t\")\n"
     ]
    }
   ],
   "source": [
    "anno_cells = pd.read_csv(\"input_data/anno_cells_norm.txt\", sep = \"\\t\") \n",
    "anno_samples = pd.read_csv(\"input_data/anno_samples_norm.txt\", sep = \"\\t\") \n",
    "anno_genes = pd.read_csv( \"input_data/anno_genes_norm.txt\", sep = \"\\t\") "
   ]
  },
  {
   "cell_type": "markdown",
   "id": "7d2125ae-ae72-43e9-99e4-fc652e9738dc",
   "metadata": {},
   "source": [
    "### Create adata object"
   ]
  },
  {
   "cell_type": "code",
   "execution_count": 5,
   "id": "31f64e4e",
   "metadata": {},
   "outputs": [],
   "source": [
    "data.X = scipy.sparse.csr_matrix(data.X)"
   ]
  },
  {
   "cell_type": "code",
   "execution_count": 6,
   "id": "29fef867",
   "metadata": {},
   "outputs": [],
   "source": [
    "data = sc.AnnData(data.T)"
   ]
  },
  {
   "cell_type": "code",
   "execution_count": 7,
   "id": "7f94c7cf",
   "metadata": {},
   "outputs": [
    {
     "name": "stdout",
     "output_type": "stream",
     "text": [
      "data.var_names[1:10]\n",
      "Index(['LINC01409', 'LINC01128', 'LINC00115', 'FAM41C', 'AL645608.2', 'NOC2L',\n",
      "       'KLHL17', 'PLEKHN1', 'HES4'],\n",
      "      dtype='object', name='gene_symbol')\n"
     ]
    }
   ],
   "source": [
    "data.var = anno_genes\n",
    "data.var_names=anno_genes['gene_symbol']\n",
    "data.var_names = data.var_names.astype(str)\n",
    "data.var.index = data.var.index.astype(str)\n",
    "print(\"data.var_names[1:10]\")\n",
    "print(data.var_names[1:10])"
   ]
  },
  {
   "cell_type": "code",
   "execution_count": 8,
   "id": "e8b51b5c",
   "metadata": {},
   "outputs": [
    {
     "name": "stdout",
     "output_type": "stream",
     "text": [
      "Index(['2020.09.15.AML0024.CATCAAGTCCGAGAAG',\n",
      "       '2020.09.15.AML0024.CATCCACAGGGACCAT',\n",
      "       '2020.09.15.AML0024.CCTCAACAGAGCAAGA',\n",
      "       '2020.09.15.AML0024.CCTCAACAGTTCCATG',\n",
      "       '2020.09.15.AML0024.CCTCAACGTAGAATAC',\n",
      "       '2020.09.15.AML0024.CCTCAACGTTCTCCCA',\n",
      "       '2020.09.15.AML0024.CCTCAACTCCGAACGC',\n",
      "       '2020.09.15.AML0024.CCTCAACTCTAGTCAG',\n",
      "       '2020.09.15.AML0024.CCTCACAAGACAGTCG'],\n",
      "      dtype='object', name='cell_ID')\n"
     ]
    }
   ],
   "source": [
    "data.obs_names=anno_cells['cell_ID']\n",
    "print(data.obs_names[1:10])\n",
    "data.obs = anno_cells\n",
    "data.obs.index = data.obs.index.astype(str)"
   ]
  },
  {
   "cell_type": "code",
   "execution_count": 9,
   "id": "7825a850",
   "metadata": {},
   "outputs": [
    {
     "name": "stdout",
     "output_type": "stream",
     "text": [
      "0         AML-0024\n",
      "1         AML-0024\n",
      "2         AML-0024\n",
      "3         AML-0024\n",
      "4         AML-0024\n",
      "           ...    \n",
      "46697    healthy-5\n",
      "46698    healthy-5\n",
      "46699    healthy-5\n",
      "46700    healthy-5\n",
      "46701    healthy-5\n",
      "Name: sample_ID, Length: 46702, dtype: object\n"
     ]
    }
   ],
   "source": [
    "print(data.obs[\"sample_ID\"].astype('str'))"
   ]
  },
  {
   "cell_type": "markdown",
   "id": "fbcce7a8-b268-489a-855d-69ae9768b21a",
   "metadata": {},
   "source": [
    "### Arrange the samples in the correct order for plotting"
   ]
  },
  {
   "cell_type": "code",
   "execution_count": 10,
   "id": "a71f154c-86e7-4ee5-96c7-b6e9a81dc126",
   "metadata": {},
   "outputs": [
    {
     "name": "stdout",
     "output_type": "stream",
     "text": [
      "0         13_AML-0024\n",
      "1         13_AML-0024\n",
      "2         13_AML-0024\n",
      "3         13_AML-0024\n",
      "4         13_AML-0024\n",
      "             ...     \n",
      "46697    06_healthy-5\n",
      "46698    06_healthy-5\n",
      "46699    06_healthy-5\n",
      "46700    06_healthy-5\n",
      "46701    06_healthy-5\n",
      "Name: ordered_sample_ID, Length: 46702, dtype: object\n"
     ]
    }
   ],
   "source": [
    "annot = []\n",
    "\n",
    "for sample_ID in data.obs[\"sample_ID\"].astype('str'):\n",
    "    \n",
    "    if sample_ID=='healthy-1': #'healthy-1'\n",
    "        annot=annot+['01_']\n",
    "    elif sample_ID=='healthy-4': #'healthy-4'\n",
    "        annot=annot+['02_']\n",
    "    elif sample_ID=='healthy-4003': # 'healthy-4003'\n",
    "        annot=annot+['03_']\n",
    "    elif sample_ID=='healthy-3': # 'healthy-3'\n",
    "        annot=annot+['04_']\n",
    "    elif sample_ID=='healthy-2': #'healthy-2'\n",
    "        annot=annot+['05_']\n",
    "    elif sample_ID=='healthy-5':\n",
    "        annot=annot+['06_']\n",
    "    elif sample_ID=='AML-2123': #'AML-2123'\n",
    "        annot=annot+['07_']\n",
    "    elif sample_ID=='AML-0693': #'AML-0693'\n",
    "        annot=annot+['08_']\n",
    "    elif sample_ID=='AML-0160': #'AML-0160'\n",
    "        annot=annot+['09_']\n",
    "    elif sample_ID=='AML-3133': # 'AML-3133'\n",
    "        annot=annot+['10_']\n",
    "    elif sample_ID=='AML-4340': #'AML-4340'\n",
    "        annot=annot+['11_']\n",
    "    elif sample_ID=='AML-1371': #'AML-1371'\n",
    "        annot=annot+['12_']\n",
    "    else: \n",
    "        annot=annot+['13_'] #'AML-0024'\n",
    "    \n",
    "\n",
    "ordered=[]\n",
    "ordered=annot+data.obs[\"sample_ID\"].astype('str')\n",
    "data.obs[\"ordered_sample_ID\"] = ordered\n",
    "\n",
    "print(data.obs[\"ordered_sample_ID\"])"
   ]
  },
  {
   "cell_type": "markdown",
   "id": "d5aa9aa1-1565-46df-b1ff-8689c58a2818",
   "metadata": {},
   "source": [
    "### Define plotting function"
   ]
  },
  {
   "cell_type": "code",
   "execution_count": 11,
   "id": "f390156d-343b-407c-8db7-0680c3487c91",
   "metadata": {},
   "outputs": [],
   "source": [
    "def plot_stacked(adata,cell_type_list,gene_list,ax\n",
    "                ):\n",
    "    \n",
    "    subset_data=adata[adata.obs[\"cell_type\"].isin(cell_type_list)]\n",
    "\n",
    "    sc.pl.stacked_violin(subset_data\n",
    "                       ,groupby=\"ordered_sample_ID\"\n",
    "                        ,var_names=genes_list,\n",
    "                        swap_axes=True,\n",
    "                        cmap=\"YlGnBu\"\n",
    "                        ,stripplot=True\n",
    "                        ,jitter=True\n",
    "                        ,return_fig=True\n",
    "                         ,ax=ax\n",
    "                        ).add_totals().show()"
   ]
  },
  {
   "cell_type": "markdown",
   "id": "25d302a7-982e-422c-b1f5-6da2eac69a1d",
   "metadata": {},
   "source": [
    "### Plot results"
   ]
  },
  {
   "cell_type": "code",
   "execution_count": 12,
   "id": "b4851951",
   "metadata": {},
   "outputs": [],
   "source": [
    "cell_type_list=[\"Mono\"]"
   ]
  },
  {
   "cell_type": "code",
   "execution_count": 13,
   "id": "485392ad",
   "metadata": {},
   "outputs": [],
   "source": [
    "genes_list=['EFNA4'\n",
    "            ,'PVR'\n",
    "            ,'THBS1'\n",
    "            ,'HP'\n",
    "            ,'APOA1'\n",
    "            ,'NRG1'\n",
    "            ,'TNFSF14'\n",
    "           ]"
   ]
  },
  {
   "cell_type": "code",
   "execution_count": 14,
   "id": "dbddf053",
   "metadata": {},
   "outputs": [
    {
     "name": "stderr",
     "output_type": "stream",
     "text": [
      "/home/mami/.local/lib/python3.10/site-packages/anndata/_core/anndata.py:1235: ImplicitModificationWarning: Trying to modify attribute `.obs` of view, initializing view as actual.\n",
      "  df[key] = c\n",
      "/home/mami/.local/lib/python3.10/site-packages/anndata/_core/anndata.py:1235: ImplicitModificationWarning: Trying to modify attribute `.obs` of view, initializing view as actual.\n",
      "  df[key] = c\n",
      "/home/mami/.local/lib/python3.10/site-packages/anndata/_core/anndata.py:1235: ImplicitModificationWarning: Trying to modify attribute `.obs` of view, initializing view as actual.\n",
      "  df[key] = c\n",
      "/home/mami/.local/lib/python3.10/site-packages/anndata/_core/anndata.py:1235: ImplicitModificationWarning: Trying to modify attribute `.obs` of view, initializing view as actual.\n",
      "  df[key] = c\n",
      "/home/mami/.local/lib/python3.10/site-packages/anndata/_core/anndata.py:1235: ImplicitModificationWarning: Trying to modify attribute `.obs` of view, initializing view as actual.\n",
      "  df[key] = c\n",
      "/home/mami/.local/lib/python3.10/site-packages/anndata/_core/anndata.py:1235: ImplicitModificationWarning: Trying to modify attribute `.obs` of view, initializing view as actual.\n",
      "  df[key] = c\n",
      "/home/mami/.local/lib/python3.10/site-packages/anndata/_core/anndata.py:1235: ImplicitModificationWarning: Trying to modify attribute `.obs` of view, initializing view as actual.\n",
      "  df[key] = c\n",
      "/home/mami/.local/lib/python3.10/site-packages/anndata/_core/anndata.py:1235: ImplicitModificationWarning: Trying to modify attribute `.obs` of view, initializing view as actual.\n",
      "  df[key] = c\n",
      "/home/mami/.local/lib/python3.10/site-packages/anndata/_core/anndata.py:1235: ImplicitModificationWarning: Trying to modify attribute `.obs` of view, initializing view as actual.\n",
      "  df[key] = c\n",
      "/home/mami/.local/lib/python3.10/site-packages/anndata/_core/anndata.py:1235: ImplicitModificationWarning: Trying to modify attribute `.obs` of view, initializing view as actual.\n",
      "  df[key] = c\n",
      "/home/mami/.local/lib/python3.10/site-packages/anndata/_core/anndata.py:1235: ImplicitModificationWarning: Trying to modify attribute `.obs` of view, initializing view as actual.\n",
      "  df[key] = c\n",
      "/home/mami/.local/lib/python3.10/site-packages/anndata/_core/anndata.py:1235: ImplicitModificationWarning: Trying to modify attribute `.obs` of view, initializing view as actual.\n",
      "  df[key] = c\n",
      "/home/mami/.local/lib/python3.10/site-packages/anndata/_core/anndata.py:1235: ImplicitModificationWarning: Trying to modify attribute `.obs` of view, initializing view as actual.\n",
      "  df[key] = c\n",
      "/home/mami/.local/lib/python3.10/site-packages/anndata/_core/anndata.py:1235: ImplicitModificationWarning: Trying to modify attribute `.obs` of view, initializing view as actual.\n",
      "  df[key] = c\n",
      "/home/mami/.local/lib/python3.10/site-packages/anndata/_core/anndata.py:1235: ImplicitModificationWarning: Trying to modify attribute `.obs` of view, initializing view as actual.\n",
      "  df[key] = c\n",
      "/home/mami/.local/lib/python3.10/site-packages/anndata/_core/anndata.py:1235: ImplicitModificationWarning: Trying to modify attribute `.obs` of view, initializing view as actual.\n",
      "  df[key] = c\n",
      "/home/mami/.local/lib/python3.10/site-packages/anndata/_core/anndata.py:1235: ImplicitModificationWarning: Trying to modify attribute `.obs` of view, initializing view as actual.\n",
      "  df[key] = c\n",
      "/home/mami/.local/lib/python3.10/site-packages/anndata/_core/anndata.py:1235: ImplicitModificationWarning: Trying to modify attribute `.obs` of view, initializing view as actual.\n",
      "  df[key] = c\n",
      "/home/mami/.local/lib/python3.10/site-packages/anndata/_core/anndata.py:1235: ImplicitModificationWarning: Trying to modify attribute `.obs` of view, initializing view as actual.\n",
      "  df[key] = c\n",
      "/home/mami/.local/lib/python3.10/site-packages/anndata/_core/anndata.py:1235: ImplicitModificationWarning: Trying to modify attribute `.obs` of view, initializing view as actual.\n",
      "  df[key] = c\n",
      "/home/mami/.local/lib/python3.10/site-packages/anndata/_core/anndata.py:1235: ImplicitModificationWarning: Trying to modify attribute `.obs` of view, initializing view as actual.\n",
      "  df[key] = c\n",
      "/home/mami/.local/lib/python3.10/site-packages/anndata/_core/anndata.py:1235: ImplicitModificationWarning: Trying to modify attribute `.obs` of view, initializing view as actual.\n",
      "  df[key] = c\n",
      "/home/mami/.local/lib/python3.10/site-packages/anndata/_core/anndata.py:1235: ImplicitModificationWarning: Trying to modify attribute `.obs` of view, initializing view as actual.\n",
      "  df[key] = c\n",
      "/home/mami/.local/lib/python3.10/site-packages/anndata/_core/anndata.py:1235: ImplicitModificationWarning: Trying to modify attribute `.obs` of view, initializing view as actual.\n",
      "  df[key] = c\n",
      "/home/mami/.local/lib/python3.10/site-packages/anndata/_core/anndata.py:1235: ImplicitModificationWarning: Trying to modify attribute `.obs` of view, initializing view as actual.\n",
      "  df[key] = c\n",
      "/home/mami/.local/lib/python3.10/site-packages/anndata/_core/anndata.py:1235: ImplicitModificationWarning: Trying to modify attribute `.obs` of view, initializing view as actual.\n",
      "  df[key] = c\n",
      "/home/mami/.local/lib/python3.10/site-packages/anndata/_core/anndata.py:1235: ImplicitModificationWarning: Trying to modify attribute `.obs` of view, initializing view as actual.\n",
      "  df[key] = c\n",
      "/home/mami/.local/lib/python3.10/site-packages/anndata/_core/anndata.py:1235: ImplicitModificationWarning: Trying to modify attribute `.obs` of view, initializing view as actual.\n",
      "  df[key] = c\n",
      "/home/mami/.local/lib/python3.10/site-packages/anndata/_core/anndata.py:1235: ImplicitModificationWarning: Trying to modify attribute `.obs` of view, initializing view as actual.\n",
      "  df[key] = c\n",
      "/home/mami/.local/lib/python3.10/site-packages/anndata/_core/anndata.py:1235: ImplicitModificationWarning: Trying to modify attribute `.obs` of view, initializing view as actual.\n",
      "  df[key] = c\n",
      "/home/mami/.local/lib/python3.10/site-packages/anndata/_core/anndata.py:1235: ImplicitModificationWarning: Trying to modify attribute `.obs` of view, initializing view as actual.\n",
      "  df[key] = c\n",
      "/home/mami/.local/lib/python3.10/site-packages/anndata/_core/anndata.py:1235: ImplicitModificationWarning: Trying to modify attribute `.obs` of view, initializing view as actual.\n",
      "  df[key] = c\n",
      "/home/mami/.local/lib/python3.10/site-packages/anndata/_core/anndata.py:1235: ImplicitModificationWarning: Trying to modify attribute `.obs` of view, initializing view as actual.\n",
      "  df[key] = c\n",
      "/home/mami/.local/lib/python3.10/site-packages/anndata/_core/anndata.py:1235: ImplicitModificationWarning: Trying to modify attribute `.obs` of view, initializing view as actual.\n",
      "  df[key] = c\n",
      "/home/mami/.local/lib/python3.10/site-packages/anndata/_core/anndata.py:1235: ImplicitModificationWarning: Trying to modify attribute `.obs` of view, initializing view as actual.\n",
      "  df[key] = c\n",
      "/home/mami/.local/lib/python3.10/site-packages/anndata/_core/anndata.py:1235: ImplicitModificationWarning: Trying to modify attribute `.obs` of view, initializing view as actual.\n",
      "  df[key] = c\n",
      "/home/mami/.local/lib/python3.10/site-packages/anndata/_core/anndata.py:1235: ImplicitModificationWarning: Trying to modify attribute `.obs` of view, initializing view as actual.\n",
      "  df[key] = c\n",
      "/home/mami/.local/lib/python3.10/site-packages/anndata/_core/anndata.py:1235: ImplicitModificationWarning: Trying to modify attribute `.obs` of view, initializing view as actual.\n",
      "  df[key] = c\n",
      "/home/mami/.local/lib/python3.10/site-packages/anndata/_core/anndata.py:1235: ImplicitModificationWarning: Trying to modify attribute `.obs` of view, initializing view as actual.\n",
      "  df[key] = c\n"
     ]
    },
    {
     "data": {
      "image/png": "[encoded data removed]",
      "text/plain": [
       "<Figure size 720x252 with 12 Axes>"
      ]
     },
     "metadata": {
      "needs_background": "light"
     },
     "output_type": "display_data"
    }
   ],
   "source": [
    "_, ax = plt.subplots(figsize=(10, 3.5))\n",
    "plot_stacked(data,cell_type_list,genes_list,ax\n",
    "            )"
   ]
  },
  {
   "cell_type": "code",
   "execution_count": 15,
   "id": "051bb317",
   "metadata": {},
   "outputs": [],
   "source": [
    "cell_type_list=[\"HSPC\"]"
   ]
  },
  {
   "cell_type": "code",
   "execution_count": 16,
   "id": "ffd8de21-5371-40bc-86b7-9c9b6ed145bc",
   "metadata": {},
   "outputs": [],
   "source": [
    "genes_list=['PDE1B']"
   ]
  },
  {
   "cell_type": "code",
   "execution_count": 17,
   "id": "c426b554-f403-4066-90b3-0ce01de73fc6",
   "metadata": {},
   "outputs": [
    {
     "name": "stderr",
     "output_type": "stream",
     "text": [
      "/home/mami/.local/lib/python3.10/site-packages/anndata/_core/anndata.py:1235: ImplicitModificationWarning: Trying to modify attribute `.obs` of view, initializing view as actual.\n",
      "  df[key] = c\n",
      "/home/mami/.local/lib/python3.10/site-packages/anndata/_core/anndata.py:1235: ImplicitModificationWarning: Trying to modify attribute `.obs` of view, initializing view as actual.\n",
      "  df[key] = c\n",
      "/home/mami/.local/lib/python3.10/site-packages/anndata/_core/anndata.py:1235: ImplicitModificationWarning: Trying to modify attribute `.obs` of view, initializing view as actual.\n",
      "  df[key] = c\n",
      "/home/mami/.local/lib/python3.10/site-packages/anndata/_core/anndata.py:1235: ImplicitModificationWarning: Trying to modify attribute `.obs` of view, initializing view as actual.\n",
      "  df[key] = c\n",
      "/home/mami/.local/lib/python3.10/site-packages/anndata/_core/anndata.py:1235: ImplicitModificationWarning: Trying to modify attribute `.obs` of view, initializing view as actual.\n",
      "  df[key] = c\n",
      "/home/mami/.local/lib/python3.10/site-packages/anndata/_core/anndata.py:1235: ImplicitModificationWarning: Trying to modify attribute `.obs` of view, initializing view as actual.\n",
      "  df[key] = c\n",
      "/home/mami/.local/lib/python3.10/site-packages/anndata/_core/anndata.py:1235: ImplicitModificationWarning: Trying to modify attribute `.obs` of view, initializing view as actual.\n",
      "  df[key] = c\n",
      "/home/mami/.local/lib/python3.10/site-packages/anndata/_core/anndata.py:1235: ImplicitModificationWarning: Trying to modify attribute `.obs` of view, initializing view as actual.\n",
      "  df[key] = c\n",
      "/home/mami/.local/lib/python3.10/site-packages/anndata/_core/anndata.py:1235: ImplicitModificationWarning: Trying to modify attribute `.obs` of view, initializing view as actual.\n",
      "  df[key] = c\n",
      "/home/mami/.local/lib/python3.10/site-packages/anndata/_core/anndata.py:1235: ImplicitModificationWarning: Trying to modify attribute `.obs` of view, initializing view as actual.\n",
      "  df[key] = c\n",
      "/home/mami/.local/lib/python3.10/site-packages/anndata/_core/anndata.py:1235: ImplicitModificationWarning: Trying to modify attribute `.obs` of view, initializing view as actual.\n",
      "  df[key] = c\n",
      "/home/mami/.local/lib/python3.10/site-packages/anndata/_core/anndata.py:1235: ImplicitModificationWarning: Trying to modify attribute `.obs` of view, initializing view as actual.\n",
      "  df[key] = c\n",
      "/home/mami/.local/lib/python3.10/site-packages/anndata/_core/anndata.py:1235: ImplicitModificationWarning: Trying to modify attribute `.obs` of view, initializing view as actual.\n",
      "  df[key] = c\n",
      "/home/mami/.local/lib/python3.10/site-packages/anndata/_core/anndata.py:1235: ImplicitModificationWarning: Trying to modify attribute `.obs` of view, initializing view as actual.\n",
      "  df[key] = c\n",
      "/home/mami/.local/lib/python3.10/site-packages/anndata/_core/anndata.py:1235: ImplicitModificationWarning: Trying to modify attribute `.obs` of view, initializing view as actual.\n",
      "  df[key] = c\n",
      "/home/mami/.local/lib/python3.10/site-packages/anndata/_core/anndata.py:1235: ImplicitModificationWarning: Trying to modify attribute `.obs` of view, initializing view as actual.\n",
      "  df[key] = c\n",
      "/home/mami/.local/lib/python3.10/site-packages/anndata/_core/anndata.py:1235: ImplicitModificationWarning: Trying to modify attribute `.obs` of view, initializing view as actual.\n",
      "  df[key] = c\n",
      "/home/mami/.local/lib/python3.10/site-packages/anndata/_core/anndata.py:1235: ImplicitModificationWarning: Trying to modify attribute `.obs` of view, initializing view as actual.\n",
      "  df[key] = c\n",
      "/home/mami/.local/lib/python3.10/site-packages/anndata/_core/anndata.py:1235: ImplicitModificationWarning: Trying to modify attribute `.obs` of view, initializing view as actual.\n",
      "  df[key] = c\n",
      "/home/mami/.local/lib/python3.10/site-packages/anndata/_core/anndata.py:1235: ImplicitModificationWarning: Trying to modify attribute `.obs` of view, initializing view as actual.\n",
      "  df[key] = c\n",
      "/home/mami/.local/lib/python3.10/site-packages/anndata/_core/anndata.py:1235: ImplicitModificationWarning: Trying to modify attribute `.obs` of view, initializing view as actual.\n",
      "  df[key] = c\n",
      "/home/mami/.local/lib/python3.10/site-packages/anndata/_core/anndata.py:1235: ImplicitModificationWarning: Trying to modify attribute `.obs` of view, initializing view as actual.\n",
      "  df[key] = c\n",
      "/home/mami/.local/lib/python3.10/site-packages/anndata/_core/anndata.py:1235: ImplicitModificationWarning: Trying to modify attribute `.obs` of view, initializing view as actual.\n",
      "  df[key] = c\n",
      "/home/mami/.local/lib/python3.10/site-packages/anndata/_core/anndata.py:1235: ImplicitModificationWarning: Trying to modify attribute `.obs` of view, initializing view as actual.\n",
      "  df[key] = c\n",
      "/home/mami/.local/lib/python3.10/site-packages/anndata/_core/anndata.py:1235: ImplicitModificationWarning: Trying to modify attribute `.obs` of view, initializing view as actual.\n",
      "  df[key] = c\n",
      "/home/mami/.local/lib/python3.10/site-packages/anndata/_core/anndata.py:1235: ImplicitModificationWarning: Trying to modify attribute `.obs` of view, initializing view as actual.\n",
      "  df[key] = c\n",
      "/home/mami/.local/lib/python3.10/site-packages/anndata/_core/anndata.py:1235: ImplicitModificationWarning: Trying to modify attribute `.obs` of view, initializing view as actual.\n",
      "  df[key] = c\n",
      "/home/mami/.local/lib/python3.10/site-packages/anndata/_core/anndata.py:1235: ImplicitModificationWarning: Trying to modify attribute `.obs` of view, initializing view as actual.\n",
      "  df[key] = c\n",
      "/home/mami/.local/lib/python3.10/site-packages/anndata/_core/anndata.py:1235: ImplicitModificationWarning: Trying to modify attribute `.obs` of view, initializing view as actual.\n",
      "  df[key] = c\n",
      "/home/mami/.local/lib/python3.10/site-packages/anndata/_core/anndata.py:1235: ImplicitModificationWarning: Trying to modify attribute `.obs` of view, initializing view as actual.\n",
      "  df[key] = c\n",
      "/home/mami/.local/lib/python3.10/site-packages/anndata/_core/anndata.py:1235: ImplicitModificationWarning: Trying to modify attribute `.obs` of view, initializing view as actual.\n",
      "  df[key] = c\n",
      "/home/mami/.local/lib/python3.10/site-packages/anndata/_core/anndata.py:1235: ImplicitModificationWarning: Trying to modify attribute `.obs` of view, initializing view as actual.\n",
      "  df[key] = c\n",
      "/home/mami/.local/lib/python3.10/site-packages/anndata/_core/anndata.py:1235: ImplicitModificationWarning: Trying to modify attribute `.obs` of view, initializing view as actual.\n",
      "  df[key] = c\n",
      "/home/mami/.local/lib/python3.10/site-packages/anndata/_core/anndata.py:1235: ImplicitModificationWarning: Trying to modify attribute `.obs` of view, initializing view as actual.\n",
      "  df[key] = c\n",
      "/home/mami/.local/lib/python3.10/site-packages/anndata/_core/anndata.py:1235: ImplicitModificationWarning: Trying to modify attribute `.obs` of view, initializing view as actual.\n",
      "  df[key] = c\n",
      "/home/mami/.local/lib/python3.10/site-packages/anndata/_core/anndata.py:1235: ImplicitModificationWarning: Trying to modify attribute `.obs` of view, initializing view as actual.\n",
      "  df[key] = c\n",
      "/home/mami/.local/lib/python3.10/site-packages/anndata/_core/anndata.py:1235: ImplicitModificationWarning: Trying to modify attribute `.obs` of view, initializing view as actual.\n",
      "  df[key] = c\n",
      "/home/mami/.local/lib/python3.10/site-packages/anndata/_core/anndata.py:1235: ImplicitModificationWarning: Trying to modify attribute `.obs` of view, initializing view as actual.\n",
      "  df[key] = c\n",
      "/home/mami/.local/lib/python3.10/site-packages/anndata/_core/anndata.py:1235: ImplicitModificationWarning: Trying to modify attribute `.obs` of view, initializing view as actual.\n",
      "  df[key] = c\n"
     ]
    },
    {
     "data": {
      "image/png": "[encoded data removed]",
      "text/plain": [
       "<Figure size 720x144 with 6 Axes>"
      ]
     },
     "metadata": {
      "needs_background": "light"
     },
     "output_type": "display_data"
    }
   ],
   "source": [
    "_, ax = plt.subplots(figsize=(10, 2))\n",
    "plot_stacked(data,cell_type_list,genes_list,ax)"
   ]
  },
  {
   "cell_type": "code",
   "execution_count": null,
   "id": "bb8c8e7f-8b5f-4999-880a-4fd179028405",
   "metadata": {},
   "outputs": [],
   "source": []
  },
  {
   "cell_type": "code",
   "execution_count": null,
   "id": "405da0d6",
   "metadata": {},
   "outputs": [],
   "source": []
  }
 ],
 "metadata": {
  "kernelspec": {
   "display_name": "Python 3 (ipykernel)",
   "language": "python",
   "name": "python3"
  },
  "language_info": {
   "codemirror_mode": {
    "name": "ipython",
    "version": 3
   },
   "file_extension": ".py",
   "mimetype": "text/x-python",
   "name": "python",
   "nbconvert_exporter": "python",
   "pygments_lexer": "ipython3",
   "version": "3.10.12"
  }
 },
 "nbformat": 4,
 "nbformat_minor": 5
}
