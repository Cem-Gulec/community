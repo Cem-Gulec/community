{
 "cells": [
  {
   "cell_type": "code",
   "execution_count": 1,
   "id": "83234fd5-24b4-4a7b-9471-46bdf96bc823",
   "metadata": {},
   "outputs": [
    {
     "name": "stderr",
     "output_type": "stream",
     "text": [
      "Warning message:\n",
      "“package ‘tidyverse’ was built under R version 4.1.3”\n",
      "── \u001b[1mAttaching packages\u001b[22m ─────────────────────────────────────────────────────────────────────────────────────────────────────────────────────────────────────────────────────────────────── tidyverse 1.3.2 ──\n",
      "\u001b[32m✔\u001b[39m \u001b[34mggplot2\u001b[39m 3.4.4     \u001b[32m✔\u001b[39m \u001b[34mpurrr  \u001b[39m 1.0.2\n",
      "\u001b[32m✔\u001b[39m \u001b[34mtibble \u001b[39m 3.2.1     \u001b[32m✔\u001b[39m \u001b[34mdplyr  \u001b[39m 1.1.4\n",
      "\u001b[32m✔\u001b[39m \u001b[34mtidyr  \u001b[39m 1.3.1     \u001b[32m✔\u001b[39m \u001b[34mstringr\u001b[39m 1.5.1\n",
      "\u001b[32m✔\u001b[39m \u001b[34mreadr  \u001b[39m 2.1.5     \u001b[32m✔\u001b[39m \u001b[34mforcats\u001b[39m 1.0.0\n",
      "Warning message:\n",
      "“package ‘tibble’ was built under R version 4.1.3”\n",
      "Warning message:\n",
      "“package ‘forcats’ was built under R version 4.1.3”\n",
      "── \u001b[1mConflicts\u001b[22m ────────────────────────────────────────────────────────────────────────────────────────────────────────────────────────────────────────────────────────────────────── tidyverse_conflicts() ──\n",
      "\u001b[31m✖\u001b[39m \u001b[34mdplyr\u001b[39m::\u001b[32mbetween()\u001b[39m   masks \u001b[34mdata.table\u001b[39m::between()\n",
      "\u001b[31m✖\u001b[39m \u001b[34mdplyr\u001b[39m::\u001b[32mfilter()\u001b[39m    masks \u001b[34mstats\u001b[39m::filter()\n",
      "\u001b[31m✖\u001b[39m \u001b[34mdplyr\u001b[39m::\u001b[32mfirst()\u001b[39m     masks \u001b[34mdata.table\u001b[39m::first()\n",
      "\u001b[31m✖\u001b[39m \u001b[34mdplyr\u001b[39m::\u001b[32mlag()\u001b[39m       masks \u001b[34mstats\u001b[39m::lag()\n",
      "\u001b[31m✖\u001b[39m \u001b[34mdplyr\u001b[39m::\u001b[32mlast()\u001b[39m      masks \u001b[34mdata.table\u001b[39m::last()\n",
      "\u001b[31m✖\u001b[39m \u001b[34mpurrr\u001b[39m::\u001b[32mtranspose()\u001b[39m masks \u001b[34mdata.table\u001b[39m::transpose()\n"
     ]
    }
   ],
   "source": [
    "# libraries\n",
    "library(community)\n",
    "library(data.table) #to read gz file\n",
    "library(tidyverse)"
   ]
  },
  {
   "cell_type": "code",
   "execution_count": 2,
   "id": "ce7edda4-fe6e-4827-a919-08d458963e9d",
   "metadata": {},
   "outputs": [],
   "source": [
    "input_dir <- \"input_data/\""
   ]
  },
  {
   "cell_type": "code",
   "execution_count": 3,
   "id": "556a0c1a-d4ba-48d1-8ff1-1de851d91153",
   "metadata": {},
   "outputs": [
    {
     "name": "stdout",
     "output_type": "stream",
     "text": [
      "[1] \"load counts\"\n",
      "'data.frame':\t15770 obs. of  46702 variables:\n",
      " $ X2020.09.15.AML0024.CATCAAGGTTAGCGGA           : num  0 0 0 0 0 0 0 0 0 0 ...\n",
      " $ X2020.09.15.AML0024.CATCAAGTCCGAGAAG           : num  0 0 0 0 0 0 0 0 0 0 ...\n",
      " $ X2020.09.15.AML0024.CATCCACAGGGACCAT           : num  0 0 0 0 0 ...\n",
      " $ X2020.09.15.AML0024.CCTCAACAGAGCAAGA           : num  0 0 0 0 0 0 0 0 0 0 ...\n",
      " $ X2020.09.15.AML0024.CCTCAACAGTTCCATG           : num  0 0.993 0 0 0 ...\n",
      " $ X2020.09.15.AML0024.CCTCAACGTAGAATAC           : num  0 0 0 0 0 0 0 0 0 0 ...\n",
      " $ X2020.09.15.AML0024.CCTCAACGTTCTCCCA           : num  0 0 0 0 0 0 0 0 0 0 ...\n",
      " $ X2020.09.15.AML0024.CCTCAACTCCGAACGC           : num  0 0 0 0 0 ...\n",
      " $ X2020.09.15.AML0024.CCTCAACTCTAGTCAG           : num  0 0 0 0 0 0 0 0 0 0 ...\n",
      " $ X2020.09.15.AML0024.CCTCACAAGACAGTCG           : num  0 0 0 0 0 0 0 0 0 0 ...\n",
      " $ X2020.09.15.AML0024.CCTCACACAATTGCCA           : num  0 0 0 0 0 0 0 0 0 0 ...\n",
      " $ X2020.09.15.AML0024.CCTCACACAGAACTAA           : num  0 0 0 0 0 0 0 0 0 0 ...\n",
      " $ X2020.09.15.AML0024.CCTCACACAGCTGAAG           : num  0 0 0 0 0 0 0 0 0 0 ...\n",
      " $ X2020.09.15.AML0024.CCTCACAGTAATCAGA           : num  0 0 0 0 0 ...\n",
      " $ X2020.09.15.AML0024.CCTCACAGTACTCCGG           : num  0 0 0 0 0 0 0 0 0 0 ...\n",
      " $ X2020.09.15.AML0024.CCTCAACAGAACGCGT           : num  0 0 1.08 0 0 ...\n",
      " $ X2020.09.15.AML0024.CATACTTAGGCGTTAG           : num  0 0 0 0 0 0 0 0 0 0 ...\n",
      " $ X2020.09.15.AML0024.CATACTTAGTTGCATC           : num  0 0 0 0 0 ...\n",
      " $ X2020.09.15.AML0024.CATACTTCAACTTGGT           : num  0 0 0 0 0 0 0 0 0 0 ...\n",
      " $ X2020.09.15.AML0024.CATACTTTCCTTGACC           : num  0 0 0 0 0 0 0 0 0 0 ...\n",
      " $ X2020.09.15.AML0024.CATAGACAGCACTAAA           : num  0 0 0 0 0 0 0 0 0 0 ...\n",
      " $ X2020.09.15.AML0024.CATAGACAGGATCACG           : num  0 0 0 0 0 0 0 0 0 0 ...\n",
      " $ X2020.09.15.AML0024.CATAGACAGGGAGTGG           : num  0 0 0 0 0 0 0 0 0 0 ...\n",
      " $ X2020.09.15.AML0024.CATAGACCACACAGCC           : num  0 0 0 0 0 ...\n",
      " $ X2020.09.15.AML0024.CATAGACTCCATTGGA           : num  0 0 0 0 0 0 0 0 0 0 ...\n",
      " $ X2020.09.15.AML0024.CATCAAGAGAGTTCGG           : num  0 0 0 0 0 0 0 0 0 0 ...\n",
      " $ X2020.09.15.AML0024.CATCAAGAGAGTTGCG           : num  0 0 0 0 0 0 0 0 0 0 ...\n",
      " $ X2020.09.15.AML0024.CCTAAGATCGAGAGCA           : num  0 0 0 0 0 0 0 0 0 0 ...\n",
      " $ X2020.09.15.AML0024.CCTACGTAGCCGTAAG           : num  0 0 0 0 0 0 0 0 0 0 ...\n",
      " $ X2020.09.15.AML0024.CCTACGTCATCCTTCG           : num  0 0 0 0 0.572 ...\n",
      " $ X2020.09.15.AML0024.CCTACGTGTATTTCTC           : num  0 0 0 0 0 0 0 0 0 0 ...\n",
      " $ X2020.09.15.AML0024.CCTACGTGTCTCAGAT           : num  0 0 0 0 0 ...\n",
      " $ X2020.09.15.AML0024.CCTACGTTCCACAAGT           : num  0 0 0 0 0 0 0 0 0 0 ...\n",
      " $ X2020.09.15.AML0024.CCTATCGAGAATCCCT           : num  0 0 0 0 0 0 0 0 0 0 ...\n",
      " $ X2020.09.15.AML0024.CCTATCGAGGAGACCT           : num  0 0 0 0 0 0 0 0 0 0 ...\n",
      " $ X2020.09.15.AML0024.CCTATCGAGTCGAGGT           : num  0 0 0 0 0 0 0 0 0 0 ...\n",
      " $ X2020.09.15.AML0024.CCTATCGCAGAACGCA           : num  0 0 0 0 0 ...\n",
      " $ X2020.09.15.AML0024.CCTATCGCAGCTCGGT           : num  0 0 0 0 0 0 0 0 0 0 ...\n",
      " $ X2020.09.15.AML0024.CCTATCGGTAAGTTGA           : num  0 0 0 0 0 0 0 0 0 0 ...\n",
      " $ X2020.09.15.AML0024.CCTATCGGTCAGTCCG           : num  0 0 0 0 0 0 0 0 0 0 ...\n",
      " $ X2020.09.15.AML0024.CCTATCGTCCGTGTAA           : num  0 0 0 0 0 0 0 0 0 0 ...\n",
      " $ X2020.09.15.AML0024.CCTATCGTCGTAGCCG           : num  0 0 0 0 0 0 0 0 0 0 ...\n",
      " $ X2020.09.15.AML0024.CCTATCGTCTACCACC           : num  0 0 0.634 0 0 ...\n",
      " $ X2020.09.15.AML0024.AAACCCACAACATACC           : num  0 0 0 0 0 0 0 0 0 0 ...\n",
      " $ X2020.09.15.AML0024.AAACCCAGTACAACGG           : num  0 0 0 0 0 0 0 0 0 0 ...\n",
      " $ X2020.09.15.AML0024.AAACCCAGTTGTAGCT           : num  0 0 0 0 0 0 0 0 0 0 ...\n",
      " $ X2020.09.15.AML0024.AAACCCATCATCTGTT           : num  0 0 0 0 0 ...\n",
      " $ X2020.09.15.AML0024.AAACCCATCTCAGAAC           : num  0 0 0 0 0 ...\n",
      " $ X2020.09.15.AML0024.AAACGAACAAGTTCGT           : num  0 0 0 0 0 0 0 0 0 0 ...\n",
      " $ X2020.09.15.AML0024.AAACGAACAGCAGTTT           : num  0 0 0 0 0 0 0 0 0 0 ...\n",
      " $ X2020.09.15.AML0024.AAACGAAGTAACAGTA           : num  0 0 0 0 0 0 0 0 0 0 ...\n",
      " $ X2020.09.15.AML0024.AAACGAATCTTTGGAG           : num  0 0 0 0 0 0 0 0 0 0 ...\n",
      " $ X2020.09.15.AML0024.AAACGCTAGATTAGTG           : num  0 0 0 0 0 0 0 0 0 0 ...\n",
      " $ X2020.09.15.AML0024.AAACGCTAGCGAATGC           : num  0 0 0 0 0 0 0 0 0 0 ...\n",
      " $ X2020.09.15.AML0024.AAACGCTAGTTCCTGA           : num  0 0 0 0 0 ...\n",
      " $ X2020.09.15.AML0024.AAACGCTGTCTACAAC           : num  0 0 0 0 0 0 0 0 0 0 ...\n",
      " $ X2020.09.15.AML0024.AAAGAACAGCACCCAC           : num  0 0 0 0 0 0 0 0 0 0 ...\n",
      " $ X2020.09.15.AML0024.AAAGAACAGCGGACAT           : num  0 0 0 0 0 0 0 0 0 0 ...\n",
      " $ X2020.09.15.AML0024.AAAGAACAGCTGACTT           : num  0 0 0 0.909 0 ...\n",
      " $ X2020.09.15.AML0024.AAAGAACAGGGCTTCC           : num  0 0 0 0 0 ...\n",
      " $ X2020.09.15.AML0024.AAAGAACAGTAAGCAT           : num  0 0 0 0 0 0 0 0 0 0 ...\n",
      " $ X2020.09.15.AML0024.AAAGAACCAACAAAGT           : num  0 0 0 0 0 0 0 0 0 0 ...\n",
      " $ X2020.09.15.AML0024.AAAGAACGTACTCGCG           : num  0 0 0 0 0 ...\n",
      " $ X2020.09.15.AML0024.AAAGAACGTCATCGCG           : num  0 1.22 0 0 0 ...\n",
      " $ X2020.09.15.AML0024.AAAGAACGTGCATACT           : num  0 0 0 0 0 ...\n",
      " $ X2020.09.15.AML0024.AAAGAACGTTTCCAAG           : num  0 0 0 0 0 ...\n",
      " $ X2020.09.15.AML0024.AAAGAACTCCAAATGC           : num  0 0 0 0 0 0 0 0 0 0 ...\n",
      " $ X2020.09.15.AML0024.AAAGAACTCTGGGTCG           : num  0 0 0 0 0 0 0 0 0 0 ...\n",
      " $ X2020.09.15.AML0024.AAAGGATAGCCAGACA           : num  0 0 0 0 0 ...\n",
      " $ X2020.09.15.AML0024.AAAGGATAGCTAGCCC           : num  0 0 0 0 0 ...\n",
      " $ X2020.09.15.AML0024.AAAGGATAGGCTGGAT           : num  0 0 0 0 0 ...\n",
      " $ X2020.09.15.AML0024.AAAGGATAGTTGGCTT           : num  0 0.708 0 0 0 ...\n",
      " $ X2020.09.15.AML0024.AAAGGATCAGACCCGT           : num  0 0 0 0 0 0 0 0 0 0 ...\n",
      " $ X2020.09.15.AML0024.AAAGGATCATCGCTGG           : num  0 0 0 0 0 0 0 0 0 0 ...\n",
      " $ X2020.09.15.AML0024.AAAGGATCATTGGGAG           : num  0 0 0 0 0 0 0 0 0 0 ...\n",
      " $ X2020.09.15.AML0024.AAAGGATTCCCATACC           : num  0 0 0 0 0 ...\n",
      " $ X2020.09.15.AML0024.AAAGGGCCAATTAGGA           : num  0 0 0 0 0 ...\n",
      " $ X2020.09.15.AML0024.AAAGGGCGTGGTCTCG           : num  0 0 0 0 0 0 0 0 0 0 ...\n",
      " $ X2020.09.15.AML0024.AAAGGGCGTTGGGCCT           : num  0 0 0 0 0 0 0 0 0 0 ...\n",
      " $ X2020.09.15.AML0024.AAAGGGCTCATGCCCT           : num  0 0 0 0 0 0 0 0 0 0 ...\n",
      " $ X2020.09.15.AML0024.AAAGGTAAGGACTGGT           : num  0 0 0 0 0 0 0 0 0 0 ...\n",
      " $ X2020.09.15.AML0024.AAAGGTAAGGGAGGTG           : num  0 0 0 0 0 0 0 0 0 0 ...\n",
      " $ X2020.09.15.AML0024.AAAGGTACATCTCAAG           : num  0 0 0 0 0 0 0 0 0 0 ...\n",
      " $ X2020.09.15.AML0024.AAAGGTATCCTAAGTG           : num  0 0 0 0 0 0 0 0 0 0 ...\n",
      " $ X2020.09.15.AML0024.AAAGGTATCTCAGAAC           : num  0 0 0 0 0 0 0 0 0 0 ...\n",
      " $ X2020.09.15.AML0024.AAAGGTATCTGATTCT           : num  0 0 0 0 0 ...\n",
      " $ X2020.09.15.AML0024.AAAGTCCCACCAGTTA           : num  0 0 0 0 0 0 0 0 0 0 ...\n",
      " $ X2020.09.15.AML0024.AAAGTCCCAGAACGCA           : num  0 0 0 0 0 0 0 0 0 0 ...\n",
      " $ X2020.09.15.AML0024.AAAGTGAAGATCCGAG           : num  0 0 0 0 0 0 0 0 0 0 ...\n",
      " $ X2020.09.15.AML0024.AAAGTGAAGCGTGTCC           : num  0 0 0 0 0 0 0 0 0 0 ...\n",
      " $ X2020.09.15.AML0024.AAAGTGAAGGTGGTTG           : num  0 0 0 0 0 0 0 0 0 0 ...\n",
      " $ X2020.09.15.AML0024.AAAGTGAAGTCAGGGT           : num  0 0 0 0 0 0 0 0 0 0 ...\n",
      " $ X2020.09.15.AML0024.AAAGTGAAGTGAATAC           : num  0 0 0.819 0 0 ...\n",
      " $ X2020.09.15.AML0024.AAAGTGACAACCGCCA           : num  0 0 0 0 0 0 0 0 0 0 ...\n",
      " $ X2020.09.15.AML0024.AAAGTGAGTCAACCTA           : num  0 0 0 0 0 ...\n",
      " $ X2020.09.15.AML0024.AAAGTGAGTCGTTGCG           : num  0 0 0 0 0 0 0 0 0 0 ...\n",
      " $ X2020.09.15.AML0024.AAAGTGAGTTACACAC           : num  0 0 0 0 0 0 0 0 0 0 ...\n",
      " $ X2020.09.15.AML0024.AAAGTGATCATTCGTT           : num  0 0 0 0 0 0 0 0 0 0 ...\n",
      " $ X2020.09.15.AML0024.AAATGGAAGCTGTGCC           : num  0 0 0 0 0 0 0 0 0 0 ...\n",
      "  [list output truncated]\n",
      "NULL\n"
     ]
    }
   ],
   "source": [
    "# # load counts\n",
    "print(\"load counts\")\n",
    "counts <- fread(paste0(input_dir,\"counts_lognorm.csv.gz\"), header = TRUE)\n",
    "counts <- as.data.frame(counts)\n",
    "rownames(counts) <- counts$gene_symbol\n",
    "counts <- counts[,-1]\n",
    "print(str(counts))"
   ]
  },
  {
   "cell_type": "code",
   "execution_count": 4,
   "id": "17501422-8927-4132-abc2-a52f7d0b3f69",
   "metadata": {},
   "outputs": [
    {
     "name": "stdout",
     "output_type": "stream",
     "text": [
      "[1] \"load cell annotation\"\n",
      "'data.frame':\t46702 obs. of  92 variables:\n",
      " $ sample_ID                    : chr  \"AML-0024\" \"AML-0024\" \"AML-0024\" \"AML-0024\" ...\n",
      " $ cell                         : chr  \"2020-09-15-AML0024:CATCAAGGTTAGCGGA\" \"2020-09-15-AML0024:CATCAAGTCCGAGAAG\" \"2020-09-15-AML0024:CATCCACAGGGACCAT\" \"2020-09-15-AML0024:CCTCAACAGAGCAAGA\" ...\n",
      " $ UMAP_1                       : num  -0.731 -2.2 -2.867 -1.666 -0.972 ...\n",
      " $ UMAP_2                       : num  -15.8 -16.7 -16.1 -16.1 -17.5 ...\n",
      " $ orig.ident                   : chr  \"2020-09-15-AML0024\" \"2020-09-15-AML0024\" \"2020-09-15-AML0024\" \"2020-09-15-AML0024\" ...\n",
      " $ samples                      : chr  \"AML0024\" \"AML0024\" \"AML0024\" \"AML0024\" ...\n",
      " $ Broad_cell_identity          : chr  \"CD14+ monocyte\" \"CD14+ monocyte\" \"CD16+ monocyte\" \"CD14+ monocyte\" ...\n",
      " $ Cell_type_identity           : chr  \"CD14+ IFN+\" \"CD14+\" \"CD16+\" \"CD14+ IFN+\" ...\n",
      " $ clusters_res.2               : int  7 7 7 7 80 7 7 7 7 7 ...\n",
      " $ CNV_pos                      : chr  \"CNV+\" \"CNV+\" \"CNV+\" \"CNV+\" ...\n",
      " $ malignant                    : chr  \"malignant\" \"malignant\" \"malignant\" \"malignant\" ...\n",
      " $ aml                          : chr  \"AML\" \"AML\" \"AML\" \"AML\" ...\n",
      " $ ap_aml_age                   : chr  \"adult_AML\" \"adult_AML\" \"adult_AML\" \"adult_AML\" ...\n",
      " $ age_group                    : chr  \"adult_60up\" \"adult_60up\" \"adult_60up\" \"adult_60up\" ...\n",
      " $ sex.x                        : chr  \"male\" \"male\" \"male\" \"male\" ...\n",
      " $ inflammation_group           : chr  \"Inflammation_high\" \"Inflammation_high\" \"Inflammation_high\" \"Inflammation_high\" ...\n",
      " $ occupancy_score              : num  1 1 1 1 1 1 1 1 1 1 ...\n",
      " $ GSM                          : chr  \"GSM5613779\" \"GSM5613779\" \"GSM5613779\" \"GSM5613779\" ...\n",
      " $ date                         : chr  \"2020-09-15\" \"2020-09-15\" \"2020-09-15\" \"2020-09-15\" ...\n",
      " $ cell_ID                      : chr  \"2020.09.15.AML0024.CATCAAGGTTAGCGGA\" \"2020.09.15.AML0024.CATCAAGTCCGAGAAG\" \"2020.09.15.AML0024.CATCCACAGGGACCAT\" \"2020.09.15.AML0024.CCTCAACAGAGCAAGA\" ...\n",
      " $ cell_type_original           : chr  \"CD14+ monocyte\" \"CD14+ monocyte\" \"CD16+ monocyte\" \"CD14+ monocyte\" ...\n",
      " $ Sample.ID                    : chr  \"U-06-0024\" \"U-06-0024\" \"U-06-0024\" \"U-06-0024\" ...\n",
      " $ sex.y                        : chr  \"M\" \"M\" \"M\" \"M\" ...\n",
      " $ Age                          : int  64 64 64 64 64 64 64 64 64 64 ...\n",
      " $ Sequencing                   : chr  \"CITE-seq\" \"CITE-seq\" \"CITE-seq\" \"CITE-seq\" ...\n",
      " $ Institution                  : chr  \"OSU\" \"OSU\" \"OSU\" \"OSU\" ...\n",
      " $ Manuscript.ID                : chr  \"AML0024\" \"AML0024\" \"AML0024\" \"AML0024\" ...\n",
      " $ Dx                           : chr  \"AML\" \"AML\" \"AML\" \"AML\" ...\n",
      " $ DxELN_Cytogenetic            : chr  \"Adverse\" \"Adverse\" \"Adverse\" \"Adverse\" ...\n",
      " $ Cytogenetics                 : chr  \"48,XY,+8,+8,i(8)(p10),t(9;15)(q33;q15),del(10)(q22.1q24),del(13)(q14q21)\" \"48,XY,+8,+8,i(8)(p10),t(9;15)(q33;q15),del(10)(q22.1q24),del(13)(q14q21)\" \"48,XY,+8,+8,i(8)(p10),t(9;15)(q33;q15),del(10)(q22.1q24),del(13)(q14q21)\" \"48,XY,+8,+8,i(8)(p10),t(9;15)(q33;q15),del(10)(q22.1q24),del(13)(q14q21)\" ...\n",
      " $ Overall.survival             : int  137 137 137 137 137 137 137 137 137 137 ...\n",
      " $ Flow.report.summary          : chr  \"\" \"\" \"\" \"\" ...\n",
      " $ RAS.pathway                  : chr  \"\" \"\" \"\" \"\" ...\n",
      " $ NPM1                         : chr  \"\" \"\" \"\" \"\" ...\n",
      " $ IDH                          : chr  \"\" \"\" \"\" \"\" ...\n",
      " $ TET2                         : chr  \"\" \"\" \"\" \"\" ...\n",
      " $ TP53                         : chr  \"\" \"\" \"\" \"\" ...\n",
      " $ RUNX1                        : chr  \"\" \"\" \"\" \"\" ...\n",
      " $ CBF                          : logi  NA NA NA NA NA NA ...\n",
      " $ MLL.rearranged               : logi  NA NA NA NA NA NA ...\n",
      " $ IDH1                         : chr  \"0+T2:BL24\" \"0+T2:BL24\" \"0+T2:BL24\" \"0+T2:BL24\" ...\n",
      " $ IDH2                         : chr  \"0,46\" \"0,46\" \"0,46\" \"0,46\" ...\n",
      " $ ASXL1                        : chr  \"0\" \"0\" \"0\" \"0\" ...\n",
      " $ BCOR                         : chr  \"0,99\" \"0,99\" \"0,99\" \"0,99\" ...\n",
      " $ CBL                          : int  0 0 0 0 0 0 0 0 0 0 ...\n",
      " $ CEBPAdm                      : int  0 0 0 0 0 0 0 0 0 0 ...\n",
      " $ CSF3R                        : chr  \"0\" \"0\" \"0\" \"0\" ...\n",
      " $ DNMT3A                       : chr  \"0\" \"0\" \"0\" \"0\" ...\n",
      " $ ETV6                         : int  0 0 0 0 0 0 0 0 0 0 ...\n",
      " $ FLT3.TKD                     : chr  \"0,06\" \"0,06\" \"0,06\" \"0,06\" ...\n",
      " $ FLT3.ITD                     : int  0 0 0 0 0 0 0 0 0 0 ...\n",
      " $ GATA2                        : int  0 0 0 0 0 0 0 0 0 0 ...\n",
      " $ JAK2                         : int  0 0 0 0 0 0 0 0 0 0 ...\n",
      " $ KIT                          : int  0 0 0 0 0 0 0 0 0 0 ...\n",
      " $ NPM1.1                       : chr  \"0,17\" \"0,17\" \"0,17\" \"0,17\" ...\n",
      " $ NRAS                         : int  0 0 0 0 0 0 0 0 0 0 ...\n",
      " $ KRAS                         : chr  \"0\" \"0\" \"0\" \"0\" ...\n",
      " $ PTPN11                       : chr  \"0,17\" \"0,17\" \"0,17\" \"0,17\" ...\n",
      " $ PHF6                         : int  0 0 0 0 0 0 0 0 0 0 ...\n",
      " $ RAD21                        : int  0 0 0 0 0 0 0 0 0 0 ...\n",
      " $ RUNX1.1                      : chr  \"0\" \"0\" \"0\" \"0\" ...\n",
      " $ SETBP1                       : int  0 0 0 0 0 0 0 0 0 0 ...\n",
      " $ SMC1A                        : int  0 0 0 0 0 0 0 0 0 0 ...\n",
      " $ STAG2                        : int  0 0 0 0 0 0 0 0 0 0 ...\n",
      " $ SRSF2                        : chr  \"0\" \"0\" \"0\" \"0\" ...\n",
      " $ SF3B1                        : int  0 0 0 0 0 0 0 0 0 0 ...\n",
      " $ TET2.1                       : chr  \"0\" \"0\" \"0\" \"0\" ...\n",
      " $ U2AF1                        : chr  \"0,45\" \"0,45\" \"0,45\" \"0,45\" ...\n",
      " $ WT1                          : int  0 0 0 0 0 0 0 0 0 0 ...\n",
      " $ TP53.1                       : chr  \"0\" \"0\" \"0\" \"0\" ...\n",
      " $ ZRSR2                        : int  0 0 0 0 0 0 0 0 0 0 ...\n",
      " $ health_status                : chr  \"AML\" \"AML\" \"AML\" \"AML\" ...\n",
      " $ case_or_control              : chr  \"case\" \"case\" \"case\" \"case\" ...\n",
      " $ cell_type                    : chr  \"Mono\" \"Mono\" \"Mono\" \"Mono\" ...\n",
      " $ cell_subtype                 : chr  \"Mono\" \"Mono\" \"Mono\" \"Mono\" ...\n",
      " $ total_counts_raw             : num  2591 2598 2665 2751 2845 ...\n",
      " $ mito_counts                  : num  31.5 37.5 40.8 37.1 44.3 ...\n",
      " $ frac_mito                    : num  0.0122 0.0144 0.0153 0.0135 0.0156 ...\n",
      " $ nr_genes                     : int  1946 2177 2027 2731 2161 2297 2783 2352 2691 2659 ...\n",
      " $ counts_upper_threshold       : int  30000 30000 30000 30000 30000 30000 30000 30000 30000 30000 ...\n",
      " $ counts_lower_threshold       : int  1100 1100 1100 1100 1100 1100 1100 1100 1100 1100 ...\n",
      " $ genes_lower_threshold        : int  500 500 500 500 500 500 500 500 500 500 ...\n",
      " $ counts_upper_filter          : logi  TRUE TRUE TRUE TRUE TRUE TRUE ...\n",
      " $ counts_lower_filter          : logi  TRUE TRUE TRUE TRUE TRUE TRUE ...\n",
      " $ genes_lower_filter           : logi  TRUE TRUE TRUE TRUE TRUE TRUE ...\n",
      " $ cell_filter                  : logi  TRUE TRUE TRUE TRUE TRUE TRUE ...\n",
      " $ threshold_celltype_size      : int  5 5 5 5 5 5 5 5 5 5 ...\n",
      " $ celltype_size_cf             : int  5451 5451 5451 5451 5451 5451 5451 5451 5451 452 ...\n",
      " $ celltype_size_filter         : logi  TRUE TRUE TRUE TRUE TRUE TRUE ...\n",
      " $ cell_type_ID                 : chr  \"Mono_AML-0024\" \"Mono_AML-0024\" \"Mono_AML-0024\" \"Mono_AML-0024\" ...\n",
      " $ total_counts_raw_cf_ctf_gf   : num  2584 2594 2656 2743 2843 ...\n",
      " $ total_counts_raw_cf_ctf_gf_sf: num  2584 2594 2656 2743 2843 ...\n",
      "NULL\n"
     ]
    }
   ],
   "source": [
    "# load cell annotation\n",
    "print(\"load cell annotation\")\n",
    "anno_cells <- read.table(paste0(input_dir,\"anno_cells_norm.txt\")\n",
    "                         ,sep = \"\\t\"\n",
    "                         # ,row.names = 1\n",
    "                         ,header = TRUE\n",
    "                         )\n",
    "print(str(anno_cells))"
   ]
  },
  {
   "cell_type": "code",
   "execution_count": 7,
   "id": "d0c0567a-9c30-444f-aa95-447377fbf052",
   "metadata": {},
   "outputs": [],
   "source": [
    "data(\"LR_database\")"
   ]
  },
  {
   "cell_type": "code",
   "execution_count": 15,
   "id": "84c18853-2352-4203-8f17-4934733f6cd1",
   "metadata": {},
   "outputs": [],
   "source": [
    "gene_space <- unique(LR_database$Ligand,LR_database$Receptor)"
   ]
  },
  {
   "cell_type": "code",
   "execution_count": 20,
   "id": "f499501b-49da-46cb-be06-68ccc04e1618",
   "metadata": {},
   "outputs": [
    {
     "data": {
      "text/html": [
       "<style>\n",
       ".list-inline {list-style: none; margin:0; padding: 0}\n",
       ".list-inline>li {display: inline-block}\n",
       ".list-inline>li:not(:last-child)::after {content: \"\\00b7\"; padding: 0 .5ex}\n",
       "</style>\n",
       "<ol class=list-inline><li>'2020.09.15.AML0024.CATCAAGGTTAGCGGA'</li><li>'2020.09.15.AML0024.CATCAAGTCCGAGAAG'</li><li>'2020.09.15.AML0024.CATCCACAGGGACCAT'</li><li>'2020.09.15.AML0024.CCTCAACAGAGCAAGA'</li><li>'2020.09.15.AML0024.CCTCAACAGTTCCATG'</li><li>'2020.09.15.AML0024.CCTCAACGTAGAATAC'</li></ol>\n"
      ],
      "text/latex": [
       "\\begin{enumerate*}\n",
       "\\item '2020.09.15.AML0024.CATCAAGGTTAGCGGA'\n",
       "\\item '2020.09.15.AML0024.CATCAAGTCCGAGAAG'\n",
       "\\item '2020.09.15.AML0024.CATCCACAGGGACCAT'\n",
       "\\item '2020.09.15.AML0024.CCTCAACAGAGCAAGA'\n",
       "\\item '2020.09.15.AML0024.CCTCAACAGTTCCATG'\n",
       "\\item '2020.09.15.AML0024.CCTCAACGTAGAATAC'\n",
       "\\end{enumerate*}\n"
      ],
      "text/markdown": [
       "1. '2020.09.15.AML0024.CATCAAGGTTAGCGGA'\n",
       "2. '2020.09.15.AML0024.CATCAAGTCCGAGAAG'\n",
       "3. '2020.09.15.AML0024.CATCCACAGGGACCAT'\n",
       "4. '2020.09.15.AML0024.CCTCAACAGAGCAAGA'\n",
       "5. '2020.09.15.AML0024.CCTCAACAGTTCCATG'\n",
       "6. '2020.09.15.AML0024.CCTCAACGTAGAATAC'\n",
       "\n",
       "\n"
      ],
      "text/plain": [
       "[1] \"2020.09.15.AML0024.CATCAAGGTTAGCGGA\" \"2020.09.15.AML0024.CATCAAGTCCGAGAAG\"\n",
       "[3] \"2020.09.15.AML0024.CATCCACAGGGACCAT\" \"2020.09.15.AML0024.CCTCAACAGAGCAAGA\"\n",
       "[5] \"2020.09.15.AML0024.CCTCAACAGTTCCATG\" \"2020.09.15.AML0024.CCTCAACGTAGAATAC\""
      ]
     },
     "metadata": {},
     "output_type": "display_data"
    }
   ],
   "source": [
    "head(anno_cells$cell_ID)"
   ]
  },
  {
   "cell_type": "code",
   "execution_count": 21,
   "id": "53c4f806-d995-499f-b695-a4b4684ad174",
   "metadata": {},
   "outputs": [
    {
     "data": {
      "text/html": [
       "<style>\n",
       ".list-inline {list-style: none; margin:0; padding: 0}\n",
       ".list-inline>li {display: inline-block}\n",
       ".list-inline>li:not(:last-child)::after {content: \"\\00b7\"; padding: 0 .5ex}\n",
       "</style>\n",
       "<ol class=list-inline><li>'X2020.09.15.AML0024.CATCAAGGTTAGCGGA'</li><li>'X2020.09.15.AML0024.CATCAAGTCCGAGAAG'</li><li>'X2020.09.15.AML0024.CATCCACAGGGACCAT'</li><li>'X2020.09.15.AML0024.CCTCAACAGAGCAAGA'</li><li>'X2020.09.15.AML0024.CCTCAACAGTTCCATG'</li><li>'X2020.09.15.AML0024.CCTCAACGTAGAATAC'</li></ol>\n"
      ],
      "text/latex": [
       "\\begin{enumerate*}\n",
       "\\item 'X2020.09.15.AML0024.CATCAAGGTTAGCGGA'\n",
       "\\item 'X2020.09.15.AML0024.CATCAAGTCCGAGAAG'\n",
       "\\item 'X2020.09.15.AML0024.CATCCACAGGGACCAT'\n",
       "\\item 'X2020.09.15.AML0024.CCTCAACAGAGCAAGA'\n",
       "\\item 'X2020.09.15.AML0024.CCTCAACAGTTCCATG'\n",
       "\\item 'X2020.09.15.AML0024.CCTCAACGTAGAATAC'\n",
       "\\end{enumerate*}\n"
      ],
      "text/markdown": [
       "1. 'X2020.09.15.AML0024.CATCAAGGTTAGCGGA'\n",
       "2. 'X2020.09.15.AML0024.CATCAAGTCCGAGAAG'\n",
       "3. 'X2020.09.15.AML0024.CATCCACAGGGACCAT'\n",
       "4. 'X2020.09.15.AML0024.CCTCAACAGAGCAAGA'\n",
       "5. 'X2020.09.15.AML0024.CCTCAACAGTTCCATG'\n",
       "6. 'X2020.09.15.AML0024.CCTCAACGTAGAATAC'\n",
       "\n",
       "\n"
      ],
      "text/plain": [
       "[1] \"X2020.09.15.AML0024.CATCAAGGTTAGCGGA\"\n",
       "[2] \"X2020.09.15.AML0024.CATCAAGTCCGAGAAG\"\n",
       "[3] \"X2020.09.15.AML0024.CATCCACAGGGACCAT\"\n",
       "[4] \"X2020.09.15.AML0024.CCTCAACAGAGCAAGA\"\n",
       "[5] \"X2020.09.15.AML0024.CCTCAACAGTTCCATG\"\n",
       "[6] \"X2020.09.15.AML0024.CCTCAACGTAGAATAC\""
      ]
     },
     "metadata": {},
     "output_type": "display_data"
    }
   ],
   "source": [
    "head(colnames(counts))"
   ]
  },
  {
   "cell_type": "code",
   "execution_count": 22,
   "id": "4ee62da7-cb69-4906-8466-f43fe415a9eb",
   "metadata": {},
   "outputs": [],
   "source": [
    "colnames(counts) <- anno_cells$cell_ID"
   ]
  },
  {
   "cell_type": "code",
   "execution_count": null,
   "id": "4c213bae-dd8c-4c1c-a95b-c1e29c88fa39",
   "metadata": {},
   "outputs": [],
   "source": []
  },
  {
   "cell_type": "code",
   "execution_count": 65,
   "id": "3692fc67-eecf-47bb-9a81-15b4d279fffb",
   "metadata": {},
   "outputs": [],
   "source": [
    "mono <- anno_cells[anno_cells$cell_type == \"Mono\",]"
   ]
  },
  {
   "cell_type": "code",
   "execution_count": 66,
   "id": "9615d346-d598-4efa-8959-d99d05f694e2",
   "metadata": {},
   "outputs": [],
   "source": [
    "counts_mono <- counts[,colnames(counts) %in% mono$cell_ID]"
   ]
  },
  {
   "cell_type": "code",
   "execution_count": 67,
   "id": "81aa194d-42e4-45a5-8d48-96160a776267",
   "metadata": {},
   "outputs": [],
   "source": [
    "counts_mono <- counts_mono[rownames(counts_mono) %in% gene_space, ]"
   ]
  },
  {
   "cell_type": "code",
   "execution_count": 73,
   "id": "8e8a6482-151a-46ed-a6ca-e21fea19d9f6",
   "metadata": {},
   "outputs": [
    {
     "data": {
      "text/html": [
       "18004"
      ],
      "text/latex": [
       "18004"
      ],
      "text/markdown": [
       "18004"
      ],
      "text/plain": [
       "[1] 18004"
      ]
     },
     "metadata": {},
     "output_type": "display_data"
    }
   ],
   "source": [
    "nrow(mono)"
   ]
  },
  {
   "cell_type": "code",
   "execution_count": 72,
   "id": "64f86b39-bd2b-4983-9cf6-af94ee0981dd",
   "metadata": {},
   "outputs": [
    {
     "data": {
      "text/html": [
       "18004"
      ],
      "text/latex": [
       "18004"
      ],
      "text/markdown": [
       "18004"
      ],
      "text/plain": [
       "[1] 18004"
      ]
     },
     "metadata": {},
     "output_type": "display_data"
    }
   ],
   "source": [
    "ncol(counts_mono)"
   ]
  },
  {
   "cell_type": "code",
   "execution_count": 74,
   "id": "0cfa1d8e-0637-4a63-8cc6-cf0f328a5f0b",
   "metadata": {},
   "outputs": [],
   "source": [
    "library(ggplot2)"
   ]
  },
  {
   "cell_type": "code",
   "execution_count": 112,
   "id": "46ec7c04-aaef-4cfc-955f-3b222f11877f",
   "metadata": {},
   "outputs": [],
   "source": [
    "gene_counts_sum_df <- data.frame(Gene = rownames(counts_mono), Count = rowSums(counts_mono))"
   ]
  },
  {
   "cell_type": "code",
   "execution_count": null,
   "id": "45fc005f-9fb1-4a7e-82b1-7dace94a84f5",
   "metadata": {},
   "outputs": [],
   "source": []
  },
  {
   "cell_type": "code",
   "execution_count": 110,
   "id": "f3e56802-189f-4d4f-8202-5ac3766e0e22",
   "metadata": {},
   "outputs": [],
   "source": [
    "gene_counts_sum_df <- gene_counts_sum_df[gene_counts_sum_df$Count > 0,]"
   ]
  },
  {
   "cell_type": "code",
   "execution_count": null,
   "id": "0d5dc547-d29f-436d-9df6-b37179e6f285",
   "metadata": {},
   "outputs": [],
   "source": []
  },
  {
   "cell_type": "code",
   "execution_count": 113,
   "id": "93c0bdc3-a7f2-4e2d-926f-9febe82b7840",
   "metadata": {},
   "outputs": [
    {
     "data": {
      "image/png": "[encoded data removed]",
      "text/plain": [
       "plot without title"
      ]
     },
     "metadata": {
      "image/png": {
       "height": 420,
       "width": 420
      }
     },
     "output_type": "display_data"
    }
   ],
   "source": [
    "# Create a ggplot\n",
    "ggplot(gene_counts_sum_df, aes(x = Count)) +\n",
    "  geom_histogram(bins = 30, fill = 'blue', color = 'black') +\n",
    "  labs(title = \"Distribution of Gene Counts\", x = \"Sum of Counts per Gene\", y = \"Frequency\") +\n",
    "  theme_minimal()"
   ]
  },
  {
   "cell_type": "code",
   "execution_count": 114,
   "id": "38cd6a96-38dc-4eaf-81a7-8013d2ff56f2",
   "metadata": {},
   "outputs": [
    {
     "data": {
      "text/html": [
       "<table class=\"dataframe\">\n",
       "<caption>A data.frame: 2 × 2</caption>\n",
       "<thead>\n",
       "\t<tr><th></th><th scope=col>Gene</th><th scope=col>Count</th></tr>\n",
       "\t<tr><th></th><th scope=col>&lt;chr&gt;</th><th scope=col>&lt;dbl&gt;</th></tr>\n",
       "</thead>\n",
       "<tbody>\n",
       "\t<tr><th scope=row>IGF2</th><td>IGF2 </td><td>0</td></tr>\n",
       "\t<tr><th scope=row>IFNL1</th><td>IFNL1</td><td>0</td></tr>\n",
       "</tbody>\n",
       "</table>\n"
      ],
      "text/latex": [
       "A data.frame: 2 × 2\n",
       "\\begin{tabular}{r|ll}\n",
       "  & Gene & Count\\\\\n",
       "  & <chr> & <dbl>\\\\\n",
       "\\hline\n",
       "\tIGF2 & IGF2  & 0\\\\\n",
       "\tIFNL1 & IFNL1 & 0\\\\\n",
       "\\end{tabular}\n"
      ],
      "text/markdown": [
       "\n",
       "A data.frame: 2 × 2\n",
       "\n",
       "| <!--/--> | Gene &lt;chr&gt; | Count &lt;dbl&gt; |\n",
       "|---|---|---|\n",
       "| IGF2 | IGF2  | 0 |\n",
       "| IFNL1 | IFNL1 | 0 |\n",
       "\n"
      ],
      "text/plain": [
       "      Gene  Count\n",
       "IGF2  IGF2  0    \n",
       "IFNL1 IFNL1 0    "
      ]
     },
     "metadata": {},
     "output_type": "display_data"
    }
   ],
   "source": [
    "gene_counts_sum_df[gene_counts_sum_df$Count == 0,]"
   ]
  },
  {
   "cell_type": "code",
   "execution_count": 115,
   "id": "e6698bd2-8c34-4715-8080-9440668814ac",
   "metadata": {},
   "outputs": [
    {
     "data": {
      "text/html": [
       "<table class=\"dataframe\">\n",
       "<caption>A data.frame: 830 × 2</caption>\n",
       "<thead>\n",
       "\t<tr><th></th><th scope=col>Gene</th><th scope=col>Count</th></tr>\n",
       "\t<tr><th></th><th scope=col>&lt;chr&gt;</th><th scope=col>&lt;dbl&gt;</th></tr>\n",
       "</thead>\n",
       "<tbody>\n",
       "\t<tr><th scope=row>AGRN</th><td>AGRN     </td><td>  135.934771</td></tr>\n",
       "\t<tr><th scope=row>GNB1</th><td>GNB1     </td><td>10474.846771</td></tr>\n",
       "\t<tr><th scope=row>UTS2</th><td>UTS2     </td><td>  129.802135</td></tr>\n",
       "\t<tr><th scope=row>PIK3CD</th><td>PIK3CD   </td><td> 1904.188619</td></tr>\n",
       "\t<tr><th scope=row>CORT</th><td>CORT     </td><td>   16.668630</td></tr>\n",
       "\t<tr><th scope=row>DRAXIN</th><td>DRAXIN   </td><td>   61.520747</td></tr>\n",
       "\t<tr><th scope=row>AGTRAP</th><td>AGTRAP   </td><td>15189.746782</td></tr>\n",
       "\t<tr><th scope=row>TNFRSF8</th><td>TNFRSF8  </td><td>  474.249685</td></tr>\n",
       "\t<tr><th scope=row>EPHA2</th><td>EPHA2    </td><td>    2.472859</td></tr>\n",
       "\t<tr><th scope=row>NBL1</th><td>NBL1     </td><td>   75.110159</td></tr>\n",
       "\t<tr><th scope=row>HSPG2</th><td>HSPG2    </td><td>  106.137725</td></tr>\n",
       "\t<tr><th scope=row>C1QA</th><td>C1QA     </td><td> 5798.888064</td></tr>\n",
       "\t<tr><th scope=row>C1QB</th><td>C1QB     </td><td> 2253.702958</td></tr>\n",
       "\t<tr><th scope=row>CD52</th><td>CD52     </td><td>19790.849500</td></tr>\n",
       "\t<tr><th scope=row>PTAFR</th><td>PTAFR    </td><td> 4189.991125</td></tr>\n",
       "\t<tr><th scope=row>MATN1</th><td>MATN1    </td><td>    5.283920</td></tr>\n",
       "\t<tr><th scope=row>TXLNA</th><td>TXLNA    </td><td> 1381.686889</td></tr>\n",
       "\t<tr><th scope=row>LCK</th><td>LCK      </td><td>   41.958262</td></tr>\n",
       "\t<tr><th scope=row>KIAA0319L</th><td>KIAA0319L</td><td> 2910.443336</td></tr>\n",
       "\t<tr><th scope=row>COL8A2</th><td>COL8A2   </td><td>  280.744908</td></tr>\n",
       "\t<tr><th scope=row>CSF3R</th><td>CSF3R    </td><td>16420.807908</td></tr>\n",
       "\t<tr><th scope=row>BMP8A</th><td>BMP8A    </td><td>    3.265651</td></tr>\n",
       "\t<tr><th scope=row>BMP8B</th><td>BMP8B    </td><td>  275.524126</td></tr>\n",
       "\t<tr><th scope=row>RLF</th><td>RLF      </td><td> 3013.413150</td></tr>\n",
       "\t<tr><th scope=row>COL9A2</th><td>COL9A2   </td><td>  692.430767</td></tr>\n",
       "\t<tr><th scope=row>YBX1</th><td>YBX1     </td><td>35741.917621</td></tr>\n",
       "\t<tr><th scope=row>TIE1</th><td>TIE1     </td><td>   16.909584</td></tr>\n",
       "\t<tr><th scope=row>ARTN</th><td>ARTN     </td><td>   47.359583</td></tr>\n",
       "\t<tr><th scope=row>PTCH2</th><td>PTCH2    </td><td> 2038.142223</td></tr>\n",
       "\t<tr><th scope=row>PATJ</th><td>PATJ     </td><td>   17.955595</td></tr>\n",
       "\t<tr><th scope=row>⋮</th><td>⋮</td><td>⋮</td></tr>\n",
       "\t<tr><th scope=row>DUSP18</th><td>DUSP18   </td><td> 1200.440906</td></tr>\n",
       "\t<tr><th scope=row>TIMP3</th><td>TIMP3    </td><td>    6.455261</td></tr>\n",
       "\t<tr><th scope=row>CSF2RB</th><td>CSF2RB   </td><td> 2112.100749</td></tr>\n",
       "\t<tr><th scope=row>IL2RB</th><td>IL2RB    </td><td>   29.337886</td></tr>\n",
       "\t<tr><th scope=row>MFNG</th><td>MFNG     </td><td> 1900.440731</td></tr>\n",
       "\t<tr><th scope=row>LGALS1</th><td>LGALS1   </td><td>50484.577974</td></tr>\n",
       "\t<tr><th scope=row>PDGFB</th><td>PDGFB    </td><td>   13.051204</td></tr>\n",
       "\t<tr><th scope=row>TNFRSF13C</th><td>TNFRSF13C</td><td>   31.234296</td></tr>\n",
       "\t<tr><th scope=row>PLXNB2</th><td>PLXNB2   </td><td> 5962.273242</td></tr>\n",
       "\t<tr><th scope=row>CD99</th><td>CD99     </td><td>15029.248718</td></tr>\n",
       "\t<tr><th scope=row>PIGA</th><td>PIGA     </td><td> 1663.160957</td></tr>\n",
       "\t<tr><th scope=row>APOO</th><td>APOO     </td><td>  239.600629</td></tr>\n",
       "\t<tr><th scope=row>TIMP1</th><td>TIMP1    </td><td>30543.267699</td></tr>\n",
       "\t<tr><th scope=row>CFP</th><td>CFP      </td><td>20542.549498</td></tr>\n",
       "\t<tr><th scope=row>PCSK1N</th><td>PCSK1N   </td><td>    3.128679</td></tr>\n",
       "\t<tr><th scope=row>VSIG4</th><td>VSIG4    </td><td> 3198.890551</td></tr>\n",
       "\t<tr><th scope=row>EDA2R</th><td>EDA2R    </td><td>    6.625673</td></tr>\n",
       "\t<tr><th scope=row>AR</th><td>AR       </td><td>   50.888585</td></tr>\n",
       "\t<tr><th scope=row>EFNB1</th><td>EFNB1    </td><td>  241.563150</td></tr>\n",
       "\t<tr><th scope=row>EDA</th><td>EDA      </td><td>   59.325571</td></tr>\n",
       "\t<tr><th scope=row>IL2RG</th><td>IL2RG    </td><td> 1755.072729</td></tr>\n",
       "\t<tr><th scope=row>NLGN3</th><td>NLGN3    </td><td>   24.377172</td></tr>\n",
       "\t<tr><th scope=row>BTK</th><td>BTK      </td><td> 3707.520307</td></tr>\n",
       "\t<tr><th scope=row>COL4A5</th><td>COL4A5   </td><td>    7.316037</td></tr>\n",
       "\t<tr><th scope=row>IL13RA1</th><td>IL13RA1  </td><td> 4549.397117</td></tr>\n",
       "\t<tr><th scope=row>GPC4</th><td>GPC4     </td><td>   57.035771</td></tr>\n",
       "\t<tr><th scope=row>CD40LG</th><td>CD40LG   </td><td>    1.639509</td></tr>\n",
       "\t<tr><th scope=row>SLC6A8</th><td>SLC6A8   </td><td>  130.149026</td></tr>\n",
       "\t<tr><th scope=row>FLNA</th><td>FLNA     </td><td>21483.286888</td></tr>\n",
       "\t<tr><th scope=row>F8</th><td>F8       </td><td>  190.766342</td></tr>\n",
       "</tbody>\n",
       "</table>\n"
      ],
      "text/latex": [
       "A data.frame: 830 × 2\n",
       "\\begin{tabular}{r|ll}\n",
       "  & Gene & Count\\\\\n",
       "  & <chr> & <dbl>\\\\\n",
       "\\hline\n",
       "\tAGRN & AGRN      &   135.934771\\\\\n",
       "\tGNB1 & GNB1      & 10474.846771\\\\\n",
       "\tUTS2 & UTS2      &   129.802135\\\\\n",
       "\tPIK3CD & PIK3CD    &  1904.188619\\\\\n",
       "\tCORT & CORT      &    16.668630\\\\\n",
       "\tDRAXIN & DRAXIN    &    61.520747\\\\\n",
       "\tAGTRAP & AGTRAP    & 15189.746782\\\\\n",
       "\tTNFRSF8 & TNFRSF8   &   474.249685\\\\\n",
       "\tEPHA2 & EPHA2     &     2.472859\\\\\n",
       "\tNBL1 & NBL1      &    75.110159\\\\\n",
       "\tHSPG2 & HSPG2     &   106.137725\\\\\n",
       "\tC1QA & C1QA      &  5798.888064\\\\\n",
       "\tC1QB & C1QB      &  2253.702958\\\\\n",
       "\tCD52 & CD52      & 19790.849500\\\\\n",
       "\tPTAFR & PTAFR     &  4189.991125\\\\\n",
       "\tMATN1 & MATN1     &     5.283920\\\\\n",
       "\tTXLNA & TXLNA     &  1381.686889\\\\\n",
       "\tLCK & LCK       &    41.958262\\\\\n",
       "\tKIAA0319L & KIAA0319L &  2910.443336\\\\\n",
       "\tCOL8A2 & COL8A2    &   280.744908\\\\\n",
       "\tCSF3R & CSF3R     & 16420.807908\\\\\n",
       "\tBMP8A & BMP8A     &     3.265651\\\\\n",
       "\tBMP8B & BMP8B     &   275.524126\\\\\n",
       "\tRLF & RLF       &  3013.413150\\\\\n",
       "\tCOL9A2 & COL9A2    &   692.430767\\\\\n",
       "\tYBX1 & YBX1      & 35741.917621\\\\\n",
       "\tTIE1 & TIE1      &    16.909584\\\\\n",
       "\tARTN & ARTN      &    47.359583\\\\\n",
       "\tPTCH2 & PTCH2     &  2038.142223\\\\\n",
       "\tPATJ & PATJ      &    17.955595\\\\\n",
       "\t⋮ & ⋮ & ⋮\\\\\n",
       "\tDUSP18 & DUSP18    &  1200.440906\\\\\n",
       "\tTIMP3 & TIMP3     &     6.455261\\\\\n",
       "\tCSF2RB & CSF2RB    &  2112.100749\\\\\n",
       "\tIL2RB & IL2RB     &    29.337886\\\\\n",
       "\tMFNG & MFNG      &  1900.440731\\\\\n",
       "\tLGALS1 & LGALS1    & 50484.577974\\\\\n",
       "\tPDGFB & PDGFB     &    13.051204\\\\\n",
       "\tTNFRSF13C & TNFRSF13C &    31.234296\\\\\n",
       "\tPLXNB2 & PLXNB2    &  5962.273242\\\\\n",
       "\tCD99 & CD99      & 15029.248718\\\\\n",
       "\tPIGA & PIGA      &  1663.160957\\\\\n",
       "\tAPOO & APOO      &   239.600629\\\\\n",
       "\tTIMP1 & TIMP1     & 30543.267699\\\\\n",
       "\tCFP & CFP       & 20542.549498\\\\\n",
       "\tPCSK1N & PCSK1N    &     3.128679\\\\\n",
       "\tVSIG4 & VSIG4     &  3198.890551\\\\\n",
       "\tEDA2R & EDA2R     &     6.625673\\\\\n",
       "\tAR & AR        &    50.888585\\\\\n",
       "\tEFNB1 & EFNB1     &   241.563150\\\\\n",
       "\tEDA & EDA       &    59.325571\\\\\n",
       "\tIL2RG & IL2RG     &  1755.072729\\\\\n",
       "\tNLGN3 & NLGN3     &    24.377172\\\\\n",
       "\tBTK & BTK       &  3707.520307\\\\\n",
       "\tCOL4A5 & COL4A5    &     7.316037\\\\\n",
       "\tIL13RA1 & IL13RA1   &  4549.397117\\\\\n",
       "\tGPC4 & GPC4      &    57.035771\\\\\n",
       "\tCD40LG & CD40LG    &     1.639509\\\\\n",
       "\tSLC6A8 & SLC6A8    &   130.149026\\\\\n",
       "\tFLNA & FLNA      & 21483.286888\\\\\n",
       "\tF8 & F8        &   190.766342\\\\\n",
       "\\end{tabular}\n"
      ],
      "text/markdown": [
       "\n",
       "A data.frame: 830 × 2\n",
       "\n",
       "| <!--/--> | Gene &lt;chr&gt; | Count &lt;dbl&gt; |\n",
       "|---|---|---|\n",
       "| AGRN | AGRN      |   135.934771 |\n",
       "| GNB1 | GNB1      | 10474.846771 |\n",
       "| UTS2 | UTS2      |   129.802135 |\n",
       "| PIK3CD | PIK3CD    |  1904.188619 |\n",
       "| CORT | CORT      |    16.668630 |\n",
       "| DRAXIN | DRAXIN    |    61.520747 |\n",
       "| AGTRAP | AGTRAP    | 15189.746782 |\n",
       "| TNFRSF8 | TNFRSF8   |   474.249685 |\n",
       "| EPHA2 | EPHA2     |     2.472859 |\n",
       "| NBL1 | NBL1      |    75.110159 |\n",
       "| HSPG2 | HSPG2     |   106.137725 |\n",
       "| C1QA | C1QA      |  5798.888064 |\n",
       "| C1QB | C1QB      |  2253.702958 |\n",
       "| CD52 | CD52      | 19790.849500 |\n",
       "| PTAFR | PTAFR     |  4189.991125 |\n",
       "| MATN1 | MATN1     |     5.283920 |\n",
       "| TXLNA | TXLNA     |  1381.686889 |\n",
       "| LCK | LCK       |    41.958262 |\n",
       "| KIAA0319L | KIAA0319L |  2910.443336 |\n",
       "| COL8A2 | COL8A2    |   280.744908 |\n",
       "| CSF3R | CSF3R     | 16420.807908 |\n",
       "| BMP8A | BMP8A     |     3.265651 |\n",
       "| BMP8B | BMP8B     |   275.524126 |\n",
       "| RLF | RLF       |  3013.413150 |\n",
       "| COL9A2 | COL9A2    |   692.430767 |\n",
       "| YBX1 | YBX1      | 35741.917621 |\n",
       "| TIE1 | TIE1      |    16.909584 |\n",
       "| ARTN | ARTN      |    47.359583 |\n",
       "| PTCH2 | PTCH2     |  2038.142223 |\n",
       "| PATJ | PATJ      |    17.955595 |\n",
       "| ⋮ | ⋮ | ⋮ |\n",
       "| DUSP18 | DUSP18    |  1200.440906 |\n",
       "| TIMP3 | TIMP3     |     6.455261 |\n",
       "| CSF2RB | CSF2RB    |  2112.100749 |\n",
       "| IL2RB | IL2RB     |    29.337886 |\n",
       "| MFNG | MFNG      |  1900.440731 |\n",
       "| LGALS1 | LGALS1    | 50484.577974 |\n",
       "| PDGFB | PDGFB     |    13.051204 |\n",
       "| TNFRSF13C | TNFRSF13C |    31.234296 |\n",
       "| PLXNB2 | PLXNB2    |  5962.273242 |\n",
       "| CD99 | CD99      | 15029.248718 |\n",
       "| PIGA | PIGA      |  1663.160957 |\n",
       "| APOO | APOO      |   239.600629 |\n",
       "| TIMP1 | TIMP1     | 30543.267699 |\n",
       "| CFP | CFP       | 20542.549498 |\n",
       "| PCSK1N | PCSK1N    |     3.128679 |\n",
       "| VSIG4 | VSIG4     |  3198.890551 |\n",
       "| EDA2R | EDA2R     |     6.625673 |\n",
       "| AR | AR        |    50.888585 |\n",
       "| EFNB1 | EFNB1     |   241.563150 |\n",
       "| EDA | EDA       |    59.325571 |\n",
       "| IL2RG | IL2RG     |  1755.072729 |\n",
       "| NLGN3 | NLGN3     |    24.377172 |\n",
       "| BTK | BTK       |  3707.520307 |\n",
       "| COL4A5 | COL4A5    |     7.316037 |\n",
       "| IL13RA1 | IL13RA1   |  4549.397117 |\n",
       "| GPC4 | GPC4      |    57.035771 |\n",
       "| CD40LG | CD40LG    |     1.639509 |\n",
       "| SLC6A8 | SLC6A8    |   130.149026 |\n",
       "| FLNA | FLNA      | 21483.286888 |\n",
       "| F8 | F8        |   190.766342 |\n",
       "\n"
      ],
      "text/plain": [
       "          Gene      Count       \n",
       "AGRN      AGRN        135.934771\n",
       "GNB1      GNB1      10474.846771\n",
       "UTS2      UTS2        129.802135\n",
       "PIK3CD    PIK3CD     1904.188619\n",
       "CORT      CORT         16.668630\n",
       "DRAXIN    DRAXIN       61.520747\n",
       "AGTRAP    AGTRAP    15189.746782\n",
       "TNFRSF8   TNFRSF8     474.249685\n",
       "EPHA2     EPHA2         2.472859\n",
       "NBL1      NBL1         75.110159\n",
       "HSPG2     HSPG2       106.137725\n",
       "C1QA      C1QA       5798.888064\n",
       "C1QB      C1QB       2253.702958\n",
       "CD52      CD52      19790.849500\n",
       "PTAFR     PTAFR      4189.991125\n",
       "MATN1     MATN1         5.283920\n",
       "TXLNA     TXLNA      1381.686889\n",
       "LCK       LCK          41.958262\n",
       "KIAA0319L KIAA0319L  2910.443336\n",
       "COL8A2    COL8A2      280.744908\n",
       "CSF3R     CSF3R     16420.807908\n",
       "BMP8A     BMP8A         3.265651\n",
       "BMP8B     BMP8B       275.524126\n",
       "RLF       RLF        3013.413150\n",
       "COL9A2    COL9A2      692.430767\n",
       "YBX1      YBX1      35741.917621\n",
       "TIE1      TIE1         16.909584\n",
       "ARTN      ARTN         47.359583\n",
       "PTCH2     PTCH2      2038.142223\n",
       "PATJ      PATJ         17.955595\n",
       "⋮         ⋮         ⋮           \n",
       "DUSP18    DUSP18     1200.440906\n",
       "TIMP3     TIMP3         6.455261\n",
       "CSF2RB    CSF2RB     2112.100749\n",
       "IL2RB     IL2RB        29.337886\n",
       "MFNG      MFNG       1900.440731\n",
       "LGALS1    LGALS1    50484.577974\n",
       "PDGFB     PDGFB        13.051204\n",
       "TNFRSF13C TNFRSF13C    31.234296\n",
       "PLXNB2    PLXNB2     5962.273242\n",
       "CD99      CD99      15029.248718\n",
       "PIGA      PIGA       1663.160957\n",
       "APOO      APOO        239.600629\n",
       "TIMP1     TIMP1     30543.267699\n",
       "CFP       CFP       20542.549498\n",
       "PCSK1N    PCSK1N        3.128679\n",
       "VSIG4     VSIG4      3198.890551\n",
       "EDA2R     EDA2R         6.625673\n",
       "AR        AR           50.888585\n",
       "EFNB1     EFNB1       241.563150\n",
       "EDA       EDA          59.325571\n",
       "IL2RG     IL2RG      1755.072729\n",
       "NLGN3     NLGN3        24.377172\n",
       "BTK       BTK        3707.520307\n",
       "COL4A5    COL4A5        7.316037\n",
       "IL13RA1   IL13RA1    4549.397117\n",
       "GPC4      GPC4         57.035771\n",
       "CD40LG    CD40LG        1.639509\n",
       "SLC6A8    SLC6A8      130.149026\n",
       "FLNA      FLNA      21483.286888\n",
       "F8        F8          190.766342"
      ]
     },
     "metadata": {},
     "output_type": "display_data"
    }
   ],
   "source": [
    "gene_counts_sum_df"
   ]
  },
  {
   "cell_type": "code",
   "execution_count": null,
   "id": "dda836dd-fcbc-43a6-b804-a10eb28c62b3",
   "metadata": {},
   "outputs": [],
   "source": []
  }
 ],
 "metadata": {
  "kernelspec": {
   "display_name": "R [conda env:community_paper] *",
   "language": "R",
   "name": "conda-env-community_paper-r"
  },
  "language_info": {
   "codemirror_mode": "r",
   "file_extension": ".r",
   "mimetype": "text/x-r-source",
   "name": "R",
   "pygments_lexer": "r",
   "version": "4.1.2"
  }
 },
 "nbformat": 4,
 "nbformat_minor": 5
}
