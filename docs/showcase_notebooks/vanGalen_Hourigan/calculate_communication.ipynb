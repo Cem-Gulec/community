{
 "cells": [
  {
   "cell_type": "markdown",
   "metadata": {},
   "source": [
    "# Install package"
   ]
  },
  {
   "cell_type": "code",
   "execution_count": 1,
   "metadata": {
    "ExecuteTime": {
     "end_time": "2023-01-30T17:02:18.246913Z",
     "start_time": "2023-01-30T17:02:18.112Z"
    }
   },
   "outputs": [],
   "source": [
    "# # install community\n",
    "# library(devtools)\n",
    "\n",
    "# devtools::install_github(\"SoloveyMaria/community\")"
   ]
  },
  {
   "cell_type": "markdown",
   "metadata": {},
   "source": [
    "# Calculate communication"
   ]
  },
  {
   "cell_type": "code",
   "execution_count": 2,
   "metadata": {
    "ExecuteTime": {
     "end_time": "2023-01-30T17:02:23.858558Z",
     "start_time": "2023-01-30T17:02:18.999Z"
    }
   },
   "outputs": [],
   "source": [
    "# libraries\n",
    "library(community)\n",
    "# library(ggplot2)\n",
    "library(data.table) #to read gz file\n",
    "library(gridExtra)\n",
    "# library(grid)"
   ]
  },
  {
   "cell_type": "code",
   "execution_count": 3,
   "metadata": {
    "ExecuteTime": {
     "end_time": "2023-01-30T17:02:24.125726Z",
     "start_time": "2023-01-30T17:02:20.666Z"
    }
   },
   "outputs": [],
   "source": [
    "input_dir <- \"input_data/\"\n",
    "output_dir <- \"computed_results/\""
   ]
  },
  {
   "cell_type": "code",
   "execution_count": 4,
   "metadata": {
    "ExecuteTime": {
     "end_time": "2023-01-30T17:02:24.378607Z",
     "start_time": "2023-01-30T17:02:21.891Z"
    }
   },
   "outputs": [
    {
     "data": {
      "text/plain": [
       "R version 4.1.2 (2021-11-01)\n",
       "Platform: x86_64-pc-linux-gnu (64-bit)\n",
       "Running under: Ubuntu 22.04.2 LTS\n",
       "\n",
       "Matrix products: default\n",
       "BLAS:   /usr/lib/x86_64-linux-gnu/openblas-pthread/libblas.so.3\n",
       "LAPACK: /usr/lib/x86_64-linux-gnu/openblas-pthread/libopenblasp-r0.3.20.so\n",
       "\n",
       "locale:\n",
       " [1] LC_CTYPE=en_US.UTF-8       LC_NUMERIC=C              \n",
       " [3] LC_TIME=de_DE.UTF-8        LC_COLLATE=en_US.UTF-8    \n",
       " [5] LC_MONETARY=de_DE.UTF-8    LC_MESSAGES=en_US.UTF-8   \n",
       " [7] LC_PAPER=de_DE.UTF-8       LC_NAME=C                 \n",
       " [9] LC_ADDRESS=C               LC_TELEPHONE=C            \n",
       "[11] LC_MEASUREMENT=de_DE.UTF-8 LC_IDENTIFICATION=C       \n",
       "\n",
       "attached base packages:\n",
       "[1] stats     graphics  grDevices utils     datasets  methods   base     \n",
       "\n",
       "other attached packages:\n",
       "[1] gridExtra_2.3     data.table_1.14.8 community_1.3.9  \n",
       "\n",
       "loaded via a namespace (and not attached):\n",
       " [1] pillar_1.9.0     compiler_4.1.2   base64enc_0.1-3  tools_4.1.2     \n",
       " [5] digest_0.6.31    uuid_1.1-0       jsonlite_1.8.4   evaluate_0.19   \n",
       " [9] lifecycle_1.0.3  tibble_3.2.1     gtable_0.3.3     pkgconfig_2.0.3 \n",
       "[13] rlang_1.1.1      IRdisplay_1.1    cli_3.6.1        DBI_1.1.3       \n",
       "[17] IRkernel_1.3     fastmap_1.1.0    repr_1.1.4       dplyr_1.0.10    \n",
       "[21] generics_0.1.3   vctrs_0.6.3      grid_4.1.2       tidyselect_1.2.0\n",
       "[25] glue_1.6.2       R6_2.5.1         fansi_1.0.4      pbdZMQ_0.3-7    \n",
       "[29] ggplot2_3.4.2    magrittr_2.0.3   scales_1.2.1     htmltools_0.5.4 \n",
       "[33] assertthat_0.2.1 colorspace_2.1-0 utf8_1.2.3       munsell_0.5.0   \n",
       "[37] crayon_1.5.2    "
      ]
     },
     "metadata": {},
     "output_type": "display_data"
    }
   ],
   "source": [
    "sessionInfo()"
   ]
  },
  {
   "cell_type": "markdown",
   "metadata": {
    "heading_collapsed": true
   },
   "source": [
    "## Load data"
   ]
  },
  {
   "cell_type": "markdown",
   "metadata": {
    "hidden": true
   },
   "source": [
    "To calculate interactions, we will need the following files: normalized and batch corrected `counts`, cell annotation file `anno_cells`, and a sample annotation file `anno_samples`.\n",
    "\n",
    "The `counts` file contains normalized and batch corrected counts with genes in the rows and cell IDs in the columns.\n",
    "\n",
    "The `anno_cells` file should contain columns named cell_ID, cell_type and sample_ID.\n",
    "\n",
    "The `anno_sample` file should countan columns named sample_ID health_status (e.g. \"healthy\" or \"AML\") and case_or_conrol (e.g. \"control\" or \"case\")."
   ]
  },
  {
   "cell_type": "code",
   "execution_count": 5,
   "metadata": {},
   "outputs": [],
   "source": [
    "data(\"LR_database\")"
   ]
  },
  {
   "cell_type": "code",
   "execution_count": 6,
   "metadata": {
    "ExecuteTime": {
     "end_time": "2023-01-30T16:41:44.232505Z",
     "start_time": "2023-01-30T16:41:44.184Z"
    },
    "hidden": true
   },
   "outputs": [
    {
     "name": "stdout",
     "output_type": "stream",
     "text": [
      "'data.frame':\t6941 obs. of  26 variables:\n",
      " $ Pair.Name            : chr  \"A2M_LRP1\" \"ACTR2_ADRB2\" \"ACTR2_LDLR\" \"ACTR2_LRP2\" ...\n",
      " $ Ligand               : chr  \"A2M\" \"ACTR2\" \"ACTR2\" \"ACTR2\" ...\n",
      " $ Ligand.Name          : chr  \"alpha-2-macroglobulin\" \"actin related protein 2\" \"actin related protein 2\" \"actin related protein 2\" ...\n",
      " $ Receptor             : chr  \"LRP1\" \"ADRB2\" \"LDLR\" \"LRP2\" ...\n",
      " $ Receptor.Name        : chr  \"LDL receptor related protein 1\" \"adrenoceptor beta 2\" \"low density lipoprotein receptor\" \"LDL receptor related protein 2\" ...\n",
      " $ complex_pair         : chr  NA NA NA NA ...\n",
      " $ partner_a            : chr  \"P01023\" \"P61160\" \"P61160\" \"P61160\" ...\n",
      " $ partner_b            : chr  \"Q07954\" \"P07550\" \"P01130\" \"P98164\" ...\n",
      " $ source               : chr  \"P01023\" \"P61160\" \"P61160\" \"P61160\" ...\n",
      " $ target               : chr  \"Q07954\" \"P07550\" \"P01130\" \"P98164\" ...\n",
      " $ source_genesymbol    : chr  \"A2M\" \"ACTR2\" \"ACTR2\" \"ACTR2\" ...\n",
      " $ target_genesymbol    : chr  \"LRP1\" \"ADRB2\" \"LDLR\" \"LRP2\" ...\n",
      " $ is_directed          : num  1 1 1 1 1 1 1 1 1 1 ...\n",
      " $ is_stimulation       : num  1 0 0 0 1 0 1 0 0 0 ...\n",
      " $ is_inhibition        : num  0 0 0 0 0 0 0 0 0 0 ...\n",
      " $ consensus_direction  : num  1 0 0 0 1 0 1 0 0 0 ...\n",
      " $ consensus_stimulation: num  1 0 0 0 1 0 1 0 0 0 ...\n",
      " $ consensus_inhibition : num  0 0 0 0 0 0 0 0 0 0 ...\n",
      " $ sources              : chr  \"AlzPathway;Baccin2019;CellTalkDB;EMBRACE;Fantom5_LRdb;HPMR_LRdb;HPMR_talklr;HPRD;HPRD_LRdb;HPRD_talklr;LRdb;Ram\"| __truncated__ \"CellTalkDB;LRdb;Reactome_LRdb\" \"CellTalkDB;LRdb;Reactome_LRdb\" \"CellTalkDB;LRdb;Reactome_LRdb\" ...\n",
      " $ references           : chr  \"AlzPathway:19026743;Baccin2019:10652313;Baccin2019:12194978;Baccin2019:1702392;CellTalkDB:10652313;HPRD:1065231\"| __truncated__ \"CellTalkDB:32196115\" \"CellTalkDB:32196115\" \"CellTalkDB:32196115\" ...\n",
      " $ curation_effort      : num  11 1 1 1 0 1 39 1 1 1 ...\n",
      " $ n_references         : num  4 1 1 1 0 1 9 1 1 1 ...\n",
      " $ n_resources          : int  11 2 2 2 1 1 19 2 2 3 ...\n",
      " $ annotation_strategy  : chr  \"LR\" \"LR\" \"LR\" \"LR\" ...\n",
      " $ db                   : chr  \"both\" \"both\" \"both\" \"both\" ...\n",
      " $ True_LR              : logi  TRUE TRUE TRUE TRUE TRUE TRUE ...\n",
      "NULL\n"
     ]
    }
   ],
   "source": [
    "# data(\"LR_database\")\n",
    "print(str(LR_database))"
   ]
  },
  {
   "cell_type": "code",
   "execution_count": 7,
   "metadata": {
    "hidden": true
   },
   "outputs": [
    {
     "name": "stdout",
     "output_type": "stream",
     "text": [
      "[1] \"load counts\"\n",
      "'data.frame':\t12485 obs. of  74583 variables:\n",
      " $ AML1012-D0_AAAAAGTTACGT: num  0.05303 0.001436 -0.000537 0.003855 -0.012751 ...\n",
      " $ AML1012-D0_AAAACACCAATC: num  0.08409 0.00346 0.00616 -0.00104 0.0105 ...\n",
      " $ AML1012-D0_AAAATAGCCTTT: num  0.0296 0.00367 0.00277 0.0013 0.01117 ...\n",
      " $ AML1012-D0_AAACATTAAACG: num  0.17964 0.01121 0.00476 0.00064 0.0203 ...\n",
      " $ AML1012-D0_AAACCACGTGCN: num  1.03e-01 6.50e-04 1.32e-03 -3.60e-07 1.34e-03 ...\n",
      " $ AML1012-D0_AAACGCTGGAAN: num  0.08257 0.0019 0.00593 0.00202 0.01003 ...\n",
      " $ AML1012-D0_AAACTGGTACTA: num  0.05816 0.00433 -0.00118 0.00394 0.00348 ...\n",
      " $ AML1012-D0_AAACTTGCCCGT: num  0.115511 0.007234 0.001979 -0.000968 0.033918 ...\n",
      " $ AML1012-D0_AAATGAAAGTCC: num  0.04039 0.002127 0.001681 0.000654 0.005692 ...\n",
      " $ AML1012-D0_AAATGTACGGTA: num  0.05515 0.00234 0.00168 0.0021 -0.00182 ...\n",
      " $ AML1012-D0_AACAATGGTGTG: num  0.08485 0.001906 0.004815 -0.000146 0.019008 ...\n",
      " $ AML1012-D0_AACATTTAACAT: num  0.052289 0.003338 0.001932 0.000617 -0.00037 ...\n",
      " $ AML1012-D0_AACCCCATGCAG: num  0.117515 0.009631 0.003866 -0.000457 0.039546 ...\n",
      " $ AML1012-D0_AACCCGCCGATN: num  0.20806 0.01224 0.00121 -0.00606 0.01929 ...\n",
      " $ AML1012-D0_AACCTCTGTGTC: num  0.061692 0.000692 0.001861 0.000382 0.010198 ...\n",
      " $ AML1012-D0_AACTAGGATCGT: num  0.1602 0.00983 0.00911 -0.0036 0.0111 ...\n",
      " $ AML1012-D0_AAGAAGGTATCT: num  0.05194 0.00405 0.00801 -0.00247 0.00876 ...\n",
      " $ AML1012-D0_AAGAGCCACTTC: num  0.10255 0.00656 0.00302 0.00524 0.03084 ...\n",
      " $ AML1012-D0_AAGATAGATGAN: num  0.03164 0.00183 0.00265 -0.00418 0.01211 ...\n",
      " $ AML1012-D0_AAGCCATTTTCC: num  0.07038 0.0023 0.00409 -0.0013 -0.00184 ...\n",
      " $ AML1012-D0_AAGGTTTTTGAA: num  0.075001 0.001713 0.003565 0.000496 0.006189 ...\n",
      " $ AML1012-D0_AAGTGCACCAAT: num  0.21409 0.00864 0.00367 -0.00357 0.01927 ...\n",
      " $ AML1012-D0_AAGTTTTGTTTT: num  0.091535 0.004171 -0.000998 0.003418 0.011689 ...\n",
      " $ AML1012-D0_AATAAAGCTAGT: num  0.072819 0.004095 -0.000599 0.003017 0.013984 ...\n",
      " $ AML1012-D0_AATAGTCAATAT: num  0.04327 0.00319 0.01044 -0.00201 0.00845 ...\n",
      " $ AML1012-D0_AATCCAGAGTAC: num  0.205838 0.012457 0.011625 0.000418 0.020541 ...\n",
      " $ AML1012-D0_AATCTCGGCCGC: num  0.068129 0.001865 0.000647 -0.001422 0.015208 ...\n",
      " $ AML1012-D0_AATGAAAACTCA: num  0.06674 0.00733 0.00369 -0.0014 0.00314 ...\n",
      " $ AML1012-D0_AATGCCTCAGAG: num  0.183609 0.015439 0.000611 -0.005381 0.017764 ...\n",
      " $ AML1012-D0_AATGGATCATCG: num  0.16056 0.00621 -0.00161 -0.00414 0.02501 ...\n",
      " $ AML1012-D0_AATGTAATGTAA: num  0.060921 0.002752 0.000046 -0.00364 0.005049 ...\n",
      " $ AML1012-D0_AATGTAATTACC: num  0.04904 0.00248 -0.00139 -0.00461 0.00615 ...\n",
      " $ AML1012-D0_AATGTATTTTAN: num  0.21718 0.00543 -0.00398 -0.00385 0.02305 ...\n",
      " $ AML1012-D0_AATTAAGGTCAN: num  0.04627 0.01208 0.00388 -0.00246 0.03517 ...\n",
      " $ AML1012-D0_AATTCCACGGTG: num  0.15472 0.01188 0.00608 -0.00523 0.01076 ...\n",
      " $ AML1012-D0_AATTGTCTTGTT: num  0.0586 0.00406 0.00438 0.00204 0.00229 ...\n",
      " $ AML1012-D0_ACAAACAGGCAN: num  0.09818 0.00292 0.00104 0.00235 0.02617 ...\n",
      " $ AML1012-D0_ACACAAGCACGA: num  0.161228 0.008446 -0.000748 -0.004034 0.027979 ...\n",
      " $ AML1012-D0_ACACGAACCTAG: num  0.05013 0.00108 -0.00162 -0.00197 -0.00105 ...\n",
      " $ AML1012-D0_ACACGCTAGATT: num  0.05824 0.00376 -0.00242 -0.00216 0.01426 ...\n",
      " $ AML1012-D0_ACACGTTTTAAT: num  0.06733 0.004371 0.005137 -0.000159 0.00643 ...\n",
      " $ AML1012-D0_ACACTCGTGTAT: num  0.084814 0.000468 -0.003887 0.00179 0.012978 ...\n",
      " $ AML1012-D0_ACAGCAGTTGTT: num  0.0568 0.00309 0.00647 -0.00489 0.00912 ...\n",
      " $ AML1012-D0_ACAGCTAATGGC: num  0.091781 0.002338 0.000726 0.003593 0.020507 ...\n",
      " $ AML1012-D0_ACAGGAGCACCG: num  0.1757 0.00926 0.0016 -0.00486 0.01107 ...\n",
      " $ AML1012-D0_ACAGGCTATGAT: num  0.062099 0.002075 0.000967 0.00239 0.010478 ...\n",
      " $ AML1012-D0_ACAGTGTAGGAG: num  0.19679 0.01132 0.00451 -0.00221 0.02027 ...\n",
      " $ AML1012-D0_ACAGTTGATTTA: num  0.16579 0.01244 0.00456 -0.00479 0.0154 ...\n",
      " $ AML1012-D0_ACATAATCAGTN: num  0.060392 0.005214 0.002507 0.000639 0.007857 ...\n",
      " $ AML1012-D0_ACATCAAAAAAC: num  0.16325 0.01179 0.00181 -0.00802 0.01718 ...\n",
      " $ AML1012-D0_ACATGAGCGTAN: num  0.20987 0.01622 0.00244 -0.00806 0.03131 ...\n",
      " $ AML1012-D0_ACATTGGCCATN: num  0.08208 0.0016 -0.00224 -0.0023 0.00636 ...\n",
      " $ AML1012-D0_ACATTTGCCTTG: num  1.76e-01 6.92e-03 3.16e-03 3.46e-05 2.10e-02 ...\n",
      " $ AML1012-D0_ACCACAGATTGT: num  0.15875 0.00698 0.00277 -0.00737 0.01338 ...\n",
      " $ AML1012-D0_ACCACTTCCACC: num  0.05072 0.00275 0.00183 0.00161 0.0111 ...\n",
      " $ AML1012-D0_ACCATTAATTGN: num  0.20691 0.01251 0.00175 -0.00494 0.02382 ...\n",
      " $ AML1012-D0_ACCATTCGAACN: num  0.03393 0.00266 0.00144 -0.00274 0.00745 ...\n",
      " $ AML1012-D0_ACCCTGGAAGGC: num  0.10018 0.00701 0.00227 0.00696 0.03541 ...\n",
      " $ AML1012-D0_ACCGTGTAGTGN: num  0.070036 -0.000184 -0.004076 -0.000894 0.008609 ...\n",
      " $ AML1012-D0_ACCTACTGGCTG: num  0.047126 0.001787 0.000823 0.004934 0.003997 ...\n",
      " $ AML1012-D0_ACGAAATGCCAT: num  0.061227 0.000463 -0.001253 -0.002318 0.000156 ...\n",
      " $ AML1012-D0_ACGAAGCGGCAT: num  5.98e-02 4.29e-03 2.45e-04 -3.72e-05 1.89e-02 ...\n",
      " $ AML1012-D0_ACGATCCGATTC: num  0.18554 0.0088 0.00547 -0.00355 0.01617 ...\n",
      " $ AML1012-D0_ACGCACGCCAAA: num  0.0838 0.0011 -0.00317 0.00019 0.00669 ...\n",
      " $ AML1012-D0_ACGCAGCTGGTG: num  0.1374 0.007968 -0.000175 -0.003902 0.0132 ...\n",
      " $ AML1012-D0_ACGCGCGCGGCN: num  0.20005 0.00722 -0.00334 -0.0054 0.02671 ...\n",
      " $ AML1012-D0_ACGCTCGCACGA: num  8.95e-02 2.76e-03 1.46e-03 7.27e-05 1.26e-02 ...\n",
      " $ AML1012-D0_ACGCTTTATGCA: num  0.211793 0.003156 -0.000427 -0.003856 0.02377 ...\n",
      " $ AML1012-D0_ACGGATCGAACC: num  0.06823 0.00616 -0.00102 -0.00091 0.03661 ...\n",
      " $ AML1012-D0_ACGGTCACACGN: num  0.05334 0.00174 -0.00249 -0.00213 0.00893 ...\n",
      " $ AML1012-D0_ACGGTTCACTTC: num  0.056557 0.002201 0.000492 -0.004849 0.004276 ...\n",
      " $ AML1012-D0_ACGTAACCGAAC: num  0.10495 0.00195 0.00394 0.00198 0.01288 ...\n",
      " $ AML1012-D0_ACGTAGACTCCA: num  0.053996 0.000986 -0.001709 -0.00102 0.001088 ...\n",
      " $ AML1012-D0_ACGTATAATCAN: num  0.188039 0.006942 0.000616 0.00201 0.021771 ...\n",
      " $ AML1012-D0_ACGTCGGTAGCN: num  0.09401 0.00179 0.00198 0.00117 0.00225 ...\n",
      " $ AML1012-D0_ACGTGCGCATCC: num  0.03976 0.00503 0.00758 -0.00398 0.00758 ...\n",
      " $ AML1012-D0_ACGTTACGGCCN: num  0.12163 0.00921 0.00737 -0.00429 0.02357 ...\n",
      " $ AML1012-D0_ACGTTCCCTGAC: num  0.05583 0.00187 0.01 -0.00491 0.01489 ...\n",
      " $ AML1012-D0_ACGTTCTGGTGT: num  0.18322 0.00643 0.00191 -0.00482 0.01535 ...\n",
      " $ AML1012-D0_ACGTTTCCTTTT: num  0.07659 0.00379 0.00339 0.00102 0.01145 ...\n",
      " $ AML1012-D0_ACTAAACGGACT: num  0.074142 0.002941 -0.000925 -0.000137 0.007629 ...\n",
      " $ AML1012-D0_ACTAGTCGTCCN: num  0.17215 0.00729 -0.00316 -0.00524 0.01809 ...\n",
      " $ AML1012-D0_ACTAGTTGGGAT: num  0.17163 0.01117 0.01356 -0.00291 0.01473 ...\n",
      " $ AML1012-D0_ACTATCGGGTAC: num  4.51e-02 2.64e-03 -3.00e-07 7.97e-04 -4.04e-03 ...\n",
      " $ AML1012-D0_ACTCTTTTTAGG: num  0.05627 0.001586 0.000814 -0.000811 0.004553 ...\n",
      " $ AML1012-D0_ACTGTCCGAGCC: num  0.086397 0.004023 0.000849 -0.001842 0.010326 ...\n",
      " $ AML1012-D0_ACTGTCCGCACG: num  0.182451 0.010919 -0.000326 -0.008371 0.025706 ...\n",
      " $ AML1012-D0_ACTTACGCGGTN: num  0.21199 0.00943 -0.00119 -0.00328 0.03575 ...\n",
      " $ AML1012-D0_ACTTACTATTGN: num  0.16448 0.0067 0.00571 -0.00415 0.01382 ...\n",
      " $ AML1012-D0_ACTTAGATCCCA: num  0.07332 0.00307 0.00228 0.00322 0.00454 ...\n",
      " $ AML1012-D0_ACTTTACGTCTN: num  0.042969 0.003777 0.000157 -0.002437 0.004334 ...\n",
      " $ AML1012-D0_AGAAGAACCGGA: num  0.057028 0.00143 -0.001314 0.004324 0.000732 ...\n",
      " $ AML1012-D0_AGAAGACATGGA: num  0.058606 0.002609 -0.00047 0.001048 0.000318 ...\n",
      " $ AML1012-D0_AGAATGAGCGAN: num  0.120004 0.002616 0.001013 -0.000859 0.01311 ...\n",
      " $ AML1012-D0_AGAATGCAGTTC: num  0.07934 0.00289 -0.00367 -0.00394 0.01454 ...\n",
      " $ AML1012-D0_AGACCCCTAACG: num  0.08542 0.0066 0.00187 -0.00158 0.02045 ...\n",
      " $ AML1012-D0_AGACGATTCCGT: num  0.21298 0.01456 0.00517 -0.00601 0.01733 ...\n",
      " $ AML1012-D0_AGACTATAAGTA: num  0.21117 0.00965 0.00277 -0.00602 0.02271 ...\n",
      " $ AML1012-D0_AGAGAGTCATGC: num  0.058524 0.002911 0.000214 0.001441 -0.000258 ...\n",
      "  [list output truncated]\n",
      "NULL\n"
     ]
    }
   ],
   "source": [
    "# # load counts\n",
    "print(\"load counts\")\n",
    "counts <- fread(paste0(input_dir,\"counts_corr.csv.gz\"), header = TRUE)\n",
    "counts <- as.data.frame(counts)\n",
    "rownames(counts) <- counts$gene_symbol\n",
    "counts <- counts[,-1]\n",
    "print(str(counts))"
   ]
  },
  {
   "cell_type": "code",
   "execution_count": 8,
   "metadata": {
    "hidden": true
   },
   "outputs": [
    {
     "name": "stdout",
     "output_type": "stream",
     "text": [
      "[1] \"load cell annotation\"\n",
      "'data.frame':\t74583 obs. of  37 variables:\n",
      " $ cell_ID.1                     : chr  \"AML1012-D0_AAAAAGTTACGT\" \"AML1012-D0_AAAACACCAATC\" \"AML1012-D0_AAAATAGCCTTT\" \"AML1012-D0_AAACATTAAACG\" ...\n",
      " $ cell_type_original            : chr  \"GMP\" \"GMP-like\" \"Prog-like\" \"ProMono-like\" ...\n",
      " $ sample_ID                     : chr  \"AML1012-D0\" \"AML1012-D0\" \"AML1012-D0\" \"AML1012-D0\" ...\n",
      " $ malignant                     : chr  \"False\" \"True\" \"True\" \"True\" ...\n",
      " $ patient_ID                    : chr  \"AML1012\" \"AML1012\" \"AML1012\" \"AML1012\" ...\n",
      " $ dataset                       : chr  \"GSE116256\" \"GSE116256\" \"GSE116256\" \"GSE116256\" ...\n",
      " $ gender                        : chr  \"F\" \"F\" \"F\" \"F\" ...\n",
      " $ age                           : int  32 32 32 32 32 32 32 32 32 32 ...\n",
      " $ health_status                 : chr  \"AML\" \"AML\" \"AML\" \"AML\" ...\n",
      " $ case_or_control               : chr  \"case\" \"case\" \"case\" \"case\" ...\n",
      " $ day                           : num  0 0 0 0 0 0 0 0 0 0 ...\n",
      " $ cell_type                     : chr  \"HSPC\" \"HSPC\" \"HSPC\" \"Mono\" ...\n",
      " $ cell_subtype                  : chr  \"HSPC\" \"HSPC\" \"HSPC\" \"pro_Mono\" ...\n",
      " $ cell_type_original_datasetName: chr  \"GMP_vanGalen\" \"GMP-like_vanGalen\" \"Prog-like_vanGalen\" \"ProMono-like_vanGalen\" ...\n",
      " $ total_counts_raw              : int  1284 4241 1673 2062 1419 3263 1122 3351 2467 1421 ...\n",
      " $ mito_counts                   : int  11 85 51 21 27 25 7 13 37 12 ...\n",
      " $ frac_mito                     : num  0.00857 0.02004 0.03048 0.01018 0.01903 ...\n",
      " $ nr_genes                      : int  625 1606 797 929 705 1329 600 1340 1133 627 ...\n",
      " $ counts_upper_threshold        : int  30000 30000 30000 30000 30000 30000 30000 30000 30000 30000 ...\n",
      " $ counts_lower_threshold        : int  1000 1000 1000 1000 1000 1000 1000 1000 1000 1000 ...\n",
      " $ genes_lower_threshold         : int  500 500 500 500 500 500 500 500 500 500 ...\n",
      " $ counts_vs_genes_threshold     : chr  \"nr_genes = 3000*log10(counts+1) - 10500\" \"nr_genes = 3000*log10(counts+1) - 10500\" \"nr_genes = 3000*log10(counts+1) - 10500\" \"nr_genes = 3000*log10(counts+1) - 10500\" ...\n",
      " $ counts_upper_filter           : chr  \"True\" \"True\" \"True\" \"True\" ...\n",
      " $ counts_lower_filter           : chr  \"True\" \"True\" \"True\" \"True\" ...\n",
      " $ genes_lower_filter            : chr  \"True\" \"True\" \"True\" \"True\" ...\n",
      " $ counts_vs_genes_filter        : chr  \"True\" \"True\" \"True\" \"True\" ...\n",
      " $ cell_filter                   : chr  \"True\" \"True\" \"True\" \"True\" ...\n",
      " $ threshold_celltype_size       : int  5 5 5 5 5 5 5 5 5 5 ...\n",
      " $ celltype_size_cf              : int  469 469 469 303 469 469 469 469 469 469 ...\n",
      " $ celltype_size_filter          : chr  \"True\" \"True\" \"True\" \"True\" ...\n",
      " $ cell_type_ID                  : chr  \"HSPC_AML1012-D0\" \"HSPC_AML1012-D0\" \"HSPC_AML1012-D0\" \"Mono_AML1012-D0\" ...\n",
      " $ total_counts_raw_cf_ctf_gf    : int  1283 4233 1665 2057 1417 3255 1118 3341 2464 1419 ...\n",
      " $ total_counts_raw_cf_ctf_gf_sf : int  1283 4233 1665 2057 1417 3255 1118 3341 2464 1419 ...\n",
      " $ sizeFactor                    : num  0.359 1.263 0.501 0.741 0.375 ...\n",
      " $ bares_mutation                : chr  \"False\" \"True\" \"True\" \"True\" ...\n",
      " $ X_scvi_batch                  : int  0 0 0 0 0 0 0 0 0 0 ...\n",
      " $ X_scvi_labels                 : int  3 3 3 4 3 3 3 3 3 3 ...\n",
      "NULL\n"
     ]
    }
   ],
   "source": [
    "# load cell annotation\n",
    "print(\"load cell annotation\")\n",
    "anno_cells <- read.table(paste0(input_dir,\"anno_cells_corr.txt\")\n",
    "                         ,sep = \"\\t\"\n",
    "                         ,row.names = 1\n",
    "                         ,header = TRUE\n",
    "                         )\n",
    "print(str(anno_cells))"
   ]
  },
  {
   "cell_type": "code",
   "execution_count": 9,
   "metadata": {
    "hidden": true
   },
   "outputs": [
    {
     "name": "stdout",
     "output_type": "stream",
     "text": [
      "[1] \"load sample annotation\"\n",
      "'data.frame':\t33 obs. of  15 variables:\n",
      " $ sample_ID                    : chr  \"AML1012-D0\" \"AML210A-D0\" \"AML328-D0\" \"AML419A-D0\" ...\n",
      " $ patient_ID                   : chr  \"AML1012\" \"AML210A\" \"AML328\" \"AML419A\" ...\n",
      " $ dataset                      : chr  \"GSE116256\" \"GSE116256\" \"GSE116256\" \"GSE116256\" ...\n",
      " $ gender                       : chr  \"F\" \"M\" \"F\" \"F\" ...\n",
      " $ age                          : int  32 67 74 54 58 70 26 57 42 52 ...\n",
      " $ health_status                : chr  \"AML\" \"AML\" \"AML\" \"AML\" ...\n",
      " $ case_or_control              : chr  \"case\" \"case\" \"case\" \"case\" ...\n",
      " $ day                          : num  0 0 0 0 0 0 0 0 0 NA ...\n",
      " $ nr_cells_raw                 : int  1136 748 1094 1189 485 2328 1586 933 3813 108 ...\n",
      " $ nr_cells_cf                  : int  951 640 965 1091 399 2196 1410 869 3574 93 ...\n",
      " $ nr_cells_cf_ctf              : int  946 603 909 1086 388 2186 1407 868 3504 93 ...\n",
      " $ total_counts_raw_cf_ctf_gf   : int  2060373 1530216 2367765 2783381 968844 5957569 4255900 1823082 9902199 266457 ...\n",
      " $ nr_celltypes_cf_ctf_gf       : int  5 6 6 5 5 6 6 5 5 6 ...\n",
      " $ threshold_nr_celltypes       : chr  \"greater or equal 5\" \"greater or equal 5\" \"greater or equal 5\" \"greater or equal 5\" ...\n",
      " $ passed_threshold_nr_celltypes: chr  \"True\" \"True\" \"True\" \"True\" ...\n",
      "NULL\n"
     ]
    }
   ],
   "source": [
    "# load sample annotation\n",
    "print(\"load sample annotation\")\n",
    "anno_samples <- read.table(paste0(input_dir,\"anno_samples_corr.txt\")\n",
    "                           ,sep = \"\\t\"\n",
    "                           ,row.names = 1\n",
    "                           ,header = TRUE\n",
    "                           )\n",
    "print(str(anno_samples))"
   ]
  },
  {
   "cell_type": "markdown",
   "metadata": {
    "hidden": true
   },
   "source": [
    "The ligand-receptor pair database is provided by the algorithm, but the user can also use a custom database. In this case, the custom database should have the columns named 'Ligand', 'Receptor' and 'Pair.Name'. "
   ]
  },
  {
   "cell_type": "code",
   "execution_count": 10,
   "metadata": {},
   "outputs": [],
   "source": [
    "colnames(counts) <- anno_cells$cell_ID\n",
    "rownames(anno_cells) <- anno_cells$cell_ID"
   ]
  },
  {
   "cell_type": "markdown",
   "metadata": {},
   "source": [
    "In our previous workflows, we defined a gene as expressed when it was detected in at least 10% of the cells in each cell type and sample. We will follow the same approach here, but instead of filtering out non-expressed genes, we will replace them with a value of 0."
   ]
  },
  {
   "cell_type": "markdown",
   "metadata": {
    "heading_collapsed": true
   },
   "source": [
    "## Thresholds"
   ]
  },
  {
   "cell_type": "markdown",
   "metadata": {
    "hidden": true
   },
   "source": [
    "When calculation the interactions, it is possible to set three threshold: \n",
    "- `threshold_celltype_size` is a threshold for the minimum number of cells that a cell type should contain (in one sample). If the number of cells in the cell type of interest in a particular sample is less or equal to the `threshold_celltype_size`, then we consider this cell type as missing in this sample. This threshold affects the relative cell type abundance parameter (rho). The deafult value for the `threshold_celltype_size` is 4. \n",
    "- `threshold_nr_active_cells` is a threshold for the minimum number of active cells in a cell type (in the sample of interest). A cell is concidered as active (for a specific gene), if it is expressing this gene above the `threshold_expr`. If the number of active cells (for a specific gene) in a cell type is smaller or equal to the `threshold_nr_active_cells`, i.e. does not pass the threshold, then it is set to zero (in this sample). This threshold affects the relative active fraction (phi) parameter. The deafult value for the `threshold_expr` is zero.\n",
    "- `threshold_expr` is a threshold for an expression value of a gene in a cell. If an expression value af a gene in a cell is smaller or equal to the `threshold_expr` value, it will be set to zero. This threshold affects the relative active fration (phi) and the relative mean expression (p) paramteres. The deafult value for the `threshold_expr` is zero. In our analysis, we will though set it arbtrarily to 0.05."
   ]
  },
  {
   "cell_type": "code",
   "execution_count": 11,
   "metadata": {
    "ExecuteTime": {
     "end_time": "2023-01-17T14:34:02.924303Z",
     "start_time": "2023-01-17T14:34:02.884Z"
    },
    "hidden": true
   },
   "outputs": [
    {
     "name": "stdout",
     "output_type": "stream",
     "text": [
      "[1] \"threshold_celltype_size >\"\n",
      "[1] 6\n"
     ]
    }
   ],
   "source": [
    "# set threshold of the cell type size\n",
    "threshold_celltype_size <- 6\n",
    "print(\"threshold_celltype_size >\")\n",
    "print(threshold_celltype_size)"
   ]
  },
  {
   "cell_type": "code",
   "execution_count": 12,
   "metadata": {
    "ExecuteTime": {
     "end_time": "2023-01-17T14:34:03.121639Z",
     "start_time": "2023-01-17T14:34:03.074Z"
    },
    "hidden": true
   },
   "outputs": [
    {
     "name": "stdout",
     "output_type": "stream",
     "text": [
      "[1] \"threshold_nr_active_cells >\"\n",
      "[1] 6\n"
     ]
    }
   ],
   "source": [
    "# set threshold of the minimum number of active cells\n",
    "threshold_nr_active_cells <- 6\n",
    "print(\"threshold_nr_active_cells >\")\n",
    "print(threshold_nr_active_cells)"
   ]
  },
  {
   "cell_type": "code",
   "execution_count": 13,
   "metadata": {
    "ExecuteTime": {
     "end_time": "2023-01-17T14:34:04.306920Z",
     "start_time": "2023-01-17T14:34:04.258Z"
    },
    "hidden": true
   },
   "outputs": [
    {
     "name": "stdout",
     "output_type": "stream",
     "text": [
      "[1] \"threshold_expr >\"\n",
      "[1] 0.1\n"
     ]
    }
   ],
   "source": [
    "# set threshold of expression\n",
    "threshold_expr <- 0.1\n",
    "print(\"threshold_expr >\")\n",
    "print(threshold_expr)"
   ]
  },
  {
   "cell_type": "markdown",
   "metadata": {
    "heading_collapsed": true
   },
   "source": [
    "## Calculate interactions"
   ]
  },
  {
   "cell_type": "code",
   "execution_count": 14,
   "metadata": {
    "hidden": true
   },
   "outputs": [],
   "source": [
    "# Renaming the cell_ID.1 column in anno_cells to \"cell_ID\"\n",
    "# colnames(anno_cells)[colnames(anno_cells) == \"cell_ID.1\"] <- \"cell_ID\""
   ]
  },
  {
   "cell_type": "code",
   "execution_count": 15,
   "metadata": {},
   "outputs": [],
   "source": [
    "# colnames(anno_cells)[colnames(anno_cells) == \"cell_ID\"] <- \"cell_IDXX\""
   ]
  },
  {
   "cell_type": "code",
   "execution_count": null,
   "metadata": {
    "hidden": true
   },
   "outputs": [
    {
     "name": "stdout",
     "output_type": "stream",
     "text": [
      "[1] \"calculate communication\"\n"
     ]
    },
    {
     "name": "stderr",
     "output_type": "stream",
     "text": [
      "Warning message in e_cellType_gene(counts = counts_sub, anno_cells = anno_cells_sub, :\n",
      "“WARNING: sample AML1012-D0 does not contain cell type B -- interactions for this cell type in this sample will get zero values.”\n",
      "Warning message in e_cellType_gene(counts = counts_sub, anno_cells = anno_cells_sub, :\n",
      "“WARNING: sample AML419A-D0 does not contain cell type T -- interactions for this cell type in this sample will get zero values.”\n",
      "Warning message in e_cellType_gene(counts = counts_sub, anno_cells = anno_cells_sub, :\n",
      "“WARNING: sample AML420B-D0 does not contain cell type DC -- interactions for this cell type in this sample will get zero values.”\n",
      "Warning message in e_cellType_gene(counts = counts_sub, anno_cells = anno_cells_sub, :\n",
      "“WARNING: sample AML916-D0 does not contain cell type Mono -- interactions for this cell type in this sample will get zero values.”\n",
      "Warning message in e_cellType_gene(counts = counts_sub, anno_cells = anno_cells_sub, :\n",
      "“WARNING: sample AML921A-D0 does not contain cell type Ery -- interactions for this cell type in this sample will get zero values.”\n"
     ]
    }
   ],
   "source": [
    "print(\"calculate communication\")\n",
    "interactions = calculate_communication(counts = counts\n",
    "                                       ,anno_samples = anno_samples\n",
    "                                       ,anno_cells = anno_cells\n",
    "                                       ,threshold_celltype_size = threshold_celltype_size\n",
    "                                       ,threshold_nr_active_cells = threshold_nr_active_cells\n",
    "                                       ,threshold_expr = threshold_expr\n",
    "                                       ,lrp_database = LR_database\n",
    "                                       )\n",
    "\n",
    "# print(str(interactions))\n"
   ]
  },
  {
   "cell_type": "markdown",
   "metadata": {
    "heading_collapsed": true
   },
   "source": [
    "## Calculate general statistics"
   ]
  },
  {
   "cell_type": "markdown",
   "metadata": {
    "hidden": true
   },
   "source": [
    "The `general_stat` function calculates for each interaction several parameters that will be used for the QC, visualization and the differential communication analysis. \n",
    "\n",
    "Following parameters for the QC step will be stored in the `anno_interactions` list:\n",
    "- mean expression of a ligand in the active fraction of the sending cell type within the control cohort (`mean_e_s_l_control`) and within the case cohort (`mean_e_s_l_case`). \n",
    "- mean  expression of a receptor in the active fraction of the receiving cell type within the control cohort (`mean_e_r_r_control`) and within the case cohort (`mean_e_r_r_case`).\n",
    "\n",
    "Following parameters for the visulisation will be stored in the `anno_interactions` list:\n",
    "- log2 fold change of `rho_s` between the cases and the controls (`log2FC_rho_s`). It shows for each interaction, how the cell type abundance of the sending cell type changed in the cases compared to the controls.\n",
    "- log2 fold change of `rho_r` between the cases and the controls (`log2FC_rho_r_r`). It shows for each interaction, how the cell type abundance of the receiving cell type changed in the cases compared to the controls.\n",
    "- log2 fold change of `rho` between the cases and the controls (`log2FC_rho`). It shows for each interaction, how the whole `rho` parameter changed in the cases compared to the controls.\n",
    "- log2 fold change of `phi_l_s` between the cases and the controls (`log2FC_phi_l_s`). It shows for each interaction, how the active fraction of the ligand in the sending cells changed in the cases compared to the controls.\n",
    "- log2 fold change of `phi_r_r` between the cases and the controls (`log2FC_phi_r_r`). It shows for each interaction, how the active fraction of the receptors in the receiving cells changed in the cases compared to the controls.\n",
    "- log2 fold change of `phi` between the cases and the controls (`log2FC_phi`). It shows for each interaction, how the whole `phi` parameter changed in the cases compared to the controls.\n",
    "- log2 fold change of `p_l_s` between the cases and the controls (`log2FC_p_l_s`). It shows for each interaction, how the mean expression whithin the active fraction of the ligand in the sending cells changed in the cases compared to the controls.\n",
    "- log2 fold change of `p_r_r` between the cases and the controls (`log2FC_p_r_r`). It shows for each interaction, how the mean expression whithin the active fraction of the receptor in the receiving cells changed in the cases compared to the controls.\n",
    "- log2 fold change of `p` between the cases and the controls (`log2FC_p`). It shows for each interaction, how the whole `p` parameter changed in the cases compared to the controls.\n",
    "\n",
    "Following parameter for the differential communication analysis will be stored in the `anno_interactions` list:\n",
    "- log2 fold change of `weights` between the cases and the controls (`log2FC_weights`). It shows for each interaction, how the whole interaction weight changed in the cases compared to the controls.\n"
   ]
  },
  {
   "cell_type": "code",
   "execution_count": null,
   "metadata": {
    "ExecuteTime": {
     "end_time": "2023-01-17T14:34:18.856673Z",
     "start_time": "2023-01-17T14:34:10.392Z"
    },
    "hidden": true
   },
   "outputs": [],
   "source": [
    "print(\"calculate general statistics\")\n",
    "\n",
    "interactions <- general_stat(comm_result = interactions\n",
    "                                   ,verbose = FALSE#TRUE\n",
    ")\n",
    "print(str(interactions$anno_interactions))"
   ]
  },
  {
   "cell_type": "markdown",
   "metadata": {},
   "source": [
    "# QC"
   ]
  },
  {
   "cell_type": "markdown",
   "metadata": {},
   "source": [
    "For the quality check, we use three filters: the **interaction weight filter**, the **presense per cohort filter** and the **ligand/receptor expression filter**. An interaction is considered of good quality, if it passes all three filters."
   ]
  },
  {
   "cell_type": "markdown",
   "metadata": {},
   "source": [
    "The **interaction weight filter** checks the log10 cumulative weight of the interaction. To pass this filter, the interaction need to be greater than the `threshold_log10_cum_weight` threshold."
   ]
  },
  {
   "cell_type": "code",
   "execution_count": null,
   "metadata": {
    "ExecuteTime": {
     "end_time": "2023-01-30T17:02:33.339942Z",
     "start_time": "2023-01-30T17:02:33.280Z"
    }
   },
   "outputs": [],
   "source": [
    "threshold_log10_cum_weight <-  0.01\n",
    "print(\"threshold_log10_cum_weight >\")\n",
    "print(threshold_log10_cum_weight)"
   ]
  },
  {
   "cell_type": "markdown",
   "metadata": {
    "ExecuteTime": {
     "end_time": "2022-11-14T12:47:10.958916Z",
     "start_time": "2022-11-14T12:47:10.886Z"
    }
   },
   "source": [
    "The **presense per cohort filter** checks the fraction of samples in which an interaction was detected (i.e. has a non-zero value) in the control cohort and in the case cohort. To pass this filter, an interaction needs to has a greater value than the `threshold_frac_samples_per_condition` threshold either in the control cohort or in the case cohort or in both."
   ]
  },
  {
   "cell_type": "code",
   "execution_count": null,
   "metadata": {
    "ExecuteTime": {
     "end_time": "2023-01-30T17:02:34.410969Z",
     "start_time": "2023-01-30T17:02:34.345Z"
    }
   },
   "outputs": [],
   "source": [
    "threshold_frac_samples_per_condition <-  0.6\n",
    "print(\"threshold_frac_samples_per_condition >\")\n",
    "print(threshold_frac_samples_per_condition)"
   ]
  },
  {
   "cell_type": "markdown",
   "metadata": {},
   "source": [
    "The **ligand/receptor expression filter** checks the mean expression level of the ligand and the receptor of an interaction in the case and the control samples (separately). This filters uses a `threshold_log10meanexpr_per_condition` threshold.\n",
    "For each einteraction four values are checked:\n",
    "- log10 mean expression of the ligand in sending cells in control samples\n",
    "- log10 mean expression of the receptor in receiving cells in control samples\n",
    "- log10 mean expression of the ligand in sending cells in case samples\n",
    "- log10 mean expression of the receptor in receiving ccells in case samples.\n",
    "\n",
    "\n",
    "An interaction passes this filter if both its ligand and receptor pass the threshold either in control samples or in case samples or in both."
   ]
  },
  {
   "cell_type": "code",
   "execution_count": null,
   "metadata": {
    "ExecuteTime": {
     "end_time": "2023-01-30T17:02:35.622297Z",
     "start_time": "2023-01-30T17:02:35.585Z"
    }
   },
   "outputs": [],
   "source": [
    "threshold_log10_meanexpr_per_condition <- 0.02\n",
    "print(\"threshold_log10_meanexpr_per_condition >\")\n",
    "print(threshold_log10_meanexpr_per_condition)"
   ]
  },
  {
   "cell_type": "markdown",
   "metadata": {},
   "source": [
    "A good quality interaction should pass all filters."
   ]
  },
  {
   "cell_type": "markdown",
   "metadata": {},
   "source": [
    "The `filter_interactions` function produces one plot for the **interaction weight filter**, two plots for the **presense per cohort filter** (one for the controls and one for the cases) and two plots for the **ligand/receptor expression filter** (one for the controls and one for the cases). It writes the selected threshold values in the `thresholds` list of the interaction object and stores the filtering results as boolean vectors (one per threshold) in the `anno_interactions` list. The function does not subset the data, so if you want to change the filtering parameters, you can re-define the thresholds and re-run the `filter_interactions` function."
   ]
  },
  {
   "cell_type": "code",
   "execution_count": null,
   "metadata": {
    "ExecuteTime": {
     "end_time": "2023-01-30T17:04:48.139358Z",
     "start_time": "2023-01-30T17:04:36.863Z"
    }
   },
   "outputs": [],
   "source": [
    "print(\"filter weak interactions\")\n",
    "\n",
    "options(repr.plot.height = 10\n",
    "       ,repr.plot.width = 16)\n",
    "interactions <- filter_interactions(comm_result = interactions\n",
    "                             ,threshold_frac_samples_per_condition = threshold_frac_samples_per_condition\n",
    "                             ,threshold_log10_cum_weight = threshold_log10_cum_weight\n",
    "                             ,threshold_log10_meanexpr_per_condition = threshold_log10_meanexpr_per_condition\n",
    ")"
   ]
  },
  {
   "cell_type": "code",
   "execution_count": null,
   "metadata": {
    "ExecuteTime": {
     "end_time": "2023-01-30T17:00:54.105489Z",
     "start_time": "2023-01-30T17:00:53.962Z"
    },
    "scrolled": false
   },
   "outputs": [],
   "source": [
    "print(str(interactions$thresholds))\n",
    "print(str(interactions$anno_interactions))"
   ]
  },
  {
   "cell_type": "markdown",
   "metadata": {},
   "source": [
    "# Differential Communication"
   ]
  },
  {
   "cell_type": "markdown",
   "metadata": {},
   "source": [
    "For calculating statistically significant differential interactions between the cases and the controls, we need to define an adjusted p-value threhsold and the log2 fold change threshold. "
   ]
  },
  {
   "cell_type": "code",
   "execution_count": null,
   "metadata": {
    "ExecuteTime": {
     "end_time": "2023-01-30T17:00:58.643788Z",
     "start_time": "2023-01-30T17:00:58.579Z"
    }
   },
   "outputs": [],
   "source": [
    "# Set up log2 fold change threshold. The default value is 1\n",
    "threshold_log2FC <- 1\n",
    "print(paste(\"[absolute] threshold_log2FC >\",threshold_log2FC))"
   ]
  },
  {
   "cell_type": "code",
   "execution_count": null,
   "metadata": {
    "ExecuteTime": {
     "end_time": "2023-01-30T17:00:59.264764Z",
     "start_time": "2023-01-30T17:00:59.232Z"
    }
   },
   "outputs": [],
   "source": [
    "# Set up FDR threshold. The default value is 0.1\n",
    "threshold_fdr <- 0.1\n",
    "print(paste(\"threshold_fdr <\",threshold_fdr))"
   ]
  },
  {
   "cell_type": "markdown",
   "metadata": {},
   "source": [
    "The `test_diff` function stores the thresholds in the `thresholds` list of the interactions object."
   ]
  },
  {
   "cell_type": "markdown",
   "metadata": {},
   "source": [
    "The `test_diff` function calculates a p-value for each interaction using a Wilcoxon test and adjusts for multiple testing using the FDR correction method. After that, the function checks whether the log2 fold change and the adjusted p-value thresholds were passed. An interactoin is considered significant if it passes both threshodls. The `test_diff` function stores the results as boolean vector to the `anno_interactions` list of the interactions object."
   ]
  },
  {
   "cell_type": "code",
   "execution_count": null,
   "metadata": {
    "ExecuteTime": {
     "end_time": "2023-01-30T17:01:12.474670Z",
     "start_time": "2023-01-30T17:01:00.386Z"
    }
   },
   "outputs": [],
   "source": [
    "print(\"calculate differential communication\")\n",
    "interactions <- test_diff(comm_result = interactions\n",
    "                          ,threshold_fdr = threshold_fdr\n",
    "                          ,which_test = \"t-test\"\n",
    "                          ,threshold_log2FC = threshold_log2FC\n",
    "                          \n",
    "                         )\n",
    "print(str(interactions$thresholds))\n",
    "print(str(interactions$anno_interactions))"
   ]
  },
  {
   "cell_type": "markdown",
   "metadata": {},
   "source": [
    "# Interplay of individual components"
   ]
  },
  {
   "cell_type": "markdown",
   "metadata": {},
   "source": [
    "# NEED <img src=\"../components_scheme.png\">"
   ]
  },
  {
   "cell_type": "markdown",
   "metadata": {},
   "source": [
    "We defined six complnents that influence the behaviour of each interaction:\n",
    "- rho_s\n",
    "- phi_s_l\n",
    "- p_s_l\n",
    "- rho_r\n",
    "- phi_r_r\n",
    "- p_r_r\n",
    "\n",
    "Each of these components can be changing independently in different directions. Based on the log2FC of each of them, we will define their direction:\n",
    "\n",
    "**Direction of the log2FC per component**:\n",
    "- *log2FC_rho_s_direction\n",
    "- *log2FC_phi_s_l_direction\n",
    "- *log2FC_p_s_l_direction\n",
    "- *log2FC_rho_r_direction\n",
    "- *log2FC_phi_r_r_direction\n",
    "- *log2FC_p_r_r_direction -- can have values:\n",
    "    - 0 -- if the absolute log2FC is less than the threshold_log2FC_component, i.e. unchanged\n",
    "    - 1 -- if the log2FC is greater than the threshold_log2FC_component, i.e. upregulated\n",
    "    - -1 -- if the log2FC is less than minus threshold_log2FC_component, i.e. downregulated\n",
    "\n",
    "Depending on how they interplay, we will split them into groups showing different characteristics.\n",
    "\n",
    "First, it is impornant for us to know, whether the component of only one of the two interacting partners are affected (either the sender or the receiver), or of both of them. To know this, we will calculate how many components were affected for each interacting partners:\n",
    "\n",
    "**List of affected components per interacting partner**\n",
    "- *components_affected_s* -- (sender) can have values:\n",
    "- *components_affected_r* -- (receiver) can have values:\n",
    "    - none\n",
    "    - p\n",
    "    - phi\n",
    "    - rho\n",
    "    - phi_p\n",
    "    - rho_p\n",
    "    - rho_phi\n",
    "    - rho_phi_p\n",
    "\n",
    "**Number of components affected per interacting partner**:\n",
    "- *nr_comp_affected_s* -- (sender) can have values: \n",
    "    - 0, 1, 2, or 3\n",
    "- *nr_comp_affected_r* -- (receiver) can have values: \n",
    "    - 0, 1, 2, or 3\n",
    "- *nr_comp_affected_b* -- (both) can have values: \n",
    "    - 0, 1, 2, 3, 4, 5, or 6\n",
    "    \n",
    "**Which counterpart is affected**:\n",
    "- *sender_or_receiver_affected* can have values:\n",
    "    - none -- if nr component sender is = 0 and nr component receiver is = 0\n",
    "    - sender -- if nr component sender is > 0 and nr component receiver is = 0\n",
    "    - receiver -- if nr component sender is = 0 and nr component receiver is > 0\n",
    "    - both -- if nr component sender is > 0 and nr component receiver is > 0\n",
    "    \n",
    "**Direction of the affected components per interacting partner**\n",
    "- *direction_s* -- (sender) can have values:\n",
    "- *direction_r* -- (receiver) can have values:\n",
    "- *direction_b* -- (both) can have values:\n",
    "    - none -- if zero components affected\n",
    "    - up -- if >0 components affected in the same difrection (upregulated)\n",
    "    - down -- if >0 components affected in the same difrection (downregulated)\n",
    "    - both -- if >1 components affected in the opposite difrection\n",
    "    \n",
    "If several components are affected, it is important to see, if the direction of the change is the same, such that the overall change is concordant, or it is opposit, such that the the overall cahnge is disconcordant.\n",
    "\n",
    "**Concordance of direction of affected components per interacting partner**\n",
    "- *concordance_s* -- (sender) can have values:\n",
    "- *concordance_r* -- (receiver) can have values:\n",
    "    - undefined -- if zero or one component is affected, i.e. not enough components to talk about concordance\n",
    "    - concordant -- if several components are affected in the same direction\n",
    "    - disconcordant -- if several components are affected in opposit directions\n",
    "- *concordance_b* -- (both) can have values:\n",
    "    - undefined -- if zero or one component is affected, i.e. not enogh components to talk about concordance\n",
    "    - concordant -- if several components are affected in the same direction\n",
    "    - disconcordant -- if:\n",
    "         - both concordance_s and concordance_r have one component changed each, but thier direction is opposit\n",
    "         - both concordance_s and concordance_r have several components changed each are both concordant, but thier direction is opposit\n",
    "         - either concordance_s or concordance_r is disconcordant while the other one is concordant\n",
    "         - both concordance_s and concordance_r are disconcordant\n",
    "\n",
    "**Interaction category**\n",
    " - *no_change* -- if log2FC of the interaction weight is did not pass the threshold_log2FC and none of the components is affected\n",
    "    \n",
    " - *simple_decrease* -- if log2FC of the interaction weight is less than minus threshold_log2FC and only one of the components is affected and is downregulated\n",
    "     \n",
    " - *simple_increase* -- if log2FC of the interaction weight is greater than the threshold_log2FC and only one of the components is affected and is upregulated\n",
    "     \n",
    " - *concordant_decrease* -- if log2FC of the interaction weight is less than minus threshold_log2FC, several components are affected and all of them are downregulated\n",
    "    \n",
    " - *concordant_increase* -- if log2FC of the interaction weight is greater than the threshold_log2FC, several components are affected and all of them are upregulated\n",
    "    \n",
    " - *insufficient_compensation* -- if log2FC of the interaction weight is passed the threshold_log2FC in either direction and several components are affected disconcordantly\n",
    "    \n",
    " - *sufficient_compensation* -- if log2FC of the interaction weight is did not pass the threshold_log2FC and several components are affected disconcordantly"
   ]
  },
  {
   "cell_type": "code",
   "execution_count": null,
   "metadata": {},
   "outputs": [],
   "source": [
    "# calculate interactions of the individual components\n",
    "interactions <- interaction_classes(interactions\n",
    "                   ,threshold = threshold_log2FC)\n",
    "print(str(interactions$anno_interactions))"
   ]
  },
  {
   "cell_type": "code",
   "execution_count": null,
   "metadata": {},
   "outputs": [],
   "source": []
  },
  {
   "cell_type": "code",
   "execution_count": 34,
   "metadata": {},
   "outputs": [],
   "source": [
    "# load(\"interactions.RData\")"
   ]
  },
  {
   "cell_type": "code",
   "execution_count": 35,
   "metadata": {},
   "outputs": [],
   "source": [
    "write.csv(interactions$weights,paste0(output_dir,\"community_weights.csv\"))"
   ]
  },
  {
   "cell_type": "code",
   "execution_count": 36,
   "metadata": {},
   "outputs": [],
   "source": [
    "write.csv(interactions$anno_interactions,paste0(output_dir,\"community_anno_interactions.csv\"))"
   ]
  },
  {
   "cell_type": "code",
   "execution_count": 37,
   "metadata": {
    "ExecuteTime": {
     "end_time": "2023-01-17T13:52:39.649713Z",
     "start_time": "2023-01-17T13:52:39.258Z"
    }
   },
   "outputs": [
    {
     "name": "stdout",
     "output_type": "stream",
     "text": [
      "[1] \"save interactions.RData\"\n"
     ]
    }
   ],
   "source": [
    "print(\"save interactions.RData\")\n",
    "save(interactions, file = paste0(output_dir,\"interactions.RData\"))"
   ]
  },
  {
   "cell_type": "code",
   "execution_count": null,
   "metadata": {},
   "outputs": [],
   "source": []
  }
 ],
 "metadata": {
  "kernelspec": {
   "display_name": "R",
   "language": "R",
   "name": "ir"
  },
  "language_info": {
   "codemirror_mode": "r",
   "file_extension": ".r",
   "mimetype": "text/x-r-source",
   "name": "R",
   "pygments_lexer": "r",
   "version": "4.1.2"
  },
  "toc": {
   "base_numbering": 1,
   "nav_menu": {},
   "number_sections": true,
   "sideBar": true,
   "skip_h1_title": false,
   "title_cell": "Table of Contents",
   "title_sidebar": "Contents",
   "toc_cell": false,
   "toc_position": {},
   "toc_section_display": true,
   "toc_window_display": false
  }
 },
 "nbformat": 4,
 "nbformat_minor": 4
}
