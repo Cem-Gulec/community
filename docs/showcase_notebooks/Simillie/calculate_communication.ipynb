{
 "cells": [
  {
   "cell_type": "markdown",
   "metadata": {},
   "source": [
    "# Install package"
   ]
  },
  {
   "cell_type": "code",
   "execution_count": 1,
   "metadata": {
    "ExecuteTime": {
     "end_time": "2023-01-30T17:02:18.246913Z",
     "start_time": "2023-01-30T17:02:18.112Z"
    }
   },
   "outputs": [],
   "source": [
    "# # install community\n",
    "# library(devtools)\n",
    "\n",
    "# devtools::install_github(\"SoloveyMaria/community\")"
   ]
  },
  {
   "cell_type": "markdown",
   "metadata": {},
   "source": [
    "# Calculate communication"
   ]
  },
  {
   "cell_type": "code",
   "execution_count": 2,
   "metadata": {
    "ExecuteTime": {
     "end_time": "2023-01-30T17:02:23.858558Z",
     "start_time": "2023-01-30T17:02:18.999Z"
    }
   },
   "outputs": [],
   "source": [
    "# libraries\n",
    "library(community)\n",
    "# library(ggplot2)\n",
    "library(data.table) #to read gz file\n",
    "# library(gridExtra)\n",
    "# library(grid)"
   ]
  },
  {
   "cell_type": "code",
   "execution_count": 3,
   "metadata": {
    "ExecuteTime": {
     "end_time": "2023-01-30T17:02:24.125726Z",
     "start_time": "2023-01-30T17:02:20.666Z"
    }
   },
   "outputs": [],
   "source": [
    "input_dir <- \"input_data/\"\n",
    "output_dir <- \"computed_results/\""
   ]
  },
  {
   "cell_type": "code",
   "execution_count": 4,
   "metadata": {
    "ExecuteTime": {
     "end_time": "2023-01-30T17:02:24.378607Z",
     "start_time": "2023-01-30T17:02:21.891Z"
    }
   },
   "outputs": [
    {
     "data": {
      "text/plain": [
       "R version 4.1.2 (2021-11-01)\n",
       "Platform: x86_64-pc-linux-gnu (64-bit)\n",
       "Running under: Ubuntu 22.04.3 LTS\n",
       "\n",
       "Matrix products: default\n",
       "BLAS:   /usr/lib/x86_64-linux-gnu/openblas-pthread/libblas.so.3\n",
       "LAPACK: /usr/lib/x86_64-linux-gnu/openblas-pthread/libopenblasp-r0.3.20.so\n",
       "\n",
       "locale:\n",
       " [1] LC_CTYPE=en_US.UTF-8       LC_NUMERIC=C              \n",
       " [3] LC_TIME=de_DE.UTF-8        LC_COLLATE=en_US.UTF-8    \n",
       " [5] LC_MONETARY=de_DE.UTF-8    LC_MESSAGES=en_US.UTF-8   \n",
       " [7] LC_PAPER=de_DE.UTF-8       LC_NAME=C                 \n",
       " [9] LC_ADDRESS=C               LC_TELEPHONE=C            \n",
       "[11] LC_MEASUREMENT=de_DE.UTF-8 LC_IDENTIFICATION=C       \n",
       "\n",
       "attached base packages:\n",
       "[1] stats     graphics  grDevices utils     datasets  methods   base     \n",
       "\n",
       "other attached packages:\n",
       "[1] data.table_1.14.8 community_1.4.0  \n",
       "\n",
       "loaded via a namespace (and not attached):\n",
       "  [1] readxl_1.4.1                uuid_1.1-0                 \n",
       "  [3] backports_1.4.1             Hmisc_4.7-2                \n",
       "  [5] BiocFileCache_2.2.1         plyr_1.8.8                 \n",
       "  [7] igraph_1.4.2                repr_1.1.4                 \n",
       "  [9] splines_4.1.2               BiocParallel_1.28.3        \n",
       " [11] GenomeInfoDb_1.30.1         ggplot2_3.4.4              \n",
       " [13] digest_0.6.31               htmltools_0.5.4            \n",
       " [15] OmnipathR_3.7.0             fansi_1.0.6                \n",
       " [17] magrittr_2.0.3              checkmate_2.1.0            \n",
       " [19] memoise_2.0.1               googlesheets4_1.0.1        \n",
       " [21] cluster_2.1.4               tzdb_0.3.0                 \n",
       " [23] Biostrings_2.62.0           readr_2.1.3                \n",
       " [25] modelr_0.1.9                matrixStats_0.63.0         \n",
       " [27] timechange_0.1.1            prettyunits_1.1.1          \n",
       " [29] jpeg_0.1-9                  colorspace_2.1-0           \n",
       " [31] blob_1.2.3                  rvest_1.0.3                \n",
       " [33] rappdirs_0.3.3              haven_2.5.1                \n",
       " [35] xfun_0.35                   dplyr_1.0.10               \n",
       " [37] crayon_1.5.2                RCurl_1.98-1.8             \n",
       " [39] jsonlite_1.8.4              survival_3.4-0             \n",
       " [41] glue_1.7.0.9000             gtable_0.3.4               \n",
       " [43] gargle_1.2.1                zlibbioc_1.40.0            \n",
       " [45] XVector_0.34.0              DelayedArray_0.20.0        \n",
       " [47] BiocGenerics_0.40.0         scales_1.3.0               \n",
       " [49] DBI_1.1.3                   Rcpp_1.0.9                 \n",
       " [51] progress_1.2.2              htmlTable_2.4.1            \n",
       " [53] foreign_0.8-82              bit_4.0.5                  \n",
       " [55] Formula_1.2-4               sqldf_0.4-11               \n",
       " [57] stats4_4.1.2                htmlwidgets_1.5.4          \n",
       " [59] httr_1.4.4                  RColorBrewer_1.1-3         \n",
       " [61] ellipsis_0.3.2              pkgconfig_2.0.3            \n",
       " [63] XML_3.99-0.12               nnet_7.3-17                \n",
       " [65] dbplyr_2.2.1                deldir_1.0-6               \n",
       " [67] utf8_1.2.4                  tidyselect_1.2.0           \n",
       " [69] rlang_1.1.3                 later_1.3.0                \n",
       " [71] AnnotationDbi_1.56.2        munsell_0.5.0              \n",
       " [73] cellranger_1.1.0            tools_4.1.2                \n",
       " [75] cachem_1.0.6                cli_3.6.2                  \n",
       " [77] gsubfn_0.7                  generics_0.1.3             \n",
       " [79] RSQLite_2.2.17              mygene_1.30.0              \n",
       " [81] broom_1.0.1                 evaluate_0.19              \n",
       " [83] stringr_1.5.1               fastmap_1.1.0              \n",
       " [85] yaml_2.3.6                  knitr_1.41                 \n",
       " [87] bit64_4.0.5                 fs_1.5.2                   \n",
       " [89] purrr_0.3.5                 KEGGREST_1.34.0            \n",
       " [91] xml2_1.3.3                  biomaRt_2.50.3             \n",
       " [93] compiler_4.1.2              rstudioapi_0.14            \n",
       " [95] filelock_1.0.2              curl_4.3.3                 \n",
       " [97] png_0.1-8                   reprex_2.0.2               \n",
       " [99] tibble_3.2.1                stringi_1.8.3              \n",
       "[101] GenomicFeatures_1.46.5      forcats_0.5.2              \n",
       "[103] logger_0.2.2                lattice_0.20-45            \n",
       "[105] IRdisplay_1.1               Matrix_1.5-1               \n",
       "[107] vctrs_0.6.5                 pillar_1.9.0               \n",
       "[109] lifecycle_1.0.4             bitops_1.0-7               \n",
       "[111] rtracklayer_1.54.0          GenomicRanges_1.46.1       \n",
       "[113] R6_2.5.1                    BiocIO_1.4.0               \n",
       "[115] latticeExtra_0.6-30         gridExtra_2.3              \n",
       "[117] IRanges_2.28.0              assertthat_0.2.1           \n",
       "[119] chron_2.3-57                proto_1.0.0                \n",
       "[121] SummarizedExperiment_1.24.0 rjson_0.2.21               \n",
       "[123] withr_2.5.2                 GenomicAlignments_1.30.0   \n",
       "[125] Rsamtools_2.10.0            S4Vectors_0.32.4           \n",
       "[127] GenomeInfoDbData_1.2.7      parallel_4.1.2             \n",
       "[129] hms_1.1.2                   grid_4.1.2                 \n",
       "[131] rpart_4.1.16                tidyverse_1.3.2            \n",
       "[133] IRkernel_1.3                tidyr_1.2.1                \n",
       "[135] rmarkdown_2.19              MatrixGenerics_1.6.0       \n",
       "[137] googledrive_2.0.0           pbdZMQ_0.3-7               \n",
       "[139] Biobase_2.54.0              lubridate_1.9.0            \n",
       "[141] base64enc_0.1-3             interp_1.1-3               \n",
       "[143] restfulr_0.0.15            "
      ]
     },
     "metadata": {},
     "output_type": "display_data"
    }
   ],
   "source": [
    "sessionInfo()"
   ]
  },
  {
   "cell_type": "markdown",
   "metadata": {
    "heading_collapsed": true
   },
   "source": [
    "## Load data"
   ]
  },
  {
   "cell_type": "markdown",
   "metadata": {
    "hidden": true
   },
   "source": [
    "To calculate interactions, we will need the following files: normalized and batch corrected `counts`, cell annotation file `anno_cells`, and a sample annotation file `anno_samples`.\n",
    "\n",
    "The `counts` file contains normalized and batch corrected counts with genes in the rows and cell IDs in the columns.\n",
    "\n",
    "The `anno_cells` file should contain columns named cell_ID, cell_type and sample_ID.\n",
    "\n",
    "The `anno_sample` file should countan columns named sample_ID health_status (e.g. \"healthy\" or \"AML\") and case_or_conrol (e.g. \"control\" or \"case\")."
   ]
  },
  {
   "cell_type": "code",
   "execution_count": 5,
   "metadata": {},
   "outputs": [],
   "source": [
    "data(\"LR_database\")"
   ]
  },
  {
   "cell_type": "code",
   "execution_count": 6,
   "metadata": {
    "ExecuteTime": {
     "end_time": "2023-01-30T16:41:44.232505Z",
     "start_time": "2023-01-30T16:41:44.184Z"
    },
    "hidden": true
   },
   "outputs": [
    {
     "name": "stdout",
     "output_type": "stream",
     "text": [
      "'data.frame':\t6941 obs. of  21 variables:\n",
      " $ True_LR              : logi  TRUE TRUE TRUE TRUE TRUE TRUE ...\n",
      " $ Pair.Name            : chr  \"S100A10_TRPV6\" \"JAG2_NOTCH1\" \"DLL1_NOTCH1\" \"IGF1_IGF1R\" ...\n",
      " $ Ligand               : chr  \"S100A10\" \"JAG2\" \"DLL1\" \"IGF1\" ...\n",
      " $ Ligand.Name          : chr  \"S100 calcium binding protein A10\" \"jagged canonical Notch ligand 2\" \"delta like canonical Notch ligand 1\" \"insulin like growth factor 1\" ...\n",
      " $ Receptor             : chr  \"TRPV6\" \"NOTCH1\" \"NOTCH1\" \"IGF1R\" ...\n",
      " $ Receptor.Name        : chr  \"transient receptor potential cation channel subfamily V member 6\" \"notch receptor 1\" \"notch receptor 1\" \"insulin like growth factor 1 receptor\" ...\n",
      " $ complex_pair         : chr  NA NA NA NA ...\n",
      " $ source               : chr  \"P60903\" \"Q9Y219\" \"O00548\" \"P05019\" ...\n",
      " $ target               : chr  \"Q9H1D0\" \"P46531\" \"P46531\" \"P08069\" ...\n",
      " $ is_directed          : num  1 1 1 1 1 1 1 1 1 1 ...\n",
      " $ is_stimulation       : num  1 1 1 1 1 1 1 1 1 1 ...\n",
      " $ is_inhibition        : num  0 1 0 0 1 1 0 0 1 0 ...\n",
      " $ consensus_direction  : num  1 1 1 1 1 1 1 1 1 1 ...\n",
      " $ consensus_stimulation: num  1 1 1 1 1 1 1 1 1 1 ...\n",
      " $ consensus_inhibition : num  0 0 0 0 0 0 0 0 0 0 ...\n",
      " $ sources              : chr  \"CellTalkDB;HPRD;TRIP\" \"Baccin2019;CellCall;CellChatDB;CellPhoneDB;CellPhoneDB_Cellinker;CellTalkDB;Cellinker;DLRP_Cellinker;DLRP_talkl\"| __truncated__ \"Baccin2019;CellCall;CellChatDB;CellPhoneDB;CellPhoneDB_Cellinker;CellTalkDB;Cellinker;DLRP_Cellinker;DLRP_talkl\"| __truncated__ \"Baccin2019;CA1;CellCall;CellChatDB;CellPhoneDB;CellTalkDB;Cellinker;DIP;DLRP_Cellinker;DLRP_talklr;EMBRACE;Fant\"| __truncated__ ...\n",
      " $ references           : chr  \"CellTalkDB:18187190;HPRD:12660155;TRIP:12660155;TRIP:16189514;TRIP:18187190\" \"Baccin2019:1100613311006130;CellChatDB:22353464;CellPhoneDB:22353464;CellTalkDB:22353464;Cellinker:11006133;Cel\"| __truncated__ \"Baccin2019:1006133;Baccin2019:98194281;CellChatDB:22353464;CellPhoneDB:22353464;CellTalkDB:22353464;Cellinker:1\"| __truncated__ \"Baccin2019:1852007;Baccin2019:2877871;CA1:8408032;CellChatDB:14604834;CellTalkDB:2877871;Cellinker:14604834;Cel\"| __truncated__ ...\n",
      " $ curation_effort      : num  5 19 18 27 36 12 47 23 19 29 ...\n",
      " $ n_references         : num  3 11 9 15 20 5 15 11 6 10 ...\n",
      " $ n_resources          : int  3 20 20 26 27 16 26 14 15 19 ...\n",
      " $ annotation_strategy  : chr  \"both\" \"both\" \"both\" \"both\" ...\n",
      "NULL\n"
     ]
    }
   ],
   "source": [
    "# data(\"LR_database\")\n",
    "print(str(LR_database))"
   ]
  },
  {
   "cell_type": "code",
   "execution_count": 7,
   "metadata": {
    "hidden": true
   },
   "outputs": [
    {
     "name": "stdout",
     "output_type": "stream",
     "text": [
      "[1] \"load counts\"\n",
      "'data.frame':\t13861 obs. of  93593 variables:\n",
      " $ N10.EpiA.AACATTGAAAGTAG    : num  0 0 0 0 0 ...\n",
      " $ N10.EpiA.AACCCAGACGTAAC    : num  0 0 0 0 1.49 ...\n",
      " $ N10.EpiA.AATCTCACCGCATA    : num  0 0 0 0 0 0 0 0 0 0 ...\n",
      " $ N10.EpiA.ACAATAACCGCTAA    : num  0 0 0 0 0.533 ...\n",
      " $ N10.EpiA.ACAATTGATGCAGT    : num  0 0 0 0 0.396 ...\n",
      " $ N10.EpiA.ACAGTGTGTTGGTG    : num  0 0 0 0 0 ...\n",
      " $ N10.EpiA.ACCGTGCTACTCAG    : num  0 1.77 0 0 0 ...\n",
      " $ N10.EpiA.ACGAGGGAACCTAG    : num  0 0 0 0 0 0 0 0 0 0 ...\n",
      " $ N10.EpiA.ACGCAATGGTAGCT    : num  0 0 0 0 0 0 0 0 0 0 ...\n",
      " $ N10.EpiA.ACTACGGAAAGAAC    : num  0 0 0 0 0 ...\n",
      " $ N10.EpiA.AGCGATACGGTAAA    : num  0 0 0 0 0 0 0 0 0 0 ...\n",
      " $ N10.EpiA.AGTACGTGGAGGGT    : num  0 0 0 0 0 0 0 0 0 0 ...\n",
      " $ N10.EpiA.ATAAGTACGGAGGT    : num  0 0 0 0 0.515 ...\n",
      " $ N10.EpiA.CAGCCTTGCGACTA    : num  0 0 0 0 0 0 0 0 0 0 ...\n",
      " $ N10.EpiA.CCCACATGCCTTTA    : num  0 0 0 0 0 0 0 0 0 0 ...\n",
      " $ N10.EpiA.CCCGATTGGCTGAT    : num  0 0 0 0 0.794 ...\n",
      " $ N10.EpiA.CGAACATGCCTCAC    : num  0 0 0 0 0 ...\n",
      " $ N10.EpiA.CGTGTAGATGTCTT    : num  0 0 0 0 0 ...\n",
      " $ N10.EpiA.CTATTGTGTCAGGT    : num  0 0 0 0 0 ...\n",
      " $ N10.EpiA.CTCGACACGTTCAG    : num  0 0.684 0 0 0 ...\n",
      " $ N10.EpiA.CTCGACTGCCTACC    : num  0 0 0 0 0 0 0 0 0 0 ...\n",
      " $ N10.EpiA.CTTAGACTCGACTA    : num  0 0 0 0 0 0 0 0 0 0 ...\n",
      " $ N10.EpiA.GAACAGCTGGTCTA    : num  0 0 0 0 0 ...\n",
      " $ N10.EpiA.GAAGCGGATCTTCA    : num  0 0.846 0 0 0.846 ...\n",
      " $ N10.EpiA.GAAGCTTGGCTATG    : num  0 0 0 0 1.17 ...\n",
      " $ N10.EpiA.GAGCTCCTGACGTT    : num  0 0 0 0 0 0 0 0 0 0 ...\n",
      " $ N10.EpiA.GAGGTTTGGGGACA    : num  0 0 0 0 0 ...\n",
      " $ N10.EpiA.GATACTCTTGTCCC    : num  0 0 0 0 0 0 0 0 0 0 ...\n",
      " $ N10.EpiA.GCACCTACTAGTCG    : num  0 0 0 0 0 ...\n",
      " $ N10.EpiA.GCACCTTGCTTGAG    : num  0 0 0 0 0 0 0 0 0 0 ...\n",
      " $ N10.EpiA.GCATCAGATCTTAC    : num  0 0 0 0 0 ...\n",
      " $ N10.EpiA.GCTAGATGGCAAGG    : num  0 0 0 0 0.573 ...\n",
      " $ N10.EpiA.GGATGTACAACGAA    : num  0 0 0 0 0 0 0 0 0 0 ...\n",
      " $ N10.EpiA.GGATGTTGCTGCAA    : num  0 0 0 0 0 ...\n",
      " $ N10.EpiA.GGGAAGACAGAAGT    : num  0 0 0 0 0 ...\n",
      " $ N10.EpiA.GTACTACTCGTTGA    : num  0 0 0 0 0 ...\n",
      " $ N10.EpiA.GTGACAACAACGAA    : num  0 0.771 0 0 0 ...\n",
      " $ N10.EpiA.GTTATCTGGATACC    : num  0 0 0 0 0 0 0 0 0 0 ...\n",
      " $ N10.EpiA.TAAGCGTGACTCAG    : num  0 0 0 0 0.981 ...\n",
      " $ N10.EpiA.TAGCGATGGAGACG    : num  0 0 0 0 0 0 0 0 0 0 ...\n",
      " $ N10.EpiA.TAGGTTCTCGTAGT    : num  0 0 0 0 0.855 ...\n",
      " $ N10.EpiA.TATTTCCTAGTCGT    : num  0 0.543 0 0 0 ...\n",
      " $ N10.EpiA.TCCATCCTGAATAG    : num  0 0 0 0 0.99 ...\n",
      " $ N10.EpiA.TCCCGATGACCTAG    : num  0 0 0 0 0 0 0 0 0 0 ...\n",
      " $ N10.EpiA.TCGATACTTGCGTA    : num  0 0 0 0 0 0 0 0 0 0 ...\n",
      " $ N10.EpiA.TCGGACCTTAAGCC    : num  0 0.578 0 0 0 ...\n",
      " $ N10.EpiA.TCTGATACGGTGGA    : num  0 0.837 0 0 0 ...\n",
      " $ N10.EpiA.TGACTTACCAGGAG    : num  0 0 0 0 0 0 0 0 0 0 ...\n",
      " $ N10.EpiA.TGGTCAGACCCGTT    : num  0 0 0 0 0 ...\n",
      " $ N10.EpiA.TTAGTCTGGGACGA    : num  0 0 0 0 0 0 0 0 0 0 ...\n",
      " $ N10.EpiA.TTCAAAGAGCATAC    : num  0 0 0 0 0 0 0 0 0 0 ...\n",
      " $ N10.EpiA.TTCAGTTGAGGAGC    : num  0 0.804 0 0 0 ...\n",
      " $ N10.EpiA.TTCCCACTATCGGT    : num  0 0 0 0 0 0 0 0 0 0 ...\n",
      " $ N10.EpiA.TTCGTATGCTGGAT    : num  0 0 0 0 0 0 0 0 0 0 ...\n",
      " $ N10.EpiA.TTGTCATGTGTGAC    : num  0 0 0 0 0 ...\n",
      " $ N10.LPA.TTGCTATGACGCAT     : num  0 0 0 0 0 ...\n",
      " $ N8.EpiA.AAACGCTGTGGTAC     : num  0 0 0 0 0 ...\n",
      " $ N8.EpiA.AACGTTCTTACAGC     : num  0 1.2 0 0 1.2 ...\n",
      " $ N8.EpiA.ACGCCGGACCACAA     : num  0 0 0 0 0 0 0 0 0 0 ...\n",
      " $ N8.EpiA.AGAGTGCTATCAGC     : num  0 0 0 0 0 0 0 0 0 0 ...\n",
      " $ N8.EpiA.CAACCGCTGCTAAC     : num  0 0 0 0 0 0 0 0 0 0 ...\n",
      " $ N8.EpiA.CACGGGACCCATGA     : num  0 0 0 0 0 ...\n",
      " $ N8.EpiA.CCAGCACTGGACAG     : num  0 0 0 0 0 0 0 0 0 0 ...\n",
      " $ N8.EpiA.CGATCAGAGCTAAC     : num  0 0 0 0 0.85 ...\n",
      " $ N8.EpiA.CGCCATTGAAGCAA     : num  0 0 0 0 0 ...\n",
      " $ N8.EpiA.CTCATTGACAACTG     : num  0 0 0 0 0 ...\n",
      " $ N8.EpiA.TAAACAACTTCTGT     : num  0 0 0 0 0.615 ...\n",
      " $ N11.EpiB.AAAGACGAGTTCAG    : num  0 0 0 0 0 ...\n",
      " $ N11.EpiB.AAAGAGACCCTATT    : num  0 0 0 0 0 0 0 0 0 0 ...\n",
      " $ N11.EpiB.AAATACTGGGAAAT    : num  0 0 0 0 0 0 0 0 0 0 ...\n",
      " $ N11.EpiB.AATAAGCTTCACGA    : num  0 0.807 0 0 0 ...\n",
      " $ N11.EpiB.AATCGGTGAGCGTT    : num  0 0 0 0 0.691 ...\n",
      " $ N11.EpiB.ACCTCCGATGGTCA    : num  0 0.742 0 0 0 ...\n",
      " $ N11.EpiB.ACCTCGTGCATACG    : num  0 0 0 0 0 0 0 0 0 0 ...\n",
      " $ N11.EpiB.ACGACAACAAGTAG    : num  0 0 0 0 0 0 0 0 0 0 ...\n",
      " $ N11.EpiB.ACGGGAGACTAAGC    : num  0 1.28 0 0 1.28 ...\n",
      " $ N11.EpiB.ACTGCCACTATCGG    : num  0 0 0 0 0 ...\n",
      " $ N11.EpiB.ACTGTTACCCTTTA    : num  0 0 0 0 0 0 0 0 0 0 ...\n",
      " $ N11.EpiB.ACTTAGCTCCCAAA    : num  0 0 0 0 0 ...\n",
      " $ N11.EpiB.ACTTCAACGGTCTA    : num  0 0 0 0 0.535 ...\n",
      " $ N11.EpiB.ACTTCCCTGCTTAG    : num  0 0 0 0 0 0 0 0 0 0 ...\n",
      " $ N11.EpiB.AGAGATGAAACGAA    : num  0 0 0 0 0 0 0 0 0 0 ...\n",
      " $ N11.EpiB.AGCAAAGATTCGCC    : num  0 0 0 0 0.478 ...\n",
      " $ N11.EpiB.AGGATGCTTGAGAA    : num  0 0 0 0 0.628 ...\n",
      " $ N11.EpiB.AGGGCCACACGTGT    : num  0 0 0 0 0 0 0 0 0 0 ...\n",
      " $ N11.EpiB.AGTGAAGACCATGA    : num  0 0 0 0 0 ...\n",
      " $ N11.EpiB.ATAAGTACGGTGGA    : num  0 0 0 0 0 0 0 0 0 0 ...\n",
      " $ N11.EpiB.ATAATGACGACGTT    : num  0 0 0 0 0 0 0 0 0 0 ...\n",
      " $ N11.EpiB.ATCCCGTGTGTGGT    : num  0 0.36 0 0 0 ...\n",
      " $ N11.EpiB.ATCCGCACTTCTGT    : num  0 0.555 0 0 0 ...\n",
      " $ N11.EpiB.ATCGCAGACATGCA    : num  0 0 0 0 0 ...\n",
      " $ N11.EpiB.ATCGCGCTGAGGGT    : num  0 0 0 0 0 0 0 0 0 0 ...\n",
      " $ N11.EpiB.ATGATAACCATTCT    : num  0 0 0 0 0 ...\n",
      " $ N11.EpiB.ATGGTGACATTTCC    : num  0 0 0 0 0.914 ...\n",
      " $ N11.EpiB.ATTGTCTGGTCTTT    : num  0 0 0 0 0 0 0 0 0 0 ...\n",
      " $ N11.EpiB.ATTTCGTGAAACGA    : num  0 0 0 0 0 0 0 0 0 0 ...\n",
      " $ N11.EpiB.CAACCGCTTCCGAA    : num  0 0.306 0 0 0 ...\n",
      " $ N11.EpiB.CAAGCTGATGCATG    : num  0 1.12 0 0 0 ...\n",
      " $ N11.EpiB.CACTCCGACTCCCA    : num  0 0 0 0 0 ...\n",
      "  [list output truncated]\n",
      "NULL\n"
     ]
    }
   ],
   "source": [
    "# # load counts\n",
    "print(\"load counts\")\n",
    "counts <- fread(paste0(input_dir,\"counts_norm.csv.gz\"), header = TRUE)\n",
    "counts <- as.data.frame(counts)\n",
    "rownames(counts) <- counts$gene_symbol\n",
    "counts <- counts[,-1]\n",
    "print(str(counts))"
   ]
  },
  {
   "cell_type": "code",
   "execution_count": 30,
   "metadata": {},
   "outputs": [
    {
     "data": {
      "text/html": [
       "<table class=\"dataframe\">\n",
       "<caption>A data.frame: 15 × 15</caption>\n",
       "<thead>\n",
       "\t<tr><th></th><th scope=col>N10.EpiA.AACATTGAAAGTAG</th><th scope=col>N10.EpiA.AACCCAGACGTAAC</th><th scope=col>N10.EpiA.AATCTCACCGCATA</th><th scope=col>N10.EpiA.ACAATAACCGCTAA</th><th scope=col>N10.EpiA.ACAATTGATGCAGT</th><th scope=col>N10.EpiA.ACAGTGTGTTGGTG</th><th scope=col>N10.EpiA.ACCGTGCTACTCAG</th><th scope=col>N10.EpiA.ACGAGGGAACCTAG</th><th scope=col>N10.EpiA.ACGCAATGGTAGCT</th><th scope=col>N10.EpiA.ACTACGGAAAGAAC</th><th scope=col>N10.EpiA.AGCGATACGGTAAA</th><th scope=col>N10.EpiA.AGTACGTGGAGGGT</th><th scope=col>N10.EpiA.ATAAGTACGGAGGT</th><th scope=col>N10.EpiA.CAGCCTTGCGACTA</th><th scope=col>N10.EpiA.CCCACATGCCTTTA</th></tr>\n",
       "\t<tr><th></th><th scope=col>&lt;dbl&gt;</th><th scope=col>&lt;dbl&gt;</th><th scope=col>&lt;dbl&gt;</th><th scope=col>&lt;dbl&gt;</th><th scope=col>&lt;dbl&gt;</th><th scope=col>&lt;dbl&gt;</th><th scope=col>&lt;dbl&gt;</th><th scope=col>&lt;dbl&gt;</th><th scope=col>&lt;dbl&gt;</th><th scope=col>&lt;dbl&gt;</th><th scope=col>&lt;dbl&gt;</th><th scope=col>&lt;dbl&gt;</th><th scope=col>&lt;dbl&gt;</th><th scope=col>&lt;dbl&gt;</th><th scope=col>&lt;dbl&gt;</th></tr>\n",
       "</thead>\n",
       "<tbody>\n",
       "\t<tr><th scope=row>A1BG-AS1</th><td>0.000000</td><td>0.000000</td><td>0.000000</td><td>0.0000000</td><td>0.0000000</td><td>0.0000000</td><td>0.000000</td><td>0.000000</td><td>0.0000000</td><td>0.0000000</td><td>0</td><td>0</td><td>0.0000000</td><td>0.0000000</td><td>0.0000000</td></tr>\n",
       "\t<tr><th scope=row>A1CF</th><td>0.000000</td><td>0.000000</td><td>0.000000</td><td>0.0000000</td><td>0.0000000</td><td>0.0000000</td><td>1.568275</td><td>0.000000</td><td>0.0000000</td><td>0.0000000</td><td>0</td><td>0</td><td>0.0000000</td><td>0.0000000</td><td>0.0000000</td></tr>\n",
       "\t<tr><th scope=row>A2M</th><td>0.000000</td><td>0.000000</td><td>0.000000</td><td>0.0000000</td><td>0.0000000</td><td>0.0000000</td><td>0.000000</td><td>0.000000</td><td>0.0000000</td><td>0.0000000</td><td>0</td><td>0</td><td>0.0000000</td><td>0.0000000</td><td>0.0000000</td></tr>\n",
       "\t<tr><th scope=row>A4GALT</th><td>0.000000</td><td>0.000000</td><td>0.000000</td><td>0.0000000</td><td>0.0000000</td><td>0.0000000</td><td>0.000000</td><td>0.000000</td><td>0.0000000</td><td>0.0000000</td><td>0</td><td>0</td><td>0.0000000</td><td>0.0000000</td><td>0.0000000</td></tr>\n",
       "\t<tr><th scope=row>AAAS</th><td>0.000000</td><td>1.296685</td><td>0.000000</td><td>0.4419559</td><td>0.3250990</td><td>0.0000000</td><td>0.000000</td><td>0.000000</td><td>0.0000000</td><td>0.0000000</td><td>0</td><td>0</td><td>0.4467138</td><td>0.0000000</td><td>0.0000000</td></tr>\n",
       "\t<tr><th scope=row>AACS</th><td>0.000000</td><td>0.000000</td><td>0.000000</td><td>0.0000000</td><td>0.0000000</td><td>0.0000000</td><td>0.000000</td><td>0.000000</td><td>0.0000000</td><td>0.3264982</td><td>0</td><td>0</td><td>0.0000000</td><td>0.0000000</td><td>0.0000000</td></tr>\n",
       "\t<tr><th scope=row>AAED1</th><td>0.000000</td><td>0.000000</td><td>0.000000</td><td>0.0000000</td><td>0.0000000</td><td>0.0000000</td><td>0.000000</td><td>0.000000</td><td>0.0000000</td><td>0.0000000</td><td>0</td><td>0</td><td>0.4467138</td><td>0.0000000</td><td>0.0000000</td></tr>\n",
       "\t<tr><th scope=row>AAGAB</th><td>0.000000</td><td>0.000000</td><td>0.000000</td><td>0.4419559</td><td>0.0000000</td><td>0.0000000</td><td>0.000000</td><td>0.000000</td><td>0.0000000</td><td>0.0000000</td><td>0</td><td>0</td><td>0.7543993</td><td>0.0000000</td><td>0.0000000</td></tr>\n",
       "\t<tr><th scope=row>AAK1</th><td>0.000000</td><td>0.000000</td><td>0.000000</td><td>0.0000000</td><td>0.0000000</td><td>0.0000000</td><td>0.000000</td><td>0.000000</td><td>0.0000000</td><td>0.0000000</td><td>0</td><td>0</td><td>0.0000000</td><td>0.0000000</td><td>0.0000000</td></tr>\n",
       "\t<tr><th scope=row>AAMDC</th><td>1.673426</td><td>0.000000</td><td>0.000000</td><td>0.0000000</td><td>0.5700386</td><td>0.7253911</td><td>0.000000</td><td>0.000000</td><td>0.0000000</td><td>0.0000000</td><td>0</td><td>0</td><td>0.0000000</td><td>0.0000000</td><td>0.0000000</td></tr>\n",
       "\t<tr><th scope=row>AAMP</th><td>0.000000</td><td>0.000000</td><td>1.336538</td><td>0.4419559</td><td>0.0000000</td><td>0.0000000</td><td>0.000000</td><td>1.462116</td><td>0.3852039</td><td>0.7693290</td><td>0</td><td>0</td><td>0.7543993</td><td>0.7023039</td><td>0.0000000</td></tr>\n",
       "\t<tr><th scope=row>AAR2</th><td>0.000000</td><td>0.000000</td><td>0.000000</td><td>0.4419559</td><td>0.0000000</td><td>0.0000000</td><td>0.000000</td><td>0.000000</td><td>0.0000000</td><td>0.3264982</td><td>0</td><td>0</td><td>0.0000000</td><td>0.0000000</td><td>0.6995012</td></tr>\n",
       "\t<tr><th scope=row>AARS</th><td>0.000000</td><td>0.000000</td><td>0.000000</td><td>0.0000000</td><td>0.0000000</td><td>0.0000000</td><td>0.000000</td><td>0.000000</td><td>0.0000000</td><td>0.0000000</td><td>0</td><td>0</td><td>0.4467138</td><td>0.0000000</td><td>0.0000000</td></tr>\n",
       "\t<tr><th scope=row>AARS2</th><td>0.000000</td><td>0.000000</td><td>0.000000</td><td>0.0000000</td><td>0.3250990</td><td>0.0000000</td><td>1.064429</td><td>0.000000</td><td>0.0000000</td><td>0.3264982</td><td>0</td><td>0</td><td>0.0000000</td><td>0.0000000</td><td>0.0000000</td></tr>\n",
       "\t<tr><th scope=row>AARSD1</th><td>0.000000</td><td>0.000000</td><td>0.000000</td><td>0.0000000</td><td>0.0000000</td><td>0.0000000</td><td>0.000000</td><td>0.000000</td><td>0.0000000</td><td>0.3264982</td><td>0</td><td>0</td><td>0.0000000</td><td>0.7023039</td><td>0.0000000</td></tr>\n",
       "</tbody>\n",
       "</table>\n"
      ],
      "text/latex": [
       "A data.frame: 15 × 15\n",
       "\\begin{tabular}{r|lllllllllllllll}\n",
       "  & N10.EpiA.AACATTGAAAGTAG & N10.EpiA.AACCCAGACGTAAC & N10.EpiA.AATCTCACCGCATA & N10.EpiA.ACAATAACCGCTAA & N10.EpiA.ACAATTGATGCAGT & N10.EpiA.ACAGTGTGTTGGTG & N10.EpiA.ACCGTGCTACTCAG & N10.EpiA.ACGAGGGAACCTAG & N10.EpiA.ACGCAATGGTAGCT & N10.EpiA.ACTACGGAAAGAAC & N10.EpiA.AGCGATACGGTAAA & N10.EpiA.AGTACGTGGAGGGT & N10.EpiA.ATAAGTACGGAGGT & N10.EpiA.CAGCCTTGCGACTA & N10.EpiA.CCCACATGCCTTTA\\\\\n",
       "  & <dbl> & <dbl> & <dbl> & <dbl> & <dbl> & <dbl> & <dbl> & <dbl> & <dbl> & <dbl> & <dbl> & <dbl> & <dbl> & <dbl> & <dbl>\\\\\n",
       "\\hline\n",
       "\tA1BG-AS1 & 0.000000 & 0.000000 & 0.000000 & 0.0000000 & 0.0000000 & 0.0000000 & 0.000000 & 0.000000 & 0.0000000 & 0.0000000 & 0 & 0 & 0.0000000 & 0.0000000 & 0.0000000\\\\\n",
       "\tA1CF & 0.000000 & 0.000000 & 0.000000 & 0.0000000 & 0.0000000 & 0.0000000 & 1.568275 & 0.000000 & 0.0000000 & 0.0000000 & 0 & 0 & 0.0000000 & 0.0000000 & 0.0000000\\\\\n",
       "\tA2M & 0.000000 & 0.000000 & 0.000000 & 0.0000000 & 0.0000000 & 0.0000000 & 0.000000 & 0.000000 & 0.0000000 & 0.0000000 & 0 & 0 & 0.0000000 & 0.0000000 & 0.0000000\\\\\n",
       "\tA4GALT & 0.000000 & 0.000000 & 0.000000 & 0.0000000 & 0.0000000 & 0.0000000 & 0.000000 & 0.000000 & 0.0000000 & 0.0000000 & 0 & 0 & 0.0000000 & 0.0000000 & 0.0000000\\\\\n",
       "\tAAAS & 0.000000 & 1.296685 & 0.000000 & 0.4419559 & 0.3250990 & 0.0000000 & 0.000000 & 0.000000 & 0.0000000 & 0.0000000 & 0 & 0 & 0.4467138 & 0.0000000 & 0.0000000\\\\\n",
       "\tAACS & 0.000000 & 0.000000 & 0.000000 & 0.0000000 & 0.0000000 & 0.0000000 & 0.000000 & 0.000000 & 0.0000000 & 0.3264982 & 0 & 0 & 0.0000000 & 0.0000000 & 0.0000000\\\\\n",
       "\tAAED1 & 0.000000 & 0.000000 & 0.000000 & 0.0000000 & 0.0000000 & 0.0000000 & 0.000000 & 0.000000 & 0.0000000 & 0.0000000 & 0 & 0 & 0.4467138 & 0.0000000 & 0.0000000\\\\\n",
       "\tAAGAB & 0.000000 & 0.000000 & 0.000000 & 0.4419559 & 0.0000000 & 0.0000000 & 0.000000 & 0.000000 & 0.0000000 & 0.0000000 & 0 & 0 & 0.7543993 & 0.0000000 & 0.0000000\\\\\n",
       "\tAAK1 & 0.000000 & 0.000000 & 0.000000 & 0.0000000 & 0.0000000 & 0.0000000 & 0.000000 & 0.000000 & 0.0000000 & 0.0000000 & 0 & 0 & 0.0000000 & 0.0000000 & 0.0000000\\\\\n",
       "\tAAMDC & 1.673426 & 0.000000 & 0.000000 & 0.0000000 & 0.5700386 & 0.7253911 & 0.000000 & 0.000000 & 0.0000000 & 0.0000000 & 0 & 0 & 0.0000000 & 0.0000000 & 0.0000000\\\\\n",
       "\tAAMP & 0.000000 & 0.000000 & 1.336538 & 0.4419559 & 0.0000000 & 0.0000000 & 0.000000 & 1.462116 & 0.3852039 & 0.7693290 & 0 & 0 & 0.7543993 & 0.7023039 & 0.0000000\\\\\n",
       "\tAAR2 & 0.000000 & 0.000000 & 0.000000 & 0.4419559 & 0.0000000 & 0.0000000 & 0.000000 & 0.000000 & 0.0000000 & 0.3264982 & 0 & 0 & 0.0000000 & 0.0000000 & 0.6995012\\\\\n",
       "\tAARS & 0.000000 & 0.000000 & 0.000000 & 0.0000000 & 0.0000000 & 0.0000000 & 0.000000 & 0.000000 & 0.0000000 & 0.0000000 & 0 & 0 & 0.4467138 & 0.0000000 & 0.0000000\\\\\n",
       "\tAARS2 & 0.000000 & 0.000000 & 0.000000 & 0.0000000 & 0.3250990 & 0.0000000 & 1.064429 & 0.000000 & 0.0000000 & 0.3264982 & 0 & 0 & 0.0000000 & 0.0000000 & 0.0000000\\\\\n",
       "\tAARSD1 & 0.000000 & 0.000000 & 0.000000 & 0.0000000 & 0.0000000 & 0.0000000 & 0.000000 & 0.000000 & 0.0000000 & 0.3264982 & 0 & 0 & 0.0000000 & 0.7023039 & 0.0000000\\\\\n",
       "\\end{tabular}\n"
      ],
      "text/markdown": [
       "\n",
       "A data.frame: 15 × 15\n",
       "\n",
       "| <!--/--> | N10.EpiA.AACATTGAAAGTAG &lt;dbl&gt; | N10.EpiA.AACCCAGACGTAAC &lt;dbl&gt; | N10.EpiA.AATCTCACCGCATA &lt;dbl&gt; | N10.EpiA.ACAATAACCGCTAA &lt;dbl&gt; | N10.EpiA.ACAATTGATGCAGT &lt;dbl&gt; | N10.EpiA.ACAGTGTGTTGGTG &lt;dbl&gt; | N10.EpiA.ACCGTGCTACTCAG &lt;dbl&gt; | N10.EpiA.ACGAGGGAACCTAG &lt;dbl&gt; | N10.EpiA.ACGCAATGGTAGCT &lt;dbl&gt; | N10.EpiA.ACTACGGAAAGAAC &lt;dbl&gt; | N10.EpiA.AGCGATACGGTAAA &lt;dbl&gt; | N10.EpiA.AGTACGTGGAGGGT &lt;dbl&gt; | N10.EpiA.ATAAGTACGGAGGT &lt;dbl&gt; | N10.EpiA.CAGCCTTGCGACTA &lt;dbl&gt; | N10.EpiA.CCCACATGCCTTTA &lt;dbl&gt; |\n",
       "|---|---|---|---|---|---|---|---|---|---|---|---|---|---|---|---|\n",
       "| A1BG-AS1 | 0.000000 | 0.000000 | 0.000000 | 0.0000000 | 0.0000000 | 0.0000000 | 0.000000 | 0.000000 | 0.0000000 | 0.0000000 | 0 | 0 | 0.0000000 | 0.0000000 | 0.0000000 |\n",
       "| A1CF | 0.000000 | 0.000000 | 0.000000 | 0.0000000 | 0.0000000 | 0.0000000 | 1.568275 | 0.000000 | 0.0000000 | 0.0000000 | 0 | 0 | 0.0000000 | 0.0000000 | 0.0000000 |\n",
       "| A2M | 0.000000 | 0.000000 | 0.000000 | 0.0000000 | 0.0000000 | 0.0000000 | 0.000000 | 0.000000 | 0.0000000 | 0.0000000 | 0 | 0 | 0.0000000 | 0.0000000 | 0.0000000 |\n",
       "| A4GALT | 0.000000 | 0.000000 | 0.000000 | 0.0000000 | 0.0000000 | 0.0000000 | 0.000000 | 0.000000 | 0.0000000 | 0.0000000 | 0 | 0 | 0.0000000 | 0.0000000 | 0.0000000 |\n",
       "| AAAS | 0.000000 | 1.296685 | 0.000000 | 0.4419559 | 0.3250990 | 0.0000000 | 0.000000 | 0.000000 | 0.0000000 | 0.0000000 | 0 | 0 | 0.4467138 | 0.0000000 | 0.0000000 |\n",
       "| AACS | 0.000000 | 0.000000 | 0.000000 | 0.0000000 | 0.0000000 | 0.0000000 | 0.000000 | 0.000000 | 0.0000000 | 0.3264982 | 0 | 0 | 0.0000000 | 0.0000000 | 0.0000000 |\n",
       "| AAED1 | 0.000000 | 0.000000 | 0.000000 | 0.0000000 | 0.0000000 | 0.0000000 | 0.000000 | 0.000000 | 0.0000000 | 0.0000000 | 0 | 0 | 0.4467138 | 0.0000000 | 0.0000000 |\n",
       "| AAGAB | 0.000000 | 0.000000 | 0.000000 | 0.4419559 | 0.0000000 | 0.0000000 | 0.000000 | 0.000000 | 0.0000000 | 0.0000000 | 0 | 0 | 0.7543993 | 0.0000000 | 0.0000000 |\n",
       "| AAK1 | 0.000000 | 0.000000 | 0.000000 | 0.0000000 | 0.0000000 | 0.0000000 | 0.000000 | 0.000000 | 0.0000000 | 0.0000000 | 0 | 0 | 0.0000000 | 0.0000000 | 0.0000000 |\n",
       "| AAMDC | 1.673426 | 0.000000 | 0.000000 | 0.0000000 | 0.5700386 | 0.7253911 | 0.000000 | 0.000000 | 0.0000000 | 0.0000000 | 0 | 0 | 0.0000000 | 0.0000000 | 0.0000000 |\n",
       "| AAMP | 0.000000 | 0.000000 | 1.336538 | 0.4419559 | 0.0000000 | 0.0000000 | 0.000000 | 1.462116 | 0.3852039 | 0.7693290 | 0 | 0 | 0.7543993 | 0.7023039 | 0.0000000 |\n",
       "| AAR2 | 0.000000 | 0.000000 | 0.000000 | 0.4419559 | 0.0000000 | 0.0000000 | 0.000000 | 0.000000 | 0.0000000 | 0.3264982 | 0 | 0 | 0.0000000 | 0.0000000 | 0.6995012 |\n",
       "| AARS | 0.000000 | 0.000000 | 0.000000 | 0.0000000 | 0.0000000 | 0.0000000 | 0.000000 | 0.000000 | 0.0000000 | 0.0000000 | 0 | 0 | 0.4467138 | 0.0000000 | 0.0000000 |\n",
       "| AARS2 | 0.000000 | 0.000000 | 0.000000 | 0.0000000 | 0.3250990 | 0.0000000 | 1.064429 | 0.000000 | 0.0000000 | 0.3264982 | 0 | 0 | 0.0000000 | 0.0000000 | 0.0000000 |\n",
       "| AARSD1 | 0.000000 | 0.000000 | 0.000000 | 0.0000000 | 0.0000000 | 0.0000000 | 0.000000 | 0.000000 | 0.0000000 | 0.3264982 | 0 | 0 | 0.0000000 | 0.7023039 | 0.0000000 |\n",
       "\n"
      ],
      "text/plain": [
       "         N10.EpiA.AACATTGAAAGTAG N10.EpiA.AACCCAGACGTAAC\n",
       "A1BG-AS1 0.000000                0.000000               \n",
       "A1CF     0.000000                0.000000               \n",
       "A2M      0.000000                0.000000               \n",
       "A4GALT   0.000000                0.000000               \n",
       "AAAS     0.000000                1.296685               \n",
       "AACS     0.000000                0.000000               \n",
       "AAED1    0.000000                0.000000               \n",
       "AAGAB    0.000000                0.000000               \n",
       "AAK1     0.000000                0.000000               \n",
       "AAMDC    1.673426                0.000000               \n",
       "AAMP     0.000000                0.000000               \n",
       "AAR2     0.000000                0.000000               \n",
       "AARS     0.000000                0.000000               \n",
       "AARS2    0.000000                0.000000               \n",
       "AARSD1   0.000000                0.000000               \n",
       "         N10.EpiA.AATCTCACCGCATA N10.EpiA.ACAATAACCGCTAA\n",
       "A1BG-AS1 0.000000                0.0000000              \n",
       "A1CF     0.000000                0.0000000              \n",
       "A2M      0.000000                0.0000000              \n",
       "A4GALT   0.000000                0.0000000              \n",
       "AAAS     0.000000                0.4419559              \n",
       "AACS     0.000000                0.0000000              \n",
       "AAED1    0.000000                0.0000000              \n",
       "AAGAB    0.000000                0.4419559              \n",
       "AAK1     0.000000                0.0000000              \n",
       "AAMDC    0.000000                0.0000000              \n",
       "AAMP     1.336538                0.4419559              \n",
       "AAR2     0.000000                0.4419559              \n",
       "AARS     0.000000                0.0000000              \n",
       "AARS2    0.000000                0.0000000              \n",
       "AARSD1   0.000000                0.0000000              \n",
       "         N10.EpiA.ACAATTGATGCAGT N10.EpiA.ACAGTGTGTTGGTG\n",
       "A1BG-AS1 0.0000000               0.0000000              \n",
       "A1CF     0.0000000               0.0000000              \n",
       "A2M      0.0000000               0.0000000              \n",
       "A4GALT   0.0000000               0.0000000              \n",
       "AAAS     0.3250990               0.0000000              \n",
       "AACS     0.0000000               0.0000000              \n",
       "AAED1    0.0000000               0.0000000              \n",
       "AAGAB    0.0000000               0.0000000              \n",
       "AAK1     0.0000000               0.0000000              \n",
       "AAMDC    0.5700386               0.7253911              \n",
       "AAMP     0.0000000               0.0000000              \n",
       "AAR2     0.0000000               0.0000000              \n",
       "AARS     0.0000000               0.0000000              \n",
       "AARS2    0.3250990               0.0000000              \n",
       "AARSD1   0.0000000               0.0000000              \n",
       "         N10.EpiA.ACCGTGCTACTCAG N10.EpiA.ACGAGGGAACCTAG\n",
       "A1BG-AS1 0.000000                0.000000               \n",
       "A1CF     1.568275                0.000000               \n",
       "A2M      0.000000                0.000000               \n",
       "A4GALT   0.000000                0.000000               \n",
       "AAAS     0.000000                0.000000               \n",
       "AACS     0.000000                0.000000               \n",
       "AAED1    0.000000                0.000000               \n",
       "AAGAB    0.000000                0.000000               \n",
       "AAK1     0.000000                0.000000               \n",
       "AAMDC    0.000000                0.000000               \n",
       "AAMP     0.000000                1.462116               \n",
       "AAR2     0.000000                0.000000               \n",
       "AARS     0.000000                0.000000               \n",
       "AARS2    1.064429                0.000000               \n",
       "AARSD1   0.000000                0.000000               \n",
       "         N10.EpiA.ACGCAATGGTAGCT N10.EpiA.ACTACGGAAAGAAC\n",
       "A1BG-AS1 0.0000000               0.0000000              \n",
       "A1CF     0.0000000               0.0000000              \n",
       "A2M      0.0000000               0.0000000              \n",
       "A4GALT   0.0000000               0.0000000              \n",
       "AAAS     0.0000000               0.0000000              \n",
       "AACS     0.0000000               0.3264982              \n",
       "AAED1    0.0000000               0.0000000              \n",
       "AAGAB    0.0000000               0.0000000              \n",
       "AAK1     0.0000000               0.0000000              \n",
       "AAMDC    0.0000000               0.0000000              \n",
       "AAMP     0.3852039               0.7693290              \n",
       "AAR2     0.0000000               0.3264982              \n",
       "AARS     0.0000000               0.0000000              \n",
       "AARS2    0.0000000               0.3264982              \n",
       "AARSD1   0.0000000               0.3264982              \n",
       "         N10.EpiA.AGCGATACGGTAAA N10.EpiA.AGTACGTGGAGGGT\n",
       "A1BG-AS1 0                       0                      \n",
       "A1CF     0                       0                      \n",
       "A2M      0                       0                      \n",
       "A4GALT   0                       0                      \n",
       "AAAS     0                       0                      \n",
       "AACS     0                       0                      \n",
       "AAED1    0                       0                      \n",
       "AAGAB    0                       0                      \n",
       "AAK1     0                       0                      \n",
       "AAMDC    0                       0                      \n",
       "AAMP     0                       0                      \n",
       "AAR2     0                       0                      \n",
       "AARS     0                       0                      \n",
       "AARS2    0                       0                      \n",
       "AARSD1   0                       0                      \n",
       "         N10.EpiA.ATAAGTACGGAGGT N10.EpiA.CAGCCTTGCGACTA\n",
       "A1BG-AS1 0.0000000               0.0000000              \n",
       "A1CF     0.0000000               0.0000000              \n",
       "A2M      0.0000000               0.0000000              \n",
       "A4GALT   0.0000000               0.0000000              \n",
       "AAAS     0.4467138               0.0000000              \n",
       "AACS     0.0000000               0.0000000              \n",
       "AAED1    0.4467138               0.0000000              \n",
       "AAGAB    0.7543993               0.0000000              \n",
       "AAK1     0.0000000               0.0000000              \n",
       "AAMDC    0.0000000               0.0000000              \n",
       "AAMP     0.7543993               0.7023039              \n",
       "AAR2     0.0000000               0.0000000              \n",
       "AARS     0.4467138               0.0000000              \n",
       "AARS2    0.0000000               0.0000000              \n",
       "AARSD1   0.0000000               0.7023039              \n",
       "         N10.EpiA.CCCACATGCCTTTA\n",
       "A1BG-AS1 0.0000000              \n",
       "A1CF     0.0000000              \n",
       "A2M      0.0000000              \n",
       "A4GALT   0.0000000              \n",
       "AAAS     0.0000000              \n",
       "AACS     0.0000000              \n",
       "AAED1    0.0000000              \n",
       "AAGAB    0.0000000              \n",
       "AAK1     0.0000000              \n",
       "AAMDC    0.0000000              \n",
       "AAMP     0.0000000              \n",
       "AAR2     0.6995012              \n",
       "AARS     0.0000000              \n",
       "AARS2    0.0000000              \n",
       "AARSD1   0.0000000              "
      ]
     },
     "metadata": {},
     "output_type": "display_data"
    }
   ],
   "source": [
    "counts[1:15,1:15]"
   ]
  },
  {
   "cell_type": "code",
   "execution_count": 31,
   "metadata": {},
   "outputs": [
    {
     "data": {
      "text/html": [
       "<table class=\"dataframe\">\n",
       "<caption>A data.frame: 6 × 23</caption>\n",
       "<thead>\n",
       "\t<tr><th></th><th scope=col>cell_ID</th><th scope=col>cell_type_original</th><th scope=col>tissue_type</th><th scope=col>cell_type</th><th scope=col>region</th><th scope=col>sample_ID</th><th scope=col>health_status</th><th scope=col>total_counts_raw</th><th scope=col>nr_genes</th><th scope=col>counts_upper_threshold</th><th scope=col>⋯</th><th scope=col>counts_lower_filter</th><th scope=col>genes_lower_filter</th><th scope=col>cell_filter</th><th scope=col>threshold_celltype_size</th><th scope=col>celltype_size_cf</th><th scope=col>celltype_size_filter</th><th scope=col>cell_type_ID</th><th scope=col>total_counts_raw_cf_ctf_gf</th><th scope=col>total_counts_raw_cf_ctf_gf_sf</th><th scope=col>sizeFactor</th></tr>\n",
       "\t<tr><th></th><th scope=col>&lt;chr&gt;</th><th scope=col>&lt;chr&gt;</th><th scope=col>&lt;chr&gt;</th><th scope=col>&lt;chr&gt;</th><th scope=col>&lt;chr&gt;</th><th scope=col>&lt;chr&gt;</th><th scope=col>&lt;chr&gt;</th><th scope=col>&lt;int&gt;</th><th scope=col>&lt;int&gt;</th><th scope=col>&lt;int&gt;</th><th scope=col>⋯</th><th scope=col>&lt;chr&gt;</th><th scope=col>&lt;chr&gt;</th><th scope=col>&lt;chr&gt;</th><th scope=col>&lt;int&gt;</th><th scope=col>&lt;int&gt;</th><th scope=col>&lt;chr&gt;</th><th scope=col>&lt;chr&gt;</th><th scope=col>&lt;int&gt;</th><th scope=col>&lt;int&gt;</th><th scope=col>&lt;dbl&gt;</th></tr>\n",
       "</thead>\n",
       "<tbody>\n",
       "\t<tr><th scope=row>N10.EpiA.AACATTGAAAGTAG</th><td>N10.EpiA.AACATTGAAAGTAG</td><td>Stem</td><td>Epithelial</td><td>Epithelial</td><td>Healthy</td><td>N10.A_Healthy</td><td>Healthy</td><td> 2995</td><td>1119</td><td>30000</td><td>⋯</td><td>True</td><td>True</td><td>True</td><td>5</td><td>1879</td><td>True</td><td>Epithelial_N10.A_Healthy</td><td> 2981</td><td> 2981</td><td>0.4618515</td></tr>\n",
       "\t<tr><th scope=row>N10.EpiA.AACCCAGACGTAAC</th><td>N10.EpiA.AACCCAGACGTAAC</td><td>Stem</td><td>Epithelial</td><td>Epithelial</td><td>Healthy</td><td>N10.A_Healthy</td><td>Healthy</td><td> 6527</td><td>1534</td><td>30000</td><td>⋯</td><td>True</td><td>True</td><td>True</td><td>5</td><td>1879</td><td>True</td><td>Epithelial_N10.A_Healthy</td><td> 6494</td><td> 6494</td><td>0.7526850</td></tr>\n",
       "\t<tr><th scope=row>N10.EpiA.AATCTCACCGCATA</th><td>N10.EpiA.AATCTCACCGCATA</td><td>Stem</td><td>Epithelial</td><td>Epithelial</td><td>Healthy</td><td>N10.A_Healthy</td><td>Healthy</td><td> 9262</td><td>2042</td><td>30000</td><td>⋯</td><td>True</td><td>True</td><td>True</td><td>5</td><td>1879</td><td>True</td><td>Epithelial_N10.A_Healthy</td><td> 9222</td><td> 9222</td><td>1.0691970</td></tr>\n",
       "\t<tr><th scope=row>N10.EpiA.ACAATAACCGCTAA</th><td>N10.EpiA.ACAATAACCGCTAA</td><td>Stem</td><td>Epithelial</td><td>Epithelial</td><td>Healthy</td><td>N10.A_Healthy</td><td>Healthy</td><td>13631</td><td>2666</td><td>30000</td><td>⋯</td><td>True</td><td>True</td><td>True</td><td>5</td><td>1879</td><td>True</td><td>Epithelial_N10.A_Healthy</td><td>13583</td><td>13583</td><td>1.7993798</td></tr>\n",
       "\t<tr><th scope=row>N10.EpiA.ACAATTGATGCAGT</th><td>N10.EpiA.ACAATTGATGCAGT</td><td>Stem</td><td>Epithelial</td><td>Epithelial</td><td>Healthy</td><td>N10.A_Healthy</td><td>Healthy</td><td>21207</td><td>3290</td><td>30000</td><td>⋯</td><td>True</td><td>True</td><td>True</td><td>5</td><td>1879</td><td>True</td><td>Epithelial_N10.A_Healthy</td><td>21139</td><td>21139</td><td>2.6030305</td></tr>\n",
       "\t<tr><th scope=row>N10.EpiA.ACAGTGTGTTGGTG</th><td>N10.EpiA.ACAGTGTGTTGGTG</td><td>Stem</td><td>Epithelial</td><td>Epithelial</td><td>Healthy</td><td>N10.A_Healthy</td><td>Healthy</td><td> 6150</td><td>1773</td><td>30000</td><td>⋯</td><td>True</td><td>True</td><td>True</td><td>5</td><td>1879</td><td>True</td><td>Epithelial_N10.A_Healthy</td><td> 6131</td><td> 6131</td><td>0.9384923</td></tr>\n",
       "</tbody>\n",
       "</table>\n"
      ],
      "text/latex": [
       "A data.frame: 6 × 23\n",
       "\\begin{tabular}{r|lllllllllllllllllllll}\n",
       "  & cell\\_ID & cell\\_type\\_original & tissue\\_type & cell\\_type & region & sample\\_ID & health\\_status & total\\_counts\\_raw & nr\\_genes & counts\\_upper\\_threshold & ⋯ & counts\\_lower\\_filter & genes\\_lower\\_filter & cell\\_filter & threshold\\_celltype\\_size & celltype\\_size\\_cf & celltype\\_size\\_filter & cell\\_type\\_ID & total\\_counts\\_raw\\_cf\\_ctf\\_gf & total\\_counts\\_raw\\_cf\\_ctf\\_gf\\_sf & sizeFactor\\\\\n",
       "  & <chr> & <chr> & <chr> & <chr> & <chr> & <chr> & <chr> & <int> & <int> & <int> & ⋯ & <chr> & <chr> & <chr> & <int> & <int> & <chr> & <chr> & <int> & <int> & <dbl>\\\\\n",
       "\\hline\n",
       "\tN10.EpiA.AACATTGAAAGTAG & N10.EpiA.AACATTGAAAGTAG & Stem & Epithelial & Epithelial & Healthy & N10.A\\_Healthy & Healthy &  2995 & 1119 & 30000 & ⋯ & True & True & True & 5 & 1879 & True & Epithelial\\_N10.A\\_Healthy &  2981 &  2981 & 0.4618515\\\\\n",
       "\tN10.EpiA.AACCCAGACGTAAC & N10.EpiA.AACCCAGACGTAAC & Stem & Epithelial & Epithelial & Healthy & N10.A\\_Healthy & Healthy &  6527 & 1534 & 30000 & ⋯ & True & True & True & 5 & 1879 & True & Epithelial\\_N10.A\\_Healthy &  6494 &  6494 & 0.7526850\\\\\n",
       "\tN10.EpiA.AATCTCACCGCATA & N10.EpiA.AATCTCACCGCATA & Stem & Epithelial & Epithelial & Healthy & N10.A\\_Healthy & Healthy &  9262 & 2042 & 30000 & ⋯ & True & True & True & 5 & 1879 & True & Epithelial\\_N10.A\\_Healthy &  9222 &  9222 & 1.0691970\\\\\n",
       "\tN10.EpiA.ACAATAACCGCTAA & N10.EpiA.ACAATAACCGCTAA & Stem & Epithelial & Epithelial & Healthy & N10.A\\_Healthy & Healthy & 13631 & 2666 & 30000 & ⋯ & True & True & True & 5 & 1879 & True & Epithelial\\_N10.A\\_Healthy & 13583 & 13583 & 1.7993798\\\\\n",
       "\tN10.EpiA.ACAATTGATGCAGT & N10.EpiA.ACAATTGATGCAGT & Stem & Epithelial & Epithelial & Healthy & N10.A\\_Healthy & Healthy & 21207 & 3290 & 30000 & ⋯ & True & True & True & 5 & 1879 & True & Epithelial\\_N10.A\\_Healthy & 21139 & 21139 & 2.6030305\\\\\n",
       "\tN10.EpiA.ACAGTGTGTTGGTG & N10.EpiA.ACAGTGTGTTGGTG & Stem & Epithelial & Epithelial & Healthy & N10.A\\_Healthy & Healthy &  6150 & 1773 & 30000 & ⋯ & True & True & True & 5 & 1879 & True & Epithelial\\_N10.A\\_Healthy &  6131 &  6131 & 0.9384923\\\\\n",
       "\\end{tabular}\n"
      ],
      "text/markdown": [
       "\n",
       "A data.frame: 6 × 23\n",
       "\n",
       "| <!--/--> | cell_ID &lt;chr&gt; | cell_type_original &lt;chr&gt; | tissue_type &lt;chr&gt; | cell_type &lt;chr&gt; | region &lt;chr&gt; | sample_ID &lt;chr&gt; | health_status &lt;chr&gt; | total_counts_raw &lt;int&gt; | nr_genes &lt;int&gt; | counts_upper_threshold &lt;int&gt; | ⋯ ⋯ | counts_lower_filter &lt;chr&gt; | genes_lower_filter &lt;chr&gt; | cell_filter &lt;chr&gt; | threshold_celltype_size &lt;int&gt; | celltype_size_cf &lt;int&gt; | celltype_size_filter &lt;chr&gt; | cell_type_ID &lt;chr&gt; | total_counts_raw_cf_ctf_gf &lt;int&gt; | total_counts_raw_cf_ctf_gf_sf &lt;int&gt; | sizeFactor &lt;dbl&gt; |\n",
       "|---|---|---|---|---|---|---|---|---|---|---|---|---|---|---|---|---|---|---|---|---|---|\n",
       "| N10.EpiA.AACATTGAAAGTAG | N10.EpiA.AACATTGAAAGTAG | Stem | Epithelial | Epithelial | Healthy | N10.A_Healthy | Healthy |  2995 | 1119 | 30000 | ⋯ | True | True | True | 5 | 1879 | True | Epithelial_N10.A_Healthy |  2981 |  2981 | 0.4618515 |\n",
       "| N10.EpiA.AACCCAGACGTAAC | N10.EpiA.AACCCAGACGTAAC | Stem | Epithelial | Epithelial | Healthy | N10.A_Healthy | Healthy |  6527 | 1534 | 30000 | ⋯ | True | True | True | 5 | 1879 | True | Epithelial_N10.A_Healthy |  6494 |  6494 | 0.7526850 |\n",
       "| N10.EpiA.AATCTCACCGCATA | N10.EpiA.AATCTCACCGCATA | Stem | Epithelial | Epithelial | Healthy | N10.A_Healthy | Healthy |  9262 | 2042 | 30000 | ⋯ | True | True | True | 5 | 1879 | True | Epithelial_N10.A_Healthy |  9222 |  9222 | 1.0691970 |\n",
       "| N10.EpiA.ACAATAACCGCTAA | N10.EpiA.ACAATAACCGCTAA | Stem | Epithelial | Epithelial | Healthy | N10.A_Healthy | Healthy | 13631 | 2666 | 30000 | ⋯ | True | True | True | 5 | 1879 | True | Epithelial_N10.A_Healthy | 13583 | 13583 | 1.7993798 |\n",
       "| N10.EpiA.ACAATTGATGCAGT | N10.EpiA.ACAATTGATGCAGT | Stem | Epithelial | Epithelial | Healthy | N10.A_Healthy | Healthy | 21207 | 3290 | 30000 | ⋯ | True | True | True | 5 | 1879 | True | Epithelial_N10.A_Healthy | 21139 | 21139 | 2.6030305 |\n",
       "| N10.EpiA.ACAGTGTGTTGGTG | N10.EpiA.ACAGTGTGTTGGTG | Stem | Epithelial | Epithelial | Healthy | N10.A_Healthy | Healthy |  6150 | 1773 | 30000 | ⋯ | True | True | True | 5 | 1879 | True | Epithelial_N10.A_Healthy |  6131 |  6131 | 0.9384923 |\n",
       "\n"
      ],
      "text/plain": [
       "                        cell_ID                 cell_type_original tissue_type\n",
       "N10.EpiA.AACATTGAAAGTAG N10.EpiA.AACATTGAAAGTAG Stem               Epithelial \n",
       "N10.EpiA.AACCCAGACGTAAC N10.EpiA.AACCCAGACGTAAC Stem               Epithelial \n",
       "N10.EpiA.AATCTCACCGCATA N10.EpiA.AATCTCACCGCATA Stem               Epithelial \n",
       "N10.EpiA.ACAATAACCGCTAA N10.EpiA.ACAATAACCGCTAA Stem               Epithelial \n",
       "N10.EpiA.ACAATTGATGCAGT N10.EpiA.ACAATTGATGCAGT Stem               Epithelial \n",
       "N10.EpiA.ACAGTGTGTTGGTG N10.EpiA.ACAGTGTGTTGGTG Stem               Epithelial \n",
       "                        cell_type  region  sample_ID     health_status\n",
       "N10.EpiA.AACATTGAAAGTAG Epithelial Healthy N10.A_Healthy Healthy      \n",
       "N10.EpiA.AACCCAGACGTAAC Epithelial Healthy N10.A_Healthy Healthy      \n",
       "N10.EpiA.AATCTCACCGCATA Epithelial Healthy N10.A_Healthy Healthy      \n",
       "N10.EpiA.ACAATAACCGCTAA Epithelial Healthy N10.A_Healthy Healthy      \n",
       "N10.EpiA.ACAATTGATGCAGT Epithelial Healthy N10.A_Healthy Healthy      \n",
       "N10.EpiA.ACAGTGTGTTGGTG Epithelial Healthy N10.A_Healthy Healthy      \n",
       "                        total_counts_raw nr_genes counts_upper_threshold ⋯\n",
       "N10.EpiA.AACATTGAAAGTAG  2995            1119     30000                  ⋯\n",
       "N10.EpiA.AACCCAGACGTAAC  6527            1534     30000                  ⋯\n",
       "N10.EpiA.AATCTCACCGCATA  9262            2042     30000                  ⋯\n",
       "N10.EpiA.ACAATAACCGCTAA 13631            2666     30000                  ⋯\n",
       "N10.EpiA.ACAATTGATGCAGT 21207            3290     30000                  ⋯\n",
       "N10.EpiA.ACAGTGTGTTGGTG  6150            1773     30000                  ⋯\n",
       "                        counts_lower_filter genes_lower_filter cell_filter\n",
       "N10.EpiA.AACATTGAAAGTAG True                True               True       \n",
       "N10.EpiA.AACCCAGACGTAAC True                True               True       \n",
       "N10.EpiA.AATCTCACCGCATA True                True               True       \n",
       "N10.EpiA.ACAATAACCGCTAA True                True               True       \n",
       "N10.EpiA.ACAATTGATGCAGT True                True               True       \n",
       "N10.EpiA.ACAGTGTGTTGGTG True                True               True       \n",
       "                        threshold_celltype_size celltype_size_cf\n",
       "N10.EpiA.AACATTGAAAGTAG 5                       1879            \n",
       "N10.EpiA.AACCCAGACGTAAC 5                       1879            \n",
       "N10.EpiA.AATCTCACCGCATA 5                       1879            \n",
       "N10.EpiA.ACAATAACCGCTAA 5                       1879            \n",
       "N10.EpiA.ACAATTGATGCAGT 5                       1879            \n",
       "N10.EpiA.ACAGTGTGTTGGTG 5                       1879            \n",
       "                        celltype_size_filter cell_type_ID            \n",
       "N10.EpiA.AACATTGAAAGTAG True                 Epithelial_N10.A_Healthy\n",
       "N10.EpiA.AACCCAGACGTAAC True                 Epithelial_N10.A_Healthy\n",
       "N10.EpiA.AATCTCACCGCATA True                 Epithelial_N10.A_Healthy\n",
       "N10.EpiA.ACAATAACCGCTAA True                 Epithelial_N10.A_Healthy\n",
       "N10.EpiA.ACAATTGATGCAGT True                 Epithelial_N10.A_Healthy\n",
       "N10.EpiA.ACAGTGTGTTGGTG True                 Epithelial_N10.A_Healthy\n",
       "                        total_counts_raw_cf_ctf_gf\n",
       "N10.EpiA.AACATTGAAAGTAG  2981                     \n",
       "N10.EpiA.AACCCAGACGTAAC  6494                     \n",
       "N10.EpiA.AATCTCACCGCATA  9222                     \n",
       "N10.EpiA.ACAATAACCGCTAA 13583                     \n",
       "N10.EpiA.ACAATTGATGCAGT 21139                     \n",
       "N10.EpiA.ACAGTGTGTTGGTG  6131                     \n",
       "                        total_counts_raw_cf_ctf_gf_sf sizeFactor\n",
       "N10.EpiA.AACATTGAAAGTAG  2981                         0.4618515 \n",
       "N10.EpiA.AACCCAGACGTAAC  6494                         0.7526850 \n",
       "N10.EpiA.AATCTCACCGCATA  9222                         1.0691970 \n",
       "N10.EpiA.ACAATAACCGCTAA 13583                         1.7993798 \n",
       "N10.EpiA.ACAATTGATGCAGT 21139                         2.6030305 \n",
       "N10.EpiA.ACAGTGTGTTGGTG  6131                         0.9384923 "
      ]
     },
     "metadata": {},
     "output_type": "display_data"
    }
   ],
   "source": [
    "head(anno_cells)"
   ]
  },
  {
   "cell_type": "code",
   "execution_count": 8,
   "metadata": {
    "hidden": true
   },
   "outputs": [
    {
     "name": "stdout",
     "output_type": "stream",
     "text": [
      "[1] \"load cell annotation\"\n",
      "'data.frame':\t93593 obs. of  25 variables:\n",
      " $ cell_ID.1                    : chr  \"N10.EpiA.AACATTGAAAGTAG\" \"N10.EpiA.AACCCAGACGTAAC\" \"N10.EpiA.AATCTCACCGCATA\" \"N10.EpiA.ACAATAACCGCTAA\" ...\n",
      " $ cell_type_original           : chr  \"Stem\" \"Stem\" \"Stem\" \"Stem\" ...\n",
      " $ tissue_type                  : chr  \"Epithelial\" \"Epithelial\" \"Epithelial\" \"Epithelial\" ...\n",
      " $ cell_type                    : chr  \"Stem and multipotent cells\" \"Stem and multipotent cells\" \"Stem and multipotent cells\" \"Stem and multipotent cells\" ...\n",
      " $ region                       : chr  \"Healthy\" \"Healthy\" \"Healthy\" \"Healthy\" ...\n",
      " $ sample_ID                    : chr  \"N10.A_Healthy\" \"N10.A_Healthy\" \"N10.A_Healthy\" \"N10.A_Healthy\" ...\n",
      " $ health_status                : chr  \"Healthy\" \"Healthy\" \"Healthy\" \"Healthy\" ...\n",
      " $ total_counts_raw             : int  2995 6527 9262 13631 21207 6150 4101 11891 21496 22636 ...\n",
      " $ nr_genes                     : int  1119 1534 2042 2666 3290 1773 1203 2477 3121 3534 ...\n",
      " $ counts_upper_threshold       : int  30000 30000 30000 30000 30000 30000 30000 30000 30000 30000 ...\n",
      " $ counts_lower_threshold       : int  1000 1000 1000 1000 1000 1000 1000 1000 1000 1000 ...\n",
      " $ genes_lower_threshold        : int  500 500 500 500 500 500 500 500 500 500 ...\n",
      " $ counts_upper_filter          : chr  \"True\" \"True\" \"True\" \"True\" ...\n",
      " $ counts_lower_filter          : chr  \"True\" \"True\" \"True\" \"True\" ...\n",
      " $ genes_lower_filter           : chr  \"True\" \"True\" \"True\" \"True\" ...\n",
      " $ cell_filter                  : chr  \"True\" \"True\" \"True\" \"True\" ...\n",
      " $ threshold_celltype_size      : int  5 5 5 5 5 5 5 5 5 5 ...\n",
      " $ celltype_size_cf             : int  1186 1186 1186 1186 1186 1186 1186 1186 1186 1186 ...\n",
      " $ celltype_size_filter         : chr  \"True\" \"True\" \"True\" \"True\" ...\n",
      " $ cell_type_ID                 : chr  \"Stem and multipotent cells_N10.A_Healthy\" \"Stem and multipotent cells_N10.A_Healthy\" \"Stem and multipotent cells_N10.A_Healthy\" \"Stem and multipotent cells_N10.A_Healthy\" ...\n",
      " $ total_counts_raw_cf_ctf_gf   : int  2988 6505 9241 13608 21171 6137 4086 11868 21439 22579 ...\n",
      " $ total_counts_raw_cf_ctf_gf_sf: int  2988 6505 9241 13608 21171 6137 4086 11868 21439 22579 ...\n",
      " $ sizeFactor                   : num  0.365 0.581 0.866 1.42 2.061 ...\n",
      " $ X_scvi_batch                 : int  3 3 3 3 3 3 3 3 3 3 ...\n",
      " $ X_scvi_labels                : int  10 10 10 10 10 10 10 10 10 10 ...\n",
      "NULL\n"
     ]
    }
   ],
   "source": [
    "# load cell annotation\n",
    "print(\"load cell annotation\")\n",
    "anno_cells <- read.table(paste0(input_dir,\"anno_cells_norm.txt\")\n",
    "                         ,sep = \"\\t\"\n",
    "                         ,row.names = 1\n",
    "                         ,header = TRUE\n",
    "                         )\n",
    "print(str(anno_cells))"
   ]
  },
  {
   "cell_type": "code",
   "execution_count": 9,
   "metadata": {
    "hidden": true
   },
   "outputs": [
    {
     "name": "stdout",
     "output_type": "stream",
     "text": [
      "[1] \"load sample annotation\"\n",
      "'data.frame':\t28 obs. of  12 variables:\n",
      " $ sample_ID                    : chr  \"N10.A_Healthy\" \"N11.B_Healthy\" \"N15.A_Healthy\" \"N16.A_Healthy\" ...\n",
      " $ patient_ID                   : chr  \"N10\" \"N11\" \"N15\" \"N16\" ...\n",
      " $ region                       : chr  \"Healthy\" \"Healthy\" \"Healthy\" \"Healthy\" ...\n",
      " $ case_or_control              : chr  \"control\" \"control\" \"control\" \"control\" ...\n",
      " $ health_status                : chr  \"Healthy\" \"Healthy\" \"Healthy\" \"Healthy\" ...\n",
      " $ nr_cells_raw                 : int  7360 3858 4849 3233 3230 4147 4186 4125 6709 10212 ...\n",
      " $ nr_cells_cf                  : int  5064 2821 3584 2614 2618 3443 2918 3291 5118 5551 ...\n",
      " $ nr_cells_cf_ctf              : int  5001 2779 3527 2576 2585 3419 2880 3266 5033 5492 ...\n",
      " $ total_counts_raw_cf_ctf_gf   : int  27866069 20263988 22019320 18624359 19596823 25407619 15086867 21303725 27492108 38419053 ...\n",
      " $ nr_celltypes_cf_ctf_gf       : int  13 13 13 13 13 13 13 13 13 13 ...\n",
      " $ threshold_nr_celltypes       : chr  \"greater or equal 12\" \"greater or equal 12\" \"greater or equal 12\" \"greater or equal 12\" ...\n",
      " $ passed_threshold_nr_celltypes: chr  \"True\" \"True\" \"True\" \"True\" ...\n",
      "NULL\n"
     ]
    }
   ],
   "source": [
    "# load sample annotation\n",
    "print(\"load sample annotation\")\n",
    "anno_samples <- read.table(paste0(input_dir,\"anno_samples_norm.txt\")\n",
    "                           ,sep = \"\\t\"\n",
    "                           ,row.names = 1\n",
    "                           ,header = TRUE\n",
    "                           )\n",
    "print(str(anno_samples))"
   ]
  },
  {
   "cell_type": "markdown",
   "metadata": {
    "hidden": true
   },
   "source": [
    "The ligand-receptor pair database is provided by the algorithm, but the user can also use a custom database. In this case, the custom database should have the columns named 'Ligand', 'Receptor' and 'Pair.Name'. "
   ]
  },
  {
   "cell_type": "code",
   "execution_count": 10,
   "metadata": {},
   "outputs": [],
   "source": [
    "colnames(counts) <- anno_cells$cell_ID\n",
    "rownames(anno_cells) <- anno_cells$cell_ID"
   ]
  },
  {
   "cell_type": "markdown",
   "metadata": {},
   "source": [
    "In our previous workflows, we defined a gene as expressed when it was detected in at least 10% of the cells in each cell type and sample. We will follow the same approach here, but instead of filtering out non-expressed genes, we will replace them with a value of 0."
   ]
  },
  {
   "cell_type": "markdown",
   "metadata": {
    "heading_collapsed": true
   },
   "source": [
    "## Thresholds"
   ]
  },
  {
   "cell_type": "markdown",
   "metadata": {
    "hidden": true
   },
   "source": [
    "When calculation the interactions, it is possible to set three threshold: \n",
    "- `threshold_celltype_size` is a threshold for the minimum number of cells that a cell type should contain (in one sample). If the number of cells in the cell type of interest in a particular sample is less or equal to the `threshold_celltype_size`, then we consider this cell type as missing in this sample. This threshold affects the relative cell type abundance parameter (rho). The default value for the `threshold_celltype_size` is 4. \n",
    "- `threshold_nr_active_cells` is a threshold for the minimum number of active cells in a cell type (in the sample of interest). A cell is considered as active (for a specific gene), if it is expressing this gene above the `threshold_expr`. If the number of active cells (for a specific gene) in a cell type is smaller or equal to the `threshold_nr_active_cells`, i.e. does not pass the threshold, then it is set to zero (in this sample). This threshold affects the relative active fraction (phi) parameter. The default value for the `threshold_expr` is zero.\n",
    "- `threshold_expr` is a threshold for an expression value of a gene in a cell. If an expression value af a gene in a cell is smaller or equal to the `threshold_expr` value, it will be set to zero. This threshold affects the relative active fraction (phi) and the relative mean expression (p) parameters. The default value for the `threshold_expr` is zero. In our analysis, we will set it arbitrarily to 0.05."
   ]
  },
  {
   "cell_type": "code",
   "execution_count": 11,
   "metadata": {
    "ExecuteTime": {
     "end_time": "2023-01-17T14:34:02.924303Z",
     "start_time": "2023-01-17T14:34:02.884Z"
    },
    "hidden": true
   },
   "outputs": [
    {
     "name": "stdout",
     "output_type": "stream",
     "text": [
      "[1] \"threshold_celltype_size >\"\n",
      "[1] 6\n"
     ]
    }
   ],
   "source": [
    "# set threshold of the cell type size\n",
    "threshold_celltype_size <- 6\n",
    "print(\"threshold_celltype_size >\")\n",
    "print(threshold_celltype_size)"
   ]
  },
  {
   "cell_type": "code",
   "execution_count": 12,
   "metadata": {
    "ExecuteTime": {
     "end_time": "2023-01-17T14:34:03.121639Z",
     "start_time": "2023-01-17T14:34:03.074Z"
    },
    "hidden": true
   },
   "outputs": [
    {
     "name": "stdout",
     "output_type": "stream",
     "text": [
      "[1] \"threshold_nr_active_cells >\"\n",
      "[1] 6\n"
     ]
    }
   ],
   "source": [
    "# set threshold of the minimum number of active cells\n",
    "threshold_nr_active_cells <- 6\n",
    "print(\"threshold_nr_active_cells >\")\n",
    "print(threshold_nr_active_cells)"
   ]
  },
  {
   "cell_type": "code",
   "execution_count": 13,
   "metadata": {
    "ExecuteTime": {
     "end_time": "2023-01-17T14:34:04.306920Z",
     "start_time": "2023-01-17T14:34:04.258Z"
    },
    "hidden": true
   },
   "outputs": [
    {
     "name": "stdout",
     "output_type": "stream",
     "text": [
      "[1] \"threshold_expr >\"\n",
      "[1] 0.1\n"
     ]
    }
   ],
   "source": [
    "# set threshold of expression\n",
    "threshold_expr <- 0.1\n",
    "print(\"threshold_expr >\")\n",
    "print(threshold_expr)"
   ]
  },
  {
   "cell_type": "markdown",
   "metadata": {
    "heading_collapsed": true
   },
   "source": [
    "## Calculate interactions"
   ]
  },
  {
   "cell_type": "code",
   "execution_count": 14,
   "metadata": {
    "hidden": true
   },
   "outputs": [],
   "source": [
    "# Renaming the cell_ID.1 column in anno_cells to \"cell_ID\"\n",
    "# colnames(anno_cells)[colnames(anno_cells) == \"cell_ID.1\"] <- \"cell_ID\""
   ]
  },
  {
   "cell_type": "code",
   "execution_count": 15,
   "metadata": {},
   "outputs": [],
   "source": [
    "# colnames(anno_cells)[colnames(anno_cells) == \"cell_ID\"] <- \"cell_IDXX\""
   ]
  },
  {
   "cell_type": "code",
   "execution_count": 16,
   "metadata": {
    "hidden": true
   },
   "outputs": [
    {
     "name": "stdout",
     "output_type": "stream",
     "text": [
      "[1] \"calculate communication\"\n"
     ]
    },
    {
     "name": "stderr",
     "output_type": "stream",
     "text": [
      "Warning message in e_cellType_gene(counts = counts_sub, anno_cells = anno_cells_sub, :\n",
      "“WARNING: sample N8.A_Healthy does not contain cell type Mast -- interactions for this cell type in this sample will get zero values.”\n",
      "Warning message in e_cellType_gene(counts = counts_sub, anno_cells = anno_cells_sub, :\n",
      "“WARNING: sample N23.B_Inflamed does not contain cell type Fibroblasts -- interactions for this cell type in this sample will get zero values.”\n"
     ]
    }
   ],
   "source": [
    "print(\"calculate communication\")\n",
    "interactions = calculate_communication(counts = counts\n",
    "                                       ,anno_samples = anno_samples\n",
    "                                       ,anno_cells = anno_cells\n",
    "                                       ,threshold_celltype_size = threshold_celltype_size\n",
    "                                       ,threshold_nr_active_cells = threshold_nr_active_cells\n",
    "                                       ,threshold_expr = threshold_expr\n",
    "                                       ,lrp_database = LR_database\n",
    "                                       )\n",
    "\n",
    "# print(str(interactions))\n"
   ]
  },
  {
   "cell_type": "code",
   "execution_count": null,
   "metadata": {},
   "outputs": [],
   "source": []
  },
  {
   "cell_type": "markdown",
   "metadata": {
    "heading_collapsed": true
   },
   "source": [
    "## Calculate general statistics"
   ]
  },
  {
   "cell_type": "markdown",
   "metadata": {
    "hidden": true
   },
   "source": [
    "The `general_stat` function calculates for each interaction several parameters that will be used for the QC, visualization and the differential communication analysis. \n",
    "\n",
    "Following parameters for the QC step will be stored in the `anno_interactions` list:\n",
    "- mean expression of a ligand in the active fraction of the sending cell type within the control cohort (`mean_e_s_l_control`) and within the case cohort (`mean_e_s_l_case`). \n",
    "- mean  expression of a receptor in the active fraction of the receiving cell type within the control cohort (`mean_e_r_r_control`) and within the case cohort (`mean_e_r_r_case`).\n",
    "\n",
    "Following parameters for the visualization will be stored in the `anno_interactions` list:\n",
    "- log2 fold change of `rho_s` between the cases and the controls (`log2FC_rho_s`). It shows for each interaction, how the cell type abundance of the sending cell type changed in the cases compared to the controls.\n",
    "- log2 fold change of `rho_r` between the cases and the controls (`log2FC_rho_r_r`). It shows for each interaction, how the cell type abundance of the receiving cell type changed in the cases compared to the controls.\n",
    "- log2 fold change of `rho` between the cases and the controls (`log2FC_rho`). It shows for each interaction, how the whole `rho` parameter changed in the cases compared to the controls.\n",
    "- log2 fold change of `phi_l_s` between the cases and the controls (`log2FC_phi_l_s`). It shows for each interaction, how the active fraction of the ligand in the sending cells changed in the cases compared to the controls.\n",
    "- log2 fold change of `phi_r_r` between the cases and the controls (`log2FC_phi_r_r`). It shows for each interaction, how the active fraction of the receptors in the receiving cells changed in the cases compared to the controls.\n",
    "- log2 fold change of `phi` between the cases and the controls (`log2FC_phi`). It shows for each interaction, how the whole `phi` parameter changed in the cases compared to the controls.\n",
    "- log2 fold change of `p_l_s` between the cases and the controls (`log2FC_p_l_s`). It shows for each interaction, how the mean expression within the active fraction of the ligand in the sending cells changed in the cases compared to the controls.\n",
    "- log2 fold change of `p_r_r` between the cases and the controls (`log2FC_p_r_r`). It shows for each interaction, how the mean expression within the active fraction of the receptor in the receiving cells changed in the cases compared to the controls.\n",
    "- log2 fold change of `p` between the cases and the controls (`log2FC_p`). It shows for each interaction, how the whole `p` parameter changed in the cases compared to the controls.\n",
    "\n",
    "Following parameter for the differential communication analysis will be stored in the `anno_interactions` list:\n",
    "- log2 fold change of `weights` between the cases and the controls (`log2FC_weights`). It shows for each interaction, how the whole interaction weight changed in the cases compared to the controls.\n",
    "\n",
    "\n",
    "\n"
   ]
  },
  {
   "cell_type": "code",
   "execution_count": null,
   "metadata": {
    "ExecuteTime": {
     "end_time": "2023-01-17T14:34:18.856673Z",
     "start_time": "2023-01-17T14:34:10.392Z"
    },
    "hidden": true
   },
   "outputs": [
    {
     "name": "stdout",
     "output_type": "stream",
     "text": [
      "[1] \"calculate general statistics\"\n"
     ]
    }
   ],
   "source": [
    "print(\"calculate general statistics\")\n",
    "\n",
    "interactions <- general_stat(comm_result = interactions\n",
    "                                   ,verbose = FALSE#TRUE\n",
    ")\n",
    "print(str(interactions$anno_interactions))"
   ]
  },
  {
   "cell_type": "markdown",
   "metadata": {},
   "source": [
    "# QC"
   ]
  },
  {
   "cell_type": "markdown",
   "metadata": {},
   "source": [
    "For the quality check, we use three filters: the **interaction weight filter**, the **presence per cohort filter** and the **ligand/receptor expression filter**. An interaction is considered of good quality, if it passes all three filters."
   ]
  },
  {
   "cell_type": "markdown",
   "metadata": {},
   "source": [
    "The **interaction weight filter** checks the log10 cumulative weight of the interaction. To pass this filter, the interaction needs to be greater than the `threshold_log10_cum_weight` threshold."
   ]
  },
  {
   "cell_type": "code",
   "execution_count": null,
   "metadata": {
    "ExecuteTime": {
     "end_time": "2023-01-30T17:02:33.339942Z",
     "start_time": "2023-01-30T17:02:33.280Z"
    }
   },
   "outputs": [],
   "source": [
    "threshold_log10_cum_weight <-  0.01\n",
    "print(\"threshold_log10_cum_weight >\")\n",
    "print(threshold_log10_cum_weight)"
   ]
  },
  {
   "cell_type": "markdown",
   "metadata": {
    "ExecuteTime": {
     "end_time": "2022-11-14T12:47:10.958916Z",
     "start_time": "2022-11-14T12:47:10.886Z"
    }
   },
   "source": [
    "The **presence per cohort filter** checks the fraction of samples in which an interaction was detected (i.e. has a non-zero value) in the control cohort and in the case cohort. To pass this filter, an interaction needs to have a greater value than the `threshold_frac_samples_per_condition` threshold either in the control cohort or in the case cohort or in both."
   ]
  },
  {
   "cell_type": "code",
   "execution_count": null,
   "metadata": {
    "ExecuteTime": {
     "end_time": "2023-01-30T17:02:34.410969Z",
     "start_time": "2023-01-30T17:02:34.345Z"
    }
   },
   "outputs": [],
   "source": [
    "threshold_frac_samples_per_condition <-  0.6\n",
    "print(\"threshold_frac_samples_per_condition >\")\n",
    "print(threshold_frac_samples_per_condition)"
   ]
  },
  {
   "cell_type": "markdown",
   "metadata": {},
   "source": [
    "The **ligand/receptor expression filter** checks the mean expression level of the ligand and the receptor of an interaction in the case and the control samples (separately). This filter uses a `threshold_log10meanexpr_per_condition` threshold.\n",
    "For each interaction four values are checked:\n",
    "- log10 mean expression of the ligand in sending cells in control samples\n",
    "- log10 mean expression of the receptor in receiving cells in control samples\n",
    "- log10 mean expression of the ligand in sending cells in case samples\n",
    "- log10 mean expression of the receptor in receiving cells in case samples.\n",
    "\n",
    "\n",
    "An interaction passes this filter if both its ligand and receptor pass the threshold either in control samples or in case samples or in both."
   ]
  },
  {
   "cell_type": "code",
   "execution_count": null,
   "metadata": {
    "ExecuteTime": {
     "end_time": "2023-01-30T17:02:35.622297Z",
     "start_time": "2023-01-30T17:02:35.585Z"
    }
   },
   "outputs": [],
   "source": [
    "threshold_log10_meanexpr_per_condition <- 0.02\n",
    "print(\"threshold_log10_meanexpr_per_condition >\")\n",
    "print(threshold_log10_meanexpr_per_condition)"
   ]
  },
  {
   "cell_type": "markdown",
   "metadata": {},
   "source": [
    "A good quality interaction should pass all filters."
   ]
  },
  {
   "cell_type": "markdown",
   "metadata": {},
   "source": [
    "The `filter_interactions` function produces one plot for the **interaction weight filter**, two plots for the **presence per cohort filter** (one for the controls and one for the cases) and two plots for the **ligand/receptor expression filter** (one for the controls and one for the cases). It writes the selected threshold values in the `thresholds` list of the interaction object and stores the filtering results as boolean vectors (one per threshold) in the `anno_interactions` list. The function does not subset the data, so if you want to change the filtering parameters, you can re-define the thresholds and re-run the `filter_interactions` function."
   ]
  },
  {
   "cell_type": "code",
   "execution_count": null,
   "metadata": {
    "ExecuteTime": {
     "end_time": "2023-01-30T17:04:48.139358Z",
     "start_time": "2023-01-30T17:04:36.863Z"
    }
   },
   "outputs": [],
   "source": [
    "print(\"filter weak interactions\")\n",
    "\n",
    "options(repr.plot.height = 10\n",
    "       ,repr.plot.width = 16)\n",
    "interactions <- filter_interactions(comm_result = interactions\n",
    "                             ,threshold_frac_samples_per_condition = threshold_frac_samples_per_condition\n",
    "                             ,threshold_log10_cum_weight = threshold_log10_cum_weight\n",
    "                             ,threshold_log10_meanexpr_per_condition = threshold_log10_meanexpr_per_condition\n",
    ")"
   ]
  },
  {
   "cell_type": "code",
   "execution_count": null,
   "metadata": {
    "ExecuteTime": {
     "end_time": "2023-01-30T17:00:54.105489Z",
     "start_time": "2023-01-30T17:00:53.962Z"
    },
    "scrolled": false
   },
   "outputs": [],
   "source": [
    "print(str(interactions$thresholds))\n",
    "print(str(interactions$anno_interactions))"
   ]
  },
  {
   "cell_type": "markdown",
   "metadata": {},
   "source": [
    "# Differential Communication"
   ]
  },
  {
   "cell_type": "markdown",
   "metadata": {},
   "source": [
    "For calculating statistically significant differential interactions between the cases and the controls, we need to define an adjusted p-value threshold and the log2 fold change threshold. "
   ]
  },
  {
   "cell_type": "code",
   "execution_count": null,
   "metadata": {
    "ExecuteTime": {
     "end_time": "2023-01-30T17:00:58.643788Z",
     "start_time": "2023-01-30T17:00:58.579Z"
    }
   },
   "outputs": [],
   "source": [
    "# Set up log2 fold change threshold. The default value is 1\n",
    "threshold_log2FC <- 1\n",
    "print(paste(\"[absolute] threshold_log2FC >\",threshold_log2FC))"
   ]
  },
  {
   "cell_type": "code",
   "execution_count": null,
   "metadata": {
    "ExecuteTime": {
     "end_time": "2023-01-30T17:00:59.264764Z",
     "start_time": "2023-01-30T17:00:59.232Z"
    }
   },
   "outputs": [],
   "source": [
    "# Set up FDR threshold. The default value is 0.1\n",
    "threshold_fdr <- 0.1\n",
    "print(paste(\"threshold_fdr <\",threshold_fdr))"
   ]
  },
  {
   "cell_type": "markdown",
   "metadata": {},
   "source": [
    "The `test_diff` function stores the thresholds in the `thresholds` list of the interactions object."
   ]
  },
  {
   "cell_type": "markdown",
   "metadata": {},
   "source": [
    "The `test_diff` function calculates a p-value for each interaction using a Wilcoxon test and adjusts for multiple testing using the FDR correction method. After that, the function checks whether the log2 fold change and the adjusted p-value thresholds were passed. An interaction is considered significant if it passes both thresholds. The `test_diff` function stores the results as a boolean vector to the `anno_interactions` list of the interactions object."
   ]
  },
  {
   "cell_type": "code",
   "execution_count": null,
   "metadata": {
    "ExecuteTime": {
     "end_time": "2023-01-30T17:01:12.474670Z",
     "start_time": "2023-01-30T17:01:00.386Z"
    }
   },
   "outputs": [],
   "source": [
    "print(\"calculate differential communication\")\n",
    "interactions <- test_diff(comm_result = interactions\n",
    "                          ,threshold_fdr = threshold_fdr\n",
    "                          ,which_test = \"t-test\"\n",
    "                          ,threshold_log2FC = threshold_log2FC\n",
    "                          \n",
    "                         )\n",
    "print(str(interactions$thresholds))\n",
    "print(str(interactions$anno_interactions))"
   ]
  },
  {
   "cell_type": "markdown",
   "metadata": {},
   "source": [
    "# Interplay of individual components"
   ]
  },
  {
   "cell_type": "markdown",
   "metadata": {},
   "source": [
    "<img src=\"../components_scheme.png\">"
   ]
  },
  {
   "cell_type": "markdown",
   "metadata": {},
   "source": [
    "We defined six components that influence the behavior of each interaction:\n",
    "- rho_s\n",
    "- phi_s_l\n",
    "- p_s_l\n",
    "- rho_r\n",
    "- phi_r_r\n",
    "- p_r_r\n",
    "\n",
    "Each of these components can be changing independently in different directions. Based on the log2FC of each of them, we will define their direction:\n",
    "\n",
    "**Direction of the log2FC per component**:\n",
    "- *log2FC_rho_s_direction\n",
    "- *log2FC_phi_s_l_direction\n",
    "- *log2FC_p_s_l_direction\n",
    "- *log2FC_rho_r_direction\n",
    "- *log2FC_phi_r_r_direction\n",
    "- *log2FC_p_r_r_direction -- can have values:\n",
    "    - 0 -- if the absolute log2FC is less than the threshold_log2FC_component, i.e. unchanged\n",
    "    - 1 -- if the log2FC is greater than the threshold_log2FC_component, i.e. upregulated\n",
    "    - -1 -- if the log2FC is less than minus threshold_log2FC_component, i.e. downregulated\n",
    "\n",
    "Depending on how they interplay, we will split them into groups showing different characteristics.\n",
    "\n",
    "First, it is important for us to know whether the components of only one of the two interacting partners are affected (either the sender or the receiver), or of both of them. To know this, we will calculate how many components were affected for each interacting partners:\n",
    "\n",
    "**List of affected components per interacting partner**\n",
    "- *components_affected_s* -- (sender) can have values:\n",
    "- *components_affected_r* -- (receiver) can have values:\n",
    "    - none\n",
    "    - p\n",
    "    - phi\n",
    "    - rho\n",
    "    - phi_p\n",
    "    - rho_p\n",
    "    - rho_phi\n",
    "    - rho_phi_p\n",
    "\n",
    "**Number of components affected per interacting partner**:\n",
    "- *nr_comp_affected_s* -- (sender) can have values: \n",
    "    - 0, 1, 2, or 3\n",
    "- *nr_comp_affected_r* -- (receiver) can have values: \n",
    "    - 0, 1, 2, or 3\n",
    "- *nr_comp_affected_b* -- (both) can have values: \n",
    "    - 0, 1, 2, 3, 4, 5, or 6\n",
    "    \n",
    "**Which counterpart is affected**:\n",
    "- *sender_or_receiver_affected* can have values:\n",
    "    - none -- if nr component sender is = 0 and nr component receiver is = 0\n",
    "    - sender -- if nr component sender is > 0 and nr component receiver is = 0\n",
    "    - receiver -- if nr component sender is = 0 and nr component receiver is > 0\n",
    "    - both -- if nr component sender is > 0 and nr component receiver is > 0\n",
    "    \n",
    "**Direction of the affected components per interacting partner**\n",
    "- *direction_s* -- (sender) can have values:\n",
    "- *direction_r* -- (receiver) can have values:\n",
    "- *direction_b* -- (both) can have values:\n",
    "    - none -- if zero components affected\n",
    "    - up -- if >0 components affected in the same direction (upregulated)\n",
    "    - down -- if >0 components affected in the same direction (downregulated)\n",
    "    - both -- if >1 components affected in the opposite direction\n",
    "    \n",
    "If several components are affected, it is important to see, if the direction of the change is the same, such that the overall change is concordant, or it is opposite, such that the overall change is discordant.\n",
    "\n",
    "**Concordance of direction of affected components per interacting partner**\n",
    "- *concordance_s* -- (sender) can have values:\n",
    "- *concordance_r* -- (receiver) can have values:\n",
    "    - undefined -- if zero or one component is affected, i.e. not enough components to talk about concordance\n",
    "    - concordant -- if several components are affected in the same direction\n",
    "    - discordant -- if several components are affected in opposite directions\n",
    "- *concordance_b* -- (both) can have values:\n",
    "    - undefined -- if zero or one component is affected, i.e. not enough components to talk about concordance\n",
    "    - concordant -- if several components are affected in the same direction\n",
    "    - discordant -- if:\n",
    "         - both concordance_s and concordance_r have one component changed each, but their direction is opposite\n",
    "         - both concordance_s and concordance_r have several components changed each are both concordant, but their direction is opposite\n",
    "         - either concordance_s or concordance_r is discordant while the other one is concordant\n",
    "         - both concordance_s and concordance_r are discordant\n",
    "\n",
    "**Interaction category**\n",
    " - *no_change* -- if log2FC of the interaction weight is did not pass the threshold_log2FC and none of the components is affected\n",
    "    \n",
    " - *simple_decrease* -- if log2FC of the interaction weight is less than minus threshold_log2FC and only one of the components is affected and is downregulated\n",
    "     \n",
    " - *simple_increase* -- if log2FC of the interaction weight is greater than the threshold_log2FC and only one of the components is affected and is upregulated\n",
    "     \n",
    " - *concordant_decrease* -- if log2FC of the interaction weight is less than minus threshold_log2FC, several components are affected and all of them are downregulated\n",
    "    \n",
    " - *concordant_increase* -- if log2FC of the interaction weight is greater than the threshold_log2FC, several components are affected and all of them are upregulated\n",
    "    \n",
    " - *insufficient_compensation* -- if log2FC of the interaction weight is passed the threshold_log2FC in either direction and several components are affected disconcordantly\n",
    "    \n",
    " - *sufficient_compensation* -- if log2FC of the interaction weight is did not pass the threshold_log2FC and several components are affected disconcordantly\n"
   ]
  },
  {
   "cell_type": "code",
   "execution_count": null,
   "metadata": {},
   "outputs": [],
   "source": [
    "# calculate interactions of the individual components\n",
    "interactions <- interaction_classes(interactions\n",
    "                   ,threshold = threshold_log2FC)\n",
    "print(str(interactions$anno_interactions))"
   ]
  },
  {
   "cell_type": "code",
   "execution_count": null,
   "metadata": {},
   "outputs": [],
   "source": [
    "# load(\"interactions.RData\")"
   ]
  },
  {
   "cell_type": "code",
   "execution_count": null,
   "metadata": {},
   "outputs": [],
   "source": [
    "write.csv(interactions$weights,paste0(output_dir,\"community_weights.csv\"))"
   ]
  },
  {
   "cell_type": "code",
   "execution_count": null,
   "metadata": {},
   "outputs": [],
   "source": [
    "write.csv(interactions$anno_interactions,paste0(output_dir,\"community_anno_interactions.csv\"))"
   ]
  },
  {
   "cell_type": "code",
   "execution_count": null,
   "metadata": {
    "ExecuteTime": {
     "end_time": "2023-01-17T13:52:39.649713Z",
     "start_time": "2023-01-17T13:52:39.258Z"
    }
   },
   "outputs": [],
   "source": [
    "print(\"save interactions.RData\")\n",
    "save(interactions, file = paste0(output_dir,\"interactions.RData\"))"
   ]
  },
  {
   "cell_type": "code",
   "execution_count": null,
   "metadata": {},
   "outputs": [],
   "source": []
  }
 ],
 "metadata": {
  "kernelspec": {
   "display_name": "R",
   "language": "R",
   "name": "ir"
  },
  "language_info": {
   "codemirror_mode": "r",
   "file_extension": ".r",
   "mimetype": "text/x-r-source",
   "name": "R",
   "pygments_lexer": "r",
   "version": "4.1.2"
  },
  "toc": {
   "base_numbering": 1,
   "nav_menu": {},
   "number_sections": true,
   "sideBar": true,
   "skip_h1_title": false,
   "title_cell": "Table of Contents",
   "title_sidebar": "Contents",
   "toc_cell": false,
   "toc_position": {},
   "toc_section_display": true,
   "toc_window_display": false
  }
 },
 "nbformat": 4,
 "nbformat_minor": 4
}
