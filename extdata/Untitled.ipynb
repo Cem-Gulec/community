{
 "cells": [
  {
   "cell_type": "code",
   "execution_count": 24,
   "id": "a64bbd7f-46ab-4005-9a96-6f52990284ab",
   "metadata": {},
   "outputs": [],
   "source": [
    "library(nichenetr)\n",
    "library(dplyr)"
   ]
  },
  {
   "cell_type": "code",
   "execution_count": 25,
   "id": "61885c8b-6423-4a99-a229-93b00f6f8597",
   "metadata": {},
   "outputs": [],
   "source": [
    "LR_DB <- read.csv(\"LR_database.csv\")"
   ]
  },
  {
   "cell_type": "code",
   "execution_count": null,
   "id": "842fbf4f-4bbc-4aaf-bfed-9253567634f3",
   "metadata": {},
   "outputs": [],
   "source": []
  },
  {
   "cell_type": "code",
   "execution_count": 26,
   "id": "b0086051-2484-4633-8b83-1a1a11db41b8",
   "metadata": {},
   "outputs": [],
   "source": [
    "human_ligands <- LR_DB$Ligand"
   ]
  },
  {
   "cell_type": "code",
   "execution_count": 27,
   "id": "e59fca5f-f0b1-4854-a8b7-c9bbbf94f45d",
   "metadata": {},
   "outputs": [],
   "source": [
    "human_receptors <- LR_DB$Receptor"
   ]
  },
  {
   "cell_type": "code",
   "execution_count": 28,
   "id": "b48a7323-6db3-4f4e-9040-151ad92ebe76",
   "metadata": {},
   "outputs": [
    {
     "data": {
      "text/html": [
       "6941"
      ],
      "text/latex": [
       "6941"
      ],
      "text/markdown": [
       "6941"
      ],
      "text/plain": [
       "[1] 6941"
      ]
     },
     "metadata": {},
     "output_type": "display_data"
    }
   ],
   "source": [
    "length(human_ligands)"
   ]
  },
  {
   "cell_type": "code",
   "execution_count": 29,
   "id": "98ee8084-c804-42b6-81d0-a87cce416a03",
   "metadata": {},
   "outputs": [],
   "source": [
    "mouse_ligands <- human_ligands %>% convert_human_to_mouse_symbols()"
   ]
  },
  {
   "cell_type": "code",
   "execution_count": 30,
   "id": "59282bc9-f8bd-4b29-9965-194c00197229",
   "metadata": {},
   "outputs": [],
   "source": [
    "mouse_receptors <- human_receptors %>% convert_human_to_mouse_symbols()"
   ]
  },
  {
   "cell_type": "code",
   "execution_count": 31,
   "id": "ac96bdf6-5ed4-4f41-9669-c2b03dea4eba",
   "metadata": {},
   "outputs": [
    {
     "data": {
      "text/html": [
       "6941"
      ],
      "text/latex": [
       "6941"
      ],
      "text/markdown": [
       "6941"
      ],
      "text/plain": [
       "[1] 6941"
      ]
     },
     "metadata": {},
     "output_type": "display_data"
    }
   ],
   "source": [
    "length(mouse_ligands)"
   ]
  },
  {
   "cell_type": "code",
   "execution_count": 32,
   "id": "6911977f-1fec-494a-99fe-b30acc8f8208",
   "metadata": {},
   "outputs": [
    {
     "data": {
      "text/html": [
       "<style>\n",
       ".dl-inline {width: auto; margin:0; padding: 0}\n",
       ".dl-inline>dt, .dl-inline>dd {float: none; width: auto; display: inline-block}\n",
       ".dl-inline>dt::after {content: \":\\0020\"; padding-right: .5ex}\n",
       ".dl-inline>dt:not(:first-of-type) {padding-left: .5ex}\n",
       "</style><dl class=dl-inline><dt>S100A10</dt><dd>'S100a10'</dd><dt>JAG2</dt><dd>'Jag2'</dd><dt>DLL1</dt><dd>'Dll1'</dd><dt>IGF1</dt><dd>'Igf1'</dd><dt>JAG1</dt><dd>'Jag1'</dd><dt>WNT5A</dt><dd>'Wnt5a'</dd></dl>\n"
      ],
      "text/latex": [
       "\\begin{description*}\n",
       "\\item[S100A10] 'S100a10'\n",
       "\\item[JAG2] 'Jag2'\n",
       "\\item[DLL1] 'Dll1'\n",
       "\\item[IGF1] 'Igf1'\n",
       "\\item[JAG1] 'Jag1'\n",
       "\\item[WNT5A] 'Wnt5a'\n",
       "\\end{description*}\n"
      ],
      "text/markdown": [
       "S100A10\n",
       ":   'S100a10'JAG2\n",
       ":   'Jag2'DLL1\n",
       ":   'Dll1'IGF1\n",
       ":   'Igf1'JAG1\n",
       ":   'Jag1'WNT5A\n",
       ":   'Wnt5a'\n",
       "\n"
      ],
      "text/plain": [
       "  S100A10      JAG2      DLL1      IGF1      JAG1     WNT5A \n",
       "\"S100a10\"    \"Jag2\"    \"Dll1\"    \"Igf1\"    \"Jag1\"   \"Wnt5a\" "
      ]
     },
     "metadata": {},
     "output_type": "display_data"
    }
   ],
   "source": [
    "head(mouse_ligands)"
   ]
  },
  {
   "cell_type": "code",
   "execution_count": 33,
   "id": "46a851ee-f5ec-46b7-9485-fad15d9bc235",
   "metadata": {},
   "outputs": [],
   "source": [
    "LR_DB$Ligand <- mouse_ligands"
   ]
  },
  {
   "cell_type": "code",
   "execution_count": 34,
   "id": "b2ec278d-8cf0-4b86-80b2-d9150f35bd62",
   "metadata": {},
   "outputs": [],
   "source": [
    "LR_DB$Receptor <- mouse_receptors"
   ]
  },
  {
   "cell_type": "code",
   "execution_count": 48,
   "id": "147d0423-f745-4b2f-9ad4-efc901f5fa27",
   "metadata": {},
   "outputs": [
    {
     "data": {
      "text/html": [
       "300"
      ],
      "text/latex": [
       "300"
      ],
      "text/markdown": [
       "300"
      ],
      "text/plain": [
       "[1] 300"
      ]
     },
     "metadata": {},
     "output_type": "display_data"
    }
   ],
   "source": [
    "sum(is.na(LR_DB$Receptor))"
   ]
  },
  {
   "cell_type": "code",
   "execution_count": 49,
   "id": "deb7d168-d958-493f-a742-82ed395ef9fb",
   "metadata": {},
   "outputs": [
    {
     "data": {
      "text/html": [
       "499"
      ],
      "text/latex": [
       "499"
      ],
      "text/markdown": [
       "499"
      ],
      "text/plain": [
       "[1] 499"
      ]
     },
     "metadata": {},
     "output_type": "display_data"
    }
   ],
   "source": [
    "sum(is.na(LR_DB$Ligand))"
   ]
  },
  {
   "cell_type": "code",
   "execution_count": 51,
   "id": "2707037c-a37a-444f-9417-c51fd2d498bd",
   "metadata": {},
   "outputs": [
    {
     "data": {
      "text/html": [
       "64"
      ],
      "text/latex": [
       "64"
      ],
      "text/markdown": [
       "64"
      ],
      "text/plain": [
       "[1] 64"
      ]
     },
     "metadata": {},
     "output_type": "display_data"
    }
   ],
   "source": [
    "sum(is.na(LR_DB$Ligand) & is.na(LR_DB$Receptor))"
   ]
  },
  {
   "cell_type": "code",
   "execution_count": 52,
   "id": "88ba8001-a857-481f-bdde-e5d2cce0e027",
   "metadata": {},
   "outputs": [],
   "source": [
    "LR_DB_mouse <- LR_DB[!is.na(LR_DB$Receptor) | !is.na(LR_DB$Ligand),]"
   ]
  },
  {
   "cell_type": "code",
   "execution_count": 59,
   "id": "b723a2e5-dd94-467e-a9be-e4b2713ec923",
   "metadata": {},
   "outputs": [],
   "source": [
    "LR_DB_mouse <- LR_DB_mouse[ -c(1) ]"
   ]
  },
  {
   "cell_type": "code",
   "execution_count": 61,
   "id": "3462f88f-4a4e-46ba-b311-8be51b2af515",
   "metadata": {},
   "outputs": [],
   "source": [
    "LR_DB_mouse$Pair.Name <- paste(LR_DB_mouse$Ligand, LR_DB_mouse$Receptor, sep=\"_\")"
   ]
  },
  {
   "cell_type": "code",
   "execution_count": 63,
   "id": "9284fd10-baa9-49dc-86cb-021985f8ad08",
   "metadata": {},
   "outputs": [],
   "source": [
    "LR_database_mouse <- LR_DB_mouse"
   ]
  },
  {
   "cell_type": "code",
   "execution_count": 64,
   "id": "38930b3a-b84b-4545-a64f-0f622d4fa194",
   "metadata": {},
   "outputs": [],
   "source": [
    "save(LR_database_mouse, file = \"LR_database_mouse.Rda\")"
   ]
  },
  {
   "cell_type": "code",
   "execution_count": 65,
   "id": "f137c71b-b913-4ddd-a30e-c81441516854",
   "metadata": {},
   "outputs": [],
   "source": [
    "write.csv(LR_database_mouse, \"LR_database_mouse.csv\")"
   ]
  },
  {
   "cell_type": "code",
   "execution_count": null,
   "id": "13678664-6d49-4eca-9945-69bb65c1e4cf",
   "metadata": {},
   "outputs": [],
   "source": []
  }
 ],
 "metadata": {
  "kernelspec": {
   "display_name": "R",
   "language": "R",
   "name": "ir"
  },
  "language_info": {
   "codemirror_mode": "r",
   "file_extension": ".r",
   "mimetype": "text/x-r-source",
   "name": "R",
   "pygments_lexer": "r",
   "version": "4.1.2"
  }
 },
 "nbformat": 4,
 "nbformat_minor": 5
}
